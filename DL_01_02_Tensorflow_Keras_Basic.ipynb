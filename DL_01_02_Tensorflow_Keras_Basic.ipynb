{
  "nbformat": 4,
  "nbformat_minor": 0,
  "metadata": {
    "colab": {
      "name": "DL_01_02_Tensorflow_Keras_Basic.ipynb",
      "provenance": [],
      "collapsed_sections": [],
      "toc_visible": true,
      "include_colab_link": true
    },
    "kernelspec": {
      "name": "python3",
      "display_name": "Python 3"
    }
  },
  "cells": [
    {
      "cell_type": "markdown",
      "metadata": {
        "id": "view-in-github",
        "colab_type": "text"
      },
      "source": [
        "<a href=\"https://colab.research.google.com/github/skyworld19/ds-school-advanced/blob/master/DL_01_02_Tensorflow_Keras_Basic.ipynb\" target=\"_parent\"><img src=\"https://colab.research.google.com/assets/colab-badge.svg\" alt=\"Open In Colab\"/></a>"
      ]
    },
    {
      "cell_type": "markdown",
      "metadata": {
        "id": "JKUCMNoHhLCr"
      },
      "source": [
        "## ML 1-2. Tensorflow & Keras 기초"
      ]
    },
    {
      "cell_type": "code",
      "metadata": {
        "id": "Zo57lZngqhZ_"
      },
      "source": [
        "import tensorflow as tf"
      ],
      "execution_count": null,
      "outputs": []
    },
    {
      "cell_type": "code",
      "metadata": {
        "id": "J0RrLgjK0T3x",
        "colab": {
          "base_uri": "https://localhost:8080/"
        },
        "outputId": "97aebf7a-8720-4e46-8f20-b90974627395"
      },
      "source": [
        "# Tensorㅣ 상태가 없는 변경 불가 객체(Immutable stateless object) \n",
        "# 변경되지 않는 상수를 가지는 경우도 stateless object 라고 함\n",
        "t1 = tf.convert_to_tensor([1,2,3,4,5], dtype=tf.int32)\n",
        "type(t1)"
      ],
      "execution_count": null,
      "outputs": [
        {
          "output_type": "execute_result",
          "data": {
            "text/plain": [
              "tensorflow.python.framework.ops.EagerTensor"
            ]
          },
          "metadata": {
            "tags": []
          },
          "execution_count": 25
        }
      ]
    },
    {
      "cell_type": "code",
      "metadata": {
        "id": "x4vLzS0dqmN7"
      },
      "source": [
        "t1[1] = 10  # assignment 할수 없음\n",
        "# TypeError: 'tensorflow.python.framework.ops.EagerTensor' object does not support item assignment"
      ],
      "execution_count": null,
      "outputs": []
    },
    {
      "cell_type": "code",
      "metadata": {
        "colab": {
          "base_uri": "https://localhost:8080/"
        },
        "id": "CXaH8ryN1YCa",
        "outputId": "3b539ea6-9779-499b-ffb0-337577335f61"
      },
      "source": [
        "# tf.Variable 객체는 assign(), assign_sub() 등과 같은 메서드를 사용해 값을 변경할 수 있는 텐서입니다.\n",
        "# https://www.tensorflow.org/guide/variable?hl=ko\n",
        "t2 = tf.Variable([1,2,3,4,5])\n",
        "type(t2)"
      ],
      "execution_count": null,
      "outputs": [
        {
          "output_type": "execute_result",
          "data": {
            "text/plain": [
              "tensorflow.python.ops.resource_variable_ops.ResourceVariable"
            ]
          },
          "metadata": {
            "tags": []
          },
          "execution_count": 27
        }
      ]
    },
    {
      "cell_type": "code",
      "metadata": {
        "id": "aKV1aOsWqrCT"
      },
      "source": [
        "t2[0] = 10   # assignment 할수 없음\n",
        "# TypeError: 'ResourceVariable' object does not support item assignment"
      ],
      "execution_count": null,
      "outputs": []
    },
    {
      "cell_type": "code",
      "metadata": {
        "colab": {
          "base_uri": "https://localhost:8080/"
        },
        "id": "axLVu7AKoawT",
        "outputId": "213ad007-5946-414c-a534-86623af0e58d"
      },
      "source": [
        "# tensor변수는 assign() 등의 메서드를 통해서만 값을 변경해야 한다.\n",
        "t2[0].assign(10)\n",
        "t2"
      ],
      "execution_count": null,
      "outputs": [
        {
          "output_type": "execute_result",
          "data": {
            "text/plain": [
              "<tf.Variable 'Variable:0' shape=(5,) dtype=int32, numpy=array([10,  2,  3,  4,  5], dtype=int32)>"
            ]
          },
          "metadata": {
            "tags": []
          },
          "execution_count": 29
        }
      ]
    },
    {
      "cell_type": "code",
      "metadata": {
        "id": "Fh2FxRgq6Lny"
      },
      "source": [
        "# Tensor는 assign 메서드 없음 (변경 불가!)\n",
        "t1[0].assign(10)"
      ],
      "execution_count": null,
      "outputs": []
    },
    {
      "cell_type": "code",
      "metadata": {
        "colab": {
          "base_uri": "https://localhost:8080/"
        },
        "id": "pPInBwx2pXA2",
        "outputId": "f6a08944-4b9d-40e6-d893-8b1cd4aa3a2b"
      },
      "source": [
        "t3 = tf.Variable(3)\n",
        "print(type(t3), t3)\n",
        "t3 = 5  # t3라는 이름이 정수 int 객체를 참조하게 된다.  tf.Variable 아님\n",
        "print(type(t3), t3)"
      ],
      "execution_count": null,
      "outputs": [
        {
          "output_type": "stream",
          "text": [
            "<class 'tensorflow.python.ops.resource_variable_ops.ResourceVariable'> <tf.Variable 'Variable:0' shape=() dtype=int32, numpy=3>\n",
            "<class 'int'> 5\n"
          ],
          "name": "stdout"
        }
      ]
    },
    {
      "cell_type": "markdown",
      "metadata": {
        "id": "4CRT9DrhdAMU"
      },
      "source": [
        "## 0.Deep Learning Framework\n",
        "- Deep Learning 구현을 할 수 있도록 도와주는 Software\n",
        "- 종류 : TensorFlow, PyTorch, Keras, Caffe/Caffe2, Theano, MXNET, CNTK, ... 등\n",
        "- **TensorFlow** \n",
        "  - Open source software library\n",
        "  - Originally developed by Google Brain Team\n",
        "  - Gmail, Google 포토, 음성 인식에서 사용되는 프레임워크\n",
        "  - 무료, 신뢰성 및 구글의 지원\n",
        "  - 딥러닝을 구현하기 훨씬 쉬워짐\n",
        "  - Python, JavaScript, C++, Java, Go, C#, Haskell, Julia, MATLAB, Ruby, Rust, Scala programming languages을 사용하여 TensorFlow 코드 작성 가능\n",
        "  - 개발자를 위한 광범위한 문서\n"
      ]
    },
    {
      "cell_type": "markdown",
      "metadata": {
        "id": "miyhtmoGkbrG"
      },
      "source": [
        "## 1.Tensorflow Basic - Tensorflow API\n",
        "- https://www.tensorflow.org/api_docs/python/tf?hl=ko\n",
        "- https://www.tensorflow.org/api_docs/python/tf/all_symbols\n",
        "- Tensorflow 2.4 (한국어) : https://runebook.dev/ko/docs/tensorflow/"
      ]
    },
    {
      "cell_type": "code",
      "metadata": {
        "id": "dmzOZyQiYgEl",
        "colab": {
          "base_uri": "https://localhost:8080/",
          "height": 36
        },
        "outputId": "0e9ac6c9-fd89-4d4d-b4c0-41aa948c86b5"
      },
      "source": [
        "import tensorflow as tf\n",
        "tf.__version__"
      ],
      "execution_count": null,
      "outputs": [
        {
          "output_type": "execute_result",
          "data": {
            "application/vnd.google.colaboratory.intrinsic+json": {
              "type": "string"
            },
            "text/plain": [
              "'2.6.0'"
            ]
          },
          "metadata": {},
          "execution_count": 1
        }
      ]
    },
    {
      "cell_type": "markdown",
      "metadata": {
        "id": "Li1vDKUxhQUv"
      },
      "source": [
        "### 1-01. Tensor Object\n",
        "- tf.Tensor\n",
        "  - shape\n",
        "  - dtype\n",
        "  - name\n",
        "  - device : tensor가 생성될 장치 이름\n",
        "  - op : tensor를 출력으로 생성하는 tf.Operation, Error in eagar mode\n",
        "  - graph : tenser를 포함하는 tf.Graph, Error in eagar mode\n",
        "  - eval(feed_dict, session) : 노드를 평가(실행), Error in eagar mode\n",
        "- 다차원 배열\n",
        "- Tensorflow 모든 연산은 자동으로 Python Native Type을 Tensor로 변환\n",
        "  - 명시적 변환 : tf.convert_to_tensor(value, dtype, dtype_hit, name)"
      ]
    },
    {
      "cell_type": "code",
      "metadata": {
        "colab": {
          "base_uri": "https://localhost:8080/",
          "height": 111
        },
        "id": "pNu6hMyHjCWT",
        "outputId": "3db7c636-3e22-4de8-8f7d-a61e1df01c41"
      },
      "source": [
        "import tensorflow as tf\n",
        "\n",
        "t1 = tf.convert_to_tensor(1)\n",
        "t2 = tf.convert_to_tensor(2)\n",
        "\n",
        "ret1 = tf.add(t1, t2)\n",
        "display(t1, t2, ret1)\n",
        "display(ret1.shape, ret1.dtype)"
      ],
      "execution_count": null,
      "outputs": [
        {
          "output_type": "display_data",
          "data": {
            "text/plain": [
              "<tf.Tensor: shape=(), dtype=int32, numpy=1>"
            ]
          },
          "metadata": {}
        },
        {
          "output_type": "display_data",
          "data": {
            "text/plain": [
              "<tf.Tensor: shape=(), dtype=int32, numpy=2>"
            ]
          },
          "metadata": {}
        },
        {
          "output_type": "display_data",
          "data": {
            "text/plain": [
              "<tf.Tensor: shape=(), dtype=int32, numpy=3>"
            ]
          },
          "metadata": {}
        },
        {
          "output_type": "display_data",
          "data": {
            "text/plain": [
              "TensorShape([])"
            ]
          },
          "metadata": {}
        },
        {
          "output_type": "display_data",
          "data": {
            "text/plain": [
              "tf.int32"
            ]
          },
          "metadata": {}
        }
      ]
    },
    {
      "cell_type": "code",
      "metadata": {
        "colab": {
          "base_uri": "https://localhost:8080/",
          "height": 55
        },
        "id": "BRzsPDIl68Yg",
        "outputId": "cb019279-3bc2-45b8-f6ce-8eb873685556"
      },
      "source": [
        "# Tensorflow 모든 연산은 자동으로 Python Native Type을 Tensor로 변환\n",
        "ret2 = tf.add(1, 2)\n",
        "display(ret2.shape, ret2.dtype)"
      ],
      "execution_count": null,
      "outputs": [
        {
          "output_type": "display_data",
          "data": {
            "text/plain": [
              "TensorShape([])"
            ]
          },
          "metadata": {}
        },
        {
          "output_type": "display_data",
          "data": {
            "text/plain": [
              "tf.int32"
            ]
          },
          "metadata": {}
        }
      ]
    },
    {
      "cell_type": "code",
      "metadata": {
        "id": "1WsETn6Lp2wj"
      },
      "source": [
        "[[1, 2], [3, 4]]\n",
        "[[1, 1], [1, 1]]\n",
        "[[2, 3], [4, 5]]"
      ],
      "execution_count": null,
      "outputs": []
    },
    {
      "cell_type": "code",
      "metadata": {
        "colab": {
          "base_uri": "https://localhost:8080/"
        },
        "id": "Au8Rhhy5kKWV",
        "outputId": "c92449d2-cbc3-49b0-f1d8-a55bb9b8bea0"
      },
      "source": [
        "# broadcasting\n",
        "# [[1, 1], [1, 1]]  # broadcasting되어 element-wise 동작이 될 수 있음\n",
        "# [[1, 2], [3, 4]]\n",
        "ret2 = tf.add([[1, 2], [3, 4]], 1)\n",
        "print(ret2)"
      ],
      "execution_count": null,
      "outputs": [
        {
          "output_type": "stream",
          "name": "stdout",
          "text": [
            "tf.Tensor(\n",
            "[[2 3]\n",
            " [4 5]], shape=(2, 2), dtype=int32)\n"
          ]
        }
      ]
    },
    {
      "cell_type": "code",
      "metadata": {
        "id": "Yk24V9mgt_XB"
      },
      "source": [
        "# Tensor와 numpy의 차이점, Tensor는 값 변경을 할 수 없다\n",
        "ret2[0][0] = 100"
      ],
      "execution_count": null,
      "outputs": []
    },
    {
      "cell_type": "code",
      "metadata": {
        "colab": {
          "base_uri": "https://localhost:8080/",
          "height": 92
        },
        "id": "xXgJkESDqM-X",
        "outputId": "9e6b6b56-7d9d-4040-d8cb-3a283860c59e"
      },
      "source": [
        "display(ret1, ret2)"
      ],
      "execution_count": null,
      "outputs": [
        {
          "output_type": "display_data",
          "data": {
            "text/plain": [
              "<tf.Tensor: shape=(), dtype=int32, numpy=3>"
            ]
          },
          "metadata": {}
        },
        {
          "output_type": "display_data",
          "data": {
            "text/plain": [
              "<tf.Tensor: shape=(2, 2), dtype=int32, numpy=\n",
              "array([[2, 3],\n",
              "       [4, 5]], dtype=int32)>"
            ]
          },
          "metadata": {}
        }
      ]
    },
    {
      "cell_type": "code",
      "metadata": {
        "colab": {
          "base_uri": "https://localhost:8080/"
        },
        "id": "UMKYw9Enoy2o",
        "outputId": "26ed20a8-3c18-4b65-fa08-50b25f05755c"
      },
      "source": [
        "# broadcasting\n",
        "# [[3, 3], [3, 3]]  # broadcasting되어 element-wise 동작이 될 수 있음\n",
        "# [[2, 3], [4, 5]]\n",
        "print(ret1 * ret2)"
      ],
      "execution_count": null,
      "outputs": [
        {
          "output_type": "stream",
          "text": [
            "tf.Tensor(\n",
            "[[ 6  9]\n",
            " [12 15]], shape=(2, 2), dtype=int32)\n"
          ],
          "name": "stdout"
        }
      ]
    },
    {
      "cell_type": "code",
      "metadata": {
        "colab": {
          "base_uri": "https://localhost:8080/",
          "height": 55
        },
        "id": "dc2zWKnUFVUR",
        "outputId": "c31ff640-143d-4b12-db21-a6d071719fb6"
      },
      "source": [
        "# 형변환\n",
        "t3 = tf.convert_to_tensor(range(1, 10, 2), tf.float32)\n",
        "t4 = tf.cast(t3, tf.int32)\n",
        "display(t3, t4)"
      ],
      "execution_count": null,
      "outputs": [
        {
          "output_type": "display_data",
          "data": {
            "text/plain": [
              "<tf.Tensor: shape=(5,), dtype=float32, numpy=array([1., 3., 5., 7., 9.], dtype=float32)>"
            ]
          },
          "metadata": {
            "tags": []
          }
        },
        {
          "output_type": "display_data",
          "data": {
            "text/plain": [
              "<tf.Tensor: shape=(5,), dtype=int32, numpy=array([1, 3, 5, 7, 9], dtype=int32)>"
            ]
          },
          "metadata": {
            "tags": []
          }
        }
      ]
    },
    {
      "cell_type": "code",
      "metadata": {
        "colab": {
          "base_uri": "https://localhost:8080/"
        },
        "id": "hKz0gSq1o8ho",
        "outputId": "a839d3c5-e4a6-4e2f-a77b-63d9c2dc6dfa"
      },
      "source": [
        "# 형변환\n",
        "t5 = tf.convert_to_tensor([1.8, 2.2])\n",
        "print(t5)\n",
        "t6 = tf.cast(t5, tf.int32)\n",
        "print(t6)"
      ],
      "execution_count": null,
      "outputs": [
        {
          "output_type": "stream",
          "text": [
            "tf.Tensor([1.8 2.2], shape=(2,), dtype=float32)\n",
            "tf.Tensor([1 2], shape=(2,), dtype=int32)\n"
          ],
          "name": "stdout"
        }
      ]
    },
    {
      "cell_type": "code",
      "metadata": {
        "colab": {
          "base_uri": "https://localhost:8080/",
          "height": 123
        },
        "id": "7IsIGJvDF_Bx",
        "outputId": "58b90a45-1d91-4ff9-9460-0ac01d2ac293"
      },
      "source": [
        "# Numpy 호환성\n",
        "import numpy as np\n",
        "t7 = tf.convert_to_tensor(np.array([1, 2, 3, 4]))\n",
        "t8 = tf.convert_to_tensor(np.array([2, 3, 4, 5]))\n",
        "res = tf.add(t7, t8)  # 덧셈\n",
        "display(t7, t8, res)\n",
        "print(type(res), res.shape, res.dtype)\n",
        "print(np.array(res), res.numpy())\n",
        "arr = np.add(res, 1)\n",
        "print(type(arr), arr)"
      ],
      "execution_count": null,
      "outputs": [
        {
          "output_type": "display_data",
          "data": {
            "text/plain": [
              "<tf.Tensor: shape=(4,), dtype=int64, numpy=array([1, 2, 3, 4])>"
            ]
          },
          "metadata": {
            "tags": []
          }
        },
        {
          "output_type": "display_data",
          "data": {
            "text/plain": [
              "<tf.Tensor: shape=(4,), dtype=int64, numpy=array([2, 3, 4, 5])>"
            ]
          },
          "metadata": {
            "tags": []
          }
        },
        {
          "output_type": "display_data",
          "data": {
            "text/plain": [
              "<tf.Tensor: shape=(4,), dtype=int64, numpy=array([3, 5, 7, 9])>"
            ]
          },
          "metadata": {
            "tags": []
          }
        },
        {
          "output_type": "stream",
          "text": [
            "<class 'tensorflow.python.framework.ops.EagerTensor'> (4,) <dtype: 'int64'>\n",
            "[3 5 7 9] [3 5 7 9]\n",
            "<class 'numpy.ndarray'> [ 4  6  8 10]\n"
          ],
          "name": "stdout"
        }
      ]
    },
    {
      "cell_type": "code",
      "metadata": {
        "colab": {
          "base_uri": "https://localhost:8080/",
          "height": 143
        },
        "id": "5rvEIzFDrytT",
        "outputId": "486c9aa2-baa0-42d8-b25e-6398829e3e76"
      },
      "source": [
        "import pandas as pd\n",
        "df = pd.DataFrame({'a':[1,3,4], 'b':[2, 3, 4]})\n",
        "df"
      ],
      "execution_count": null,
      "outputs": [
        {
          "output_type": "execute_result",
          "data": {
            "text/html": [
              "<div>\n",
              "<style scoped>\n",
              "    .dataframe tbody tr th:only-of-type {\n",
              "        vertical-align: middle;\n",
              "    }\n",
              "\n",
              "    .dataframe tbody tr th {\n",
              "        vertical-align: top;\n",
              "    }\n",
              "\n",
              "    .dataframe thead th {\n",
              "        text-align: right;\n",
              "    }\n",
              "</style>\n",
              "<table border=\"1\" class=\"dataframe\">\n",
              "  <thead>\n",
              "    <tr style=\"text-align: right;\">\n",
              "      <th></th>\n",
              "      <th>a</th>\n",
              "      <th>b</th>\n",
              "    </tr>\n",
              "  </thead>\n",
              "  <tbody>\n",
              "    <tr>\n",
              "      <th>0</th>\n",
              "      <td>1</td>\n",
              "      <td>2</td>\n",
              "    </tr>\n",
              "    <tr>\n",
              "      <th>1</th>\n",
              "      <td>3</td>\n",
              "      <td>3</td>\n",
              "    </tr>\n",
              "    <tr>\n",
              "      <th>2</th>\n",
              "      <td>4</td>\n",
              "      <td>4</td>\n",
              "    </tr>\n",
              "  </tbody>\n",
              "</table>\n",
              "</div>"
            ],
            "text/plain": [
              "   a  b\n",
              "0  1  2\n",
              "1  3  3\n",
              "2  4  4"
            ]
          },
          "metadata": {
            "tags": []
          },
          "execution_count": 9
        }
      ]
    },
    {
      "cell_type": "code",
      "metadata": {
        "colab": {
          "base_uri": "https://localhost:8080/",
          "height": 88
        },
        "id": "Vw_BuRVkr_rO",
        "outputId": "813e1ba2-18bd-4aa2-cf46-90ac9037a0b6"
      },
      "source": [
        "b = df.values\n",
        "display(type(b), b)"
      ],
      "execution_count": null,
      "outputs": [
        {
          "output_type": "display_data",
          "data": {
            "text/plain": [
              "numpy.ndarray"
            ]
          },
          "metadata": {
            "tags": []
          }
        },
        {
          "output_type": "display_data",
          "data": {
            "text/plain": [
              "array([[1, 2],\n",
              "       [3, 3],\n",
              "       [4, 4]])"
            ]
          },
          "metadata": {
            "tags": []
          }
        }
      ]
    },
    {
      "cell_type": "code",
      "metadata": {
        "colab": {
          "base_uri": "https://localhost:8080/"
        },
        "id": "Kor0GEjHsKYl",
        "outputId": "14669ee6-b6ea-4b58-c53d-3870ec28fec3"
      },
      "source": [
        "df['a'].values"
      ],
      "execution_count": null,
      "outputs": [
        {
          "output_type": "execute_result",
          "data": {
            "text/plain": [
              "array([1, 3, 4])"
            ]
          },
          "metadata": {
            "tags": []
          },
          "execution_count": 12
        }
      ]
    },
    {
      "cell_type": "code",
      "metadata": {
        "colab": {
          "base_uri": "https://localhost:8080/"
        },
        "id": "IKBmYKkIsdwD",
        "outputId": "8893e7f1-7fa8-4fff-adb1-0b45fcdf7bbb"
      },
      "source": [
        "c = df['a'].to_numpy()\n",
        "type(c), c"
      ],
      "execution_count": null,
      "outputs": [
        {
          "output_type": "execute_result",
          "data": {
            "text/plain": [
              "(numpy.ndarray, array([1, 3, 4]))"
            ]
          },
          "metadata": {
            "tags": []
          },
          "execution_count": 15
        }
      ]
    },
    {
      "cell_type": "markdown",
      "metadata": {
        "id": "_INxZCFMkXfa"
      },
      "source": [
        "### 1-02. Constant\n",
        "- 변경되지 않는 상수 값을 갖는 Tensor를 생성하는 함수\n",
        "- tf.constant(value, dtype, shape, name)\n",
        "  - value : Tensor가 갖는 값\n",
        "  - dtype = None : 데이터 타입\n",
        "  - shape = None : Tensor의 차원별 element 개수\n",
        "  - name = 'Const' : constant의 이름\n",
        "- Tensor 변환 함수를 갖는 모든 객체에 사용 가능\n",
        "- tf.convert_to_tensor()는 shape를 지정할 수 없지만 tf.constant는 shape 지정가능\n"
      ]
    },
    {
      "cell_type": "code",
      "metadata": {
        "colab": {
          "base_uri": "https://localhost:8080/",
          "height": 52
        },
        "id": "fwJAJpVvtPpr",
        "outputId": "7891f9f7-4b0d-40ef-ae58-47f83b9db214"
      },
      "source": [
        "# convert_to_tensor - shape 지정 불가능\n",
        "c = tf.convert_to_tensor(1)\n",
        "display(type(c), c)"
      ],
      "execution_count": null,
      "outputs": [
        {
          "output_type": "display_data",
          "data": {
            "text/plain": [
              "tensorflow.python.framework.ops.EagerTensor"
            ]
          },
          "metadata": {
            "tags": []
          }
        },
        {
          "output_type": "display_data",
          "data": {
            "text/plain": [
              "<tf.Tensor: shape=(), dtype=int32, numpy=1>"
            ]
          },
          "metadata": {
            "tags": []
          }
        }
      ]
    },
    {
      "cell_type": "code",
      "metadata": {
        "colab": {
          "base_uri": "https://localhost:8080/",
          "height": 52
        },
        "id": "Q3NKIfFnomXZ",
        "outputId": "1533eeea-01db-4ced-8220-1fe604a2e791"
      },
      "source": [
        "# constant - shape 지정 가능하지만 지정하지 않은 경우\n",
        "c = tf.constant(1)\n",
        "display(type(c), c)"
      ],
      "execution_count": null,
      "outputs": [
        {
          "output_type": "display_data",
          "data": {
            "text/plain": [
              "tensorflow.python.framework.ops.EagerTensor"
            ]
          },
          "metadata": {
            "tags": []
          }
        },
        {
          "output_type": "display_data",
          "data": {
            "text/plain": [
              "<tf.Tensor: shape=(), dtype=int32, numpy=1>"
            ]
          },
          "metadata": {
            "tags": []
          }
        }
      ]
    },
    {
      "cell_type": "code",
      "metadata": {
        "colab": {
          "base_uri": "https://localhost:8080/",
          "height": 52
        },
        "id": "8uZVXsZ8oJOV",
        "outputId": "6e219fae-6271-47a2-ac1f-4d3d494896f9"
      },
      "source": [
        "# constant - shape 지정한 경우\n",
        "d = tf.constant(2, shape=(3,))\n",
        "display(type(d), d)"
      ],
      "execution_count": null,
      "outputs": [
        {
          "output_type": "display_data",
          "data": {
            "text/plain": [
              "tensorflow.python.framework.ops.EagerTensor"
            ]
          },
          "metadata": {
            "tags": []
          }
        },
        {
          "output_type": "display_data",
          "data": {
            "text/plain": [
              "<tf.Tensor: shape=(3,), dtype=int32, numpy=array([2, 2, 2], dtype=int32)>"
            ]
          },
          "metadata": {
            "tags": []
          }
        }
      ]
    },
    {
      "cell_type": "code",
      "metadata": {
        "id": "KdE0lslmtndU"
      },
      "source": [
        "# TypeError: 'tensorflow.python.framework.ops.EagerTensor' object \n",
        "# does not support item assignment\n",
        "d[0] = 100"
      ],
      "execution_count": null,
      "outputs": []
    },
    {
      "cell_type": "markdown",
      "metadata": {
        "id": "pTXEMvnOGtRE"
      },
      "source": [
        "### 1-03.  TensorFlow 연산, 축약 연산자\n",
        "- tf.add(a, b) : a + b\n",
        "- tf.subtract(a, b) : a - b\n",
        "- tf.multiply(a, b) : a * b\n",
        "- tf.divide(a, b) : a / b\n",
        "- tf.pow(a, b) : a ** b\n",
        "- tf.mod() : a % b\n",
        "- tf.greater_equal() : a >= b\n",
        "- tf.greater() : a > b\n",
        "- tf.less_equal() : a <= b\n",
        "- tf.less() : a < b\n",
        "- tf.logical_and(a, b) : a & b\n",
        "- tf.logical_or(a, b) : a | b\n",
        "- tf.logical_not(a) : ~a\n",
        "- tf.abs(a) : abs(a)\n",
        "- tf.negative(a) : -a"
      ]
    },
    {
      "cell_type": "markdown",
      "metadata": {
        "id": "RsN9Ay9KIzta"
      },
      "source": [
        "### 1-04. Variable\n",
        "- Tensor는 상태가 없고 변경 불가 객체(Immutable stateless object)\n",
        "- 훈련을 통해 변경될 값(weight, bias) 필요\n",
        "- 값 변경을 위한 API 필요\n",
        "- tf.Variable(초기값)\n",
        "   - assign(새로운값)\n",
        "- 연산 후 할당 함수\n",
        "   - tf.assign_add(), tf.assign_sub()\n",
        "- GradientTape에 의해 자동 추적"
      ]
    },
    {
      "cell_type": "code",
      "metadata": {
        "colab": {
          "base_uri": "https://localhost:8080/"
        },
        "id": "Ppi_E1-zJSmM",
        "outputId": "a9b67e72-9fd3-41c7-fc5a-37c03d6be3f2"
      },
      "source": [
        "import tensorflow as tf\n",
        "\n",
        "v = tf.Variable(1, dtype=tf.float32, name='x')\n",
        "print(v)\n",
        "\n",
        "v.assign(2)\n",
        "print(v)\n",
        "\n",
        "v.assign(tf.square(v))\n",
        "print(v)\n",
        "print(v.numpy())\n",
        "\n",
        "# 연산후 할당함수\n",
        "print(v.assign_add(3))     # v = v + 3\n",
        "print(v.assign_sub(0.1))   # v = v - 0.1"
      ],
      "execution_count": null,
      "outputs": [
        {
          "output_type": "stream",
          "text": [
            "<tf.Variable 'x:0' shape=() dtype=float32, numpy=1.0>\n",
            "<tf.Variable 'x:0' shape=() dtype=float32, numpy=2.0>\n",
            "<tf.Variable 'x:0' shape=() dtype=float32, numpy=4.0>\n",
            "4.0\n",
            "<tf.Variable 'UnreadVariable' shape=() dtype=float32, numpy=7.0>\n",
            "<tf.Variable 'UnreadVariable' shape=() dtype=float32, numpy=6.9>\n"
          ],
          "name": "stdout"
        }
      ]
    },
    {
      "cell_type": "markdown",
      "metadata": {
        "id": "jq3NbACdJ-Ky"
      },
      "source": [
        "### 1-05. 난수 생성\n",
        "- 균등 분포(uniform distribution)\n",
        "  - tf.random.uniform(shape, minval=0, maxval=None) : 0 <= x < 1\n",
        "- 정규 분포(normal distribution)\n",
        "  - tf.random.normal(shape, mean=0.0, stddev=1.0) : 정규 분포\n",
        "  - tf.random.truncated_normal(shape, mean=0.0, stddev=1.0) : 절단 정규 분표 (표준편차 2이상 절단)\n",
        "  - shape : 생성하려는 난수의 개수와 형태\n",
        "  - mean : 평균, std : 표준편차"
      ]
    },
    {
      "cell_type": "code",
      "metadata": {
        "colab": {
          "base_uri": "https://localhost:8080/"
        },
        "id": "qOkKIjaDKvHu",
        "outputId": "86e9ed80-92da-49bd-d03e-9d275b001e77"
      },
      "source": [
        "x = tf.Variable(tf.random.normal([3, 3]), name='x')\n",
        "y = tf.Variable(tf.random.uniform([3, 3]), name='y')\n",
        "z = tf.Variable(tf.random.truncated_normal([3, 3]))\n",
        "print(f'x : {x}')\n",
        "print(f'y : {y}')\n",
        "print(f'z : {z}')"
      ],
      "execution_count": null,
      "outputs": [
        {
          "output_type": "stream",
          "text": [
            "x : <tf.Variable 'x:0' shape=(3, 3) dtype=float32, numpy=\n",
            "array([[-0.9573784 , -0.06427664, -1.387129  ],\n",
            "       [-0.7860296 , -1.162419  ,  2.4263391 ],\n",
            "       [ 0.46253014,  0.8814598 , -1.6338314 ]], dtype=float32)>\n",
            "y : <tf.Variable 'y:0' shape=(3, 3) dtype=float32, numpy=\n",
            "array([[0.77893615, 0.5054902 , 0.17084289],\n",
            "       [0.32193744, 0.15998924, 0.74467397],\n",
            "       [0.5396391 , 0.65021443, 0.80827487]], dtype=float32)>\n",
            "z : <tf.Variable 'Variable:0' shape=(3, 3) dtype=float32, numpy=\n",
            "array([[-0.761784  , -0.0964819 , -0.6823503 ],\n",
            "       [-0.42943835, -0.76528347,  0.59038717],\n",
            "       [ 0.13011226,  1.0797644 , -0.23772146]], dtype=float32)>\n"
          ],
          "name": "stdout"
        }
      ]
    },
    {
      "cell_type": "markdown",
      "metadata": {
        "id": "4qxm-DZjLSZp"
      },
      "source": [
        "### 1-06. 자동 미분\n",
        "- 컨텍스트 내의 모든 정방향(forward-pass) 연산을 Tape에 기록\n",
        "- 역방향 자동 미분 연산(reverse mode differentiantion) 후 폐기\n",
        "- **tf.GradientTape([persistent=True])**\n",
        "  - gradient()  : 1회용 사용\n",
        "  - persistent=True : 동일한 연산에 대해 여러 미분을 계산\n",
        "- 컨텍스트 내의 중간 값도 미분 가능\n",
        "- 연산내 추적\n",
        "  - Variable은 자동 추적\n",
        "  - constant는 tape.watch(const) 필요\n"
      ]
    },
    {
      "cell_type": "code",
      "metadata": {
        "colab": {
          "base_uri": "https://localhost:8080/",
          "height": 106
        },
        "id": "3VHgEaN-J7Hb",
        "outputId": "e41ddfdd-1f95-4bd2-92cc-0a3b2e1668a1"
      },
      "source": [
        "# 자동 미분\n",
        "\n",
        "x = tf.Variable(3.0)\n",
        "#x = tf.constant(3.0)\n",
        "\n",
        "with tf.GradientTape(persistent=True) as tape:\n",
        "    #tape.watch(x)\n",
        "    y = x ** 2 # 미분하면 : 2 * x\n",
        "    z = 2 * y  # 2 * x**2 => 4 * x\n",
        "    display(x, y, z)\n",
        "\n",
        "dy_dx = tape.gradient(y, x) \n",
        "dz_dx = tape.gradient(z, x) \n",
        "display(dy_dx, dz_dx)\n",
        "del tape"
      ],
      "execution_count": null,
      "outputs": [
        {
          "output_type": "display_data",
          "data": {
            "text/plain": [
              "<tf.Variable 'Variable:0' shape=() dtype=float32, numpy=3.0>"
            ]
          },
          "metadata": {
            "tags": []
          }
        },
        {
          "output_type": "display_data",
          "data": {
            "text/plain": [
              "<tf.Tensor: shape=(), dtype=float32, numpy=9.0>"
            ]
          },
          "metadata": {
            "tags": []
          }
        },
        {
          "output_type": "display_data",
          "data": {
            "text/plain": [
              "<tf.Tensor: shape=(), dtype=float32, numpy=18.0>"
            ]
          },
          "metadata": {
            "tags": []
          }
        },
        {
          "output_type": "display_data",
          "data": {
            "text/plain": [
              "<tf.Tensor: shape=(), dtype=float32, numpy=6.0>"
            ]
          },
          "metadata": {
            "tags": []
          }
        },
        {
          "output_type": "display_data",
          "data": {
            "text/plain": [
              "<tf.Tensor: shape=(), dtype=float32, numpy=12.0>"
            ]
          },
          "metadata": {
            "tags": []
          }
        }
      ]
    },
    {
      "cell_type": "markdown",
      "metadata": {
        "id": "xcWPPIlmtemJ"
      },
      "source": [
        "### 1-07. 그외 함수\n",
        "\n",
        "\n"
      ]
    },
    {
      "cell_type": "markdown",
      "metadata": {
        "id": "hWu4Djb4gQJj"
      },
      "source": [
        "#### 1-07-1. tf.cast\n",
        "- tf.cast(x, dtype)\n",
        "    - x의 dtype을 변경\n",
        "    - x에 조건을 주어 x > 0.5 와 같이 특정 상황에서 변경하도록 할 수 있음\n",
        "    - 조건을 줄 경우 True인 경우 1, False 인 경우 0을 의미하는 dtype의 숫자가 반환됨"
      ]
    },
    {
      "cell_type": "code",
      "metadata": {
        "colab": {
          "base_uri": "https://localhost:8080/"
        },
        "id": "uVvU0gFet8wy",
        "outputId": "165d4ef4-c49c-48a4-94eb-956c20acd86b"
      },
      "source": [
        "import tensorflow as tf\n",
        "import numpy as np\n",
        "\n",
        "x = tf.Variable(np.array([0.9, 0.5, 0.7, 0.3, 0.8]))\n",
        "y = tf.cast(x, dtype=tf.int32)\n",
        "z = tf.cast(x > 0.5, dtype=tf.int32)\n",
        "print(y.numpy(), z.numpy())"
      ],
      "execution_count": null,
      "outputs": [
        {
          "output_type": "stream",
          "text": [
            "[0 0 0 0 0] [1 0 1 0 1]\n"
          ],
          "name": "stdout"
        }
      ]
    },
    {
      "cell_type": "markdown",
      "metadata": {
        "id": "caz02IaigK2N"
      },
      "source": [
        "#### 1-07-2. tf.sigmoid\n",
        "- tf.sigmoid(x)\n",
        "  - x에 대한 sigmoid 함수 적용 값 구함\n"
      ]
    },
    {
      "cell_type": "code",
      "metadata": {
        "colab": {
          "base_uri": "https://localhost:8080/",
          "height": 265
        },
        "id": "PdVMFQP7vBPQ",
        "outputId": "f3606130-4d4f-4b39-c332-222960135ef7"
      },
      "source": [
        "import matplotlib.pyplot as plt\n",
        "\n",
        "x = np.arange(-8, 8, 0.1)\n",
        "y = tf.sigmoid(x)\n",
        "plt.plot(x, y)\n",
        "plt.grid()\n",
        "plt.show()"
      ],
      "execution_count": null,
      "outputs": [
        {
          "output_type": "display_data",
          "data": {
            "image/png": "[encoded data removed]",
            "text/plain": [
              "<Figure size 432x288 with 1 Axes>"
            ]
          },
          "metadata": {
            "tags": [],
            "needs_background": "light"
          }
        }
      ]
    },
    {
      "cell_type": "markdown",
      "metadata": {
        "id": "KDJEz2njgMUa"
      },
      "source": [
        "#### 1-07-3. tf.reduce_mean, tf.reduce_sum\n",
        "- tf.reduce_mean(x)\n",
        "   - x에 대한 평균을 구함\n",
        "   - np.mean(x)과 동일함\n",
        "- tf.reduce_sum(x)\n",
        "   - x에 대한 합을 구함\n",
        "   - np.sum(x)와 동일함"
      ]
    },
    {
      "cell_type": "code",
      "metadata": {
        "id": "cF5hbheutbRr"
      },
      "source": [
        "# reduce_mean, reduce_sum : multi-threaded, GPU 사용\n",
        "# np.mean, np.sum : single CPU에서 연산"
      ],
      "execution_count": null,
      "outputs": []
    },
    {
      "cell_type": "code",
      "metadata": {
        "colab": {
          "base_uri": "https://localhost:8080/"
        },
        "id": "gK8oCHLawueY",
        "outputId": "6ee9f091-217f-454a-9895-e709e031e2a5"
      },
      "source": [
        "import numpy as np\n",
        "\n",
        "x1 = tf.Variable(np.array([0.9, 0.5, 0.7, 0.3, 0.8]))\n",
        "y = np.mean(x1.numpy())\n",
        "z = tf.reduce_mean(x1).numpy()\n",
        "print(f'y = {y:.6f}, z = {z:.6f}')"
      ],
      "execution_count": null,
      "outputs": [
        {
          "output_type": "stream",
          "name": "stdout",
          "text": [
            "y = 0.640000, z = 0.640000\n"
          ]
        }
      ]
    },
    {
      "cell_type": "code",
      "metadata": {
        "colab": {
          "base_uri": "https://localhost:8080/"
        },
        "id": "UbUiHcahxSfv",
        "outputId": "bf80a090-40b5-4ac9-8a8d-a5e12c75837a"
      },
      "source": [
        "x2 = tf.Variable(np.array([[0.9, 0.5, 0.7], [0.3, 0.8, 0.2]]))\n",
        "y = np.mean(x2.numpy())\n",
        "z = tf.reduce_mean(x2).numpy()\n",
        "print(f'y = {y:.6f}, z = {z:.6f}')"
      ],
      "execution_count": null,
      "outputs": [
        {
          "output_type": "stream",
          "text": [
            "y = 0.566667, z = 0.566667\n"
          ],
          "name": "stdout"
        }
      ]
    },
    {
      "cell_type": "markdown",
      "metadata": {
        "id": "hTJnH2-2LEU5"
      },
      "source": [
        "#### 1-07-4. tf.squeeze\n",
        "- tf.squeeze(tensor, axis=None, name=None)\n",
        "    - 불필요 축 제거\n",
        "    - axis를 지정하지 않으면 길이가 1 인 shape을 제거\n",
        "    - axis를 지정하면 해당 축을 제거함 (목록으로 지정 가능)\n",
        "    - https://www.tensorflow.org/api_docs/python/tf/squeeze  \n"
      ]
    },
    {
      "cell_type": "code",
      "metadata": {
        "id": "Ik6o3L_SLQzy",
        "colab": {
          "base_uri": "https://localhost:8080/"
        },
        "outputId": "0090e177-a7f4-4420-8f87-015cfe16eccf"
      },
      "source": [
        "# t.shape은 Tensor의 shape을 확인할 수 있으며  shape=(2,) 는 2차원을 의미함\n",
        "import tensorflow as tf\n",
        "import numpy as np\n",
        "t = tf.convert_to_tensor(np.arange(20).reshape(1, 4, 5, 1), dtype=tf.int32)\n",
        "tf.shape(tf.squeeze(t))  # [4, 5]"
      ],
      "execution_count": null,
      "outputs": [
        {
          "output_type": "execute_result",
          "data": {
            "text/plain": [
              "<tf.Tensor: shape=(2,), dtype=int32, numpy=array([4, 5], dtype=int32)>"
            ]
          },
          "metadata": {
            "tags": []
          },
          "execution_count": 31
        }
      ]
    },
    {
      "cell_type": "code",
      "metadata": {
        "id": "t0GZdFS9LTK0",
        "colab": {
          "base_uri": "https://localhost:8080/"
        },
        "outputId": "75fe1b1c-d34d-436d-af15-647a5dc21b3a"
      },
      "source": [
        "t = tf.convert_to_tensor(np.arange(20).reshape(1, 4, 1, 5, 1, 1), dtype=tf.int32)\n",
        "tf.shape(tf.squeeze(t, [2, 4]))  "
      ],
      "execution_count": null,
      "outputs": [
        {
          "output_type": "execute_result",
          "data": {
            "text/plain": [
              "<tf.Tensor: shape=(4,), dtype=int32, numpy=array([1, 4, 5, 1], dtype=int32)>"
            ]
          },
          "metadata": {
            "tags": []
          },
          "execution_count": 43
        }
      ]
    },
    {
      "cell_type": "markdown",
      "metadata": {
        "id": "ALs8bPen2qzN"
      },
      "source": [
        "#### 1-07-5. tf.reshape\n",
        "- tf.reshape(tensor, shape, name=None)\n",
        "  - shape을 변경함\n",
        "  - shape에 새로운 shape을 지정하며, 1개의 -1을 포함할 수 있음\n",
        "  - shape에 -1를 입력하면 고정된 차원은 우선 채우고 남은 부분을 알아서 채움\n",
        "- https://www.tensorflow.org/api_docs/python/tf/reshape"
      ]
    },
    {
      "cell_type": "code",
      "metadata": {
        "colab": {
          "base_uri": "https://localhost:8080/"
        },
        "id": "1q0l8RXX3Ucg",
        "outputId": "b8940adb-9f9c-4f3d-de14-e569daeeecb9"
      },
      "source": [
        "# t.shape은 Tensor의 shape을 확인할 수 있으며  shape=(6,) 는 6차원을 의미함\n",
        "t = tf.convert_to_tensor(np.arange(20), dtype=tf.int32)\n",
        "tf.shape(tf.reshape(t, (1, 4, 1, -1, 1, 1)))"
      ],
      "execution_count": null,
      "outputs": [
        {
          "output_type": "execute_result",
          "data": {
            "text/plain": [
              "<tf.Tensor: shape=(6,), dtype=int32, numpy=array([1, 4, 1, 5, 1, 1], dtype=int32)>"
            ]
          },
          "metadata": {
            "tags": []
          },
          "execution_count": 32
        }
      ]
    },
    {
      "cell_type": "code",
      "metadata": {
        "colab": {
          "base_uri": "https://localhost:8080/"
        },
        "id": "pEn3dtkT3pcx",
        "outputId": "c8fdc673-a7e7-4fdd-ec05-b57b8a61b19c"
      },
      "source": [
        "t = tf.convert_to_tensor(np.arange(20), dtype=tf.int32)\n",
        "tf.shape(tf.reshape(t, (-1, 1)))"
      ],
      "execution_count": null,
      "outputs": [
        {
          "output_type": "execute_result",
          "data": {
            "text/plain": [
              "<tf.Tensor: shape=(2,), dtype=int32, numpy=array([20,  1], dtype=int32)>"
            ]
          },
          "metadata": {
            "tags": []
          },
          "execution_count": 33
        }
      ]
    },
    {
      "cell_type": "markdown",
      "metadata": {
        "id": "Or3aQnECRD3I"
      },
      "source": [
        "### 1-08. Neural Network Visualization\n",
        "- TensorSpace : https://tensorspace.org/index.html"
      ]
    },
    {
      "cell_type": "markdown",
      "metadata": {
        "id": "mGBLs7gsZSjk"
      },
      "source": [
        "## 2.Keras Basic - Keras API\n",
        "- https://www.tensorflow.org/api_docs/python/tf/keras?hl=ko"
      ]
    },
    {
      "cell_type": "markdown",
      "metadata": {
        "id": "KipTe4jLSwnJ"
      },
      "source": [
        "### 2-01. Optimizer\n",
        "- tf.keras.optimizers.Optimizer(learning_rate)\n",
        "  - base class, 직접 사용 불가\n",
        "  - learning_rate : 0.1 ~ 0.0001\n",
        "- SGD : 확률적 경사하강법(Stochostic Gradient Descent), 가장 기초적인 Optimizer, 조금씩 데이터를 검토한 뒤 자주 방향을 찾자  \n",
        "- Adam : gradient, learning rate를 모두 고려해서 방향을 찾자\n",
        "- Adagrad : (learning rate) 처음엔 빠르게 학습하고 나중엔 세밀하게 학습, parameter별 learning rate 최적화\n",
        "- RMSprop : (learning rate) 세밀하게 학습하되, 상황을 보며 정도를 정함\n",
        "- Adadelta : (learning rate) 세밀한 정보가 너무 작아져서 학습이 안되는 것을 막자, 차원 마다 적응적 learning_rate\n",
        "- Adamax : Max norm을 기반으로 한 Adam의 변형\n",
        "- Nadam : Nesterov 모멘텀 + Adam\n"
      ]
    },
    {
      "cell_type": "code",
      "metadata": {
        "id": "EeWf-NGsbBlb"
      },
      "source": [
        "- Momentum : Gradient를 미분한 것에 관성 개념을 도입해 덜 비틀거리면서 찾도록 하는 기법"
      ],
      "execution_count": null,
      "outputs": []
    },
    {
      "cell_type": "code",
      "metadata": {
        "id": "kjU6TpMqCKqd"
      },
      "source": [
        "# 사용예\n",
        "opt = tf.keras.optimizers.Adam(0.1)"
      ],
      "execution_count": null,
      "outputs": []
    },
    {
      "cell_type": "markdown",
      "metadata": {
        "id": "S3MhVKejCYxd"
      },
      "source": [
        "### 2-02. Layer\n",
        "- Layer Neural Network의 '하나의 Layer를 추상화'\n",
        "- tf.keras.layers.Layer(trainable, name, dtype, dynamc)\n",
        "   - 기반 클래스로 직접 사용은 불가능\n",
        "- tf.keras.layers.Dense(units, activation, use_bias, kernel_initializer, bias_initilizer, ...)\n",
        "   - 가장 일반적인 DNN의 완전 연결층\n",
        "- tf.keras.layers.RNN, LSTM, GRU\n",
        "   - 순환 네트워크, 시계열이나 시퀀스에 사용\n",
        "- tf.keras.layers.Conv2D\n",
        "   - 이미지 특징 추출 및 분류용\n",
        "- tf.keras.layers.Dropout(rate, ...)\n",
        "   - Dropout 용"
      ]
    },
    {
      "cell_type": "markdown",
      "metadata": {
        "id": "asBYU5C6ZfIo"
      },
      "source": [
        "### 2-03. Model, Sequential\n",
        "- https://www.tensorflow.org/guide/keras/sequential_model?hl=ko\n",
        "- https://www.tensorflow.org/api_docs/python/tf/keras/optimizers?hl=en\n",
        "- https://www.tensorflow.org/api_docs/python/tf/keras/losses?hl=en\n",
        "- tf.keras.Sequential(layers)\n",
        "  - tf.keras.Model 상속\n",
        "  - layers : **순서를 갖는 layer stack 생성**\n",
        "  - **add(layer) : 계층 추가**\n",
        "  - **complie(optimizer, loss, metrics, ...)** : 훈련을 위한 모델 설정\n",
        "    - optimizer : tf.keras.optimizers 내의 객체 또는 이름(str)\n",
        "    - loss : tf.keras.losses 내의 객체 또는 이름(str) \n",
        "    - metics : 훈련과 테스트 과정에서 평가에 사용할 객체\n",
        "  - **summary()** : Network의 Layer와 parameter 개수 출력\n",
        "  - history = **fit(x, y, batch_size, epochs, verbose, callbacks, validation_split, validation_data, ...)** : 모델 학습\n",
        "     - history : 학습 동안의 loss 등의 메트릭 기록 (dictionary, 기록 항목 별)\n",
        "  - **predit(x, ...)** : 예측 결과 반환     \n",
        "  - **evaluate(x, y, ...)** : 테스트 결과 반환\n",
        "  - save(filepath, ...) : 모델 파일 저장\n",
        "  - trainable_variables : 학습할 변수 목록\n",
        "- tf.keras.models.load_model(filepath) : 모델 복원"
      ]
    },
    {
      "cell_type": "code",
      "metadata": {
        "colab": {
          "base_uri": "https://localhost:8080/"
        },
        "id": "VrTBgSgP0_qF",
        "outputId": "23d31694-c034-49e3-d60a-b04e1c8dda0a"
      },
      "source": [
        "import tensorflow as tf\n",
        "\n",
        "activations = [k for k,v in tf.keras.activations.__dict__.items() if callable(v)]\n",
        "losses = [ k for k,v in tf.keras.losses.__dict__.items() if callable(v) ]\n",
        "optimizers = [k for k,v in tf.keras.optimizers.__dict__.items() if callable(v)]\n",
        "metrics = [k for k,v in tf.keras.metrics.__dict__.items() if callable(v)]\n",
        "print('activations', activations)\n",
        "print('losses', losses)\n",
        "print('optimizers', optimizers)\n",
        "print('metrics', metrics)"
      ],
      "execution_count": null,
      "outputs": [
        {
          "output_type": "stream",
          "text": [
            "activations ['deserialize', 'elu', 'exponential', 'gelu', 'get', 'hard_sigmoid', 'linear', 'relu', 'selu', 'serialize', 'sigmoid', 'softmax', 'softplus', 'softsign', 'swish', 'tanh']\n",
            "losses ['BinaryCrossentropy', 'CategoricalCrossentropy', 'CategoricalHinge', 'CosineSimilarity', 'Hinge', 'Huber', 'KLDivergence', 'LogCosh', 'Loss', 'MeanAbsoluteError', 'MeanAbsolutePercentageError', 'MeanSquaredError', 'MeanSquaredLogarithmicError', 'Poisson', 'SparseCategoricalCrossentropy', 'SquaredHinge', 'binary_crossentropy', 'categorical_crossentropy', 'categorical_hinge', 'cosine_similarity', 'deserialize', 'get', 'hinge', 'huber', 'kl_divergence', 'KLD', 'kld', 'kullback_leibler_divergence', 'log_cosh', 'logcosh', 'mean_absolute_error', 'MAE', 'mae', 'mean_absolute_percentage_error', 'MAPE', 'mape', 'mean_squared_error', 'MSE', 'mse', 'mean_squared_logarithmic_error', 'MSLE', 'msle', 'poisson', 'serialize', 'sparse_categorical_crossentropy', 'squared_hinge', 'Reduction']\n",
            "optimizers ['Adadelta', 'Adagrad', 'Adam', 'Adamax', 'Ftrl', 'SGD', 'Nadam', 'Optimizer', 'RMSprop', 'deserialize', 'get', 'serialize']\n",
            "metrics ['binary_crossentropy', 'categorical_crossentropy', 'hinge', 'kl_divergence', 'KLD', 'kld', 'kullback_leibler_divergence', 'log_cosh', 'logcosh', 'mean_absolute_error', 'MAE', 'mae', 'mean_absolute_percentage_error', 'MAPE', 'mape', 'mean_squared_error', 'MSE', 'mse', 'mean_squared_logarithmic_error', 'MSLE', 'msle', 'poisson', 'sparse_categorical_crossentropy', 'squared_hinge', 'AUC', 'Accuracy', 'BinaryAccuracy', 'BinaryCrossentropy', 'CategoricalAccuracy', 'CategoricalCrossentropy', 'CategoricalHinge', 'CosineSimilarity', 'FalseNegatives', 'FalsePositives', 'Hinge', 'KLDivergence', 'LogCoshError', 'Mean', 'MeanAbsoluteError', 'MeanAbsolutePercentageError', 'MeanIoU', 'MeanRelativeError', 'MeanSquaredError', 'MeanSquaredLogarithmicError', 'MeanTensor', 'Metric', 'Poisson', 'Precision', 'PrecisionAtRecall', 'Recall', 'RecallAtPrecision', 'RootMeanSquaredError', 'SensitivityAtSpecificity', 'SparseCategoricalAccuracy', 'SparseCategoricalCrossentropy', 'SparseTopKCategoricalAccuracy', 'SpecificityAtSensitivity', 'SquaredHinge', 'Sum', 'TopKCategoricalAccuracy', 'TrueNegatives', 'TruePositives', 'binary_accuracy', 'categorical_accuracy', 'deserialize', 'get', 'serialize', 'sparse_categorical_accuracy', 'sparse_top_k_categorical_accuracy', 'top_k_categorical_accuracy']\n"
          ],
          "name": "stdout"
        }
      ]
    },
    {
      "cell_type": "markdown",
      "metadata": {
        "id": "u11vAXPZcSgc"
      },
      "source": [
        "### 2-04. Callback\n",
        "- 매 batch 마다 호출할 함수 전달\n",
        "  - model.fit(callbacks=[cb])\n",
        "- tf.keras.callbacks.Callback\n",
        "  - callback 생성을 위한 base class, 상속해서 구현\n",
        "  - on_train_batch_begin() : 훈련 배치 시작\n",
        "  - on_train_batch_end() : 훈련 배치 끝\n",
        "  - on_test_batch_begin() : 테스트 배치 시작\n",
        "  - on_test_batch_end() : 테스트 배치 끝\n",
        "- 미리 구현된 Callback 클래스들\n",
        "  - tf.keras.callbacks\n",
        "     - EarlyStopping\n",
        "     - TensorBoard\n",
        "     - ModelCheckpoint\n",
        "     "
      ]
    },
    {
      "cell_type": "markdown",
      "metadata": {
        "id": "HtBk1KHLdw9f"
      },
      "source": [
        "#### 2-04-1.  EarlyStopping Callback\n",
        "- EarlyStopping(monitor, patience)\n",
        "   - 관찰하는 값(metric)이 개선되지 않을 때 훈련 종료\n",
        "   - 과적합 방지 기법\n",
        "   - monitor : 관찰 대상 값 이름\n",
        "   - min_delta : 개선 된 값으로 간주할 최소한의 변화 값\n",
        "   - patience : 개선이 없으면 훈련을 종료할 epoch 횟수"
      ]
    },
    {
      "cell_type": "markdown",
      "metadata": {
        "id": "NawjOV7Ve-oP"
      },
      "source": [
        "### 2-05. Dropout\n",
        "- Overfitting 방지 기법\n",
        "- 학습하는 동안 무작위로 학습에서 노드 제외\n",
        "- tf.keras.layers.Dropout(rate)\n",
        "   - rate : 0.0 ~ 1.0,  (0.5 이하 추천)\n",
        "\n",
        "   ![image.png](data:image/png;base64,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)"
      ]
    },
    {
      "cell_type": "markdown",
      "metadata": {
        "id": "cIAQ8cjOq_0q"
      },
      "source": [
        "### 2-05. Convolution\n",
        "- https://www.tensorflow.org/api_docs/python/tf/keras/layers/Conv2D\n",
        "- conv = tf.keras.layers.Conv2D(filters, kernel_size, strides, padding, ... activation, ... kernel_initializer, ... input_shape,...)\n",
        "  - filters : 커널 개수\n",
        "  - kernel_size : 정수 또는 튜플, 커널 크기\n",
        "  - strides=(1,1) : 정수 또는 튜플, 커널 이동 간격, 2D\n",
        "  - padding : 출력 보간 방법\n",
        "     - Convolution 연산 후 생기는 외곽 영역 공백 채우기 기법\n",
        "     - \"SAME\" : 출력 크기를 입력 크기와 같게되도록 채우기\n",
        "     - \"VALID\" : 보간 없음\n",
        "  - activation : 활성화 함수\n",
        "  - kernel_initializer : 커널 생성 \n",
        "     - shape of kernel : (height, width, in_channel, out_channel) \n",
        "  - input_shape : 입력 shape (height, width, channel)\n",
        "- conved = conv(input) \n",
        "1. input : 입력 tensor\n",
        "  - shape of input : (batch, height, width, channel)\n",
        "  - shape : (N, H, W, C)\n",
        "     - N : number of images(samples)\n",
        "     - H : Height of the image\n",
        "     - W : Width of the image\n",
        "     - C : Channel(Color) count of the image\n",
        "  - shape length : 1, 2, 4\n",
        "     - 1 : (n) : (1, n, n, 1)\n",
        "     - 2 : (n, m) : (1, n, m, 1)\n",
        "     - 4 : (n, h, w, c)  \n",
        "2. conved : convolution의 결과 tensor\n",
        "  - shape of conved : (batch, height, width, filters)\n",
        "  - shape : (N, H, W, F)\n",
        "     - N : number of images(samples)\n",
        "     - H : Height of the image\n",
        "     - W : Width of the image\n",
        "     - F : Filter count      "
      ]
    },
    {
      "cell_type": "markdown",
      "metadata": {
        "id": "bJmEVYmV32XF"
      },
      "source": [
        "### 2-06. MaxPooling\n",
        "- https://www.tensorflow.org/api_docs/python/tf/keras/layers/MaxPool2D\n",
        "- mp = tf.keras.layers.MaxPooling2D(pool_size=(2,2), strides, padding, ...)\n",
        "  - pool_size=(2,2) : window size => 2D\n",
        "  - strides : 이동 간격\n",
        "  - padding : {\"VALID\", \"SAME\"}\n",
        "- pooled = mp(input)  \n",
        "1. input : 입력 tensor\n",
        "  - shape of input : (batch, height, width, channel)\n",
        "  - shape : (N, H, W, C)\n",
        "     - N : number of images(samples)\n",
        "     - H : Height of the image\n",
        "     - W : Width of the image\n",
        "     - C : Channel(Color) count of the image\n",
        "  - shape length : 1, 2, 4\n",
        "     - 1 : (n) : (1, n, n, 1)\n",
        "     - 2 : (n, m) : (1, n, m, 1)\n",
        "     - 4 : (n, h, w, c)  \n",
        "2. pooled : pooling 결과 tensor\n",
        "  - shape of pooled : (batch, height, width, channel)\n",
        "  - shape : (N, H, W, C)\n",
        "     - N : number of images(samples)\n",
        "     - H : Height of the image after pooling\n",
        "     - W : Width of the image after pooling\n",
        "     - C : Channel(Color) count of the image\n"
      ]
    },
    {
      "cell_type": "code",
      "metadata": {
        "id": "JFaytBpHdXNP"
      },
      "source": [
        "# tf.keras.layers.AveragePooling2D"
      ],
      "execution_count": null,
      "outputs": []
    },
    {
      "cell_type": "markdown",
      "metadata": {
        "id": "ViROoX-GQzAK"
      },
      "source": [
        "### 2-07. Flatten\n",
        "- tf.keras.layers.Flatten\n",
        "  - 입력을 1차원으로 만들어서 출력 (배치 크기 무관)"
      ]
    },
    {
      "cell_type": "markdown",
      "metadata": {
        "id": "RL4q6_TaNkam"
      },
      "source": [
        "### 2-08. Dense\n",
        "- 완전연결 계층\n",
        "- tf.keras.layers.Dense(units, activation, use_bias, kernel_initializer, ...)\n",
        "    - **units : 출력 값의 크기** (output 개수), 필수, 출력 shape, 샘플 축 생략\n",
        "    - **activation : 활성화 함수**\n",
        "     - linear : 디폴트 값으로 별도 활성화 함수 없이 입력 뉴런과 가중치의 계산 결과 그대로 출력. Ex) 선형 회귀\n",
        "     - sigmoid : 시그모이드 함수. 이진 분류 문제에서 출력층에 주로 사용되는 활성화 함수.\n",
        "     - softmax : 소프트맥스 함수. 셋 이상을 분류하는 다중 클래스 분류 문제에서 출력층에 주로 사용되는 활성화 함수.\n",
        "     - relu : 렐루 함수. 은닉층에 주로 사용되는 활성화 함수\n",
        "    - use_bias : 편향(b)을 사용할지 여부\n",
        "    - kernel_initializer : 가중치(W) 초기화 함수\n",
        "    - bias_iniotializer : 편향 초기화 함수\n",
        "    - kernel_regularizer : 가중치 정규화 방법\n",
        "    - bias_regularizer : 편향 정규화 방법\n",
        "    - activity_regularizer : 출력 값 정규화 방법\n",
        "    - kernel_constraint : 가중치에 적용되는 부가적인 제약 함수\n",
        "    - bias_constraint : 편향에 적용되는 부가적인 제약 함수\n",
        "    - **input_shape : 첫 번째 층인 경우 사용**\n",
        "    - 예) Dense(32, input_shape = (784,)) : 입력 n * 784, 출력 : 32\n",
        "    - 예) Dense(10) : 입력층 생략, 이전 층의 출력의\n",
        "   갯수로 자동 지정\n"
      ]
    },
    {
      "cell_type": "markdown",
      "metadata": {
        "id": "IQcCSEG4WsQ-"
      },
      "source": [
        "### 2-09. Pre-trained Model\n",
        "- Keras Pre-trained Models : ImageNet 1000가지 class로 훈련된 모델 제공\n",
        "- https://keras.io/api/applications/\n",
        "  - Xception, VGG16, VGG19, ResNet, ResNetV2, ResNeXt, InceptionV3, InceptionResNetV2, ...\n",
        "- download : ~/.keras/model/\n",
        "   - xxx.h5 : 학습된 모델\n",
        "   - imagenet_class_index.json : Label 파일\n",
        "- Tensorflow Hub : 재사용 가능한 모델 공유\n",
        "   - https://www.tensorflow.org/hub\n",
        "   - https://tfhub.dev/ : 원하는 모델 검색\n",
        "   - 설치 : pip install tensorflow_hub"
      ]
    },
    {
      "cell_type": "markdown",
      "metadata": {
        "id": "IeznvjLx3-0V"
      },
      "source": [
        "### 2-09. SimpleRNN\n",
        "- https://www.tensorflow.org/api_docs/python/tf/keras/layers/SimpleRNN\n",
        "- 이전 타임 스텝의 출력이 다음 타임 스텝으로 공급되는 완전히 연결된 RNN\n",
        "- tf.keras.layer.SimpleRNN(units, activation='tanh', use_bias=True, ...)\n",
        "   - units : Positive integer, dimensionality of the output space.\n",
        "   - input_shape : [data size, element_size]\n",
        "   - return_sequences=False : 출력이 many인 경우 True"
      ]
    },
    {
      "cell_type": "markdown",
      "metadata": {
        "id": "f0HiEzGxOlw6"
      },
      "source": [
        "## 3.Linear Regression 예"
      ]
    },
    {
      "cell_type": "markdown",
      "metadata": {
        "id": "UCeDOiBz4R-p"
      },
      "source": [
        "### 3-01. SLP - random data, tensorflow"
      ]
    },
    {
      "cell_type": "code",
      "metadata": {
        "id": "bun1cjlAFq8z",
        "colab": {
          "base_uri": "https://localhost:8080/",
          "height": 377
        },
        "outputId": "b938d5ff-cfba-4577-ca7f-ccda7f47e120"
      },
      "source": [
        "import numpy as np\n",
        "import matplotlib.pyplot as plt\n",
        "import tensorflow as tf\n",
        "\n",
        "m = 50\n",
        "# 데이터 준비\n",
        "X = tf.constant(range(m), tf.float32)\n",
        "y = X*2 + tf.random.normal((m,)) * 10\n",
        "print(X.shape, y.shape)\n",
        "plt.plot(X, y, 'bo')\n",
        "\n",
        "# 학습 과정 - 1. W 값 초기화\n",
        "W = tf.Variable(tf.random.normal(()))\n",
        "plt.plot(X, W*X, 'b', label='init W')\n",
        "\n",
        "# 2. lr 값 설정 (hyper-parameter)\n",
        "lr = 0.0001  # learning rate\n",
        "\n",
        "# 3. 학습 횟수 설정 (Epoch = 100)\n",
        "for i in range(100):\n",
        "    # 4. 자동 미분을 위한 객체 생성\n",
        "    with tf.GradientTape() as tape:\n",
        "        h = W * X   # 5. 출력 값 구하기\n",
        "        cost = tf.keras.losses.MSE(y, h)  # 6. loss function - 오차값 구하기\n",
        "    dw = tape.gradient(cost, W)  # 7. cost, W를 사용하여 미분 값 구하기\n",
        "    W.assign(W - lr*dw)  # 8. 미분값과 learning rate의 곱을 사용하여 W 값 갱신 \n",
        "    plt.plot(X, W*X, '--')   \n",
        "    \n",
        "    if not i % 20 :\n",
        "        print(f'{i}, cost:{cost.numpy():.3f}, W:{W.numpy():.3f}')\n",
        "\n",
        "plt.plot(X, W*X, 'r-', label='final W')\n",
        "plt.legend()\n",
        "plt.show()"
      ],
      "execution_count": null,
      "outputs": [
        {
          "output_type": "stream",
          "text": [
            "(50,) (50,)\n",
            "0, cost:1186.236, W:1.027\n",
            "20, cost:71.547, W:1.983\n",
            "40, cost:70.585, W:2.011\n",
            "60, cost:70.584, W:2.012\n",
            "80, cost:70.584, W:2.012\n"
          ],
          "name": "stdout"
        },
        {
          "output_type": "display_data",
          "data": {
            "image/png": "[encoded data removed]",
            "text/plain": [
              "<Figure size 432x288 with 1 Axes>"
            ]
          },
          "metadata": {
            "tags": [],
            "needs_background": "light"
          }
        }
      ]
    },
    {
      "cell_type": "markdown",
      "metadata": {
        "id": "0B7nFw1_NOp9"
      },
      "source": [
        "### 3-02. MLP -XOR 게이트, keras"
      ]
    },
    {
      "cell_type": "code",
      "metadata": {
        "id": "b4lsot8UNO_h",
        "colab": {
          "base_uri": "https://localhost:8080/"
        },
        "outputId": "b01aec1e-f6f2-4b2c-cb93-6c95c1840e61"
      },
      "source": [
        "import tensorflow as tf\n",
        "import numpy as np\n",
        "tf.random.set_seed(777)\n",
        "\n",
        "# 변수 생성\n",
        "X = np.array([[0, 0], [0, 1], [1, 0], [1, 1]], dtype=np.float32)\n",
        "y = np.array([[0], [1], [1], [0]], dtype=np.float32)\n",
        "\n",
        "model = tf.keras.Sequential([\n",
        "    tf.keras.layers.Dense(2, activation='sigmoid', input_shape=(2,)),\n",
        "    tf.keras.layers.Dense(1, activation='sigmoid')\n",
        "])\n",
        "\n",
        "'''\n",
        "model = tf.keras.Sequential()\n",
        "model.add(tf.keras.layers.Dense(2, activation='sigmoid', input_shape=(2,)))\n",
        "model.add(tf.keras.layers.Dense(1, activation='sigmoid'))\n",
        "'''\n",
        "\n",
        "model.summary()\n",
        "model.compile(loss='mse', optimizer='adam', metrics=['binary_accuracy'])\n",
        "#model.compile(loss='binary_crossentropy', optimizer='adam', metrics=['accuracy'])\n",
        "model.fit(X, y, epochs=5000, verbose=0)\n",
        "model.evaluate(X, y)\n",
        "model.predict(X)"
      ],
      "execution_count": null,
      "outputs": [
        {
          "output_type": "stream",
          "name": "stdout",
          "text": [
            "Model: \"sequential\"\n",
            "_________________________________________________________________\n",
            "Layer (type)                 Output Shape              Param #   \n",
            "=================================================================\n",
            "dense (Dense)                (None, 2)                 6         \n",
            "_________________________________________________________________\n",
            "dense_1 (Dense)              (None, 1)                 3         \n",
            "=================================================================\n",
            "Total params: 9\n",
            "Trainable params: 9\n",
            "Non-trainable params: 0\n",
            "_________________________________________________________________\n",
            "1/1 [==============================] - 0s 113ms/step - loss: 0.0137 - binary_accuracy: 1.0000\n"
          ]
        },
        {
          "output_type": "execute_result",
          "data": {
            "text/plain": [
              "array([[0.1284399 ],\n",
              "       [0.8932273 ],\n",
              "       [0.87179345],\n",
              "       [0.10289845]], dtype=float32)"
            ]
          },
          "metadata": {},
          "execution_count": 1
        }
      ]
    },
    {
      "cell_type": "markdown",
      "metadata": {
        "id": "IOmvHZAjDSgi"
      },
      "source": [
        "### 3-03. 보스톤 주택 - keras"
      ]
    },
    {
      "cell_type": "code",
      "metadata": {
        "id": "k71LQrdAYy7v",
        "colab": {
          "base_uri": "https://localhost:8080/"
        },
        "outputId": "e01b7148-7342-42d7-92b9-13feeca14f84"
      },
      "source": [
        "import tensorflow as tf\n",
        "from tensorflow.keras.datasets import boston_housing\n",
        "from tensorflow.keras import models, layers\n",
        "from sklearn.preprocessing import StandardScaler, PolynomialFeatures\n",
        "import numpy as np\n",
        "\n",
        "\n",
        "tf.random.set_seed(0)\n",
        "np.random.seed(0)\n",
        "boston = boston_housing.load_data()\n",
        "\n",
        "(X_train, y_train), (X_test, y_test) = boston\n",
        "print(X_train.shape, X_test.shape)\n"
      ],
      "execution_count": null,
      "outputs": [
        {
          "output_type": "stream",
          "text": [
            "Downloading data from https://storage.googleapis.com/tensorflow/tf-keras-datasets/boston_housing.npz\n",
            "57344/57026 [==============================] - 0s 0us/step\n",
            "(404, 13) (102, 13)\n"
          ],
          "name": "stdout"
        }
      ]
    },
    {
      "cell_type": "code",
      "metadata": {
        "colab": {
          "base_uri": "https://localhost:8080/"
        },
        "id": "IFzzB3wgLsaV",
        "outputId": "bbe8c3a4-a798-4e64-b94f-762c0476f322"
      },
      "source": [
        "print(type(boston), len(boston), type(boston[0]), len(boston[0]))"
      ],
      "execution_count": null,
      "outputs": [
        {
          "output_type": "stream",
          "text": [
            "<class 'tuple'> 2 <class 'tuple'> 2\n"
          ],
          "name": "stdout"
        }
      ]
    },
    {
      "cell_type": "code",
      "metadata": {
        "id": "t38aOcp6LvnS"
      },
      "source": [
        "# X 데이터에 대해서만 스케일링\n",
        "scaler = StandardScaler()\n",
        "X_train = scaler.fit_transform(X_train)\n",
        "X_test =  scaler.transform(X_test)"
      ],
      "execution_count": null,
      "outputs": []
    },
    {
      "cell_type": "code",
      "metadata": {
        "id": "ecmx20vC4i7p",
        "colab": {
          "base_uri": "https://localhost:8080/"
        },
        "outputId": "c0c6e228-5133-4c23-e75a-d013dc68244a"
      },
      "source": [
        "model = models.Sequential()\n",
        "model.add(layers.Dense(64, activation='relu',\n",
        "                       input_shape=(X_train.shape[1],), \n",
        "                       kernel_regularizer=tf.keras.regularizers.l2(0.001)))\n",
        "model.add(layers.Dropout(0.3))\n",
        "model.add(layers.Dense(64, activation='relu', \n",
        "                       kernel_regularizer=tf.keras.regularizers.l2(0.001)))\n",
        "model.add(layers.Dense(1) )\n",
        "model.compile(optimizer='adam', loss='mse', metrics=['mae'])\n",
        "\n",
        "history = model.fit(X_train, y_train ,epochs=50, batch_size=50, validation_split=0.2)\n",
        "print(\"Train eval:\", model.evaluate(X_train, y_train, batch_size=y_train.shape[0]))\n",
        "print(\"Test  eval:\", model.evaluate(X_test, y_test, batch_size=y_test.shape[0]))"
      ],
      "execution_count": null,
      "outputs": [
        {
          "output_type": "stream",
          "text": [
            "Epoch 1/50\n",
            "7/7 [==============================] - 1s 30ms/step - loss: 566.9521 - mae: 21.9321 - val_loss: 617.3007 - val_mae: 23.0348\n",
            "Epoch 2/50\n",
            "7/7 [==============================] - 0s 6ms/step - loss: 535.4629 - mae: 21.1567 - val_loss: 583.7407 - val_mae: 22.2868\n",
            "Epoch 3/50\n",
            "7/7 [==============================] - 0s 6ms/step - loss: 501.1243 - mae: 20.3477 - val_loss: 547.7255 - val_mae: 21.4566\n",
            "Epoch 4/50\n",
            "7/7 [==============================] - 0s 7ms/step - loss: 465.8719 - mae: 19.4791 - val_loss: 506.0410 - val_mae: 20.4734\n",
            "Epoch 5/50\n",
            "7/7 [==============================] - 0s 6ms/step - loss: 423.1851 - mae: 18.3637 - val_loss: 457.4452 - val_mae: 19.3116\n",
            "Epoch 6/50\n",
            "7/7 [==============================] - 0s 8ms/step - loss: 378.5412 - mae: 17.1707 - val_loss: 401.6810 - val_mae: 17.8806\n",
            "Epoch 7/50\n",
            "7/7 [==============================] - 0s 5ms/step - loss: 318.8985 - mae: 15.5110 - val_loss: 338.5996 - val_mae: 16.1417\n",
            "Epoch 8/50\n",
            "7/7 [==============================] - 0s 6ms/step - loss: 261.5297 - mae: 13.8779 - val_loss: 271.8754 - val_mae: 14.1750\n",
            "Epoch 9/50\n",
            "7/7 [==============================] - 0s 5ms/step - loss: 206.7473 - mae: 12.1036 - val_loss: 207.7704 - val_mae: 11.9919\n",
            "Epoch 10/50\n",
            "7/7 [==============================] - 0s 6ms/step - loss: 156.5233 - mae: 10.2674 - val_loss: 152.7890 - val_mae: 9.8616\n",
            "Epoch 11/50\n",
            "7/7 [==============================] - 0s 5ms/step - loss: 107.3515 - mae: 8.4033 - val_loss: 113.0159 - val_mae: 8.3162\n",
            "Epoch 12/50\n",
            "7/7 [==============================] - 0s 6ms/step - loss: 86.0116 - mae: 7.3560 - val_loss: 88.8144 - val_mae: 7.3684\n",
            "Epoch 13/50\n",
            "7/7 [==============================] - 0s 6ms/step - loss: 73.4278 - mae: 6.7476 - val_loss: 74.0628 - val_mae: 6.6922\n",
            "Epoch 14/50\n",
            "7/7 [==============================] - 0s 7ms/step - loss: 67.9695 - mae: 6.5116 - val_loss: 63.1202 - val_mae: 6.1585\n",
            "Epoch 15/50\n",
            "7/7 [==============================] - 0s 6ms/step - loss: 59.5743 - mae: 5.7483 - val_loss: 54.2534 - val_mae: 5.6827\n",
            "Epoch 16/50\n",
            "7/7 [==============================] - 0s 6ms/step - loss: 51.7688 - mae: 5.3256 - val_loss: 47.1530 - val_mae: 5.2720\n",
            "Epoch 17/50\n",
            "7/7 [==============================] - 0s 7ms/step - loss: 42.4850 - mae: 4.9099 - val_loss: 41.7514 - val_mae: 4.9108\n",
            "Epoch 18/50\n",
            "7/7 [==============================] - 0s 6ms/step - loss: 43.8145 - mae: 4.9491 - val_loss: 37.4390 - val_mae: 4.6258\n",
            "Epoch 19/50\n",
            "7/7 [==============================] - 0s 6ms/step - loss: 37.1616 - mae: 4.4981 - val_loss: 34.0220 - val_mae: 4.3941\n",
            "Epoch 20/50\n",
            "7/7 [==============================] - 0s 6ms/step - loss: 38.5417 - mae: 4.4571 - val_loss: 31.6335 - val_mae: 4.2223\n",
            "Epoch 21/50\n",
            "7/7 [==============================] - 0s 6ms/step - loss: 33.2944 - mae: 4.2475 - val_loss: 29.6150 - val_mae: 4.0789\n",
            "Epoch 22/50\n",
            "7/7 [==============================] - 0s 6ms/step - loss: 32.1831 - mae: 4.1470 - val_loss: 28.3986 - val_mae: 3.9641\n",
            "Epoch 23/50\n",
            "7/7 [==============================] - 0s 6ms/step - loss: 34.2181 - mae: 4.2591 - val_loss: 27.2298 - val_mae: 3.8886\n",
            "Epoch 24/50\n",
            "7/7 [==============================] - 0s 5ms/step - loss: 28.9521 - mae: 4.0304 - val_loss: 26.3145 - val_mae: 3.8318\n",
            "Epoch 25/50\n",
            "7/7 [==============================] - 0s 6ms/step - loss: 32.5211 - mae: 4.1221 - val_loss: 25.3855 - val_mae: 3.8000\n",
            "Epoch 26/50\n",
            "7/7 [==============================] - 0s 8ms/step - loss: 33.8811 - mae: 4.1360 - val_loss: 24.6333 - val_mae: 3.7781\n",
            "Epoch 27/50\n",
            "7/7 [==============================] - 0s 5ms/step - loss: 28.2692 - mae: 3.9429 - val_loss: 23.9437 - val_mae: 3.7312\n",
            "Epoch 28/50\n",
            "7/7 [==============================] - 0s 6ms/step - loss: 25.4347 - mae: 3.8390 - val_loss: 23.3053 - val_mae: 3.6596\n",
            "Epoch 29/50\n",
            "7/7 [==============================] - 0s 6ms/step - loss: 28.1043 - mae: 3.9309 - val_loss: 22.8280 - val_mae: 3.6290\n",
            "Epoch 30/50\n",
            "7/7 [==============================] - 0s 6ms/step - loss: 27.5645 - mae: 3.8033 - val_loss: 22.3620 - val_mae: 3.5944\n",
            "Epoch 31/50\n",
            "7/7 [==============================] - 0s 5ms/step - loss: 24.9534 - mae: 3.5583 - val_loss: 21.9651 - val_mae: 3.5551\n",
            "Epoch 32/50\n",
            "7/7 [==============================] - 0s 6ms/step - loss: 27.3944 - mae: 3.8270 - val_loss: 21.6266 - val_mae: 3.5168\n",
            "Epoch 33/50\n",
            "7/7 [==============================] - 0s 5ms/step - loss: 27.0685 - mae: 3.6727 - val_loss: 21.4268 - val_mae: 3.4999\n",
            "Epoch 34/50\n",
            "7/7 [==============================] - 0s 7ms/step - loss: 24.8094 - mae: 3.7659 - val_loss: 21.0917 - val_mae: 3.4788\n",
            "Epoch 35/50\n",
            "7/7 [==============================] - 0s 6ms/step - loss: 22.9865 - mae: 3.6277 - val_loss: 20.7518 - val_mae: 3.4719\n",
            "Epoch 36/50\n",
            "7/7 [==============================] - 0s 5ms/step - loss: 25.1455 - mae: 3.7934 - val_loss: 20.4045 - val_mae: 3.4463\n",
            "Epoch 37/50\n",
            "7/7 [==============================] - 0s 5ms/step - loss: 30.3884 - mae: 3.9817 - val_loss: 20.1035 - val_mae: 3.3850\n",
            "Epoch 38/50\n",
            "7/7 [==============================] - 0s 5ms/step - loss: 27.8723 - mae: 3.9082 - val_loss: 19.8550 - val_mae: 3.3801\n",
            "Epoch 39/50\n",
            "7/7 [==============================] - 0s 6ms/step - loss: 24.6604 - mae: 3.7013 - val_loss: 19.5499 - val_mae: 3.3385\n",
            "Epoch 40/50\n",
            "7/7 [==============================] - 0s 5ms/step - loss: 24.0933 - mae: 3.5449 - val_loss: 19.2369 - val_mae: 3.2846\n",
            "Epoch 41/50\n",
            "7/7 [==============================] - 0s 6ms/step - loss: 24.1406 - mae: 3.5890 - val_loss: 18.9848 - val_mae: 3.2612\n",
            "Epoch 42/50\n",
            "7/7 [==============================] - 0s 6ms/step - loss: 22.7812 - mae: 3.5174 - val_loss: 18.6857 - val_mae: 3.2470\n",
            "Epoch 43/50\n",
            "7/7 [==============================] - 0s 5ms/step - loss: 23.3218 - mae: 3.6355 - val_loss: 18.4913 - val_mae: 3.2340\n",
            "Epoch 44/50\n",
            "7/7 [==============================] - 0s 5ms/step - loss: 21.2036 - mae: 3.4185 - val_loss: 18.3931 - val_mae: 3.2263\n",
            "Epoch 45/50\n",
            "7/7 [==============================] - 0s 6ms/step - loss: 23.1228 - mae: 3.5599 - val_loss: 18.2313 - val_mae: 3.2008\n",
            "Epoch 46/50\n",
            "7/7 [==============================] - 0s 5ms/step - loss: 22.4155 - mae: 3.5310 - val_loss: 18.1208 - val_mae: 3.1534\n",
            "Epoch 47/50\n",
            "7/7 [==============================] - 0s 5ms/step - loss: 24.0342 - mae: 3.6118 - val_loss: 17.9229 - val_mae: 3.1287\n",
            "Epoch 48/50\n",
            "7/7 [==============================] - 0s 6ms/step - loss: 20.4023 - mae: 3.3213 - val_loss: 17.6552 - val_mae: 3.1030\n",
            "Epoch 49/50\n",
            "7/7 [==============================] - 0s 6ms/step - loss: 21.8930 - mae: 3.4677 - val_loss: 17.4824 - val_mae: 3.0955\n",
            "Epoch 50/50\n",
            "7/7 [==============================] - 0s 5ms/step - loss: 20.1970 - mae: 3.3417 - val_loss: 17.2891 - val_mae: 3.0905\n",
            "1/1 [==============================] - 0s 115ms/step - loss: 13.5441 - mae: 2.6012\n",
            "Train eval: [13.544095993041992, 2.6012470722198486]\n",
            "1/1 [==============================] - 0s 122ms/step - loss: 22.8588 - mae: 3.4614\n",
            "Test  eval: [22.85877227783203, 3.4613916873931885]\n"
          ],
          "name": "stdout"
        }
      ]
    },
    {
      "cell_type": "code",
      "metadata": {
        "id": "V8spwlqoY3Yo",
        "colab": {
          "base_uri": "https://localhost:8080/"
        },
        "outputId": "c8668d78-466c-484b-bcf2-c24b5e3d1d5c"
      },
      "source": [
        "from sklearn.metrics import r2_score\n",
        "\n",
        "print(\"Train R2:\", r2_score(y_train, model.predict(X_train)))\n",
        "print(\"Test R2:\", r2_score(y_test, model.predict(X_test)))\n",
        "\n",
        "model.predict(X_test).shape"
      ],
      "execution_count": null,
      "outputs": [
        {
          "output_type": "stream",
          "text": [
            "Train R2: 0.8413755906997207\n",
            "Test R2: 0.7268526748842838\n"
          ],
          "name": "stdout"
        },
        {
          "output_type": "execute_result",
          "data": {
            "text/plain": [
              "(102, 1)"
            ]
          },
          "metadata": {
            "tags": []
          },
          "execution_count": 19
        }
      ]
    },
    {
      "cell_type": "markdown",
      "metadata": {
        "id": "jbD5z96RsdUL"
      },
      "source": [
        "- $\\alpha$ aplha\n",
        "- $\\beta$ beta\n",
        "- $\\gamma$ gamma\n",
        "- $\\delta$ delta\n",
        "- $\\epsilon$ epsilon\n",
        "- $\\zeta$ zeta\n",
        "- $\\eta$ eta\n",
        "- $\\theta$ theta\n",
        "- $\\kappa$ kappa\n",
        "- $\\lambda$ lambda\n",
        "- $\\mu$ mu\n",
        "- $\\nu$ nu\n",
        "- $\\xi$ xi\n",
        "- $\\pi$ pi\n",
        "- $\\rho$ rho\n",
        "- $\\tau$ tau\n",
        "- $\\phi$ phi\n",
        "- $\\chi$ chi\n",
        "- $\\psi$ psi\n",
        "- $\\omega$ omega\n",
        "- $2^2$\n",
        "- $L_1$\n",
        "- $sum$\n",
        "\n"
      ]
    },
    {
      "cell_type": "code",
      "metadata": {
        "id": "J6gG48kLsclD"
      },
      "source": [
        ""
      ],
      "execution_count": null,
      "outputs": []
    }
  ]
}