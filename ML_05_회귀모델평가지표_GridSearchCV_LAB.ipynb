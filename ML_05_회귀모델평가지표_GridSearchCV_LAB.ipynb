{
  "nbformat": 4,
  "nbformat_minor": 5,
  "metadata": {
    "kernelspec": {
      "display_name": "Python 3",
      "language": "python",
      "name": "python3"
    },
    "language_info": {
      "codemirror_mode": {
        "name": "ipython",
        "version": 3
      },
      "file_extension": ".py",
      "mimetype": "text/x-python",
      "name": "python",
      "nbconvert_exporter": "python",
      "pygments_lexer": "ipython3",
      "version": "3.8.3"
    },
    "colab": {
      "name": "ML_05_회귀모델평가지표_GridSearchCV_LAB.ipynb",
      "provenance": [],
      "collapsed_sections": [],
      "include_colab_link": true
    }
  },
  "cells": [
    {
      "cell_type": "markdown",
      "metadata": {
        "id": "view-in-github",
        "colab_type": "text"
      },
      "source": [
        "<a href=\"https://colab.research.google.com/github/skyworld19/ds-school-advanced/blob/master/ML_05_%ED%9A%8C%EA%B7%80%EB%AA%A8%EB%8D%B8%ED%8F%89%EA%B0%80%EC%A7%80%ED%91%9C_GridSearchCV_LAB.ipynb\" target=\"_parent\"><img src=\"https://colab.research.google.com/assets/colab-badge.svg\" alt=\"Open In Colab\"/></a>"
      ]
    },
    {
      "cell_type": "markdown",
      "metadata": {
        "id": "5edAGbvV1EOP"
      },
      "source": [
        "### 보스톤 데이터 - Ridge"
      ],
      "id": "5edAGbvV1EOP"
    },
    {
      "cell_type": "code",
      "metadata": {
        "id": "3zhLyd561EOS"
      },
      "source": [
        "# 라이브러리 import\n",
        "import pandas as pd\n",
        "from sklearn.datasets import load_boston\n",
        "from sklearn.preprocessing import PolynomialFeatures\n",
        "from sklearn.preprocessing import MinMaxScaler\n",
        "from sklearn.model_selection import train_test_split\n",
        "from sklearn.linear_model import Ridge"
      ],
      "id": "3zhLyd561EOS",
      "execution_count": null,
      "outputs": []
    },
    {
      "cell_type": "code",
      "metadata": {
        "id": "f73kGJoR1EOU",
        "outputId": "4b0267a2-9a11-4bd6-c123-858f751ca32e"
      },
      "source": [
        "# 데이터 가져오기\n",
        "boston = load_boston()\n",
        "X = boston['data']\n",
        "y = boston['target']\n",
        "feature_names = boston['feature_names']\n",
        "df = pd.DataFrame(X, columns=feature_names)\n",
        "df['PRICE'] = y\n",
        "df.head(5)"
      ],
      "id": "f73kGJoR1EOU",
      "execution_count": null,
      "outputs": [
        {
          "data": {
            "text/html": [
              "<div>\n",
              "<style scoped>\n",
              "    .dataframe tbody tr th:only-of-type {\n",
              "        vertical-align: middle;\n",
              "    }\n",
              "\n",
              "    .dataframe tbody tr th {\n",
              "        vertical-align: top;\n",
              "    }\n",
              "\n",
              "    .dataframe thead th {\n",
              "        text-align: right;\n",
              "    }\n",
              "</style>\n",
              "<table border=\"1\" class=\"dataframe\">\n",
              "  <thead>\n",
              "    <tr style=\"text-align: right;\">\n",
              "      <th></th>\n",
              "      <th>CRIM</th>\n",
              "      <th>ZN</th>\n",
              "      <th>INDUS</th>\n",
              "      <th>CHAS</th>\n",
              "      <th>NOX</th>\n",
              "      <th>RM</th>\n",
              "      <th>AGE</th>\n",
              "      <th>DIS</th>\n",
              "      <th>RAD</th>\n",
              "      <th>TAX</th>\n",
              "      <th>PTRATIO</th>\n",
              "      <th>B</th>\n",
              "      <th>LSTAT</th>\n",
              "      <th>PRICE</th>\n",
              "    </tr>\n",
              "  </thead>\n",
              "  <tbody>\n",
              "    <tr>\n",
              "      <th>0</th>\n",
              "      <td>0.00632</td>\n",
              "      <td>18.0</td>\n",
              "      <td>2.31</td>\n",
              "      <td>0.0</td>\n",
              "      <td>0.538</td>\n",
              "      <td>6.575</td>\n",
              "      <td>65.2</td>\n",
              "      <td>4.0900</td>\n",
              "      <td>1.0</td>\n",
              "      <td>296.0</td>\n",
              "      <td>15.3</td>\n",
              "      <td>396.90</td>\n",
              "      <td>4.98</td>\n",
              "      <td>24.0</td>\n",
              "    </tr>\n",
              "    <tr>\n",
              "      <th>1</th>\n",
              "      <td>0.02731</td>\n",
              "      <td>0.0</td>\n",
              "      <td>7.07</td>\n",
              "      <td>0.0</td>\n",
              "      <td>0.469</td>\n",
              "      <td>6.421</td>\n",
              "      <td>78.9</td>\n",
              "      <td>4.9671</td>\n",
              "      <td>2.0</td>\n",
              "      <td>242.0</td>\n",
              "      <td>17.8</td>\n",
              "      <td>396.90</td>\n",
              "      <td>9.14</td>\n",
              "      <td>21.6</td>\n",
              "    </tr>\n",
              "    <tr>\n",
              "      <th>2</th>\n",
              "      <td>0.02729</td>\n",
              "      <td>0.0</td>\n",
              "      <td>7.07</td>\n",
              "      <td>0.0</td>\n",
              "      <td>0.469</td>\n",
              "      <td>7.185</td>\n",
              "      <td>61.1</td>\n",
              "      <td>4.9671</td>\n",
              "      <td>2.0</td>\n",
              "      <td>242.0</td>\n",
              "      <td>17.8</td>\n",
              "      <td>392.83</td>\n",
              "      <td>4.03</td>\n",
              "      <td>34.7</td>\n",
              "    </tr>\n",
              "    <tr>\n",
              "      <th>3</th>\n",
              "      <td>0.03237</td>\n",
              "      <td>0.0</td>\n",
              "      <td>2.18</td>\n",
              "      <td>0.0</td>\n",
              "      <td>0.458</td>\n",
              "      <td>6.998</td>\n",
              "      <td>45.8</td>\n",
              "      <td>6.0622</td>\n",
              "      <td>3.0</td>\n",
              "      <td>222.0</td>\n",
              "      <td>18.7</td>\n",
              "      <td>394.63</td>\n",
              "      <td>2.94</td>\n",
              "      <td>33.4</td>\n",
              "    </tr>\n",
              "    <tr>\n",
              "      <th>4</th>\n",
              "      <td>0.06905</td>\n",
              "      <td>0.0</td>\n",
              "      <td>2.18</td>\n",
              "      <td>0.0</td>\n",
              "      <td>0.458</td>\n",
              "      <td>7.147</td>\n",
              "      <td>54.2</td>\n",
              "      <td>6.0622</td>\n",
              "      <td>3.0</td>\n",
              "      <td>222.0</td>\n",
              "      <td>18.7</td>\n",
              "      <td>396.90</td>\n",
              "      <td>5.33</td>\n",
              "      <td>36.2</td>\n",
              "    </tr>\n",
              "  </tbody>\n",
              "</table>\n",
              "</div>"
            ],
            "text/plain": [
              "      CRIM    ZN  INDUS  CHAS    NOX     RM   AGE     DIS  RAD    TAX  \\\n",
              "0  0.00632  18.0   2.31   0.0  0.538  6.575  65.2  4.0900  1.0  296.0   \n",
              "1  0.02731   0.0   7.07   0.0  0.469  6.421  78.9  4.9671  2.0  242.0   \n",
              "2  0.02729   0.0   7.07   0.0  0.469  7.185  61.1  4.9671  2.0  242.0   \n",
              "3  0.03237   0.0   2.18   0.0  0.458  6.998  45.8  6.0622  3.0  222.0   \n",
              "4  0.06905   0.0   2.18   0.0  0.458  7.147  54.2  6.0622  3.0  222.0   \n",
              "\n",
              "   PTRATIO       B  LSTAT  PRICE  \n",
              "0     15.3  396.90   4.98   24.0  \n",
              "1     17.8  396.90   9.14   21.6  \n",
              "2     17.8  392.83   4.03   34.7  \n",
              "3     18.7  394.63   2.94   33.4  \n",
              "4     18.7  396.90   5.33   36.2  "
            ]
          },
          "execution_count": 10,
          "metadata": {},
          "output_type": "execute_result"
        }
      ]
    },
    {
      "cell_type": "code",
      "metadata": {
        "id": "odAXdr7L1EOV",
        "outputId": "63683760-8761-42e5-a111-c58526a6a5c6"
      },
      "source": [
        "# 데이터 전처리, 분할\n",
        "X = df.loc[:, 'CRIM':'LSTAT']\n",
        "y = df.loc[:, 'PRICE']\n",
        "degree = 3\n",
        "x_scaled = MinMaxScaler().fit_transform(X)\n",
        "P = PolynomialFeatures(degree=degree, include_bias=False)\n",
        "x_poly = P.fit_transform(x_scaled)\n",
        "x_train, x_test, y_train, y_test = train_test_split(x_poly, y, random_state=0)\n",
        "[a.shape for a in (x_train, x_test, y_train, y_test)]"
      ],
      "id": "odAXdr7L1EOV",
      "execution_count": null,
      "outputs": [
        {
          "data": {
            "text/plain": [
              "[(379, 559), (127, 559), (379,), (127,)]"
            ]
          },
          "execution_count": 14,
          "metadata": {},
          "output_type": "execute_result"
        }
      ]
    },
    {
      "cell_type": "code",
      "metadata": {
        "id": "zN7pLAdD1EOW",
        "outputId": "4c83e5c5-27bd-46f2-c03e-4fe339f1768e"
      },
      "source": [
        "# 모델링, 평가\n",
        "alpha=0.1\n",
        "model = Ridge(alpha=alpha).fit(x_train, y_train)\n",
        "model.score(x_train, y_train), model.score(x_test, y_test)"
      ],
      "id": "zN7pLAdD1EOW",
      "execution_count": null,
      "outputs": [
        {
          "data": {
            "text/plain": [
              "(0.953715539703465, 0.790557043211049)"
            ]
          },
          "execution_count": 67,
          "metadata": {},
          "output_type": "execute_result"
        }
      ]
    },
    {
      "cell_type": "markdown",
      "metadata": {
        "id": "628mH4xc1EOW"
      },
      "source": [
        "### $R^2$ score\n",
        "- ```model.score(X, y)```\n",
        "- ```sklearn.metrics.r2_score(y_true, y_pred)```"
      ],
      "id": "628mH4xc1EOW"
    },
    {
      "cell_type": "code",
      "metadata": {
        "id": "CBD7GDef1EOX",
        "outputId": "33a092c6-0b1f-4332-fdda-ea5fdcca188f"
      },
      "source": [
        "from sklearn.metrics import r2_score\n"
      ],
      "id": "CBD7GDef1EOX",
      "execution_count": null,
      "outputs": [
        {
          "name": "stdout",
          "output_type": "stream",
          "text": [
            "0.790557043211049\n",
            "0.790557043211049\n"
          ]
        }
      ]
    },
    {
      "cell_type": "markdown",
      "metadata": {
        "id": "6YPE5LIt1EOY"
      },
      "source": [
        "### MAE(Mean Absolute Error)\n",
        "```sklearn.metrics.mean_absolute_error(y_true, y_pred)```"
      ],
      "id": "6YPE5LIt1EOY"
    },
    {
      "cell_type": "code",
      "metadata": {
        "id": "w6fF8cDu1EOZ",
        "outputId": "70001b06-f080-4ebe-d7c9-2d6503baa03a"
      },
      "source": [
        "from sklearn.metrics import mean_absolute_error as mae\n"
      ],
      "id": "w6fF8cDu1EOZ",
      "execution_count": null,
      "outputs": [
        {
          "name": "stdout",
          "output_type": "stream",
          "text": [
            "2.741918941725662\n"
          ]
        }
      ]
    },
    {
      "cell_type": "markdown",
      "metadata": {
        "id": "w4SOKPM31EOb"
      },
      "source": [
        "### MSE(Mean Squared Error)\n",
        "```sklearn.metrics.mean_squared_error(y_true, y_pred)```"
      ],
      "id": "w4SOKPM31EOb"
    },
    {
      "cell_type": "code",
      "metadata": {
        "id": "wgSDhY1g1EOb",
        "outputId": "f845144b-8d5d-4e13-f1f6-16e708cf83b4"
      },
      "source": [
        "from sklearn.metrics import mean_squared_error as mse\n"
      ],
      "id": "wgSDhY1g1EOb",
      "execution_count": null,
      "outputs": [
        {
          "name": "stdout",
          "output_type": "stream",
          "text": [
            "17.111283360087334\n"
          ]
        }
      ]
    },
    {
      "cell_type": "markdown",
      "metadata": {
        "id": "ydxbkeI71EOc"
      },
      "source": [
        "### RMSE(Root Mean Squared Error)\n",
        "- sklearn API에 없음\n",
        "- MSE에 math.sqrt() 를 사용함"
      ],
      "id": "ydxbkeI71EOc"
    },
    {
      "cell_type": "code",
      "metadata": {
        "id": "WO2nHCzK1EOd",
        "outputId": "ea1340f1-6aa4-43a8-ac90-e8a57153bf11"
      },
      "source": [
        "from sklearn.metrics import mean_squared_error as mse\n",
        "import math\n"
      ],
      "id": "WO2nHCzK1EOd",
      "execution_count": null,
      "outputs": [
        {
          "name": "stdout",
          "output_type": "stream",
          "text": [
            "4.136578702271641\n"
          ]
        }
      ]
    },
    {
      "cell_type": "markdown",
      "metadata": {
        "id": "PdSqnHx71EOe"
      },
      "source": [
        "### GridSearchCV를 사용한 hyperparameter 찾기\n",
        "- https://scikit-learn.org/stable/modules/generated/sklearn.model_selection.GridSearchCV.html\n",
        "- https://scikit-learn.org/stable/modules/model_evaluation.html#scoring-parameter"
      ],
      "id": "PdSqnHx71EOe"
    },
    {
      "cell_type": "code",
      "metadata": {
        "id": "r_w3-JM-1EOe"
      },
      "source": [
        "import pandas as pd\n",
        "import numpy as np\n",
        "from sklearn.datasets import load_boston\n",
        "from sklearn.preprocessing import PolynomialFeatures\n",
        "from sklearn.preprocessing import MinMaxScaler\n",
        "from sklearn.model_selection import train_test_split\n",
        "from sklearn.linear_model import Ridge\n",
        "from  sklearn.model_selection import GridSearchCV"
      ],
      "id": "r_w3-JM-1EOe",
      "execution_count": null,
      "outputs": []
    },
    {
      "cell_type": "code",
      "metadata": {
        "id": "G4IOJ3oI1EOe"
      },
      "source": [
        "# 데이터 가져오기\n",
        "boston = load_boston()\n",
        "X = boston['data']\n",
        "y = boston['target']\n",
        "feature_names = boston['feature_names']\n",
        "df = pd.DataFrame(X, columns=feature_names)\n",
        "df['PRICE'] = y\n",
        "df.to_csv('boston.csv', index=False)"
      ],
      "id": "G4IOJ3oI1EOe",
      "execution_count": null,
      "outputs": []
    },
    {
      "cell_type": "code",
      "metadata": {
        "id": "ivr_Y78X1IzA"
      },
      "source": [
        "## 데이터 섞어 주기\n",
        "from sklearn.utils import shuffle\n",
        "df = pd.read_csv('boston.csv')\n",
        "dfA = df.sample(frac=1, random_state=0) \n",
        "dfB = shuffle(df, random_state=0)"
      ],
      "id": "ivr_Y78X1IzA",
      "execution_count": null,
      "outputs": []
    },
    {
      "cell_type": "code",
      "metadata": {
        "id": "0yDpaRZz1EOe"
      },
      "source": [
        "# 데이터 전처리, 분할\n",
        "df = pd.read_csv('boston.csv')\n",
        "df = df.sample(frac=1, random_state=0)  ## 데이터 섞어 주기\n",
        "X = df.loc[:, 'CRIM':'LSTAT']\n",
        "y = df.loc[:, 'PRICE']\n",
        "\n",
        "degree = 3\n",
        "scaler = MinMaxScaler()\n",
        "x_scaled = scaler.fit_transform(X)\n",
        "P = PolynomialFeatures(degree=degree, include_bias=False)\n",
        "x_poly = P.fit_transform(x_scaled)"
      ],
      "id": "0yDpaRZz1EOe",
      "execution_count": null,
      "outputs": []
    },
    {
      "cell_type": "code",
      "metadata": {
        "id": "O0LDlqSN1EOf"
      },
      "source": [
        "# 모델 생성\n",
        "model =    # hyper parameter를 넣지 않음"
      ],
      "id": "O0LDlqSN1EOf",
      "execution_count": null,
      "outputs": []
    },
    {
      "cell_type": "code",
      "metadata": {
        "id": "uchBA_w71EOf"
      },
      "source": [
        "# 파라미터를 딕셔너리 형태로 제공 (Key값 틀리면 ValueError 발생)\n",
        "alphas = [0.1, 0.2, 0.3, 1, 10]\n",
        "params = "
      ],
      "id": "uchBA_w71EOf",
      "execution_count": null,
      "outputs": []
    },
    {
      "cell_type": "code",
      "metadata": {
        "id": "oNjg5TJA1EOf"
      },
      "source": [
        "#param_grid의 하이퍼 파라미터를  3개의 train, testset fold로 나누어 테스트 수행 설정\n",
        "#refit=True : 가장 좋은 파라미터 설정으로 재 학습시킴\n",
        "grid_model = \n",
        "\n",
        "\n",
        "#GridSearchCV 결과를 추출해 보기 편하게 DataFrame으로 변환\n",
        "gm_df = pd.DataFrame(grid_model.cv_results_)\n",
        "gm_df[['params','mean_test_score','rank_test_score',\n",
        "       'split0_test_score','split1_test_score','split2_test_score']]"
      ],
      "id": "oNjg5TJA1EOf",
      "execution_count": null,
      "outputs": []
    },
    {
      "cell_type": "code",
      "metadata": {
        "id": "CBrNdacG1EOf",
        "outputId": "bf119502-7774-47f9-9d93-c94a3d31f8a2"
      },
      "source": [
        "gm_df.columns"
      ],
      "id": "CBrNdacG1EOf",
      "execution_count": null,
      "outputs": [
        {
          "data": {
            "text/plain": [
              "Index(['mean_fit_time', 'std_fit_time', 'mean_score_time', 'std_score_time',\n",
              "       'param_alpha', 'params', 'split0_test_score', 'split1_test_score',\n",
              "       'split2_test_score', 'mean_test_score', 'std_test_score',\n",
              "       'rank_test_score'],\n",
              "      dtype='object')"
            ]
          },
          "execution_count": 58,
          "metadata": {},
          "output_type": "execute_result"
        }
      ]
    },
    {
      "cell_type": "code",
      "metadata": {
        "id": "QWPEzgBC1EOg"
      },
      "source": [
        "## 최적 파라미터, 최고 정확도 표출\n",
        "print('GridSearchCV의 최적 파라미터 {}'.format(grid_model.best_params_))\n",
        "print('GridSearchCV의 최고 정확도 {:.4f}'.format(grid_model.best_score_))"
      ],
      "id": "QWPEzgBC1EOg",
      "execution_count": null,
      "outputs": []
    },
    {
      "cell_type": "code",
      "metadata": {
        "id": "YBHakv6V1EOg"
      },
      "source": [
        "#최적의 Estimator를 이용하여 평가, 정확도 추측\n",
        "from sklearn.metrics import r2_score\n",
        "estimator = grid_model.best_estimator_\n",
        "#값 예측 \n",
        "pred = estimator.predict(x_test)\n",
        "print('테스트 정확도 : {:.4f}'.format(r2_score(y_test, pred)))"
      ],
      "id": "YBHakv6V1EOg",
      "execution_count": null,
      "outputs": []
    }
  ]
}