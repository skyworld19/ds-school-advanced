{
  "nbformat": 4,
  "nbformat_minor": 5,
  "metadata": {
    "kernelspec": {
      "display_name": "Python 3",
      "language": "python",
      "name": "python3"
    },
    "language_info": {
      "codemirror_mode": {
        "name": "ipython",
        "version": 3
      },
      "file_extension": ".py",
      "mimetype": "text/x-python",
      "name": "python",
      "nbconvert_exporter": "python",
      "pygments_lexer": "ipython3",
      "version": "3.8.3"
    },
    "colab": {
      "name": "ML_05_회귀모델평가지표_GridSearchCV_LAB.ipynb",
      "provenance": [],
      "collapsed_sections": [],
      "include_colab_link": true
    }
  },
  "cells": [
    {
      "cell_type": "markdown",
      "metadata": {
        "id": "view-in-github",
        "colab_type": "text"
      },
      "source": [
        "<a href=\"https://colab.research.google.com/github/skyworld19/ds-school-advanced/blob/master/ML_05_%ED%9A%8C%EA%B7%80%EB%AA%A8%EB%8D%B8%ED%8F%89%EA%B0%80%EC%A7%80%ED%91%9C_GridSearchCV_LAB.ipynb\" target=\"_parent\"><img src=\"https://colab.research.google.com/assets/colab-badge.svg\" alt=\"Open In Colab\"/></a>"
      ]
    },
    {
      "cell_type": "markdown",
      "metadata": {
        "id": "5edAGbvV1EOP"
      },
      "source": [
        "### 보스톤 데이터 - Ridge"
      ],
      "id": "5edAGbvV1EOP"
    },
    {
      "cell_type": "code",
      "metadata": {
        "id": "3zhLyd561EOS"
      },
      "source": [
        "# 라이브러리 import\n",
        "import pandas as pd\n",
        "from sklearn.datasets import load_boston\n",
        "from sklearn.preprocessing import PolynomialFeatures\n",
        "from sklearn.preprocessing import MinMaxScaler\n",
        "from sklearn.model_selection import train_test_split\n",
        "from sklearn.linear_model import Ridge"
      ],
      "id": "3zhLyd561EOS",
      "execution_count": 1,
      "outputs": []
    },
    {
      "cell_type": "code",
      "metadata": {
        "id": "f73kGJoR1EOU",
        "colab": {
          "base_uri": "https://localhost:8080/",
          "height": 204
        },
        "outputId": "a8d620e2-3677-41ac-eca7-0da8b77cdebb"
      },
      "source": [
        "# 데이터 가져오기\n",
        "boston = load_boston()\n",
        "X = boston['data']\n",
        "y = boston['target']\n",
        "feature_names = boston['feature_names']\n",
        "df = pd.DataFrame(X, columns=feature_names)\n",
        "df['PRICE'] = y\n",
        "df.head(5)"
      ],
      "id": "f73kGJoR1EOU",
      "execution_count": 2,
      "outputs": [
        {
          "output_type": "execute_result",
          "data": {
            "text/html": [
              "<div>\n",
              "<style scoped>\n",
              "    .dataframe tbody tr th:only-of-type {\n",
              "        vertical-align: middle;\n",
              "    }\n",
              "\n",
              "    .dataframe tbody tr th {\n",
              "        vertical-align: top;\n",
              "    }\n",
              "\n",
              "    .dataframe thead th {\n",
              "        text-align: right;\n",
              "    }\n",
              "</style>\n",
              "<table border=\"1\" class=\"dataframe\">\n",
              "  <thead>\n",
              "    <tr style=\"text-align: right;\">\n",
              "      <th></th>\n",
              "      <th>CRIM</th>\n",
              "      <th>ZN</th>\n",
              "      <th>INDUS</th>\n",
              "      <th>CHAS</th>\n",
              "      <th>NOX</th>\n",
              "      <th>RM</th>\n",
              "      <th>AGE</th>\n",
              "      <th>DIS</th>\n",
              "      <th>RAD</th>\n",
              "      <th>TAX</th>\n",
              "      <th>PTRATIO</th>\n",
              "      <th>B</th>\n",
              "      <th>LSTAT</th>\n",
              "      <th>PRICE</th>\n",
              "    </tr>\n",
              "  </thead>\n",
              "  <tbody>\n",
              "    <tr>\n",
              "      <th>0</th>\n",
              "      <td>0.00632</td>\n",
              "      <td>18.0</td>\n",
              "      <td>2.31</td>\n",
              "      <td>0.0</td>\n",
              "      <td>0.538</td>\n",
              "      <td>6.575</td>\n",
              "      <td>65.2</td>\n",
              "      <td>4.0900</td>\n",
              "      <td>1.0</td>\n",
              "      <td>296.0</td>\n",
              "      <td>15.3</td>\n",
              "      <td>396.90</td>\n",
              "      <td>4.98</td>\n",
              "      <td>24.0</td>\n",
              "    </tr>\n",
              "    <tr>\n",
              "      <th>1</th>\n",
              "      <td>0.02731</td>\n",
              "      <td>0.0</td>\n",
              "      <td>7.07</td>\n",
              "      <td>0.0</td>\n",
              "      <td>0.469</td>\n",
              "      <td>6.421</td>\n",
              "      <td>78.9</td>\n",
              "      <td>4.9671</td>\n",
              "      <td>2.0</td>\n",
              "      <td>242.0</td>\n",
              "      <td>17.8</td>\n",
              "      <td>396.90</td>\n",
              "      <td>9.14</td>\n",
              "      <td>21.6</td>\n",
              "    </tr>\n",
              "    <tr>\n",
              "      <th>2</th>\n",
              "      <td>0.02729</td>\n",
              "      <td>0.0</td>\n",
              "      <td>7.07</td>\n",
              "      <td>0.0</td>\n",
              "      <td>0.469</td>\n",
              "      <td>7.185</td>\n",
              "      <td>61.1</td>\n",
              "      <td>4.9671</td>\n",
              "      <td>2.0</td>\n",
              "      <td>242.0</td>\n",
              "      <td>17.8</td>\n",
              "      <td>392.83</td>\n",
              "      <td>4.03</td>\n",
              "      <td>34.7</td>\n",
              "    </tr>\n",
              "    <tr>\n",
              "      <th>3</th>\n",
              "      <td>0.03237</td>\n",
              "      <td>0.0</td>\n",
              "      <td>2.18</td>\n",
              "      <td>0.0</td>\n",
              "      <td>0.458</td>\n",
              "      <td>6.998</td>\n",
              "      <td>45.8</td>\n",
              "      <td>6.0622</td>\n",
              "      <td>3.0</td>\n",
              "      <td>222.0</td>\n",
              "      <td>18.7</td>\n",
              "      <td>394.63</td>\n",
              "      <td>2.94</td>\n",
              "      <td>33.4</td>\n",
              "    </tr>\n",
              "    <tr>\n",
              "      <th>4</th>\n",
              "      <td>0.06905</td>\n",
              "      <td>0.0</td>\n",
              "      <td>2.18</td>\n",
              "      <td>0.0</td>\n",
              "      <td>0.458</td>\n",
              "      <td>7.147</td>\n",
              "      <td>54.2</td>\n",
              "      <td>6.0622</td>\n",
              "      <td>3.0</td>\n",
              "      <td>222.0</td>\n",
              "      <td>18.7</td>\n",
              "      <td>396.90</td>\n",
              "      <td>5.33</td>\n",
              "      <td>36.2</td>\n",
              "    </tr>\n",
              "  </tbody>\n",
              "</table>\n",
              "</div>"
            ],
            "text/plain": [
              "      CRIM    ZN  INDUS  CHAS    NOX  ...    TAX  PTRATIO       B  LSTAT  PRICE\n",
              "0  0.00632  18.0   2.31   0.0  0.538  ...  296.0     15.3  396.90   4.98   24.0\n",
              "1  0.02731   0.0   7.07   0.0  0.469  ...  242.0     17.8  396.90   9.14   21.6\n",
              "2  0.02729   0.0   7.07   0.0  0.469  ...  242.0     17.8  392.83   4.03   34.7\n",
              "3  0.03237   0.0   2.18   0.0  0.458  ...  222.0     18.7  394.63   2.94   33.4\n",
              "4  0.06905   0.0   2.18   0.0  0.458  ...  222.0     18.7  396.90   5.33   36.2\n",
              "\n",
              "[5 rows x 14 columns]"
            ]
          },
          "metadata": {},
          "execution_count": 2
        }
      ]
    },
    {
      "cell_type": "code",
      "metadata": {
        "id": "odAXdr7L1EOV",
        "colab": {
          "base_uri": "https://localhost:8080/"
        },
        "outputId": "284cac2c-6e9e-4565-e2a6-069600aaf8a9"
      },
      "source": [
        "# 데이터 전처리, 분할\n",
        "X = df.loc[:, 'CRIM':'LSTAT']\n",
        "y = df.loc[:, 'PRICE']\n",
        "degree = 3\n",
        "x_scaled = MinMaxScaler().fit_transform(X)\n",
        "P = PolynomialFeatures(degree=degree, include_bias=False)\n",
        "x_poly = P.fit_transform(x_scaled)\n",
        "x_train, x_test, y_train, y_test = train_test_split(x_poly, y, random_state=0)\n",
        "[a.shape for a in (x_train, x_test, y_train, y_test)]"
      ],
      "id": "odAXdr7L1EOV",
      "execution_count": 3,
      "outputs": [
        {
          "output_type": "execute_result",
          "data": {
            "text/plain": [
              "[(379, 559), (127, 559), (379,), (127,)]"
            ]
          },
          "metadata": {},
          "execution_count": 3
        }
      ]
    },
    {
      "cell_type": "code",
      "metadata": {
        "id": "zN7pLAdD1EOW",
        "colab": {
          "base_uri": "https://localhost:8080/"
        },
        "outputId": "5beaeceb-3622-4827-83ce-cd55335afd75"
      },
      "source": [
        "# 모델링, 평가\n",
        "alpha=0.1\n",
        "model = Ridge(alpha=alpha).fit(x_train, y_train)\n",
        "model.score(x_train, y_train), model.score(x_test, y_test)"
      ],
      "id": "zN7pLAdD1EOW",
      "execution_count": 4,
      "outputs": [
        {
          "output_type": "execute_result",
          "data": {
            "text/plain": [
              "(0.9537155397034656, 0.7905570432110397)"
            ]
          },
          "metadata": {},
          "execution_count": 4
        }
      ]
    },
    {
      "cell_type": "markdown",
      "metadata": {
        "id": "JFUW6XpzltMK"
      },
      "source": [
        "### 예측값 구하기"
      ],
      "id": "JFUW6XpzltMK"
    },
    {
      "cell_type": "code",
      "metadata": {
        "id": "3xr7N46TlxlX"
      },
      "source": [
        "y_pred = model.predict(x_test)"
      ],
      "id": "3xr7N46TlxlX",
      "execution_count": 6,
      "outputs": []
    },
    {
      "cell_type": "markdown",
      "metadata": {
        "id": "628mH4xc1EOW"
      },
      "source": [
        "### $R^2$ score\n",
        "- ```model.score(X, y)```\n",
        "- ```sklearn.metrics.r2_score(y_true, y_pred)```"
      ],
      "id": "628mH4xc1EOW"
    },
    {
      "cell_type": "code",
      "metadata": {
        "id": "CBD7GDef1EOX",
        "colab": {
          "base_uri": "https://localhost:8080/"
        },
        "outputId": "1c4e2e95-7910-42c3-c57e-149f0acf2374"
      },
      "source": [
        "from sklearn.metrics import r2_score\n",
        "model.score(x_test, y_test), r2_score(y_test, y_pred) #y_test:실제정답"
      ],
      "id": "CBD7GDef1EOX",
      "execution_count": 11,
      "outputs": [
        {
          "output_type": "execute_result",
          "data": {
            "text/plain": [
              "(0.7905570432110397, 0.7905570432110397)"
            ]
          },
          "metadata": {},
          "execution_count": 11
        }
      ]
    },
    {
      "cell_type": "markdown",
      "metadata": {
        "id": "6YPE5LIt1EOY"
      },
      "source": [
        "### MAE(Mean Absolute Error)\n",
        "```sklearn.metrics.mean_absolute_error(y_true, y_pred)```"
      ],
      "id": "6YPE5LIt1EOY"
    },
    {
      "cell_type": "code",
      "metadata": {
        "id": "w6fF8cDu1EOZ",
        "colab": {
          "base_uri": "https://localhost:8080/"
        },
        "outputId": "26b484c8-03ce-4180-eaa0-6bc252483989"
      },
      "source": [
        "from sklearn.metrics import mean_absolute_error as mae\n",
        "mae(y_test, y_pred)"
      ],
      "id": "w6fF8cDu1EOZ",
      "execution_count": 8,
      "outputs": [
        {
          "output_type": "execute_result",
          "data": {
            "text/plain": [
              "2.7419189417256002"
            ]
          },
          "metadata": {},
          "execution_count": 8
        }
      ]
    },
    {
      "cell_type": "markdown",
      "metadata": {
        "id": "w4SOKPM31EOb"
      },
      "source": [
        "### MSE(Mean Squared Error)\n",
        "```sklearn.metrics.mean_squared_error(y_true, y_pred)```"
      ],
      "id": "w4SOKPM31EOb"
    },
    {
      "cell_type": "code",
      "metadata": {
        "id": "wgSDhY1g1EOb",
        "colab": {
          "base_uri": "https://localhost:8080/"
        },
        "outputId": "93bfdb34-4941-43d9-9e39-28745531e1fd"
      },
      "source": [
        "from sklearn.metrics import mean_squared_error as mse\n",
        "mse(y_test, y_pred)"
      ],
      "id": "wgSDhY1g1EOb",
      "execution_count": 9,
      "outputs": [
        {
          "output_type": "execute_result",
          "data": {
            "text/plain": [
              "17.111283360088102"
            ]
          },
          "metadata": {},
          "execution_count": 9
        }
      ]
    },
    {
      "cell_type": "markdown",
      "metadata": {
        "id": "ydxbkeI71EOc"
      },
      "source": [
        "### RMSE(Root Mean Squared Error)\n",
        "- sklearn API에 없음\n",
        "- MSE에 math.sqrt() 를 사용함"
      ],
      "id": "ydxbkeI71EOc"
    },
    {
      "cell_type": "code",
      "metadata": {
        "id": "WO2nHCzK1EOd",
        "colab": {
          "base_uri": "https://localhost:8080/"
        },
        "outputId": "2b5a170f-8409-4383-e5ae-0ef161b652e9"
      },
      "source": [
        "from sklearn.metrics import mean_squared_error as mse\n",
        "import math\n",
        "mse(y_test, y_pred)**0.5"
      ],
      "id": "WO2nHCzK1EOd",
      "execution_count": 10,
      "outputs": [
        {
          "output_type": "execute_result",
          "data": {
            "text/plain": [
              "4.136578702271734"
            ]
          },
          "metadata": {},
          "execution_count": 10
        }
      ]
    },
    {
      "cell_type": "markdown",
      "metadata": {
        "id": "PdSqnHx71EOe"
      },
      "source": [
        "### GridSearchCV를 사용한 hyperparameter 찾기\n",
        "- https://scikit-learn.org/stable/modules/generated/sklearn.model_selection.GridSearchCV.html\n",
        "- https://scikit-learn.org/stable/modules/model_evaluation.html#scoring-parameter"
      ],
      "id": "PdSqnHx71EOe"
    },
    {
      "cell_type": "code",
      "metadata": {
        "id": "r_w3-JM-1EOe"
      },
      "source": [
        "import pandas as pd\n",
        "import numpy as np\n",
        "from sklearn.datasets import load_boston\n",
        "from sklearn.preprocessing import PolynomialFeatures\n",
        "from sklearn.preprocessing import MinMaxScaler\n",
        "from sklearn.model_selection import train_test_split\n",
        "from sklearn.linear_model import Ridge\n",
        "from  sklearn.model_selection import GridSearchCV"
      ],
      "id": "r_w3-JM-1EOe",
      "execution_count": 12,
      "outputs": []
    },
    {
      "cell_type": "code",
      "metadata": {
        "id": "G4IOJ3oI1EOe"
      },
      "source": [
        "# 데이터 가져오기\n",
        "boston = load_boston()\n",
        "X = boston['data']\n",
        "y = boston['target']\n",
        "feature_names = boston['feature_names']\n",
        "df = pd.DataFrame(X, columns=feature_names)\n",
        "df['PRICE'] = y\n",
        "df.to_csv('boston.csv', index=False)"
      ],
      "id": "G4IOJ3oI1EOe",
      "execution_count": 13,
      "outputs": []
    },
    {
      "cell_type": "code",
      "metadata": {
        "id": "ivr_Y78X1IzA"
      },
      "source": [
        "## 데이터 섞어 주기\n",
        "from sklearn.utils import shuffle\n",
        "df = pd.read_csv('boston.csv')\n",
        "dfA = df.sample(frac=1, random_state=0) \n",
        "dfB = shuffle(df, random_state=0)"
      ],
      "id": "ivr_Y78X1IzA",
      "execution_count": 14,
      "outputs": []
    },
    {
      "cell_type": "code",
      "metadata": {
        "colab": {
          "base_uri": "https://localhost:8080/",
          "height": 204
        },
        "id": "Btn7SVnNrsaf",
        "outputId": "1dbb6664-2519-409a-9558-e99131b9ed86"
      },
      "source": [
        "dfA.head()"
      ],
      "id": "Btn7SVnNrsaf",
      "execution_count": 15,
      "outputs": [
        {
          "output_type": "execute_result",
          "data": {
            "text/html": [
              "<div>\n",
              "<style scoped>\n",
              "    .dataframe tbody tr th:only-of-type {\n",
              "        vertical-align: middle;\n",
              "    }\n",
              "\n",
              "    .dataframe tbody tr th {\n",
              "        vertical-align: top;\n",
              "    }\n",
              "\n",
              "    .dataframe thead th {\n",
              "        text-align: right;\n",
              "    }\n",
              "</style>\n",
              "<table border=\"1\" class=\"dataframe\">\n",
              "  <thead>\n",
              "    <tr style=\"text-align: right;\">\n",
              "      <th></th>\n",
              "      <th>CRIM</th>\n",
              "      <th>ZN</th>\n",
              "      <th>INDUS</th>\n",
              "      <th>CHAS</th>\n",
              "      <th>NOX</th>\n",
              "      <th>RM</th>\n",
              "      <th>AGE</th>\n",
              "      <th>DIS</th>\n",
              "      <th>RAD</th>\n",
              "      <th>TAX</th>\n",
              "      <th>PTRATIO</th>\n",
              "      <th>B</th>\n",
              "      <th>LSTAT</th>\n",
              "      <th>PRICE</th>\n",
              "    </tr>\n",
              "  </thead>\n",
              "  <tbody>\n",
              "    <tr>\n",
              "      <th>329</th>\n",
              "      <td>0.06724</td>\n",
              "      <td>0.0</td>\n",
              "      <td>3.24</td>\n",
              "      <td>0.0</td>\n",
              "      <td>0.460</td>\n",
              "      <td>6.333</td>\n",
              "      <td>17.2</td>\n",
              "      <td>5.2146</td>\n",
              "      <td>4.0</td>\n",
              "      <td>430.0</td>\n",
              "      <td>16.9</td>\n",
              "      <td>375.21</td>\n",
              "      <td>7.34</td>\n",
              "      <td>22.6</td>\n",
              "    </tr>\n",
              "    <tr>\n",
              "      <th>371</th>\n",
              "      <td>9.23230</td>\n",
              "      <td>0.0</td>\n",
              "      <td>18.10</td>\n",
              "      <td>0.0</td>\n",
              "      <td>0.631</td>\n",
              "      <td>6.216</td>\n",
              "      <td>100.0</td>\n",
              "      <td>1.1691</td>\n",
              "      <td>24.0</td>\n",
              "      <td>666.0</td>\n",
              "      <td>20.2</td>\n",
              "      <td>366.15</td>\n",
              "      <td>9.53</td>\n",
              "      <td>50.0</td>\n",
              "    </tr>\n",
              "    <tr>\n",
              "      <th>219</th>\n",
              "      <td>0.11425</td>\n",
              "      <td>0.0</td>\n",
              "      <td>13.89</td>\n",
              "      <td>1.0</td>\n",
              "      <td>0.550</td>\n",
              "      <td>6.373</td>\n",
              "      <td>92.4</td>\n",
              "      <td>3.3633</td>\n",
              "      <td>5.0</td>\n",
              "      <td>276.0</td>\n",
              "      <td>16.4</td>\n",
              "      <td>393.74</td>\n",
              "      <td>10.50</td>\n",
              "      <td>23.0</td>\n",
              "    </tr>\n",
              "    <tr>\n",
              "      <th>403</th>\n",
              "      <td>24.80170</td>\n",
              "      <td>0.0</td>\n",
              "      <td>18.10</td>\n",
              "      <td>0.0</td>\n",
              "      <td>0.693</td>\n",
              "      <td>5.349</td>\n",
              "      <td>96.0</td>\n",
              "      <td>1.7028</td>\n",
              "      <td>24.0</td>\n",
              "      <td>666.0</td>\n",
              "      <td>20.2</td>\n",
              "      <td>396.90</td>\n",
              "      <td>19.77</td>\n",
              "      <td>8.3</td>\n",
              "    </tr>\n",
              "    <tr>\n",
              "      <th>78</th>\n",
              "      <td>0.05646</td>\n",
              "      <td>0.0</td>\n",
              "      <td>12.83</td>\n",
              "      <td>0.0</td>\n",
              "      <td>0.437</td>\n",
              "      <td>6.232</td>\n",
              "      <td>53.7</td>\n",
              "      <td>5.0141</td>\n",
              "      <td>5.0</td>\n",
              "      <td>398.0</td>\n",
              "      <td>18.7</td>\n",
              "      <td>386.40</td>\n",
              "      <td>12.34</td>\n",
              "      <td>21.2</td>\n",
              "    </tr>\n",
              "  </tbody>\n",
              "</table>\n",
              "</div>"
            ],
            "text/plain": [
              "         CRIM   ZN  INDUS  CHAS    NOX  ...    TAX  PTRATIO       B  LSTAT  PRICE\n",
              "329   0.06724  0.0   3.24   0.0  0.460  ...  430.0     16.9  375.21   7.34   22.6\n",
              "371   9.23230  0.0  18.10   0.0  0.631  ...  666.0     20.2  366.15   9.53   50.0\n",
              "219   0.11425  0.0  13.89   1.0  0.550  ...  276.0     16.4  393.74  10.50   23.0\n",
              "403  24.80170  0.0  18.10   0.0  0.693  ...  666.0     20.2  396.90  19.77    8.3\n",
              "78    0.05646  0.0  12.83   0.0  0.437  ...  398.0     18.7  386.40  12.34   21.2\n",
              "\n",
              "[5 rows x 14 columns]"
            ]
          },
          "metadata": {},
          "execution_count": 15
        }
      ]
    },
    {
      "cell_type": "code",
      "metadata": {
        "colab": {
          "base_uri": "https://localhost:8080/",
          "height": 204
        },
        "id": "8VTY3hNFrsg0",
        "outputId": "522b6587-0b5b-4054-d12d-7e9673c9e8c4"
      },
      "source": [
        "dfB.head()"
      ],
      "id": "8VTY3hNFrsg0",
      "execution_count": 16,
      "outputs": [
        {
          "output_type": "execute_result",
          "data": {
            "text/html": [
              "<div>\n",
              "<style scoped>\n",
              "    .dataframe tbody tr th:only-of-type {\n",
              "        vertical-align: middle;\n",
              "    }\n",
              "\n",
              "    .dataframe tbody tr th {\n",
              "        vertical-align: top;\n",
              "    }\n",
              "\n",
              "    .dataframe thead th {\n",
              "        text-align: right;\n",
              "    }\n",
              "</style>\n",
              "<table border=\"1\" class=\"dataframe\">\n",
              "  <thead>\n",
              "    <tr style=\"text-align: right;\">\n",
              "      <th></th>\n",
              "      <th>CRIM</th>\n",
              "      <th>ZN</th>\n",
              "      <th>INDUS</th>\n",
              "      <th>CHAS</th>\n",
              "      <th>NOX</th>\n",
              "      <th>RM</th>\n",
              "      <th>AGE</th>\n",
              "      <th>DIS</th>\n",
              "      <th>RAD</th>\n",
              "      <th>TAX</th>\n",
              "      <th>PTRATIO</th>\n",
              "      <th>B</th>\n",
              "      <th>LSTAT</th>\n",
              "      <th>PRICE</th>\n",
              "    </tr>\n",
              "  </thead>\n",
              "  <tbody>\n",
              "    <tr>\n",
              "      <th>329</th>\n",
              "      <td>0.06724</td>\n",
              "      <td>0.0</td>\n",
              "      <td>3.24</td>\n",
              "      <td>0.0</td>\n",
              "      <td>0.460</td>\n",
              "      <td>6.333</td>\n",
              "      <td>17.2</td>\n",
              "      <td>5.2146</td>\n",
              "      <td>4.0</td>\n",
              "      <td>430.0</td>\n",
              "      <td>16.9</td>\n",
              "      <td>375.21</td>\n",
              "      <td>7.34</td>\n",
              "      <td>22.6</td>\n",
              "    </tr>\n",
              "    <tr>\n",
              "      <th>371</th>\n",
              "      <td>9.23230</td>\n",
              "      <td>0.0</td>\n",
              "      <td>18.10</td>\n",
              "      <td>0.0</td>\n",
              "      <td>0.631</td>\n",
              "      <td>6.216</td>\n",
              "      <td>100.0</td>\n",
              "      <td>1.1691</td>\n",
              "      <td>24.0</td>\n",
              "      <td>666.0</td>\n",
              "      <td>20.2</td>\n",
              "      <td>366.15</td>\n",
              "      <td>9.53</td>\n",
              "      <td>50.0</td>\n",
              "    </tr>\n",
              "    <tr>\n",
              "      <th>219</th>\n",
              "      <td>0.11425</td>\n",
              "      <td>0.0</td>\n",
              "      <td>13.89</td>\n",
              "      <td>1.0</td>\n",
              "      <td>0.550</td>\n",
              "      <td>6.373</td>\n",
              "      <td>92.4</td>\n",
              "      <td>3.3633</td>\n",
              "      <td>5.0</td>\n",
              "      <td>276.0</td>\n",
              "      <td>16.4</td>\n",
              "      <td>393.74</td>\n",
              "      <td>10.50</td>\n",
              "      <td>23.0</td>\n",
              "    </tr>\n",
              "    <tr>\n",
              "      <th>403</th>\n",
              "      <td>24.80170</td>\n",
              "      <td>0.0</td>\n",
              "      <td>18.10</td>\n",
              "      <td>0.0</td>\n",
              "      <td>0.693</td>\n",
              "      <td>5.349</td>\n",
              "      <td>96.0</td>\n",
              "      <td>1.7028</td>\n",
              "      <td>24.0</td>\n",
              "      <td>666.0</td>\n",
              "      <td>20.2</td>\n",
              "      <td>396.90</td>\n",
              "      <td>19.77</td>\n",
              "      <td>8.3</td>\n",
              "    </tr>\n",
              "    <tr>\n",
              "      <th>78</th>\n",
              "      <td>0.05646</td>\n",
              "      <td>0.0</td>\n",
              "      <td>12.83</td>\n",
              "      <td>0.0</td>\n",
              "      <td>0.437</td>\n",
              "      <td>6.232</td>\n",
              "      <td>53.7</td>\n",
              "      <td>5.0141</td>\n",
              "      <td>5.0</td>\n",
              "      <td>398.0</td>\n",
              "      <td>18.7</td>\n",
              "      <td>386.40</td>\n",
              "      <td>12.34</td>\n",
              "      <td>21.2</td>\n",
              "    </tr>\n",
              "  </tbody>\n",
              "</table>\n",
              "</div>"
            ],
            "text/plain": [
              "         CRIM   ZN  INDUS  CHAS    NOX  ...    TAX  PTRATIO       B  LSTAT  PRICE\n",
              "329   0.06724  0.0   3.24   0.0  0.460  ...  430.0     16.9  375.21   7.34   22.6\n",
              "371   9.23230  0.0  18.10   0.0  0.631  ...  666.0     20.2  366.15   9.53   50.0\n",
              "219   0.11425  0.0  13.89   1.0  0.550  ...  276.0     16.4  393.74  10.50   23.0\n",
              "403  24.80170  0.0  18.10   0.0  0.693  ...  666.0     20.2  396.90  19.77    8.3\n",
              "78    0.05646  0.0  12.83   0.0  0.437  ...  398.0     18.7  386.40  12.34   21.2\n",
              "\n",
              "[5 rows x 14 columns]"
            ]
          },
          "metadata": {},
          "execution_count": 16
        }
      ]
    },
    {
      "cell_type": "code",
      "metadata": {
        "id": "0yDpaRZz1EOe"
      },
      "source": [
        "# 데이터 전처리, 분할\n",
        "df = pd.read_csv('boston.csv')\n",
        "df = df.sample(frac=1, random_state=0)  ## 데이터 섞어 주기\n",
        "X = df.loc[:, 'CRIM':'LSTAT']\n",
        "y = df.loc[:, 'PRICE']\n",
        "\n",
        "degree = 3\n",
        "scaler = MinMaxScaler()\n",
        "x_scaled = scaler.fit_transform(X)\n",
        "P = PolynomialFeatures(degree=degree, include_bias=False)\n",
        "x_poly = P.fit_transform(x_scaled)"
      ],
      "id": "0yDpaRZz1EOe",
      "execution_count": 17,
      "outputs": []
    },
    {
      "cell_type": "code",
      "metadata": {
        "id": "O0LDlqSN1EOf"
      },
      "source": [
        "# 모델 생성\n",
        "model = Ridge()    # hyper parameter를 넣지 않음"
      ],
      "id": "O0LDlqSN1EOf",
      "execution_count": 18,
      "outputs": []
    },
    {
      "cell_type": "code",
      "metadata": {
        "id": "uchBA_w71EOf"
      },
      "source": [
        "import numpy as np\n",
        "# 파라미터를 딕셔너리 형태로 제공 (Key값 틀리면 ValueError 발생)\n",
        "#alphas = [0.1, 0.2, 0.3, 1, 10]   \n",
        "alphas = np.arange(0.01, 0.15, 0.01)\n",
        "params = {'alpha': alphas}"
      ],
      "id": "uchBA_w71EOf",
      "execution_count": 21,
      "outputs": []
    },
    {
      "cell_type": "code",
      "metadata": {
        "id": "oNjg5TJA1EOf",
        "colab": {
          "base_uri": "https://localhost:8080/",
          "height": 554
        },
        "outputId": "d845808b-defe-4aba-a9af-dc3d07126432"
      },
      "source": [
        "from sklearn.model_selection import GridSearchCV\n",
        "#param_grid의 하이퍼 파라미터를  3개의 train, testset fold로 나누어 테스트 수행 설정\n",
        "#refit=True : 가장 좋은 파라미터 설정으로 재 학습시킴\n",
        "grid_model = GridSearchCV(model, params, cv=10, refit=True)\n",
        "grid_model.fit(x_poly, y)\n",
        "\n",
        "#GridSearchCV 결과를 추출해 보기 편하게 DataFrame으로 변환\n",
        "gm_df = pd.DataFrame(grid_model.cv_results_)\n",
        "gm_df"
      ],
      "id": "oNjg5TJA1EOf",
      "execution_count": 22,
      "outputs": [
        {
          "output_type": "execute_result",
          "data": {
            "text/html": [
              "<div>\n",
              "<style scoped>\n",
              "    .dataframe tbody tr th:only-of-type {\n",
              "        vertical-align: middle;\n",
              "    }\n",
              "\n",
              "    .dataframe tbody tr th {\n",
              "        vertical-align: top;\n",
              "    }\n",
              "\n",
              "    .dataframe thead th {\n",
              "        text-align: right;\n",
              "    }\n",
              "</style>\n",
              "<table border=\"1\" class=\"dataframe\">\n",
              "  <thead>\n",
              "    <tr style=\"text-align: right;\">\n",
              "      <th></th>\n",
              "      <th>mean_fit_time</th>\n",
              "      <th>std_fit_time</th>\n",
              "      <th>mean_score_time</th>\n",
              "      <th>std_score_time</th>\n",
              "      <th>param_alpha</th>\n",
              "      <th>params</th>\n",
              "      <th>split0_test_score</th>\n",
              "      <th>split1_test_score</th>\n",
              "      <th>split2_test_score</th>\n",
              "      <th>split3_test_score</th>\n",
              "      <th>split4_test_score</th>\n",
              "      <th>split5_test_score</th>\n",
              "      <th>split6_test_score</th>\n",
              "      <th>split7_test_score</th>\n",
              "      <th>split8_test_score</th>\n",
              "      <th>split9_test_score</th>\n",
              "      <th>mean_test_score</th>\n",
              "      <th>std_test_score</th>\n",
              "      <th>rank_test_score</th>\n",
              "    </tr>\n",
              "  </thead>\n",
              "  <tbody>\n",
              "    <tr>\n",
              "      <th>0</th>\n",
              "      <td>0.031701</td>\n",
              "      <td>0.007999</td>\n",
              "      <td>0.001829</td>\n",
              "      <td>0.000544</td>\n",
              "      <td>0.01</td>\n",
              "      <td>{'alpha': 0.01}</td>\n",
              "      <td>0.781692</td>\n",
              "      <td>0.817031</td>\n",
              "      <td>0.879153</td>\n",
              "      <td>0.897431</td>\n",
              "      <td>0.831928</td>\n",
              "      <td>0.936779</td>\n",
              "      <td>0.856031</td>\n",
              "      <td>0.921029</td>\n",
              "      <td>0.938065</td>\n",
              "      <td>0.943338</td>\n",
              "      <td>0.880248</td>\n",
              "      <td>0.053953</td>\n",
              "      <td>3</td>\n",
              "    </tr>\n",
              "    <tr>\n",
              "      <th>1</th>\n",
              "      <td>0.025301</td>\n",
              "      <td>0.007138</td>\n",
              "      <td>0.001740</td>\n",
              "      <td>0.000398</td>\n",
              "      <td>0.02</td>\n",
              "      <td>{'alpha': 0.02}</td>\n",
              "      <td>0.768716</td>\n",
              "      <td>0.820748</td>\n",
              "      <td>0.887405</td>\n",
              "      <td>0.905069</td>\n",
              "      <td>0.816210</td>\n",
              "      <td>0.936607</td>\n",
              "      <td>0.889050</td>\n",
              "      <td>0.913928</td>\n",
              "      <td>0.948026</td>\n",
              "      <td>0.946741</td>\n",
              "      <td>0.883250</td>\n",
              "      <td>0.058362</td>\n",
              "      <td>1</td>\n",
              "    </tr>\n",
              "    <tr>\n",
              "      <th>2</th>\n",
              "      <td>0.029097</td>\n",
              "      <td>0.007530</td>\n",
              "      <td>0.002196</td>\n",
              "      <td>0.001390</td>\n",
              "      <td>0.03</td>\n",
              "      <td>{'alpha': 0.03}</td>\n",
              "      <td>0.758488</td>\n",
              "      <td>0.823831</td>\n",
              "      <td>0.890149</td>\n",
              "      <td>0.906189</td>\n",
              "      <td>0.792769</td>\n",
              "      <td>0.936842</td>\n",
              "      <td>0.902620</td>\n",
              "      <td>0.909426</td>\n",
              "      <td>0.952301</td>\n",
              "      <td>0.945778</td>\n",
              "      <td>0.881839</td>\n",
              "      <td>0.063598</td>\n",
              "      <td>2</td>\n",
              "    </tr>\n",
              "    <tr>\n",
              "      <th>3</th>\n",
              "      <td>0.022323</td>\n",
              "      <td>0.006335</td>\n",
              "      <td>0.001352</td>\n",
              "      <td>0.000091</td>\n",
              "      <td>0.04</td>\n",
              "      <td>{'alpha': 0.04}</td>\n",
              "      <td>0.750847</td>\n",
              "      <td>0.826202</td>\n",
              "      <td>0.891545</td>\n",
              "      <td>0.905687</td>\n",
              "      <td>0.771618</td>\n",
              "      <td>0.937157</td>\n",
              "      <td>0.909774</td>\n",
              "      <td>0.906212</td>\n",
              "      <td>0.954751</td>\n",
              "      <td>0.944024</td>\n",
              "      <td>0.879782</td>\n",
              "      <td>0.068295</td>\n",
              "      <td>4</td>\n",
              "    </tr>\n",
              "    <tr>\n",
              "      <th>4</th>\n",
              "      <td>0.020900</td>\n",
              "      <td>0.005933</td>\n",
              "      <td>0.001505</td>\n",
              "      <td>0.000450</td>\n",
              "      <td>0.05</td>\n",
              "      <td>{'alpha': 0.05}</td>\n",
              "      <td>0.745056</td>\n",
              "      <td>0.828018</td>\n",
              "      <td>0.892380</td>\n",
              "      <td>0.904654</td>\n",
              "      <td>0.753413</td>\n",
              "      <td>0.937456</td>\n",
              "      <td>0.913972</td>\n",
              "      <td>0.903754</td>\n",
              "      <td>0.956323</td>\n",
              "      <td>0.942213</td>\n",
              "      <td>0.877724</td>\n",
              "      <td>0.072361</td>\n",
              "      <td>5</td>\n",
              "    </tr>\n",
              "    <tr>\n",
              "      <th>5</th>\n",
              "      <td>0.022695</td>\n",
              "      <td>0.007518</td>\n",
              "      <td>0.001561</td>\n",
              "      <td>0.000335</td>\n",
              "      <td>0.06</td>\n",
              "      <td>{'alpha': 0.060000000000000005}</td>\n",
              "      <td>0.740592</td>\n",
              "      <td>0.829417</td>\n",
              "      <td>0.892927</td>\n",
              "      <td>0.903451</td>\n",
              "      <td>0.737754</td>\n",
              "      <td>0.937723</td>\n",
              "      <td>0.916570</td>\n",
              "      <td>0.901788</td>\n",
              "      <td>0.957396</td>\n",
              "      <td>0.940522</td>\n",
              "      <td>0.875814</td>\n",
              "      <td>0.075872</td>\n",
              "      <td>6</td>\n",
              "    </tr>\n",
              "    <tr>\n",
              "      <th>6</th>\n",
              "      <td>0.032857</td>\n",
              "      <td>0.002409</td>\n",
              "      <td>0.001882</td>\n",
              "      <td>0.000438</td>\n",
              "      <td>0.07</td>\n",
              "      <td>{'alpha': 0.06999999999999999}</td>\n",
              "      <td>0.737097</td>\n",
              "      <td>0.830497</td>\n",
              "      <td>0.893312</td>\n",
              "      <td>0.902222</td>\n",
              "      <td>0.724170</td>\n",
              "      <td>0.937958</td>\n",
              "      <td>0.918210</td>\n",
              "      <td>0.900161</td>\n",
              "      <td>0.958157</td>\n",
              "      <td>0.938984</td>\n",
              "      <td>0.874077</td>\n",
              "      <td>0.078923</td>\n",
              "      <td>7</td>\n",
              "    </tr>\n",
              "    <tr>\n",
              "      <th>7</th>\n",
              "      <td>0.024559</td>\n",
              "      <td>0.007403</td>\n",
              "      <td>0.001528</td>\n",
              "      <td>0.000305</td>\n",
              "      <td>0.08</td>\n",
              "      <td>{'alpha': 0.08}</td>\n",
              "      <td>0.734326</td>\n",
              "      <td>0.831333</td>\n",
              "      <td>0.893599</td>\n",
              "      <td>0.901025</td>\n",
              "      <td>0.712268</td>\n",
              "      <td>0.938165</td>\n",
              "      <td>0.919240</td>\n",
              "      <td>0.898779</td>\n",
              "      <td>0.958714</td>\n",
              "      <td>0.937591</td>\n",
              "      <td>0.872504</td>\n",
              "      <td>0.081595</td>\n",
              "      <td>8</td>\n",
              "    </tr>\n",
              "    <tr>\n",
              "      <th>8</th>\n",
              "      <td>0.024392</td>\n",
              "      <td>0.007857</td>\n",
              "      <td>0.001865</td>\n",
              "      <td>0.001073</td>\n",
              "      <td>0.09</td>\n",
              "      <td>{'alpha': 0.09}</td>\n",
              "      <td>0.732106</td>\n",
              "      <td>0.831976</td>\n",
              "      <td>0.893825</td>\n",
              "      <td>0.899886</td>\n",
              "      <td>0.701738</td>\n",
              "      <td>0.938350</td>\n",
              "      <td>0.919860</td>\n",
              "      <td>0.897582</td>\n",
              "      <td>0.959129</td>\n",
              "      <td>0.936327</td>\n",
              "      <td>0.871078</td>\n",
              "      <td>0.083955</td>\n",
              "      <td>9</td>\n",
              "    </tr>\n",
              "    <tr>\n",
              "      <th>9</th>\n",
              "      <td>0.027218</td>\n",
              "      <td>0.006942</td>\n",
              "      <td>0.001803</td>\n",
              "      <td>0.000447</td>\n",
              "      <td>0.1</td>\n",
              "      <td>{'alpha': 0.09999999999999999}</td>\n",
              "      <td>0.730313</td>\n",
              "      <td>0.832467</td>\n",
              "      <td>0.894013</td>\n",
              "      <td>0.898812</td>\n",
              "      <td>0.692338</td>\n",
              "      <td>0.938517</td>\n",
              "      <td>0.920195</td>\n",
              "      <td>0.896525</td>\n",
              "      <td>0.959445</td>\n",
              "      <td>0.935174</td>\n",
              "      <td>0.869780</td>\n",
              "      <td>0.086056</td>\n",
              "      <td>10</td>\n",
              "    </tr>\n",
              "    <tr>\n",
              "      <th>10</th>\n",
              "      <td>0.022333</td>\n",
              "      <td>0.005112</td>\n",
              "      <td>0.001508</td>\n",
              "      <td>0.000226</td>\n",
              "      <td>0.11</td>\n",
              "      <td>{'alpha': 0.11}</td>\n",
              "      <td>0.728852</td>\n",
              "      <td>0.832835</td>\n",
              "      <td>0.894175</td>\n",
              "      <td>0.897806</td>\n",
              "      <td>0.683881</td>\n",
              "      <td>0.938669</td>\n",
              "      <td>0.920327</td>\n",
              "      <td>0.895578</td>\n",
              "      <td>0.959689</td>\n",
              "      <td>0.934116</td>\n",
              "      <td>0.868593</td>\n",
              "      <td>0.087943</td>\n",
              "      <td>11</td>\n",
              "    </tr>\n",
              "    <tr>\n",
              "      <th>11</th>\n",
              "      <td>0.023341</td>\n",
              "      <td>0.007063</td>\n",
              "      <td>0.001434</td>\n",
              "      <td>0.000334</td>\n",
              "      <td>0.12</td>\n",
              "      <td>{'alpha': 0.12}</td>\n",
              "      <td>0.727656</td>\n",
              "      <td>0.833103</td>\n",
              "      <td>0.894322</td>\n",
              "      <td>0.896865</td>\n",
              "      <td>0.676219</td>\n",
              "      <td>0.938809</td>\n",
              "      <td>0.920309</td>\n",
              "      <td>0.894718</td>\n",
              "      <td>0.959879</td>\n",
              "      <td>0.933139</td>\n",
              "      <td>0.867502</td>\n",
              "      <td>0.089647</td>\n",
              "      <td>12</td>\n",
              "    </tr>\n",
              "    <tr>\n",
              "      <th>12</th>\n",
              "      <td>0.019482</td>\n",
              "      <td>0.005362</td>\n",
              "      <td>0.001256</td>\n",
              "      <td>0.000140</td>\n",
              "      <td>0.13</td>\n",
              "      <td>{'alpha': 0.13}</td>\n",
              "      <td>0.726672</td>\n",
              "      <td>0.833290</td>\n",
              "      <td>0.894458</td>\n",
              "      <td>0.895985</td>\n",
              "      <td>0.669233</td>\n",
              "      <td>0.938939</td>\n",
              "      <td>0.920180</td>\n",
              "      <td>0.893929</td>\n",
              "      <td>0.960030</td>\n",
              "      <td>0.932233</td>\n",
              "      <td>0.866495</td>\n",
              "      <td>0.091198</td>\n",
              "      <td>13</td>\n",
              "    </tr>\n",
              "    <tr>\n",
              "      <th>13</th>\n",
              "      <td>0.022374</td>\n",
              "      <td>0.005705</td>\n",
              "      <td>0.001428</td>\n",
              "      <td>0.000226</td>\n",
              "      <td>0.14</td>\n",
              "      <td>{'alpha': 0.14}</td>\n",
              "      <td>0.725859</td>\n",
              "      <td>0.833408</td>\n",
              "      <td>0.894586</td>\n",
              "      <td>0.895161</td>\n",
              "      <td>0.662827</td>\n",
              "      <td>0.939060</td>\n",
              "      <td>0.919969</td>\n",
              "      <td>0.893198</td>\n",
              "      <td>0.960150</td>\n",
              "      <td>0.931387</td>\n",
              "      <td>0.865561</td>\n",
              "      <td>0.092616</td>\n",
              "      <td>14</td>\n",
              "    </tr>\n",
              "  </tbody>\n",
              "</table>\n",
              "</div>"
            ],
            "text/plain": [
              "    mean_fit_time  std_fit_time  ...  std_test_score  rank_test_score\n",
              "0        0.031701      0.007999  ...        0.053953                3\n",
              "1        0.025301      0.007138  ...        0.058362                1\n",
              "2        0.029097      0.007530  ...        0.063598                2\n",
              "3        0.022323      0.006335  ...        0.068295                4\n",
              "4        0.020900      0.005933  ...        0.072361                5\n",
              "5        0.022695      0.007518  ...        0.075872                6\n",
              "6        0.032857      0.002409  ...        0.078923                7\n",
              "7        0.024559      0.007403  ...        0.081595                8\n",
              "8        0.024392      0.007857  ...        0.083955                9\n",
              "9        0.027218      0.006942  ...        0.086056               10\n",
              "10       0.022333      0.005112  ...        0.087943               11\n",
              "11       0.023341      0.007063  ...        0.089647               12\n",
              "12       0.019482      0.005362  ...        0.091198               13\n",
              "13       0.022374      0.005705  ...        0.092616               14\n",
              "\n",
              "[14 rows x 19 columns]"
            ]
          },
          "metadata": {},
          "execution_count": 22
        }
      ]
    },
    {
      "cell_type": "code",
      "metadata": {
        "colab": {
          "base_uri": "https://localhost:8080/",
          "height": 483
        },
        "id": "CqYYy3Rgshmp",
        "outputId": "fa124179-885f-4a70-e929-7e5486cd7aef"
      },
      "source": [
        "gm_df[['params','mean_test_score','rank_test_score',\n",
        "       'split0_test_score','split1_test_score','split2_test_score']]"
      ],
      "id": "CqYYy3Rgshmp",
      "execution_count": 26,
      "outputs": [
        {
          "output_type": "execute_result",
          "data": {
            "text/html": [
              "<div>\n",
              "<style scoped>\n",
              "    .dataframe tbody tr th:only-of-type {\n",
              "        vertical-align: middle;\n",
              "    }\n",
              "\n",
              "    .dataframe tbody tr th {\n",
              "        vertical-align: top;\n",
              "    }\n",
              "\n",
              "    .dataframe thead th {\n",
              "        text-align: right;\n",
              "    }\n",
              "</style>\n",
              "<table border=\"1\" class=\"dataframe\">\n",
              "  <thead>\n",
              "    <tr style=\"text-align: right;\">\n",
              "      <th></th>\n",
              "      <th>params</th>\n",
              "      <th>mean_test_score</th>\n",
              "      <th>rank_test_score</th>\n",
              "      <th>split0_test_score</th>\n",
              "      <th>split1_test_score</th>\n",
              "      <th>split2_test_score</th>\n",
              "    </tr>\n",
              "  </thead>\n",
              "  <tbody>\n",
              "    <tr>\n",
              "      <th>0</th>\n",
              "      <td>{'alpha': 0.01}</td>\n",
              "      <td>0.880248</td>\n",
              "      <td>3</td>\n",
              "      <td>0.781692</td>\n",
              "      <td>0.817031</td>\n",
              "      <td>0.879153</td>\n",
              "    </tr>\n",
              "    <tr>\n",
              "      <th>1</th>\n",
              "      <td>{'alpha': 0.02}</td>\n",
              "      <td>0.883250</td>\n",
              "      <td>1</td>\n",
              "      <td>0.768716</td>\n",
              "      <td>0.820748</td>\n",
              "      <td>0.887405</td>\n",
              "    </tr>\n",
              "    <tr>\n",
              "      <th>2</th>\n",
              "      <td>{'alpha': 0.03}</td>\n",
              "      <td>0.881839</td>\n",
              "      <td>2</td>\n",
              "      <td>0.758488</td>\n",
              "      <td>0.823831</td>\n",
              "      <td>0.890149</td>\n",
              "    </tr>\n",
              "    <tr>\n",
              "      <th>3</th>\n",
              "      <td>{'alpha': 0.04}</td>\n",
              "      <td>0.879782</td>\n",
              "      <td>4</td>\n",
              "      <td>0.750847</td>\n",
              "      <td>0.826202</td>\n",
              "      <td>0.891545</td>\n",
              "    </tr>\n",
              "    <tr>\n",
              "      <th>4</th>\n",
              "      <td>{'alpha': 0.05}</td>\n",
              "      <td>0.877724</td>\n",
              "      <td>5</td>\n",
              "      <td>0.745056</td>\n",
              "      <td>0.828018</td>\n",
              "      <td>0.892380</td>\n",
              "    </tr>\n",
              "    <tr>\n",
              "      <th>5</th>\n",
              "      <td>{'alpha': 0.060000000000000005}</td>\n",
              "      <td>0.875814</td>\n",
              "      <td>6</td>\n",
              "      <td>0.740592</td>\n",
              "      <td>0.829417</td>\n",
              "      <td>0.892927</td>\n",
              "    </tr>\n",
              "    <tr>\n",
              "      <th>6</th>\n",
              "      <td>{'alpha': 0.06999999999999999}</td>\n",
              "      <td>0.874077</td>\n",
              "      <td>7</td>\n",
              "      <td>0.737097</td>\n",
              "      <td>0.830497</td>\n",
              "      <td>0.893312</td>\n",
              "    </tr>\n",
              "    <tr>\n",
              "      <th>7</th>\n",
              "      <td>{'alpha': 0.08}</td>\n",
              "      <td>0.872504</td>\n",
              "      <td>8</td>\n",
              "      <td>0.734326</td>\n",
              "      <td>0.831333</td>\n",
              "      <td>0.893599</td>\n",
              "    </tr>\n",
              "    <tr>\n",
              "      <th>8</th>\n",
              "      <td>{'alpha': 0.09}</td>\n",
              "      <td>0.871078</td>\n",
              "      <td>9</td>\n",
              "      <td>0.732106</td>\n",
              "      <td>0.831976</td>\n",
              "      <td>0.893825</td>\n",
              "    </tr>\n",
              "    <tr>\n",
              "      <th>9</th>\n",
              "      <td>{'alpha': 0.09999999999999999}</td>\n",
              "      <td>0.869780</td>\n",
              "      <td>10</td>\n",
              "      <td>0.730313</td>\n",
              "      <td>0.832467</td>\n",
              "      <td>0.894013</td>\n",
              "    </tr>\n",
              "    <tr>\n",
              "      <th>10</th>\n",
              "      <td>{'alpha': 0.11}</td>\n",
              "      <td>0.868593</td>\n",
              "      <td>11</td>\n",
              "      <td>0.728852</td>\n",
              "      <td>0.832835</td>\n",
              "      <td>0.894175</td>\n",
              "    </tr>\n",
              "    <tr>\n",
              "      <th>11</th>\n",
              "      <td>{'alpha': 0.12}</td>\n",
              "      <td>0.867502</td>\n",
              "      <td>12</td>\n",
              "      <td>0.727656</td>\n",
              "      <td>0.833103</td>\n",
              "      <td>0.894322</td>\n",
              "    </tr>\n",
              "    <tr>\n",
              "      <th>12</th>\n",
              "      <td>{'alpha': 0.13}</td>\n",
              "      <td>0.866495</td>\n",
              "      <td>13</td>\n",
              "      <td>0.726672</td>\n",
              "      <td>0.833290</td>\n",
              "      <td>0.894458</td>\n",
              "    </tr>\n",
              "    <tr>\n",
              "      <th>13</th>\n",
              "      <td>{'alpha': 0.14}</td>\n",
              "      <td>0.865561</td>\n",
              "      <td>14</td>\n",
              "      <td>0.725859</td>\n",
              "      <td>0.833408</td>\n",
              "      <td>0.894586</td>\n",
              "    </tr>\n",
              "  </tbody>\n",
              "</table>\n",
              "</div>"
            ],
            "text/plain": [
              "                             params  ...  split2_test_score\n",
              "0                   {'alpha': 0.01}  ...           0.879153\n",
              "1                   {'alpha': 0.02}  ...           0.887405\n",
              "2                   {'alpha': 0.03}  ...           0.890149\n",
              "3                   {'alpha': 0.04}  ...           0.891545\n",
              "4                   {'alpha': 0.05}  ...           0.892380\n",
              "5   {'alpha': 0.060000000000000005}  ...           0.892927\n",
              "6    {'alpha': 0.06999999999999999}  ...           0.893312\n",
              "7                   {'alpha': 0.08}  ...           0.893599\n",
              "8                   {'alpha': 0.09}  ...           0.893825\n",
              "9    {'alpha': 0.09999999999999999}  ...           0.894013\n",
              "10                  {'alpha': 0.11}  ...           0.894175\n",
              "11                  {'alpha': 0.12}  ...           0.894322\n",
              "12                  {'alpha': 0.13}  ...           0.894458\n",
              "13                  {'alpha': 0.14}  ...           0.894586\n",
              "\n",
              "[14 rows x 6 columns]"
            ]
          },
          "metadata": {},
          "execution_count": 26
        }
      ]
    },
    {
      "cell_type": "code",
      "metadata": {
        "id": "CBrNdacG1EOf",
        "colab": {
          "base_uri": "https://localhost:8080/"
        },
        "outputId": "7988b527-c24a-4b99-d0c3-54848fada07a"
      },
      "source": [
        "gm_df.columns"
      ],
      "id": "CBrNdacG1EOf",
      "execution_count": 23,
      "outputs": [
        {
          "output_type": "execute_result",
          "data": {
            "text/plain": [
              "Index(['mean_fit_time', 'std_fit_time', 'mean_score_time', 'std_score_time',\n",
              "       'param_alpha', 'params', 'split0_test_score', 'split1_test_score',\n",
              "       'split2_test_score', 'split3_test_score', 'split4_test_score',\n",
              "       'split5_test_score', 'split6_test_score', 'split7_test_score',\n",
              "       'split8_test_score', 'split9_test_score', 'mean_test_score',\n",
              "       'std_test_score', 'rank_test_score'],\n",
              "      dtype='object')"
            ]
          },
          "metadata": {},
          "execution_count": 23
        }
      ]
    },
    {
      "cell_type": "code",
      "metadata": {
        "id": "QWPEzgBC1EOg",
        "colab": {
          "base_uri": "https://localhost:8080/"
        },
        "outputId": "04c793e0-58f7-4e69-e17c-5ca63cf89dea"
      },
      "source": [
        "## 최적 파라미터, 최고 정확도 표출\n",
        "print('GridSearchCV의 최적 파라미터 {}'.format(grid_model.best_params_))\n",
        "print('GridSearchCV의 최고 정확도 {:.4f}'.format(grid_model.best_score_))"
      ],
      "id": "QWPEzgBC1EOg",
      "execution_count": 27,
      "outputs": [
        {
          "output_type": "stream",
          "text": [
            "GridSearchCV의 최적 파라미터 {'alpha': 0.02}\n",
            "GridSearchCV의 최고 정확도 0.8832\n"
          ],
          "name": "stdout"
        }
      ]
    },
    {
      "cell_type": "code",
      "metadata": {
        "id": "YBHakv6V1EOg",
        "colab": {
          "base_uri": "https://localhost:8080/"
        },
        "outputId": "95c46fa9-bfa8-413f-d942-ba4ea7d6ce35"
      },
      "source": [
        "#최적의 Estimator를 이용하여 평가, 정확도 추측\n",
        "from sklearn.metrics import r2_score\n",
        "estimator = grid_model.best_estimator_\n",
        "#값 예측 \n",
        "pred = estimator.predict(x_test)\n",
        "print('테스트 정확도 : {:.4f}'.format(r2_score(y_test, pred)))"
      ],
      "id": "YBHakv6V1EOg",
      "execution_count": 28,
      "outputs": [
        {
          "output_type": "stream",
          "text": [
            "테스트 정확도 : 0.9102\n"
          ],
          "name": "stdout"
        }
      ]
    }
  ]
}