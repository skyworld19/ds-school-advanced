{
  "nbformat": 4,
  "nbformat_minor": 5,
  "metadata": {
    "kernelspec": {
      "display_name": "Python 3",
      "language": "python",
      "name": "python3"
    },
    "language_info": {
      "codemirror_mode": {
        "name": "ipython",
        "version": 3
      },
      "file_extension": ".py",
      "mimetype": "text/x-python",
      "name": "python",
      "nbconvert_exporter": "python",
      "pygments_lexer": "ipython3",
      "version": "3.8.3"
    },
    "colab": {
      "name": "ML_09_Ensemble_LAB.ipynb",
      "provenance": [],
      "include_colab_link": true
    }
  },
  "cells": [
    {
      "cell_type": "markdown",
      "metadata": {
        "id": "view-in-github",
        "colab_type": "text"
      },
      "source": [
        "<a href=\"https://colab.research.google.com/github/skyworld19/ds-school-advanced/blob/master/ML_09_Ensemble_LAB.ipynb\" target=\"_parent\"><img src=\"https://colab.research.google.com/assets/colab-badge.svg\" alt=\"Open In Colab\"/></a>"
      ]
    },
    {
      "cell_type": "markdown",
      "metadata": {
        "id": "89ijUI58NDeg"
      },
      "source": [
        "### Ensemble"
      ],
      "id": "89ijUI58NDeg"
    },
    {
      "cell_type": "markdown",
      "metadata": {
        "id": "OFB8SAohNDej"
      },
      "source": [
        "#### 위스콘신 유방암 진단(이진 분류)"
      ],
      "id": "OFB8SAohNDej"
    },
    {
      "cell_type": "code",
      "metadata": {
        "id": "OsacEzzmNDej"
      },
      "source": [
        "from sklearn.datasets import load_breast_cancer\n",
        "# 암 데이터를 가져와 cancer로 이름을 지정한다\n",
        "cancer = load_breast_cancer()\n",
        "# 'cancer.csv' 로 저장한다\n",
        "df = pd.DataFrame(X, columns=cancer.feature_names)\n",
        "df['class'] = y\n",
        "df.to_csv('cancer.csv', index=False)\n",
        "\n",
        "target_names = cancer.target_names\n",
        "print(target_names)"
      ],
      "id": "OsacEzzmNDej",
      "execution_count": null,
      "outputs": []
    },
    {
      "cell_type": "code",
      "metadata": {
        "id": "EMKmFFtzNDek",
        "outputId": "6ba139e3-7d01-4645-8a1c-7e8a83931555"
      },
      "source": [
        "import pandas as pd\n",
        "# 암 데이터를 가져와 cancer로 이름을 지정한다\n",
        "cancer = pd.read_csv('cancer.csv')\n",
        "X = cancer.iloc[:, :-1]\n",
        "y = cancer.iloc[:, -1]\n",
        "X.shape, y.shape"
      ],
      "id": "EMKmFFtzNDek",
      "execution_count": null,
      "outputs": [
        {
          "data": {
            "text/plain": [
              "((569, 30), (569,))"
            ]
          },
          "execution_count": 2,
          "metadata": {},
          "output_type": "execute_result"
        }
      ]
    },
    {
      "cell_type": "code",
      "metadata": {
        "id": "47fQHGd1NDel",
        "outputId": "b7ef367d-913a-4390-8d98-afe43cc75538"
      },
      "source": [
        "from sklearn.model_selection import train_test_split\n",
        "from sklearn.linear_model import LogisticRegression\n",
        "from sklearn.preprocessing import StandardScaler\n",
        "\n",
        "X_scaled = StandardScaler().fit_transform(X)\n",
        "x_train, x_test, y_train, y_test = train_test_split(X_scaled,\n",
        "                                                    y,\n",
        "                                                    stratify=y,\n",
        "                                                    random_state=0)\n",
        "[a.shape for a in (x_train, x_test, y_train, y_test)]"
      ],
      "id": "47fQHGd1NDel",
      "execution_count": null,
      "outputs": [
        {
          "data": {
            "text/plain": [
              "[(426, 30), (143, 30), (426,), (143,)]"
            ]
          },
          "execution_count": 3,
          "metadata": {},
          "output_type": "execute_result"
        }
      ]
    },
    {
      "cell_type": "markdown",
      "metadata": {
        "id": "Yp-oNeoBNDem"
      },
      "source": [
        "#### voting 참여 분류기 생성\n",
        "- https://scikit-learn.org/stable/modules/generated/sklearn.ensemble.VotingClassifier.html"
      ],
      "id": "Yp-oNeoBNDem"
    },
    {
      "cell_type": "code",
      "metadata": {
        "id": "4c8rZHMsNDem"
      },
      "source": [
        "# VotingClassifier의 사용법 확인\n",
        "from sklearn.ensemble import VotingClassifier\n",
        "VotingClassifier?"
      ],
      "id": "4c8rZHMsNDem",
      "execution_count": null,
      "outputs": []
    },
    {
      "cell_type": "code",
      "metadata": {
        "id": "d3Frn9IKNDen"
      },
      "source": [
        "# VotingRegressor의 사용법 확인\n",
        "from sklearn.ensemble import VotingRegressor\n",
        "VotingRegressor?"
      ],
      "id": "d3Frn9IKNDen",
      "execution_count": null,
      "outputs": []
    },
    {
      "cell_type": "code",
      "metadata": {
        "id": "PmXBiW4iNDen"
      },
      "source": [
        "from sklearn.neighbors import KNeighborsClassifier\n",
        "from sklearn.linear_model import LogisticRegression\n",
        "from sklearn.tree import DecisionTreeClassifier\n",
        "\n",
        "# n_neighbors 를 각각 3, 5로 갖는 KNN 모델 두 개 만들기\n",
        "# max_iter=10000 인 LogisticRegression 모델 만들기\n",
        "# max_depth 를 각각 3, 5로 갖는 DecisionTree 모델 두 개 만들기\n",
        "knn1 = \n",
        "knn2 = \n",
        "lr = \n",
        "dt3 = \n",
        "dt5 = "
      ],
      "id": "PmXBiW4iNDen",
      "execution_count": null,
      "outputs": []
    },
    {
      "cell_type": "code",
      "metadata": {
        "id": "GfdlfrDVNDeo"
      },
      "source": [
        "from sklearn.ensemble import VotingClassifier\n",
        "\n",
        "names = ['knn1', 'knn2', 'lr', 'dt3', 'dt5']\n",
        "estimator = [knn1, knn2, lr, dt3, dt5]\n",
        "# estimators = [('knn1', knn1), ('knn2', knn2), ...]  와 같이 생성\n",
        "estimators = # code here\n",
        "\n",
        "#Hard Voting\n",
        "hard = \n",
        "\n",
        "#Soft Voting\n",
        "soft = "
      ],
      "id": "GfdlfrDVNDeo",
      "execution_count": null,
      "outputs": []
    },
    {
      "cell_type": "code",
      "metadata": {
        "id": "eEO5BIheNDeo",
        "outputId": "cc7a784d-1a24-45e1-991e-289b7dd328b9"
      },
      "source": [
        "names = ['hard', 'soft', 'knn1', 'knn2', 'lr', 'dt3', 'dt5']\n",
        "estimators = [hard, soft, knn1, knn2, lr, dt3, dt5]\n",
        "\n",
        "# 반복문을 사용한 ensemble 및 단독 모델 성능 비교\n",
        "for name, model in zip(names, estimators):\n",
        "    pass\n"
      ],
      "id": "eEO5BIheNDeo",
      "execution_count": null,
      "outputs": [
        {
          "name": "stdout",
          "output_type": "stream",
          "text": [
            "hard Train Accuracy:98.12%\n",
            "hard Test  Accuracy:94.41%\n",
            "\n",
            "soft Train Accuracy:99.53%\n",
            "soft Test  Accuracy:95.80%\n",
            "\n",
            "knn1 Train Accuracy:95.77%\n",
            "knn1 Test  Accuracy:91.61%\n",
            "\n",
            "knn2 Train Accuracy:94.60%\n",
            "knn2 Test  Accuracy:91.61%\n",
            "\n",
            "lr Train Accuracy:96.71%\n",
            "lr Test  Accuracy:93.71%\n",
            "\n",
            "dt3 Train Accuracy:97.65%\n",
            "dt3 Test  Accuracy:93.01%\n",
            "\n",
            "dt5 Train Accuracy:100.00%\n",
            "dt5 Test  Accuracy:92.31%\n",
            "\n"
          ]
        }
      ]
    },
    {
      "cell_type": "markdown",
      "metadata": {
        "id": "XI5e56JQNDep"
      },
      "source": [
        "### 배깅(Bagging) 방식 - RandomForest\n",
        "- https://scikit-learn.org/stable/modules/generated/sklearn.ensemble.RandomForestClassifier.html"
      ],
      "id": "XI5e56JQNDep"
    },
    {
      "cell_type": "code",
      "metadata": {
        "id": "jt9OK-7bNDep",
        "outputId": "31a12dfe-e3f2-461e-c59b-9edc18be227f"
      },
      "source": [
        "from sklearn.ensemble import RandomForestClassifier\n",
        "# train 데이터를 사용하여 RandomForestClassifier를 학습한다\n",
        "# max_deptn=5, random_state=0 사용\n",
        "# train, test 성능을 확인한다\n",
        "model = \n"
      ],
      "id": "jt9OK-7bNDep",
      "execution_count": null,
      "outputs": [
        {
          "data": {
            "text/plain": [
              "(0.9976525821596244, 0.9440559440559441)"
            ]
          },
          "execution_count": 13,
          "metadata": {},
          "output_type": "execute_result"
        }
      ]
    },
    {
      "cell_type": "markdown",
      "metadata": {
        "id": "To1V8NqzNDep"
      },
      "source": [
        "### 부스팅(Boosting) 방식 : GradientBoosting"
      ],
      "id": "To1V8NqzNDep"
    },
    {
      "cell_type": "code",
      "metadata": {
        "id": "_niIJmTWNDeq",
        "outputId": "303b3272-c1c1-40d2-a05d-5dc03f43a41b"
      },
      "source": [
        "from sklearn.ensemble import GradientBoostingClassifier\n",
        "# train 데이터를 사용하여 GradientBoostingClassifier를 학습한다\n",
        "# train, test 성능을 확인한다\n",
        "model = \n"
      ],
      "id": "_niIJmTWNDeq",
      "execution_count": null,
      "outputs": [
        {
          "data": {
            "text/plain": [
              "(1.0, 0.951048951048951)"
            ]
          },
          "execution_count": 14,
          "metadata": {},
          "output_type": "execute_result"
        }
      ]
    },
    {
      "cell_type": "markdown",
      "metadata": {
        "id": "xB6yyP2JNDeq"
      },
      "source": [
        "### Stacking 방식 : StackingClassifier"
      ],
      "id": "xB6yyP2JNDeq"
    },
    {
      "cell_type": "code",
      "metadata": {
        "id": "hCCsevPHNDeq"
      },
      "source": [
        "StackingClassifier?"
      ],
      "id": "hCCsevPHNDeq",
      "execution_count": null,
      "outputs": []
    },
    {
      "cell_type": "code",
      "metadata": {
        "id": "j0cctmtENDeq",
        "outputId": "5408d3c5-1077-426e-fe75-40ee78b2c7bb"
      },
      "source": [
        "from sklearn.ensemble import StackingClassifier\n",
        "\n",
        "# RandomForestClassifier, GradientBoostingClassifier 를 estimators로 사용하고\n",
        "# LogisticRegression을 final_estimator로 사용한다\n",
        "# 이때, estimator 각각에 이름은 'rf', 'gb'로 사용한다\n",
        "name = ['rf', 'gb']\n",
        "estimator = [RandomForestClassifier(), GradientBoostingClassifier()]\n",
        "estimators = \n",
        "model = "
      ],
      "id": "j0cctmtENDeq",
      "execution_count": null,
      "outputs": [
        {
          "data": {
            "text/plain": [
              "(1.0, 0.958041958041958)"
            ]
          },
          "execution_count": 16,
          "metadata": {},
          "output_type": "execute_result"
        }
      ]
    },
    {
      "cell_type": "markdown",
      "metadata": {
        "id": "CFd8ICNmNDer"
      },
      "source": [
        "### XGBOOST(Extream Gradient Boost)"
      ],
      "id": "CFd8ICNmNDer"
    },
    {
      "cell_type": "code",
      "metadata": {
        "id": "ePpLWYWMNDer"
      },
      "source": [
        "!pip install xgboost"
      ],
      "id": "ePpLWYWMNDer",
      "execution_count": null,
      "outputs": []
    },
    {
      "cell_type": "markdown",
      "metadata": {
        "id": "ok76LmekNDer"
      },
      "source": [
        "#### XGBOOST 분류 실습\n",
        "- https://xgboost.readthedocs.io/en/latest/index.html\n",
        "- https://xgboost.readthedocs.io/en/latest/python/python_api.html"
      ],
      "id": "ok76LmekNDer"
    },
    {
      "cell_type": "code",
      "metadata": {
        "id": "DBKtv2BeNDes"
      },
      "source": [
        "from sklearn.datasets import load_breast_cancer\n",
        "from sklearn.model_selection import train_test_split\n",
        "from xgboost import XGBClassifier"
      ],
      "id": "DBKtv2BeNDes",
      "execution_count": null,
      "outputs": []
    },
    {
      "cell_type": "code",
      "metadata": {
        "id": "G8g_3vb_NDes"
      },
      "source": [
        "XGBClassifier?"
      ],
      "id": "G8g_3vb_NDes",
      "execution_count": null,
      "outputs": []
    },
    {
      "cell_type": "code",
      "metadata": {
        "id": "v8T4qXnLNDes",
        "outputId": "e93d2f64-7deb-49dc-bf7d-c0fbf06efb9d"
      },
      "source": [
        "# 1. 유방암 데이터를 불러온다\n",
        "# 2. random_state=0 으로 사용하여 데이터를 75%:25% 로 분리한다\n",
        "cancer = \n",
        "x_train, x_test, y_train, y_test = \n",
        "\n",
        "# 3. XGBClassifier 를 사용하여 model을 만들고 학습시킨 뒤 성능을 확인한다\n",
        "#   n_estimators=400, learning_rate=0.1, max_depth=3, \n",
        "#   use_label_encoder=False (Deprecated) eval_metric='mlogloss' 을 사용한다\n",
        "model = \n"
      ],
      "id": "v8T4qXnLNDes",
      "execution_count": null,
      "outputs": [
        {
          "name": "stdout",
          "output_type": "stream",
          "text": [
            "train 1.000, test 0.986\n"
          ]
        }
      ]
    },
    {
      "cell_type": "markdown",
      "metadata": {
        "id": "CFKnUQ1XNDes"
      },
      "source": [
        "#### XGBOOST 회귀 실습"
      ],
      "id": "CFKnUQ1XNDes"
    },
    {
      "cell_type": "code",
      "metadata": {
        "id": "d77qRuc6NDes"
      },
      "source": [
        "from sklearn.datasets import load_boston\n",
        "import pandas as pd\n",
        "boston = load_boston()\n",
        "df = pd.DataFrame(boston.data, columns=boston.feature_names)\n",
        "df['PRICE'] = boston.target\n",
        "df.to_csv('boston.csv', index=False)"
      ],
      "id": "d77qRuc6NDes",
      "execution_count": null,
      "outputs": []
    },
    {
      "cell_type": "code",
      "metadata": {
        "id": "-3oRCcLeNDet",
        "outputId": "193e2006-4e9d-42b7-ece6-5382ed24b1c1"
      },
      "source": [
        "import pandas as pd\n",
        "boston = pd.read_csv('boston.csv')\n",
        "X = boston.iloc[:, :-1]\n",
        "y = boston.iloc[:, -1]\n",
        "X.shape, y.shape"
      ],
      "id": "-3oRCcLeNDet",
      "execution_count": null,
      "outputs": [
        {
          "data": {
            "text/plain": [
              "((506, 13), (506,))"
            ]
          },
          "execution_count": 5,
          "metadata": {},
          "output_type": "execute_result"
        }
      ]
    },
    {
      "cell_type": "code",
      "metadata": {
        "id": "I7sKAfM8NDet",
        "outputId": "2e2ed791-4bba-4e72-cd31-670e374bbe2b"
      },
      "source": [
        "import xgboost as xgb\n",
        "from sklearn.datasets import load_boston\n",
        "from sklearn.model_selection import train_test_split\n",
        "from sklearn.metrics import r2_score\n",
        "\n",
        "# random_state=0 으로 사용하여 데이터를 75%:25% 로 분리한다\n",
        "x_train, x_test, y_train, y_test = \n",
        "\n",
        "# XGBRegressor 를 사용하여 model을 만들고 학습시킨 뒤 성능을 확인한다\n",
        "#   다음 값을 사용한다\n",
        "#   n_estimators=1000, learning_rate=0.2, max_depth=3, objective ='reg:squarederror'\n",
        "model = \n"
      ],
      "id": "I7sKAfM8NDet",
      "execution_count": null,
      "outputs": [
        {
          "data": {
            "text/plain": [
              "(0.9999999710409935, 0.7891719548392425)"
            ]
          },
          "execution_count": 32,
          "metadata": {},
          "output_type": "execute_result"
        }
      ]
    },
    {
      "cell_type": "markdown",
      "metadata": {
        "id": "MxTDjlFfNDet"
      },
      "source": [
        "### lightGBM"
      ],
      "id": "MxTDjlFfNDet"
    },
    {
      "cell_type": "code",
      "metadata": {
        "id": "SGx7huKMNDet"
      },
      "source": [
        "!pip install lightgbm"
      ],
      "id": "SGx7huKMNDet",
      "execution_count": null,
      "outputs": []
    },
    {
      "cell_type": "markdown",
      "metadata": {
        "id": "ZwaBhSsgNDeu"
      },
      "source": [
        "### ligthGBM  분류\n",
        "- https://lightgbm.readthedocs.io/en/latest/\n",
        "- https://lightgbm.readthedocs.io/en/latest/pythonapi/lightgbm.LGBMClassifier.html#lightgbm.LGBMClassifier"
      ],
      "id": "ZwaBhSsgNDeu"
    },
    {
      "cell_type": "code",
      "metadata": {
        "id": "pwYYabiVNDeu"
      },
      "source": [
        "from sklearn.model_selection import train_test_split\n",
        "import pandas as pd\n",
        "# 암 데이터를 가져와 분리하여 데이터 준비\n",
        "cancer =pd.read_csv('cancer.csv')\n",
        "X = cancer.iloc[:, :-1]\n",
        "y = cancer.iloc[:, -1]\n",
        "x_train, x_test, y_train, y_test = train_test_split(X, y, \n",
        "                                                    stratify=y,\n",
        "                                                    random_state=0)"
      ],
      "id": "pwYYabiVNDeu",
      "execution_count": null,
      "outputs": []
    },
    {
      "cell_type": "code",
      "metadata": {
        "id": "XVTCAtzfNDeu",
        "outputId": "d0b00b2d-0409-4ab1-e6ff-01fe6173cc25"
      },
      "source": [
        "from lightgbm import LGBMClassifier\n",
        "# LGBMClassifier를 사용하여 학습 후 성능 출력\n",
        "\n",
        "# n_estimators=100으로 사용한다 (여러 가지로 변경해 볼 것)\n",
        "model = \n",
        "print('train : {:.3f}, test : {:.3f}'.format(model.score(x_train, y_train),\n",
        "                                             model.score(x_test, y_test)))"
      ],
      "id": "XVTCAtzfNDeu",
      "execution_count": null,
      "outputs": [
        {
          "name": "stdout",
          "output_type": "stream",
          "text": [
            "train : 1.000, test : 0.944\n"
          ]
        }
      ]
    },
    {
      "cell_type": "code",
      "metadata": {
        "id": "JyVDrANFNDeu"
      },
      "source": [
        "# XGBClassifier 를 사용하여 model을 만들고 학습시킨 뒤 성능을 확인한다\n",
        "#   n_estimators=400, learning_rate=0.1, max_depth=3, \n",
        "#   use_label_encoder=False (Deprecated) eval_metric='mlogloss' 을 사용한다\n",
        "model = XGBClassifier(n_estimators=400, \n",
        "                      learning_rate=0.05, \n",
        "                      max_depth=3,\n",
        "                      use_label_encoder=False, \n",
        "                      eval_metric='mlogloss').fit(X_train, y_train)\n",
        "print(f'train {model.score(X_train, y_train):.3f}, test {model.score(X_test, y_test):.3f}')"
      ],
      "id": "JyVDrANFNDeu",
      "execution_count": null,
      "outputs": []
    },
    {
      "cell_type": "code",
      "metadata": {
        "id": "SQ8-KZaBNDeu"
      },
      "source": [
        "from sklearn.model_selection import train_test_split\n",
        "import pandas as pd\n",
        "boston = pd.read_csv('boston.csv')\n",
        "X = boston.iloc[:, :-1]\n",
        "y = boston.iloc[:, -1]\n",
        "x_train, x_test, y_train, y_test = train_test_split(X, y, \n",
        "                                                    random_state=0)"
      ],
      "id": "SQ8-KZaBNDeu",
      "execution_count": null,
      "outputs": []
    },
    {
      "cell_type": "code",
      "metadata": {
        "id": "C_5IBZDQNDev",
        "outputId": "7becbf5e-06ff-42e9-9db6-ce00a6edbdf6"
      },
      "source": [
        "from lightgbm import LGBMRegressor\n",
        "# LGBMRegressor를 사용하여 학습 후 성능 출력\n",
        "\n",
        "# n_estimators=100로 사용한다 (여러 가지로 변경해 볼 것, 개수, max_depth)\n",
        "model = \n",
        "print('train : {:.3f}, test : {:.3f}'.format(model.score(x_train, y_train),\n",
        "                                             model.score(x_test, y_test)))"
      ],
      "id": "C_5IBZDQNDev",
      "execution_count": null,
      "outputs": [
        {
          "name": "stdout",
          "output_type": "stream",
          "text": [
            "train : 0.976, test : 0.741\n"
          ]
        }
      ]
    },
    {
      "cell_type": "code",
      "metadata": {
        "id": "-Ij1wL9ZNDev"
      },
      "source": [
        ""
      ],
      "id": "-Ij1wL9ZNDev",
      "execution_count": null,
      "outputs": []
    }
  ]
}