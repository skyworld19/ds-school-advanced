{
  "nbformat": 4,
  "nbformat_minor": 0,
  "metadata": {
    "colab": {
      "name": "06-pandas-전처리-추가-삭제-데이터변환_LAB.ipynb",
      "provenance": [],
      "collapsed_sections": [],
      "include_colab_link": true
    },
    "kernelspec": {
      "display_name": "Python 3",
      "language": "python",
      "name": "python3"
    },
    "language_info": {
      "codemirror_mode": {
        "name": "ipython",
        "version": 3
      },
      "file_extension": ".py",
      "mimetype": "text/x-python",
      "name": "python",
      "nbconvert_exporter": "python",
      "pygments_lexer": "ipython3",
      "version": "3.8.3"
    }
  },
  "cells": [
    {
      "cell_type": "markdown",
      "metadata": {
        "id": "view-in-github",
        "colab_type": "text"
      },
      "source": [
        "<a href=\"https://colab.research.google.com/github/skyworld19/ds-school-advanced/blob/master/06_pandas_%EC%A0%84%EC%B2%98%EB%A6%AC_%EC%B6%94%EA%B0%80_%EC%82%AD%EC%A0%9C_%EB%8D%B0%EC%9D%B4%ED%84%B0%EB%B3%80%ED%99%98_LAB.ipynb\" target=\"_parent\"><img src=\"https://colab.research.google.com/assets/colab-badge.svg\" alt=\"Open In Colab\"/></a>"
      ]
    },
    {
      "cell_type": "markdown",
      "metadata": {
        "id": "zj4lAUIuiIej"
      },
      "source": [
        "# 패키지 설치"
      ]
    },
    {
      "cell_type": "code",
      "metadata": {
        "collapsed": true,
        "id": "R0MdZ_dziIep",
        "colab": {
          "base_uri": "https://localhost:8080/"
        },
        "outputId": "c273c759-d6eb-4cc4-a510-6e35bbfd206f"
      },
      "source": [
        "!pip install mySUNI"
      ],
      "execution_count": 109,
      "outputs": [
        {
          "output_type": "stream",
          "text": [
            "Requirement already satisfied: mySUNI in /usr/local/lib/python3.7/dist-packages (1.2.2)\n",
            "Requirement already satisfied: tqdm in /usr/local/lib/python3.7/dist-packages (from mySUNI) (4.62.0)\n"
          ],
          "name": "stdout"
        }
      ]
    },
    {
      "cell_type": "markdown",
      "metadata": {
        "id": "bXgo0Ps8iIet"
      },
      "source": [
        "## 모듈 import"
      ]
    },
    {
      "cell_type": "code",
      "metadata": {
        "id": "RGhyFtVF0F0m"
      },
      "source": [
        "import numpy as np\n",
        "import pandas as pd\n",
        "import seaborn as sns\n",
        "from mySUNI import cds\n",
        "from IPython.display import Image"
      ],
      "execution_count": 110,
      "outputs": []
    },
    {
      "cell_type": "markdown",
      "metadata": {
        "id": "gmsz1dasiIex"
      },
      "source": [
        "## 데이터셋 로드"
      ]
    },
    {
      "cell_type": "code",
      "metadata": {
        "id": "8ao6KFaFiIez",
        "colab": {
          "base_uri": "https://localhost:8080/",
          "height": 224
        },
        "outputId": "4446ab90-ccb3-44ff-c522-6d8538d30335"
      },
      "source": [
        "df = sns.load_dataset('titanic')\n",
        "df.head()"
      ],
      "execution_count": 28,
      "outputs": [
        {
          "output_type": "execute_result",
          "data": {
            "text/html": [
              "<div>\n",
              "<style scoped>\n",
              "    .dataframe tbody tr th:only-of-type {\n",
              "        vertical-align: middle;\n",
              "    }\n",
              "\n",
              "    .dataframe tbody tr th {\n",
              "        vertical-align: top;\n",
              "    }\n",
              "\n",
              "    .dataframe thead th {\n",
              "        text-align: right;\n",
              "    }\n",
              "</style>\n",
              "<table border=\"1\" class=\"dataframe\">\n",
              "  <thead>\n",
              "    <tr style=\"text-align: right;\">\n",
              "      <th></th>\n",
              "      <th>survived</th>\n",
              "      <th>pclass</th>\n",
              "      <th>sex</th>\n",
              "      <th>age</th>\n",
              "      <th>sibsp</th>\n",
              "      <th>parch</th>\n",
              "      <th>fare</th>\n",
              "      <th>embarked</th>\n",
              "      <th>class</th>\n",
              "      <th>who</th>\n",
              "      <th>adult_male</th>\n",
              "      <th>deck</th>\n",
              "      <th>embark_town</th>\n",
              "      <th>alive</th>\n",
              "      <th>alone</th>\n",
              "    </tr>\n",
              "  </thead>\n",
              "  <tbody>\n",
              "    <tr>\n",
              "      <th>0</th>\n",
              "      <td>0</td>\n",
              "      <td>3</td>\n",
              "      <td>male</td>\n",
              "      <td>22.0</td>\n",
              "      <td>1</td>\n",
              "      <td>0</td>\n",
              "      <td>7.2500</td>\n",
              "      <td>S</td>\n",
              "      <td>Third</td>\n",
              "      <td>man</td>\n",
              "      <td>True</td>\n",
              "      <td>NaN</td>\n",
              "      <td>Southampton</td>\n",
              "      <td>no</td>\n",
              "      <td>False</td>\n",
              "    </tr>\n",
              "    <tr>\n",
              "      <th>1</th>\n",
              "      <td>1</td>\n",
              "      <td>1</td>\n",
              "      <td>female</td>\n",
              "      <td>38.0</td>\n",
              "      <td>1</td>\n",
              "      <td>0</td>\n",
              "      <td>71.2833</td>\n",
              "      <td>C</td>\n",
              "      <td>First</td>\n",
              "      <td>woman</td>\n",
              "      <td>False</td>\n",
              "      <td>C</td>\n",
              "      <td>Cherbourg</td>\n",
              "      <td>yes</td>\n",
              "      <td>False</td>\n",
              "    </tr>\n",
              "    <tr>\n",
              "      <th>2</th>\n",
              "      <td>1</td>\n",
              "      <td>3</td>\n",
              "      <td>female</td>\n",
              "      <td>26.0</td>\n",
              "      <td>0</td>\n",
              "      <td>0</td>\n",
              "      <td>7.9250</td>\n",
              "      <td>S</td>\n",
              "      <td>Third</td>\n",
              "      <td>woman</td>\n",
              "      <td>False</td>\n",
              "      <td>NaN</td>\n",
              "      <td>Southampton</td>\n",
              "      <td>yes</td>\n",
              "      <td>True</td>\n",
              "    </tr>\n",
              "    <tr>\n",
              "      <th>3</th>\n",
              "      <td>1</td>\n",
              "      <td>1</td>\n",
              "      <td>female</td>\n",
              "      <td>35.0</td>\n",
              "      <td>1</td>\n",
              "      <td>0</td>\n",
              "      <td>53.1000</td>\n",
              "      <td>S</td>\n",
              "      <td>First</td>\n",
              "      <td>woman</td>\n",
              "      <td>False</td>\n",
              "      <td>C</td>\n",
              "      <td>Southampton</td>\n",
              "      <td>yes</td>\n",
              "      <td>False</td>\n",
              "    </tr>\n",
              "    <tr>\n",
              "      <th>4</th>\n",
              "      <td>0</td>\n",
              "      <td>3</td>\n",
              "      <td>male</td>\n",
              "      <td>35.0</td>\n",
              "      <td>0</td>\n",
              "      <td>0</td>\n",
              "      <td>8.0500</td>\n",
              "      <td>S</td>\n",
              "      <td>Third</td>\n",
              "      <td>man</td>\n",
              "      <td>True</td>\n",
              "      <td>NaN</td>\n",
              "      <td>Southampton</td>\n",
              "      <td>no</td>\n",
              "      <td>True</td>\n",
              "    </tr>\n",
              "  </tbody>\n",
              "</table>\n",
              "</div>"
            ],
            "text/plain": [
              "   survived  pclass     sex   age  ...  deck  embark_town  alive  alone\n",
              "0         0       3    male  22.0  ...   NaN  Southampton     no  False\n",
              "1         1       1  female  38.0  ...     C    Cherbourg    yes  False\n",
              "2         1       3  female  26.0  ...   NaN  Southampton    yes   True\n",
              "3         1       1  female  35.0  ...     C  Southampton    yes  False\n",
              "4         0       3    male  35.0  ...   NaN  Southampton     no   True\n",
              "\n",
              "[5 rows x 15 columns]"
            ]
          },
          "metadata": {},
          "execution_count": 28
        }
      ]
    },
    {
      "cell_type": "markdown",
      "metadata": {
        "id": "XRq3C6n6iIe1"
      },
      "source": [
        "**컬럼(columns) 설명**\n",
        "\n",
        "- survivied: 생존여부 (1: 생존, 0: 사망)\n",
        "- pclass: 좌석 등급 (1등급, 2등급, 3등급)\n",
        "- sex: 성별\n",
        "- age: 나이\n",
        "- sibsp: 형제 + 배우자 수\n",
        "- parch: 부모 + 자녀 수\n",
        "- fare: 좌석 요금\n",
        "- embarked: 탑승 항구 (S, C, Q)\n",
        "- class: pclass와 동일\n",
        "- who: 성별과 동일\n",
        "- adult_male: 성인 남자 여부\n",
        "- deck: 데크 번호 (알파벳 + 숫자 혼용)\n",
        "- embark_town: 탑승 항구 이름\n",
        "- alive: 생존여부 (yes, no)\n",
        "- alone: 혼자 탑승 여부"
      ]
    },
    {
      "cell_type": "markdown",
      "metadata": {
        "id": "1Oges8AnGvyF"
      },
      "source": [
        "## 새로운 컬럼 추가"
      ]
    },
    {
      "cell_type": "code",
      "metadata": {
        "id": "tq8lG13sGvyG"
      },
      "source": [
        "df1 = df.copy()"
      ],
      "execution_count": 4,
      "outputs": []
    },
    {
      "cell_type": "code",
      "metadata": {
        "colab": {
          "base_uri": "https://localhost:8080/",
          "height": 224
        },
        "id": "yYPQh6RSGvyH",
        "outputId": "4b46fe7f-b78c-438c-8129-5f33d02155ce"
      },
      "source": [
        "df1.head()"
      ],
      "execution_count": 5,
      "outputs": [
        {
          "output_type": "execute_result",
          "data": {
            "text/html": [
              "<div>\n",
              "<style scoped>\n",
              "    .dataframe tbody tr th:only-of-type {\n",
              "        vertical-align: middle;\n",
              "    }\n",
              "\n",
              "    .dataframe tbody tr th {\n",
              "        vertical-align: top;\n",
              "    }\n",
              "\n",
              "    .dataframe thead th {\n",
              "        text-align: right;\n",
              "    }\n",
              "</style>\n",
              "<table border=\"1\" class=\"dataframe\">\n",
              "  <thead>\n",
              "    <tr style=\"text-align: right;\">\n",
              "      <th></th>\n",
              "      <th>survived</th>\n",
              "      <th>pclass</th>\n",
              "      <th>sex</th>\n",
              "      <th>age</th>\n",
              "      <th>sibsp</th>\n",
              "      <th>parch</th>\n",
              "      <th>fare</th>\n",
              "      <th>embarked</th>\n",
              "      <th>class</th>\n",
              "      <th>who</th>\n",
              "      <th>adult_male</th>\n",
              "      <th>deck</th>\n",
              "      <th>embark_town</th>\n",
              "      <th>alive</th>\n",
              "      <th>alone</th>\n",
              "    </tr>\n",
              "  </thead>\n",
              "  <tbody>\n",
              "    <tr>\n",
              "      <th>0</th>\n",
              "      <td>0</td>\n",
              "      <td>3</td>\n",
              "      <td>male</td>\n",
              "      <td>22.0</td>\n",
              "      <td>1</td>\n",
              "      <td>0</td>\n",
              "      <td>7.2500</td>\n",
              "      <td>S</td>\n",
              "      <td>Third</td>\n",
              "      <td>man</td>\n",
              "      <td>True</td>\n",
              "      <td>NaN</td>\n",
              "      <td>Southampton</td>\n",
              "      <td>no</td>\n",
              "      <td>False</td>\n",
              "    </tr>\n",
              "    <tr>\n",
              "      <th>1</th>\n",
              "      <td>1</td>\n",
              "      <td>1</td>\n",
              "      <td>female</td>\n",
              "      <td>38.0</td>\n",
              "      <td>1</td>\n",
              "      <td>0</td>\n",
              "      <td>71.2833</td>\n",
              "      <td>C</td>\n",
              "      <td>First</td>\n",
              "      <td>woman</td>\n",
              "      <td>False</td>\n",
              "      <td>C</td>\n",
              "      <td>Cherbourg</td>\n",
              "      <td>yes</td>\n",
              "      <td>False</td>\n",
              "    </tr>\n",
              "    <tr>\n",
              "      <th>2</th>\n",
              "      <td>1</td>\n",
              "      <td>3</td>\n",
              "      <td>female</td>\n",
              "      <td>26.0</td>\n",
              "      <td>0</td>\n",
              "      <td>0</td>\n",
              "      <td>7.9250</td>\n",
              "      <td>S</td>\n",
              "      <td>Third</td>\n",
              "      <td>woman</td>\n",
              "      <td>False</td>\n",
              "      <td>NaN</td>\n",
              "      <td>Southampton</td>\n",
              "      <td>yes</td>\n",
              "      <td>True</td>\n",
              "    </tr>\n",
              "    <tr>\n",
              "      <th>3</th>\n",
              "      <td>1</td>\n",
              "      <td>1</td>\n",
              "      <td>female</td>\n",
              "      <td>35.0</td>\n",
              "      <td>1</td>\n",
              "      <td>0</td>\n",
              "      <td>53.1000</td>\n",
              "      <td>S</td>\n",
              "      <td>First</td>\n",
              "      <td>woman</td>\n",
              "      <td>False</td>\n",
              "      <td>C</td>\n",
              "      <td>Southampton</td>\n",
              "      <td>yes</td>\n",
              "      <td>False</td>\n",
              "    </tr>\n",
              "    <tr>\n",
              "      <th>4</th>\n",
              "      <td>0</td>\n",
              "      <td>3</td>\n",
              "      <td>male</td>\n",
              "      <td>35.0</td>\n",
              "      <td>0</td>\n",
              "      <td>0</td>\n",
              "      <td>8.0500</td>\n",
              "      <td>S</td>\n",
              "      <td>Third</td>\n",
              "      <td>man</td>\n",
              "      <td>True</td>\n",
              "      <td>NaN</td>\n",
              "      <td>Southampton</td>\n",
              "      <td>no</td>\n",
              "      <td>True</td>\n",
              "    </tr>\n",
              "  </tbody>\n",
              "</table>\n",
              "</div>"
            ],
            "text/plain": [
              "   survived  pclass     sex   age  ...  deck  embark_town  alive  alone\n",
              "0         0       3    male  22.0  ...   NaN  Southampton     no  False\n",
              "1         1       1  female  38.0  ...     C    Cherbourg    yes  False\n",
              "2         1       3  female  26.0  ...   NaN  Southampton    yes   True\n",
              "3         1       1  female  35.0  ...     C  Southampton    yes  False\n",
              "4         0       3    male  35.0  ...   NaN  Southampton     no   True\n",
              "\n",
              "[5 rows x 15 columns]"
            ]
          },
          "metadata": {},
          "execution_count": 5
        }
      ]
    },
    {
      "cell_type": "markdown",
      "metadata": {
        "id": "-loeBjaEGvyI"
      },
      "source": [
        "임의의 값을 **대입**하여 새로운 컬럼을 추가할 수 있습니다."
      ]
    },
    {
      "cell_type": "code",
      "metadata": {
        "id": "X1jvWPH6GvyK"
      },
      "source": [
        "# df1에 True로 채워진 'VIP' 컬럼을 추가합니다.\n",
        "df1['VIP'] = True"
      ],
      "execution_count": 6,
      "outputs": []
    },
    {
      "cell_type": "code",
      "metadata": {
        "colab": {
          "base_uri": "https://localhost:8080/",
          "height": 224
        },
        "id": "0x-9hSeqGvyL",
        "outputId": "9ebad667-ff54-4d96-c761-5708adad50a1"
      },
      "source": [
        "df1.head()"
      ],
      "execution_count": 7,
      "outputs": [
        {
          "output_type": "execute_result",
          "data": {
            "text/html": [
              "<div>\n",
              "<style scoped>\n",
              "    .dataframe tbody tr th:only-of-type {\n",
              "        vertical-align: middle;\n",
              "    }\n",
              "\n",
              "    .dataframe tbody tr th {\n",
              "        vertical-align: top;\n",
              "    }\n",
              "\n",
              "    .dataframe thead th {\n",
              "        text-align: right;\n",
              "    }\n",
              "</style>\n",
              "<table border=\"1\" class=\"dataframe\">\n",
              "  <thead>\n",
              "    <tr style=\"text-align: right;\">\n",
              "      <th></th>\n",
              "      <th>survived</th>\n",
              "      <th>pclass</th>\n",
              "      <th>sex</th>\n",
              "      <th>age</th>\n",
              "      <th>sibsp</th>\n",
              "      <th>parch</th>\n",
              "      <th>fare</th>\n",
              "      <th>embarked</th>\n",
              "      <th>class</th>\n",
              "      <th>who</th>\n",
              "      <th>adult_male</th>\n",
              "      <th>deck</th>\n",
              "      <th>embark_town</th>\n",
              "      <th>alive</th>\n",
              "      <th>alone</th>\n",
              "      <th>VIP</th>\n",
              "    </tr>\n",
              "  </thead>\n",
              "  <tbody>\n",
              "    <tr>\n",
              "      <th>0</th>\n",
              "      <td>0</td>\n",
              "      <td>3</td>\n",
              "      <td>male</td>\n",
              "      <td>22.0</td>\n",
              "      <td>1</td>\n",
              "      <td>0</td>\n",
              "      <td>7.2500</td>\n",
              "      <td>S</td>\n",
              "      <td>Third</td>\n",
              "      <td>man</td>\n",
              "      <td>True</td>\n",
              "      <td>NaN</td>\n",
              "      <td>Southampton</td>\n",
              "      <td>no</td>\n",
              "      <td>False</td>\n",
              "      <td>True</td>\n",
              "    </tr>\n",
              "    <tr>\n",
              "      <th>1</th>\n",
              "      <td>1</td>\n",
              "      <td>1</td>\n",
              "      <td>female</td>\n",
              "      <td>38.0</td>\n",
              "      <td>1</td>\n",
              "      <td>0</td>\n",
              "      <td>71.2833</td>\n",
              "      <td>C</td>\n",
              "      <td>First</td>\n",
              "      <td>woman</td>\n",
              "      <td>False</td>\n",
              "      <td>C</td>\n",
              "      <td>Cherbourg</td>\n",
              "      <td>yes</td>\n",
              "      <td>False</td>\n",
              "      <td>True</td>\n",
              "    </tr>\n",
              "    <tr>\n",
              "      <th>2</th>\n",
              "      <td>1</td>\n",
              "      <td>3</td>\n",
              "      <td>female</td>\n",
              "      <td>26.0</td>\n",
              "      <td>0</td>\n",
              "      <td>0</td>\n",
              "      <td>7.9250</td>\n",
              "      <td>S</td>\n",
              "      <td>Third</td>\n",
              "      <td>woman</td>\n",
              "      <td>False</td>\n",
              "      <td>NaN</td>\n",
              "      <td>Southampton</td>\n",
              "      <td>yes</td>\n",
              "      <td>True</td>\n",
              "      <td>True</td>\n",
              "    </tr>\n",
              "    <tr>\n",
              "      <th>3</th>\n",
              "      <td>1</td>\n",
              "      <td>1</td>\n",
              "      <td>female</td>\n",
              "      <td>35.0</td>\n",
              "      <td>1</td>\n",
              "      <td>0</td>\n",
              "      <td>53.1000</td>\n",
              "      <td>S</td>\n",
              "      <td>First</td>\n",
              "      <td>woman</td>\n",
              "      <td>False</td>\n",
              "      <td>C</td>\n",
              "      <td>Southampton</td>\n",
              "      <td>yes</td>\n",
              "      <td>False</td>\n",
              "      <td>True</td>\n",
              "    </tr>\n",
              "    <tr>\n",
              "      <th>4</th>\n",
              "      <td>0</td>\n",
              "      <td>3</td>\n",
              "      <td>male</td>\n",
              "      <td>35.0</td>\n",
              "      <td>0</td>\n",
              "      <td>0</td>\n",
              "      <td>8.0500</td>\n",
              "      <td>S</td>\n",
              "      <td>Third</td>\n",
              "      <td>man</td>\n",
              "      <td>True</td>\n",
              "      <td>NaN</td>\n",
              "      <td>Southampton</td>\n",
              "      <td>no</td>\n",
              "      <td>True</td>\n",
              "      <td>True</td>\n",
              "    </tr>\n",
              "  </tbody>\n",
              "</table>\n",
              "</div>"
            ],
            "text/plain": [
              "   survived  pclass     sex   age  sibsp  ...  deck  embark_town alive  alone   VIP\n",
              "0         0       3    male  22.0      1  ...   NaN  Southampton    no  False  True\n",
              "1         1       1  female  38.0      1  ...     C    Cherbourg   yes  False  True\n",
              "2         1       3  female  26.0      0  ...   NaN  Southampton   yes   True  True\n",
              "3         1       1  female  35.0      1  ...     C  Southampton   yes  False  True\n",
              "4         0       3    male  35.0      0  ...   NaN  Southampton    no   True  True\n",
              "\n",
              "[5 rows x 16 columns]"
            ]
          },
          "metadata": {},
          "execution_count": 7
        }
      ]
    },
    {
      "cell_type": "markdown",
      "metadata": {
        "id": "GlaoeTESGvyb"
      },
      "source": [
        "## 삭제\n",
        "\n",
        "삭제는 **행(row) 삭제와 열(column) 삭제**로 구분할 수 있습니다."
      ]
    },
    {
      "cell_type": "markdown",
      "metadata": {
        "id": "nAeuonzYGvyb"
      },
      "source": [
        "### 행 (row) 삭제"
      ]
    },
    {
      "cell_type": "markdown",
      "metadata": {
        "id": "Hc-NO2FwiIfH"
      },
      "source": [
        "행 삭제시 **index를 지정하여 삭제**합니다."
      ]
    },
    {
      "cell_type": "code",
      "metadata": {
        "colab": {
          "base_uri": "https://localhost:8080/",
          "height": 439
        },
        "id": "1uUZwCDkGvyb",
        "outputId": "904d54cc-4cb2-4c8d-dbce-c88bb0fd59fc"
      },
      "source": [
        "# df1의 1번 행을 삭제합니다.\n",
        "df1.drop(1)"
      ],
      "execution_count": 9,
      "outputs": [
        {
          "output_type": "execute_result",
          "data": {
            "text/html": [
              "<div>\n",
              "<style scoped>\n",
              "    .dataframe tbody tr th:only-of-type {\n",
              "        vertical-align: middle;\n",
              "    }\n",
              "\n",
              "    .dataframe tbody tr th {\n",
              "        vertical-align: top;\n",
              "    }\n",
              "\n",
              "    .dataframe thead th {\n",
              "        text-align: right;\n",
              "    }\n",
              "</style>\n",
              "<table border=\"1\" class=\"dataframe\">\n",
              "  <thead>\n",
              "    <tr style=\"text-align: right;\">\n",
              "      <th></th>\n",
              "      <th>survived</th>\n",
              "      <th>pclass</th>\n",
              "      <th>sex</th>\n",
              "      <th>age</th>\n",
              "      <th>sibsp</th>\n",
              "      <th>parch</th>\n",
              "      <th>fare</th>\n",
              "      <th>embarked</th>\n",
              "      <th>class</th>\n",
              "      <th>who</th>\n",
              "      <th>adult_male</th>\n",
              "      <th>deck</th>\n",
              "      <th>embark_town</th>\n",
              "      <th>alive</th>\n",
              "      <th>alone</th>\n",
              "      <th>VIP</th>\n",
              "    </tr>\n",
              "  </thead>\n",
              "  <tbody>\n",
              "    <tr>\n",
              "      <th>0</th>\n",
              "      <td>0</td>\n",
              "      <td>3</td>\n",
              "      <td>male</td>\n",
              "      <td>22.0</td>\n",
              "      <td>1</td>\n",
              "      <td>0</td>\n",
              "      <td>7.2500</td>\n",
              "      <td>S</td>\n",
              "      <td>Third</td>\n",
              "      <td>man</td>\n",
              "      <td>True</td>\n",
              "      <td>NaN</td>\n",
              "      <td>Southampton</td>\n",
              "      <td>no</td>\n",
              "      <td>False</td>\n",
              "      <td>True</td>\n",
              "    </tr>\n",
              "    <tr>\n",
              "      <th>2</th>\n",
              "      <td>1</td>\n",
              "      <td>3</td>\n",
              "      <td>female</td>\n",
              "      <td>26.0</td>\n",
              "      <td>0</td>\n",
              "      <td>0</td>\n",
              "      <td>7.9250</td>\n",
              "      <td>S</td>\n",
              "      <td>Third</td>\n",
              "      <td>woman</td>\n",
              "      <td>False</td>\n",
              "      <td>NaN</td>\n",
              "      <td>Southampton</td>\n",
              "      <td>yes</td>\n",
              "      <td>True</td>\n",
              "      <td>True</td>\n",
              "    </tr>\n",
              "    <tr>\n",
              "      <th>3</th>\n",
              "      <td>1</td>\n",
              "      <td>1</td>\n",
              "      <td>female</td>\n",
              "      <td>35.0</td>\n",
              "      <td>1</td>\n",
              "      <td>0</td>\n",
              "      <td>53.1000</td>\n",
              "      <td>S</td>\n",
              "      <td>First</td>\n",
              "      <td>woman</td>\n",
              "      <td>False</td>\n",
              "      <td>C</td>\n",
              "      <td>Southampton</td>\n",
              "      <td>yes</td>\n",
              "      <td>False</td>\n",
              "      <td>True</td>\n",
              "    </tr>\n",
              "    <tr>\n",
              "      <th>4</th>\n",
              "      <td>0</td>\n",
              "      <td>3</td>\n",
              "      <td>male</td>\n",
              "      <td>35.0</td>\n",
              "      <td>0</td>\n",
              "      <td>0</td>\n",
              "      <td>8.0500</td>\n",
              "      <td>S</td>\n",
              "      <td>Third</td>\n",
              "      <td>man</td>\n",
              "      <td>True</td>\n",
              "      <td>NaN</td>\n",
              "      <td>Southampton</td>\n",
              "      <td>no</td>\n",
              "      <td>True</td>\n",
              "      <td>True</td>\n",
              "    </tr>\n",
              "    <tr>\n",
              "      <th>5</th>\n",
              "      <td>0</td>\n",
              "      <td>3</td>\n",
              "      <td>male</td>\n",
              "      <td>NaN</td>\n",
              "      <td>0</td>\n",
              "      <td>0</td>\n",
              "      <td>8.4583</td>\n",
              "      <td>Q</td>\n",
              "      <td>Third</td>\n",
              "      <td>man</td>\n",
              "      <td>True</td>\n",
              "      <td>NaN</td>\n",
              "      <td>Queenstown</td>\n",
              "      <td>no</td>\n",
              "      <td>True</td>\n",
              "      <td>True</td>\n",
              "    </tr>\n",
              "    <tr>\n",
              "      <th>...</th>\n",
              "      <td>...</td>\n",
              "      <td>...</td>\n",
              "      <td>...</td>\n",
              "      <td>...</td>\n",
              "      <td>...</td>\n",
              "      <td>...</td>\n",
              "      <td>...</td>\n",
              "      <td>...</td>\n",
              "      <td>...</td>\n",
              "      <td>...</td>\n",
              "      <td>...</td>\n",
              "      <td>...</td>\n",
              "      <td>...</td>\n",
              "      <td>...</td>\n",
              "      <td>...</td>\n",
              "      <td>...</td>\n",
              "    </tr>\n",
              "    <tr>\n",
              "      <th>886</th>\n",
              "      <td>0</td>\n",
              "      <td>2</td>\n",
              "      <td>male</td>\n",
              "      <td>27.0</td>\n",
              "      <td>0</td>\n",
              "      <td>0</td>\n",
              "      <td>13.0000</td>\n",
              "      <td>S</td>\n",
              "      <td>Second</td>\n",
              "      <td>man</td>\n",
              "      <td>True</td>\n",
              "      <td>NaN</td>\n",
              "      <td>Southampton</td>\n",
              "      <td>no</td>\n",
              "      <td>True</td>\n",
              "      <td>True</td>\n",
              "    </tr>\n",
              "    <tr>\n",
              "      <th>887</th>\n",
              "      <td>1</td>\n",
              "      <td>1</td>\n",
              "      <td>female</td>\n",
              "      <td>19.0</td>\n",
              "      <td>0</td>\n",
              "      <td>0</td>\n",
              "      <td>30.0000</td>\n",
              "      <td>S</td>\n",
              "      <td>First</td>\n",
              "      <td>woman</td>\n",
              "      <td>False</td>\n",
              "      <td>B</td>\n",
              "      <td>Southampton</td>\n",
              "      <td>yes</td>\n",
              "      <td>True</td>\n",
              "      <td>True</td>\n",
              "    </tr>\n",
              "    <tr>\n",
              "      <th>888</th>\n",
              "      <td>0</td>\n",
              "      <td>3</td>\n",
              "      <td>female</td>\n",
              "      <td>NaN</td>\n",
              "      <td>1</td>\n",
              "      <td>2</td>\n",
              "      <td>23.4500</td>\n",
              "      <td>S</td>\n",
              "      <td>Third</td>\n",
              "      <td>woman</td>\n",
              "      <td>False</td>\n",
              "      <td>NaN</td>\n",
              "      <td>Southampton</td>\n",
              "      <td>no</td>\n",
              "      <td>False</td>\n",
              "      <td>True</td>\n",
              "    </tr>\n",
              "    <tr>\n",
              "      <th>889</th>\n",
              "      <td>1</td>\n",
              "      <td>1</td>\n",
              "      <td>male</td>\n",
              "      <td>26.0</td>\n",
              "      <td>0</td>\n",
              "      <td>0</td>\n",
              "      <td>30.0000</td>\n",
              "      <td>C</td>\n",
              "      <td>First</td>\n",
              "      <td>man</td>\n",
              "      <td>True</td>\n",
              "      <td>C</td>\n",
              "      <td>Cherbourg</td>\n",
              "      <td>yes</td>\n",
              "      <td>True</td>\n",
              "      <td>True</td>\n",
              "    </tr>\n",
              "    <tr>\n",
              "      <th>890</th>\n",
              "      <td>0</td>\n",
              "      <td>3</td>\n",
              "      <td>male</td>\n",
              "      <td>32.0</td>\n",
              "      <td>0</td>\n",
              "      <td>0</td>\n",
              "      <td>7.7500</td>\n",
              "      <td>Q</td>\n",
              "      <td>Third</td>\n",
              "      <td>man</td>\n",
              "      <td>True</td>\n",
              "      <td>NaN</td>\n",
              "      <td>Queenstown</td>\n",
              "      <td>no</td>\n",
              "      <td>True</td>\n",
              "      <td>True</td>\n",
              "    </tr>\n",
              "  </tbody>\n",
              "</table>\n",
              "<p>890 rows × 16 columns</p>\n",
              "</div>"
            ],
            "text/plain": [
              "     survived  pclass     sex   age  sibsp  ...  deck  embark_town alive  alone   VIP\n",
              "0           0       3    male  22.0      1  ...   NaN  Southampton    no  False  True\n",
              "2           1       3  female  26.0      0  ...   NaN  Southampton   yes   True  True\n",
              "3           1       1  female  35.0      1  ...     C  Southampton   yes  False  True\n",
              "4           0       3    male  35.0      0  ...   NaN  Southampton    no   True  True\n",
              "5           0       3    male   NaN      0  ...   NaN   Queenstown    no   True  True\n",
              "..        ...     ...     ...   ...    ...  ...   ...          ...   ...    ...   ...\n",
              "886         0       2    male  27.0      0  ...   NaN  Southampton    no   True  True\n",
              "887         1       1  female  19.0      0  ...     B  Southampton   yes   True  True\n",
              "888         0       3  female   NaN      1  ...   NaN  Southampton    no  False  True\n",
              "889         1       1    male  26.0      0  ...     C    Cherbourg   yes   True  True\n",
              "890         0       3    male  32.0      0  ...   NaN   Queenstown    no   True  True\n",
              "\n",
              "[890 rows x 16 columns]"
            ]
          },
          "metadata": {},
          "execution_count": 9
        }
      ]
    },
    {
      "cell_type": "markdown",
      "metadata": {
        "id": "x-IRMq7oiIfK"
      },
      "source": [
        "행 삭제시 **범위(목록)를 지정하여 삭제**할 수 있습니다."
      ]
    },
    {
      "cell_type": "code",
      "metadata": {
        "id": "DHtRkLwXiIfK",
        "colab": {
          "base_uri": "https://localhost:8080/"
        },
        "outputId": "e22d9bc4-0f14-4f4e-e2c5-4f7f1d3f50d1"
      },
      "source": [
        "df1.index[0:10]"
      ],
      "execution_count": 10,
      "outputs": [
        {
          "output_type": "execute_result",
          "data": {
            "text/plain": [
              "RangeIndex(start=0, stop=10, step=1)"
            ]
          },
          "metadata": {},
          "execution_count": 10
        }
      ]
    },
    {
      "cell_type": "code",
      "metadata": {
        "colab": {
          "base_uri": "https://localhost:8080/"
        },
        "id": "KCT57Nl-Gvyd",
        "outputId": "48650445-bb69-474e-852d-c28837165b8d"
      },
      "source": [
        "# df1에서 0 ~ 9번 행을 삭제합니다\n",
        "tuple(range(10))"
      ],
      "execution_count": 11,
      "outputs": [
        {
          "output_type": "execute_result",
          "data": {
            "text/plain": [
              "(0, 1, 2, 3, 4, 5, 6, 7, 8, 9)"
            ]
          },
          "metadata": {},
          "execution_count": 11
        }
      ]
    },
    {
      "cell_type": "code",
      "metadata": {
        "colab": {
          "base_uri": "https://localhost:8080/",
          "height": 439
        },
        "id": "HlnG_zgG1yvb",
        "outputId": "10faa978-e678-4377-acd8-94b677d749e9"
      },
      "source": [
        "# df1에서 0 ~ 9번 행을 삭제합니다\n",
        "# list_like => range(10), list(range(10))\n",
        "df1.drop(range(10))"
      ],
      "execution_count": 12,
      "outputs": [
        {
          "output_type": "execute_result",
          "data": {
            "text/html": [
              "<div>\n",
              "<style scoped>\n",
              "    .dataframe tbody tr th:only-of-type {\n",
              "        vertical-align: middle;\n",
              "    }\n",
              "\n",
              "    .dataframe tbody tr th {\n",
              "        vertical-align: top;\n",
              "    }\n",
              "\n",
              "    .dataframe thead th {\n",
              "        text-align: right;\n",
              "    }\n",
              "</style>\n",
              "<table border=\"1\" class=\"dataframe\">\n",
              "  <thead>\n",
              "    <tr style=\"text-align: right;\">\n",
              "      <th></th>\n",
              "      <th>survived</th>\n",
              "      <th>pclass</th>\n",
              "      <th>sex</th>\n",
              "      <th>age</th>\n",
              "      <th>sibsp</th>\n",
              "      <th>parch</th>\n",
              "      <th>fare</th>\n",
              "      <th>embarked</th>\n",
              "      <th>class</th>\n",
              "      <th>who</th>\n",
              "      <th>adult_male</th>\n",
              "      <th>deck</th>\n",
              "      <th>embark_town</th>\n",
              "      <th>alive</th>\n",
              "      <th>alone</th>\n",
              "      <th>VIP</th>\n",
              "    </tr>\n",
              "  </thead>\n",
              "  <tbody>\n",
              "    <tr>\n",
              "      <th>10</th>\n",
              "      <td>1</td>\n",
              "      <td>3</td>\n",
              "      <td>female</td>\n",
              "      <td>4.0</td>\n",
              "      <td>1</td>\n",
              "      <td>1</td>\n",
              "      <td>16.7000</td>\n",
              "      <td>S</td>\n",
              "      <td>Third</td>\n",
              "      <td>child</td>\n",
              "      <td>False</td>\n",
              "      <td>G</td>\n",
              "      <td>Southampton</td>\n",
              "      <td>yes</td>\n",
              "      <td>False</td>\n",
              "      <td>True</td>\n",
              "    </tr>\n",
              "    <tr>\n",
              "      <th>11</th>\n",
              "      <td>1</td>\n",
              "      <td>1</td>\n",
              "      <td>female</td>\n",
              "      <td>58.0</td>\n",
              "      <td>0</td>\n",
              "      <td>0</td>\n",
              "      <td>26.5500</td>\n",
              "      <td>S</td>\n",
              "      <td>First</td>\n",
              "      <td>woman</td>\n",
              "      <td>False</td>\n",
              "      <td>C</td>\n",
              "      <td>Southampton</td>\n",
              "      <td>yes</td>\n",
              "      <td>True</td>\n",
              "      <td>True</td>\n",
              "    </tr>\n",
              "    <tr>\n",
              "      <th>12</th>\n",
              "      <td>0</td>\n",
              "      <td>3</td>\n",
              "      <td>male</td>\n",
              "      <td>20.0</td>\n",
              "      <td>0</td>\n",
              "      <td>0</td>\n",
              "      <td>8.0500</td>\n",
              "      <td>S</td>\n",
              "      <td>Third</td>\n",
              "      <td>man</td>\n",
              "      <td>True</td>\n",
              "      <td>NaN</td>\n",
              "      <td>Southampton</td>\n",
              "      <td>no</td>\n",
              "      <td>True</td>\n",
              "      <td>True</td>\n",
              "    </tr>\n",
              "    <tr>\n",
              "      <th>13</th>\n",
              "      <td>0</td>\n",
              "      <td>3</td>\n",
              "      <td>male</td>\n",
              "      <td>39.0</td>\n",
              "      <td>1</td>\n",
              "      <td>5</td>\n",
              "      <td>31.2750</td>\n",
              "      <td>S</td>\n",
              "      <td>Third</td>\n",
              "      <td>man</td>\n",
              "      <td>True</td>\n",
              "      <td>NaN</td>\n",
              "      <td>Southampton</td>\n",
              "      <td>no</td>\n",
              "      <td>False</td>\n",
              "      <td>True</td>\n",
              "    </tr>\n",
              "    <tr>\n",
              "      <th>14</th>\n",
              "      <td>0</td>\n",
              "      <td>3</td>\n",
              "      <td>female</td>\n",
              "      <td>14.0</td>\n",
              "      <td>0</td>\n",
              "      <td>0</td>\n",
              "      <td>7.8542</td>\n",
              "      <td>S</td>\n",
              "      <td>Third</td>\n",
              "      <td>child</td>\n",
              "      <td>False</td>\n",
              "      <td>NaN</td>\n",
              "      <td>Southampton</td>\n",
              "      <td>no</td>\n",
              "      <td>True</td>\n",
              "      <td>True</td>\n",
              "    </tr>\n",
              "    <tr>\n",
              "      <th>...</th>\n",
              "      <td>...</td>\n",
              "      <td>...</td>\n",
              "      <td>...</td>\n",
              "      <td>...</td>\n",
              "      <td>...</td>\n",
              "      <td>...</td>\n",
              "      <td>...</td>\n",
              "      <td>...</td>\n",
              "      <td>...</td>\n",
              "      <td>...</td>\n",
              "      <td>...</td>\n",
              "      <td>...</td>\n",
              "      <td>...</td>\n",
              "      <td>...</td>\n",
              "      <td>...</td>\n",
              "      <td>...</td>\n",
              "    </tr>\n",
              "    <tr>\n",
              "      <th>886</th>\n",
              "      <td>0</td>\n",
              "      <td>2</td>\n",
              "      <td>male</td>\n",
              "      <td>27.0</td>\n",
              "      <td>0</td>\n",
              "      <td>0</td>\n",
              "      <td>13.0000</td>\n",
              "      <td>S</td>\n",
              "      <td>Second</td>\n",
              "      <td>man</td>\n",
              "      <td>True</td>\n",
              "      <td>NaN</td>\n",
              "      <td>Southampton</td>\n",
              "      <td>no</td>\n",
              "      <td>True</td>\n",
              "      <td>True</td>\n",
              "    </tr>\n",
              "    <tr>\n",
              "      <th>887</th>\n",
              "      <td>1</td>\n",
              "      <td>1</td>\n",
              "      <td>female</td>\n",
              "      <td>19.0</td>\n",
              "      <td>0</td>\n",
              "      <td>0</td>\n",
              "      <td>30.0000</td>\n",
              "      <td>S</td>\n",
              "      <td>First</td>\n",
              "      <td>woman</td>\n",
              "      <td>False</td>\n",
              "      <td>B</td>\n",
              "      <td>Southampton</td>\n",
              "      <td>yes</td>\n",
              "      <td>True</td>\n",
              "      <td>True</td>\n",
              "    </tr>\n",
              "    <tr>\n",
              "      <th>888</th>\n",
              "      <td>0</td>\n",
              "      <td>3</td>\n",
              "      <td>female</td>\n",
              "      <td>NaN</td>\n",
              "      <td>1</td>\n",
              "      <td>2</td>\n",
              "      <td>23.4500</td>\n",
              "      <td>S</td>\n",
              "      <td>Third</td>\n",
              "      <td>woman</td>\n",
              "      <td>False</td>\n",
              "      <td>NaN</td>\n",
              "      <td>Southampton</td>\n",
              "      <td>no</td>\n",
              "      <td>False</td>\n",
              "      <td>True</td>\n",
              "    </tr>\n",
              "    <tr>\n",
              "      <th>889</th>\n",
              "      <td>1</td>\n",
              "      <td>1</td>\n",
              "      <td>male</td>\n",
              "      <td>26.0</td>\n",
              "      <td>0</td>\n",
              "      <td>0</td>\n",
              "      <td>30.0000</td>\n",
              "      <td>C</td>\n",
              "      <td>First</td>\n",
              "      <td>man</td>\n",
              "      <td>True</td>\n",
              "      <td>C</td>\n",
              "      <td>Cherbourg</td>\n",
              "      <td>yes</td>\n",
              "      <td>True</td>\n",
              "      <td>True</td>\n",
              "    </tr>\n",
              "    <tr>\n",
              "      <th>890</th>\n",
              "      <td>0</td>\n",
              "      <td>3</td>\n",
              "      <td>male</td>\n",
              "      <td>32.0</td>\n",
              "      <td>0</td>\n",
              "      <td>0</td>\n",
              "      <td>7.7500</td>\n",
              "      <td>Q</td>\n",
              "      <td>Third</td>\n",
              "      <td>man</td>\n",
              "      <td>True</td>\n",
              "      <td>NaN</td>\n",
              "      <td>Queenstown</td>\n",
              "      <td>no</td>\n",
              "      <td>True</td>\n",
              "      <td>True</td>\n",
              "    </tr>\n",
              "  </tbody>\n",
              "</table>\n",
              "<p>881 rows × 16 columns</p>\n",
              "</div>"
            ],
            "text/plain": [
              "     survived  pclass     sex   age  sibsp  ...  deck  embark_town alive  alone   VIP\n",
              "10          1       3  female   4.0      1  ...     G  Southampton   yes  False  True\n",
              "11          1       1  female  58.0      0  ...     C  Southampton   yes   True  True\n",
              "12          0       3    male  20.0      0  ...   NaN  Southampton    no   True  True\n",
              "13          0       3    male  39.0      1  ...   NaN  Southampton    no  False  True\n",
              "14          0       3  female  14.0      0  ...   NaN  Southampton    no   True  True\n",
              "..        ...     ...     ...   ...    ...  ...   ...          ...   ...    ...   ...\n",
              "886         0       2    male  27.0      0  ...   NaN  Southampton    no   True  True\n",
              "887         1       1  female  19.0      0  ...     B  Southampton   yes   True  True\n",
              "888         0       3  female   NaN      1  ...   NaN  Southampton    no  False  True\n",
              "889         1       1    male  26.0      0  ...     C    Cherbourg   yes   True  True\n",
              "890         0       3    male  32.0      0  ...   NaN   Queenstown    no   True  True\n",
              "\n",
              "[881 rows x 16 columns]"
            ]
          },
          "metadata": {},
          "execution_count": 12
        }
      ]
    },
    {
      "cell_type": "code",
      "metadata": {
        "id": "75jpxQhi3ieH"
      },
      "source": [
        "삭제하는 이유\n",
        "- 이상치 : 공식(IQR, 평균*표준편차), 그래프(boxplot, scatter)\n",
        "- 날씨 : 2015년 -> 2021년 굉장한 차이가 있다, 이상치이다 - 의미가 있음 (삭제하지 않고 사용함)\n",
        "- 제거할 Feature : 분산 0(같은 값으로만 구성됨), Feature1, Feature2 => -1이나 1에 가까운 상관관계를 보임"
      ],
      "execution_count": null,
      "outputs": []
    },
    {
      "cell_type": "markdown",
      "metadata": {
        "id": "TvPzYufviIfO"
      },
      "source": [
        "**fancy indexing**을 활용하여 삭제할 수 있습니다."
      ]
    },
    {
      "cell_type": "code",
      "metadata": {
        "id": "QDJxaOi5iIfP",
        "colab": {
          "base_uri": "https://localhost:8080/",
          "height": 439
        },
        "outputId": "bb55288e-40e9-4b18-95f2-d42b88f798a7"
      },
      "source": [
        "# df1에서 1, 3, 5, 7, 9 행을 삭제합니다\n",
        "df1.drop([1,3,5,7,9])"
      ],
      "execution_count": 13,
      "outputs": [
        {
          "output_type": "execute_result",
          "data": {
            "text/html": [
              "<div>\n",
              "<style scoped>\n",
              "    .dataframe tbody tr th:only-of-type {\n",
              "        vertical-align: middle;\n",
              "    }\n",
              "\n",
              "    .dataframe tbody tr th {\n",
              "        vertical-align: top;\n",
              "    }\n",
              "\n",
              "    .dataframe thead th {\n",
              "        text-align: right;\n",
              "    }\n",
              "</style>\n",
              "<table border=\"1\" class=\"dataframe\">\n",
              "  <thead>\n",
              "    <tr style=\"text-align: right;\">\n",
              "      <th></th>\n",
              "      <th>survived</th>\n",
              "      <th>pclass</th>\n",
              "      <th>sex</th>\n",
              "      <th>age</th>\n",
              "      <th>sibsp</th>\n",
              "      <th>parch</th>\n",
              "      <th>fare</th>\n",
              "      <th>embarked</th>\n",
              "      <th>class</th>\n",
              "      <th>who</th>\n",
              "      <th>adult_male</th>\n",
              "      <th>deck</th>\n",
              "      <th>embark_town</th>\n",
              "      <th>alive</th>\n",
              "      <th>alone</th>\n",
              "      <th>VIP</th>\n",
              "    </tr>\n",
              "  </thead>\n",
              "  <tbody>\n",
              "    <tr>\n",
              "      <th>0</th>\n",
              "      <td>0</td>\n",
              "      <td>3</td>\n",
              "      <td>male</td>\n",
              "      <td>22.0</td>\n",
              "      <td>1</td>\n",
              "      <td>0</td>\n",
              "      <td>7.2500</td>\n",
              "      <td>S</td>\n",
              "      <td>Third</td>\n",
              "      <td>man</td>\n",
              "      <td>True</td>\n",
              "      <td>NaN</td>\n",
              "      <td>Southampton</td>\n",
              "      <td>no</td>\n",
              "      <td>False</td>\n",
              "      <td>True</td>\n",
              "    </tr>\n",
              "    <tr>\n",
              "      <th>2</th>\n",
              "      <td>1</td>\n",
              "      <td>3</td>\n",
              "      <td>female</td>\n",
              "      <td>26.0</td>\n",
              "      <td>0</td>\n",
              "      <td>0</td>\n",
              "      <td>7.9250</td>\n",
              "      <td>S</td>\n",
              "      <td>Third</td>\n",
              "      <td>woman</td>\n",
              "      <td>False</td>\n",
              "      <td>NaN</td>\n",
              "      <td>Southampton</td>\n",
              "      <td>yes</td>\n",
              "      <td>True</td>\n",
              "      <td>True</td>\n",
              "    </tr>\n",
              "    <tr>\n",
              "      <th>4</th>\n",
              "      <td>0</td>\n",
              "      <td>3</td>\n",
              "      <td>male</td>\n",
              "      <td>35.0</td>\n",
              "      <td>0</td>\n",
              "      <td>0</td>\n",
              "      <td>8.0500</td>\n",
              "      <td>S</td>\n",
              "      <td>Third</td>\n",
              "      <td>man</td>\n",
              "      <td>True</td>\n",
              "      <td>NaN</td>\n",
              "      <td>Southampton</td>\n",
              "      <td>no</td>\n",
              "      <td>True</td>\n",
              "      <td>True</td>\n",
              "    </tr>\n",
              "    <tr>\n",
              "      <th>6</th>\n",
              "      <td>0</td>\n",
              "      <td>1</td>\n",
              "      <td>male</td>\n",
              "      <td>54.0</td>\n",
              "      <td>0</td>\n",
              "      <td>0</td>\n",
              "      <td>51.8625</td>\n",
              "      <td>S</td>\n",
              "      <td>First</td>\n",
              "      <td>man</td>\n",
              "      <td>True</td>\n",
              "      <td>E</td>\n",
              "      <td>Southampton</td>\n",
              "      <td>no</td>\n",
              "      <td>True</td>\n",
              "      <td>True</td>\n",
              "    </tr>\n",
              "    <tr>\n",
              "      <th>8</th>\n",
              "      <td>1</td>\n",
              "      <td>3</td>\n",
              "      <td>female</td>\n",
              "      <td>27.0</td>\n",
              "      <td>0</td>\n",
              "      <td>2</td>\n",
              "      <td>11.1333</td>\n",
              "      <td>S</td>\n",
              "      <td>Third</td>\n",
              "      <td>woman</td>\n",
              "      <td>False</td>\n",
              "      <td>NaN</td>\n",
              "      <td>Southampton</td>\n",
              "      <td>yes</td>\n",
              "      <td>False</td>\n",
              "      <td>True</td>\n",
              "    </tr>\n",
              "    <tr>\n",
              "      <th>...</th>\n",
              "      <td>...</td>\n",
              "      <td>...</td>\n",
              "      <td>...</td>\n",
              "      <td>...</td>\n",
              "      <td>...</td>\n",
              "      <td>...</td>\n",
              "      <td>...</td>\n",
              "      <td>...</td>\n",
              "      <td>...</td>\n",
              "      <td>...</td>\n",
              "      <td>...</td>\n",
              "      <td>...</td>\n",
              "      <td>...</td>\n",
              "      <td>...</td>\n",
              "      <td>...</td>\n",
              "      <td>...</td>\n",
              "    </tr>\n",
              "    <tr>\n",
              "      <th>886</th>\n",
              "      <td>0</td>\n",
              "      <td>2</td>\n",
              "      <td>male</td>\n",
              "      <td>27.0</td>\n",
              "      <td>0</td>\n",
              "      <td>0</td>\n",
              "      <td>13.0000</td>\n",
              "      <td>S</td>\n",
              "      <td>Second</td>\n",
              "      <td>man</td>\n",
              "      <td>True</td>\n",
              "      <td>NaN</td>\n",
              "      <td>Southampton</td>\n",
              "      <td>no</td>\n",
              "      <td>True</td>\n",
              "      <td>True</td>\n",
              "    </tr>\n",
              "    <tr>\n",
              "      <th>887</th>\n",
              "      <td>1</td>\n",
              "      <td>1</td>\n",
              "      <td>female</td>\n",
              "      <td>19.0</td>\n",
              "      <td>0</td>\n",
              "      <td>0</td>\n",
              "      <td>30.0000</td>\n",
              "      <td>S</td>\n",
              "      <td>First</td>\n",
              "      <td>woman</td>\n",
              "      <td>False</td>\n",
              "      <td>B</td>\n",
              "      <td>Southampton</td>\n",
              "      <td>yes</td>\n",
              "      <td>True</td>\n",
              "      <td>True</td>\n",
              "    </tr>\n",
              "    <tr>\n",
              "      <th>888</th>\n",
              "      <td>0</td>\n",
              "      <td>3</td>\n",
              "      <td>female</td>\n",
              "      <td>NaN</td>\n",
              "      <td>1</td>\n",
              "      <td>2</td>\n",
              "      <td>23.4500</td>\n",
              "      <td>S</td>\n",
              "      <td>Third</td>\n",
              "      <td>woman</td>\n",
              "      <td>False</td>\n",
              "      <td>NaN</td>\n",
              "      <td>Southampton</td>\n",
              "      <td>no</td>\n",
              "      <td>False</td>\n",
              "      <td>True</td>\n",
              "    </tr>\n",
              "    <tr>\n",
              "      <th>889</th>\n",
              "      <td>1</td>\n",
              "      <td>1</td>\n",
              "      <td>male</td>\n",
              "      <td>26.0</td>\n",
              "      <td>0</td>\n",
              "      <td>0</td>\n",
              "      <td>30.0000</td>\n",
              "      <td>C</td>\n",
              "      <td>First</td>\n",
              "      <td>man</td>\n",
              "      <td>True</td>\n",
              "      <td>C</td>\n",
              "      <td>Cherbourg</td>\n",
              "      <td>yes</td>\n",
              "      <td>True</td>\n",
              "      <td>True</td>\n",
              "    </tr>\n",
              "    <tr>\n",
              "      <th>890</th>\n",
              "      <td>0</td>\n",
              "      <td>3</td>\n",
              "      <td>male</td>\n",
              "      <td>32.0</td>\n",
              "      <td>0</td>\n",
              "      <td>0</td>\n",
              "      <td>7.7500</td>\n",
              "      <td>Q</td>\n",
              "      <td>Third</td>\n",
              "      <td>man</td>\n",
              "      <td>True</td>\n",
              "      <td>NaN</td>\n",
              "      <td>Queenstown</td>\n",
              "      <td>no</td>\n",
              "      <td>True</td>\n",
              "      <td>True</td>\n",
              "    </tr>\n",
              "  </tbody>\n",
              "</table>\n",
              "<p>886 rows × 16 columns</p>\n",
              "</div>"
            ],
            "text/plain": [
              "     survived  pclass     sex   age  sibsp  ...  deck  embark_town alive  alone   VIP\n",
              "0           0       3    male  22.0      1  ...   NaN  Southampton    no  False  True\n",
              "2           1       3  female  26.0      0  ...   NaN  Southampton   yes   True  True\n",
              "4           0       3    male  35.0      0  ...   NaN  Southampton    no   True  True\n",
              "6           0       1    male  54.0      0  ...     E  Southampton    no   True  True\n",
              "8           1       3  female  27.0      0  ...   NaN  Southampton   yes  False  True\n",
              "..        ...     ...     ...   ...    ...  ...   ...          ...   ...    ...   ...\n",
              "886         0       2    male  27.0      0  ...   NaN  Southampton    no   True  True\n",
              "887         1       1  female  19.0      0  ...     B  Southampton   yes   True  True\n",
              "888         0       3  female   NaN      1  ...   NaN  Southampton    no  False  True\n",
              "889         1       1    male  26.0      0  ...     C    Cherbourg   yes   True  True\n",
              "890         0       3    male  32.0      0  ...   NaN   Queenstown    no   True  True\n",
              "\n",
              "[886 rows x 16 columns]"
            ]
          },
          "metadata": {},
          "execution_count": 13
        }
      ]
    },
    {
      "cell_type": "markdown",
      "metadata": {
        "id": "9DSbXYcUGvye"
      },
      "source": [
        "### 열 (column) 삭제"
      ]
    },
    {
      "cell_type": "code",
      "metadata": {
        "id": "uuChIcrriIfS",
        "colab": {
          "base_uri": "https://localhost:8080/",
          "height": 224
        },
        "outputId": "0de061a2-95c7-47fa-97e2-a61fb483bff7"
      },
      "source": [
        "df1.head()"
      ],
      "execution_count": 16,
      "outputs": [
        {
          "output_type": "execute_result",
          "data": {
            "text/html": [
              "<div>\n",
              "<style scoped>\n",
              "    .dataframe tbody tr th:only-of-type {\n",
              "        vertical-align: middle;\n",
              "    }\n",
              "\n",
              "    .dataframe tbody tr th {\n",
              "        vertical-align: top;\n",
              "    }\n",
              "\n",
              "    .dataframe thead th {\n",
              "        text-align: right;\n",
              "    }\n",
              "</style>\n",
              "<table border=\"1\" class=\"dataframe\">\n",
              "  <thead>\n",
              "    <tr style=\"text-align: right;\">\n",
              "      <th></th>\n",
              "      <th>survived</th>\n",
              "      <th>pclass</th>\n",
              "      <th>sex</th>\n",
              "      <th>age</th>\n",
              "      <th>sibsp</th>\n",
              "      <th>parch</th>\n",
              "      <th>fare</th>\n",
              "      <th>embarked</th>\n",
              "      <th>class</th>\n",
              "      <th>who</th>\n",
              "      <th>adult_male</th>\n",
              "      <th>deck</th>\n",
              "      <th>embark_town</th>\n",
              "      <th>alive</th>\n",
              "      <th>alone</th>\n",
              "      <th>VIP</th>\n",
              "    </tr>\n",
              "  </thead>\n",
              "  <tbody>\n",
              "    <tr>\n",
              "      <th>0</th>\n",
              "      <td>0</td>\n",
              "      <td>3</td>\n",
              "      <td>male</td>\n",
              "      <td>22.0</td>\n",
              "      <td>1</td>\n",
              "      <td>0</td>\n",
              "      <td>7.2500</td>\n",
              "      <td>S</td>\n",
              "      <td>Third</td>\n",
              "      <td>man</td>\n",
              "      <td>True</td>\n",
              "      <td>NaN</td>\n",
              "      <td>Southampton</td>\n",
              "      <td>no</td>\n",
              "      <td>False</td>\n",
              "      <td>True</td>\n",
              "    </tr>\n",
              "    <tr>\n",
              "      <th>1</th>\n",
              "      <td>1</td>\n",
              "      <td>1</td>\n",
              "      <td>female</td>\n",
              "      <td>38.0</td>\n",
              "      <td>1</td>\n",
              "      <td>0</td>\n",
              "      <td>71.2833</td>\n",
              "      <td>C</td>\n",
              "      <td>First</td>\n",
              "      <td>woman</td>\n",
              "      <td>False</td>\n",
              "      <td>C</td>\n",
              "      <td>Cherbourg</td>\n",
              "      <td>yes</td>\n",
              "      <td>False</td>\n",
              "      <td>True</td>\n",
              "    </tr>\n",
              "    <tr>\n",
              "      <th>2</th>\n",
              "      <td>1</td>\n",
              "      <td>3</td>\n",
              "      <td>female</td>\n",
              "      <td>26.0</td>\n",
              "      <td>0</td>\n",
              "      <td>0</td>\n",
              "      <td>7.9250</td>\n",
              "      <td>S</td>\n",
              "      <td>Third</td>\n",
              "      <td>woman</td>\n",
              "      <td>False</td>\n",
              "      <td>NaN</td>\n",
              "      <td>Southampton</td>\n",
              "      <td>yes</td>\n",
              "      <td>True</td>\n",
              "      <td>True</td>\n",
              "    </tr>\n",
              "    <tr>\n",
              "      <th>3</th>\n",
              "      <td>1</td>\n",
              "      <td>1</td>\n",
              "      <td>female</td>\n",
              "      <td>35.0</td>\n",
              "      <td>1</td>\n",
              "      <td>0</td>\n",
              "      <td>53.1000</td>\n",
              "      <td>S</td>\n",
              "      <td>First</td>\n",
              "      <td>woman</td>\n",
              "      <td>False</td>\n",
              "      <td>C</td>\n",
              "      <td>Southampton</td>\n",
              "      <td>yes</td>\n",
              "      <td>False</td>\n",
              "      <td>True</td>\n",
              "    </tr>\n",
              "    <tr>\n",
              "      <th>4</th>\n",
              "      <td>0</td>\n",
              "      <td>3</td>\n",
              "      <td>male</td>\n",
              "      <td>35.0</td>\n",
              "      <td>0</td>\n",
              "      <td>0</td>\n",
              "      <td>8.0500</td>\n",
              "      <td>S</td>\n",
              "      <td>Third</td>\n",
              "      <td>man</td>\n",
              "      <td>True</td>\n",
              "      <td>NaN</td>\n",
              "      <td>Southampton</td>\n",
              "      <td>no</td>\n",
              "      <td>True</td>\n",
              "      <td>True</td>\n",
              "    </tr>\n",
              "  </tbody>\n",
              "</table>\n",
              "</div>"
            ],
            "text/plain": [
              "   survived  pclass     sex   age  sibsp  ...  deck  embark_town alive  alone   VIP\n",
              "0         0       3    male  22.0      1  ...   NaN  Southampton    no  False  True\n",
              "1         1       1  female  38.0      1  ...     C    Cherbourg   yes  False  True\n",
              "2         1       3  female  26.0      0  ...   NaN  Southampton   yes   True  True\n",
              "3         1       1  female  35.0      1  ...     C  Southampton   yes  False  True\n",
              "4         0       3    male  35.0      0  ...   NaN  Southampton    no   True  True\n",
              "\n",
              "[5 rows x 16 columns]"
            ]
          },
          "metadata": {},
          "execution_count": 16
        }
      ]
    },
    {
      "cell_type": "markdown",
      "metadata": {
        "id": "29RJ4FHuiIfU"
      },
      "source": [
        "열 삭제시 **반드시 `axis=1` 옵션을 지정**해야 합니다. 2번째 위치에 지정시 `axis=`을 생략할 수 있습니다."
      ]
    },
    {
      "cell_type": "code",
      "metadata": {
        "colab": {
          "base_uri": "https://localhost:8080/",
          "height": 224
        },
        "id": "z1PJeVsvGvyf",
        "outputId": "fc7c1904-9bc1-4295-f981-0a64dc396bf7"
      },
      "source": [
        "# df1의 'class' 열을 삭제하고, 앞에서부터 5개 데이터를 출력합니다.\n",
        "df1.drop(columns='class', axis=1).head()"
      ],
      "execution_count": 18,
      "outputs": [
        {
          "output_type": "execute_result",
          "data": {
            "text/html": [
              "<div>\n",
              "<style scoped>\n",
              "    .dataframe tbody tr th:only-of-type {\n",
              "        vertical-align: middle;\n",
              "    }\n",
              "\n",
              "    .dataframe tbody tr th {\n",
              "        vertical-align: top;\n",
              "    }\n",
              "\n",
              "    .dataframe thead th {\n",
              "        text-align: right;\n",
              "    }\n",
              "</style>\n",
              "<table border=\"1\" class=\"dataframe\">\n",
              "  <thead>\n",
              "    <tr style=\"text-align: right;\">\n",
              "      <th></th>\n",
              "      <th>survived</th>\n",
              "      <th>pclass</th>\n",
              "      <th>sex</th>\n",
              "      <th>age</th>\n",
              "      <th>sibsp</th>\n",
              "      <th>parch</th>\n",
              "      <th>fare</th>\n",
              "      <th>embarked</th>\n",
              "      <th>who</th>\n",
              "      <th>adult_male</th>\n",
              "      <th>deck</th>\n",
              "      <th>embark_town</th>\n",
              "      <th>alive</th>\n",
              "      <th>alone</th>\n",
              "      <th>VIP</th>\n",
              "    </tr>\n",
              "  </thead>\n",
              "  <tbody>\n",
              "    <tr>\n",
              "      <th>0</th>\n",
              "      <td>0</td>\n",
              "      <td>3</td>\n",
              "      <td>male</td>\n",
              "      <td>22.0</td>\n",
              "      <td>1</td>\n",
              "      <td>0</td>\n",
              "      <td>7.2500</td>\n",
              "      <td>S</td>\n",
              "      <td>man</td>\n",
              "      <td>True</td>\n",
              "      <td>NaN</td>\n",
              "      <td>Southampton</td>\n",
              "      <td>no</td>\n",
              "      <td>False</td>\n",
              "      <td>True</td>\n",
              "    </tr>\n",
              "    <tr>\n",
              "      <th>1</th>\n",
              "      <td>1</td>\n",
              "      <td>1</td>\n",
              "      <td>female</td>\n",
              "      <td>38.0</td>\n",
              "      <td>1</td>\n",
              "      <td>0</td>\n",
              "      <td>71.2833</td>\n",
              "      <td>C</td>\n",
              "      <td>woman</td>\n",
              "      <td>False</td>\n",
              "      <td>C</td>\n",
              "      <td>Cherbourg</td>\n",
              "      <td>yes</td>\n",
              "      <td>False</td>\n",
              "      <td>True</td>\n",
              "    </tr>\n",
              "    <tr>\n",
              "      <th>2</th>\n",
              "      <td>1</td>\n",
              "      <td>3</td>\n",
              "      <td>female</td>\n",
              "      <td>26.0</td>\n",
              "      <td>0</td>\n",
              "      <td>0</td>\n",
              "      <td>7.9250</td>\n",
              "      <td>S</td>\n",
              "      <td>woman</td>\n",
              "      <td>False</td>\n",
              "      <td>NaN</td>\n",
              "      <td>Southampton</td>\n",
              "      <td>yes</td>\n",
              "      <td>True</td>\n",
              "      <td>True</td>\n",
              "    </tr>\n",
              "    <tr>\n",
              "      <th>3</th>\n",
              "      <td>1</td>\n",
              "      <td>1</td>\n",
              "      <td>female</td>\n",
              "      <td>35.0</td>\n",
              "      <td>1</td>\n",
              "      <td>0</td>\n",
              "      <td>53.1000</td>\n",
              "      <td>S</td>\n",
              "      <td>woman</td>\n",
              "      <td>False</td>\n",
              "      <td>C</td>\n",
              "      <td>Southampton</td>\n",
              "      <td>yes</td>\n",
              "      <td>False</td>\n",
              "      <td>True</td>\n",
              "    </tr>\n",
              "    <tr>\n",
              "      <th>4</th>\n",
              "      <td>0</td>\n",
              "      <td>3</td>\n",
              "      <td>male</td>\n",
              "      <td>35.0</td>\n",
              "      <td>0</td>\n",
              "      <td>0</td>\n",
              "      <td>8.0500</td>\n",
              "      <td>S</td>\n",
              "      <td>man</td>\n",
              "      <td>True</td>\n",
              "      <td>NaN</td>\n",
              "      <td>Southampton</td>\n",
              "      <td>no</td>\n",
              "      <td>True</td>\n",
              "      <td>True</td>\n",
              "    </tr>\n",
              "  </tbody>\n",
              "</table>\n",
              "</div>"
            ],
            "text/plain": [
              "   survived  pclass     sex   age  sibsp  ...  deck  embark_town alive  alone   VIP\n",
              "0         0       3    male  22.0      1  ...   NaN  Southampton    no  False  True\n",
              "1         1       1  female  38.0      1  ...     C    Cherbourg   yes  False  True\n",
              "2         1       3  female  26.0      0  ...   NaN  Southampton   yes   True  True\n",
              "3         1       1  female  35.0      1  ...     C  Southampton   yes  False  True\n",
              "4         0       3    male  35.0      0  ...   NaN  Southampton    no   True  True\n",
              "\n",
              "[5 rows x 15 columns]"
            ]
          },
          "metadata": {},
          "execution_count": 18
        }
      ]
    },
    {
      "cell_type": "code",
      "metadata": {
        "id": "FbArkJqXiIfV",
        "outputId": "85cf0e1c-d961-4df0-ea46-5392a24fd85f"
      },
      "source": [
        "df1.drop('class', 1).head()"
      ],
      "execution_count": null,
      "outputs": [
        {
          "data": {
            "text/html": [
              "<div>\n",
              "<style scoped>\n",
              "    .dataframe tbody tr th:only-of-type {\n",
              "        vertical-align: middle;\n",
              "    }\n",
              "\n",
              "    .dataframe tbody tr th {\n",
              "        vertical-align: top;\n",
              "    }\n",
              "\n",
              "    .dataframe thead th {\n",
              "        text-align: right;\n",
              "    }\n",
              "</style>\n",
              "<table border=\"1\" class=\"dataframe\">\n",
              "  <thead>\n",
              "    <tr style=\"text-align: right;\">\n",
              "      <th></th>\n",
              "      <th>survived</th>\n",
              "      <th>pclass</th>\n",
              "      <th>sex</th>\n",
              "      <th>age</th>\n",
              "      <th>sibsp</th>\n",
              "      <th>parch</th>\n",
              "      <th>fare</th>\n",
              "      <th>embarked</th>\n",
              "      <th>who</th>\n",
              "      <th>adult_male</th>\n",
              "      <th>deck</th>\n",
              "      <th>embark_town</th>\n",
              "      <th>alive</th>\n",
              "      <th>alone</th>\n",
              "      <th>VIP</th>\n",
              "    </tr>\n",
              "  </thead>\n",
              "  <tbody>\n",
              "    <tr>\n",
              "      <th>0</th>\n",
              "      <td>0</td>\n",
              "      <td>3</td>\n",
              "      <td>male</td>\n",
              "      <td>22.0</td>\n",
              "      <td>1</td>\n",
              "      <td>0</td>\n",
              "      <td>7.2500</td>\n",
              "      <td>S</td>\n",
              "      <td>man</td>\n",
              "      <td>True</td>\n",
              "      <td>NaN</td>\n",
              "      <td>Southampton</td>\n",
              "      <td>no</td>\n",
              "      <td>False</td>\n",
              "      <td>True</td>\n",
              "    </tr>\n",
              "    <tr>\n",
              "      <th>1</th>\n",
              "      <td>1</td>\n",
              "      <td>1</td>\n",
              "      <td>female</td>\n",
              "      <td>38.0</td>\n",
              "      <td>1</td>\n",
              "      <td>0</td>\n",
              "      <td>71.2833</td>\n",
              "      <td>C</td>\n",
              "      <td>woman</td>\n",
              "      <td>False</td>\n",
              "      <td>C</td>\n",
              "      <td>Cherbourg</td>\n",
              "      <td>yes</td>\n",
              "      <td>False</td>\n",
              "      <td>True</td>\n",
              "    </tr>\n",
              "    <tr>\n",
              "      <th>2</th>\n",
              "      <td>1</td>\n",
              "      <td>3</td>\n",
              "      <td>female</td>\n",
              "      <td>26.0</td>\n",
              "      <td>0</td>\n",
              "      <td>0</td>\n",
              "      <td>7.9250</td>\n",
              "      <td>S</td>\n",
              "      <td>woman</td>\n",
              "      <td>False</td>\n",
              "      <td>NaN</td>\n",
              "      <td>Southampton</td>\n",
              "      <td>yes</td>\n",
              "      <td>True</td>\n",
              "      <td>True</td>\n",
              "    </tr>\n",
              "    <tr>\n",
              "      <th>3</th>\n",
              "      <td>1</td>\n",
              "      <td>1</td>\n",
              "      <td>female</td>\n",
              "      <td>35.0</td>\n",
              "      <td>1</td>\n",
              "      <td>0</td>\n",
              "      <td>53.1000</td>\n",
              "      <td>S</td>\n",
              "      <td>woman</td>\n",
              "      <td>False</td>\n",
              "      <td>C</td>\n",
              "      <td>Southampton</td>\n",
              "      <td>yes</td>\n",
              "      <td>False</td>\n",
              "      <td>True</td>\n",
              "    </tr>\n",
              "    <tr>\n",
              "      <th>4</th>\n",
              "      <td>0</td>\n",
              "      <td>3</td>\n",
              "      <td>male</td>\n",
              "      <td>35.0</td>\n",
              "      <td>0</td>\n",
              "      <td>0</td>\n",
              "      <td>8.0500</td>\n",
              "      <td>S</td>\n",
              "      <td>man</td>\n",
              "      <td>True</td>\n",
              "      <td>NaN</td>\n",
              "      <td>Southampton</td>\n",
              "      <td>no</td>\n",
              "      <td>True</td>\n",
              "      <td>True</td>\n",
              "    </tr>\n",
              "  </tbody>\n",
              "</table>\n",
              "</div>"
            ],
            "text/plain": [
              "   survived  pclass     sex   age  sibsp  parch     fare embarked    who  \\\n",
              "0         0       3    male  22.0      1      0   7.2500        S    man   \n",
              "1         1       1  female  38.0      1      0  71.2833        C  woman   \n",
              "2         1       3  female  26.0      0      0   7.9250        S  woman   \n",
              "3         1       1  female  35.0      1      0  53.1000        S  woman   \n",
              "4         0       3    male  35.0      0      0   8.0500        S    man   \n",
              "\n",
              "   adult_male deck  embark_town alive  alone   VIP  \n",
              "0        True  NaN  Southampton    no  False  True  \n",
              "1       False    C    Cherbourg   yes  False  True  \n",
              "2       False  NaN  Southampton   yes   True  True  \n",
              "3       False    C  Southampton   yes  False  True  \n",
              "4        True  NaN  Southampton    no   True  True  "
            ]
          },
          "execution_count": 12,
          "metadata": {},
          "output_type": "execute_result"
        }
      ]
    },
    {
      "cell_type": "markdown",
      "metadata": {
        "id": "biH_uIUIiIfW"
      },
      "source": [
        "**다수의 컬럼(column) 삭제**도 가능합니다."
      ]
    },
    {
      "cell_type": "code",
      "metadata": {
        "colab": {
          "base_uri": "https://localhost:8080/",
          "height": 439
        },
        "id": "nPA6iZSYGvyg",
        "outputId": "e8de189c-a0f4-417d-b6f3-7a46f2858a7c"
      },
      "source": [
        "# df1에서 'who', 'deck', 'alive' 열을 삭제합니다.\n",
        "df1.drop(['who', 'deck', 'alive'], axis=1)"
      ],
      "execution_count": 19,
      "outputs": [
        {
          "output_type": "execute_result",
          "data": {
            "text/html": [
              "<div>\n",
              "<style scoped>\n",
              "    .dataframe tbody tr th:only-of-type {\n",
              "        vertical-align: middle;\n",
              "    }\n",
              "\n",
              "    .dataframe tbody tr th {\n",
              "        vertical-align: top;\n",
              "    }\n",
              "\n",
              "    .dataframe thead th {\n",
              "        text-align: right;\n",
              "    }\n",
              "</style>\n",
              "<table border=\"1\" class=\"dataframe\">\n",
              "  <thead>\n",
              "    <tr style=\"text-align: right;\">\n",
              "      <th></th>\n",
              "      <th>survived</th>\n",
              "      <th>pclass</th>\n",
              "      <th>sex</th>\n",
              "      <th>age</th>\n",
              "      <th>sibsp</th>\n",
              "      <th>parch</th>\n",
              "      <th>fare</th>\n",
              "      <th>embarked</th>\n",
              "      <th>class</th>\n",
              "      <th>adult_male</th>\n",
              "      <th>embark_town</th>\n",
              "      <th>alone</th>\n",
              "      <th>VIP</th>\n",
              "    </tr>\n",
              "  </thead>\n",
              "  <tbody>\n",
              "    <tr>\n",
              "      <th>0</th>\n",
              "      <td>0</td>\n",
              "      <td>3</td>\n",
              "      <td>male</td>\n",
              "      <td>22.0</td>\n",
              "      <td>1</td>\n",
              "      <td>0</td>\n",
              "      <td>7.2500</td>\n",
              "      <td>S</td>\n",
              "      <td>Third</td>\n",
              "      <td>True</td>\n",
              "      <td>Southampton</td>\n",
              "      <td>False</td>\n",
              "      <td>True</td>\n",
              "    </tr>\n",
              "    <tr>\n",
              "      <th>1</th>\n",
              "      <td>1</td>\n",
              "      <td>1</td>\n",
              "      <td>female</td>\n",
              "      <td>38.0</td>\n",
              "      <td>1</td>\n",
              "      <td>0</td>\n",
              "      <td>71.2833</td>\n",
              "      <td>C</td>\n",
              "      <td>First</td>\n",
              "      <td>False</td>\n",
              "      <td>Cherbourg</td>\n",
              "      <td>False</td>\n",
              "      <td>True</td>\n",
              "    </tr>\n",
              "    <tr>\n",
              "      <th>2</th>\n",
              "      <td>1</td>\n",
              "      <td>3</td>\n",
              "      <td>female</td>\n",
              "      <td>26.0</td>\n",
              "      <td>0</td>\n",
              "      <td>0</td>\n",
              "      <td>7.9250</td>\n",
              "      <td>S</td>\n",
              "      <td>Third</td>\n",
              "      <td>False</td>\n",
              "      <td>Southampton</td>\n",
              "      <td>True</td>\n",
              "      <td>True</td>\n",
              "    </tr>\n",
              "    <tr>\n",
              "      <th>3</th>\n",
              "      <td>1</td>\n",
              "      <td>1</td>\n",
              "      <td>female</td>\n",
              "      <td>35.0</td>\n",
              "      <td>1</td>\n",
              "      <td>0</td>\n",
              "      <td>53.1000</td>\n",
              "      <td>S</td>\n",
              "      <td>First</td>\n",
              "      <td>False</td>\n",
              "      <td>Southampton</td>\n",
              "      <td>False</td>\n",
              "      <td>True</td>\n",
              "    </tr>\n",
              "    <tr>\n",
              "      <th>4</th>\n",
              "      <td>0</td>\n",
              "      <td>3</td>\n",
              "      <td>male</td>\n",
              "      <td>35.0</td>\n",
              "      <td>0</td>\n",
              "      <td>0</td>\n",
              "      <td>8.0500</td>\n",
              "      <td>S</td>\n",
              "      <td>Third</td>\n",
              "      <td>True</td>\n",
              "      <td>Southampton</td>\n",
              "      <td>True</td>\n",
              "      <td>True</td>\n",
              "    </tr>\n",
              "    <tr>\n",
              "      <th>...</th>\n",
              "      <td>...</td>\n",
              "      <td>...</td>\n",
              "      <td>...</td>\n",
              "      <td>...</td>\n",
              "      <td>...</td>\n",
              "      <td>...</td>\n",
              "      <td>...</td>\n",
              "      <td>...</td>\n",
              "      <td>...</td>\n",
              "      <td>...</td>\n",
              "      <td>...</td>\n",
              "      <td>...</td>\n",
              "      <td>...</td>\n",
              "    </tr>\n",
              "    <tr>\n",
              "      <th>886</th>\n",
              "      <td>0</td>\n",
              "      <td>2</td>\n",
              "      <td>male</td>\n",
              "      <td>27.0</td>\n",
              "      <td>0</td>\n",
              "      <td>0</td>\n",
              "      <td>13.0000</td>\n",
              "      <td>S</td>\n",
              "      <td>Second</td>\n",
              "      <td>True</td>\n",
              "      <td>Southampton</td>\n",
              "      <td>True</td>\n",
              "      <td>True</td>\n",
              "    </tr>\n",
              "    <tr>\n",
              "      <th>887</th>\n",
              "      <td>1</td>\n",
              "      <td>1</td>\n",
              "      <td>female</td>\n",
              "      <td>19.0</td>\n",
              "      <td>0</td>\n",
              "      <td>0</td>\n",
              "      <td>30.0000</td>\n",
              "      <td>S</td>\n",
              "      <td>First</td>\n",
              "      <td>False</td>\n",
              "      <td>Southampton</td>\n",
              "      <td>True</td>\n",
              "      <td>True</td>\n",
              "    </tr>\n",
              "    <tr>\n",
              "      <th>888</th>\n",
              "      <td>0</td>\n",
              "      <td>3</td>\n",
              "      <td>female</td>\n",
              "      <td>NaN</td>\n",
              "      <td>1</td>\n",
              "      <td>2</td>\n",
              "      <td>23.4500</td>\n",
              "      <td>S</td>\n",
              "      <td>Third</td>\n",
              "      <td>False</td>\n",
              "      <td>Southampton</td>\n",
              "      <td>False</td>\n",
              "      <td>True</td>\n",
              "    </tr>\n",
              "    <tr>\n",
              "      <th>889</th>\n",
              "      <td>1</td>\n",
              "      <td>1</td>\n",
              "      <td>male</td>\n",
              "      <td>26.0</td>\n",
              "      <td>0</td>\n",
              "      <td>0</td>\n",
              "      <td>30.0000</td>\n",
              "      <td>C</td>\n",
              "      <td>First</td>\n",
              "      <td>True</td>\n",
              "      <td>Cherbourg</td>\n",
              "      <td>True</td>\n",
              "      <td>True</td>\n",
              "    </tr>\n",
              "    <tr>\n",
              "      <th>890</th>\n",
              "      <td>0</td>\n",
              "      <td>3</td>\n",
              "      <td>male</td>\n",
              "      <td>32.0</td>\n",
              "      <td>0</td>\n",
              "      <td>0</td>\n",
              "      <td>7.7500</td>\n",
              "      <td>Q</td>\n",
              "      <td>Third</td>\n",
              "      <td>True</td>\n",
              "      <td>Queenstown</td>\n",
              "      <td>True</td>\n",
              "      <td>True</td>\n",
              "    </tr>\n",
              "  </tbody>\n",
              "</table>\n",
              "<p>891 rows × 13 columns</p>\n",
              "</div>"
            ],
            "text/plain": [
              "     survived  pclass     sex   age  ...  adult_male  embark_town  alone   VIP\n",
              "0           0       3    male  22.0  ...        True  Southampton  False  True\n",
              "1           1       1  female  38.0  ...       False    Cherbourg  False  True\n",
              "2           1       3  female  26.0  ...       False  Southampton   True  True\n",
              "3           1       1  female  35.0  ...       False  Southampton  False  True\n",
              "4           0       3    male  35.0  ...        True  Southampton   True  True\n",
              "..        ...     ...     ...   ...  ...         ...          ...    ...   ...\n",
              "886         0       2    male  27.0  ...        True  Southampton   True  True\n",
              "887         1       1  female  19.0  ...       False  Southampton   True  True\n",
              "888         0       3  female   NaN  ...       False  Southampton  False  True\n",
              "889         1       1    male  26.0  ...        True    Cherbourg   True  True\n",
              "890         0       3    male  32.0  ...        True   Queenstown   True  True\n",
              "\n",
              "[891 rows x 13 columns]"
            ]
          },
          "metadata": {},
          "execution_count": 19
        }
      ]
    },
    {
      "cell_type": "markdown",
      "metadata": {
        "id": "975XHa1oiIfX"
      },
      "source": [
        "삭제된 내용을 바로 적용하려면 `inplace=True`를 지정합니다."
      ]
    },
    {
      "cell_type": "code",
      "metadata": {
        "id": "ohXNAAW1iIfX"
      },
      "source": [
        "df1.drop(['who', 'deck', 'alive'], axis=1, inplace=True)"
      ],
      "execution_count": 20,
      "outputs": []
    },
    {
      "cell_type": "code",
      "metadata": {
        "id": "z7WOlNJEiIfX",
        "colab": {
          "base_uri": "https://localhost:8080/",
          "height": 224
        },
        "outputId": "af942ab7-8b17-4fd3-a700-c60caec9a293"
      },
      "source": [
        "df1.head()"
      ],
      "execution_count": 21,
      "outputs": [
        {
          "output_type": "execute_result",
          "data": {
            "text/html": [
              "<div>\n",
              "<style scoped>\n",
              "    .dataframe tbody tr th:only-of-type {\n",
              "        vertical-align: middle;\n",
              "    }\n",
              "\n",
              "    .dataframe tbody tr th {\n",
              "        vertical-align: top;\n",
              "    }\n",
              "\n",
              "    .dataframe thead th {\n",
              "        text-align: right;\n",
              "    }\n",
              "</style>\n",
              "<table border=\"1\" class=\"dataframe\">\n",
              "  <thead>\n",
              "    <tr style=\"text-align: right;\">\n",
              "      <th></th>\n",
              "      <th>survived</th>\n",
              "      <th>pclass</th>\n",
              "      <th>sex</th>\n",
              "      <th>age</th>\n",
              "      <th>sibsp</th>\n",
              "      <th>parch</th>\n",
              "      <th>fare</th>\n",
              "      <th>embarked</th>\n",
              "      <th>class</th>\n",
              "      <th>adult_male</th>\n",
              "      <th>embark_town</th>\n",
              "      <th>alone</th>\n",
              "      <th>VIP</th>\n",
              "    </tr>\n",
              "  </thead>\n",
              "  <tbody>\n",
              "    <tr>\n",
              "      <th>0</th>\n",
              "      <td>0</td>\n",
              "      <td>3</td>\n",
              "      <td>male</td>\n",
              "      <td>22.0</td>\n",
              "      <td>1</td>\n",
              "      <td>0</td>\n",
              "      <td>7.2500</td>\n",
              "      <td>S</td>\n",
              "      <td>Third</td>\n",
              "      <td>True</td>\n",
              "      <td>Southampton</td>\n",
              "      <td>False</td>\n",
              "      <td>True</td>\n",
              "    </tr>\n",
              "    <tr>\n",
              "      <th>1</th>\n",
              "      <td>1</td>\n",
              "      <td>1</td>\n",
              "      <td>female</td>\n",
              "      <td>38.0</td>\n",
              "      <td>1</td>\n",
              "      <td>0</td>\n",
              "      <td>71.2833</td>\n",
              "      <td>C</td>\n",
              "      <td>First</td>\n",
              "      <td>False</td>\n",
              "      <td>Cherbourg</td>\n",
              "      <td>False</td>\n",
              "      <td>True</td>\n",
              "    </tr>\n",
              "    <tr>\n",
              "      <th>2</th>\n",
              "      <td>1</td>\n",
              "      <td>3</td>\n",
              "      <td>female</td>\n",
              "      <td>26.0</td>\n",
              "      <td>0</td>\n",
              "      <td>0</td>\n",
              "      <td>7.9250</td>\n",
              "      <td>S</td>\n",
              "      <td>Third</td>\n",
              "      <td>False</td>\n",
              "      <td>Southampton</td>\n",
              "      <td>True</td>\n",
              "      <td>True</td>\n",
              "    </tr>\n",
              "    <tr>\n",
              "      <th>3</th>\n",
              "      <td>1</td>\n",
              "      <td>1</td>\n",
              "      <td>female</td>\n",
              "      <td>35.0</td>\n",
              "      <td>1</td>\n",
              "      <td>0</td>\n",
              "      <td>53.1000</td>\n",
              "      <td>S</td>\n",
              "      <td>First</td>\n",
              "      <td>False</td>\n",
              "      <td>Southampton</td>\n",
              "      <td>False</td>\n",
              "      <td>True</td>\n",
              "    </tr>\n",
              "    <tr>\n",
              "      <th>4</th>\n",
              "      <td>0</td>\n",
              "      <td>3</td>\n",
              "      <td>male</td>\n",
              "      <td>35.0</td>\n",
              "      <td>0</td>\n",
              "      <td>0</td>\n",
              "      <td>8.0500</td>\n",
              "      <td>S</td>\n",
              "      <td>Third</td>\n",
              "      <td>True</td>\n",
              "      <td>Southampton</td>\n",
              "      <td>True</td>\n",
              "      <td>True</td>\n",
              "    </tr>\n",
              "  </tbody>\n",
              "</table>\n",
              "</div>"
            ],
            "text/plain": [
              "   survived  pclass     sex   age  ...  adult_male  embark_town  alone   VIP\n",
              "0         0       3    male  22.0  ...        True  Southampton  False  True\n",
              "1         1       1  female  38.0  ...       False    Cherbourg  False  True\n",
              "2         1       3  female  26.0  ...       False  Southampton   True  True\n",
              "3         1       1  female  35.0  ...       False  Southampton  False  True\n",
              "4         0       3    male  35.0  ...        True  Southampton   True  True\n",
              "\n",
              "[5 rows x 13 columns]"
            ]
          },
          "metadata": {},
          "execution_count": 21
        }
      ]
    },
    {
      "cell_type": "markdown",
      "metadata": {
        "id": "tQkhT7BCGvyO"
      },
      "source": [
        "## 컬럼간 연산\n",
        "\n",
        "**컬럼(column) 과 컬럼 사이의 연산을 매우 쉽게 적용**할 수 있습니다."
      ]
    },
    {
      "cell_type": "code",
      "metadata": {
        "id": "7mvw9UbKiIfZ"
      },
      "source": [
        "df1 = df.copy()"
      ],
      "execution_count": 30,
      "outputs": []
    },
    {
      "cell_type": "markdown",
      "metadata": {
        "id": "l9q4tR7riIfZ"
      },
      "source": [
        "**family(가족)**의 총합은 **sibsp**컬럼과 **parch**의 합산으로 구할 수 있습니다."
      ]
    },
    {
      "cell_type": "code",
      "metadata": {
        "id": "HpAJjAZfGvyO"
      },
      "source": [
        "# df1의 'sibsp' 컬럼과 'parch' 컬럼을 더하여 'family'라는 새로운 컬럼을 추가한다.\n",
        "df1['family'] = df1['sibsp'] + df1['parch']"
      ],
      "execution_count": 31,
      "outputs": []
    },
    {
      "cell_type": "code",
      "metadata": {
        "id": "e0RPdQWyiIfa",
        "colab": {
          "base_uri": "https://localhost:8080/",
          "height": 204
        },
        "outputId": "0280a139-f14e-4b5c-f91b-34a38b7103ab"
      },
      "source": [
        "df1[['sibsp', 'parch', 'family']].head()"
      ],
      "execution_count": 32,
      "outputs": [
        {
          "output_type": "execute_result",
          "data": {
            "text/html": [
              "<div>\n",
              "<style scoped>\n",
              "    .dataframe tbody tr th:only-of-type {\n",
              "        vertical-align: middle;\n",
              "    }\n",
              "\n",
              "    .dataframe tbody tr th {\n",
              "        vertical-align: top;\n",
              "    }\n",
              "\n",
              "    .dataframe thead th {\n",
              "        text-align: right;\n",
              "    }\n",
              "</style>\n",
              "<table border=\"1\" class=\"dataframe\">\n",
              "  <thead>\n",
              "    <tr style=\"text-align: right;\">\n",
              "      <th></th>\n",
              "      <th>sibsp</th>\n",
              "      <th>parch</th>\n",
              "      <th>family</th>\n",
              "    </tr>\n",
              "  </thead>\n",
              "  <tbody>\n",
              "    <tr>\n",
              "      <th>0</th>\n",
              "      <td>1</td>\n",
              "      <td>0</td>\n",
              "      <td>1</td>\n",
              "    </tr>\n",
              "    <tr>\n",
              "      <th>1</th>\n",
              "      <td>1</td>\n",
              "      <td>0</td>\n",
              "      <td>1</td>\n",
              "    </tr>\n",
              "    <tr>\n",
              "      <th>2</th>\n",
              "      <td>0</td>\n",
              "      <td>0</td>\n",
              "      <td>0</td>\n",
              "    </tr>\n",
              "    <tr>\n",
              "      <th>3</th>\n",
              "      <td>1</td>\n",
              "      <td>0</td>\n",
              "      <td>1</td>\n",
              "    </tr>\n",
              "    <tr>\n",
              "      <th>4</th>\n",
              "      <td>0</td>\n",
              "      <td>0</td>\n",
              "      <td>0</td>\n",
              "    </tr>\n",
              "  </tbody>\n",
              "</table>\n",
              "</div>"
            ],
            "text/plain": [
              "   sibsp  parch  family\n",
              "0      1      0       1\n",
              "1      1      0       1\n",
              "2      0      0       0\n",
              "3      1      0       1\n",
              "4      0      0       0"
            ]
          },
          "metadata": {},
          "execution_count": 32
        }
      ]
    },
    {
      "cell_type": "markdown",
      "metadata": {
        "id": "JWquk0eTiIfa"
      },
      "source": [
        "**문자열의 합 (이어붙히기)도 가능**합니다."
      ]
    },
    {
      "cell_type": "code",
      "metadata": {
        "id": "EMuKaz_TGvyP"
      },
      "source": [
        "# df1의 'who' 컬럼과 'sex' 컬럼을 중간에 '-'을 넣어 이어붙이고 \n",
        "# 'gender'라는 이름의 컬럼으로 추가합니다.\n",
        "df1['gender'] = df1['who'] + '-' + df1['sex']"
      ],
      "execution_count": 33,
      "outputs": []
    },
    {
      "cell_type": "code",
      "metadata": {
        "id": "NHdMd58AiIfh",
        "outputId": "deb290e2-9e54-4cbf-9f1c-05f946de8d5c"
      },
      "source": [
        "df1[['who', 'sex', 'gender']].head()"
      ],
      "execution_count": null,
      "outputs": [
        {
          "data": {
            "text/html": [
              "<div>\n",
              "<style scoped>\n",
              "    .dataframe tbody tr th:only-of-type {\n",
              "        vertical-align: middle;\n",
              "    }\n",
              "\n",
              "    .dataframe tbody tr th {\n",
              "        vertical-align: top;\n",
              "    }\n",
              "\n",
              "    .dataframe thead th {\n",
              "        text-align: right;\n",
              "    }\n",
              "</style>\n",
              "<table border=\"1\" class=\"dataframe\">\n",
              "  <thead>\n",
              "    <tr style=\"text-align: right;\">\n",
              "      <th></th>\n",
              "      <th>who</th>\n",
              "      <th>sex</th>\n",
              "      <th>gender</th>\n",
              "    </tr>\n",
              "  </thead>\n",
              "  <tbody>\n",
              "    <tr>\n",
              "      <th>0</th>\n",
              "      <td>man</td>\n",
              "      <td>male</td>\n",
              "      <td>man-male</td>\n",
              "    </tr>\n",
              "    <tr>\n",
              "      <th>1</th>\n",
              "      <td>woman</td>\n",
              "      <td>female</td>\n",
              "      <td>woman-female</td>\n",
              "    </tr>\n",
              "    <tr>\n",
              "      <th>2</th>\n",
              "      <td>woman</td>\n",
              "      <td>female</td>\n",
              "      <td>woman-female</td>\n",
              "    </tr>\n",
              "    <tr>\n",
              "      <th>3</th>\n",
              "      <td>woman</td>\n",
              "      <td>female</td>\n",
              "      <td>woman-female</td>\n",
              "    </tr>\n",
              "    <tr>\n",
              "      <th>4</th>\n",
              "      <td>man</td>\n",
              "      <td>male</td>\n",
              "      <td>man-male</td>\n",
              "    </tr>\n",
              "  </tbody>\n",
              "</table>\n",
              "</div>"
            ],
            "text/plain": [
              "     who     sex        gender\n",
              "0    man    male      man-male\n",
              "1  woman  female  woman-female\n",
              "2  woman  female  woman-female\n",
              "3  woman  female  woman-female\n",
              "4    man    male      man-male"
            ]
          },
          "execution_count": 14,
          "metadata": {},
          "output_type": "execute_result"
        }
      ]
    },
    {
      "cell_type": "markdown",
      "metadata": {
        "id": "k8dOiy00iIfi"
      },
      "source": [
        "컬럼간 연산시 `round()`를 사용하여 소수점 자릿수를 지정할 수 있습니다."
      ]
    },
    {
      "cell_type": "markdown",
      "metadata": {
        "id": "1ZLc_N0WGvyS"
      },
      "source": [
        "**round(숫자, 소수 몇 째자리)**"
      ]
    },
    {
      "cell_type": "code",
      "metadata": {
        "colab": {
          "base_uri": "https://localhost:8080/"
        },
        "id": "AGVhZnB053iL",
        "outputId": "626ec799-33dd-4f67-99c1-99579f74f8a3"
      },
      "source": [
        "round(3.45612, 2), round(3.45612, 0), round(4236.789, -2)"
      ],
      "execution_count": 34,
      "outputs": [
        {
          "output_type": "execute_result",
          "data": {
            "text/plain": [
              "(3.46, 3.0, 4200.0)"
            ]
          },
          "metadata": {},
          "execution_count": 34
        }
      ]
    },
    {
      "cell_type": "code",
      "metadata": {
        "id": "sNycijIgGvyS"
      },
      "source": [
        "# df1의 'fare'를 'age'로나눈 값을 소수점 아래 두 자리까지 지정되도록 round 함수를 사용하여 처리하고,\n",
        "# 'round'라는 컬럼으로 추가합니다.\n",
        "df1['round'] = round(df1['fare']/df1['age'],2)"
      ],
      "execution_count": 35,
      "outputs": []
    },
    {
      "cell_type": "code",
      "metadata": {
        "id": "LUcqh_vBiIfi",
        "colab": {
          "base_uri": "https://localhost:8080/",
          "height": 204
        },
        "outputId": "98fb9bf0-11ae-4090-fa05-fa402146a6fa"
      },
      "source": [
        "df1[['fare', 'age', 'round']].head()"
      ],
      "execution_count": 36,
      "outputs": [
        {
          "output_type": "execute_result",
          "data": {
            "text/html": [
              "<div>\n",
              "<style scoped>\n",
              "    .dataframe tbody tr th:only-of-type {\n",
              "        vertical-align: middle;\n",
              "    }\n",
              "\n",
              "    .dataframe tbody tr th {\n",
              "        vertical-align: top;\n",
              "    }\n",
              "\n",
              "    .dataframe thead th {\n",
              "        text-align: right;\n",
              "    }\n",
              "</style>\n",
              "<table border=\"1\" class=\"dataframe\">\n",
              "  <thead>\n",
              "    <tr style=\"text-align: right;\">\n",
              "      <th></th>\n",
              "      <th>fare</th>\n",
              "      <th>age</th>\n",
              "      <th>round</th>\n",
              "    </tr>\n",
              "  </thead>\n",
              "  <tbody>\n",
              "    <tr>\n",
              "      <th>0</th>\n",
              "      <td>7.2500</td>\n",
              "      <td>22.0</td>\n",
              "      <td>0.33</td>\n",
              "    </tr>\n",
              "    <tr>\n",
              "      <th>1</th>\n",
              "      <td>71.2833</td>\n",
              "      <td>38.0</td>\n",
              "      <td>1.88</td>\n",
              "    </tr>\n",
              "    <tr>\n",
              "      <th>2</th>\n",
              "      <td>7.9250</td>\n",
              "      <td>26.0</td>\n",
              "      <td>0.30</td>\n",
              "    </tr>\n",
              "    <tr>\n",
              "      <th>3</th>\n",
              "      <td>53.1000</td>\n",
              "      <td>35.0</td>\n",
              "      <td>1.52</td>\n",
              "    </tr>\n",
              "    <tr>\n",
              "      <th>4</th>\n",
              "      <td>8.0500</td>\n",
              "      <td>35.0</td>\n",
              "      <td>0.23</td>\n",
              "    </tr>\n",
              "  </tbody>\n",
              "</table>\n",
              "</div>"
            ],
            "text/plain": [
              "      fare   age  round\n",
              "0   7.2500  22.0   0.33\n",
              "1  71.2833  38.0   1.88\n",
              "2   7.9250  26.0   0.30\n",
              "3  53.1000  35.0   1.52\n",
              "4   8.0500  35.0   0.23"
            ]
          },
          "metadata": {},
          "execution_count": 36
        }
      ]
    },
    {
      "cell_type": "markdown",
      "metadata": {
        "id": "zfDko371iIfj"
      },
      "source": [
        "연산시 1개의 컬럼이라도 **NaN 값을 포함하고 있다면 결과는 NaN** 이 됩니다."
      ]
    },
    {
      "cell_type": "code",
      "metadata": {
        "id": "EHllOOd7iIfj",
        "outputId": "2e972ab4-a78c-4062-c5cc-bae2e5f7f2f7"
      },
      "source": [
        "df1.loc[df1['age'].isnull(), 'deck':].head()"
      ],
      "execution_count": null,
      "outputs": [
        {
          "data": {
            "text/html": [
              "<div>\n",
              "<style scoped>\n",
              "    .dataframe tbody tr th:only-of-type {\n",
              "        vertical-align: middle;\n",
              "    }\n",
              "\n",
              "    .dataframe tbody tr th {\n",
              "        vertical-align: top;\n",
              "    }\n",
              "\n",
              "    .dataframe thead th {\n",
              "        text-align: right;\n",
              "    }\n",
              "</style>\n",
              "<table border=\"1\" class=\"dataframe\">\n",
              "  <thead>\n",
              "    <tr style=\"text-align: right;\">\n",
              "      <th></th>\n",
              "      <th>deck</th>\n",
              "      <th>embark_town</th>\n",
              "      <th>alive</th>\n",
              "      <th>alone</th>\n",
              "      <th>family</th>\n",
              "      <th>gender</th>\n",
              "      <th>round</th>\n",
              "    </tr>\n",
              "  </thead>\n",
              "  <tbody>\n",
              "    <tr>\n",
              "      <th>5</th>\n",
              "      <td>NaN</td>\n",
              "      <td>Queenstown</td>\n",
              "      <td>no</td>\n",
              "      <td>True</td>\n",
              "      <td>0</td>\n",
              "      <td>man-male</td>\n",
              "      <td>NaN</td>\n",
              "    </tr>\n",
              "    <tr>\n",
              "      <th>17</th>\n",
              "      <td>NaN</td>\n",
              "      <td>Southampton</td>\n",
              "      <td>yes</td>\n",
              "      <td>True</td>\n",
              "      <td>0</td>\n",
              "      <td>man-male</td>\n",
              "      <td>NaN</td>\n",
              "    </tr>\n",
              "    <tr>\n",
              "      <th>19</th>\n",
              "      <td>NaN</td>\n",
              "      <td>Cherbourg</td>\n",
              "      <td>yes</td>\n",
              "      <td>True</td>\n",
              "      <td>0</td>\n",
              "      <td>woman-female</td>\n",
              "      <td>NaN</td>\n",
              "    </tr>\n",
              "    <tr>\n",
              "      <th>26</th>\n",
              "      <td>NaN</td>\n",
              "      <td>Cherbourg</td>\n",
              "      <td>no</td>\n",
              "      <td>True</td>\n",
              "      <td>0</td>\n",
              "      <td>man-male</td>\n",
              "      <td>NaN</td>\n",
              "    </tr>\n",
              "    <tr>\n",
              "      <th>28</th>\n",
              "      <td>NaN</td>\n",
              "      <td>Queenstown</td>\n",
              "      <td>yes</td>\n",
              "      <td>True</td>\n",
              "      <td>0</td>\n",
              "      <td>woman-female</td>\n",
              "      <td>NaN</td>\n",
              "    </tr>\n",
              "  </tbody>\n",
              "</table>\n",
              "</div>"
            ],
            "text/plain": [
              "   deck  embark_town alive  alone  family        gender  round\n",
              "5   NaN   Queenstown    no   True       0      man-male    NaN\n",
              "17  NaN  Southampton   yes   True       0      man-male    NaN\n",
              "19  NaN    Cherbourg   yes   True       0  woman-female    NaN\n",
              "26  NaN    Cherbourg    no   True       0      man-male    NaN\n",
              "28  NaN   Queenstown   yes   True       0  woman-female    NaN"
            ]
          },
          "execution_count": 23,
          "metadata": {},
          "output_type": "execute_result"
        }
      ]
    },
    {
      "cell_type": "markdown",
      "metadata": {
        "id": "u_2WLUDtiIfk"
      },
      "source": [
        "## 타입 변환 (astype)"
      ]
    },
    {
      "cell_type": "code",
      "metadata": {
        "id": "rZ2FftNNiIfk"
      },
      "source": [
        "df1 = df.copy()"
      ],
      "execution_count": 37,
      "outputs": []
    },
    {
      "cell_type": "code",
      "metadata": {
        "id": "5Ax88LnjiIfk",
        "colab": {
          "base_uri": "https://localhost:8080/"
        },
        "outputId": "ee5a0bcb-7fb1-47e9-e620-cf090108659c"
      },
      "source": [
        "df1.info()"
      ],
      "execution_count": 38,
      "outputs": [
        {
          "output_type": "stream",
          "text": [
            "<class 'pandas.core.frame.DataFrame'>\n",
            "RangeIndex: 891 entries, 0 to 890\n",
            "Data columns (total 15 columns):\n",
            " #   Column       Non-Null Count  Dtype   \n",
            "---  ------       --------------  -----   \n",
            " 0   survived     891 non-null    int64   \n",
            " 1   pclass       891 non-null    int64   \n",
            " 2   sex          891 non-null    object  \n",
            " 3   age          714 non-null    float64 \n",
            " 4   sibsp        891 non-null    int64   \n",
            " 5   parch        891 non-null    int64   \n",
            " 6   fare         891 non-null    float64 \n",
            " 7   embarked     889 non-null    object  \n",
            " 8   class        891 non-null    category\n",
            " 9   who          891 non-null    object  \n",
            " 10  adult_male   891 non-null    bool    \n",
            " 11  deck         203 non-null    category\n",
            " 12  embark_town  889 non-null    object  \n",
            " 13  alive        891 non-null    object  \n",
            " 14  alone        891 non-null    bool    \n",
            "dtypes: bool(2), category(2), float64(2), int64(4), object(5)\n",
            "memory usage: 80.6+ KB\n"
          ],
          "name": "stdout"
        }
      ]
    },
    {
      "cell_type": "markdown",
      "metadata": {
        "id": "6oEHw3ZCiIfl"
      },
      "source": [
        "`int32`로 변경"
      ]
    },
    {
      "cell_type": "code",
      "metadata": {
        "id": "emlf_T3liIfl",
        "colab": {
          "base_uri": "https://localhost:8080/"
        },
        "outputId": "2ede9196-942c-4c93-fd4f-c4d32a7c800b"
      },
      "source": [
        "# df1의 'pclass' 컬럼에 대해 dtype을 'int32'로 변경하고 앞에서부터 5개 데이터 출력한다\n",
        "df1['pclass'].astype('int32').head()"
      ],
      "execution_count": 41,
      "outputs": [
        {
          "output_type": "execute_result",
          "data": {
            "text/plain": [
              "0    3\n",
              "1    1\n",
              "2    3\n",
              "3    1\n",
              "4    3\n",
              "Name: pclass, dtype: int32"
            ]
          },
          "metadata": {},
          "execution_count": 41
        }
      ]
    },
    {
      "cell_type": "markdown",
      "metadata": {
        "id": "DwkXXdr3iIfm"
      },
      "source": [
        "`float32`로 변경"
      ]
    },
    {
      "cell_type": "code",
      "metadata": {
        "id": "SZ9SelLNiIfo",
        "colab": {
          "base_uri": "https://localhost:8080/"
        },
        "outputId": "a7fecad0-93a0-4804-e303-13df0d5b024d"
      },
      "source": [
        "# df1의 'pclass' 컬럼에 대해 dtype을 'float32'로 변경하고 앞에서부터 5개 데이터 출력한다\n",
        "df1['pclass'].astype('float32').head()"
      ],
      "execution_count": 42,
      "outputs": [
        {
          "output_type": "execute_result",
          "data": {
            "text/plain": [
              "0    3.0\n",
              "1    1.0\n",
              "2    3.0\n",
              "3    1.0\n",
              "4    3.0\n",
              "Name: pclass, dtype: float32"
            ]
          },
          "metadata": {},
          "execution_count": 42
        }
      ]
    },
    {
      "cell_type": "markdown",
      "metadata": {
        "id": "_XRJsUm1iIfo"
      },
      "source": [
        "`object`로 변경"
      ]
    },
    {
      "cell_type": "code",
      "metadata": {
        "id": "auNspupgiIfp",
        "colab": {
          "base_uri": "https://localhost:8080/"
        },
        "outputId": "2c50a5e9-9f9b-4424-a1d2-11b75e8c245d"
      },
      "source": [
        "# df1의 'pclass' 컬럼에 대해 dtype을 'str'로 변경하고 앞에서부터 5개 데이터 출력한다\n",
        "df1['pclass'].astype('str').head()"
      ],
      "execution_count": 43,
      "outputs": [
        {
          "output_type": "execute_result",
          "data": {
            "text/plain": [
              "0    3\n",
              "1    1\n",
              "2    3\n",
              "3    1\n",
              "4    3\n",
              "Name: pclass, dtype: object"
            ]
          },
          "metadata": {},
          "execution_count": 43
        }
      ]
    },
    {
      "cell_type": "markdown",
      "metadata": {
        "id": "8pfrVku8iIfp"
      },
      "source": [
        "`category`로 변경.\n",
        "\n",
        "`category`로 변경시에는 Categories가 같이 출력 됩니다."
      ]
    },
    {
      "cell_type": "code",
      "metadata": {
        "id": "308qniX3iIfp",
        "colab": {
          "base_uri": "https://localhost:8080/"
        },
        "outputId": "a9b60149-a25f-42d5-b04b-87b083eb507d"
      },
      "source": [
        "# df1의 'who' 컬럼에 대해 값별 데이터 건수를 출력한다 (value_counts() 사용)\n",
        "df1['who'].value_counts()"
      ],
      "execution_count": 44,
      "outputs": [
        {
          "output_type": "execute_result",
          "data": {
            "text/plain": [
              "man      537\n",
              "woman    271\n",
              "child     83\n",
              "Name: who, dtype: int64"
            ]
          },
          "metadata": {},
          "execution_count": 44
        }
      ]
    },
    {
      "cell_type": "code",
      "metadata": {
        "id": "AoX52ALhiIfq",
        "colab": {
          "base_uri": "https://localhost:8080/"
        },
        "outputId": "6edd31d2-870e-41e7-9e4e-462da03fe834"
      },
      "source": [
        "# df1의 'who' 컬럼에 대한 dtype을 확인한다  (print 함수를 사용하지 않으면?)\n",
        "print(df1['who'].dtype)"
      ],
      "execution_count": 45,
      "outputs": [
        {
          "output_type": "stream",
          "text": [
            "object\n"
          ],
          "name": "stdout"
        }
      ]
    },
    {
      "cell_type": "code",
      "metadata": {
        "id": "45-eyDvBiIfq",
        "colab": {
          "base_uri": "https://localhost:8080/"
        },
        "outputId": "18577d55-a256-431d-da1c-705504562878"
      },
      "source": [
        "# df1의 'who' 컬럼에 대해 dtype을 'category'로 변경하고 앞에서부터 5개 데이터 출력한다\n",
        "df1['who'].astype('category').head()"
      ],
      "execution_count": 46,
      "outputs": [
        {
          "output_type": "execute_result",
          "data": {
            "text/plain": [
              "0      man\n",
              "1    woman\n",
              "2    woman\n",
              "3    woman\n",
              "4      man\n",
              "Name: who, dtype: category\n",
              "Categories (3, object): ['child', 'man', 'woman']"
            ]
          },
          "metadata": {},
          "execution_count": 46
        }
      ]
    },
    {
      "cell_type": "markdown",
      "metadata": {
        "id": "_NC9C7ejiIfq"
      },
      "source": [
        "타입을 `category`로 변환했다면 **.cat**으로 접근하여 category 타입이 제공하는 **attribute를 사용**할 수 있습니다."
      ]
    },
    {
      "cell_type": "code",
      "metadata": {
        "id": "5AfRlW7siIfr"
      },
      "source": [
        "# df1의 'who' 컬럼에 대해 dtype을 'category'로 변경하여 갱신합니다. \n",
        "df1['who'] = df1['who'].astype('category')"
      ],
      "execution_count": 47,
      "outputs": []
    },
    {
      "cell_type": "code",
      "metadata": {
        "id": "9seCwpaOiIfr",
        "colab": {
          "base_uri": "https://localhost:8080/"
        },
        "outputId": "4f7e6709-dfdb-45bf-c6ef-7a0f39dd2989"
      },
      "source": [
        "df1['who'].dtype"
      ],
      "execution_count": 48,
      "outputs": [
        {
          "output_type": "execute_result",
          "data": {
            "text/plain": [
              "CategoricalDtype(categories=['child', 'man', 'woman'], ordered=False)"
            ]
          },
          "metadata": {},
          "execution_count": 48
        }
      ]
    },
    {
      "cell_type": "code",
      "metadata": {
        "id": "8jM-EKY-iIfs",
        "colab": {
          "base_uri": "https://localhost:8080/"
        },
        "outputId": "b80db032-d8a7-43fc-940d-4e15b05026dc"
      },
      "source": [
        "# cat.codes 를 사용하여 숫자 값을 반환합니다. (child = 0, man = 1, woman = 2)\n",
        "df1['who'].cat.codes"
      ],
      "execution_count": 49,
      "outputs": [
        {
          "output_type": "execute_result",
          "data": {
            "text/plain": [
              "0      1\n",
              "1      2\n",
              "2      2\n",
              "3      2\n",
              "4      1\n",
              "      ..\n",
              "886    1\n",
              "887    2\n",
              "888    2\n",
              "889    1\n",
              "890    1\n",
              "Length: 891, dtype: int8"
            ]
          },
          "metadata": {},
          "execution_count": 49
        }
      ]
    },
    {
      "cell_type": "code",
      "metadata": {
        "id": "V8In8Vjl8UGb"
      },
      "source": [
        "df1['who_code'] = df1['who'].astype('category').cat.codes # Label Encoding - 범주형 "
      ],
      "execution_count": 50,
      "outputs": []
    },
    {
      "cell_type": "code",
      "metadata": {
        "colab": {
          "base_uri": "https://localhost:8080/",
          "height": 224
        },
        "id": "j8FgDoos8VIJ",
        "outputId": "135c16a4-9c2a-4a76-f264-365d36db4a5a"
      },
      "source": [
        "df1.head()"
      ],
      "execution_count": 51,
      "outputs": [
        {
          "output_type": "execute_result",
          "data": {
            "text/html": [
              "<div>\n",
              "<style scoped>\n",
              "    .dataframe tbody tr th:only-of-type {\n",
              "        vertical-align: middle;\n",
              "    }\n",
              "\n",
              "    .dataframe tbody tr th {\n",
              "        vertical-align: top;\n",
              "    }\n",
              "\n",
              "    .dataframe thead th {\n",
              "        text-align: right;\n",
              "    }\n",
              "</style>\n",
              "<table border=\"1\" class=\"dataframe\">\n",
              "  <thead>\n",
              "    <tr style=\"text-align: right;\">\n",
              "      <th></th>\n",
              "      <th>survived</th>\n",
              "      <th>pclass</th>\n",
              "      <th>sex</th>\n",
              "      <th>age</th>\n",
              "      <th>sibsp</th>\n",
              "      <th>parch</th>\n",
              "      <th>fare</th>\n",
              "      <th>embarked</th>\n",
              "      <th>class</th>\n",
              "      <th>who</th>\n",
              "      <th>adult_male</th>\n",
              "      <th>deck</th>\n",
              "      <th>embark_town</th>\n",
              "      <th>alive</th>\n",
              "      <th>alone</th>\n",
              "      <th>who_code</th>\n",
              "    </tr>\n",
              "  </thead>\n",
              "  <tbody>\n",
              "    <tr>\n",
              "      <th>0</th>\n",
              "      <td>0</td>\n",
              "      <td>3</td>\n",
              "      <td>male</td>\n",
              "      <td>22.0</td>\n",
              "      <td>1</td>\n",
              "      <td>0</td>\n",
              "      <td>7.2500</td>\n",
              "      <td>S</td>\n",
              "      <td>Third</td>\n",
              "      <td>man</td>\n",
              "      <td>True</td>\n",
              "      <td>NaN</td>\n",
              "      <td>Southampton</td>\n",
              "      <td>no</td>\n",
              "      <td>False</td>\n",
              "      <td>1</td>\n",
              "    </tr>\n",
              "    <tr>\n",
              "      <th>1</th>\n",
              "      <td>1</td>\n",
              "      <td>1</td>\n",
              "      <td>female</td>\n",
              "      <td>38.0</td>\n",
              "      <td>1</td>\n",
              "      <td>0</td>\n",
              "      <td>71.2833</td>\n",
              "      <td>C</td>\n",
              "      <td>First</td>\n",
              "      <td>woman</td>\n",
              "      <td>False</td>\n",
              "      <td>C</td>\n",
              "      <td>Cherbourg</td>\n",
              "      <td>yes</td>\n",
              "      <td>False</td>\n",
              "      <td>2</td>\n",
              "    </tr>\n",
              "    <tr>\n",
              "      <th>2</th>\n",
              "      <td>1</td>\n",
              "      <td>3</td>\n",
              "      <td>female</td>\n",
              "      <td>26.0</td>\n",
              "      <td>0</td>\n",
              "      <td>0</td>\n",
              "      <td>7.9250</td>\n",
              "      <td>S</td>\n",
              "      <td>Third</td>\n",
              "      <td>woman</td>\n",
              "      <td>False</td>\n",
              "      <td>NaN</td>\n",
              "      <td>Southampton</td>\n",
              "      <td>yes</td>\n",
              "      <td>True</td>\n",
              "      <td>2</td>\n",
              "    </tr>\n",
              "    <tr>\n",
              "      <th>3</th>\n",
              "      <td>1</td>\n",
              "      <td>1</td>\n",
              "      <td>female</td>\n",
              "      <td>35.0</td>\n",
              "      <td>1</td>\n",
              "      <td>0</td>\n",
              "      <td>53.1000</td>\n",
              "      <td>S</td>\n",
              "      <td>First</td>\n",
              "      <td>woman</td>\n",
              "      <td>False</td>\n",
              "      <td>C</td>\n",
              "      <td>Southampton</td>\n",
              "      <td>yes</td>\n",
              "      <td>False</td>\n",
              "      <td>2</td>\n",
              "    </tr>\n",
              "    <tr>\n",
              "      <th>4</th>\n",
              "      <td>0</td>\n",
              "      <td>3</td>\n",
              "      <td>male</td>\n",
              "      <td>35.0</td>\n",
              "      <td>0</td>\n",
              "      <td>0</td>\n",
              "      <td>8.0500</td>\n",
              "      <td>S</td>\n",
              "      <td>Third</td>\n",
              "      <td>man</td>\n",
              "      <td>True</td>\n",
              "      <td>NaN</td>\n",
              "      <td>Southampton</td>\n",
              "      <td>no</td>\n",
              "      <td>True</td>\n",
              "      <td>1</td>\n",
              "    </tr>\n",
              "  </tbody>\n",
              "</table>\n",
              "</div>"
            ],
            "text/plain": [
              "   survived  pclass     sex   age  ...  embark_town  alive  alone who_code\n",
              "0         0       3    male  22.0  ...  Southampton     no  False        1\n",
              "1         1       1  female  38.0  ...    Cherbourg    yes  False        2\n",
              "2         1       3  female  26.0  ...  Southampton    yes   True        2\n",
              "3         1       1  female  35.0  ...  Southampton    yes  False        2\n",
              "4         0       3    male  35.0  ...  Southampton     no   True        1\n",
              "\n",
              "[5 rows x 16 columns]"
            ]
          },
          "metadata": {},
          "execution_count": 51
        }
      ]
    },
    {
      "cell_type": "markdown",
      "metadata": {
        "id": "px1kInKHiIft"
      },
      "source": [
        "**카테고리 이름 변경**"
      ]
    },
    {
      "cell_type": "code",
      "metadata": {
        "id": "rilc99AAiIfu",
        "colab": {
          "base_uri": "https://localhost:8080/"
        },
        "outputId": "eb03c80c-b552-4021-b8c1-a3de693559db"
      },
      "source": [
        "for g in df1['who'].cat.categories:\n",
        "  print(g)"
      ],
      "execution_count": 52,
      "outputs": [
        {
          "output_type": "stream",
          "text": [
            "child\n",
            "man\n",
            "woman\n"
          ],
          "name": "stdout"
        }
      ]
    },
    {
      "cell_type": "code",
      "metadata": {
        "id": "mm9b4CV7iIfv",
        "colab": {
          "base_uri": "https://localhost:8080/"
        },
        "outputId": "bc294530-a3e9-492f-e685-58a103091711"
      },
      "source": [
        "[\"Group (%s)\" % g for g in df1['who'].cat.categories]"
      ],
      "execution_count": 53,
      "outputs": [
        {
          "output_type": "execute_result",
          "data": {
            "text/plain": [
              "['Group (child)', 'Group (man)', 'Group (woman)']"
            ]
          },
          "metadata": {},
          "execution_count": 53
        }
      ]
    },
    {
      "cell_type": "code",
      "metadata": {
        "id": "M5wI3rtsiIfv",
        "colab": {
          "base_uri": "https://localhost:8080/"
        },
        "outputId": "b69c5798-ece2-43fb-f37a-507e769b2251"
      },
      "source": [
        "df1['who'].cat.categories = [\"Group (%s)\" % g for g in df1['who'].cat.categories]\n",
        "df1['who'].value_counts()"
      ],
      "execution_count": 54,
      "outputs": [
        {
          "output_type": "execute_result",
          "data": {
            "text/plain": [
              "Group (man)      537\n",
              "Group (woman)    271\n",
              "Group (child)     83\n",
              "Name: who, dtype: int64"
            ]
          },
          "metadata": {},
          "execution_count": 54
        }
      ]
    },
    {
      "cell_type": "code",
      "metadata": {
        "colab": {
          "base_uri": "https://localhost:8080/",
          "height": 309
        },
        "id": "9esqhCPB8rP5",
        "outputId": "56907bc1-d6c3-41fb-bab5-e2d9115feafa"
      },
      "source": [
        "df1.head()"
      ],
      "execution_count": 56,
      "outputs": [
        {
          "output_type": "execute_result",
          "data": {
            "text/html": [
              "<div>\n",
              "<style scoped>\n",
              "    .dataframe tbody tr th:only-of-type {\n",
              "        vertical-align: middle;\n",
              "    }\n",
              "\n",
              "    .dataframe tbody tr th {\n",
              "        vertical-align: top;\n",
              "    }\n",
              "\n",
              "    .dataframe thead th {\n",
              "        text-align: right;\n",
              "    }\n",
              "</style>\n",
              "<table border=\"1\" class=\"dataframe\">\n",
              "  <thead>\n",
              "    <tr style=\"text-align: right;\">\n",
              "      <th></th>\n",
              "      <th>survived</th>\n",
              "      <th>pclass</th>\n",
              "      <th>sex</th>\n",
              "      <th>age</th>\n",
              "      <th>sibsp</th>\n",
              "      <th>parch</th>\n",
              "      <th>fare</th>\n",
              "      <th>embarked</th>\n",
              "      <th>class</th>\n",
              "      <th>who</th>\n",
              "      <th>adult_male</th>\n",
              "      <th>deck</th>\n",
              "      <th>embark_town</th>\n",
              "      <th>alive</th>\n",
              "      <th>alone</th>\n",
              "      <th>who_code</th>\n",
              "    </tr>\n",
              "  </thead>\n",
              "  <tbody>\n",
              "    <tr>\n",
              "      <th>0</th>\n",
              "      <td>0</td>\n",
              "      <td>3</td>\n",
              "      <td>male</td>\n",
              "      <td>22.0</td>\n",
              "      <td>1</td>\n",
              "      <td>0</td>\n",
              "      <td>7.2500</td>\n",
              "      <td>S</td>\n",
              "      <td>Third</td>\n",
              "      <td>Group (man)</td>\n",
              "      <td>True</td>\n",
              "      <td>NaN</td>\n",
              "      <td>Southampton</td>\n",
              "      <td>no</td>\n",
              "      <td>False</td>\n",
              "      <td>1</td>\n",
              "    </tr>\n",
              "    <tr>\n",
              "      <th>1</th>\n",
              "      <td>1</td>\n",
              "      <td>1</td>\n",
              "      <td>female</td>\n",
              "      <td>38.0</td>\n",
              "      <td>1</td>\n",
              "      <td>0</td>\n",
              "      <td>71.2833</td>\n",
              "      <td>C</td>\n",
              "      <td>First</td>\n",
              "      <td>Group (woman)</td>\n",
              "      <td>False</td>\n",
              "      <td>C</td>\n",
              "      <td>Cherbourg</td>\n",
              "      <td>yes</td>\n",
              "      <td>False</td>\n",
              "      <td>2</td>\n",
              "    </tr>\n",
              "    <tr>\n",
              "      <th>2</th>\n",
              "      <td>1</td>\n",
              "      <td>3</td>\n",
              "      <td>female</td>\n",
              "      <td>26.0</td>\n",
              "      <td>0</td>\n",
              "      <td>0</td>\n",
              "      <td>7.9250</td>\n",
              "      <td>S</td>\n",
              "      <td>Third</td>\n",
              "      <td>Group (woman)</td>\n",
              "      <td>False</td>\n",
              "      <td>NaN</td>\n",
              "      <td>Southampton</td>\n",
              "      <td>yes</td>\n",
              "      <td>True</td>\n",
              "      <td>2</td>\n",
              "    </tr>\n",
              "    <tr>\n",
              "      <th>3</th>\n",
              "      <td>1</td>\n",
              "      <td>1</td>\n",
              "      <td>female</td>\n",
              "      <td>35.0</td>\n",
              "      <td>1</td>\n",
              "      <td>0</td>\n",
              "      <td>53.1000</td>\n",
              "      <td>S</td>\n",
              "      <td>First</td>\n",
              "      <td>Group (woman)</td>\n",
              "      <td>False</td>\n",
              "      <td>C</td>\n",
              "      <td>Southampton</td>\n",
              "      <td>yes</td>\n",
              "      <td>False</td>\n",
              "      <td>2</td>\n",
              "    </tr>\n",
              "    <tr>\n",
              "      <th>4</th>\n",
              "      <td>0</td>\n",
              "      <td>3</td>\n",
              "      <td>male</td>\n",
              "      <td>35.0</td>\n",
              "      <td>0</td>\n",
              "      <td>0</td>\n",
              "      <td>8.0500</td>\n",
              "      <td>S</td>\n",
              "      <td>Third</td>\n",
              "      <td>Group (man)</td>\n",
              "      <td>True</td>\n",
              "      <td>NaN</td>\n",
              "      <td>Southampton</td>\n",
              "      <td>no</td>\n",
              "      <td>True</td>\n",
              "      <td>1</td>\n",
              "    </tr>\n",
              "  </tbody>\n",
              "</table>\n",
              "</div>"
            ],
            "text/plain": [
              "   survived  pclass     sex   age  ...  embark_town  alive  alone who_code\n",
              "0         0       3    male  22.0  ...  Southampton     no  False        1\n",
              "1         1       1  female  38.0  ...    Cherbourg    yes  False        2\n",
              "2         1       3  female  26.0  ...  Southampton    yes   True        2\n",
              "3         1       1  female  35.0  ...  Southampton    yes  False        2\n",
              "4         0       3    male  35.0  ...  Southampton     no   True        1\n",
              "\n",
              "[5 rows x 16 columns]"
            ]
          },
          "metadata": {},
          "execution_count": 56
        }
      ]
    },
    {
      "cell_type": "markdown",
      "metadata": {
        "id": "zcPPwjk3zOHd"
      },
      "source": [
        "## datetime - 날짜, 시간"
      ]
    },
    {
      "cell_type": "markdown",
      "metadata": {
        "id": "jRZjTFEaiIfw"
      },
      "source": [
        "### data_range\n",
        "\n",
        "주요 옵션 값\n",
        "- **start**: 시작 날짜\n",
        "- **end**: 끝 날짜\n",
        "- **periods**: 생성할 데이터 개수\n",
        "- **freq**: 주기"
      ]
    },
    {
      "cell_type": "code",
      "metadata": {
        "id": "N0pp4eKFiIfw",
        "colab": {
          "base_uri": "https://localhost:8080/"
        },
        "outputId": "abe21afe-10c5-4873-a3e4-68eb5f30a73b"
      },
      "source": [
        "df.shape"
      ],
      "execution_count": 57,
      "outputs": [
        {
          "output_type": "execute_result",
          "data": {
            "text/plain": [
              "(891, 15)"
            ]
          },
          "metadata": {},
          "execution_count": 57
        }
      ]
    },
    {
      "cell_type": "code",
      "metadata": {
        "id": "RdVLy-HZzOHd",
        "colab": {
          "base_uri": "https://localhost:8080/"
        },
        "outputId": "9ee3f32b-6766-4a07-a498-915abb32f770"
      },
      "source": [
        "dates = pd.date_range('20210101', periods=df.shape[0], freq='15H')\n",
        "dates[:5]"
      ],
      "execution_count": 59,
      "outputs": [
        {
          "output_type": "execute_result",
          "data": {
            "text/plain": [
              "DatetimeIndex(['2021-01-01 00:00:00', '2021-01-01 15:00:00',\n",
              "               '2021-01-02 06:00:00', '2021-01-02 21:00:00',\n",
              "               '2021-01-03 12:00:00'],\n",
              "              dtype='datetime64[ns]', freq='15H')"
            ]
          },
          "metadata": {},
          "execution_count": 59
        }
      ]
    },
    {
      "cell_type": "code",
      "metadata": {
        "id": "0gUsPeMBzOHf",
        "colab": {
          "base_uri": "https://localhost:8080/",
          "height": 224
        },
        "outputId": "cdc70e74-9bc3-4b30-8179-878be90daaf4"
      },
      "source": [
        "df1 = df.copy()\n",
        "df1.head()"
      ],
      "execution_count": 60,
      "outputs": [
        {
          "output_type": "execute_result",
          "data": {
            "text/html": [
              "<div>\n",
              "<style scoped>\n",
              "    .dataframe tbody tr th:only-of-type {\n",
              "        vertical-align: middle;\n",
              "    }\n",
              "\n",
              "    .dataframe tbody tr th {\n",
              "        vertical-align: top;\n",
              "    }\n",
              "\n",
              "    .dataframe thead th {\n",
              "        text-align: right;\n",
              "    }\n",
              "</style>\n",
              "<table border=\"1\" class=\"dataframe\">\n",
              "  <thead>\n",
              "    <tr style=\"text-align: right;\">\n",
              "      <th></th>\n",
              "      <th>survived</th>\n",
              "      <th>pclass</th>\n",
              "      <th>sex</th>\n",
              "      <th>age</th>\n",
              "      <th>sibsp</th>\n",
              "      <th>parch</th>\n",
              "      <th>fare</th>\n",
              "      <th>embarked</th>\n",
              "      <th>class</th>\n",
              "      <th>who</th>\n",
              "      <th>adult_male</th>\n",
              "      <th>deck</th>\n",
              "      <th>embark_town</th>\n",
              "      <th>alive</th>\n",
              "      <th>alone</th>\n",
              "    </tr>\n",
              "  </thead>\n",
              "  <tbody>\n",
              "    <tr>\n",
              "      <th>0</th>\n",
              "      <td>0</td>\n",
              "      <td>3</td>\n",
              "      <td>male</td>\n",
              "      <td>22.0</td>\n",
              "      <td>1</td>\n",
              "      <td>0</td>\n",
              "      <td>7.2500</td>\n",
              "      <td>S</td>\n",
              "      <td>Third</td>\n",
              "      <td>man</td>\n",
              "      <td>True</td>\n",
              "      <td>NaN</td>\n",
              "      <td>Southampton</td>\n",
              "      <td>no</td>\n",
              "      <td>False</td>\n",
              "    </tr>\n",
              "    <tr>\n",
              "      <th>1</th>\n",
              "      <td>1</td>\n",
              "      <td>1</td>\n",
              "      <td>female</td>\n",
              "      <td>38.0</td>\n",
              "      <td>1</td>\n",
              "      <td>0</td>\n",
              "      <td>71.2833</td>\n",
              "      <td>C</td>\n",
              "      <td>First</td>\n",
              "      <td>woman</td>\n",
              "      <td>False</td>\n",
              "      <td>C</td>\n",
              "      <td>Cherbourg</td>\n",
              "      <td>yes</td>\n",
              "      <td>False</td>\n",
              "    </tr>\n",
              "    <tr>\n",
              "      <th>2</th>\n",
              "      <td>1</td>\n",
              "      <td>3</td>\n",
              "      <td>female</td>\n",
              "      <td>26.0</td>\n",
              "      <td>0</td>\n",
              "      <td>0</td>\n",
              "      <td>7.9250</td>\n",
              "      <td>S</td>\n",
              "      <td>Third</td>\n",
              "      <td>woman</td>\n",
              "      <td>False</td>\n",
              "      <td>NaN</td>\n",
              "      <td>Southampton</td>\n",
              "      <td>yes</td>\n",
              "      <td>True</td>\n",
              "    </tr>\n",
              "    <tr>\n",
              "      <th>3</th>\n",
              "      <td>1</td>\n",
              "      <td>1</td>\n",
              "      <td>female</td>\n",
              "      <td>35.0</td>\n",
              "      <td>1</td>\n",
              "      <td>0</td>\n",
              "      <td>53.1000</td>\n",
              "      <td>S</td>\n",
              "      <td>First</td>\n",
              "      <td>woman</td>\n",
              "      <td>False</td>\n",
              "      <td>C</td>\n",
              "      <td>Southampton</td>\n",
              "      <td>yes</td>\n",
              "      <td>False</td>\n",
              "    </tr>\n",
              "    <tr>\n",
              "      <th>4</th>\n",
              "      <td>0</td>\n",
              "      <td>3</td>\n",
              "      <td>male</td>\n",
              "      <td>35.0</td>\n",
              "      <td>0</td>\n",
              "      <td>0</td>\n",
              "      <td>8.0500</td>\n",
              "      <td>S</td>\n",
              "      <td>Third</td>\n",
              "      <td>man</td>\n",
              "      <td>True</td>\n",
              "      <td>NaN</td>\n",
              "      <td>Southampton</td>\n",
              "      <td>no</td>\n",
              "      <td>True</td>\n",
              "    </tr>\n",
              "  </tbody>\n",
              "</table>\n",
              "</div>"
            ],
            "text/plain": [
              "   survived  pclass     sex   age  ...  deck  embark_town  alive  alone\n",
              "0         0       3    male  22.0  ...   NaN  Southampton     no  False\n",
              "1         1       1  female  38.0  ...     C    Cherbourg    yes  False\n",
              "2         1       3  female  26.0  ...   NaN  Southampton    yes   True\n",
              "3         1       1  female  35.0  ...     C  Southampton    yes  False\n",
              "4         0       3    male  35.0  ...   NaN  Southampton     no   True\n",
              "\n",
              "[5 rows x 15 columns]"
            ]
          },
          "metadata": {},
          "execution_count": 60
        }
      ]
    },
    {
      "cell_type": "code",
      "metadata": {
        "id": "6a1nabuXzOHh",
        "colab": {
          "base_uri": "https://localhost:8080/",
          "height": 394
        },
        "outputId": "d0910f3c-9c85-4333-f36e-5a218917e462"
      },
      "source": [
        "# date의 컬럼을 만들어 생성한 dates 를 df1에 'date' 컬럼을 추가합니다.\n",
        "df1['date'] = dates\n",
        "df1.head()"
      ],
      "execution_count": 61,
      "outputs": [
        {
          "output_type": "execute_result",
          "data": {
            "text/html": [
              "<div>\n",
              "<style scoped>\n",
              "    .dataframe tbody tr th:only-of-type {\n",
              "        vertical-align: middle;\n",
              "    }\n",
              "\n",
              "    .dataframe tbody tr th {\n",
              "        vertical-align: top;\n",
              "    }\n",
              "\n",
              "    .dataframe thead th {\n",
              "        text-align: right;\n",
              "    }\n",
              "</style>\n",
              "<table border=\"1\" class=\"dataframe\">\n",
              "  <thead>\n",
              "    <tr style=\"text-align: right;\">\n",
              "      <th></th>\n",
              "      <th>survived</th>\n",
              "      <th>pclass</th>\n",
              "      <th>sex</th>\n",
              "      <th>age</th>\n",
              "      <th>sibsp</th>\n",
              "      <th>parch</th>\n",
              "      <th>fare</th>\n",
              "      <th>embarked</th>\n",
              "      <th>class</th>\n",
              "      <th>who</th>\n",
              "      <th>adult_male</th>\n",
              "      <th>deck</th>\n",
              "      <th>embark_town</th>\n",
              "      <th>alive</th>\n",
              "      <th>alone</th>\n",
              "      <th>date</th>\n",
              "    </tr>\n",
              "  </thead>\n",
              "  <tbody>\n",
              "    <tr>\n",
              "      <th>0</th>\n",
              "      <td>0</td>\n",
              "      <td>3</td>\n",
              "      <td>male</td>\n",
              "      <td>22.0</td>\n",
              "      <td>1</td>\n",
              "      <td>0</td>\n",
              "      <td>7.2500</td>\n",
              "      <td>S</td>\n",
              "      <td>Third</td>\n",
              "      <td>man</td>\n",
              "      <td>True</td>\n",
              "      <td>NaN</td>\n",
              "      <td>Southampton</td>\n",
              "      <td>no</td>\n",
              "      <td>False</td>\n",
              "      <td>2021-01-01 00:00:00</td>\n",
              "    </tr>\n",
              "    <tr>\n",
              "      <th>1</th>\n",
              "      <td>1</td>\n",
              "      <td>1</td>\n",
              "      <td>female</td>\n",
              "      <td>38.0</td>\n",
              "      <td>1</td>\n",
              "      <td>0</td>\n",
              "      <td>71.2833</td>\n",
              "      <td>C</td>\n",
              "      <td>First</td>\n",
              "      <td>woman</td>\n",
              "      <td>False</td>\n",
              "      <td>C</td>\n",
              "      <td>Cherbourg</td>\n",
              "      <td>yes</td>\n",
              "      <td>False</td>\n",
              "      <td>2021-01-01 15:00:00</td>\n",
              "    </tr>\n",
              "    <tr>\n",
              "      <th>2</th>\n",
              "      <td>1</td>\n",
              "      <td>3</td>\n",
              "      <td>female</td>\n",
              "      <td>26.0</td>\n",
              "      <td>0</td>\n",
              "      <td>0</td>\n",
              "      <td>7.9250</td>\n",
              "      <td>S</td>\n",
              "      <td>Third</td>\n",
              "      <td>woman</td>\n",
              "      <td>False</td>\n",
              "      <td>NaN</td>\n",
              "      <td>Southampton</td>\n",
              "      <td>yes</td>\n",
              "      <td>True</td>\n",
              "      <td>2021-01-02 06:00:00</td>\n",
              "    </tr>\n",
              "    <tr>\n",
              "      <th>3</th>\n",
              "      <td>1</td>\n",
              "      <td>1</td>\n",
              "      <td>female</td>\n",
              "      <td>35.0</td>\n",
              "      <td>1</td>\n",
              "      <td>0</td>\n",
              "      <td>53.1000</td>\n",
              "      <td>S</td>\n",
              "      <td>First</td>\n",
              "      <td>woman</td>\n",
              "      <td>False</td>\n",
              "      <td>C</td>\n",
              "      <td>Southampton</td>\n",
              "      <td>yes</td>\n",
              "      <td>False</td>\n",
              "      <td>2021-01-02 21:00:00</td>\n",
              "    </tr>\n",
              "    <tr>\n",
              "      <th>4</th>\n",
              "      <td>0</td>\n",
              "      <td>3</td>\n",
              "      <td>male</td>\n",
              "      <td>35.0</td>\n",
              "      <td>0</td>\n",
              "      <td>0</td>\n",
              "      <td>8.0500</td>\n",
              "      <td>S</td>\n",
              "      <td>Third</td>\n",
              "      <td>man</td>\n",
              "      <td>True</td>\n",
              "      <td>NaN</td>\n",
              "      <td>Southampton</td>\n",
              "      <td>no</td>\n",
              "      <td>True</td>\n",
              "      <td>2021-01-03 12:00:00</td>\n",
              "    </tr>\n",
              "  </tbody>\n",
              "</table>\n",
              "</div>"
            ],
            "text/plain": [
              "   survived  pclass     sex   age  ...  embark_town  alive  alone                date\n",
              "0         0       3    male  22.0  ...  Southampton     no  False 2021-01-01 00:00:00\n",
              "1         1       1  female  38.0  ...    Cherbourg    yes  False 2021-01-01 15:00:00\n",
              "2         1       3  female  26.0  ...  Southampton    yes   True 2021-01-02 06:00:00\n",
              "3         1       1  female  35.0  ...  Southampton    yes  False 2021-01-02 21:00:00\n",
              "4         0       3    male  35.0  ...  Southampton     no   True 2021-01-03 12:00:00\n",
              "\n",
              "[5 rows x 16 columns]"
            ]
          },
          "metadata": {},
          "execution_count": 61
        }
      ]
    },
    {
      "cell_type": "code",
      "metadata": {
        "colab": {
          "base_uri": "https://localhost:8080/"
        },
        "id": "mjGcxmd4zOHj",
        "outputId": "0cd7e20e-a3fa-4a7c-e493-d2481cb5af24"
      },
      "source": [
        "df1.info()"
      ],
      "execution_count": 62,
      "outputs": [
        {
          "output_type": "stream",
          "text": [
            "<class 'pandas.core.frame.DataFrame'>\n",
            "RangeIndex: 891 entries, 0 to 890\n",
            "Data columns (total 16 columns):\n",
            " #   Column       Non-Null Count  Dtype         \n",
            "---  ------       --------------  -----         \n",
            " 0   survived     891 non-null    int64         \n",
            " 1   pclass       891 non-null    int64         \n",
            " 2   sex          891 non-null    object        \n",
            " 3   age          714 non-null    float64       \n",
            " 4   sibsp        891 non-null    int64         \n",
            " 5   parch        891 non-null    int64         \n",
            " 6   fare         891 non-null    float64       \n",
            " 7   embarked     889 non-null    object        \n",
            " 8   class        891 non-null    category      \n",
            " 9   who          891 non-null    object        \n",
            " 10  adult_male   891 non-null    bool          \n",
            " 11  deck         203 non-null    category      \n",
            " 12  embark_town  889 non-null    object        \n",
            " 13  alive        891 non-null    object        \n",
            " 14  alone        891 non-null    bool          \n",
            " 15  date         891 non-null    datetime64[ns]\n",
            "dtypes: bool(2), category(2), datetime64[ns](1), float64(2), int64(4), object(5)\n",
            "memory usage: 87.6+ KB\n"
          ],
          "name": "stdout"
        }
      ]
    },
    {
      "cell_type": "markdown",
      "metadata": {
        "id": "K5KWlhMgiIfy"
      },
      "source": [
        "**date**의 컬럼에 `datetime64`라는 데이터 타입이 표기됩니다."
      ]
    },
    {
      "cell_type": "code",
      "metadata": {
        "colab": {
          "base_uri": "https://localhost:8080/"
        },
        "id": "9qnMvHXJ95Xq",
        "outputId": "de5d72bc-6673-470b-f098-4f8346924503"
      },
      "source": [
        "temp = pd.to_datetime('20210825')\n",
        "temp"
      ],
      "execution_count": 63,
      "outputs": [
        {
          "output_type": "execute_result",
          "data": {
            "text/plain": [
              "Timestamp('2021-08-25 00:00:00')"
            ]
          },
          "metadata": {},
          "execution_count": 63
        }
      ]
    },
    {
      "cell_type": "code",
      "metadata": {
        "colab": {
          "base_uri": "https://localhost:8080/"
        },
        "id": "bmqeHBIy-oCF",
        "outputId": "a2473937-4a94-4e73-8158-9c1e757ae4f7"
      },
      "source": [
        "s = pd.Series(['20210825', '20210826', '20210827'])\n",
        "s2 = pd.Series(['2021/08/25', '2021/08/26', '2021/08/27'])\n",
        "s3 = pd.Series(['210825', '210826', '210827']) #형식이 위 2개랑 달라서 %Y가 아닌 %y로 해야 올바르게 나옴\n",
        "temp = pd.to_datetime(s3, format='%Y%m%d', errors='ignore')\n",
        "temp"
      ],
      "execution_count": 69,
      "outputs": [
        {
          "output_type": "execute_result",
          "data": {
            "text/plain": [
              "0   2021-08-25\n",
              "1   2021-08-26\n",
              "2   2021-08-27\n",
              "dtype: datetime64[ns]"
            ]
          },
          "metadata": {},
          "execution_count": 69
        }
      ]
    },
    {
      "cell_type": "markdown",
      "metadata": {
        "id": "-34-e3M5iIfy"
      },
      "source": [
        "### datetime 타입\n",
        "\n",
        "`datetime` 타입에서는 **dt** 접근자로 다음과 같은 날짜 속성에 쉽게 접근할 수 있습니다.\n",
        "\n",
        "Pandas의 **dt (datetime) 날짜 관련 변수**는 다음과 같습니다."
      ]
    },
    {
      "cell_type": "markdown",
      "metadata": {
        "id": "wmrn-vsEiIfz"
      },
      "source": [
        "[도큐먼트](https://pandas.pydata.org/pandas-docs/stable/reference/api/pandas.DatetimeIndex.year.html)"
      ]
    },
    {
      "cell_type": "markdown",
      "metadata": {
        "id": "0D1j3ReZ0F4M"
      },
      "source": [
        "- pandas.Series.dt.year: 연도\n",
        "- pandas.Series.dt.month: 월\n",
        "- pandas.Series.dt.day: 일\n",
        "- pandas.Series.dt.hour: 시\n",
        "- pandas.Series.dt.minute: 분\n",
        "- pandas.Series.dt.second: 초\n",
        "- pandas.Series.dt.microsecond: micro 초\n",
        "- pandas.Series.dt.nanosecond: nano 초\n",
        "- pandas.Series.dt.week: 주\n",
        "- pandas.Series.dt.weekofyear: 연중 몇 째주\n",
        "- pandas.Series.dt.dayofweek: 요일\n",
        "- pandas.Series.dt.weekday: 요일 (dayofweek과 동일)\n",
        "- pandas.Series.dt.dayofyear: 연중 몇 번째 날\n",
        "- pandas.Series.dt.quarter: 분기"
      ]
    },
    {
      "cell_type": "code",
      "metadata": {
        "colab": {
          "base_uri": "https://localhost:8080/"
        },
        "id": "5qDG01NYzOHk",
        "outputId": "76471066-c3c4-42ca-b821-2585c76ec6fe"
      },
      "source": [
        "# df1의 'date'에서 년도 정보만 분리하여 처음부터 5개를 출력한다.\n",
        "df1['date'].dt.year.head()"
      ],
      "execution_count": 71,
      "outputs": [
        {
          "output_type": "execute_result",
          "data": {
            "text/plain": [
              "0    2021\n",
              "1    2021\n",
              "2    2021\n",
              "3    2021\n",
              "4    2021\n",
              "Name: date, dtype: int64"
            ]
          },
          "metadata": {},
          "execution_count": 71
        }
      ]
    },
    {
      "cell_type": "code",
      "metadata": {
        "colab": {
          "base_uri": "https://localhost:8080/"
        },
        "id": "cb3_6mTLC1Qa",
        "outputId": "0dc9686d-ae1f-46e0-dbce-6e150fa98207"
      },
      "source": [
        "df1['date'].dt.year.value_counts()  # 모두 같은 값인지 아닌지 확인함"
      ],
      "execution_count": 72,
      "outputs": [
        {
          "output_type": "execute_result",
          "data": {
            "text/plain": [
              "2021    584\n",
              "2022    307\n",
              "Name: date, dtype: int64"
            ]
          },
          "metadata": {},
          "execution_count": 72
        }
      ]
    },
    {
      "cell_type": "code",
      "metadata": {
        "id": "mK2XwFfvC1X8"
      },
      "source": [
        "df1['year'] = df1['date'].dt.year  # 다른 값이 섞여 있으므로 정보로 활용하기 위해 column 추가"
      ],
      "execution_count": 73,
      "outputs": []
    },
    {
      "cell_type": "code",
      "metadata": {
        "colab": {
          "base_uri": "https://localhost:8080/"
        },
        "id": "rlpBmqeSzOHl",
        "outputId": "2b8a3cd8-dc52-4a1d-b716-258b54f12b17"
      },
      "source": [
        "# 월\n",
        "df1['date'].dt.month.head()"
      ],
      "execution_count": 75,
      "outputs": [
        {
          "output_type": "execute_result",
          "data": {
            "text/plain": [
              "0    1\n",
              "1    1\n",
              "2    1\n",
              "3    1\n",
              "4    1\n",
              "Name: date, dtype: int64"
            ]
          },
          "metadata": {},
          "execution_count": 75
        }
      ]
    },
    {
      "cell_type": "code",
      "metadata": {
        "colab": {
          "base_uri": "https://localhost:8080/"
        },
        "id": "7jtxo4-EDtj0",
        "outputId": "51a7f4bf-bda9-4b3c-de54-2966d4ef0453"
      },
      "source": [
        "df1['date'].dt.month.value_counts().sort_index()"
      ],
      "execution_count": 77,
      "outputs": [
        {
          "output_type": "execute_result",
          "data": {
            "text/plain": [
              "1     100\n",
              "2      90\n",
              "3      98\n",
              "4      96\n",
              "5     100\n",
              "6      96\n",
              "7      67\n",
              "8      49\n",
              "9      48\n",
              "10     50\n",
              "11     48\n",
              "12     49\n",
              "Name: date, dtype: int64"
            ]
          },
          "metadata": {},
          "execution_count": 77
        }
      ]
    },
    {
      "cell_type": "code",
      "metadata": {
        "colab": {
          "base_uri": "https://localhost:8080/"
        },
        "id": "mNha0PlczOHl",
        "outputId": "babb7e63-9bfa-459e-f48f-2237b0fcdaf7"
      },
      "source": [
        "# 일\n",
        "df1['date'].dt.day.head()"
      ],
      "execution_count": 76,
      "outputs": [
        {
          "output_type": "execute_result",
          "data": {
            "text/plain": [
              "0    1\n",
              "1    1\n",
              "2    2\n",
              "3    2\n",
              "4    3\n",
              "Name: date, dtype: int64"
            ]
          },
          "metadata": {},
          "execution_count": 76
        }
      ]
    },
    {
      "cell_type": "markdown",
      "metadata": {
        "id": "gWKBubiszOHm"
      },
      "source": [
        "**dayofweek**는 숫자로 요일이 표기 됩니다.\n",
        "- 월요일: 0, 일요일: 6"
      ]
    },
    {
      "cell_type": "code",
      "metadata": {
        "colab": {
          "base_uri": "https://localhost:8080/"
        },
        "id": "2nQRmNLPzOHm",
        "outputId": "6667d11f-4e0e-4cd0-f2fb-fb77ab7bf639"
      },
      "source": [
        "# df1의 'date'에서 요일 정보만 분리하여 처음부터 10개를 출력한다.\n",
        "df1['date'].dt.dayofweek.head(10)"
      ],
      "execution_count": 78,
      "outputs": [
        {
          "output_type": "execute_result",
          "data": {
            "text/plain": [
              "0    4\n",
              "1    4\n",
              "2    5\n",
              "3    5\n",
              "4    6\n",
              "5    0\n",
              "6    0\n",
              "7    1\n",
              "8    2\n",
              "9    2\n",
              "Name: date, dtype: int64"
            ]
          },
          "metadata": {},
          "execution_count": 78
        }
      ]
    },
    {
      "cell_type": "code",
      "metadata": {
        "colab": {
          "base_uri": "https://localhost:8080/"
        },
        "id": "JTpXX8bsE6kx",
        "outputId": "2e38f3ef-8ec2-4d57-e8c9-0ae506687a5e"
      },
      "source": [
        "df1['date'].dt.dayofweek.value_counts().sort_index()"
      ],
      "execution_count": 80,
      "outputs": [
        {
          "output_type": "execute_result",
          "data": {
            "text/plain": [
              "0    127\n",
              "1    127\n",
              "2    126\n",
              "3    127\n",
              "4    128\n",
              "5    128\n",
              "6    128\n",
              "Name: date, dtype: int64"
            ]
          },
          "metadata": {},
          "execution_count": 80
        }
      ]
    },
    {
      "cell_type": "markdown",
      "metadata": {
        "id": "tvuZmQn5iIf1"
      },
      "source": [
        "### to_datetime"
      ]
    },
    {
      "cell_type": "code",
      "metadata": {
        "id": "3rfnGdc2iIf1"
      },
      "source": [
        "# e notation 표현 방식 변경\n",
        "pd.options.display.float_format = '{:.2f}'.format"
      ],
      "execution_count": 111,
      "outputs": []
    },
    {
      "cell_type": "markdown",
      "metadata": {
        "id": "Iys44jaziIf1"
      },
      "source": [
        "샘플용 **서울시 공공자전거 데이터를 로드**합니다."
      ]
    },
    {
      "cell_type": "code",
      "metadata": {
        "id": "wthNlD3hiIf2",
        "colab": {
          "base_uri": "https://localhost:8080/",
          "height": 576
        },
        "outputId": "cbb9361f-199a-4ae3-8fb6-7b343633b07d"
      },
      "source": [
        "cds.list_data()"
      ],
      "execution_count": 112,
      "outputs": [
        {
          "output_type": "display_data",
          "data": {
            "text/html": [
              "<div>\n",
              "<style scoped>\n",
              "    .dataframe tbody tr th:only-of-type {\n",
              "        vertical-align: middle;\n",
              "    }\n",
              "\n",
              "    .dataframe tbody tr th {\n",
              "        vertical-align: top;\n",
              "    }\n",
              "\n",
              "    .dataframe thead th {\n",
              "        text-align: right;\n",
              "    }\n",
              "</style>\n",
              "<table border=\"1\" class=\"dataframe\">\n",
              "  <thead>\n",
              "    <tr style=\"text-align: right;\">\n",
              "      <th></th>\n",
              "      <th>name</th>\n",
              "      <th>info</th>\n",
              "      <th>filename</th>\n",
              "    </tr>\n",
              "  </thead>\n",
              "  <tbody>\n",
              "    <tr>\n",
              "      <th>0</th>\n",
              "      <td>서울시자전거</td>\n",
              "      <td>서울시 따릉이 자전거 대여량 정보</td>\n",
              "      <td>[seoul_bicycle.csv]</td>\n",
              "    </tr>\n",
              "    <tr>\n",
              "      <th>1</th>\n",
              "      <td>서울시대중교통</td>\n",
              "      <td>서울시 대중교통(지하철, 버스) 이용객 정보</td>\n",
              "      <td>[seoul_transportation.xlsx]</td>\n",
              "    </tr>\n",
              "    <tr>\n",
              "      <th>2</th>\n",
              "      <td>서울시주민등록인구</td>\n",
              "      <td>서울시 주민등록인구 정보</td>\n",
              "      <td>[seoul_population.csv]</td>\n",
              "    </tr>\n",
              "    <tr>\n",
              "      <th>3</th>\n",
              "      <td>유가정보</td>\n",
              "      <td>2019년 서울시 유가 정보</td>\n",
              "      <td>[gas_first_2019.csv, gas_second_2019.csv]</td>\n",
              "    </tr>\n",
              "    <tr>\n",
              "      <th>4</th>\n",
              "      <td>PandasFileIO</td>\n",
              "      <td>Pandas File I/O 연습 문제용 데이터셋</td>\n",
              "      <td>[mySUNI.xlsx, mySUNI_1.csv, mySUNI_2.csv, mySU...</td>\n",
              "    </tr>\n",
              "    <tr>\n",
              "      <th>5</th>\n",
              "      <td>CCTV데이터분석</td>\n",
              "      <td>mySUNI WorkShop - CCTV 데이터 분석</td>\n",
              "      <td>[01. CCTV_in_Seoul.csv, 01. population_in_Seou...</td>\n",
              "    </tr>\n",
              "    <tr>\n",
              "      <th>6</th>\n",
              "      <td>국민연금데이터분석</td>\n",
              "      <td>mySUNI WorkShop - 국민연금 데이터 분석</td>\n",
              "      <td>[national_pension.csv]</td>\n",
              "    </tr>\n",
              "    <tr>\n",
              "      <th>7</th>\n",
              "      <td>민간아파트가격동향분석</td>\n",
              "      <td>mySUNI WorkShop - 민간 아파트 가격 동향 분석</td>\n",
              "      <td>[seoul_house_price.csv]</td>\n",
              "    </tr>\n",
              "    <tr>\n",
              "      <th>8</th>\n",
              "      <td>실거래가분석</td>\n",
              "      <td>mySUNI WorkShop - 2020년 아파트 실거래가 분석</td>\n",
              "      <td>[2020-seoul-apt-price.csv, loc_code.xlsx]</td>\n",
              "    </tr>\n",
              "    <tr>\n",
              "      <th>9</th>\n",
              "      <td>유가가격분석</td>\n",
              "      <td>mySUNI WorkShop - 2020년 유가 가격 분석</td>\n",
              "      <td>[gas_first_2019.csv, gas_second_2019.csv]</td>\n",
              "    </tr>\n",
              "    <tr>\n",
              "      <th>10</th>\n",
              "      <td>중고차판매정보분석</td>\n",
              "      <td>mySUNI WorkShop - 중고차 판매 정보 분석</td>\n",
              "      <td>[vehicles.csv]</td>\n",
              "    </tr>\n",
              "    <tr>\n",
              "      <th>11</th>\n",
              "      <td>신용정보</td>\n",
              "      <td>사용자의 신용카드 대금 연체를 기준의 신용도</td>\n",
              "      <td>[credit-data.csv]</td>\n",
              "    </tr>\n",
              "    <tr>\n",
              "      <th>12</th>\n",
              "      <td>전국신규분양가</td>\n",
              "      <td>주택도시보증공사 전국 신규 민간 아파트 분양가격 정보</td>\n",
              "      <td>[house-price.csv]</td>\n",
              "    </tr>\n",
              "    <tr>\n",
              "      <th>13</th>\n",
              "      <td>에너지 효율</td>\n",
              "      <td>난방부하 및 냉방부하 요구사항(에너지 효율)을 평가</td>\n",
              "      <td>[ENB2012_data.xlsx]</td>\n",
              "    </tr>\n",
              "    <tr>\n",
              "      <th>14</th>\n",
              "      <td>보스턴집값</td>\n",
              "      <td>보스턴 지역 집값 데이터 세트</td>\n",
              "      <td>[boston.csv]</td>\n",
              "    </tr>\n",
              "    <tr>\n",
              "      <th>15</th>\n",
              "      <td>와인유형분류</td>\n",
              "      <td>와인 유형(red, white) 분류를 위한 와인 품질 데이터 세트</td>\n",
              "      <td>[red_wine.csv, white_wine.csv]</td>\n",
              "    </tr>\n",
              "    <tr>\n",
              "      <th>16</th>\n",
              "      <td>사용자이탈예측</td>\n",
              "      <td>사용자 이탈 예측</td>\n",
              "      <td>[class.csv, event.csv, logs.csv, user_info.csv]</td>\n",
              "    </tr>\n",
              "  </tbody>\n",
              "</table>\n",
              "</div>"
            ],
            "text/plain": [
              "            name  ...                                           filename\n",
              "0         서울시자전거  ...                                [seoul_bicycle.csv]\n",
              "1        서울시대중교통  ...                        [seoul_transportation.xlsx]\n",
              "2      서울시주민등록인구  ...                             [seoul_population.csv]\n",
              "3           유가정보  ...          [gas_first_2019.csv, gas_second_2019.csv]\n",
              "4   PandasFileIO  ...  [mySUNI.xlsx, mySUNI_1.csv, mySUNI_2.csv, mySU...\n",
              "5      CCTV데이터분석  ...  [01. CCTV_in_Seoul.csv, 01. population_in_Seou...\n",
              "6      국민연금데이터분석  ...                             [national_pension.csv]\n",
              "7    민간아파트가격동향분석  ...                            [seoul_house_price.csv]\n",
              "8         실거래가분석  ...          [2020-seoul-apt-price.csv, loc_code.xlsx]\n",
              "9         유가가격분석  ...          [gas_first_2019.csv, gas_second_2019.csv]\n",
              "10     중고차판매정보분석  ...                                     [vehicles.csv]\n",
              "11          신용정보  ...                                  [credit-data.csv]\n",
              "12       전국신규분양가  ...                                  [house-price.csv]\n",
              "13        에너지 효율  ...                                [ENB2012_data.xlsx]\n",
              "14         보스턴집값  ...                                       [boston.csv]\n",
              "15        와인유형분류  ...                     [red_wine.csv, white_wine.csv]\n",
              "16       사용자이탈예측  ...    [class.csv, event.csv, logs.csv, user_info.csv]\n",
              "\n",
              "[17 rows x 3 columns]"
            ]
          },
          "metadata": {}
        }
      ]
    },
    {
      "cell_type": "code",
      "metadata": {
        "id": "jOCAvy6iiIf2",
        "colab": {
          "base_uri": "https://localhost:8080/"
        },
        "outputId": "30b5f76e-4945-4438-bf5e-57e5109891a7"
      },
      "source": [
        "cds.download_data('서울시자전거')"
      ],
      "execution_count": 113,
      "outputs": [
        {
          "output_type": "stream",
          "text": [
            "파일 다운로드 완료\n",
            "====================\n",
            "\n",
            "데이터셋: 서울시자전거\n",
            "파일경로: data/seoul_bicycle.csv\n",
            "\n",
            "====================\n"
          ],
          "name": "stdout"
        }
      ]
    },
    {
      "cell_type": "code",
      "metadata": {
        "id": "WkO8_j5ciIf3",
        "colab": {
          "base_uri": "https://localhost:8080/",
          "height": 204
        },
        "outputId": "6a509ecf-0349-4821-8ce6-f4255ea6a520"
      },
      "source": [
        "df2 = pd.read_csv('data/seoul_bicycle.csv')\n",
        "df2.head()"
      ],
      "execution_count": 121,
      "outputs": [
        {
          "output_type": "execute_result",
          "data": {
            "text/html": [
              "<div>\n",
              "<style scoped>\n",
              "    .dataframe tbody tr th:only-of-type {\n",
              "        vertical-align: middle;\n",
              "    }\n",
              "\n",
              "    .dataframe tbody tr th {\n",
              "        vertical-align: top;\n",
              "    }\n",
              "\n",
              "    .dataframe thead th {\n",
              "        text-align: right;\n",
              "    }\n",
              "</style>\n",
              "<table border=\"1\" class=\"dataframe\">\n",
              "  <thead>\n",
              "    <tr style=\"text-align: right;\">\n",
              "      <th></th>\n",
              "      <th>대여일자</th>\n",
              "      <th>대여소번호</th>\n",
              "      <th>대여소명</th>\n",
              "      <th>대여구분코드</th>\n",
              "      <th>성별</th>\n",
              "      <th>연령대코드</th>\n",
              "      <th>이용건수</th>\n",
              "      <th>운동량</th>\n",
              "      <th>탄소량</th>\n",
              "      <th>이동거리</th>\n",
              "      <th>이용시간</th>\n",
              "    </tr>\n",
              "  </thead>\n",
              "  <tbody>\n",
              "    <tr>\n",
              "      <th>0</th>\n",
              "      <td>Jan-20-2020</td>\n",
              "      <td>3</td>\n",
              "      <td>중랑센터</td>\n",
              "      <td>일일(회원)</td>\n",
              "      <td>M</td>\n",
              "      <td>AGE_003</td>\n",
              "      <td>3</td>\n",
              "      <td>61.82</td>\n",
              "      <td>0.52</td>\n",
              "      <td>2230.00</td>\n",
              "      <td>75</td>\n",
              "    </tr>\n",
              "    <tr>\n",
              "      <th>1</th>\n",
              "      <td>Jan-20-2020</td>\n",
              "      <td>3</td>\n",
              "      <td>중랑센터</td>\n",
              "      <td>일일(회원)</td>\n",
              "      <td>M</td>\n",
              "      <td>AGE_004</td>\n",
              "      <td>1</td>\n",
              "      <td>39.62</td>\n",
              "      <td>0.28</td>\n",
              "      <td>1220.00</td>\n",
              "      <td>15</td>\n",
              "    </tr>\n",
              "    <tr>\n",
              "      <th>2</th>\n",
              "      <td>Jan-20-2020</td>\n",
              "      <td>3</td>\n",
              "      <td>중랑센터</td>\n",
              "      <td>정기</td>\n",
              "      <td>M</td>\n",
              "      <td>AGE_005</td>\n",
              "      <td>3</td>\n",
              "      <td>430.85</td>\n",
              "      <td>4.01</td>\n",
              "      <td>17270.00</td>\n",
              "      <td>53</td>\n",
              "    </tr>\n",
              "    <tr>\n",
              "      <th>3</th>\n",
              "      <td>Jan-20-2020</td>\n",
              "      <td>5</td>\n",
              "      <td>상암센터 정비실</td>\n",
              "      <td>일일(회원)</td>\n",
              "      <td>\\N</td>\n",
              "      <td>AGE_005</td>\n",
              "      <td>2</td>\n",
              "      <td>1.79</td>\n",
              "      <td>0.02</td>\n",
              "      <td>90.00</td>\n",
              "      <td>33</td>\n",
              "    </tr>\n",
              "    <tr>\n",
              "      <th>4</th>\n",
              "      <td>Jan-20-2020</td>\n",
              "      <td>5</td>\n",
              "      <td>상암센터 정비실</td>\n",
              "      <td>정기</td>\n",
              "      <td>F</td>\n",
              "      <td>AGE_003</td>\n",
              "      <td>1</td>\n",
              "      <td>4501.96</td>\n",
              "      <td>45.47</td>\n",
              "      <td>196010.00</td>\n",
              "      <td>64</td>\n",
              "    </tr>\n",
              "  </tbody>\n",
              "</table>\n",
              "</div>"
            ],
            "text/plain": [
              "          대여일자  대여소번호      대여소명  대여구분코드  ...      운동량    탄소량      이동거리 이용시간\n",
              "0  Jan-20-2020      3      중랑센터  일일(회원)  ...    61.82   0.52   2230.00   75\n",
              "1  Jan-20-2020      3      중랑센터  일일(회원)  ...    39.62   0.28   1220.00   15\n",
              "2  Jan-20-2020      3      중랑센터      정기  ...   430.85   4.01  17270.00   53\n",
              "3  Jan-20-2020      5  상암센터 정비실  일일(회원)  ...     1.79   0.02     90.00   33\n",
              "4  Jan-20-2020      5  상암센터 정비실      정기  ...  4501.96  45.47 196010.00   64\n",
              "\n",
              "[5 rows x 11 columns]"
            ]
          },
          "metadata": {},
          "execution_count": 121
        }
      ]
    },
    {
      "cell_type": "code",
      "metadata": {
        "id": "OeRYUpyAiIf3",
        "colab": {
          "base_uri": "https://localhost:8080/"
        },
        "outputId": "24af69a9-cbcd-4f9c-96f4-ce6d9d37271a"
      },
      "source": [
        "df2.info()"
      ],
      "execution_count": 85,
      "outputs": [
        {
          "output_type": "stream",
          "text": [
            "<class 'pandas.core.frame.DataFrame'>\n",
            "RangeIndex: 327231 entries, 0 to 327230\n",
            "Data columns (total 11 columns):\n",
            " #   Column  Non-Null Count   Dtype  \n",
            "---  ------  --------------   -----  \n",
            " 0   대여일자    327231 non-null  object \n",
            " 1   대여소번호   327231 non-null  int64  \n",
            " 2   대여소명    327231 non-null  object \n",
            " 3   대여구분코드  327231 non-null  object \n",
            " 4   성별      272841 non-null  object \n",
            " 5   연령대코드   327231 non-null  object \n",
            " 6   이용건수    327231 non-null  int64  \n",
            " 7   운동량     327231 non-null  object \n",
            " 8   탄소량     327231 non-null  object \n",
            " 9   이동거리    327231 non-null  float64\n",
            " 10  이용시간    327231 non-null  int64  \n",
            "dtypes: float64(1), int64(3), object(7)\n",
            "memory usage: 27.5+ MB\n"
          ],
          "name": "stdout"
        }
      ]
    },
    {
      "cell_type": "markdown",
      "metadata": {
        "id": "iAqqN_9MiIf3"
      },
      "source": [
        "**대여일자** 컬럼은 날짜 관련 컬럼처럼 보이나 `info()`는 object로 인식하였습니다.\n",
        "\n",
        "`datetime`타입으로 변경해야 .dt 접근자를 사용할 수 있습니다."
      ]
    },
    {
      "cell_type": "markdown",
      "metadata": {
        "id": "5fklwk9biIf4"
      },
      "source": [
        "**`pd.to_datetime()`**: datetime type으로 변환합니다."
      ]
    },
    {
      "cell_type": "code",
      "metadata": {
        "id": "ZJhYHP3siIf4",
        "colab": {
          "base_uri": "https://localhost:8080/"
        },
        "outputId": "9939d2dc-58dc-4d82-983d-10048b5a3a03"
      },
      "source": [
        "# df2의 '대여일자' 컬럼을 datetime 타입으로 변경합니다.\n",
        "#df2['대여일자'].astype('datetime64')\n",
        "pd.to_datetime(df2['대여일자'])"
      ],
      "execution_count": 87,
      "outputs": [
        {
          "output_type": "execute_result",
          "data": {
            "text/plain": [
              "0        2020-01-20\n",
              "1        2020-01-20\n",
              "2        2020-01-20\n",
              "3        2020-01-20\n",
              "4        2020-01-20\n",
              "            ...    \n",
              "327226   2020-05-20\n",
              "327227   2020-05-20\n",
              "327228   2020-05-20\n",
              "327229   2020-05-20\n",
              "327230   2020-05-20\n",
              "Name: 대여일자, Length: 327231, dtype: datetime64[ns]"
            ]
          },
          "metadata": {},
          "execution_count": 87
        }
      ]
    },
    {
      "cell_type": "markdown",
      "metadata": {
        "id": "BCW6k3s-iIf4"
      },
      "source": [
        "재대입하여 **컬럼에 적용**합니다."
      ]
    },
    {
      "cell_type": "code",
      "metadata": {
        "id": "WHDhZfijiIf5"
      },
      "source": [
        "# df2의 '대여일자' 컬럼을 datetime 타입으로 변경하여 df2의 '대여일자'로 재대입합니다.\n",
        "df2['대여일자'] = pd.to_datetime(df2['대여일자'])"
      ],
      "execution_count": 88,
      "outputs": []
    },
    {
      "cell_type": "code",
      "metadata": {
        "id": "tkybVaKZiIf5",
        "colab": {
          "base_uri": "https://localhost:8080/"
        },
        "outputId": "4ef34950-40aa-4a68-d359-1347272e3b44"
      },
      "source": [
        "df2.info()"
      ],
      "execution_count": 89,
      "outputs": [
        {
          "output_type": "stream",
          "text": [
            "<class 'pandas.core.frame.DataFrame'>\n",
            "RangeIndex: 327231 entries, 0 to 327230\n",
            "Data columns (total 11 columns):\n",
            " #   Column  Non-Null Count   Dtype         \n",
            "---  ------  --------------   -----         \n",
            " 0   대여일자    327231 non-null  datetime64[ns]\n",
            " 1   대여소번호   327231 non-null  int64         \n",
            " 2   대여소명    327231 non-null  object        \n",
            " 3   대여구분코드  327231 non-null  object        \n",
            " 4   성별      272841 non-null  object        \n",
            " 5   연령대코드   327231 non-null  object        \n",
            " 6   이용건수    327231 non-null  int64         \n",
            " 7   운동량     327231 non-null  object        \n",
            " 8   탄소량     327231 non-null  object        \n",
            " 9   이동거리    327231 non-null  float64       \n",
            " 10  이용시간    327231 non-null  int64         \n",
            "dtypes: datetime64[ns](1), float64(1), int64(3), object(6)\n",
            "memory usage: 27.5+ MB\n"
          ],
          "name": "stdout"
        }
      ]
    },
    {
      "cell_type": "markdown",
      "metadata": {
        "id": "kz_NXJpWiIf5"
      },
      "source": [
        "적용된 후 `.dt`접근자를 활용하여 datetime 속성에 접근할 수 있습니다."
      ]
    },
    {
      "cell_type": "code",
      "metadata": {
        "id": "syJcVEqkiIf5",
        "colab": {
          "base_uri": "https://localhost:8080/"
        },
        "outputId": "525bb445-cf1a-4235-9626-b7ca933e9a23"
      },
      "source": [
        "# df2의 '대여일자'에서 요일(dayofweek) 정보를 확인합니다.\n",
        "df2['대여일자'].dt.dayofweek"
      ],
      "execution_count": 90,
      "outputs": [
        {
          "output_type": "execute_result",
          "data": {
            "text/plain": [
              "0         0\n",
              "1         0\n",
              "2         0\n",
              "3         0\n",
              "4         0\n",
              "         ..\n",
              "327226    2\n",
              "327227    2\n",
              "327228    2\n",
              "327229    2\n",
              "327230    2\n",
              "Name: 대여일자, Length: 327231, dtype: int64"
            ]
          },
          "metadata": {},
          "execution_count": 90
        }
      ]
    },
    {
      "cell_type": "code",
      "metadata": {
        "id": "E5vBBDZMiIf6",
        "colab": {
          "base_uri": "https://localhost:8080/"
        },
        "outputId": "9b1d1928-60d0-4bfa-e73a-172c43b8cec0"
      },
      "source": [
        "# df2의 '대여일자'에서 요일(weekday) 정보를 확인합니다.\n",
        "df2['대여일자'].dt.weekday "
      ],
      "execution_count": 91,
      "outputs": [
        {
          "output_type": "execute_result",
          "data": {
            "text/plain": [
              "0         0\n",
              "1         0\n",
              "2         0\n",
              "3         0\n",
              "4         0\n",
              "         ..\n",
              "327226    2\n",
              "327227    2\n",
              "327228    2\n",
              "327229    2\n",
              "327230    2\n",
              "Name: 대여일자, Length: 327231, dtype: int64"
            ]
          },
          "metadata": {},
          "execution_count": 91
        }
      ]
    },
    {
      "cell_type": "markdown",
      "metadata": {
        "id": "3XOC0bbTiIf6"
      },
      "source": [
        "## pd.to_numeric() - 수치형 변환\n",
        "\n",
        "object나 numerical type이 아닌 컬럼을 **수치형(numerical) 컬럼으로 변환**할 때 사용합니다."
      ]
    },
    {
      "cell_type": "code",
      "metadata": {
        "id": "fJNo3xqniIf7",
        "colab": {
          "base_uri": "https://localhost:8080/",
          "height": 204
        },
        "outputId": "d76ed71e-0b04-491d-9650-0513e71bbd40"
      },
      "source": [
        "df2.head()"
      ],
      "execution_count": 92,
      "outputs": [
        {
          "output_type": "execute_result",
          "data": {
            "text/html": [
              "<div>\n",
              "<style scoped>\n",
              "    .dataframe tbody tr th:only-of-type {\n",
              "        vertical-align: middle;\n",
              "    }\n",
              "\n",
              "    .dataframe tbody tr th {\n",
              "        vertical-align: top;\n",
              "    }\n",
              "\n",
              "    .dataframe thead th {\n",
              "        text-align: right;\n",
              "    }\n",
              "</style>\n",
              "<table border=\"1\" class=\"dataframe\">\n",
              "  <thead>\n",
              "    <tr style=\"text-align: right;\">\n",
              "      <th></th>\n",
              "      <th>대여일자</th>\n",
              "      <th>대여소번호</th>\n",
              "      <th>대여소명</th>\n",
              "      <th>대여구분코드</th>\n",
              "      <th>성별</th>\n",
              "      <th>연령대코드</th>\n",
              "      <th>이용건수</th>\n",
              "      <th>운동량</th>\n",
              "      <th>탄소량</th>\n",
              "      <th>이동거리</th>\n",
              "      <th>이용시간</th>\n",
              "    </tr>\n",
              "  </thead>\n",
              "  <tbody>\n",
              "    <tr>\n",
              "      <th>0</th>\n",
              "      <td>2020-01-20</td>\n",
              "      <td>3</td>\n",
              "      <td>중랑센터</td>\n",
              "      <td>일일(회원)</td>\n",
              "      <td>M</td>\n",
              "      <td>AGE_003</td>\n",
              "      <td>3</td>\n",
              "      <td>61.82</td>\n",
              "      <td>0.52</td>\n",
              "      <td>2230.00</td>\n",
              "      <td>75</td>\n",
              "    </tr>\n",
              "    <tr>\n",
              "      <th>1</th>\n",
              "      <td>2020-01-20</td>\n",
              "      <td>3</td>\n",
              "      <td>중랑센터</td>\n",
              "      <td>일일(회원)</td>\n",
              "      <td>M</td>\n",
              "      <td>AGE_004</td>\n",
              "      <td>1</td>\n",
              "      <td>39.62</td>\n",
              "      <td>0.28</td>\n",
              "      <td>1220.00</td>\n",
              "      <td>15</td>\n",
              "    </tr>\n",
              "    <tr>\n",
              "      <th>2</th>\n",
              "      <td>2020-01-20</td>\n",
              "      <td>3</td>\n",
              "      <td>중랑센터</td>\n",
              "      <td>정기</td>\n",
              "      <td>M</td>\n",
              "      <td>AGE_005</td>\n",
              "      <td>3</td>\n",
              "      <td>430.85</td>\n",
              "      <td>4.01</td>\n",
              "      <td>17270.00</td>\n",
              "      <td>53</td>\n",
              "    </tr>\n",
              "    <tr>\n",
              "      <th>3</th>\n",
              "      <td>2020-01-20</td>\n",
              "      <td>5</td>\n",
              "      <td>상암센터 정비실</td>\n",
              "      <td>일일(회원)</td>\n",
              "      <td>\\N</td>\n",
              "      <td>AGE_005</td>\n",
              "      <td>2</td>\n",
              "      <td>1.79</td>\n",
              "      <td>0.02</td>\n",
              "      <td>90.00</td>\n",
              "      <td>33</td>\n",
              "    </tr>\n",
              "    <tr>\n",
              "      <th>4</th>\n",
              "      <td>2020-01-20</td>\n",
              "      <td>5</td>\n",
              "      <td>상암센터 정비실</td>\n",
              "      <td>정기</td>\n",
              "      <td>F</td>\n",
              "      <td>AGE_003</td>\n",
              "      <td>1</td>\n",
              "      <td>4501.96</td>\n",
              "      <td>45.47</td>\n",
              "      <td>196010.00</td>\n",
              "      <td>64</td>\n",
              "    </tr>\n",
              "  </tbody>\n",
              "</table>\n",
              "</div>"
            ],
            "text/plain": [
              "        대여일자  대여소번호      대여소명  대여구분코드  성별  ... 이용건수      운동량    탄소량      이동거리  이용시간\n",
              "0 2020-01-20      3      중랑센터  일일(회원)   M  ...    3    61.82   0.52   2230.00    75\n",
              "1 2020-01-20      3      중랑센터  일일(회원)   M  ...    1    39.62   0.28   1220.00    15\n",
              "2 2020-01-20      3      중랑센터      정기   M  ...    3   430.85   4.01  17270.00    53\n",
              "3 2020-01-20      5  상암센터 정비실  일일(회원)  \\N  ...    2     1.79   0.02     90.00    33\n",
              "4 2020-01-20      5  상암센터 정비실      정기   F  ...    1  4501.96  45.47 196010.00    64\n",
              "\n",
              "[5 rows x 11 columns]"
            ]
          },
          "metadata": {},
          "execution_count": 92
        }
      ]
    },
    {
      "cell_type": "code",
      "metadata": {
        "id": "ozBz4L5jiIf7",
        "colab": {
          "base_uri": "https://localhost:8080/"
        },
        "outputId": "0940d9ef-75f8-4a78-fce3-3e76bed1519a"
      },
      "source": [
        "df2.info()"
      ],
      "execution_count": 93,
      "outputs": [
        {
          "output_type": "stream",
          "text": [
            "<class 'pandas.core.frame.DataFrame'>\n",
            "RangeIndex: 327231 entries, 0 to 327230\n",
            "Data columns (total 11 columns):\n",
            " #   Column  Non-Null Count   Dtype         \n",
            "---  ------  --------------   -----         \n",
            " 0   대여일자    327231 non-null  datetime64[ns]\n",
            " 1   대여소번호   327231 non-null  int64         \n",
            " 2   대여소명    327231 non-null  object        \n",
            " 3   대여구분코드  327231 non-null  object        \n",
            " 4   성별      272841 non-null  object        \n",
            " 5   연령대코드   327231 non-null  object        \n",
            " 6   이용건수    327231 non-null  int64         \n",
            " 7   운동량     327231 non-null  object        \n",
            " 8   탄소량     327231 non-null  object        \n",
            " 9   이동거리    327231 non-null  float64       \n",
            " 10  이용시간    327231 non-null  int64         \n",
            "dtypes: datetime64[ns](1), float64(1), int64(3), object(6)\n",
            "memory usage: 27.5+ MB\n"
          ],
          "name": "stdout"
        }
      ]
    },
    {
      "cell_type": "markdown",
      "metadata": {
        "id": "2_XUPBD6iIf7"
      },
      "source": [
        "**운동량** 컬럼은 숫자형 컬럼 처럼 보이지만, **object 타입으로 지정**되어 있습니다. \n",
        "\n",
        "종종 이런 현상이 발생하는데, 이런 현상을 만들어낸 이유는 분명 존재합니다!\n",
        "\n",
        "원인 파악을 위해서 일단 `pd.to_numeric()`으로 **변환을 시도**합니다."
      ]
    },
    {
      "cell_type": "code",
      "metadata": {
        "id": "nhO6M08iiIf8",
        "colab": {
          "base_uri": "https://localhost:8080/",
          "height": 470
        },
        "outputId": "75600586-2cab-42fe-f2b5-3781d8ba1bc0"
      },
      "source": [
        "# df2의 '운동량' 컬럼을 숫자형으로 변경하여 봅니다.\n",
        "pd.to_numeric(df2['운동량'])"
      ],
      "execution_count": 94,
      "outputs": [
        {
          "output_type": "error",
          "ename": "ValueError",
          "evalue": "ignored",
          "traceback": [
            "\u001b[0;31m---------------------------------------------------------------------------\u001b[0m",
            "\u001b[0;31mValueError\u001b[0m                                Traceback (most recent call last)",
            "\u001b[0;32mpandas/_libs/lib.pyx\u001b[0m in \u001b[0;36mpandas._libs.lib.maybe_convert_numeric\u001b[0;34m()\u001b[0m\n",
            "\u001b[0;31mValueError\u001b[0m: Unable to parse string \"\\N\"",
            "\nDuring handling of the above exception, another exception occurred:\n",
            "\u001b[0;31mValueError\u001b[0m                                Traceback (most recent call last)",
            "\u001b[0;32m<ipython-input-94-1fb86e3f59d6>\u001b[0m in \u001b[0;36m<module>\u001b[0;34m()\u001b[0m\n\u001b[1;32m      1\u001b[0m \u001b[0;31m# df2의 '운동량' 컬럼을 숫자형으로 변경하여 봅니다.\u001b[0m\u001b[0;34m\u001b[0m\u001b[0;34m\u001b[0m\u001b[0;34m\u001b[0m\u001b[0m\n\u001b[0;32m----> 2\u001b[0;31m \u001b[0mpd\u001b[0m\u001b[0;34m.\u001b[0m\u001b[0mto_numeric\u001b[0m\u001b[0;34m(\u001b[0m\u001b[0mdf2\u001b[0m\u001b[0;34m[\u001b[0m\u001b[0;34m'운동량'\u001b[0m\u001b[0;34m]\u001b[0m\u001b[0;34m)\u001b[0m\u001b[0;34m\u001b[0m\u001b[0;34m\u001b[0m\u001b[0m\n\u001b[0m",
            "\u001b[0;32m/usr/local/lib/python3.7/dist-packages/pandas/core/tools/numeric.py\u001b[0m in \u001b[0;36mto_numeric\u001b[0;34m(arg, errors, downcast)\u001b[0m\n\u001b[1;32m    151\u001b[0m         \u001b[0;32mtry\u001b[0m\u001b[0;34m:\u001b[0m\u001b[0;34m\u001b[0m\u001b[0;34m\u001b[0m\u001b[0m\n\u001b[1;32m    152\u001b[0m             values = lib.maybe_convert_numeric(\n\u001b[0;32m--> 153\u001b[0;31m                 \u001b[0mvalues\u001b[0m\u001b[0;34m,\u001b[0m \u001b[0mset\u001b[0m\u001b[0;34m(\u001b[0m\u001b[0;34m)\u001b[0m\u001b[0;34m,\u001b[0m \u001b[0mcoerce_numeric\u001b[0m\u001b[0;34m=\u001b[0m\u001b[0mcoerce_numeric\u001b[0m\u001b[0;34m\u001b[0m\u001b[0;34m\u001b[0m\u001b[0m\n\u001b[0m\u001b[1;32m    154\u001b[0m             )\n\u001b[1;32m    155\u001b[0m         \u001b[0;32mexcept\u001b[0m \u001b[0;34m(\u001b[0m\u001b[0mValueError\u001b[0m\u001b[0;34m,\u001b[0m \u001b[0mTypeError\u001b[0m\u001b[0;34m)\u001b[0m\u001b[0;34m:\u001b[0m\u001b[0;34m\u001b[0m\u001b[0;34m\u001b[0m\u001b[0m\n",
            "\u001b[0;32mpandas/_libs/lib.pyx\u001b[0m in \u001b[0;36mpandas._libs.lib.maybe_convert_numeric\u001b[0;34m()\u001b[0m\n",
            "\u001b[0;31mValueError\u001b[0m: Unable to parse string \"\\N\" at position 2344"
          ]
        }
      ]
    },
    {
      "cell_type": "markdown",
      "metadata": {
        "id": "XZSBRKjliIf8"
      },
      "source": [
        "**2344 position**에 무언가 에러가 발생하였습니다."
      ]
    },
    {
      "cell_type": "code",
      "metadata": {
        "id": "aJZsUJoMiIf8",
        "colab": {
          "base_uri": "https://localhost:8080/"
        },
        "outputId": "d34af8a8-ceed-4b59-805c-b02d79f0801b"
      },
      "source": [
        "# df2의 loc을 사용해서 2344 행의 내용을 확인합니다.\n",
        "df2.iloc[2344, :]"
      ],
      "execution_count": 95,
      "outputs": [
        {
          "output_type": "execute_result",
          "data": {
            "text/plain": [
              "대여일자      2020-01-20 00:00:00\n",
              "대여소번호                     165\n",
              "대여소명              165. 중앙근린공원\n",
              "대여구분코드                 일일(회원)\n",
              "성별                         \\N\n",
              "연령대코드                 AGE_003\n",
              "이용건수                        1\n",
              "운동량                        \\N\n",
              "탄소량                        \\N\n",
              "이동거리                     0.00\n",
              "이용시간                       40\n",
              "Name: 2344, dtype: object"
            ]
          },
          "metadata": {},
          "execution_count": 95
        }
      ]
    },
    {
      "cell_type": "markdown",
      "metadata": {
        "id": "dWIfsoMRiIf8"
      },
      "source": [
        "운동량에 숫자형이 아닌 개행 (\\N)이 들어가 있기 때문에 이러한 에러가 발생하였습니다.\n",
        "\n",
        "숫자형으로 바꿀 때 **NaN값이나 숫자로 변환이 불가능한 문자열이 존재할 때 변환에 실패**하게 됩니다."
      ]
    },
    {
      "cell_type": "markdown",
      "metadata": {
        "id": "qXg7QOwxiIf9"
      },
      "source": [
        "`errors=` 옵션 값을 바꾸어 해결할 수 있습니다.\n",
        "\n",
        "errors : {'ignore', 'raise', 'coerce'}, default 'raise'\n",
        "    - If 'raise', then invalid parsing will raise an exception\n",
        "    - If 'coerce', then invalid parsing will be set as NaN\n",
        "    - If 'ignore', then invalid parsing will return the input"
      ]
    },
    {
      "cell_type": "markdown",
      "metadata": {
        "id": "-OTQIOobiIf-"
      },
      "source": [
        "`errors='coerce'`로 지정하면 잘못된 문자열은 **NaN 값으로 치환하여 변환**합니다. \n",
        "\n",
        "그리고, 결과 확인시 잘 변환이 된 것을 볼 수 있습니다."
      ]
    },
    {
      "cell_type": "code",
      "metadata": {
        "id": "wixsX62ciIf-",
        "colab": {
          "base_uri": "https://localhost:8080/"
        },
        "outputId": "b57108d0-5f90-49ba-df99-e9e5109c28ef"
      },
      "source": [
        "# df2의 '운동량' 컬럼을 숫자형으로 변경합니다. \n",
        "# 이때 변경할 수 없는 것이 존재하면 NaN 값으로 치환하여 변환합니다.\n",
        "temp = pd.to_numeric(df2['운동량'], errors='coerce')\n",
        "temp"
      ],
      "execution_count": 117,
      "outputs": [
        {
          "output_type": "execute_result",
          "data": {
            "text/plain": [
              "0          61.82\n",
              "1          39.62\n",
              "2         430.85\n",
              "3           1.79\n",
              "4        4501.96\n",
              "           ...  \n",
              "327226    689.57\n",
              "327227      0.00\n",
              "327228     19.96\n",
              "327229     43.77\n",
              "327230   4735.63\n",
              "Name: 운동량, Length: 327231, dtype: float64"
            ]
          },
          "metadata": {},
          "execution_count": 117
        }
      ]
    },
    {
      "cell_type": "code",
      "metadata": {
        "id": "Lq7ru1O5iIf_",
        "colab": {
          "base_uri": "https://localhost:8080/"
        },
        "outputId": "08605db0-3761-421b-89ed-2ac2cb723386"
      },
      "source": [
        "# temp의 2344 위치의 값이 NaN으로 잘 변환되어 있는지 확인합니다.\n",
        "temp[2344]"
      ],
      "execution_count": 97,
      "outputs": [
        {
          "output_type": "execute_result",
          "data": {
            "text/plain": [
              "nan"
            ]
          },
          "metadata": {},
          "execution_count": 97
        }
      ]
    },
    {
      "cell_type": "markdown",
      "metadata": {
        "id": "UILB8NXYiIgA"
      },
      "source": [
        "`errors='ignore'`로 지정하게 되면 잘못된 문자열이 숫자로 **변환이 안되고 무시**하기 때문에 전체 컬럼의 dtype이 **object로 그대로 남아있습니다.**"
      ]
    },
    {
      "cell_type": "code",
      "metadata": {
        "id": "4K07OXuciIgA",
        "colab": {
          "base_uri": "https://localhost:8080/"
        },
        "outputId": "be66c539-a5ed-46c7-8d42-5b0fcc429ed2"
      },
      "source": [
        "# df2의 '운동량' 컬럼을 숫자형으로 변경합니다. \n",
        "# 이때 변경할 수 없는 것이 존재하면 변환하지 않고 무시되도록 합니다.\n",
        "temp = pd.to_numeric(df2['운동량'], errors='ignore')\n",
        "temp"
      ],
      "execution_count": 98,
      "outputs": [
        {
          "output_type": "execute_result",
          "data": {
            "text/plain": [
              "0           61.82\n",
              "1           39.62\n",
              "2          430.85\n",
              "3            1.79\n",
              "4         4501.96\n",
              "           ...   \n",
              "327226     689.57\n",
              "327227          0\n",
              "327228      19.96\n",
              "327229      43.77\n",
              "327230    4735.63\n",
              "Name: 운동량, Length: 327231, dtype: object"
            ]
          },
          "metadata": {},
          "execution_count": 98
        }
      ]
    },
    {
      "cell_type": "code",
      "metadata": {
        "id": "3XHkM7baiIgB",
        "colab": {
          "base_uri": "https://localhost:8080/",
          "height": 35
        },
        "outputId": "3702901c-9c28-42bc-d660-d914b476f211"
      },
      "source": [
        "# temp의 2344 위치의 값이 그대로 유지되었는지 확인합니다.\n",
        "temp[2344]"
      ],
      "execution_count": 99,
      "outputs": [
        {
          "output_type": "execute_result",
          "data": {
            "application/vnd.google.colaboratory.intrinsic+json": {
              "type": "string"
            },
            "text/plain": [
              "'\\\\N'"
            ]
          },
          "metadata": {},
          "execution_count": 99
        }
      ]
    },
    {
      "cell_type": "markdown",
      "metadata": {
        "id": "d-XI0SiWiIgC"
      },
      "source": [
        "재대입까지 마무리 해야 DataFrame에 적용됩니다."
      ]
    },
    {
      "cell_type": "code",
      "metadata": {
        "id": "h0a6KIq9iIgC"
      },
      "source": [
        "# df2의 '운동량' 컬럼에 대해 숫자형으로 변경하여 (오류값을 NaN으로 처리) 재대입합니다.\n",
        "df2['운동량'] = pd.to_numeric(df2['운동량'], errors='coerce')"
      ],
      "execution_count": 122,
      "outputs": []
    },
    {
      "cell_type": "code",
      "metadata": {
        "id": "7fnPxvjoiIgC",
        "colab": {
          "base_uri": "https://localhost:8080/"
        },
        "outputId": "949d4e28-f522-4d59-a103-e7775d4cebee"
      },
      "source": [
        "df2.info()"
      ],
      "execution_count": 123,
      "outputs": [
        {
          "output_type": "stream",
          "text": [
            "<class 'pandas.core.frame.DataFrame'>\n",
            "RangeIndex: 327231 entries, 0 to 327230\n",
            "Data columns (total 11 columns):\n",
            " #   Column  Non-Null Count   Dtype  \n",
            "---  ------  --------------   -----  \n",
            " 0   대여일자    327231 non-null  object \n",
            " 1   대여소번호   327231 non-null  int64  \n",
            " 2   대여소명    327231 non-null  object \n",
            " 3   대여구분코드  327231 non-null  object \n",
            " 4   성별      272841 non-null  object \n",
            " 5   연령대코드   327231 non-null  object \n",
            " 6   이용건수    327231 non-null  int64  \n",
            " 7   운동량     326830 non-null  float64\n",
            " 8   탄소량     327231 non-null  object \n",
            " 9   이동거리    327231 non-null  float64\n",
            " 10  이용시간    327231 non-null  int64  \n",
            "dtypes: float64(2), int64(3), object(6)\n",
            "memory usage: 27.5+ MB\n"
          ],
          "name": "stdout"
        }
      ]
    },
    {
      "cell_type": "markdown",
      "metadata": {
        "id": "umHxuvALiIgD"
      },
      "source": [
        "## pd.cut() - 구간 나누기(binning)\n",
        "\n",
        "연속된 수치(continuous values)를 **구간으로 나누어 카테고리화** 할 때 사용합니다."
      ]
    },
    {
      "cell_type": "code",
      "metadata": {
        "id": "Nfj5YhT3KuMj"
      },
      "source": [
        "구간 - 정보를 줄임\n",
        "80 85 87 89 82 : 80점대, B\n",
        "과대적합 - 방지 \n",
        "이상치 - 구간"
      ],
      "execution_count": null,
      "outputs": []
    },
    {
      "cell_type": "code",
      "metadata": {
        "id": "B6QMM1w-iIgD",
        "colab": {
          "base_uri": "https://localhost:8080/",
          "height": 204
        },
        "outputId": "3e7e80e6-8cac-4c30-d9b7-393f6e5d4e12"
      },
      "source": [
        "df2.head()"
      ],
      "execution_count": 102,
      "outputs": [
        {
          "output_type": "execute_result",
          "data": {
            "text/html": [
              "<div>\n",
              "<style scoped>\n",
              "    .dataframe tbody tr th:only-of-type {\n",
              "        vertical-align: middle;\n",
              "    }\n",
              "\n",
              "    .dataframe tbody tr th {\n",
              "        vertical-align: top;\n",
              "    }\n",
              "\n",
              "    .dataframe thead th {\n",
              "        text-align: right;\n",
              "    }\n",
              "</style>\n",
              "<table border=\"1\" class=\"dataframe\">\n",
              "  <thead>\n",
              "    <tr style=\"text-align: right;\">\n",
              "      <th></th>\n",
              "      <th>대여일자</th>\n",
              "      <th>대여소번호</th>\n",
              "      <th>대여소명</th>\n",
              "      <th>대여구분코드</th>\n",
              "      <th>성별</th>\n",
              "      <th>연령대코드</th>\n",
              "      <th>이용건수</th>\n",
              "      <th>운동량</th>\n",
              "      <th>탄소량</th>\n",
              "      <th>이동거리</th>\n",
              "      <th>이용시간</th>\n",
              "    </tr>\n",
              "  </thead>\n",
              "  <tbody>\n",
              "    <tr>\n",
              "      <th>0</th>\n",
              "      <td>2020-01-20</td>\n",
              "      <td>3</td>\n",
              "      <td>중랑센터</td>\n",
              "      <td>일일(회원)</td>\n",
              "      <td>M</td>\n",
              "      <td>AGE_003</td>\n",
              "      <td>3</td>\n",
              "      <td>61.82</td>\n",
              "      <td>0.52</td>\n",
              "      <td>2230.00</td>\n",
              "      <td>75</td>\n",
              "    </tr>\n",
              "    <tr>\n",
              "      <th>1</th>\n",
              "      <td>2020-01-20</td>\n",
              "      <td>3</td>\n",
              "      <td>중랑센터</td>\n",
              "      <td>일일(회원)</td>\n",
              "      <td>M</td>\n",
              "      <td>AGE_004</td>\n",
              "      <td>1</td>\n",
              "      <td>39.62</td>\n",
              "      <td>0.28</td>\n",
              "      <td>1220.00</td>\n",
              "      <td>15</td>\n",
              "    </tr>\n",
              "    <tr>\n",
              "      <th>2</th>\n",
              "      <td>2020-01-20</td>\n",
              "      <td>3</td>\n",
              "      <td>중랑센터</td>\n",
              "      <td>정기</td>\n",
              "      <td>M</td>\n",
              "      <td>AGE_005</td>\n",
              "      <td>3</td>\n",
              "      <td>430.85</td>\n",
              "      <td>4.01</td>\n",
              "      <td>17270.00</td>\n",
              "      <td>53</td>\n",
              "    </tr>\n",
              "    <tr>\n",
              "      <th>3</th>\n",
              "      <td>2020-01-20</td>\n",
              "      <td>5</td>\n",
              "      <td>상암센터 정비실</td>\n",
              "      <td>일일(회원)</td>\n",
              "      <td>\\N</td>\n",
              "      <td>AGE_005</td>\n",
              "      <td>2</td>\n",
              "      <td>1.79</td>\n",
              "      <td>0.02</td>\n",
              "      <td>90.00</td>\n",
              "      <td>33</td>\n",
              "    </tr>\n",
              "    <tr>\n",
              "      <th>4</th>\n",
              "      <td>2020-01-20</td>\n",
              "      <td>5</td>\n",
              "      <td>상암센터 정비실</td>\n",
              "      <td>정기</td>\n",
              "      <td>F</td>\n",
              "      <td>AGE_003</td>\n",
              "      <td>1</td>\n",
              "      <td>4501.96</td>\n",
              "      <td>45.47</td>\n",
              "      <td>196010.00</td>\n",
              "      <td>64</td>\n",
              "    </tr>\n",
              "  </tbody>\n",
              "</table>\n",
              "</div>"
            ],
            "text/plain": [
              "        대여일자  대여소번호      대여소명  대여구분코드  성별  ... 이용건수     운동량    탄소량      이동거리  이용시간\n",
              "0 2020-01-20      3      중랑센터  일일(회원)   M  ...    3   61.82   0.52   2230.00    75\n",
              "1 2020-01-20      3      중랑센터  일일(회원)   M  ...    1   39.62   0.28   1220.00    15\n",
              "2 2020-01-20      3      중랑센터      정기   M  ...    3  430.85   4.01  17270.00    53\n",
              "3 2020-01-20      5  상암센터 정비실  일일(회원)  \\N  ...    2    1.79   0.02     90.00    33\n",
              "4 2020-01-20      5  상암센터 정비실      정기   F  ...    1 4501.96  45.47 196010.00    64\n",
              "\n",
              "[5 rows x 11 columns]"
            ]
          },
          "metadata": {},
          "execution_count": 102
        }
      ]
    },
    {
      "cell_type": "code",
      "metadata": {
        "id": "b_E-zKosiIgD",
        "colab": {
          "base_uri": "https://localhost:8080/",
          "height": 297
        },
        "outputId": "6d0ba14c-cded-43d8-fb68-813e844c5d13"
      },
      "source": [
        "df2.describe()"
      ],
      "execution_count": 103,
      "outputs": [
        {
          "output_type": "execute_result",
          "data": {
            "text/html": [
              "<div>\n",
              "<style scoped>\n",
              "    .dataframe tbody tr th:only-of-type {\n",
              "        vertical-align: middle;\n",
              "    }\n",
              "\n",
              "    .dataframe tbody tr th {\n",
              "        vertical-align: top;\n",
              "    }\n",
              "\n",
              "    .dataframe thead th {\n",
              "        text-align: right;\n",
              "    }\n",
              "</style>\n",
              "<table border=\"1\" class=\"dataframe\">\n",
              "  <thead>\n",
              "    <tr style=\"text-align: right;\">\n",
              "      <th></th>\n",
              "      <th>대여소번호</th>\n",
              "      <th>이용건수</th>\n",
              "      <th>운동량</th>\n",
              "      <th>이동거리</th>\n",
              "      <th>이용시간</th>\n",
              "    </tr>\n",
              "  </thead>\n",
              "  <tbody>\n",
              "    <tr>\n",
              "      <th>count</th>\n",
              "      <td>327231.00</td>\n",
              "      <td>327231.00</td>\n",
              "      <td>326830.00</td>\n",
              "      <td>327231.00</td>\n",
              "      <td>327231.00</td>\n",
              "    </tr>\n",
              "    <tr>\n",
              "      <th>mean</th>\n",
              "      <td>1288.41</td>\n",
              "      <td>23.62</td>\n",
              "      <td>6921.37</td>\n",
              "      <td>106881.09</td>\n",
              "      <td>752.81</td>\n",
              "    </tr>\n",
              "    <tr>\n",
              "      <th>std</th>\n",
              "      <td>1012.65</td>\n",
              "      <td>59.92</td>\n",
              "      <td>656482.34</td>\n",
              "      <td>463495.54</td>\n",
              "      <td>2647.38</td>\n",
              "    </tr>\n",
              "    <tr>\n",
              "      <th>min</th>\n",
              "      <td>3.00</td>\n",
              "      <td>1.00</td>\n",
              "      <td>0.00</td>\n",
              "      <td>0.00</td>\n",
              "      <td>0.00</td>\n",
              "    </tr>\n",
              "    <tr>\n",
              "      <th>25%</th>\n",
              "      <td>562.00</td>\n",
              "      <td>2.00</td>\n",
              "      <td>138.05</td>\n",
              "      <td>5290.00</td>\n",
              "      <td>66.00</td>\n",
              "    </tr>\n",
              "    <tr>\n",
              "      <th>50%</th>\n",
              "      <td>1204.00</td>\n",
              "      <td>6.00</td>\n",
              "      <td>601.71</td>\n",
              "      <td>22900.00</td>\n",
              "      <td>207.00</td>\n",
              "    </tr>\n",
              "    <tr>\n",
              "      <th>75%</th>\n",
              "      <td>1933.00</td>\n",
              "      <td>22.00</td>\n",
              "      <td>2481.17</td>\n",
              "      <td>93460.00</td>\n",
              "      <td>670.00</td>\n",
              "    </tr>\n",
              "    <tr>\n",
              "      <th>max</th>\n",
              "      <td>99999.00</td>\n",
              "      <td>7451.00</td>\n",
              "      <td>163936052.30</td>\n",
              "      <td>56709052.94</td>\n",
              "      <td>458960.00</td>\n",
              "    </tr>\n",
              "  </tbody>\n",
              "</table>\n",
              "</div>"
            ],
            "text/plain": [
              "          대여소번호      이용건수          운동량        이동거리      이용시간\n",
              "count 327231.00 327231.00    326830.00   327231.00 327231.00\n",
              "mean    1288.41     23.62      6921.37   106881.09    752.81\n",
              "std     1012.65     59.92    656482.34   463495.54   2647.38\n",
              "min        3.00      1.00         0.00        0.00      0.00\n",
              "25%      562.00      2.00       138.05     5290.00     66.00\n",
              "50%     1204.00      6.00       601.71    22900.00    207.00\n",
              "75%     1933.00     22.00      2481.17    93460.00    670.00\n",
              "max    99999.00   7451.00 163936052.30 56709052.94 458960.00"
            ]
          },
          "metadata": {},
          "execution_count": 103
        }
      ]
    },
    {
      "cell_type": "markdown",
      "metadata": {
        "id": "ZYR3JHQ6iIgE"
      },
      "source": [
        "운동량은 범위가 굉장히 넓습니다. **최소값은 0인데, 최대값은 엄청 큰 값**이 존재합니다."
      ]
    },
    {
      "cell_type": "markdown",
      "metadata": {
        "id": "V5iKWXk_iIgE"
      },
      "source": [
        "어쨌든, 운동량을 기준으로 데이터를 10개 그룹으로 분류하고 싶습니다.\n",
        "\n",
        "`pd.cut()`을 활용하여 쉽게 그룹을 나눌 수 있습니다."
      ]
    },
    {
      "cell_type": "code",
      "metadata": {
        "id": "ksjOCIkqiIgE",
        "colab": {
          "base_uri": "https://localhost:8080/",
          "height": 204
        },
        "outputId": "a5513de2-3859-4e17-c17c-d49ea7a6b35a"
      },
      "source": [
        "df2.head()"
      ],
      "execution_count": 104,
      "outputs": [
        {
          "output_type": "execute_result",
          "data": {
            "text/html": [
              "<div>\n",
              "<style scoped>\n",
              "    .dataframe tbody tr th:only-of-type {\n",
              "        vertical-align: middle;\n",
              "    }\n",
              "\n",
              "    .dataframe tbody tr th {\n",
              "        vertical-align: top;\n",
              "    }\n",
              "\n",
              "    .dataframe thead th {\n",
              "        text-align: right;\n",
              "    }\n",
              "</style>\n",
              "<table border=\"1\" class=\"dataframe\">\n",
              "  <thead>\n",
              "    <tr style=\"text-align: right;\">\n",
              "      <th></th>\n",
              "      <th>대여일자</th>\n",
              "      <th>대여소번호</th>\n",
              "      <th>대여소명</th>\n",
              "      <th>대여구분코드</th>\n",
              "      <th>성별</th>\n",
              "      <th>연령대코드</th>\n",
              "      <th>이용건수</th>\n",
              "      <th>운동량</th>\n",
              "      <th>탄소량</th>\n",
              "      <th>이동거리</th>\n",
              "      <th>이용시간</th>\n",
              "    </tr>\n",
              "  </thead>\n",
              "  <tbody>\n",
              "    <tr>\n",
              "      <th>0</th>\n",
              "      <td>2020-01-20</td>\n",
              "      <td>3</td>\n",
              "      <td>중랑센터</td>\n",
              "      <td>일일(회원)</td>\n",
              "      <td>M</td>\n",
              "      <td>AGE_003</td>\n",
              "      <td>3</td>\n",
              "      <td>61.82</td>\n",
              "      <td>0.52</td>\n",
              "      <td>2230.00</td>\n",
              "      <td>75</td>\n",
              "    </tr>\n",
              "    <tr>\n",
              "      <th>1</th>\n",
              "      <td>2020-01-20</td>\n",
              "      <td>3</td>\n",
              "      <td>중랑센터</td>\n",
              "      <td>일일(회원)</td>\n",
              "      <td>M</td>\n",
              "      <td>AGE_004</td>\n",
              "      <td>1</td>\n",
              "      <td>39.62</td>\n",
              "      <td>0.28</td>\n",
              "      <td>1220.00</td>\n",
              "      <td>15</td>\n",
              "    </tr>\n",
              "    <tr>\n",
              "      <th>2</th>\n",
              "      <td>2020-01-20</td>\n",
              "      <td>3</td>\n",
              "      <td>중랑센터</td>\n",
              "      <td>정기</td>\n",
              "      <td>M</td>\n",
              "      <td>AGE_005</td>\n",
              "      <td>3</td>\n",
              "      <td>430.85</td>\n",
              "      <td>4.01</td>\n",
              "      <td>17270.00</td>\n",
              "      <td>53</td>\n",
              "    </tr>\n",
              "    <tr>\n",
              "      <th>3</th>\n",
              "      <td>2020-01-20</td>\n",
              "      <td>5</td>\n",
              "      <td>상암센터 정비실</td>\n",
              "      <td>일일(회원)</td>\n",
              "      <td>\\N</td>\n",
              "      <td>AGE_005</td>\n",
              "      <td>2</td>\n",
              "      <td>1.79</td>\n",
              "      <td>0.02</td>\n",
              "      <td>90.00</td>\n",
              "      <td>33</td>\n",
              "    </tr>\n",
              "    <tr>\n",
              "      <th>4</th>\n",
              "      <td>2020-01-20</td>\n",
              "      <td>5</td>\n",
              "      <td>상암센터 정비실</td>\n",
              "      <td>정기</td>\n",
              "      <td>F</td>\n",
              "      <td>AGE_003</td>\n",
              "      <td>1</td>\n",
              "      <td>4501.96</td>\n",
              "      <td>45.47</td>\n",
              "      <td>196010.00</td>\n",
              "      <td>64</td>\n",
              "    </tr>\n",
              "  </tbody>\n",
              "</table>\n",
              "</div>"
            ],
            "text/plain": [
              "        대여일자  대여소번호      대여소명  대여구분코드  성별  ... 이용건수     운동량    탄소량      이동거리  이용시간\n",
              "0 2020-01-20      3      중랑센터  일일(회원)   M  ...    3   61.82   0.52   2230.00    75\n",
              "1 2020-01-20      3      중랑센터  일일(회원)   M  ...    1   39.62   0.28   1220.00    15\n",
              "2 2020-01-20      3      중랑센터      정기   M  ...    3  430.85   4.01  17270.00    53\n",
              "3 2020-01-20      5  상암센터 정비실  일일(회원)  \\N  ...    2    1.79   0.02     90.00    33\n",
              "4 2020-01-20      5  상암센터 정비실      정기   F  ...    1 4501.96  45.47 196010.00    64\n",
              "\n",
              "[5 rows x 11 columns]"
            ]
          },
          "metadata": {},
          "execution_count": 104
        }
      ]
    },
    {
      "cell_type": "markdown",
      "metadata": {
        "id": "vl1NejUCiIgE"
      },
      "source": [
        "`bins` 옵션에 나누고자 하는 **구간의 개수**를 설정합니다."
      ]
    },
    {
      "cell_type": "code",
      "metadata": {
        "id": "HFTzu_ERfEC6"
      },
      "source": [
        "#[0, 100, 200, 300, 500], ['A', 'B', 'C', 'D']  : bins의 개수가 labels의 개수보다 1개 더 많음"
      ],
      "execution_count": null,
      "outputs": []
    },
    {
      "cell_type": "code",
      "metadata": {
        "id": "K2qKi11iiIgF"
      },
      "source": [
        "# df2의 '운동량' 컬럼에 대해서 10개 구간으로 분할하여\n",
        "# '운동량_cut' 이라는 컬럼을 추가합니다.\n",
        "df2['운동량_cut'] = pd.cut(df2['운동량'],10)"
      ],
      "execution_count": 105,
      "outputs": []
    },
    {
      "cell_type": "code",
      "metadata": {
        "colab": {
          "base_uri": "https://localhost:8080/"
        },
        "id": "2R5qejBAMPOw",
        "outputId": "6bf54937-9609-41db-98eb-dd84816f6a0c"
      },
      "source": [
        "df2['운동량_cut'].head()"
      ],
      "execution_count": 106,
      "outputs": [
        {
          "output_type": "execute_result",
          "data": {
            "text/plain": [
              "0    (-163936.052, 16393605.23]\n",
              "1    (-163936.052, 16393605.23]\n",
              "2    (-163936.052, 16393605.23]\n",
              "3    (-163936.052, 16393605.23]\n",
              "4    (-163936.052, 16393605.23]\n",
              "Name: 운동량_cut, dtype: category\n",
              "Categories (10, interval[float64]): [(-163936.052, 16393605.23] < (16393605.23, 32787210.46] <\n",
              "                                     (32787210.46, 49180815.69] < (49180815.69, 65574420.92] < ... <\n",
              "                                     (98361631.38, 114755236.61] < (114755236.61, 131148841.84] <\n",
              "                                     (131148841.84, 147542447.07] < (147542447.07, 163936052.3]]"
            ]
          },
          "metadata": {},
          "execution_count": 106
        }
      ]
    },
    {
      "cell_type": "code",
      "metadata": {
        "id": "sQW3wCScNxKj"
      },
      "source": [
        "[0.0, 16393605.23)\n",
        "=> 0.0 포함, 16393605.23 포함하지 않는 범위"
      ],
      "execution_count": null,
      "outputs": []
    },
    {
      "cell_type": "code",
      "metadata": {
        "id": "EUyReyNINxSF"
      },
      "source": [
        "(-163936.052, 16393605.23]    \n",
        "=> -163936.052 포함하지 않음, 16393605.23 포함 하는 범위"
      ],
      "execution_count": null,
      "outputs": []
    },
    {
      "cell_type": "code",
      "metadata": {
        "id": "UwXG0ZrciIgF",
        "colab": {
          "base_uri": "https://localhost:8080/"
        },
        "outputId": "8fa3579f-4a33-4c6e-f561-e0bea8cb3a9c"
      },
      "source": [
        "# df2의 '운동량_cut' 컬럼의 분포를 확인합니다 (구간별 돗수확인)\n",
        "df2['운동량_cut'].value_counts().sort_index()"
      ],
      "execution_count": 107,
      "outputs": [
        {
          "output_type": "execute_result",
          "data": {
            "text/plain": [
              "(-163936.052, 16393605.23]      326816\n",
              "(16393605.23, 32787210.46]           1\n",
              "(32787210.46, 49180815.69]           2\n",
              "(49180815.69, 65574420.92]           0\n",
              "(65574420.92, 81968026.15]           0\n",
              "(81968026.15, 98361631.38]           0\n",
              "(98361631.38, 114755236.61]          9\n",
              "(114755236.61, 131148841.84]         1\n",
              "(131148841.84, 147542447.07]         0\n",
              "(147542447.07, 163936052.3]          1\n",
              "Name: 운동량_cut, dtype: int64"
            ]
          },
          "metadata": {},
          "execution_count": 107
        }
      ]
    },
    {
      "cell_type": "markdown",
      "metadata": {
        "id": "jqVQesBJiIgF"
      },
      "source": [
        "분포를 보니 첫 구간에 대부분의 데이터가 쏠려 있습니다. 딱봐도 올바르지 않은 방법 같아 보입니다.\n",
        "\n",
        "`pd.cut()`은 **최소에서 최대 구간을 지정한 bin만큼 동일하게 분할** 하기 때문에 이런 현상이 발생할 수 있습니다.\n",
        "\n",
        "고르게 분포한 데이터라면 괜찮지만, 튀는 **이상치(outlier)가 있는 경우에는 안 좋은 결과**를 초래 합니다."
      ]
    },
    {
      "cell_type": "markdown",
      "metadata": {
        "id": "AsJKSIqqiIgF"
      },
      "source": [
        "## pd.qcut() - 동일한 갯수를 갖도록 구간 분할\n",
        "\n",
        "`pd.cut()`과 유사하지만, **quantity 즉 데이터의 분포를 최대한 비슷하게 유지**하는 구간을 분할 합니다."
      ]
    },
    {
      "cell_type": "code",
      "metadata": {
        "id": "4QCHAgAXiIgG"
      },
      "source": [
        "# df2의 '운동량' 컬럼에 대해서 데이터의 분포를 최대한 비슷하기 유지하며 10개 구간으로 분할하여\n",
        "# '운동량_qcut' 이라는 컬럼을 추가합니다.\n",
        "df2['운동량_qcut'] = pd.qcut(df2['운동량'], 10)"
      ],
      "execution_count": 126,
      "outputs": []
    },
    {
      "cell_type": "code",
      "metadata": {
        "id": "50f6IwD6iIgG",
        "colab": {
          "base_uri": "https://localhost:8080/"
        },
        "outputId": "6e1719a5-ff01-4cf1-9aa6-1251bc845b21"
      },
      "source": [
        "# df2의 '운동량_qcut' 컬럼의 분포를 확인합니다 (구간별 돗수확인)\n",
        "df2['운동량_qcut'].value_counts().sort_index()"
      ],
      "execution_count": 127,
      "outputs": [
        {
          "output_type": "execute_result",
          "data": {
            "text/plain": [
              "(-0.001, 24.737]           32683\n",
              "(24.737, 93.414]           32683\n",
              "(93.414, 192.02]           32690\n",
              "(192.02, 344.45]           32679\n",
              "(344.45, 601.705]          32680\n",
              "(601.705, 1079.744]        32683\n",
              "(1079.744, 1889.606]       32683\n",
              "(1889.606, 3328.186]       32683\n",
              "(3328.186, 6805.188]       32683\n",
              "(6805.188, 163936052.3]    32683\n",
              "Name: 운동량_qcut, dtype: int64"
            ]
          },
          "metadata": {},
          "execution_count": 127
        }
      ]
    },
    {
      "cell_type": "markdown",
      "metadata": {
        "id": "ZgIcYIisiIgG"
      },
      "source": [
        "구간도 예쁘게 분할(**균등하게 분할**)이 된 것 처럼 보입니다. 하지만, **간격은 일정하지 않습니다.**"
      ]
    },
    {
      "cell_type": "code",
      "metadata": {
        "id": "JDsEEiDagyB4"
      },
      "source": [
        "ML\n",
        "신입사원 - 서류심사 - 재직자(남 - 95%  여 - 5%) \n",
        "수치 - 정규분포 (왜도가 심한 경우 - log1p, sqrt, x**2 .... ) X, Y\n",
        "범주형 - 균등분포 "
      ],
      "execution_count": null,
      "outputs": []
    }
  ]
}