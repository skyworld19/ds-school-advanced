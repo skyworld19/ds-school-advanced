{
  "nbformat": 4,
  "nbformat_minor": 5,
  "metadata": {
    "kernelspec": {
      "display_name": "Python 3",
      "language": "python",
      "name": "python3"
    },
    "language_info": {
      "codemirror_mode": {
        "name": "ipython",
        "version": 3
      },
      "file_extension": ".py",
      "mimetype": "text/x-python",
      "name": "python",
      "nbconvert_exporter": "python",
      "pygments_lexer": "ipython3",
      "version": "3.8.3"
    },
    "colab": {
      "name": "ML_03_LinearRegression_2_보스턴주택가격예측_LAB.ipynb",
      "provenance": [],
      "collapsed_sections": [],
      "include_colab_link": true
    }
  },
  "cells": [
    {
      "cell_type": "markdown",
      "metadata": {
        "id": "view-in-github",
        "colab_type": "text"
      },
      "source": [
        "<a href=\"https://colab.research.google.com/github/skyworld19/ds-school-advanced/blob/master/ML_03_LinearRegression_2_%EB%B3%B4%EC%8A%A4%ED%84%B4%EC%A3%BC%ED%83%9D%EA%B0%80%EA%B2%A9%EC%98%88%EC%B8%A1_LAB.ipynb\" target=\"_parent\"><img src=\"https://colab.research.google.com/assets/colab-badge.svg\" alt=\"Open In Colab\"/></a>"
      ]
    },
    {
      "cell_type": "markdown",
      "metadata": {
        "id": "IbqT7fg6309K"
      },
      "source": [
        "### Linear Regression 2. 보스턴 주택가격 예측"
      ],
      "id": "IbqT7fg6309K"
    },
    {
      "cell_type": "markdown",
      "metadata": {
        "id": "pRUkMLnP309M"
      },
      "source": [
        "### A. 다중 회귀 (Feature가 여러 개)"
      ],
      "id": "pRUkMLnP309M"
    },
    {
      "cell_type": "markdown",
      "metadata": {
        "id": "NTOeWYqY309M"
      },
      "source": [
        "#### 1. 데이터 가져오기"
      ],
      "id": "NTOeWYqY309M"
    },
    {
      "cell_type": "code",
      "metadata": {
        "id": "N2eMtssi309N"
      },
      "source": [
        "from sklearn.datasets import load_boston\n",
        "# 1. 보스턴 데이터를 가져와 boston 이름으로 저장\n",
        "boston = load_boston()"
      ],
      "id": "N2eMtssi309N",
      "execution_count": 2,
      "outputs": []
    },
    {
      "cell_type": "code",
      "metadata": {
        "id": "sKu5nzih309O",
        "colab": {
          "base_uri": "https://localhost:8080/"
        },
        "outputId": "a8f9c13a-492b-4e74-aa82-1f6ddcdfd586"
      },
      "source": [
        "# boston 데이터의 key 목록 확인  (target_names가 없음 - 범주형이 아니기 때문)\n",
        "boston.keys()"
      ],
      "id": "sKu5nzih309O",
      "execution_count": 3,
      "outputs": [
        {
          "output_type": "execute_result",
          "data": {
            "text/plain": [
              "dict_keys(['data', 'target', 'feature_names', 'DESCR', 'filename'])"
            ]
          },
          "metadata": {},
          "execution_count": 3
        }
      ]
    },
    {
      "cell_type": "code",
      "metadata": {
        "id": "ySogblqj309O",
        "colab": {
          "base_uri": "https://localhost:8080/"
        },
        "outputId": "96c00fe0-9e3a-4f04-e06a-3254e7f13261"
      },
      "source": [
        "# boston 데이터셋의 data에 대한 shape 확인\n",
        "boston.data.shape"
      ],
      "id": "ySogblqj309O",
      "execution_count": 6,
      "outputs": [
        {
          "output_type": "execute_result",
          "data": {
            "text/plain": [
              "(506, 13)"
            ]
          },
          "metadata": {},
          "execution_count": 6
        }
      ]
    },
    {
      "cell_type": "code",
      "metadata": {
        "collapsed": true,
        "id": "ZSBqjC6-309P",
        "colab": {
          "base_uri": "https://localhost:8080/"
        },
        "outputId": "a70f3ea7-6380-478c-8134-3933da36c3d8"
      },
      "source": [
        "# boston 데이터셋의 target에 대한 값 확인\n",
        "boston.target"
      ],
      "id": "ZSBqjC6-309P",
      "execution_count": 7,
      "outputs": [
        {
          "output_type": "execute_result",
          "data": {
            "text/plain": [
              "array([24. , 21.6, 34.7, 33.4, 36.2, 28.7, 22.9, 27.1, 16.5, 18.9, 15. ,\n",
              "       18.9, 21.7, 20.4, 18.2, 19.9, 23.1, 17.5, 20.2, 18.2, 13.6, 19.6,\n",
              "       15.2, 14.5, 15.6, 13.9, 16.6, 14.8, 18.4, 21. , 12.7, 14.5, 13.2,\n",
              "       13.1, 13.5, 18.9, 20. , 21. , 24.7, 30.8, 34.9, 26.6, 25.3, 24.7,\n",
              "       21.2, 19.3, 20. , 16.6, 14.4, 19.4, 19.7, 20.5, 25. , 23.4, 18.9,\n",
              "       35.4, 24.7, 31.6, 23.3, 19.6, 18.7, 16. , 22.2, 25. , 33. , 23.5,\n",
              "       19.4, 22. , 17.4, 20.9, 24.2, 21.7, 22.8, 23.4, 24.1, 21.4, 20. ,\n",
              "       20.8, 21.2, 20.3, 28. , 23.9, 24.8, 22.9, 23.9, 26.6, 22.5, 22.2,\n",
              "       23.6, 28.7, 22.6, 22. , 22.9, 25. , 20.6, 28.4, 21.4, 38.7, 43.8,\n",
              "       33.2, 27.5, 26.5, 18.6, 19.3, 20.1, 19.5, 19.5, 20.4, 19.8, 19.4,\n",
              "       21.7, 22.8, 18.8, 18.7, 18.5, 18.3, 21.2, 19.2, 20.4, 19.3, 22. ,\n",
              "       20.3, 20.5, 17.3, 18.8, 21.4, 15.7, 16.2, 18. , 14.3, 19.2, 19.6,\n",
              "       23. , 18.4, 15.6, 18.1, 17.4, 17.1, 13.3, 17.8, 14. , 14.4, 13.4,\n",
              "       15.6, 11.8, 13.8, 15.6, 14.6, 17.8, 15.4, 21.5, 19.6, 15.3, 19.4,\n",
              "       17. , 15.6, 13.1, 41.3, 24.3, 23.3, 27. , 50. , 50. , 50. , 22.7,\n",
              "       25. , 50. , 23.8, 23.8, 22.3, 17.4, 19.1, 23.1, 23.6, 22.6, 29.4,\n",
              "       23.2, 24.6, 29.9, 37.2, 39.8, 36.2, 37.9, 32.5, 26.4, 29.6, 50. ,\n",
              "       32. , 29.8, 34.9, 37. , 30.5, 36.4, 31.1, 29.1, 50. , 33.3, 30.3,\n",
              "       34.6, 34.9, 32.9, 24.1, 42.3, 48.5, 50. , 22.6, 24.4, 22.5, 24.4,\n",
              "       20. , 21.7, 19.3, 22.4, 28.1, 23.7, 25. , 23.3, 28.7, 21.5, 23. ,\n",
              "       26.7, 21.7, 27.5, 30.1, 44.8, 50. , 37.6, 31.6, 46.7, 31.5, 24.3,\n",
              "       31.7, 41.7, 48.3, 29. , 24. , 25.1, 31.5, 23.7, 23.3, 22. , 20.1,\n",
              "       22.2, 23.7, 17.6, 18.5, 24.3, 20.5, 24.5, 26.2, 24.4, 24.8, 29.6,\n",
              "       42.8, 21.9, 20.9, 44. , 50. , 36. , 30.1, 33.8, 43.1, 48.8, 31. ,\n",
              "       36.5, 22.8, 30.7, 50. , 43.5, 20.7, 21.1, 25.2, 24.4, 35.2, 32.4,\n",
              "       32. , 33.2, 33.1, 29.1, 35.1, 45.4, 35.4, 46. , 50. , 32.2, 22. ,\n",
              "       20.1, 23.2, 22.3, 24.8, 28.5, 37.3, 27.9, 23.9, 21.7, 28.6, 27.1,\n",
              "       20.3, 22.5, 29. , 24.8, 22. , 26.4, 33.1, 36.1, 28.4, 33.4, 28.2,\n",
              "       22.8, 20.3, 16.1, 22.1, 19.4, 21.6, 23.8, 16.2, 17.8, 19.8, 23.1,\n",
              "       21. , 23.8, 23.1, 20.4, 18.5, 25. , 24.6, 23. , 22.2, 19.3, 22.6,\n",
              "       19.8, 17.1, 19.4, 22.2, 20.7, 21.1, 19.5, 18.5, 20.6, 19. , 18.7,\n",
              "       32.7, 16.5, 23.9, 31.2, 17.5, 17.2, 23.1, 24.5, 26.6, 22.9, 24.1,\n",
              "       18.6, 30.1, 18.2, 20.6, 17.8, 21.7, 22.7, 22.6, 25. , 19.9, 20.8,\n",
              "       16.8, 21.9, 27.5, 21.9, 23.1, 50. , 50. , 50. , 50. , 50. , 13.8,\n",
              "       13.8, 15. , 13.9, 13.3, 13.1, 10.2, 10.4, 10.9, 11.3, 12.3,  8.8,\n",
              "        7.2, 10.5,  7.4, 10.2, 11.5, 15.1, 23.2,  9.7, 13.8, 12.7, 13.1,\n",
              "       12.5,  8.5,  5. ,  6.3,  5.6,  7.2, 12.1,  8.3,  8.5,  5. , 11.9,\n",
              "       27.9, 17.2, 27.5, 15. , 17.2, 17.9, 16.3,  7. ,  7.2,  7.5, 10.4,\n",
              "        8.8,  8.4, 16.7, 14.2, 20.8, 13.4, 11.7,  8.3, 10.2, 10.9, 11. ,\n",
              "        9.5, 14.5, 14.1, 16.1, 14.3, 11.7, 13.4,  9.6,  8.7,  8.4, 12.8,\n",
              "       10.5, 17.1, 18.4, 15.4, 10.8, 11.8, 14.9, 12.6, 14.1, 13. , 13.4,\n",
              "       15.2, 16.1, 17.8, 14.9, 14.1, 12.7, 13.5, 14.9, 20. , 16.4, 17.7,\n",
              "       19.5, 20.2, 21.4, 19.9, 19. , 19.1, 19.1, 20.1, 19.9, 19.6, 23.2,\n",
              "       29.8, 13.8, 13.3, 16.7, 12. , 14.6, 21.4, 23. , 23.7, 25. , 21.8,\n",
              "       20.6, 21.2, 19.1, 20.6, 15.2,  7. ,  8.1, 13.6, 20.1, 21.8, 24.5,\n",
              "       23.1, 19.7, 18.3, 21.2, 17.5, 16.8, 22.4, 20.6, 23.9, 22. , 11.9])"
            ]
          },
          "metadata": {},
          "execution_count": 7
        }
      ]
    },
    {
      "cell_type": "code",
      "metadata": {
        "id": "OWb6m87f309Q",
        "colab": {
          "base_uri": "https://localhost:8080/"
        },
        "outputId": "0f7345cb-a636-4d62-fdfb-fbe128b3b4ac"
      },
      "source": [
        "# boston 데이터셋의 feature_names 확인\n",
        "boston.feature_names"
      ],
      "id": "OWb6m87f309Q",
      "execution_count": 8,
      "outputs": [
        {
          "output_type": "execute_result",
          "data": {
            "text/plain": [
              "array(['CRIM', 'ZN', 'INDUS', 'CHAS', 'NOX', 'RM', 'AGE', 'DIS', 'RAD',\n",
              "       'TAX', 'PTRATIO', 'B', 'LSTAT'], dtype='<U7')"
            ]
          },
          "metadata": {},
          "execution_count": 8
        }
      ]
    },
    {
      "cell_type": "code",
      "metadata": {
        "collapsed": true,
        "id": "37peWTzD309Q",
        "colab": {
          "base_uri": "https://localhost:8080/"
        },
        "outputId": "e955b188-64fe-4bfa-ec5d-70cf534fe410"
      },
      "source": [
        "# boston 데이터셋의 설명 확인 (교재 66)\n",
        "print(boston.DESCR)"
      ],
      "id": "37peWTzD309Q",
      "execution_count": 9,
      "outputs": [
        {
          "output_type": "stream",
          "text": [
            ".. _boston_dataset:\n",
            "\n",
            "Boston house prices dataset\n",
            "---------------------------\n",
            "\n",
            "**Data Set Characteristics:**  \n",
            "\n",
            "    :Number of Instances: 506 \n",
            "\n",
            "    :Number of Attributes: 13 numeric/categorical predictive. Median Value (attribute 14) is usually the target.\n",
            "\n",
            "    :Attribute Information (in order):\n",
            "        - CRIM     per capita crime rate by town\n",
            "        - ZN       proportion of residential land zoned for lots over 25,000 sq.ft.\n",
            "        - INDUS    proportion of non-retail business acres per town\n",
            "        - CHAS     Charles River dummy variable (= 1 if tract bounds river; 0 otherwise)\n",
            "        - NOX      nitric oxides concentration (parts per 10 million)\n",
            "        - RM       average number of rooms per dwelling\n",
            "        - AGE      proportion of owner-occupied units built prior to 1940\n",
            "        - DIS      weighted distances to five Boston employment centres\n",
            "        - RAD      index of accessibility to radial highways\n",
            "        - TAX      full-value property-tax rate per $10,000\n",
            "        - PTRATIO  pupil-teacher ratio by town\n",
            "        - B        1000(Bk - 0.63)^2 where Bk is the proportion of blacks by town\n",
            "        - LSTAT    % lower status of the population\n",
            "        - MEDV     Median value of owner-occupied homes in $1000's\n",
            "\n",
            "    :Missing Attribute Values: None\n",
            "\n",
            "    :Creator: Harrison, D. and Rubinfeld, D.L.\n",
            "\n",
            "This is a copy of UCI ML housing dataset.\n",
            "https://archive.ics.uci.edu/ml/machine-learning-databases/housing/\n",
            "\n",
            "\n",
            "This dataset was taken from the StatLib library which is maintained at Carnegie Mellon University.\n",
            "\n",
            "The Boston house-price data of Harrison, D. and Rubinfeld, D.L. 'Hedonic\n",
            "prices and the demand for clean air', J. Environ. Economics & Management,\n",
            "vol.5, 81-102, 1978.   Used in Belsley, Kuh & Welsch, 'Regression diagnostics\n",
            "...', Wiley, 1980.   N.B. Various transformations are used in the table on\n",
            "pages 244-261 of the latter.\n",
            "\n",
            "The Boston house-price data has been used in many machine learning papers that address regression\n",
            "problems.   \n",
            "     \n",
            ".. topic:: References\n",
            "\n",
            "   - Belsley, Kuh & Welsch, 'Regression diagnostics: Identifying Influential Data and Sources of Collinearity', Wiley, 1980. 244-261.\n",
            "   - Quinlan,R. (1993). Combining Instance-Based and Model-Based Learning. In Proceedings on the Tenth International Conference of Machine Learning, 236-243, University of Massachusetts, Amherst. Morgan Kaufmann.\n",
            "\n"
          ],
          "name": "stdout"
        }
      ]
    },
    {
      "cell_type": "code",
      "metadata": {
        "id": "AggXUmG_309R",
        "colab": {
          "base_uri": "https://localhost:8080/",
          "height": 204
        },
        "outputId": "c041b3db-4550-4ae1-e3c0-df89bf461ed6"
      },
      "source": [
        "# 보스턴 데이터 가져와서 DataFrame 만들기\n",
        "\n",
        "import pandas as pd\n",
        "# 1. 보스턴 데이터의 data(독립변수, X, feature)를 사용하여 DataFrame 생성,\n",
        "#   이때 columns를 보스턴 데이터의 feature_names로 지정한다.\n",
        "# 2. 보스턴 데이터의 target을 DataFrame에 새로운 열 'PRICE'로 추가한다\n",
        "df = pd.DataFrame(boston.data, columns=boston.feature_names)\n",
        "df['PRICE'] = boston.target\n",
        "# DataFrame의 첫 5개 행을 출력해 본다\n",
        "df.head()"
      ],
      "id": "AggXUmG_309R",
      "execution_count": 10,
      "outputs": [
        {
          "output_type": "execute_result",
          "data": {
            "text/html": [
              "<div>\n",
              "<style scoped>\n",
              "    .dataframe tbody tr th:only-of-type {\n",
              "        vertical-align: middle;\n",
              "    }\n",
              "\n",
              "    .dataframe tbody tr th {\n",
              "        vertical-align: top;\n",
              "    }\n",
              "\n",
              "    .dataframe thead th {\n",
              "        text-align: right;\n",
              "    }\n",
              "</style>\n",
              "<table border=\"1\" class=\"dataframe\">\n",
              "  <thead>\n",
              "    <tr style=\"text-align: right;\">\n",
              "      <th></th>\n",
              "      <th>CRIM</th>\n",
              "      <th>ZN</th>\n",
              "      <th>INDUS</th>\n",
              "      <th>CHAS</th>\n",
              "      <th>NOX</th>\n",
              "      <th>RM</th>\n",
              "      <th>AGE</th>\n",
              "      <th>DIS</th>\n",
              "      <th>RAD</th>\n",
              "      <th>TAX</th>\n",
              "      <th>PTRATIO</th>\n",
              "      <th>B</th>\n",
              "      <th>LSTAT</th>\n",
              "      <th>PRICE</th>\n",
              "    </tr>\n",
              "  </thead>\n",
              "  <tbody>\n",
              "    <tr>\n",
              "      <th>0</th>\n",
              "      <td>0.00632</td>\n",
              "      <td>18.0</td>\n",
              "      <td>2.31</td>\n",
              "      <td>0.0</td>\n",
              "      <td>0.538</td>\n",
              "      <td>6.575</td>\n",
              "      <td>65.2</td>\n",
              "      <td>4.0900</td>\n",
              "      <td>1.0</td>\n",
              "      <td>296.0</td>\n",
              "      <td>15.3</td>\n",
              "      <td>396.90</td>\n",
              "      <td>4.98</td>\n",
              "      <td>24.0</td>\n",
              "    </tr>\n",
              "    <tr>\n",
              "      <th>1</th>\n",
              "      <td>0.02731</td>\n",
              "      <td>0.0</td>\n",
              "      <td>7.07</td>\n",
              "      <td>0.0</td>\n",
              "      <td>0.469</td>\n",
              "      <td>6.421</td>\n",
              "      <td>78.9</td>\n",
              "      <td>4.9671</td>\n",
              "      <td>2.0</td>\n",
              "      <td>242.0</td>\n",
              "      <td>17.8</td>\n",
              "      <td>396.90</td>\n",
              "      <td>9.14</td>\n",
              "      <td>21.6</td>\n",
              "    </tr>\n",
              "    <tr>\n",
              "      <th>2</th>\n",
              "      <td>0.02729</td>\n",
              "      <td>0.0</td>\n",
              "      <td>7.07</td>\n",
              "      <td>0.0</td>\n",
              "      <td>0.469</td>\n",
              "      <td>7.185</td>\n",
              "      <td>61.1</td>\n",
              "      <td>4.9671</td>\n",
              "      <td>2.0</td>\n",
              "      <td>242.0</td>\n",
              "      <td>17.8</td>\n",
              "      <td>392.83</td>\n",
              "      <td>4.03</td>\n",
              "      <td>34.7</td>\n",
              "    </tr>\n",
              "    <tr>\n",
              "      <th>3</th>\n",
              "      <td>0.03237</td>\n",
              "      <td>0.0</td>\n",
              "      <td>2.18</td>\n",
              "      <td>0.0</td>\n",
              "      <td>0.458</td>\n",
              "      <td>6.998</td>\n",
              "      <td>45.8</td>\n",
              "      <td>6.0622</td>\n",
              "      <td>3.0</td>\n",
              "      <td>222.0</td>\n",
              "      <td>18.7</td>\n",
              "      <td>394.63</td>\n",
              "      <td>2.94</td>\n",
              "      <td>33.4</td>\n",
              "    </tr>\n",
              "    <tr>\n",
              "      <th>4</th>\n",
              "      <td>0.06905</td>\n",
              "      <td>0.0</td>\n",
              "      <td>2.18</td>\n",
              "      <td>0.0</td>\n",
              "      <td>0.458</td>\n",
              "      <td>7.147</td>\n",
              "      <td>54.2</td>\n",
              "      <td>6.0622</td>\n",
              "      <td>3.0</td>\n",
              "      <td>222.0</td>\n",
              "      <td>18.7</td>\n",
              "      <td>396.90</td>\n",
              "      <td>5.33</td>\n",
              "      <td>36.2</td>\n",
              "    </tr>\n",
              "  </tbody>\n",
              "</table>\n",
              "</div>"
            ],
            "text/plain": [
              "      CRIM    ZN  INDUS  CHAS    NOX  ...    TAX  PTRATIO       B  LSTAT  PRICE\n",
              "0  0.00632  18.0   2.31   0.0  0.538  ...  296.0     15.3  396.90   4.98   24.0\n",
              "1  0.02731   0.0   7.07   0.0  0.469  ...  242.0     17.8  396.90   9.14   21.6\n",
              "2  0.02729   0.0   7.07   0.0  0.469  ...  242.0     17.8  392.83   4.03   34.7\n",
              "3  0.03237   0.0   2.18   0.0  0.458  ...  222.0     18.7  394.63   2.94   33.4\n",
              "4  0.06905   0.0   2.18   0.0  0.458  ...  222.0     18.7  396.90   5.33   36.2\n",
              "\n",
              "[5 rows x 14 columns]"
            ]
          },
          "metadata": {},
          "execution_count": 10
        }
      ]
    },
    {
      "cell_type": "code",
      "metadata": {
        "id": "md54ENQy309R",
        "colab": {
          "base_uri": "https://localhost:8080/",
          "height": 483
        },
        "outputId": "76673799-5fbe-463c-e2d2-3a1a04f5c493"
      },
      "source": [
        "# df에 대한 통계량을 확인한다 (describe())\n",
        "df.describe().T"
      ],
      "id": "md54ENQy309R",
      "execution_count": 11,
      "outputs": [
        {
          "output_type": "execute_result",
          "data": {
            "text/html": [
              "<div>\n",
              "<style scoped>\n",
              "    .dataframe tbody tr th:only-of-type {\n",
              "        vertical-align: middle;\n",
              "    }\n",
              "\n",
              "    .dataframe tbody tr th {\n",
              "        vertical-align: top;\n",
              "    }\n",
              "\n",
              "    .dataframe thead th {\n",
              "        text-align: right;\n",
              "    }\n",
              "</style>\n",
              "<table border=\"1\" class=\"dataframe\">\n",
              "  <thead>\n",
              "    <tr style=\"text-align: right;\">\n",
              "      <th></th>\n",
              "      <th>count</th>\n",
              "      <th>mean</th>\n",
              "      <th>std</th>\n",
              "      <th>min</th>\n",
              "      <th>25%</th>\n",
              "      <th>50%</th>\n",
              "      <th>75%</th>\n",
              "      <th>max</th>\n",
              "    </tr>\n",
              "  </thead>\n",
              "  <tbody>\n",
              "    <tr>\n",
              "      <th>CRIM</th>\n",
              "      <td>506.0</td>\n",
              "      <td>3.613524</td>\n",
              "      <td>8.601545</td>\n",
              "      <td>0.00632</td>\n",
              "      <td>0.082045</td>\n",
              "      <td>0.25651</td>\n",
              "      <td>3.677083</td>\n",
              "      <td>88.9762</td>\n",
              "    </tr>\n",
              "    <tr>\n",
              "      <th>ZN</th>\n",
              "      <td>506.0</td>\n",
              "      <td>11.363636</td>\n",
              "      <td>23.322453</td>\n",
              "      <td>0.00000</td>\n",
              "      <td>0.000000</td>\n",
              "      <td>0.00000</td>\n",
              "      <td>12.500000</td>\n",
              "      <td>100.0000</td>\n",
              "    </tr>\n",
              "    <tr>\n",
              "      <th>INDUS</th>\n",
              "      <td>506.0</td>\n",
              "      <td>11.136779</td>\n",
              "      <td>6.860353</td>\n",
              "      <td>0.46000</td>\n",
              "      <td>5.190000</td>\n",
              "      <td>9.69000</td>\n",
              "      <td>18.100000</td>\n",
              "      <td>27.7400</td>\n",
              "    </tr>\n",
              "    <tr>\n",
              "      <th>CHAS</th>\n",
              "      <td>506.0</td>\n",
              "      <td>0.069170</td>\n",
              "      <td>0.253994</td>\n",
              "      <td>0.00000</td>\n",
              "      <td>0.000000</td>\n",
              "      <td>0.00000</td>\n",
              "      <td>0.000000</td>\n",
              "      <td>1.0000</td>\n",
              "    </tr>\n",
              "    <tr>\n",
              "      <th>NOX</th>\n",
              "      <td>506.0</td>\n",
              "      <td>0.554695</td>\n",
              "      <td>0.115878</td>\n",
              "      <td>0.38500</td>\n",
              "      <td>0.449000</td>\n",
              "      <td>0.53800</td>\n",
              "      <td>0.624000</td>\n",
              "      <td>0.8710</td>\n",
              "    </tr>\n",
              "    <tr>\n",
              "      <th>RM</th>\n",
              "      <td>506.0</td>\n",
              "      <td>6.284634</td>\n",
              "      <td>0.702617</td>\n",
              "      <td>3.56100</td>\n",
              "      <td>5.885500</td>\n",
              "      <td>6.20850</td>\n",
              "      <td>6.623500</td>\n",
              "      <td>8.7800</td>\n",
              "    </tr>\n",
              "    <tr>\n",
              "      <th>AGE</th>\n",
              "      <td>506.0</td>\n",
              "      <td>68.574901</td>\n",
              "      <td>28.148861</td>\n",
              "      <td>2.90000</td>\n",
              "      <td>45.025000</td>\n",
              "      <td>77.50000</td>\n",
              "      <td>94.075000</td>\n",
              "      <td>100.0000</td>\n",
              "    </tr>\n",
              "    <tr>\n",
              "      <th>DIS</th>\n",
              "      <td>506.0</td>\n",
              "      <td>3.795043</td>\n",
              "      <td>2.105710</td>\n",
              "      <td>1.12960</td>\n",
              "      <td>2.100175</td>\n",
              "      <td>3.20745</td>\n",
              "      <td>5.188425</td>\n",
              "      <td>12.1265</td>\n",
              "    </tr>\n",
              "    <tr>\n",
              "      <th>RAD</th>\n",
              "      <td>506.0</td>\n",
              "      <td>9.549407</td>\n",
              "      <td>8.707259</td>\n",
              "      <td>1.00000</td>\n",
              "      <td>4.000000</td>\n",
              "      <td>5.00000</td>\n",
              "      <td>24.000000</td>\n",
              "      <td>24.0000</td>\n",
              "    </tr>\n",
              "    <tr>\n",
              "      <th>TAX</th>\n",
              "      <td>506.0</td>\n",
              "      <td>408.237154</td>\n",
              "      <td>168.537116</td>\n",
              "      <td>187.00000</td>\n",
              "      <td>279.000000</td>\n",
              "      <td>330.00000</td>\n",
              "      <td>666.000000</td>\n",
              "      <td>711.0000</td>\n",
              "    </tr>\n",
              "    <tr>\n",
              "      <th>PTRATIO</th>\n",
              "      <td>506.0</td>\n",
              "      <td>18.455534</td>\n",
              "      <td>2.164946</td>\n",
              "      <td>12.60000</td>\n",
              "      <td>17.400000</td>\n",
              "      <td>19.05000</td>\n",
              "      <td>20.200000</td>\n",
              "      <td>22.0000</td>\n",
              "    </tr>\n",
              "    <tr>\n",
              "      <th>B</th>\n",
              "      <td>506.0</td>\n",
              "      <td>356.674032</td>\n",
              "      <td>91.294864</td>\n",
              "      <td>0.32000</td>\n",
              "      <td>375.377500</td>\n",
              "      <td>391.44000</td>\n",
              "      <td>396.225000</td>\n",
              "      <td>396.9000</td>\n",
              "    </tr>\n",
              "    <tr>\n",
              "      <th>LSTAT</th>\n",
              "      <td>506.0</td>\n",
              "      <td>12.653063</td>\n",
              "      <td>7.141062</td>\n",
              "      <td>1.73000</td>\n",
              "      <td>6.950000</td>\n",
              "      <td>11.36000</td>\n",
              "      <td>16.955000</td>\n",
              "      <td>37.9700</td>\n",
              "    </tr>\n",
              "    <tr>\n",
              "      <th>PRICE</th>\n",
              "      <td>506.0</td>\n",
              "      <td>22.532806</td>\n",
              "      <td>9.197104</td>\n",
              "      <td>5.00000</td>\n",
              "      <td>17.025000</td>\n",
              "      <td>21.20000</td>\n",
              "      <td>25.000000</td>\n",
              "      <td>50.0000</td>\n",
              "    </tr>\n",
              "  </tbody>\n",
              "</table>\n",
              "</div>"
            ],
            "text/plain": [
              "         count        mean         std  ...        50%         75%       max\n",
              "CRIM     506.0    3.613524    8.601545  ...    0.25651    3.677083   88.9762\n",
              "ZN       506.0   11.363636   23.322453  ...    0.00000   12.500000  100.0000\n",
              "INDUS    506.0   11.136779    6.860353  ...    9.69000   18.100000   27.7400\n",
              "CHAS     506.0    0.069170    0.253994  ...    0.00000    0.000000    1.0000\n",
              "NOX      506.0    0.554695    0.115878  ...    0.53800    0.624000    0.8710\n",
              "RM       506.0    6.284634    0.702617  ...    6.20850    6.623500    8.7800\n",
              "AGE      506.0   68.574901   28.148861  ...   77.50000   94.075000  100.0000\n",
              "DIS      506.0    3.795043    2.105710  ...    3.20745    5.188425   12.1265\n",
              "RAD      506.0    9.549407    8.707259  ...    5.00000   24.000000   24.0000\n",
              "TAX      506.0  408.237154  168.537116  ...  330.00000  666.000000  711.0000\n",
              "PTRATIO  506.0   18.455534    2.164946  ...   19.05000   20.200000   22.0000\n",
              "B        506.0  356.674032   91.294864  ...  391.44000  396.225000  396.9000\n",
              "LSTAT    506.0   12.653063    7.141062  ...   11.36000   16.955000   37.9700\n",
              "PRICE    506.0   22.532806    9.197104  ...   21.20000   25.000000   50.0000\n",
              "\n",
              "[14 rows x 8 columns]"
            ]
          },
          "metadata": {},
          "execution_count": 11
        }
      ]
    },
    {
      "cell_type": "code",
      "metadata": {
        "id": "CAS1lJFB309R",
        "colab": {
          "base_uri": "https://localhost:8080/"
        },
        "outputId": "0ffb5edb-2bac-4284-c87c-4cb65b2e9cf6"
      },
      "source": [
        "# df의 column 별 Name, Non-Null Count, dtype을 알아본다\n",
        "df.info()"
      ],
      "id": "CAS1lJFB309R",
      "execution_count": 12,
      "outputs": [
        {
          "output_type": "stream",
          "text": [
            "<class 'pandas.core.frame.DataFrame'>\n",
            "RangeIndex: 506 entries, 0 to 505\n",
            "Data columns (total 14 columns):\n",
            " #   Column   Non-Null Count  Dtype  \n",
            "---  ------   --------------  -----  \n",
            " 0   CRIM     506 non-null    float64\n",
            " 1   ZN       506 non-null    float64\n",
            " 2   INDUS    506 non-null    float64\n",
            " 3   CHAS     506 non-null    float64\n",
            " 4   NOX      506 non-null    float64\n",
            " 5   RM       506 non-null    float64\n",
            " 6   AGE      506 non-null    float64\n",
            " 7   DIS      506 non-null    float64\n",
            " 8   RAD      506 non-null    float64\n",
            " 9   TAX      506 non-null    float64\n",
            " 10  PTRATIO  506 non-null    float64\n",
            " 11  B        506 non-null    float64\n",
            " 12  LSTAT    506 non-null    float64\n",
            " 13  PRICE    506 non-null    float64\n",
            "dtypes: float64(14)\n",
            "memory usage: 55.5 KB\n"
          ],
          "name": "stdout"
        }
      ]
    },
    {
      "cell_type": "markdown",
      "metadata": {
        "id": "ZxfbKhds309S"
      },
      "source": [
        "#### 2. 데이터 분할\n"
      ],
      "id": "ZxfbKhds309S"
    },
    {
      "cell_type": "code",
      "metadata": {
        "colab": {
          "base_uri": "https://localhost:8080/",
          "height": 419
        },
        "id": "45l7DUfhAqKB",
        "outputId": "4f053ff0-af0c-44ed-a78f-4aba6132895b"
      },
      "source": [
        "\n",
        "X"
      ],
      "id": "45l7DUfhAqKB",
      "execution_count": 22,
      "outputs": [
        {
          "output_type": "execute_result",
          "data": {
            "text/html": [
              "<div>\n",
              "<style scoped>\n",
              "    .dataframe tbody tr th:only-of-type {\n",
              "        vertical-align: middle;\n",
              "    }\n",
              "\n",
              "    .dataframe tbody tr th {\n",
              "        vertical-align: top;\n",
              "    }\n",
              "\n",
              "    .dataframe thead th {\n",
              "        text-align: right;\n",
              "    }\n",
              "</style>\n",
              "<table border=\"1\" class=\"dataframe\">\n",
              "  <thead>\n",
              "    <tr style=\"text-align: right;\">\n",
              "      <th></th>\n",
              "      <th>CRIM</th>\n",
              "      <th>ZN</th>\n",
              "      <th>INDUS</th>\n",
              "      <th>CHAS</th>\n",
              "      <th>NOX</th>\n",
              "      <th>RM</th>\n",
              "      <th>AGE</th>\n",
              "      <th>DIS</th>\n",
              "      <th>RAD</th>\n",
              "      <th>TAX</th>\n",
              "      <th>PTRATIO</th>\n",
              "      <th>B</th>\n",
              "      <th>LSTAT</th>\n",
              "    </tr>\n",
              "  </thead>\n",
              "  <tbody>\n",
              "    <tr>\n",
              "      <th>0</th>\n",
              "      <td>0.00632</td>\n",
              "      <td>18.0</td>\n",
              "      <td>2.31</td>\n",
              "      <td>0.0</td>\n",
              "      <td>0.538</td>\n",
              "      <td>6.575</td>\n",
              "      <td>65.2</td>\n",
              "      <td>4.0900</td>\n",
              "      <td>1.0</td>\n",
              "      <td>296.0</td>\n",
              "      <td>15.3</td>\n",
              "      <td>396.90</td>\n",
              "      <td>4.98</td>\n",
              "    </tr>\n",
              "    <tr>\n",
              "      <th>1</th>\n",
              "      <td>0.02731</td>\n",
              "      <td>0.0</td>\n",
              "      <td>7.07</td>\n",
              "      <td>0.0</td>\n",
              "      <td>0.469</td>\n",
              "      <td>6.421</td>\n",
              "      <td>78.9</td>\n",
              "      <td>4.9671</td>\n",
              "      <td>2.0</td>\n",
              "      <td>242.0</td>\n",
              "      <td>17.8</td>\n",
              "      <td>396.90</td>\n",
              "      <td>9.14</td>\n",
              "    </tr>\n",
              "    <tr>\n",
              "      <th>2</th>\n",
              "      <td>0.02729</td>\n",
              "      <td>0.0</td>\n",
              "      <td>7.07</td>\n",
              "      <td>0.0</td>\n",
              "      <td>0.469</td>\n",
              "      <td>7.185</td>\n",
              "      <td>61.1</td>\n",
              "      <td>4.9671</td>\n",
              "      <td>2.0</td>\n",
              "      <td>242.0</td>\n",
              "      <td>17.8</td>\n",
              "      <td>392.83</td>\n",
              "      <td>4.03</td>\n",
              "    </tr>\n",
              "    <tr>\n",
              "      <th>3</th>\n",
              "      <td>0.03237</td>\n",
              "      <td>0.0</td>\n",
              "      <td>2.18</td>\n",
              "      <td>0.0</td>\n",
              "      <td>0.458</td>\n",
              "      <td>6.998</td>\n",
              "      <td>45.8</td>\n",
              "      <td>6.0622</td>\n",
              "      <td>3.0</td>\n",
              "      <td>222.0</td>\n",
              "      <td>18.7</td>\n",
              "      <td>394.63</td>\n",
              "      <td>2.94</td>\n",
              "    </tr>\n",
              "    <tr>\n",
              "      <th>4</th>\n",
              "      <td>0.06905</td>\n",
              "      <td>0.0</td>\n",
              "      <td>2.18</td>\n",
              "      <td>0.0</td>\n",
              "      <td>0.458</td>\n",
              "      <td>7.147</td>\n",
              "      <td>54.2</td>\n",
              "      <td>6.0622</td>\n",
              "      <td>3.0</td>\n",
              "      <td>222.0</td>\n",
              "      <td>18.7</td>\n",
              "      <td>396.90</td>\n",
              "      <td>5.33</td>\n",
              "    </tr>\n",
              "    <tr>\n",
              "      <th>...</th>\n",
              "      <td>...</td>\n",
              "      <td>...</td>\n",
              "      <td>...</td>\n",
              "      <td>...</td>\n",
              "      <td>...</td>\n",
              "      <td>...</td>\n",
              "      <td>...</td>\n",
              "      <td>...</td>\n",
              "      <td>...</td>\n",
              "      <td>...</td>\n",
              "      <td>...</td>\n",
              "      <td>...</td>\n",
              "      <td>...</td>\n",
              "    </tr>\n",
              "    <tr>\n",
              "      <th>501</th>\n",
              "      <td>0.06263</td>\n",
              "      <td>0.0</td>\n",
              "      <td>11.93</td>\n",
              "      <td>0.0</td>\n",
              "      <td>0.573</td>\n",
              "      <td>6.593</td>\n",
              "      <td>69.1</td>\n",
              "      <td>2.4786</td>\n",
              "      <td>1.0</td>\n",
              "      <td>273.0</td>\n",
              "      <td>21.0</td>\n",
              "      <td>391.99</td>\n",
              "      <td>9.67</td>\n",
              "    </tr>\n",
              "    <tr>\n",
              "      <th>502</th>\n",
              "      <td>0.04527</td>\n",
              "      <td>0.0</td>\n",
              "      <td>11.93</td>\n",
              "      <td>0.0</td>\n",
              "      <td>0.573</td>\n",
              "      <td>6.120</td>\n",
              "      <td>76.7</td>\n",
              "      <td>2.2875</td>\n",
              "      <td>1.0</td>\n",
              "      <td>273.0</td>\n",
              "      <td>21.0</td>\n",
              "      <td>396.90</td>\n",
              "      <td>9.08</td>\n",
              "    </tr>\n",
              "    <tr>\n",
              "      <th>503</th>\n",
              "      <td>0.06076</td>\n",
              "      <td>0.0</td>\n",
              "      <td>11.93</td>\n",
              "      <td>0.0</td>\n",
              "      <td>0.573</td>\n",
              "      <td>6.976</td>\n",
              "      <td>91.0</td>\n",
              "      <td>2.1675</td>\n",
              "      <td>1.0</td>\n",
              "      <td>273.0</td>\n",
              "      <td>21.0</td>\n",
              "      <td>396.90</td>\n",
              "      <td>5.64</td>\n",
              "    </tr>\n",
              "    <tr>\n",
              "      <th>504</th>\n",
              "      <td>0.10959</td>\n",
              "      <td>0.0</td>\n",
              "      <td>11.93</td>\n",
              "      <td>0.0</td>\n",
              "      <td>0.573</td>\n",
              "      <td>6.794</td>\n",
              "      <td>89.3</td>\n",
              "      <td>2.3889</td>\n",
              "      <td>1.0</td>\n",
              "      <td>273.0</td>\n",
              "      <td>21.0</td>\n",
              "      <td>393.45</td>\n",
              "      <td>6.48</td>\n",
              "    </tr>\n",
              "    <tr>\n",
              "      <th>505</th>\n",
              "      <td>0.04741</td>\n",
              "      <td>0.0</td>\n",
              "      <td>11.93</td>\n",
              "      <td>0.0</td>\n",
              "      <td>0.573</td>\n",
              "      <td>6.030</td>\n",
              "      <td>80.8</td>\n",
              "      <td>2.5050</td>\n",
              "      <td>1.0</td>\n",
              "      <td>273.0</td>\n",
              "      <td>21.0</td>\n",
              "      <td>396.90</td>\n",
              "      <td>7.88</td>\n",
              "    </tr>\n",
              "  </tbody>\n",
              "</table>\n",
              "<p>506 rows × 13 columns</p>\n",
              "</div>"
            ],
            "text/plain": [
              "        CRIM    ZN  INDUS  CHAS    NOX  ...  RAD    TAX  PTRATIO       B  LSTAT\n",
              "0    0.00632  18.0   2.31   0.0  0.538  ...  1.0  296.0     15.3  396.90   4.98\n",
              "1    0.02731   0.0   7.07   0.0  0.469  ...  2.0  242.0     17.8  396.90   9.14\n",
              "2    0.02729   0.0   7.07   0.0  0.469  ...  2.0  242.0     17.8  392.83   4.03\n",
              "3    0.03237   0.0   2.18   0.0  0.458  ...  3.0  222.0     18.7  394.63   2.94\n",
              "4    0.06905   0.0   2.18   0.0  0.458  ...  3.0  222.0     18.7  396.90   5.33\n",
              "..       ...   ...    ...   ...    ...  ...  ...    ...      ...     ...    ...\n",
              "501  0.06263   0.0  11.93   0.0  0.573  ...  1.0  273.0     21.0  391.99   9.67\n",
              "502  0.04527   0.0  11.93   0.0  0.573  ...  1.0  273.0     21.0  396.90   9.08\n",
              "503  0.06076   0.0  11.93   0.0  0.573  ...  1.0  273.0     21.0  396.90   5.64\n",
              "504  0.10959   0.0  11.93   0.0  0.573  ...  1.0  273.0     21.0  393.45   6.48\n",
              "505  0.04741   0.0  11.93   0.0  0.573  ...  1.0  273.0     21.0  396.90   7.88\n",
              "\n",
              "[506 rows x 13 columns]"
            ]
          },
          "metadata": {},
          "execution_count": 22
        }
      ]
    },
    {
      "cell_type": "code",
      "metadata": {
        "id": "qKoYIZng309S",
        "colab": {
          "base_uri": "https://localhost:8080/"
        },
        "outputId": "53f5f581-9b6a-4462-89d1-21c49ff3e7e9"
      },
      "source": [
        "from sklearn.model_selection import train_test_split\n",
        "# x,y 데이터를 만들어, training, test용 데이터로 분할 한다\n",
        "# 1. df(보스턴 데이터의 DataFrame) 의 'CRIM':'LSTAT' 열을 X로 지정한다\n",
        "# 2. df의 'PRICE' 열을 y로 지정한다\n",
        "# 3. X, y를 75%:25%의 비율로 random_state=0을 사용해 분할하여\n",
        "#    x_train, x_test, y_train, y_test로 저장한다\n",
        "X = df.loc[:,'CRIM':'LSTAT']\n",
        "y = df['PRICE']\n",
        "x_train, x_test, y_train, y_test =  train_test_split(X, y, test_size=0.5, random_state=0)\n",
        "\n",
        "# x_train, x_test, y_train, y_test 각각의 shape을 확인한다\n",
        "[x.shape for x in [x_train, x_test, y_train, y_test]]"
      ],
      "id": "qKoYIZng309S",
      "execution_count": 24,
      "outputs": [
        {
          "output_type": "execute_result",
          "data": {
            "text/plain": [
              "[(253, 13), (253, 13), (253,), (253,)]"
            ]
          },
          "metadata": {},
          "execution_count": 24
        }
      ]
    },
    {
      "cell_type": "code",
      "metadata": {
        "id": "HuiHnMWS309T"
      },
      "source": [
        "# df를 'boston.csv'로 저장한다\n",
        "df.to_csv('boston.csv', index=False)"
      ],
      "id": "HuiHnMWS309T",
      "execution_count": 25,
      "outputs": []
    },
    {
      "cell_type": "markdown",
      "metadata": {
        "id": "O9z9N4BT309T"
      },
      "source": [
        "#### 3. 모델 학습 및 평가"
      ],
      "id": "O9z9N4BT309T"
    },
    {
      "cell_type": "code",
      "metadata": {
        "id": "6Eeg8fqe309T",
        "colab": {
          "base_uri": "https://localhost:8080/"
        },
        "outputId": "76521ad4-897c-4b91-df34-5559ef3ceb27"
      },
      "source": [
        "from sklearn.linear_model import LinearRegression\n",
        "# train 데이터와 LinearRegression()을 사용하여 model을 생성한다\n",
        "model = LinearRegression().fit(x_train, y_train)\n",
        "# train 및 test 데이터를 사용하여 model의 성능을 평가한다 \n",
        "model.score(x_train, y_train), model.score(x_test, y_test)"
      ],
      "id": "6Eeg8fqe309T",
      "execution_count": 26,
      "outputs": [
        {
          "output_type": "execute_result",
          "data": {
            "text/plain": [
              "(0.7877808902724839, 0.6662719929919436)"
            ]
          },
          "metadata": {},
          "execution_count": 26
        }
      ]
    },
    {
      "cell_type": "code",
      "metadata": {
        "id": "xH6KkAmT309T",
        "colab": {
          "base_uri": "https://localhost:8080/"
        },
        "outputId": "3d1fde56-7a17-41ec-e9b3-a3689457290d"
      },
      "source": [
        "model.coef_"
      ],
      "id": "xH6KkAmT309T",
      "execution_count": 27,
      "outputs": [
        {
          "output_type": "execute_result",
          "data": {
            "text/plain": [
              "array([-1.22697052e-01,  5.76835439e-02,  7.42047961e-02,  3.38949970e+00,\n",
              "       -1.65391519e+01,  3.57730248e+00, -2.98033902e-03, -1.55759520e+00,\n",
              "        2.50098217e-01, -9.73850155e-03, -1.12527834e+00,  6.85073312e-03,\n",
              "       -5.92410460e-01])"
            ]
          },
          "metadata": {},
          "execution_count": 27
        }
      ]
    },
    {
      "cell_type": "code",
      "metadata": {
        "colab": {
          "base_uri": "https://localhost:8080/"
        },
        "id": "Et1mmYJKCSWb",
        "outputId": "ee3fb5bf-eb02-4c72-b6ce-625baddd82ac"
      },
      "source": [
        "for x in zip(df.columns, model.coef_):\n",
        "    print(x)"
      ],
      "id": "Et1mmYJKCSWb",
      "execution_count": 28,
      "outputs": [
        {
          "output_type": "stream",
          "text": [
            "('CRIM', -0.12269705171589189)\n",
            "('ZN', 0.057683543866475576)\n",
            "('INDUS', 0.07420479607308085)\n",
            "('CHAS', 3.3894997004463256)\n",
            "('NOX', -16.539151860487674)\n",
            "('RM', 3.5773024783790226)\n",
            "('AGE', -0.002980339019341865)\n",
            "('DIS', -1.557595199915033)\n",
            "('RAD', 0.2500982170489951)\n",
            "('TAX', -0.00973850155042194)\n",
            "('PTRATIO', -1.1252783397592296)\n",
            "('B', 0.006850733121827553)\n",
            "('LSTAT', -0.5924104604471995)\n"
          ],
          "name": "stdout"
        }
      ]
    },
    {
      "cell_type": "code",
      "metadata": {
        "id": "Y0byydru309U",
        "outputId": "1ef57a96-fef2-47a7-f851-d115badc37a7"
      },
      "source": [
        "# 표준화를 적용해 본다 - 성능이 좋지 않음\n",
        "# 1번 방법 : 모든 X의 데이터를 한꺼번에 사용해서 표준화\n",
        "from sklearn.preprocessing import StandardScaler\n",
        "# boston = load_boston()\n",
        "boston = pd.read_csv('boston.csv')\n",
        "X = df.loc[:,'CRIM:LSTAT']\n",
        "y = df['PRICE']\n",
        "\n",
        "scaledX = StandardScaler().fit_trasform(X)\n",
        "\n",
        "X_train, X_test, y_train, y_test = train_test_split(X, y, test_size=0.25, random_state=0)\n",
        "\n",
        "model = LinearRegression().fit(x_train, y_train)\n",
        "model.score(x_train, y_train), model.score(x_test, y_test)"
      ],
      "id": "Y0byydru309U",
      "execution_count": null,
      "outputs": [
        {
          "data": {
            "text/plain": [
              "(0.7697699488741149, 0.6354638433202129)"
            ]
          },
          "execution_count": 29,
          "metadata": {},
          "output_type": "execute_result"
        }
      ]
    },
    {
      "cell_type": "code",
      "metadata": {
        "id": "XccEsoxDDZ73"
      },
      "source": [
        "# 표준화를 적용해 본다 - 성능이 좋지 않음\n",
        "# 2번 방법 : train(fit, transform), test(transform) - 나누고 나서 train에 대해서만 해도 됨\n",
        "from sklearn.preprocessing import StandardScaler\n",
        "# boston = load_boston()\n",
        "boston = pd.read_csv('boston.csv')\n",
        "X = df.loc[:,'CRIM:LSTAT']\n",
        "y = df['PRICE']\n",
        "\n",
        "x_train, x_test, y_train, y_test = train_test_split(X, y, \n",
        "                                                    test_size=0.25,\n",
        "                                                    random_state=0)\n",
        "scaler = StandardScaler()\n",
        "x_train = scaler.fit_transform(x_train)\n",
        "x_test = scaler.transform(x_test)\n",
        "\n",
        "model = LinearRegression().fit(x_train, y_train)\n",
        "model.score(x_train, y_train), model.score(x_test, y_test)"
      ],
      "id": "XccEsoxDDZ73",
      "execution_count": null,
      "outputs": []
    },
    {
      "cell_type": "code",
      "metadata": {
        "id": "uyFjweXG309U",
        "outputId": "7e029737-c758-4859-9e5a-7e9c5309f50e"
      },
      "source": [
        "# 정규화를 적용해 본다 - 성능이 좋지 않음\n",
        "from sklearn.preprocessing import MinMaxScaler\n",
        "df = pd.read_csv('boston.csv')\n",
        "X = df.loc[:, 'CRIM':'LSTAT']\n",
        "y = df['PRICE']\n",
        "\n",
        "scaledX = MinMaxScaler().fit_transform(X)\n",
        "\n",
        "x_train, x_test, y_train, y_test = train_test_split(scaledX, y, \n",
        "                                                    test_size=0.25,\n",
        "                                                    random_state=0)\n",
        "\n",
        "model = LinearRegression().fit(x_train, y_train)\n",
        "model.score(x_train, y_train), model.score(x_test, y_test)"
      ],
      "id": "uyFjweXG309U",
      "execution_count": null,
      "outputs": [
        {
          "data": {
            "text/plain": [
              "(0.7697699488741149, 0.6354638433202122)"
            ]
          },
          "execution_count": 30,
          "metadata": {},
          "output_type": "execute_result"
        }
      ]
    },
    {
      "cell_type": "markdown",
      "metadata": {
        "id": "S3jiMYlj309U"
      },
      "source": [
        "### B. 다항 회귀 (Polynomial Features) 개념\n",
        "- 연속형 레이블과 특성 간의 관계가 선형이 아닌 경우 1차식으로 표현이 불가능하여\n",
        "2차식 이상의 다항식으로 변형하여 회귀 분석을 진행 해야함\n",
        "- 기존의 특성에 다항을 적용하여 새로운 특성을 추가\n",
        "- scikit-learn의 경우 PolynomialFeatures 객체를 이용하여 다항 변환 및\n",
        "상호교차항을 쉽게 추가 가능\n",
        "\n",
        "- sklearn.preprocessing.PolynomialFeatures\n",
        "   - degree : 차수(2, 3, ... 과 같은 정수로 지정)\n",
        "   - include_bias : 상수항 포함 유무(True)\n",
        "   - interaction_only : 상호교차항만 반환 유무(False), 상호교차항 -> 다차항이 아닌 항들\n",
        "   - X_poly = PolynomialFeatures.fit_transform(x)를 사용해 다항 변환\n",
        "   - feature_names = PolynomialFeatures.get_feature_names()를 사용해 feature의 이름 반환\n",
        "   - 1\tx0\tx0^2  (반환된 이름에서 1은 상수항, x0는 상호교차항, x0^2은 다차항)"
      ],
      "id": "S3jiMYlj309U"
    },
    {
      "cell_type": "code",
      "metadata": {
        "id": "sTmHZKIJ309U",
        "colab": {
          "base_uri": "https://localhost:8080/"
        },
        "outputId": "86b432b9-b970-461b-a76d-8fbb40bb3eb9"
      },
      "source": [
        "# X0 특성을 2차항 변환(상수항 포함)\n",
        "from sklearn.preprocessing import PolynomialFeatures\n",
        "import numpy as np\n",
        "# 5개 instance를 갖는 1개 Feature 구조의 x 생성\n",
        "x = np.arange(5).reshape(-1, 1)\n",
        "\n",
        "# 2차항 변환을 위한 PolynomialFeatures 객체를 생성하여 P라는 이름을 지정한다.\n",
        "# x에 대해 2차항을 만들고 그 결과를 DataFrame으로 변환한다.\n",
        "# DataFrame의 columns는 P의 get_feature_names()를 사용한다.\n",
        "degree = 2 # 2의제곱하겠다는 의미\n",
        "P = PolynomialFeatures(degree, include_bias=False)\n",
        "px = P.fit_transform(x)\n",
        "px"
      ],
      "id": "sTmHZKIJ309U",
      "execution_count": 38,
      "outputs": [
        {
          "output_type": "execute_result",
          "data": {
            "text/plain": [
              "array([[ 0.,  0.],\n",
              "       [ 1.,  1.],\n",
              "       [ 2.,  4.],\n",
              "       [ 3.,  9.],\n",
              "       [ 4., 16.]])"
            ]
          },
          "metadata": {},
          "execution_count": 38
        }
      ]
    },
    {
      "cell_type": "code",
      "metadata": {
        "id": "4qTu88iG309V",
        "colab": {
          "base_uri": "https://localhost:8080/",
          "height": 204
        },
        "outputId": "6e006d95-40f9-4a25-e569-c14abd14967b"
      },
      "source": [
        "# X0, X1 특성을 2차항 변환(상수항 포함)\n",
        "from sklearn.preprocessing import PolynomialFeatures\n",
        "import numpy as np\n",
        "# 5개 instance를 갖는 2개 Feature 구조의 x 생성\n",
        "x = np.arange(10).reshape(-1, 2)\n",
        "\n",
        "# 2개의 Feature를 갖는 x에 위와 동일한 작업을 수행한다. (결과 확인)\n",
        "degree = 2\n",
        "P = PolynomialFeatures(degree, include_bias=False)\n",
        "px = P.fit_transform(x)\n",
        "df = pd.DataFrame(px, columns= P.get_feature_names())\n",
        "df"
      ],
      "id": "4qTu88iG309V",
      "execution_count": 35,
      "outputs": [
        {
          "output_type": "execute_result",
          "data": {
            "text/html": [
              "<div>\n",
              "<style scoped>\n",
              "    .dataframe tbody tr th:only-of-type {\n",
              "        vertical-align: middle;\n",
              "    }\n",
              "\n",
              "    .dataframe tbody tr th {\n",
              "        vertical-align: top;\n",
              "    }\n",
              "\n",
              "    .dataframe thead th {\n",
              "        text-align: right;\n",
              "    }\n",
              "</style>\n",
              "<table border=\"1\" class=\"dataframe\">\n",
              "  <thead>\n",
              "    <tr style=\"text-align: right;\">\n",
              "      <th></th>\n",
              "      <th>x0</th>\n",
              "      <th>x1</th>\n",
              "      <th>x0^2</th>\n",
              "      <th>x0 x1</th>\n",
              "      <th>x1^2</th>\n",
              "    </tr>\n",
              "  </thead>\n",
              "  <tbody>\n",
              "    <tr>\n",
              "      <th>0</th>\n",
              "      <td>0.0</td>\n",
              "      <td>1.0</td>\n",
              "      <td>0.0</td>\n",
              "      <td>0.0</td>\n",
              "      <td>1.0</td>\n",
              "    </tr>\n",
              "    <tr>\n",
              "      <th>1</th>\n",
              "      <td>2.0</td>\n",
              "      <td>3.0</td>\n",
              "      <td>4.0</td>\n",
              "      <td>6.0</td>\n",
              "      <td>9.0</td>\n",
              "    </tr>\n",
              "    <tr>\n",
              "      <th>2</th>\n",
              "      <td>4.0</td>\n",
              "      <td>5.0</td>\n",
              "      <td>16.0</td>\n",
              "      <td>20.0</td>\n",
              "      <td>25.0</td>\n",
              "    </tr>\n",
              "    <tr>\n",
              "      <th>3</th>\n",
              "      <td>6.0</td>\n",
              "      <td>7.0</td>\n",
              "      <td>36.0</td>\n",
              "      <td>42.0</td>\n",
              "      <td>49.0</td>\n",
              "    </tr>\n",
              "    <tr>\n",
              "      <th>4</th>\n",
              "      <td>8.0</td>\n",
              "      <td>9.0</td>\n",
              "      <td>64.0</td>\n",
              "      <td>72.0</td>\n",
              "      <td>81.0</td>\n",
              "    </tr>\n",
              "  </tbody>\n",
              "</table>\n",
              "</div>"
            ],
            "text/plain": [
              "    x0   x1  x0^2  x0 x1  x1^2\n",
              "0  0.0  1.0   0.0    0.0   1.0\n",
              "1  2.0  3.0   4.0    6.0   9.0\n",
              "2  4.0  5.0  16.0   20.0  25.0\n",
              "3  6.0  7.0  36.0   42.0  49.0\n",
              "4  8.0  9.0  64.0   72.0  81.0"
            ]
          },
          "metadata": {},
          "execution_count": 35
        }
      ]
    },
    {
      "cell_type": "code",
      "metadata": {
        "id": "BDUE4X8m309V",
        "outputId": "9aeed630-29a0-41a7-cb26-8a3ee53532ec"
      },
      "source": [
        "# X0, X1 특성을 2차항 변환(상수항 미포함)\n",
        "from sklearn.preprocessing import PolynomialFeatures\n",
        "import numpy as np\n",
        "x = np.arange(10).reshape(-1, 2)\n",
        "\n",
        "# 2개의 Feature를 갖는 x에 위와 동일한 작업을 수행한다. (결과 확인)\n",
        "# 상수항을 미포함하기 위해 include_bias=False로 지정한다\n",
        "degree = 2\n",
        "P = "
      ],
      "id": "BDUE4X8m309V",
      "execution_count": null,
      "outputs": [
        {
          "data": {
            "text/html": [
              "<div>\n",
              "<style scoped>\n",
              "    .dataframe tbody tr th:only-of-type {\n",
              "        vertical-align: middle;\n",
              "    }\n",
              "\n",
              "    .dataframe tbody tr th {\n",
              "        vertical-align: top;\n",
              "    }\n",
              "\n",
              "    .dataframe thead th {\n",
              "        text-align: right;\n",
              "    }\n",
              "</style>\n",
              "<table border=\"1\" class=\"dataframe\">\n",
              "  <thead>\n",
              "    <tr style=\"text-align: right;\">\n",
              "      <th></th>\n",
              "      <th>x0</th>\n",
              "      <th>x1</th>\n",
              "      <th>x0^2</th>\n",
              "      <th>x0 x1</th>\n",
              "      <th>x1^2</th>\n",
              "    </tr>\n",
              "  </thead>\n",
              "  <tbody>\n",
              "    <tr>\n",
              "      <th>0</th>\n",
              "      <td>0.0</td>\n",
              "      <td>1.0</td>\n",
              "      <td>0.0</td>\n",
              "      <td>0.0</td>\n",
              "      <td>1.0</td>\n",
              "    </tr>\n",
              "    <tr>\n",
              "      <th>1</th>\n",
              "      <td>2.0</td>\n",
              "      <td>3.0</td>\n",
              "      <td>4.0</td>\n",
              "      <td>6.0</td>\n",
              "      <td>9.0</td>\n",
              "    </tr>\n",
              "    <tr>\n",
              "      <th>2</th>\n",
              "      <td>4.0</td>\n",
              "      <td>5.0</td>\n",
              "      <td>16.0</td>\n",
              "      <td>20.0</td>\n",
              "      <td>25.0</td>\n",
              "    </tr>\n",
              "    <tr>\n",
              "      <th>3</th>\n",
              "      <td>6.0</td>\n",
              "      <td>7.0</td>\n",
              "      <td>36.0</td>\n",
              "      <td>42.0</td>\n",
              "      <td>49.0</td>\n",
              "    </tr>\n",
              "    <tr>\n",
              "      <th>4</th>\n",
              "      <td>8.0</td>\n",
              "      <td>9.0</td>\n",
              "      <td>64.0</td>\n",
              "      <td>72.0</td>\n",
              "      <td>81.0</td>\n",
              "    </tr>\n",
              "  </tbody>\n",
              "</table>\n",
              "</div>"
            ],
            "text/plain": [
              "    x0   x1  x0^2  x0 x1  x1^2\n",
              "0  0.0  1.0   0.0    0.0   1.0\n",
              "1  2.0  3.0   4.0    6.0   9.0\n",
              "2  4.0  5.0  16.0   20.0  25.0\n",
              "3  6.0  7.0  36.0   42.0  49.0\n",
              "4  8.0  9.0  64.0   72.0  81.0"
            ]
          },
          "execution_count": 9,
          "metadata": {},
          "output_type": "execute_result"
        }
      ]
    },
    {
      "cell_type": "code",
      "metadata": {
        "colab": {
          "base_uri": "https://localhost:8080/",
          "height": 221
        },
        "id": "FTiBZOMiKUp3",
        "outputId": "ad23c6db-6cf9-468c-db2b-e2c2d038363c"
      },
      "source": [
        "# X0, X1 특성을 2차항 변환(상수항 포함)\n",
        "from sklearn.preprocessing import PolynomialFeatures\n",
        "import numpy as np\n",
        "# 5개 instance를 갖는 2개 Feature 구조의 x 생성\n",
        "x = np.arange(10).reshape(-1, 2)\n",
        "\n",
        "# 2개의 Feature를 갖는 x에 위와 동일한 작업을 수행한다. (결과 확인)\n",
        "degree = 4\n",
        "P = PolynomialFeatures(degree, interaction_only=True, include_bias=False)\n",
        "px = P.fit_transform(x)\n",
        "df = pd.DataFrame(px, columns = P.get_feature_names() )\n",
        "display(df.shape, df)"
      ],
      "id": "FTiBZOMiKUp3",
      "execution_count": 39,
      "outputs": [
        {
          "output_type": "display_data",
          "data": {
            "text/plain": [
              "(5, 3)"
            ]
          },
          "metadata": {}
        },
        {
          "output_type": "display_data",
          "data": {
            "text/html": [
              "<div>\n",
              "<style scoped>\n",
              "    .dataframe tbody tr th:only-of-type {\n",
              "        vertical-align: middle;\n",
              "    }\n",
              "\n",
              "    .dataframe tbody tr th {\n",
              "        vertical-align: top;\n",
              "    }\n",
              "\n",
              "    .dataframe thead th {\n",
              "        text-align: right;\n",
              "    }\n",
              "</style>\n",
              "<table border=\"1\" class=\"dataframe\">\n",
              "  <thead>\n",
              "    <tr style=\"text-align: right;\">\n",
              "      <th></th>\n",
              "      <th>x0</th>\n",
              "      <th>x1</th>\n",
              "      <th>x0 x1</th>\n",
              "    </tr>\n",
              "  </thead>\n",
              "  <tbody>\n",
              "    <tr>\n",
              "      <th>0</th>\n",
              "      <td>0.0</td>\n",
              "      <td>1.0</td>\n",
              "      <td>0.0</td>\n",
              "    </tr>\n",
              "    <tr>\n",
              "      <th>1</th>\n",
              "      <td>2.0</td>\n",
              "      <td>3.0</td>\n",
              "      <td>6.0</td>\n",
              "    </tr>\n",
              "    <tr>\n",
              "      <th>2</th>\n",
              "      <td>4.0</td>\n",
              "      <td>5.0</td>\n",
              "      <td>20.0</td>\n",
              "    </tr>\n",
              "    <tr>\n",
              "      <th>3</th>\n",
              "      <td>6.0</td>\n",
              "      <td>7.0</td>\n",
              "      <td>42.0</td>\n",
              "    </tr>\n",
              "    <tr>\n",
              "      <th>4</th>\n",
              "      <td>8.0</td>\n",
              "      <td>9.0</td>\n",
              "      <td>72.0</td>\n",
              "    </tr>\n",
              "  </tbody>\n",
              "</table>\n",
              "</div>"
            ],
            "text/plain": [
              "    x0   x1  x0 x1\n",
              "0  0.0  1.0    0.0\n",
              "1  2.0  3.0    6.0\n",
              "2  4.0  5.0   20.0\n",
              "3  6.0  7.0   42.0\n",
              "4  8.0  9.0   72.0"
            ]
          },
          "metadata": {}
        }
      ]
    },
    {
      "cell_type": "markdown",
      "metadata": {
        "id": "OJUnEnkB309V"
      },
      "source": [
        "### C. 다항(Polynomial) 회귀 - 보스톤 데이터"
      ],
      "id": "OJUnEnkB309V"
    },
    {
      "cell_type": "markdown",
      "metadata": {
        "id": "xOQmp3yH309V"
      },
      "source": [
        "#### 보스톤 데이터에 2차항 다항 변환 적용"
      ],
      "id": "xOQmp3yH309V"
    },
    {
      "cell_type": "code",
      "metadata": {
        "id": "Yipo_y8t309V",
        "colab": {
          "base_uri": "https://localhost:8080/"
        },
        "outputId": "2bfb4fbd-8ff6-4c2f-ae3b-cde79c39bc96"
      },
      "source": [
        "from sklearn.preprocessing import PolynomialFeatures\n",
        "# 1. 2차항 다항 변환에 사용할  PolynomialFeatures 객체를 생성하여 P로 이름 붙인다.\n",
        "#    단, 상수항은 제외하도록 한다\n",
        "# 2. df(보스턴 데이터의 DataFrame) 의 'CRIM':'LSTAT' 열에 대해 다항 변환을 적용하여\n",
        "#    x_poly 이름을 붙인다.\n",
        "# 3. x_poly와 y를 75%:25% 비율로 분할하여 x_train, x_test, y_train, y_test를 생성한다\n",
        "#    이때, random_state=0을 사용한다.\n",
        "\n",
        "df = pd.read_csv('boston.csv')\n",
        "X = df.loc[:, 'CRIM':'LSTAT']\n",
        "y = df['PRICE']\n",
        "\n",
        "degree = 2\n",
        "P = PolynomialFeatures(degree)\n",
        "x_poly = P.fit_transform(X)\n",
        "x_train, x_test, y_train, y_test = train_test_split(x_poly, y, test_size=0.25, random_state=0)\n",
        "\n",
        "# df의 'CRIM':'LSTAT' 열에대한 shape과 x_poly의 shape을 출력하여 비교한다\n",
        "X.shape, x_poly.shape"
      ],
      "id": "Yipo_y8t309V",
      "execution_count": 40,
      "outputs": [
        {
          "output_type": "execute_result",
          "data": {
            "text/plain": [
              "((506, 13), (506, 105))"
            ]
          },
          "metadata": {},
          "execution_count": 40
        }
      ]
    },
    {
      "cell_type": "markdown",
      "metadata": {
        "id": "7ns-h_dY309V"
      },
      "source": [
        "#### 모델 생성 및 학습\n",
        "- 과대적합을 확인한다!\n",
        "- train 데이터가 0.7697 -> 0.9520로 성능이 좋아졌음\n",
        "- train과 test 데이터의 성능차이가 크며, test 데이터 쪽의 성능이 좋지 않음"
      ],
      "id": "7ns-h_dY309V"
    },
    {
      "cell_type": "code",
      "metadata": {
        "id": "_gVdFvcu309W",
        "colab": {
          "base_uri": "https://localhost:8080/"
        },
        "outputId": "61c1dd8f-f88c-45c9-b2b8-e0e275f4fc77"
      },
      "source": [
        "from sklearn.linear_model import LinearRegression\n",
        "# 선형회귀 모델을 생성하고, train 데이터를 사용하여 훈련시킨다. \n",
        "model = LinearRegression().fit(x_train, y_train)\n",
        "# train, test 데이터를 사용해 모델의 성능을 평가한다\n",
        "model.score(x_train, y_train), model.score(x_test, y_test) #과대적합이 일어남"
      ],
      "id": "_gVdFvcu309W",
      "execution_count": 41,
      "outputs": [
        {
          "output_type": "execute_result",
          "data": {
            "text/plain": [
              "(0.9216542085410881, 0.5515684003897579)"
            ]
          },
          "metadata": {},
          "execution_count": 41
        }
      ]
    },
    {
      "cell_type": "markdown",
      "metadata": {
        "id": "0E3B-s5e309W"
      },
      "source": [
        "#### 보스톤 데이터에 3차항 다항 변환 적용"
      ],
      "id": "0E3B-s5e309W"
    },
    {
      "cell_type": "code",
      "metadata": {
        "id": "K6QBUrGZ309W",
        "colab": {
          "base_uri": "https://localhost:8080/"
        },
        "outputId": "f9b6eb88-76e8-4659-a635-aefcb1f8d434"
      },
      "source": [
        "degree = 3\n",
        "P = PolynomialFeatures(degree)\n",
        "x_poly = P.fit_transform(X)\n",
        "x_train, x_test, y_train, y_test = train_test_split(x_poly, y, \n",
        "                                                    test_size=0.25, \n",
        "                                                    random_state=0)\n",
        "model = LinearRegression().fit(x_train, y_train)\n",
        "model.score(x_train, y_train), model.score(x_test, y_test) #과대적합이 일어남"
      ],
      "id": "K6QBUrGZ309W",
      "execution_count": 42,
      "outputs": [
        {
          "output_type": "execute_result",
          "data": {
            "text/plain": [
              "(1.0, -9443.833966314152)"
            ]
          },
          "metadata": {},
          "execution_count": 42
        }
      ]
    },
    {
      "cell_type": "markdown",
      "metadata": {
        "id": "rXKg6vw1309W"
      },
      "source": [
        "#### 보스톤 데이터에 5차항 다항 변환 적용"
      ],
      "id": "rXKg6vw1309W"
    },
    {
      "cell_type": "code",
      "metadata": {
        "id": "x9ptHMlp309W",
        "colab": {
          "base_uri": "https://localhost:8080/"
        },
        "outputId": "c245d6a3-7839-4687-86f7-fc0be676a35d"
      },
      "source": [
        "degree = 5\n",
        "P = PolynomialFeatures(degree)\n",
        "x_poly = P.fit_transform(X)\n",
        "x_train, x_test, y_train, y_test = train_test_split(x_poly, y, \n",
        "                                                    test_size=0.25, \n",
        "                                                    random_state=0)\n",
        "model = LinearRegression().fit(x_train, y_train)\n",
        "model.score(x_train, y_train), model.score(x_test, y_test)  #과대적합이 일어남"
      ],
      "id": "x9ptHMlp309W",
      "execution_count": 43,
      "outputs": [
        {
          "output_type": "execute_result",
          "data": {
            "text/plain": [
              "(1.0, -135.30506301663286)"
            ]
          },
          "metadata": {},
          "execution_count": 43
        }
      ]
    },
    {
      "cell_type": "code",
      "metadata": {
        "id": "V4UAbEfhPElD"
      },
      "source": [
        "#함수화\n",
        "def get_boston_scores(X, y, degree=2):\n",
        "  P = PolynomialFeatures(degree)\n",
        "  x_poly = P.fit_transform(X)\n",
        "  x_train, x_test, y_train, y_test = train_test_split(x_poly, y, \n",
        "                                                      test_size=0.25, \n",
        "                                                      random_state=0)\n",
        "  model = LinearRegression().fit(x_train, y_train)\n",
        "  return model.score(x_train, y_train), model.score(x_test, y_test)  #과대적합이 일어남"
      ],
      "id": "V4UAbEfhPElD",
      "execution_count": 47,
      "outputs": []
    },
    {
      "cell_type": "code",
      "metadata": {
        "colab": {
          "base_uri": "https://localhost:8080/"
        },
        "id": "2SSjP51EPqEu",
        "outputId": "03109439-544f-4e8a-b300-414ed7e2f35e"
      },
      "source": [
        "for degree in range(2,6):\n",
        "  print(get_boston_scores(X, y, degree))"
      ],
      "id": "2SSjP51EPqEu",
      "execution_count": 48,
      "outputs": [
        {
          "output_type": "stream",
          "text": [
            "(0.9216542085410881, 0.5515684003897579)\n",
            "(1.0, -9443.833966314152)\n",
            "(1.0, -1144.2632682866185)\n",
            "(1.0, -135.30506301663286)\n"
          ],
          "name": "stdout"
        }
      ]
    },
    {
      "cell_type": "markdown",
      "metadata": {
        "id": "WD75TJlG309W"
      },
      "source": [
        "### D. Regularization\n",
        "- 다항회귀 시 차수가 높아 질 수록 과대적합이 발생하여 예측 성능이 저하되는 문제가 발생\n",
        "- 과대적합을 방지하기 위해서는 가중치의 크기를 제어 필요\n",
        "- 기존의 비용 함수에 규제(Penalty) 항을 추가하여 가중치의 크기를 제어 가능"
      ],
      "id": "WD75TJlG309W"
    }
  ]
}