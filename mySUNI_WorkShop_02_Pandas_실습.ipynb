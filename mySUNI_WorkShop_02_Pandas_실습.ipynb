{
  "nbformat": 4,
  "nbformat_minor": 0,
  "metadata": {
    "kernelspec": {
      "display_name": "Python 3",
      "language": "python",
      "name": "python3"
    },
    "language_info": {
      "codemirror_mode": {
        "name": "ipython",
        "version": 3
      },
      "file_extension": ".py",
      "mimetype": "text/x-python",
      "name": "python",
      "nbconvert_exporter": "python",
      "pygments_lexer": "ipython3",
      "version": "3.8.5"
    },
    "colab": {
      "name": "mySUNI-WorkShop-02-Pandas-실습.ipynb",
      "provenance": [],
      "include_colab_link": true
    }
  },
  "cells": [
    {
      "cell_type": "markdown",
      "metadata": {
        "id": "view-in-github",
        "colab_type": "text"
      },
      "source": [
        "<a href=\"https://colab.research.google.com/github/skyworld19/ds-school-advanced/blob/master/mySUNI_WorkShop_02_Pandas_%EC%8B%A4%EC%8A%B5.ipynb\" target=\"_parent\"><img src=\"https://colab.research.google.com/assets/colab-badge.svg\" alt=\"Open In Colab\"/></a>"
      ]
    },
    {
      "cell_type": "code",
      "metadata": {
        "id": "ZKNDY_WUbwPX"
      },
      "source": [
        "import pandas as pd\n",
        "import numpy as np"
      ],
      "execution_count": null,
      "outputs": []
    },
    {
      "cell_type": "markdown",
      "metadata": {
        "id": "oWn4a96QbwPa"
      },
      "source": [
        "# 데이터 프레임 생성\n",
        "1) 100에서 200 사이의 값을 60개를 생성합니다(np.random.randint 이용)\n",
        "\n",
        "2) 생성한 결과를 12,5 형태로 변환합니다.\n",
        "\n",
        "3) 변환된 데이터를 이용하여 df 데이터 프레임을 생성합니다."
      ]
    },
    {
      "cell_type": "code",
      "metadata": {
        "scrolled": true,
        "id": "-NcHLzhDbwPb"
      },
      "source": [
        "#코드를 입력해 주세요\n",
        "np.random.seed(1234)\n",
        "df = pd.DataFrame(np.random.randint(100,200,60).reshape(12, 5))\n",
        "df"
      ],
      "execution_count": null,
      "outputs": []
    },
    {
      "cell_type": "markdown",
      "metadata": {
        "id": "BZZqkpKXbwPd"
      },
      "source": [
        "# 컬럼명 변경\n",
        "- 컬럼명을 ['P01', 'P02', 'P03', 'P04', 'P05']로 수정하세요."
      ]
    },
    {
      "cell_type": "code",
      "metadata": {
        "id": "GXxr24FzbwPe"
      },
      "source": [
        "#코드를 입력해 주세요\n",
        "# columns 속성 이용\n"
      ],
      "execution_count": null,
      "outputs": []
    },
    {
      "cell_type": "markdown",
      "metadata": {
        "id": "xkHTA7MFbwPf"
      },
      "source": [
        "# 인덱스 변경\n",
        "- 인덱스를 2020년 1월 부터 2020년 12월까지 마지막 요일로 설정하세요. "
      ]
    },
    {
      "cell_type": "code",
      "metadata": {
        "id": "1i7jOV3YbwPg"
      },
      "source": [
        "#코드를 입력해 주세요\n",
        "# index 생성 \n",
        "# date_range 함수 이용 (주기는 월(M)으로 설정)\n",
        "date = pd.date_range('20200101','20201231', freq='M')\n",
        "\n",
        "# index 속성 이용하여 date 변수를 index로 지정하세요.\n",
        "코드"
      ],
      "execution_count": null,
      "outputs": []
    },
    {
      "cell_type": "markdown",
      "metadata": {
        "id": "pH_c7CljbwRy"
      },
      "source": [
        "# 데이터 선택\n",
        "- 2020년 4월부터 6월까지 행을 출력하세요."
      ]
    },
    {
      "cell_type": "code",
      "metadata": {
        "id": "8HtRzwDubwR3"
      },
      "source": [
        "#코드를 입력해 주세요\n"
      ],
      "execution_count": null,
      "outputs": []
    },
    {
      "cell_type": "markdown",
      "metadata": {
        "id": "_hyMq66_bwR5"
      },
      "source": [
        "- 2020년 05월 31일의 P01 컬럼 ~ P03 컬럼을 출력하세요."
      ]
    },
    {
      "cell_type": "code",
      "metadata": {
        "id": "_yaEbSe5bwR6"
      },
      "source": [
        "#코드를 입력해 주세요\n"
      ],
      "execution_count": null,
      "outputs": []
    },
    {
      "cell_type": "markdown",
      "metadata": {
        "id": "BprO_XKrbwR7"
      },
      "source": [
        "- 2020년 01월 31일의 P01 컬럼부터 P05 컬럼의 값을 0으로 설정하세요."
      ]
    },
    {
      "cell_type": "code",
      "metadata": {
        "id": "qVy9GMrKbwR8"
      },
      "source": [
        "#코드를 입력해 주세요\n",
        "# df.loc[행 인덱스, 열 인덱스] = 값\n"
      ],
      "execution_count": null,
      "outputs": []
    },
    {
      "cell_type": "markdown",
      "metadata": {
        "id": "DetDYmP4bwR8"
      },
      "source": [
        "- 각 행의 합을 이용하여 Total 컬럼을 생성하세요\n",
        "    - total = P01 + P02 + P03 + P04 + P05"
      ]
    },
    {
      "cell_type": "code",
      "metadata": {
        "id": "lxTFQg7ZbwR9"
      },
      "source": [
        "#코드를 입력해 주세요\n",
        "# df[새로운컬럼명] = 값\n"
      ],
      "execution_count": null,
      "outputs": []
    },
    {
      "cell_type": "markdown",
      "metadata": {
        "id": "tR6o3vbNbwR9"
      },
      "source": [
        "- Total 컬럼을 Total 컬럼의 총합 값으로 나누어 Total Rate 컬럼을 생성하세요."
      ]
    },
    {
      "cell_type": "code",
      "metadata": {
        "scrolled": true,
        "id": "jmZRx3NcbwR9"
      },
      "source": [
        "#코드를 입력해 주세요\n"
      ],
      "execution_count": null,
      "outputs": []
    },
    {
      "cell_type": "markdown",
      "metadata": {
        "id": "mTcMplr8bwR9"
      },
      "source": [
        "- Total Rate 컬럼이 가장 낮은 3달을 출력하세요."
      ]
    },
    {
      "cell_type": "code",
      "metadata": {
        "id": "NKfHG5-5bwR9"
      },
      "source": [
        "#코드를 입력해 주세요\n"
      ],
      "execution_count": null,
      "outputs": []
    },
    {
      "cell_type": "markdown",
      "metadata": {
        "id": "-mxxnelrbwR-"
      },
      "source": [
        "- Total 값이 700 미만인 데이터를 출력하세요."
      ]
    },
    {
      "cell_type": "code",
      "metadata": {
        "id": "zpn2t6LYbwR-"
      },
      "source": [
        "#코드를 입력해 주세요\n"
      ],
      "execution_count": null,
      "outputs": []
    },
    {
      "cell_type": "markdown",
      "metadata": {
        "id": "R07ONWsqbwR_"
      },
      "source": [
        "- Total 값이 700 미만이면 Bad 700 이상이면 Good의 값을 가지는 state 컬럼을 생성하세요."
      ]
    },
    {
      "cell_type": "code",
      "metadata": {
        "id": "2vkqacHxbwR_"
      },
      "source": [
        "#코드를 입력해 주세요\n",
        "df.loc[조건, 컬럼명] = 값 # Bad\n",
        "df.loc[조건, 컬럼명] = 값 # Good"
      ],
      "execution_count": null,
      "outputs": []
    },
    {
      "cell_type": "markdown",
      "metadata": {
        "id": "mGQ3NwTYbwR_"
      },
      "source": [
        "- state 컬럼의 Good과 Bad의 갯수를 계산하세요."
      ]
    },
    {
      "cell_type": "code",
      "metadata": {
        "id": "91bZfKWobwSA"
      },
      "source": [
        "#코드를 입력해 주세요\n"
      ],
      "execution_count": null,
      "outputs": []
    },
    {
      "cell_type": "markdown",
      "metadata": {
        "id": "a2C_jobcbwSA"
      },
      "source": [
        "- 합계 행을 추가하세요."
      ]
    },
    {
      "cell_type": "code",
      "metadata": {
        "id": "zGOl7zXSbwSA"
      },
      "source": [
        "#코드를 입력해 주세요\n",
        "df.loc[행 이름, 열 범위] = 값"
      ],
      "execution_count": null,
      "outputs": []
    },
    {
      "cell_type": "markdown",
      "metadata": {
        "id": "E1-6PKOcbwSA"
      },
      "source": [
        "- Total 컬럼의 합계 값을 이용하여 P01부터 P05까지의 비율을 계산 후 합계 비율 행을 추가하세요."
      ]
    },
    {
      "cell_type": "code",
      "metadata": {
        "id": "FXtJWo6HbwSA"
      },
      "source": [
        "#코드를 입력해 주세요\n",
        "df.loc[행 이름, 열 범위] = 값"
      ],
      "execution_count": null,
      "outputs": []
    }
  ]
}