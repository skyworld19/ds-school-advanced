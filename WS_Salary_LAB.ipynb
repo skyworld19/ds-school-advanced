{
  "nbformat": 4,
  "nbformat_minor": 0,
  "metadata": {
    "colab": {
      "name": "WS_Salary_LAB.ipynb",
      "provenance": [],
      "collapsed_sections": [],
      "include_colab_link": true
    },
    "kernelspec": {
      "display_name": "Python 3",
      "language": "python",
      "name": "python3"
    },
    "language_info": {
      "codemirror_mode": {
        "name": "ipython",
        "version": 3
      },
      "file_extension": ".py",
      "mimetype": "text/x-python",
      "name": "python",
      "nbconvert_exporter": "python",
      "pygments_lexer": "ipython3",
      "version": "3.8.3"
    }
  },
  "cells": [
    {
      "cell_type": "markdown",
      "metadata": {
        "id": "view-in-github",
        "colab_type": "text"
      },
      "source": [
        "<a href=\"https://colab.research.google.com/github/skyworld19/ds-school-advanced/blob/master/WS_Salary_LAB.ipynb\" target=\"_parent\"><img src=\"https://colab.research.google.com/assets/colab-badge.svg\" alt=\"Open In Colab\"/></a>"
      ]
    },
    {
      "cell_type": "markdown",
      "metadata": {
        "id": "t9-JNjdxMXD_"
      },
      "source": [
        "### Salary 데이타 분석"
      ]
    },
    {
      "cell_type": "markdown",
      "metadata": {
        "id": "qsdDdyISMrHS"
      },
      "source": [
        "#### import 및 한글 폰트 등록"
      ]
    },
    {
      "cell_type": "code",
      "metadata": {
        "id": "YQzdSG59n-Qz"
      },
      "source": [
        "import matplotlib.pyplot as plt\n",
        "import seaborn as sns\n",
        "import pandas as pd\n",
        "from   pandas import Series, DataFrame\n",
        "import numpy  as np"
      ],
      "execution_count": null,
      "outputs": []
    },
    {
      "cell_type": "code",
      "metadata": {
        "id": "gDgAHYwr8reQ"
      },
      "source": [
        "#데이타가 많은경우 모두 출력 안되고 ... 으로 생략해서 출력됨.\n",
        "pd.set_option('max_rows',500)    #출력할 max row를 지정\n",
        "pd.set_option('max_columns',20)  #출력할 max columns를 지정\n",
        "#출력 format 지정 \n",
        "pd.set_option('display.float_format', '{:,.2f}'.format)"
      ],
      "execution_count": null,
      "outputs": []
    },
    {
      "cell_type": "markdown",
      "metadata": {
        "id": "bZqymsBRMy1-"
      },
      "source": [
        "#### DataFrame 생성"
      ]
    },
    {
      "cell_type": "markdown",
      "metadata": {
        "id": "OQUnJaf6-SQs"
      },
      "source": [
        "read_csv(파일명, ....)  <br/>\n",
        "encoding : 데이타의 문자 코드 형식(한글은 UTF-8,EUC-KR)<br/>\n",
        "  cp949  : 윈도우에서 작성된 한글 <br/>\n",
        "na_values: 결측치를 표현하는 문자를 NaN으로 변환<br/>\n",
        "header     : 파일 데이타에 column을 사용할지 여부<br/>\n",
        "skiprows  : skip하고 읽을 row 개수<br/>\n",
        "names      : 컬럼명을 새로 부여<br/>"
      ]
    },
    {
      "cell_type": "code",
      "metadata": {
        "colab": {
          "base_uri": "https://localhost:8080/",
          "height": 206
        },
        "id": "UiOwM6Qs-T13",
        "outputId": "0f3be2a3-1162-412b-c488-bec0d3e16166"
      },
      "source": [
        "# [1] salary.csv 파일을 읽어 df로 저장한다\n",
        "# '-'를 NA Value 로 처리하기 위해 na_values='-' 를 사용한다\n",
        "df = pd.read_csv('salary.csv', na_values='-')\n",
        "\n",
        "# [2] df의 상위 5줄을 출력하여 본다\n",
        "df.head()"
      ],
      "execution_count": null,
      "outputs": [
        {
          "output_type": "execute_result",
          "data": {
            "text/html": [
              "<div>\n",
              "<style scoped>\n",
              "    .dataframe tbody tr th:only-of-type {\n",
              "        vertical-align: middle;\n",
              "    }\n",
              "\n",
              "    .dataframe tbody tr th {\n",
              "        vertical-align: top;\n",
              "    }\n",
              "\n",
              "    .dataframe thead th {\n",
              "        text-align: right;\n",
              "    }\n",
              "</style>\n",
              "<table border=\"1\" class=\"dataframe\">\n",
              "  <thead>\n",
              "    <tr style=\"text-align: right;\">\n",
              "      <th></th>\n",
              "      <th>age</th>\n",
              "      <th>salary</th>\n",
              "      <th>specialSalary</th>\n",
              "      <th>workTime</th>\n",
              "      <th>numberOfWorker</th>\n",
              "      <th>career</th>\n",
              "      <th>gender</th>\n",
              "    </tr>\n",
              "  </thead>\n",
              "  <tbody>\n",
              "    <tr>\n",
              "      <th>0</th>\n",
              "      <td>-19</td>\n",
              "      <td>1346534.0</td>\n",
              "      <td>151840.0</td>\n",
              "      <td>169.5</td>\n",
              "      <td>15042.0</td>\n",
              "      <td>Under 1Y</td>\n",
              "      <td>M</td>\n",
              "    </tr>\n",
              "    <tr>\n",
              "      <th>1</th>\n",
              "      <td>20-24</td>\n",
              "      <td>1584214.0</td>\n",
              "      <td>115375.0</td>\n",
              "      <td>180.1</td>\n",
              "      <td>74251.0</td>\n",
              "      <td>Under 1Y</td>\n",
              "      <td>M</td>\n",
              "    </tr>\n",
              "    <tr>\n",
              "      <th>2</th>\n",
              "      <td>25-29</td>\n",
              "      <td>1922043.0</td>\n",
              "      <td>268058.0</td>\n",
              "      <td>178.0</td>\n",
              "      <td>143338.0</td>\n",
              "      <td>Under 1Y</td>\n",
              "      <td>M</td>\n",
              "    </tr>\n",
              "    <tr>\n",
              "      <th>3</th>\n",
              "      <td>30-34</td>\n",
              "      <td>2130988.0</td>\n",
              "      <td>335710.0</td>\n",
              "      <td>180.8</td>\n",
              "      <td>103585.0</td>\n",
              "      <td>Under 1Y</td>\n",
              "      <td>M</td>\n",
              "    </tr>\n",
              "    <tr>\n",
              "      <th>4</th>\n",
              "      <td>35-39</td>\n",
              "      <td>2414345.0</td>\n",
              "      <td>352816.0</td>\n",
              "      <td>181.4</td>\n",
              "      <td>65385.0</td>\n",
              "      <td>Under 1Y</td>\n",
              "      <td>M</td>\n",
              "    </tr>\n",
              "  </tbody>\n",
              "</table>\n",
              "</div>"
            ],
            "text/plain": [
              "     age     salary  specialSalary  workTime  numberOfWorker    career gender\n",
              "0    -19  1346534.0       151840.0     169.5         15042.0  Under 1Y      M\n",
              "1  20-24  1584214.0       115375.0     180.1         74251.0  Under 1Y      M\n",
              "2  25-29  1922043.0       268058.0     178.0        143338.0  Under 1Y      M\n",
              "3  30-34  2130988.0       335710.0     180.8        103585.0  Under 1Y      M\n",
              "4  35-39  2414345.0       352816.0     181.4         65385.0  Under 1Y      M"
            ]
          },
          "metadata": {},
          "execution_count": 3
        }
      ]
    },
    {
      "cell_type": "code",
      "metadata": {
        "colab": {
          "base_uri": "https://localhost:8080/"
        },
        "id": "61IkFk0SRF8a",
        "outputId": "6798fe61-f902-4258-a5ae-6ea3091aef39"
      },
      "source": [
        "# [3] df의 열에 대한 정보 Column 이름, Non-Null Count, Dtype 를 확인한다.\n",
        "df.info()"
      ],
      "execution_count": null,
      "outputs": [
        {
          "output_type": "stream",
          "name": "stdout",
          "text": [
            "<class 'pandas.core.frame.DataFrame'>\n",
            "RangeIndex: 100 entries, 0 to 99\n",
            "Data columns (total 7 columns):\n",
            " #   Column          Non-Null Count  Dtype  \n",
            "---  ------          --------------  -----  \n",
            " 0   age             100 non-null    object \n",
            " 1   salary          98 non-null     float64\n",
            " 2   specialSalary   97 non-null     float64\n",
            " 3   workTime        98 non-null     float64\n",
            " 4   numberOfWorker  98 non-null     float64\n",
            " 5   career          100 non-null    object \n",
            " 6   gender          100 non-null    object \n",
            "dtypes: float64(4), object(3)\n",
            "memory usage: 5.6+ KB\n"
          ]
        }
      ]
    },
    {
      "cell_type": "markdown",
      "metadata": {
        "id": "0Ro1awcj_BXS"
      },
      "source": [
        "#### 결측치 데이터 확인 및 처리"
      ]
    },
    {
      "cell_type": "code",
      "metadata": {
        "colab": {
          "base_uri": "https://localhost:8080/"
        },
        "id": "lNiZjjYY_EOp",
        "outputId": "4e187c87-1219-4b33-901e-5571c9a6e22c"
      },
      "source": [
        "# [4] df의 결측치 데이터를 확인한다.\n"
      ],
      "execution_count": null,
      "outputs": [
        {
          "output_type": "execute_result",
          "data": {
            "text/plain": [
              "age               0\n",
              "salary            2\n",
              "specialSalary     3\n",
              "workTime          2\n",
              "numberOfWorker    2\n",
              "career            0\n",
              "gender            0\n",
              "dtype: int64"
            ]
          },
          "metadata": {
            "tags": []
          },
          "execution_count": 6
        }
      ]
    },
    {
      "cell_type": "code",
      "metadata": {
        "colab": {
          "base_uri": "https://localhost:8080/",
          "height": 111
        },
        "id": "iaoWYExe_STK",
        "outputId": "9c7d503e-6197-4c82-96ff-ca2ba30af131"
      },
      "source": [
        "# [5] 결측 데이타중 salary의 NaN 값 정보를 확인한다 \n"
      ],
      "execution_count": null,
      "outputs": [
        {
          "output_type": "execute_result",
          "data": {
            "text/html": [
              "<div>\n",
              "<style scoped>\n",
              "    .dataframe tbody tr th:only-of-type {\n",
              "        vertical-align: middle;\n",
              "    }\n",
              "\n",
              "    .dataframe tbody tr th {\n",
              "        vertical-align: top;\n",
              "    }\n",
              "\n",
              "    .dataframe thead th {\n",
              "        text-align: right;\n",
              "    }\n",
              "</style>\n",
              "<table border=\"1\" class=\"dataframe\">\n",
              "  <thead>\n",
              "    <tr style=\"text-align: right;\">\n",
              "      <th></th>\n",
              "      <th>age</th>\n",
              "      <th>salary</th>\n",
              "      <th>specialSalary</th>\n",
              "      <th>workTime</th>\n",
              "      <th>numberOfWorker</th>\n",
              "      <th>career</th>\n",
              "      <th>gender</th>\n",
              "    </tr>\n",
              "  </thead>\n",
              "  <tbody>\n",
              "    <tr>\n",
              "      <th>40</th>\n",
              "      <td>-19</td>\n",
              "      <td>nan</td>\n",
              "      <td>nan</td>\n",
              "      <td>nan</td>\n",
              "      <td>nan</td>\n",
              "      <td>Above 10Y</td>\n",
              "      <td>M</td>\n",
              "    </tr>\n",
              "    <tr>\n",
              "      <th>90</th>\n",
              "      <td>-19</td>\n",
              "      <td>nan</td>\n",
              "      <td>nan</td>\n",
              "      <td>nan</td>\n",
              "      <td>nan</td>\n",
              "      <td>Above 10Y</td>\n",
              "      <td>F</td>\n",
              "    </tr>\n",
              "  </tbody>\n",
              "</table>\n",
              "</div>"
            ],
            "text/plain": [
              "    age  salary  specialSalary  workTime  numberOfWorker     career gender\n",
              "40  -19     nan            nan       nan             nan  Above 10Y      M\n",
              "90  -19     nan            nan       nan             nan  Above 10Y      F"
            ]
          },
          "metadata": {
            "tags": []
          },
          "execution_count": 7
        }
      ]
    },
    {
      "cell_type": "code",
      "metadata": {
        "colab": {
          "base_uri": "https://localhost:8080/",
          "height": 143
        },
        "id": "YI_gBN4X_r_k",
        "outputId": "f3809e0b-a10d-44fe-e6e6-d4ced6e46166"
      },
      "source": [
        "# [6] 결측 데이타중 specialSalary의 NaN 값 정보를 확인한다 \n"
      ],
      "execution_count": null,
      "outputs": [
        {
          "output_type": "execute_result",
          "data": {
            "text/html": [
              "<div>\n",
              "<style scoped>\n",
              "    .dataframe tbody tr th:only-of-type {\n",
              "        vertical-align: middle;\n",
              "    }\n",
              "\n",
              "    .dataframe tbody tr th {\n",
              "        vertical-align: top;\n",
              "    }\n",
              "\n",
              "    .dataframe thead th {\n",
              "        text-align: right;\n",
              "    }\n",
              "</style>\n",
              "<table border=\"1\" class=\"dataframe\">\n",
              "  <thead>\n",
              "    <tr style=\"text-align: right;\">\n",
              "      <th></th>\n",
              "      <th>age</th>\n",
              "      <th>salary</th>\n",
              "      <th>specialSalary</th>\n",
              "      <th>workTime</th>\n",
              "      <th>numberOfWorker</th>\n",
              "      <th>career</th>\n",
              "      <th>gender</th>\n",
              "    </tr>\n",
              "  </thead>\n",
              "  <tbody>\n",
              "    <tr>\n",
              "      <th>30</th>\n",
              "      <td>-19</td>\n",
              "      <td>2,483,000.00</td>\n",
              "      <td>nan</td>\n",
              "      <td>226.00</td>\n",
              "      <td>12.00</td>\n",
              "      <td>Under 5~10Y</td>\n",
              "      <td>M</td>\n",
              "    </tr>\n",
              "    <tr>\n",
              "      <th>40</th>\n",
              "      <td>-19</td>\n",
              "      <td>nan</td>\n",
              "      <td>nan</td>\n",
              "      <td>nan</td>\n",
              "      <td>nan</td>\n",
              "      <td>Above 10Y</td>\n",
              "      <td>M</td>\n",
              "    </tr>\n",
              "    <tr>\n",
              "      <th>90</th>\n",
              "      <td>-19</td>\n",
              "      <td>nan</td>\n",
              "      <td>nan</td>\n",
              "      <td>nan</td>\n",
              "      <td>nan</td>\n",
              "      <td>Above 10Y</td>\n",
              "      <td>F</td>\n",
              "    </tr>\n",
              "  </tbody>\n",
              "</table>\n",
              "</div>"
            ],
            "text/plain": [
              "    age       salary  specialSalary  workTime  numberOfWorker       career  \\\n",
              "30  -19 2,483,000.00            nan    226.00           12.00  Under 5~10Y   \n",
              "40  -19          nan            nan       nan             nan    Above 10Y   \n",
              "90  -19          nan            nan       nan             nan    Above 10Y   \n",
              "\n",
              "   gender  \n",
              "30      M  \n",
              "40      M  \n",
              "90      F  "
            ]
          },
          "metadata": {
            "tags": []
          },
          "execution_count": 8
        }
      ]
    },
    {
      "cell_type": "code",
      "metadata": {
        "colab": {
          "base_uri": "https://localhost:8080/",
          "height": 111
        },
        "id": "yahDA6DZDeGJ",
        "outputId": "ba9d75d7-cb56-4068-dacd-2045638bd8e5"
      },
      "source": [
        "# [7] specialSalary의 결측치에 대해 0으로 대체하는 결측치 처리를 한다.\n",
        "\n",
        "\n",
        "# 결과 확인 - 표시 되지 않음 확인\n",
        "df[df.specialSalary.isna()]"
      ],
      "execution_count": null,
      "outputs": [
        {
          "output_type": "execute_result",
          "data": {
            "text/html": [
              "<div>\n",
              "<style scoped>\n",
              "    .dataframe tbody tr th:only-of-type {\n",
              "        vertical-align: middle;\n",
              "    }\n",
              "\n",
              "    .dataframe tbody tr th {\n",
              "        vertical-align: top;\n",
              "    }\n",
              "\n",
              "    .dataframe thead th {\n",
              "        text-align: right;\n",
              "    }\n",
              "</style>\n",
              "<table border=\"1\" class=\"dataframe\">\n",
              "  <thead>\n",
              "    <tr style=\"text-align: right;\">\n",
              "      <th></th>\n",
              "      <th>age</th>\n",
              "      <th>salary</th>\n",
              "      <th>specialSalary</th>\n",
              "      <th>workTime</th>\n",
              "      <th>numberOfWorker</th>\n",
              "      <th>career</th>\n",
              "      <th>gender</th>\n",
              "    </tr>\n",
              "  </thead>\n",
              "  <tbody>\n",
              "  </tbody>\n",
              "</table>\n",
              "</div>"
            ],
            "text/plain": [
              "Empty DataFrame\n",
              "Columns: [age, salary, specialSalary, workTime, numberOfWorker, career, gender]\n",
              "Index: []"
            ]
          },
          "metadata": {
            "tags": []
          },
          "execution_count": 9
        }
      ]
    },
    {
      "cell_type": "code",
      "metadata": {
        "colab": {
          "base_uri": "https://localhost:8080/",
          "height": 49
        },
        "id": "gqRqIC2_Dr95",
        "outputId": "311ad754-a3fa-42eb-bc20-86a4efda9bfa"
      },
      "source": [
        "# [8] salary의 결측치는 삭제 ==> 급여 정보를 분석 중인데 salary가 없으면 분석할 수 없기 때문에 \n",
        "\n",
        "\n",
        "# 결과 확인 - 표시 되지 않음 확인\n",
        "df[df.salary.isna()]"
      ],
      "execution_count": null,
      "outputs": [
        {
          "output_type": "execute_result",
          "data": {
            "text/html": [
              "<div>\n",
              "<style scoped>\n",
              "    .dataframe tbody tr th:only-of-type {\n",
              "        vertical-align: middle;\n",
              "    }\n",
              "\n",
              "    .dataframe tbody tr th {\n",
              "        vertical-align: top;\n",
              "    }\n",
              "\n",
              "    .dataframe thead th {\n",
              "        text-align: right;\n",
              "    }\n",
              "</style>\n",
              "<table border=\"1\" class=\"dataframe\">\n",
              "  <thead>\n",
              "    <tr style=\"text-align: right;\">\n",
              "      <th></th>\n",
              "      <th>age</th>\n",
              "      <th>salary</th>\n",
              "      <th>specialSalary</th>\n",
              "      <th>workTime</th>\n",
              "      <th>numberOfWorker</th>\n",
              "      <th>career</th>\n",
              "      <th>gender</th>\n",
              "    </tr>\n",
              "  </thead>\n",
              "  <tbody>\n",
              "  </tbody>\n",
              "</table>\n",
              "</div>"
            ],
            "text/plain": [
              "Empty DataFrame\n",
              "Columns: [age, salary, specialSalary, workTime, numberOfWorker, career, gender]\n",
              "Index: []"
            ]
          },
          "metadata": {
            "tags": []
          },
          "execution_count": 10
        }
      ]
    },
    {
      "cell_type": "code",
      "metadata": {
        "colab": {
          "base_uri": "https://localhost:8080/"
        },
        "id": "u2-yPHgHTG75",
        "outputId": "a4baae32-cdb4-4248-a397-a506e5aac057"
      },
      "source": [
        "# [9] df의 결측치 데이터가 제거 된 것을 확인한다\n"
      ],
      "execution_count": null,
      "outputs": [
        {
          "output_type": "execute_result",
          "data": {
            "text/plain": [
              "age               0\n",
              "salary            0\n",
              "specialSalary     0\n",
              "workTime          0\n",
              "numberOfWorker    0\n",
              "career            0\n",
              "gender            0\n",
              "dtype: int64"
            ]
          },
          "metadata": {
            "tags": []
          },
          "execution_count": 11
        }
      ]
    },
    {
      "cell_type": "markdown",
      "metadata": {
        "id": "GZcPPvKqNA3V"
      },
      "source": [
        "#### 범주형 데이타 확인"
      ]
    },
    {
      "cell_type": "code",
      "metadata": {
        "colab": {
          "base_uri": "https://localhost:8080/",
          "height": 88
        },
        "id": "95nCf_kDEz2i",
        "outputId": "85a79d14-9dea-4463-973c-b26af03320f5"
      },
      "source": [
        "# [10] gender의 factor(Label) 및 빈도수 확인\n"
      ],
      "execution_count": null,
      "outputs": [
        {
          "output_type": "display_data",
          "data": {
            "text/plain": [
              "F    49\n",
              "M    49\n",
              "Name: gender, dtype: int64"
            ]
          },
          "metadata": {
            "tags": []
          }
        }
      ]
    },
    {
      "cell_type": "code",
      "metadata": {
        "colab": {
          "base_uri": "https://localhost:8080/",
          "height": 247
        },
        "id": "D0emWQcOFR94",
        "outputId": "55a1c81f-c8fb-4ab0-e12f-71e65fe97a10"
      },
      "source": [
        "# [11] age의 factor(Label) 및 빈도수 확인\n"
      ],
      "execution_count": null,
      "outputs": [
        {
          "output_type": "display_data",
          "data": {
            "text/plain": [
              "50-54    10\n",
              "35-39    10\n",
              "30-34    10\n",
              "45-49    10\n",
              "40-44    10\n",
              "60-      10\n",
              "55-59    10\n",
              "20-24    10\n",
              "25-29    10\n",
              "-19       8\n",
              "Name: age, dtype: int64"
            ]
          },
          "metadata": {
            "tags": []
          }
        }
      ]
    },
    {
      "cell_type": "code",
      "metadata": {
        "colab": {
          "base_uri": "https://localhost:8080/",
          "height": 141
        },
        "id": "HQa7VKYkFxEG",
        "outputId": "5e0bbdb4-d198-4b16-f5af-bcfb9dfbad59"
      },
      "source": [
        "# [12] career의 factor(Label) 및 빈도수 확인\n"
      ],
      "execution_count": null,
      "outputs": [
        {
          "output_type": "display_data",
          "data": {
            "text/plain": [
              "Under 1~3Y     20\n",
              "Under 5~10Y    20\n",
              "Under 1Y       20\n",
              "Under 3~5Y     20\n",
              "Above 10Y      18\n",
              "Name: career, dtype: int64"
            ]
          },
          "metadata": {
            "tags": []
          }
        }
      ]
    },
    {
      "cell_type": "markdown",
      "metadata": {
        "id": "IXa_63j_NFDJ"
      },
      "source": [
        "#### 기술 통계 및 시각화"
      ]
    },
    {
      "cell_type": "code",
      "metadata": {
        "colab": {
          "base_uri": "https://localhost:8080/",
          "height": 298
        },
        "id": "smnCYzUEU7S7",
        "outputId": "ab240dfc-600f-4c4d-c101-9396b9fee71e"
      },
      "source": [
        "# [13] df의 통계값을 확인한다\n"
      ],
      "execution_count": null,
      "outputs": [
        {
          "output_type": "execute_result",
          "data": {
            "text/html": [
              "<div>\n",
              "<style scoped>\n",
              "    .dataframe tbody tr th:only-of-type {\n",
              "        vertical-align: middle;\n",
              "    }\n",
              "\n",
              "    .dataframe tbody tr th {\n",
              "        vertical-align: top;\n",
              "    }\n",
              "\n",
              "    .dataframe thead th {\n",
              "        text-align: right;\n",
              "    }\n",
              "</style>\n",
              "<table border=\"1\" class=\"dataframe\">\n",
              "  <thead>\n",
              "    <tr style=\"text-align: right;\">\n",
              "      <th></th>\n",
              "      <th>salary</th>\n",
              "      <th>specialSalary</th>\n",
              "      <th>workTime</th>\n",
              "      <th>numberOfWorker</th>\n",
              "    </tr>\n",
              "  </thead>\n",
              "  <tbody>\n",
              "    <tr>\n",
              "      <th>count</th>\n",
              "      <td>98.00</td>\n",
              "      <td>98.00</td>\n",
              "      <td>98.00</td>\n",
              "      <td>98.00</td>\n",
              "    </tr>\n",
              "    <tr>\n",
              "      <th>mean</th>\n",
              "      <td>2,171,577.84</td>\n",
              "      <td>3,225,144.84</td>\n",
              "      <td>177.76</td>\n",
              "      <td>88,611.67</td>\n",
              "    </tr>\n",
              "    <tr>\n",
              "      <th>std</th>\n",
              "      <td>640,129.61</td>\n",
              "      <td>3,109,727.69</td>\n",
              "      <td>11.35</td>\n",
              "      <td>98,820.78</td>\n",
              "    </tr>\n",
              "    <tr>\n",
              "      <th>min</th>\n",
              "      <td>1,117,605.00</td>\n",
              "      <td>0.00</td>\n",
              "      <td>148.00</td>\n",
              "      <td>12.00</td>\n",
              "    </tr>\n",
              "    <tr>\n",
              "      <th>25%</th>\n",
              "      <td>1,689,658.25</td>\n",
              "      <td>609,992.25</td>\n",
              "      <td>170.00</td>\n",
              "      <td>32,572.00</td>\n",
              "    </tr>\n",
              "    <tr>\n",
              "      <th>50%</th>\n",
              "      <td>2,120,345.00</td>\n",
              "      <td>2,338,585.50</td>\n",
              "      <td>178.05</td>\n",
              "      <td>60,157.50</td>\n",
              "    </tr>\n",
              "    <tr>\n",
              "      <th>75%</th>\n",
              "      <td>2,519,221.25</td>\n",
              "      <td>5,086,082.00</td>\n",
              "      <td>183.90</td>\n",
              "      <td>100,778.75</td>\n",
              "    </tr>\n",
              "    <tr>\n",
              "      <th>max</th>\n",
              "      <td>4,064,286.00</td>\n",
              "      <td>13,252,036.00</td>\n",
              "      <td>226.00</td>\n",
              "      <td>533,852.00</td>\n",
              "    </tr>\n",
              "  </tbody>\n",
              "</table>\n",
              "</div>"
            ],
            "text/plain": [
              "            salary  specialSalary  workTime  numberOfWorker\n",
              "count        98.00          98.00     98.00           98.00\n",
              "mean  2,171,577.84   3,225,144.84    177.76       88,611.67\n",
              "std     640,129.61   3,109,727.69     11.35       98,820.78\n",
              "min   1,117,605.00           0.00    148.00           12.00\n",
              "25%   1,689,658.25     609,992.25    170.00       32,572.00\n",
              "50%   2,120,345.00   2,338,585.50    178.05       60,157.50\n",
              "75%   2,519,221.25   5,086,082.00    183.90      100,778.75\n",
              "max   4,064,286.00  13,252,036.00    226.00      533,852.00"
            ]
          },
          "metadata": {
            "tags": []
          },
          "execution_count": 15
        }
      ]
    },
    {
      "cell_type": "code",
      "metadata": {
        "colab": {
          "base_uri": "https://localhost:8080/",
          "height": 307
        },
        "id": "uUQO9q70Cbyj",
        "outputId": "cadfde15-bfdc-4a8e-fa1b-5ee1d82724ea"
      },
      "source": [
        "# [14] 성별에 따른 급여 시각화 (boxplot)\n",
        "\n",
        "plt.show()"
      ],
      "execution_count": null,
      "outputs": [
        {
          "output_type": "display_data",
          "data": {
            "image/png": "[encoded data removed]",
            "text/plain": [
              "<Figure size 432x288 with 1 Axes>"
            ]
          },
          "metadata": {
            "tags": [],
            "needs_background": "light"
          }
        }
      ]
    },
    {
      "cell_type": "code",
      "metadata": {
        "colab": {
          "base_uri": "https://localhost:8080/",
          "height": 143
        },
        "id": "Pu2NW59SGT-A",
        "outputId": "35afd071-a8a1-421f-c67f-5c2c7aa9d866"
      },
      "source": [
        "# [15] 성별별 급여 평균, 중앙값 구하기\n"
      ],
      "execution_count": null,
      "outputs": [
        {
          "output_type": "execute_result",
          "data": {
            "text/html": [
              "<div>\n",
              "<style scoped>\n",
              "    .dataframe tbody tr th:only-of-type {\n",
              "        vertical-align: middle;\n",
              "    }\n",
              "\n",
              "    .dataframe tbody tr th {\n",
              "        vertical-align: top;\n",
              "    }\n",
              "\n",
              "    .dataframe thead th {\n",
              "        text-align: right;\n",
              "    }\n",
              "</style>\n",
              "<table border=\"1\" class=\"dataframe\">\n",
              "  <thead>\n",
              "    <tr style=\"text-align: right;\">\n",
              "      <th></th>\n",
              "      <th>mean</th>\n",
              "      <th>median</th>\n",
              "    </tr>\n",
              "    <tr>\n",
              "      <th>gender</th>\n",
              "      <th></th>\n",
              "      <th></th>\n",
              "    </tr>\n",
              "  </thead>\n",
              "  <tbody>\n",
              "    <tr>\n",
              "      <th>남</th>\n",
              "      <td>2,477,332.39</td>\n",
              "      <td>2,396,300.00</td>\n",
              "    </tr>\n",
              "    <tr>\n",
              "      <th>여</th>\n",
              "      <td>1,865,823.29</td>\n",
              "      <td>1,809,095.00</td>\n",
              "    </tr>\n",
              "  </tbody>\n",
              "</table>\n",
              "</div>"
            ],
            "text/plain": [
              "               mean       median\n",
              "gender                          \n",
              "남      2,477,332.39 2,396,300.00\n",
              "여      1,865,823.29 1,809,095.00"
            ]
          },
          "metadata": {
            "tags": []
          },
          "execution_count": 32
        }
      ]
    },
    {
      "cell_type": "code",
      "metadata": {
        "colab": {
          "base_uri": "https://localhost:8080/",
          "height": 307
        },
        "id": "ChYf76vJICM5",
        "outputId": "dd2ffa99-af08-4f6d-d120-439aade118a8"
      },
      "source": [
        "# [16] 경력에 따른 급여 시각화 (boxplot)\n",
        "\n",
        "plt.show()"
      ],
      "execution_count": null,
      "outputs": [
        {
          "output_type": "display_data",
          "data": {
            "image/png": "[encoded data removed]",
            "text/plain": [
              "<Figure size 432x288 with 1 Axes>"
            ]
          },
          "metadata": {
            "tags": [],
            "needs_background": "light"
          }
        }
      ]
    },
    {
      "cell_type": "code",
      "metadata": {
        "colab": {
          "base_uri": "https://localhost:8080/",
          "height": 236
        },
        "id": "5A24vxCQYS7T",
        "outputId": "fa233898-c832-42d3-bfee-ee92e9d1bc5a"
      },
      "source": [
        "# [17] 경력별 급여 평균, 중앙값 구하기\n",
        "\n",
        "careerMean"
      ],
      "execution_count": null,
      "outputs": [
        {
          "output_type": "execute_result",
          "data": {
            "text/html": [
              "<div>\n",
              "<style scoped>\n",
              "    .dataframe tbody tr th:only-of-type {\n",
              "        vertical-align: middle;\n",
              "    }\n",
              "\n",
              "    .dataframe tbody tr th {\n",
              "        vertical-align: top;\n",
              "    }\n",
              "\n",
              "    .dataframe thead th {\n",
              "        text-align: right;\n",
              "    }\n",
              "</style>\n",
              "<table border=\"1\" class=\"dataframe\">\n",
              "  <thead>\n",
              "    <tr style=\"text-align: right;\">\n",
              "      <th></th>\n",
              "      <th>mean</th>\n",
              "      <th>median</th>\n",
              "    </tr>\n",
              "    <tr>\n",
              "      <th>career</th>\n",
              "      <th></th>\n",
              "      <th></th>\n",
              "    </tr>\n",
              "  </thead>\n",
              "  <tbody>\n",
              "    <tr>\n",
              "      <th>Under 1Y</th>\n",
              "      <td>1,730,835.35</td>\n",
              "      <td>1,657,394.00</td>\n",
              "    </tr>\n",
              "    <tr>\n",
              "      <th>Under 1~3Y</th>\n",
              "      <td>1,905,011.90</td>\n",
              "      <td>1,803,340.00</td>\n",
              "    </tr>\n",
              "    <tr>\n",
              "      <th>Under 3~5Y</th>\n",
              "      <td>2,028,014.90</td>\n",
              "      <td>1,988,333.50</td>\n",
              "    </tr>\n",
              "    <tr>\n",
              "      <th>Under 5~10Y</th>\n",
              "      <td>2,360,462.50</td>\n",
              "      <td>2,317,689.50</td>\n",
              "    </tr>\n",
              "    <tr>\n",
              "      <th>Above 10Y</th>\n",
              "      <td>2,907,118.61</td>\n",
              "      <td>2,864,317.00</td>\n",
              "    </tr>\n",
              "  </tbody>\n",
              "</table>\n",
              "</div>"
            ],
            "text/plain": [
              "                    mean       median\n",
              "career                               \n",
              "Under 1Y    1,730,835.35 1,657,394.00\n",
              "Under 1~3Y  1,905,011.90 1,803,340.00\n",
              "Under 3~5Y  2,028,014.90 1,988,333.50\n",
              "Under 5~10Y 2,360,462.50 2,317,689.50\n",
              "Above 10Y   2,907,118.61 2,864,317.00"
            ]
          },
          "metadata": {
            "tags": []
          },
          "execution_count": 22
        }
      ]
    },
    {
      "cell_type": "code",
      "metadata": {
        "colab": {
          "base_uri": "https://localhost:8080/",
          "height": 307
        },
        "id": "fvZ4pg6oHoki",
        "outputId": "9134eecc-c509-4299-e931-b5dd692c5de5"
      },
      "source": [
        "# [18] 성별/경력에 따른 급여 시각화\n",
        "\n",
        "plt.show()"
      ],
      "execution_count": null,
      "outputs": [
        {
          "output_type": "display_data",
          "data": {
            "image/png": "[encoded data removed]",
            "text/plain": [
              "<Figure size 432x288 with 1 Axes>"
            ]
          },
          "metadata": {
            "tags": [],
            "needs_background": "light"
          }
        }
      ]
    },
    {
      "cell_type": "code",
      "metadata": {
        "colab": {
          "base_uri": "https://localhost:8080/",
          "height": 307
        },
        "id": "UGzuFmxbHdDn",
        "outputId": "ccdd999a-cb90-4600-adfe-cf2a37a9826b"
      },
      "source": [
        "# [19] 나이에 따른 급여 시각화 (boxplot)\n",
        "\n",
        "plt.show()"
      ],
      "execution_count": null,
      "outputs": [
        {
          "output_type": "display_data",
          "data": {
            "image/png": "[encoded data removed]",
            "text/plain": [
              "<Figure size 432x288 with 1 Axes>"
            ]
          },
          "metadata": {
            "tags": [],
            "needs_background": "light"
          }
        }
      ]
    },
    {
      "cell_type": "code",
      "metadata": {
        "colab": {
          "base_uri": "https://localhost:8080/",
          "height": 307
        },
        "id": "yHBnZbLu4BTs",
        "outputId": "83c84028-6be0-4376-a8d6-665f0370591c"
      },
      "source": [
        "# [20] 나이/성별에 따른 급여 시각화 (boxplot)\n",
        "\n",
        "plt.show()"
      ],
      "execution_count": null,
      "outputs": [
        {
          "output_type": "display_data",
          "data": {
            "image/png": "[encoded data removed]",
            "text/plain": [
              "<Figure size 432x288 with 1 Axes>"
            ]
          },
          "metadata": {
            "tags": [],
            "needs_background": "light"
          }
        }
      ]
    },
    {
      "cell_type": "code",
      "metadata": {
        "colab": {
          "base_uri": "https://localhost:8080/",
          "height": 423
        },
        "id": "g3jwklY4Il4B",
        "outputId": "216c923a-01fd-4270-c1f1-a9a387bb8302"
      },
      "source": [
        "# [21] 성별/나이에 따른 급여 평균\n"
      ],
      "execution_count": null,
      "outputs": [
        {
          "output_type": "execute_result",
          "data": {
            "text/html": [
              "<div>\n",
              "<style scoped>\n",
              "    .dataframe tbody tr th:only-of-type {\n",
              "        vertical-align: middle;\n",
              "    }\n",
              "\n",
              "    .dataframe tbody tr th {\n",
              "        vertical-align: top;\n",
              "    }\n",
              "\n",
              "    .dataframe thead th {\n",
              "        text-align: right;\n",
              "    }\n",
              "</style>\n",
              "<table border=\"1\" class=\"dataframe\">\n",
              "  <thead>\n",
              "    <tr style=\"text-align: right;\">\n",
              "      <th>gender</th>\n",
              "      <th>F</th>\n",
              "      <th>M</th>\n",
              "      <th>TotalMean</th>\n",
              "    </tr>\n",
              "    <tr>\n",
              "      <th>age</th>\n",
              "      <th></th>\n",
              "      <th></th>\n",
              "      <th></th>\n",
              "    </tr>\n",
              "  </thead>\n",
              "  <tbody>\n",
              "    <tr>\n",
              "      <th>-19</th>\n",
              "      <td>1,657,815.75</td>\n",
              "      <td>1,723,957.00</td>\n",
              "      <td>1,690,886.38</td>\n",
              "    </tr>\n",
              "    <tr>\n",
              "      <th>20-24</th>\n",
              "      <td>1,752,322.60</td>\n",
              "      <td>1,933,783.80</td>\n",
              "      <td>1,843,053.20</td>\n",
              "    </tr>\n",
              "    <tr>\n",
              "      <th>25-29</th>\n",
              "      <td>2,053,670.60</td>\n",
              "      <td>2,253,717.80</td>\n",
              "      <td>2,153,694.20</td>\n",
              "    </tr>\n",
              "    <tr>\n",
              "      <th>30-34</th>\n",
              "      <td>2,228,775.80</td>\n",
              "      <td>2,526,384.20</td>\n",
              "      <td>2,377,580.00</td>\n",
              "    </tr>\n",
              "    <tr>\n",
              "      <th>35-39</th>\n",
              "      <td>2,200,871.20</td>\n",
              "      <td>2,861,132.20</td>\n",
              "      <td>2,531,001.70</td>\n",
              "    </tr>\n",
              "    <tr>\n",
              "      <th>40-44</th>\n",
              "      <td>2,002,011.40</td>\n",
              "      <td>2,977,029.80</td>\n",
              "      <td>2,489,520.60</td>\n",
              "    </tr>\n",
              "    <tr>\n",
              "      <th>45-49</th>\n",
              "      <td>1,867,277.20</td>\n",
              "      <td>2,945,062.60</td>\n",
              "      <td>2,406,169.90</td>\n",
              "    </tr>\n",
              "    <tr>\n",
              "      <th>50-54</th>\n",
              "      <td>1,738,572.60</td>\n",
              "      <td>2,772,345.80</td>\n",
              "      <td>2,255,459.20</td>\n",
              "    </tr>\n",
              "    <tr>\n",
              "      <th>55-59</th>\n",
              "      <td>1,662,055.20</td>\n",
              "      <td>2,576,476.60</td>\n",
              "      <td>2,119,265.90</td>\n",
              "    </tr>\n",
              "    <tr>\n",
              "      <th>60-</th>\n",
              "      <td>1,453,259.00</td>\n",
              "      <td>2,052,759.00</td>\n",
              "      <td>1,753,009.00</td>\n",
              "    </tr>\n",
              "    <tr>\n",
              "      <th>TotalMean</th>\n",
              "      <td>1,865,823.29</td>\n",
              "      <td>2,477,332.39</td>\n",
              "      <td>2,171,577.84</td>\n",
              "    </tr>\n",
              "  </tbody>\n",
              "</table>\n",
              "</div>"
            ],
            "text/plain": [
              "gender               F            M    TotalMean\n",
              "age                                             \n",
              "-19       1,657,815.75 1,723,957.00 1,690,886.38\n",
              "20-24     1,752,322.60 1,933,783.80 1,843,053.20\n",
              "25-29     2,053,670.60 2,253,717.80 2,153,694.20\n",
              "30-34     2,228,775.80 2,526,384.20 2,377,580.00\n",
              "35-39     2,200,871.20 2,861,132.20 2,531,001.70\n",
              "40-44     2,002,011.40 2,977,029.80 2,489,520.60\n",
              "45-49     1,867,277.20 2,945,062.60 2,406,169.90\n",
              "50-54     1,738,572.60 2,772,345.80 2,255,459.20\n",
              "55-59     1,662,055.20 2,576,476.60 2,119,265.90\n",
              "60-       1,453,259.00 2,052,759.00 1,753,009.00\n",
              "TotalMean 1,865,823.29 2,477,332.39 2,171,577.84"
            ]
          },
          "metadata": {
            "tags": []
          },
          "execution_count": 27
        }
      ]
    },
    {
      "cell_type": "code",
      "metadata": {
        "colab": {
          "base_uri": "https://localhost:8080/",
          "height": 423
        },
        "id": "CHVuDSc9-lFS",
        "outputId": "dab3cbd4-045e-49c7-960d-ab12ba04368a"
      },
      "source": [
        "# [22] 연령별, 경력별 급여 평균 테이블 만들고, 열로 age별 급여 평균, 행으로 career별 급여 평균 넣기\n",
        "\n",
        "\n",
        "career_age"
      ],
      "execution_count": null,
      "outputs": [
        {
          "output_type": "execute_result",
          "data": {
            "text/html": [
              "<div>\n",
              "<style scoped>\n",
              "    .dataframe tbody tr th:only-of-type {\n",
              "        vertical-align: middle;\n",
              "    }\n",
              "\n",
              "    .dataframe tbody tr th {\n",
              "        vertical-align: top;\n",
              "    }\n",
              "\n",
              "    .dataframe thead th {\n",
              "        text-align: right;\n",
              "    }\n",
              "</style>\n",
              "<table border=\"1\" class=\"dataframe\">\n",
              "  <thead>\n",
              "    <tr style=\"text-align: right;\">\n",
              "      <th>career</th>\n",
              "      <th>1년미만</th>\n",
              "      <th>1~3년미만</th>\n",
              "      <th>3~5년미만</th>\n",
              "      <th>5~10년미만</th>\n",
              "      <th>10년이상</th>\n",
              "      <th>AgeMean</th>\n",
              "    </tr>\n",
              "    <tr>\n",
              "      <th>age</th>\n",
              "      <th></th>\n",
              "      <th></th>\n",
              "      <th></th>\n",
              "      <th></th>\n",
              "      <th></th>\n",
              "      <th></th>\n",
              "    </tr>\n",
              "  </thead>\n",
              "  <tbody>\n",
              "    <tr>\n",
              "      <th>-19</th>\n",
              "      <td>1,294,280.00</td>\n",
              "      <td>1,633,143.00</td>\n",
              "      <td>1,611,615.50</td>\n",
              "      <td>2,224,507.00</td>\n",
              "      <td>0.00</td>\n",
              "      <td>1,690,886.38</td>\n",
              "    </tr>\n",
              "    <tr>\n",
              "      <th>20-24</th>\n",
              "      <td>1,542,985.50</td>\n",
              "      <td>1,747,777.00</td>\n",
              "      <td>1,864,955.50</td>\n",
              "      <td>2,128,307.00</td>\n",
              "      <td>1,931,241.00</td>\n",
              "      <td>1,843,053.20</td>\n",
              "    </tr>\n",
              "    <tr>\n",
              "      <th>25-29</th>\n",
              "      <td>1,818,687.00</td>\n",
              "      <td>2,044,431.00</td>\n",
              "      <td>2,219,363.00</td>\n",
              "      <td>2,298,241.00</td>\n",
              "      <td>2,387,749.00</td>\n",
              "      <td>2,153,694.20</td>\n",
              "    </tr>\n",
              "    <tr>\n",
              "      <th>30-34</th>\n",
              "      <td>2,006,125.00</td>\n",
              "      <td>2,148,617.50</td>\n",
              "      <td>2,360,558.00</td>\n",
              "      <td>2,669,352.00</td>\n",
              "      <td>2,703,247.50</td>\n",
              "      <td>2,377,580.00</td>\n",
              "    </tr>\n",
              "    <tr>\n",
              "      <th>35-39</th>\n",
              "      <td>2,029,140.50</td>\n",
              "      <td>2,216,684.00</td>\n",
              "      <td>2,430,147.00</td>\n",
              "      <td>2,836,625.50</td>\n",
              "      <td>3,142,411.50</td>\n",
              "      <td>2,531,001.70</td>\n",
              "    </tr>\n",
              "    <tr>\n",
              "      <th>40-44</th>\n",
              "      <td>1,916,416.00</td>\n",
              "      <td>2,095,779.00</td>\n",
              "      <td>2,323,138.50</td>\n",
              "      <td>2,707,617.00</td>\n",
              "      <td>3,404,652.50</td>\n",
              "      <td>2,489,520.60</td>\n",
              "    </tr>\n",
              "    <tr>\n",
              "      <th>45-49</th>\n",
              "      <td>1,880,915.00</td>\n",
              "      <td>2,025,434.00</td>\n",
              "      <td>2,141,486.00</td>\n",
              "      <td>2,522,258.00</td>\n",
              "      <td>3,460,756.50</td>\n",
              "      <td>2,406,169.90</td>\n",
              "    </tr>\n",
              "    <tr>\n",
              "      <th>50-54</th>\n",
              "      <td>1,750,962.50</td>\n",
              "      <td>1,871,338.00</td>\n",
              "      <td>2,027,139.50</td>\n",
              "      <td>2,308,103.50</td>\n",
              "      <td>3,319,752.50</td>\n",
              "      <td>2,255,459.20</td>\n",
              "    </tr>\n",
              "    <tr>\n",
              "      <th>55-59</th>\n",
              "      <td>1,674,613.50</td>\n",
              "      <td>1,823,711.00</td>\n",
              "      <td>1,799,049.00</td>\n",
              "      <td>2,148,320.00</td>\n",
              "      <td>3,150,636.00</td>\n",
              "      <td>2,119,265.90</td>\n",
              "    </tr>\n",
              "    <tr>\n",
              "      <th>60-</th>\n",
              "      <td>1,394,228.50</td>\n",
              "      <td>1,443,204.50</td>\n",
              "      <td>1,502,697.00</td>\n",
              "      <td>1,761,294.00</td>\n",
              "      <td>2,663,621.00</td>\n",
              "      <td>1,753,009.00</td>\n",
              "    </tr>\n",
              "    <tr>\n",
              "      <th>CareerMean</th>\n",
              "      <td>1,730,835.35</td>\n",
              "      <td>1,905,011.90</td>\n",
              "      <td>2,028,014.90</td>\n",
              "      <td>2,360,462.50</td>\n",
              "      <td>2,907,118.61</td>\n",
              "      <td>2,171,577.84</td>\n",
              "    </tr>\n",
              "  </tbody>\n",
              "</table>\n",
              "</div>"
            ],
            "text/plain": [
              "career             1년미만       1~3년미만       3~5년미만      5~10년미만        10년이상  \\\n",
              "age                                                                           \n",
              "-19        1,294,280.00 1,633,143.00 1,611,615.50 2,224,507.00         0.00   \n",
              "20-24      1,542,985.50 1,747,777.00 1,864,955.50 2,128,307.00 1,931,241.00   \n",
              "25-29      1,818,687.00 2,044,431.00 2,219,363.00 2,298,241.00 2,387,749.00   \n",
              "30-34      2,006,125.00 2,148,617.50 2,360,558.00 2,669,352.00 2,703,247.50   \n",
              "35-39      2,029,140.50 2,216,684.00 2,430,147.00 2,836,625.50 3,142,411.50   \n",
              "40-44      1,916,416.00 2,095,779.00 2,323,138.50 2,707,617.00 3,404,652.50   \n",
              "45-49      1,880,915.00 2,025,434.00 2,141,486.00 2,522,258.00 3,460,756.50   \n",
              "50-54      1,750,962.50 1,871,338.00 2,027,139.50 2,308,103.50 3,319,752.50   \n",
              "55-59      1,674,613.50 1,823,711.00 1,799,049.00 2,148,320.00 3,150,636.00   \n",
              "60-        1,394,228.50 1,443,204.50 1,502,697.00 1,761,294.00 2,663,621.00   \n",
              "CareerMean 1,730,835.35 1,905,011.90 2,028,014.90 2,360,462.50 2,907,118.61   \n",
              "\n",
              "career          AgeMean  \n",
              "age                      \n",
              "-19        1,690,886.38  \n",
              "20-24      1,843,053.20  \n",
              "25-29      2,153,694.20  \n",
              "30-34      2,377,580.00  \n",
              "35-39      2,531,001.70  \n",
              "40-44      2,489,520.60  \n",
              "45-49      2,406,169.90  \n",
              "50-54      2,255,459.20  \n",
              "55-59      2,119,265.90  \n",
              "60-        1,753,009.00  \n",
              "CareerMean 2,171,577.84  "
            ]
          },
          "metadata": {
            "tags": []
          },
          "execution_count": 76
        }
      ]
    },
    {
      "cell_type": "markdown",
      "metadata": {
        "id": "eJtJxG-LAhfe"
      },
      "source": [
        "#### 범주형 데이터를 숫자로 변경 "
      ]
    },
    {
      "cell_type": "code",
      "metadata": {
        "id": "CFNb70T2Azrj",
        "outputId": "40680f95-11c2-413b-dda4-0546b1f73f81"
      },
      "source": [
        "# [23] 모든 범주형 데이터를 one-hot-encoding 방식으로 숫자로 변경\n",
        "df2 = \n",
        "print(df2.shape)\n",
        "df2.head()"
      ],
      "execution_count": null,
      "outputs": [
        {
          "output_type": "stream",
          "text": [
            "(98, 21)\n"
          ],
          "name": "stdout"
        },
        {
          "output_type": "execute_result",
          "data": {
            "text/html": [
              "<div>\n",
              "<style scoped>\n",
              "    .dataframe tbody tr th:only-of-type {\n",
              "        vertical-align: middle;\n",
              "    }\n",
              "\n",
              "    .dataframe tbody tr th {\n",
              "        vertical-align: top;\n",
              "    }\n",
              "\n",
              "    .dataframe thead th {\n",
              "        text-align: right;\n",
              "    }\n",
              "</style>\n",
              "<table border=\"1\" class=\"dataframe\">\n",
              "  <thead>\n",
              "    <tr style=\"text-align: right;\">\n",
              "      <th></th>\n",
              "      <th>salary</th>\n",
              "      <th>specialSalary</th>\n",
              "      <th>workTime</th>\n",
              "      <th>numberOfWorker</th>\n",
              "      <th>age_-19</th>\n",
              "      <th>age_20-24</th>\n",
              "      <th>age_25-29</th>\n",
              "      <th>age_30-34</th>\n",
              "      <th>age_35-39</th>\n",
              "      <th>age_40-44</th>\n",
              "      <th>...</th>\n",
              "      <th>age_50-54</th>\n",
              "      <th>age_55-59</th>\n",
              "      <th>age_60-</th>\n",
              "      <th>career_Above 10Y</th>\n",
              "      <th>career_Under 1Y</th>\n",
              "      <th>career_Under 1~3Y</th>\n",
              "      <th>career_Under 3~5Y</th>\n",
              "      <th>career_Under 5~10Y</th>\n",
              "      <th>gender_F</th>\n",
              "      <th>gender_M</th>\n",
              "    </tr>\n",
              "  </thead>\n",
              "  <tbody>\n",
              "    <tr>\n",
              "      <th>0</th>\n",
              "      <td>1,346,534.00</td>\n",
              "      <td>151,840.00</td>\n",
              "      <td>169.50</td>\n",
              "      <td>15,042.00</td>\n",
              "      <td>1</td>\n",
              "      <td>0</td>\n",
              "      <td>0</td>\n",
              "      <td>0</td>\n",
              "      <td>0</td>\n",
              "      <td>0</td>\n",
              "      <td>...</td>\n",
              "      <td>0</td>\n",
              "      <td>0</td>\n",
              "      <td>0</td>\n",
              "      <td>0</td>\n",
              "      <td>1</td>\n",
              "      <td>0</td>\n",
              "      <td>0</td>\n",
              "      <td>0</td>\n",
              "      <td>0</td>\n",
              "      <td>1</td>\n",
              "    </tr>\n",
              "    <tr>\n",
              "      <th>1</th>\n",
              "      <td>1,584,214.00</td>\n",
              "      <td>115,375.00</td>\n",
              "      <td>180.10</td>\n",
              "      <td>74,251.00</td>\n",
              "      <td>0</td>\n",
              "      <td>1</td>\n",
              "      <td>0</td>\n",
              "      <td>0</td>\n",
              "      <td>0</td>\n",
              "      <td>0</td>\n",
              "      <td>...</td>\n",
              "      <td>0</td>\n",
              "      <td>0</td>\n",
              "      <td>0</td>\n",
              "      <td>0</td>\n",
              "      <td>1</td>\n",
              "      <td>0</td>\n",
              "      <td>0</td>\n",
              "      <td>0</td>\n",
              "      <td>0</td>\n",
              "      <td>1</td>\n",
              "    </tr>\n",
              "    <tr>\n",
              "      <th>2</th>\n",
              "      <td>1,922,043.00</td>\n",
              "      <td>268,058.00</td>\n",
              "      <td>178.00</td>\n",
              "      <td>143,338.00</td>\n",
              "      <td>0</td>\n",
              "      <td>0</td>\n",
              "      <td>1</td>\n",
              "      <td>0</td>\n",
              "      <td>0</td>\n",
              "      <td>0</td>\n",
              "      <td>...</td>\n",
              "      <td>0</td>\n",
              "      <td>0</td>\n",
              "      <td>0</td>\n",
              "      <td>0</td>\n",
              "      <td>1</td>\n",
              "      <td>0</td>\n",
              "      <td>0</td>\n",
              "      <td>0</td>\n",
              "      <td>0</td>\n",
              "      <td>1</td>\n",
              "    </tr>\n",
              "    <tr>\n",
              "      <th>3</th>\n",
              "      <td>2,130,988.00</td>\n",
              "      <td>335,710.00</td>\n",
              "      <td>180.80</td>\n",
              "      <td>103,585.00</td>\n",
              "      <td>0</td>\n",
              "      <td>0</td>\n",
              "      <td>0</td>\n",
              "      <td>1</td>\n",
              "      <td>0</td>\n",
              "      <td>0</td>\n",
              "      <td>...</td>\n",
              "      <td>0</td>\n",
              "      <td>0</td>\n",
              "      <td>0</td>\n",
              "      <td>0</td>\n",
              "      <td>1</td>\n",
              "      <td>0</td>\n",
              "      <td>0</td>\n",
              "      <td>0</td>\n",
              "      <td>0</td>\n",
              "      <td>1</td>\n",
              "    </tr>\n",
              "    <tr>\n",
              "      <th>4</th>\n",
              "      <td>2,414,345.00</td>\n",
              "      <td>352,816.00</td>\n",
              "      <td>181.40</td>\n",
              "      <td>65,385.00</td>\n",
              "      <td>0</td>\n",
              "      <td>0</td>\n",
              "      <td>0</td>\n",
              "      <td>0</td>\n",
              "      <td>1</td>\n",
              "      <td>0</td>\n",
              "      <td>...</td>\n",
              "      <td>0</td>\n",
              "      <td>0</td>\n",
              "      <td>0</td>\n",
              "      <td>0</td>\n",
              "      <td>1</td>\n",
              "      <td>0</td>\n",
              "      <td>0</td>\n",
              "      <td>0</td>\n",
              "      <td>0</td>\n",
              "      <td>1</td>\n",
              "    </tr>\n",
              "  </tbody>\n",
              "</table>\n",
              "<p>5 rows × 21 columns</p>\n",
              "</div>"
            ],
            "text/plain": [
              "        salary  specialSalary  workTime  numberOfWorker  age_-19  age_20-24  \\\n",
              "0 1,346,534.00     151,840.00    169.50       15,042.00        1          0   \n",
              "1 1,584,214.00     115,375.00    180.10       74,251.00        0          1   \n",
              "2 1,922,043.00     268,058.00    178.00      143,338.00        0          0   \n",
              "3 2,130,988.00     335,710.00    180.80      103,585.00        0          0   \n",
              "4 2,414,345.00     352,816.00    181.40       65,385.00        0          0   \n",
              "\n",
              "   age_25-29  age_30-34  age_35-39  age_40-44  ...  age_50-54  age_55-59  \\\n",
              "0          0          0          0          0  ...          0          0   \n",
              "1          0          0          0          0  ...          0          0   \n",
              "2          1          0          0          0  ...          0          0   \n",
              "3          0          1          0          0  ...          0          0   \n",
              "4          0          0          1          0  ...          0          0   \n",
              "\n",
              "   age_60-  career_Above 10Y  career_Under 1Y  career_Under 1~3Y  \\\n",
              "0        0                 0                1                  0   \n",
              "1        0                 0                1                  0   \n",
              "2        0                 0                1                  0   \n",
              "3        0                 0                1                  0   \n",
              "4        0                 0                1                  0   \n",
              "\n",
              "   career_Under 3~5Y  career_Under 5~10Y  gender_F  gender_M  \n",
              "0                  0                   0         0         1  \n",
              "1                  0                   0         0         1  \n",
              "2                  0                   0         0         1  \n",
              "3                  0                   0         0         1  \n",
              "4                  0                   0         0         1  \n",
              "\n",
              "[5 rows x 21 columns]"
            ]
          },
          "metadata": {
            "tags": []
          },
          "execution_count": 32
        }
      ]
    },
    {
      "cell_type": "code",
      "metadata": {
        "colab": {
          "base_uri": "https://localhost:8080/",
          "height": 267
        },
        "id": "G_dNqu1oIsGl",
        "outputId": "060974b9-ed4a-4a01-e930-c7f6d7f1a0cd"
      },
      "source": [
        "# [24] df2의 상관계수를 확인\n"
      ],
      "execution_count": null,
      "outputs": [
        {
          "output_type": "execute_result",
          "data": {
            "text/html": [
              "<div>\n",
              "<style scoped>\n",
              "    .dataframe tbody tr th:only-of-type {\n",
              "        vertical-align: middle;\n",
              "    }\n",
              "\n",
              "    .dataframe tbody tr th {\n",
              "        vertical-align: top;\n",
              "    }\n",
              "\n",
              "    .dataframe thead th {\n",
              "        text-align: right;\n",
              "    }\n",
              "</style>\n",
              "<table border=\"1\" class=\"dataframe\">\n",
              "  <thead>\n",
              "    <tr style=\"text-align: right;\">\n",
              "      <th></th>\n",
              "      <th>salary</th>\n",
              "      <th>specialSalary</th>\n",
              "      <th>workTime</th>\n",
              "      <th>numberOfWorker</th>\n",
              "      <th>age_-19</th>\n",
              "      <th>age_20-24</th>\n",
              "      <th>age_25-29</th>\n",
              "      <th>age_30-34</th>\n",
              "      <th>age_35-39</th>\n",
              "      <th>age_40-44</th>\n",
              "      <th>...</th>\n",
              "      <th>age_50-54</th>\n",
              "      <th>age_55-59</th>\n",
              "      <th>age_60-</th>\n",
              "      <th>career_Above 10Y</th>\n",
              "      <th>career_Under 1Y</th>\n",
              "      <th>career_Under 1~3Y</th>\n",
              "      <th>career_Under 3~5Y</th>\n",
              "      <th>career_Under 5~10Y</th>\n",
              "      <th>gender_F</th>\n",
              "      <th>gender_M</th>\n",
              "    </tr>\n",
              "  </thead>\n",
              "  <tbody>\n",
              "    <tr>\n",
              "      <th>salary</th>\n",
              "      <td>1.00</td>\n",
              "      <td>0.78</td>\n",
              "      <td>0.23</td>\n",
              "      <td>0.69</td>\n",
              "      <td>-0.23</td>\n",
              "      <td>-0.17</td>\n",
              "      <td>-0.01</td>\n",
              "      <td>0.11</td>\n",
              "      <td>0.19</td>\n",
              "      <td>0.17</td>\n",
              "      <td>...</td>\n",
              "      <td>0.04</td>\n",
              "      <td>-0.03</td>\n",
              "      <td>-0.22</td>\n",
              "      <td>0.55</td>\n",
              "      <td>-0.35</td>\n",
              "      <td>-0.21</td>\n",
              "      <td>-0.11</td>\n",
              "      <td>0.15</td>\n",
              "      <td>-0.48</td>\n",
              "      <td>0.48</td>\n",
              "    </tr>\n",
              "    <tr>\n",
              "      <th>specialSalary</th>\n",
              "      <td>0.78</td>\n",
              "      <td>1.00</td>\n",
              "      <td>0.05</td>\n",
              "      <td>0.66</td>\n",
              "      <td>-0.06</td>\n",
              "      <td>0.02</td>\n",
              "      <td>0.10</td>\n",
              "      <td>0.11</td>\n",
              "      <td>0.09</td>\n",
              "      <td>0.05</td>\n",
              "      <td>...</td>\n",
              "      <td>-0.02</td>\n",
              "      <td>-0.08</td>\n",
              "      <td>-0.23</td>\n",
              "      <td>0.54</td>\n",
              "      <td>-0.50</td>\n",
              "      <td>-0.19</td>\n",
              "      <td>-0.06</td>\n",
              "      <td>0.22</td>\n",
              "      <td>-0.16</td>\n",
              "      <td>0.16</td>\n",
              "    </tr>\n",
              "    <tr>\n",
              "      <th>workTime</th>\n",
              "      <td>0.23</td>\n",
              "      <td>0.05</td>\n",
              "      <td>1.00</td>\n",
              "      <td>-0.12</td>\n",
              "      <td>0.21</td>\n",
              "      <td>0.18</td>\n",
              "      <td>-0.07</td>\n",
              "      <td>-0.15</td>\n",
              "      <td>-0.13</td>\n",
              "      <td>-0.04</td>\n",
              "      <td>...</td>\n",
              "      <td>0.06</td>\n",
              "      <td>0.01</td>\n",
              "      <td>-0.11</td>\n",
              "      <td>-0.03</td>\n",
              "      <td>-0.26</td>\n",
              "      <td>0.02</td>\n",
              "      <td>0.07</td>\n",
              "      <td>0.20</td>\n",
              "      <td>-0.63</td>\n",
              "      <td>0.63</td>\n",
              "    </tr>\n",
              "    <tr>\n",
              "      <th>numberOfWorker</th>\n",
              "      <td>0.69</td>\n",
              "      <td>0.66</td>\n",
              "      <td>-0.12</td>\n",
              "      <td>1.00</td>\n",
              "      <td>-0.25</td>\n",
              "      <td>-0.16</td>\n",
              "      <td>0.08</td>\n",
              "      <td>0.20</td>\n",
              "      <td>0.13</td>\n",
              "      <td>0.15</td>\n",
              "      <td>...</td>\n",
              "      <td>0.02</td>\n",
              "      <td>-0.11</td>\n",
              "      <td>-0.14</td>\n",
              "      <td>0.35</td>\n",
              "      <td>-0.18</td>\n",
              "      <td>0.02</td>\n",
              "      <td>-0.16</td>\n",
              "      <td>-0.02</td>\n",
              "      <td>-0.28</td>\n",
              "      <td>0.28</td>\n",
              "    </tr>\n",
              "    <tr>\n",
              "      <th>age_-19</th>\n",
              "      <td>-0.23</td>\n",
              "      <td>-0.06</td>\n",
              "      <td>0.21</td>\n",
              "      <td>-0.25</td>\n",
              "      <td>1.00</td>\n",
              "      <td>-0.10</td>\n",
              "      <td>-0.10</td>\n",
              "      <td>-0.10</td>\n",
              "      <td>-0.10</td>\n",
              "      <td>-0.10</td>\n",
              "      <td>...</td>\n",
              "      <td>-0.10</td>\n",
              "      <td>-0.10</td>\n",
              "      <td>-0.10</td>\n",
              "      <td>-0.14</td>\n",
              "      <td>0.03</td>\n",
              "      <td>0.03</td>\n",
              "      <td>0.03</td>\n",
              "      <td>0.03</td>\n",
              "      <td>0.00</td>\n",
              "      <td>-0.00</td>\n",
              "    </tr>\n",
              "    <tr>\n",
              "      <th>age_20-24</th>\n",
              "      <td>-0.17</td>\n",
              "      <td>0.02</td>\n",
              "      <td>0.18</td>\n",
              "      <td>-0.16</td>\n",
              "      <td>-0.10</td>\n",
              "      <td>1.00</td>\n",
              "      <td>-0.11</td>\n",
              "      <td>-0.11</td>\n",
              "      <td>-0.11</td>\n",
              "      <td>-0.11</td>\n",
              "      <td>...</td>\n",
              "      <td>-0.11</td>\n",
              "      <td>-0.11</td>\n",
              "      <td>-0.11</td>\n",
              "      <td>0.01</td>\n",
              "      <td>-0.00</td>\n",
              "      <td>-0.00</td>\n",
              "      <td>-0.00</td>\n",
              "      <td>-0.00</td>\n",
              "      <td>0.00</td>\n",
              "      <td>0.00</td>\n",
              "    </tr>\n",
              "    <tr>\n",
              "      <th>age_25-29</th>\n",
              "      <td>-0.01</td>\n",
              "      <td>0.10</td>\n",
              "      <td>-0.07</td>\n",
              "      <td>0.08</td>\n",
              "      <td>-0.10</td>\n",
              "      <td>-0.11</td>\n",
              "      <td>1.00</td>\n",
              "      <td>-0.11</td>\n",
              "      <td>-0.11</td>\n",
              "      <td>-0.11</td>\n",
              "      <td>...</td>\n",
              "      <td>-0.11</td>\n",
              "      <td>-0.11</td>\n",
              "      <td>-0.11</td>\n",
              "      <td>0.01</td>\n",
              "      <td>-0.00</td>\n",
              "      <td>-0.00</td>\n",
              "      <td>-0.00</td>\n",
              "      <td>-0.00</td>\n",
              "      <td>0.00</td>\n",
              "      <td>0.00</td>\n",
              "    </tr>\n",
              "    <tr>\n",
              "      <th>age_30-34</th>\n",
              "      <td>0.11</td>\n",
              "      <td>0.11</td>\n",
              "      <td>-0.15</td>\n",
              "      <td>0.20</td>\n",
              "      <td>-0.10</td>\n",
              "      <td>-0.11</td>\n",
              "      <td>-0.11</td>\n",
              "      <td>1.00</td>\n",
              "      <td>-0.11</td>\n",
              "      <td>-0.11</td>\n",
              "      <td>...</td>\n",
              "      <td>-0.11</td>\n",
              "      <td>-0.11</td>\n",
              "      <td>-0.11</td>\n",
              "      <td>0.01</td>\n",
              "      <td>-0.00</td>\n",
              "      <td>-0.00</td>\n",
              "      <td>-0.00</td>\n",
              "      <td>-0.00</td>\n",
              "      <td>0.00</td>\n",
              "      <td>0.00</td>\n",
              "    </tr>\n",
              "    <tr>\n",
              "      <th>age_35-39</th>\n",
              "      <td>0.19</td>\n",
              "      <td>0.09</td>\n",
              "      <td>-0.13</td>\n",
              "      <td>0.13</td>\n",
              "      <td>-0.10</td>\n",
              "      <td>-0.11</td>\n",
              "      <td>-0.11</td>\n",
              "      <td>-0.11</td>\n",
              "      <td>1.00</td>\n",
              "      <td>-0.11</td>\n",
              "      <td>...</td>\n",
              "      <td>-0.11</td>\n",
              "      <td>-0.11</td>\n",
              "      <td>-0.11</td>\n",
              "      <td>0.01</td>\n",
              "      <td>-0.00</td>\n",
              "      <td>-0.00</td>\n",
              "      <td>-0.00</td>\n",
              "      <td>-0.00</td>\n",
              "      <td>0.00</td>\n",
              "      <td>0.00</td>\n",
              "    </tr>\n",
              "    <tr>\n",
              "      <th>age_40-44</th>\n",
              "      <td>0.17</td>\n",
              "      <td>0.05</td>\n",
              "      <td>-0.04</td>\n",
              "      <td>0.15</td>\n",
              "      <td>-0.10</td>\n",
              "      <td>-0.11</td>\n",
              "      <td>-0.11</td>\n",
              "      <td>-0.11</td>\n",
              "      <td>-0.11</td>\n",
              "      <td>1.00</td>\n",
              "      <td>...</td>\n",
              "      <td>-0.11</td>\n",
              "      <td>-0.11</td>\n",
              "      <td>-0.11</td>\n",
              "      <td>0.01</td>\n",
              "      <td>-0.00</td>\n",
              "      <td>-0.00</td>\n",
              "      <td>-0.00</td>\n",
              "      <td>-0.00</td>\n",
              "      <td>0.00</td>\n",
              "      <td>0.00</td>\n",
              "    </tr>\n",
              "    <tr>\n",
              "      <th>age_45-49</th>\n",
              "      <td>0.12</td>\n",
              "      <td>0.01</td>\n",
              "      <td>0.06</td>\n",
              "      <td>0.05</td>\n",
              "      <td>-0.10</td>\n",
              "      <td>-0.11</td>\n",
              "      <td>-0.11</td>\n",
              "      <td>-0.11</td>\n",
              "      <td>-0.11</td>\n",
              "      <td>-0.11</td>\n",
              "      <td>...</td>\n",
              "      <td>-0.11</td>\n",
              "      <td>-0.11</td>\n",
              "      <td>-0.11</td>\n",
              "      <td>0.01</td>\n",
              "      <td>-0.00</td>\n",
              "      <td>-0.00</td>\n",
              "      <td>-0.00</td>\n",
              "      <td>-0.00</td>\n",
              "      <td>0.00</td>\n",
              "      <td>0.00</td>\n",
              "    </tr>\n",
              "    <tr>\n",
              "      <th>age_50-54</th>\n",
              "      <td>0.04</td>\n",
              "      <td>-0.02</td>\n",
              "      <td>0.06</td>\n",
              "      <td>0.02</td>\n",
              "      <td>-0.10</td>\n",
              "      <td>-0.11</td>\n",
              "      <td>-0.11</td>\n",
              "      <td>-0.11</td>\n",
              "      <td>-0.11</td>\n",
              "      <td>-0.11</td>\n",
              "      <td>...</td>\n",
              "      <td>1.00</td>\n",
              "      <td>-0.11</td>\n",
              "      <td>-0.11</td>\n",
              "      <td>0.01</td>\n",
              "      <td>-0.00</td>\n",
              "      <td>-0.00</td>\n",
              "      <td>-0.00</td>\n",
              "      <td>-0.00</td>\n",
              "      <td>0.00</td>\n",
              "      <td>0.00</td>\n",
              "    </tr>\n",
              "    <tr>\n",
              "      <th>age_55-59</th>\n",
              "      <td>-0.03</td>\n",
              "      <td>-0.08</td>\n",
              "      <td>0.01</td>\n",
              "      <td>-0.11</td>\n",
              "      <td>-0.10</td>\n",
              "      <td>-0.11</td>\n",
              "      <td>-0.11</td>\n",
              "      <td>-0.11</td>\n",
              "      <td>-0.11</td>\n",
              "      <td>-0.11</td>\n",
              "      <td>...</td>\n",
              "      <td>-0.11</td>\n",
              "      <td>1.00</td>\n",
              "      <td>-0.11</td>\n",
              "      <td>0.01</td>\n",
              "      <td>-0.00</td>\n",
              "      <td>-0.00</td>\n",
              "      <td>-0.00</td>\n",
              "      <td>-0.00</td>\n",
              "      <td>0.00</td>\n",
              "      <td>0.00</td>\n",
              "    </tr>\n",
              "    <tr>\n",
              "      <th>age_60-</th>\n",
              "      <td>-0.22</td>\n",
              "      <td>-0.23</td>\n",
              "      <td>-0.11</td>\n",
              "      <td>-0.14</td>\n",
              "      <td>-0.10</td>\n",
              "      <td>-0.11</td>\n",
              "      <td>-0.11</td>\n",
              "      <td>-0.11</td>\n",
              "      <td>-0.11</td>\n",
              "      <td>-0.11</td>\n",
              "      <td>...</td>\n",
              "      <td>-0.11</td>\n",
              "      <td>-0.11</td>\n",
              "      <td>1.00</td>\n",
              "      <td>0.01</td>\n",
              "      <td>-0.00</td>\n",
              "      <td>-0.00</td>\n",
              "      <td>-0.00</td>\n",
              "      <td>-0.00</td>\n",
              "      <td>0.00</td>\n",
              "      <td>0.00</td>\n",
              "    </tr>\n",
              "    <tr>\n",
              "      <th>career_Above 10Y</th>\n",
              "      <td>0.55</td>\n",
              "      <td>0.54</td>\n",
              "      <td>-0.03</td>\n",
              "      <td>0.35</td>\n",
              "      <td>-0.14</td>\n",
              "      <td>0.01</td>\n",
              "      <td>0.01</td>\n",
              "      <td>0.01</td>\n",
              "      <td>0.01</td>\n",
              "      <td>0.01</td>\n",
              "      <td>...</td>\n",
              "      <td>0.01</td>\n",
              "      <td>0.01</td>\n",
              "      <td>0.01</td>\n",
              "      <td>1.00</td>\n",
              "      <td>-0.24</td>\n",
              "      <td>-0.24</td>\n",
              "      <td>-0.24</td>\n",
              "      <td>-0.24</td>\n",
              "      <td>0.00</td>\n",
              "      <td>0.00</td>\n",
              "    </tr>\n",
              "    <tr>\n",
              "      <th>career_Under 1Y</th>\n",
              "      <td>-0.35</td>\n",
              "      <td>-0.50</td>\n",
              "      <td>-0.26</td>\n",
              "      <td>-0.18</td>\n",
              "      <td>0.03</td>\n",
              "      <td>-0.00</td>\n",
              "      <td>-0.00</td>\n",
              "      <td>-0.00</td>\n",
              "      <td>-0.00</td>\n",
              "      <td>-0.00</td>\n",
              "      <td>...</td>\n",
              "      <td>-0.00</td>\n",
              "      <td>-0.00</td>\n",
              "      <td>-0.00</td>\n",
              "      <td>-0.24</td>\n",
              "      <td>1.00</td>\n",
              "      <td>-0.26</td>\n",
              "      <td>-0.26</td>\n",
              "      <td>-0.26</td>\n",
              "      <td>0.00</td>\n",
              "      <td>-0.00</td>\n",
              "    </tr>\n",
              "    <tr>\n",
              "      <th>career_Under 1~3Y</th>\n",
              "      <td>-0.21</td>\n",
              "      <td>-0.19</td>\n",
              "      <td>0.02</td>\n",
              "      <td>0.02</td>\n",
              "      <td>0.03</td>\n",
              "      <td>-0.00</td>\n",
              "      <td>-0.00</td>\n",
              "      <td>-0.00</td>\n",
              "      <td>-0.00</td>\n",
              "      <td>-0.00</td>\n",
              "      <td>...</td>\n",
              "      <td>-0.00</td>\n",
              "      <td>-0.00</td>\n",
              "      <td>-0.00</td>\n",
              "      <td>-0.24</td>\n",
              "      <td>-0.26</td>\n",
              "      <td>1.00</td>\n",
              "      <td>-0.26</td>\n",
              "      <td>-0.26</td>\n",
              "      <td>-0.00</td>\n",
              "      <td>0.00</td>\n",
              "    </tr>\n",
              "    <tr>\n",
              "      <th>career_Under 3~5Y</th>\n",
              "      <td>-0.11</td>\n",
              "      <td>-0.06</td>\n",
              "      <td>0.07</td>\n",
              "      <td>-0.16</td>\n",
              "      <td>0.03</td>\n",
              "      <td>-0.00</td>\n",
              "      <td>-0.00</td>\n",
              "      <td>-0.00</td>\n",
              "      <td>-0.00</td>\n",
              "      <td>-0.00</td>\n",
              "      <td>...</td>\n",
              "      <td>-0.00</td>\n",
              "      <td>-0.00</td>\n",
              "      <td>-0.00</td>\n",
              "      <td>-0.24</td>\n",
              "      <td>-0.26</td>\n",
              "      <td>-0.26</td>\n",
              "      <td>1.00</td>\n",
              "      <td>-0.26</td>\n",
              "      <td>0.00</td>\n",
              "      <td>-0.00</td>\n",
              "    </tr>\n",
              "    <tr>\n",
              "      <th>career_Under 5~10Y</th>\n",
              "      <td>0.15</td>\n",
              "      <td>0.22</td>\n",
              "      <td>0.20</td>\n",
              "      <td>-0.02</td>\n",
              "      <td>0.03</td>\n",
              "      <td>-0.00</td>\n",
              "      <td>-0.00</td>\n",
              "      <td>-0.00</td>\n",
              "      <td>-0.00</td>\n",
              "      <td>-0.00</td>\n",
              "      <td>...</td>\n",
              "      <td>-0.00</td>\n",
              "      <td>-0.00</td>\n",
              "      <td>-0.00</td>\n",
              "      <td>-0.24</td>\n",
              "      <td>-0.26</td>\n",
              "      <td>-0.26</td>\n",
              "      <td>-0.26</td>\n",
              "      <td>1.00</td>\n",
              "      <td>0.00</td>\n",
              "      <td>-0.00</td>\n",
              "    </tr>\n",
              "    <tr>\n",
              "      <th>gender_F</th>\n",
              "      <td>-0.48</td>\n",
              "      <td>-0.16</td>\n",
              "      <td>-0.63</td>\n",
              "      <td>-0.28</td>\n",
              "      <td>0.00</td>\n",
              "      <td>0.00</td>\n",
              "      <td>0.00</td>\n",
              "      <td>0.00</td>\n",
              "      <td>0.00</td>\n",
              "      <td>0.00</td>\n",
              "      <td>...</td>\n",
              "      <td>0.00</td>\n",
              "      <td>0.00</td>\n",
              "      <td>0.00</td>\n",
              "      <td>0.00</td>\n",
              "      <td>0.00</td>\n",
              "      <td>-0.00</td>\n",
              "      <td>0.00</td>\n",
              "      <td>0.00</td>\n",
              "      <td>1.00</td>\n",
              "      <td>-1.00</td>\n",
              "    </tr>\n",
              "    <tr>\n",
              "      <th>gender_M</th>\n",
              "      <td>0.48</td>\n",
              "      <td>0.16</td>\n",
              "      <td>0.63</td>\n",
              "      <td>0.28</td>\n",
              "      <td>-0.00</td>\n",
              "      <td>0.00</td>\n",
              "      <td>0.00</td>\n",
              "      <td>0.00</td>\n",
              "      <td>0.00</td>\n",
              "      <td>0.00</td>\n",
              "      <td>...</td>\n",
              "      <td>0.00</td>\n",
              "      <td>0.00</td>\n",
              "      <td>0.00</td>\n",
              "      <td>0.00</td>\n",
              "      <td>-0.00</td>\n",
              "      <td>0.00</td>\n",
              "      <td>-0.00</td>\n",
              "      <td>-0.00</td>\n",
              "      <td>-1.00</td>\n",
              "      <td>1.00</td>\n",
              "    </tr>\n",
              "  </tbody>\n",
              "</table>\n",
              "<p>21 rows × 21 columns</p>\n",
              "</div>"
            ],
            "text/plain": [
              "                    salary  specialSalary  workTime  numberOfWorker  age_-19  \\\n",
              "salary                1.00           0.78      0.23            0.69    -0.23   \n",
              "specialSalary         0.78           1.00      0.05            0.66    -0.06   \n",
              "workTime              0.23           0.05      1.00           -0.12     0.21   \n",
              "numberOfWorker        0.69           0.66     -0.12            1.00    -0.25   \n",
              "age_-19              -0.23          -0.06      0.21           -0.25     1.00   \n",
              "age_20-24            -0.17           0.02      0.18           -0.16    -0.10   \n",
              "age_25-29            -0.01           0.10     -0.07            0.08    -0.10   \n",
              "age_30-34             0.11           0.11     -0.15            0.20    -0.10   \n",
              "age_35-39             0.19           0.09     -0.13            0.13    -0.10   \n",
              "age_40-44             0.17           0.05     -0.04            0.15    -0.10   \n",
              "age_45-49             0.12           0.01      0.06            0.05    -0.10   \n",
              "age_50-54             0.04          -0.02      0.06            0.02    -0.10   \n",
              "age_55-59            -0.03          -0.08      0.01           -0.11    -0.10   \n",
              "age_60-              -0.22          -0.23     -0.11           -0.14    -0.10   \n",
              "career_Above 10Y      0.55           0.54     -0.03            0.35    -0.14   \n",
              "career_Under 1Y      -0.35          -0.50     -0.26           -0.18     0.03   \n",
              "career_Under 1~3Y    -0.21          -0.19      0.02            0.02     0.03   \n",
              "career_Under 3~5Y    -0.11          -0.06      0.07           -0.16     0.03   \n",
              "career_Under 5~10Y    0.15           0.22      0.20           -0.02     0.03   \n",
              "gender_F             -0.48          -0.16     -0.63           -0.28     0.00   \n",
              "gender_M              0.48           0.16      0.63            0.28    -0.00   \n",
              "\n",
              "                    age_20-24  age_25-29  age_30-34  age_35-39  age_40-44  \\\n",
              "salary                  -0.17      -0.01       0.11       0.19       0.17   \n",
              "specialSalary            0.02       0.10       0.11       0.09       0.05   \n",
              "workTime                 0.18      -0.07      -0.15      -0.13      -0.04   \n",
              "numberOfWorker          -0.16       0.08       0.20       0.13       0.15   \n",
              "age_-19                 -0.10      -0.10      -0.10      -0.10      -0.10   \n",
              "age_20-24                1.00      -0.11      -0.11      -0.11      -0.11   \n",
              "age_25-29               -0.11       1.00      -0.11      -0.11      -0.11   \n",
              "age_30-34               -0.11      -0.11       1.00      -0.11      -0.11   \n",
              "age_35-39               -0.11      -0.11      -0.11       1.00      -0.11   \n",
              "age_40-44               -0.11      -0.11      -0.11      -0.11       1.00   \n",
              "age_45-49               -0.11      -0.11      -0.11      -0.11      -0.11   \n",
              "age_50-54               -0.11      -0.11      -0.11      -0.11      -0.11   \n",
              "age_55-59               -0.11      -0.11      -0.11      -0.11      -0.11   \n",
              "age_60-                 -0.11      -0.11      -0.11      -0.11      -0.11   \n",
              "career_Above 10Y         0.01       0.01       0.01       0.01       0.01   \n",
              "career_Under 1Y         -0.00      -0.00      -0.00      -0.00      -0.00   \n",
              "career_Under 1~3Y       -0.00      -0.00      -0.00      -0.00      -0.00   \n",
              "career_Under 3~5Y       -0.00      -0.00      -0.00      -0.00      -0.00   \n",
              "career_Under 5~10Y      -0.00      -0.00      -0.00      -0.00      -0.00   \n",
              "gender_F                 0.00       0.00       0.00       0.00       0.00   \n",
              "gender_M                 0.00       0.00       0.00       0.00       0.00   \n",
              "\n",
              "                    ...  age_50-54  age_55-59  age_60-  career_Above 10Y  \\\n",
              "salary              ...       0.04      -0.03    -0.22              0.55   \n",
              "specialSalary       ...      -0.02      -0.08    -0.23              0.54   \n",
              "workTime            ...       0.06       0.01    -0.11             -0.03   \n",
              "numberOfWorker      ...       0.02      -0.11    -0.14              0.35   \n",
              "age_-19             ...      -0.10      -0.10    -0.10             -0.14   \n",
              "age_20-24           ...      -0.11      -0.11    -0.11              0.01   \n",
              "age_25-29           ...      -0.11      -0.11    -0.11              0.01   \n",
              "age_30-34           ...      -0.11      -0.11    -0.11              0.01   \n",
              "age_35-39           ...      -0.11      -0.11    -0.11              0.01   \n",
              "age_40-44           ...      -0.11      -0.11    -0.11              0.01   \n",
              "age_45-49           ...      -0.11      -0.11    -0.11              0.01   \n",
              "age_50-54           ...       1.00      -0.11    -0.11              0.01   \n",
              "age_55-59           ...      -0.11       1.00    -0.11              0.01   \n",
              "age_60-             ...      -0.11      -0.11     1.00              0.01   \n",
              "career_Above 10Y    ...       0.01       0.01     0.01              1.00   \n",
              "career_Under 1Y     ...      -0.00      -0.00    -0.00             -0.24   \n",
              "career_Under 1~3Y   ...      -0.00      -0.00    -0.00             -0.24   \n",
              "career_Under 3~5Y   ...      -0.00      -0.00    -0.00             -0.24   \n",
              "career_Under 5~10Y  ...      -0.00      -0.00    -0.00             -0.24   \n",
              "gender_F            ...       0.00       0.00     0.00              0.00   \n",
              "gender_M            ...       0.00       0.00     0.00              0.00   \n",
              "\n",
              "                    career_Under 1Y  career_Under 1~3Y  career_Under 3~5Y  \\\n",
              "salary                        -0.35              -0.21              -0.11   \n",
              "specialSalary                 -0.50              -0.19              -0.06   \n",
              "workTime                      -0.26               0.02               0.07   \n",
              "numberOfWorker                -0.18               0.02              -0.16   \n",
              "age_-19                        0.03               0.03               0.03   \n",
              "age_20-24                     -0.00              -0.00              -0.00   \n",
              "age_25-29                     -0.00              -0.00              -0.00   \n",
              "age_30-34                     -0.00              -0.00              -0.00   \n",
              "age_35-39                     -0.00              -0.00              -0.00   \n",
              "age_40-44                     -0.00              -0.00              -0.00   \n",
              "age_45-49                     -0.00              -0.00              -0.00   \n",
              "age_50-54                     -0.00              -0.00              -0.00   \n",
              "age_55-59                     -0.00              -0.00              -0.00   \n",
              "age_60-                       -0.00              -0.00              -0.00   \n",
              "career_Above 10Y              -0.24              -0.24              -0.24   \n",
              "career_Under 1Y                1.00              -0.26              -0.26   \n",
              "career_Under 1~3Y             -0.26               1.00              -0.26   \n",
              "career_Under 3~5Y             -0.26              -0.26               1.00   \n",
              "career_Under 5~10Y            -0.26              -0.26              -0.26   \n",
              "gender_F                       0.00              -0.00               0.00   \n",
              "gender_M                      -0.00               0.00              -0.00   \n",
              "\n",
              "                    career_Under 5~10Y  gender_F  gender_M  \n",
              "salary                            0.15     -0.48      0.48  \n",
              "specialSalary                     0.22     -0.16      0.16  \n",
              "workTime                          0.20     -0.63      0.63  \n",
              "numberOfWorker                   -0.02     -0.28      0.28  \n",
              "age_-19                           0.03      0.00     -0.00  \n",
              "age_20-24                        -0.00      0.00      0.00  \n",
              "age_25-29                        -0.00      0.00      0.00  \n",
              "age_30-34                        -0.00      0.00      0.00  \n",
              "age_35-39                        -0.00      0.00      0.00  \n",
              "age_40-44                        -0.00      0.00      0.00  \n",
              "age_45-49                        -0.00      0.00      0.00  \n",
              "age_50-54                        -0.00      0.00      0.00  \n",
              "age_55-59                        -0.00      0.00      0.00  \n",
              "age_60-                          -0.00      0.00      0.00  \n",
              "career_Above 10Y                 -0.24      0.00      0.00  \n",
              "career_Under 1Y                  -0.26      0.00     -0.00  \n",
              "career_Under 1~3Y                -0.26     -0.00      0.00  \n",
              "career_Under 3~5Y                -0.26      0.00     -0.00  \n",
              "career_Under 5~10Y                1.00      0.00     -0.00  \n",
              "gender_F                          0.00      1.00     -1.00  \n",
              "gender_M                         -0.00     -1.00      1.00  \n",
              "\n",
              "[21 rows x 21 columns]"
            ]
          },
          "metadata": {
            "tags": []
          },
          "execution_count": 33
        }
      ]
    },
    {
      "cell_type": "code",
      "metadata": {
        "id": "mOKCIqzLz5s3"
      },
      "source": [
        "# LabelEncoding 방식 소개"
      ],
      "execution_count": null,
      "outputs": []
    },
    {
      "cell_type": "markdown",
      "metadata": {
        "id": "lMOLspmGxNzg"
      },
      "source": [
        "### LabelEncoding 사용"
      ]
    },
    {
      "cell_type": "code",
      "metadata": {
        "colab": {
          "base_uri": "https://localhost:8080/",
          "height": 143
        },
        "id": "jBE58Mm0xDXF",
        "outputId": "9b9f3e83-a53c-41d1-9cf7-fca208e74dd1"
      },
      "source": [
        "df3 = df.copy()\n",
        "df3.head(3)"
      ],
      "execution_count": null,
      "outputs": [
        {
          "output_type": "execute_result",
          "data": {
            "text/html": [
              "<div>\n",
              "<style scoped>\n",
              "    .dataframe tbody tr th:only-of-type {\n",
              "        vertical-align: middle;\n",
              "    }\n",
              "\n",
              "    .dataframe tbody tr th {\n",
              "        vertical-align: top;\n",
              "    }\n",
              "\n",
              "    .dataframe thead th {\n",
              "        text-align: right;\n",
              "    }\n",
              "</style>\n",
              "<table border=\"1\" class=\"dataframe\">\n",
              "  <thead>\n",
              "    <tr style=\"text-align: right;\">\n",
              "      <th></th>\n",
              "      <th>age</th>\n",
              "      <th>salary</th>\n",
              "      <th>specialSalary</th>\n",
              "      <th>workTime</th>\n",
              "      <th>numberOfWorker</th>\n",
              "      <th>career</th>\n",
              "      <th>gender</th>\n",
              "    </tr>\n",
              "  </thead>\n",
              "  <tbody>\n",
              "    <tr>\n",
              "      <th>0</th>\n",
              "      <td>-19</td>\n",
              "      <td>1,346,534.00</td>\n",
              "      <td>151,840.00</td>\n",
              "      <td>169.50</td>\n",
              "      <td>15,042.00</td>\n",
              "      <td>Under 1Y</td>\n",
              "      <td>M</td>\n",
              "    </tr>\n",
              "    <tr>\n",
              "      <th>1</th>\n",
              "      <td>20-24</td>\n",
              "      <td>1,584,214.00</td>\n",
              "      <td>115,375.00</td>\n",
              "      <td>180.10</td>\n",
              "      <td>74,251.00</td>\n",
              "      <td>Under 1Y</td>\n",
              "      <td>M</td>\n",
              "    </tr>\n",
              "    <tr>\n",
              "      <th>2</th>\n",
              "      <td>25-29</td>\n",
              "      <td>1,922,043.00</td>\n",
              "      <td>268,058.00</td>\n",
              "      <td>178.00</td>\n",
              "      <td>143,338.00</td>\n",
              "      <td>Under 1Y</td>\n",
              "      <td>M</td>\n",
              "    </tr>\n",
              "  </tbody>\n",
              "</table>\n",
              "</div>"
            ],
            "text/plain": [
              "     age       salary  specialSalary  workTime  numberOfWorker    career  \\\n",
              "0    -19 1,346,534.00     151,840.00    169.50       15,042.00  Under 1Y   \n",
              "1  20-24 1,584,214.00     115,375.00    180.10       74,251.00  Under 1Y   \n",
              "2  25-29 1,922,043.00     268,058.00    178.00      143,338.00  Under 1Y   \n",
              "\n",
              "  gender  \n",
              "0      M  \n",
              "1      M  \n",
              "2      M  "
            ]
          },
          "metadata": {
            "tags": []
          },
          "execution_count": 71
        }
      ]
    },
    {
      "cell_type": "code",
      "metadata": {
        "colab": {
          "base_uri": "https://localhost:8080/",
          "height": 143
        },
        "id": "Lyihp9uixcu0",
        "outputId": "50240e93-f71a-46eb-fcf6-bd38e432bbe9"
      },
      "source": [
        "# age를 숫자 데이타로 변경\n",
        "df3['ageL'] = df3.age.astype('category').cat.codes\n",
        "df3.head(3)"
      ],
      "execution_count": null,
      "outputs": [
        {
          "output_type": "execute_result",
          "data": {
            "text/html": [
              "<div>\n",
              "<style scoped>\n",
              "    .dataframe tbody tr th:only-of-type {\n",
              "        vertical-align: middle;\n",
              "    }\n",
              "\n",
              "    .dataframe tbody tr th {\n",
              "        vertical-align: top;\n",
              "    }\n",
              "\n",
              "    .dataframe thead th {\n",
              "        text-align: right;\n",
              "    }\n",
              "</style>\n",
              "<table border=\"1\" class=\"dataframe\">\n",
              "  <thead>\n",
              "    <tr style=\"text-align: right;\">\n",
              "      <th></th>\n",
              "      <th>age</th>\n",
              "      <th>salary</th>\n",
              "      <th>specialSalary</th>\n",
              "      <th>workTime</th>\n",
              "      <th>numberOfWorker</th>\n",
              "      <th>career</th>\n",
              "      <th>gender</th>\n",
              "      <th>ageL</th>\n",
              "    </tr>\n",
              "  </thead>\n",
              "  <tbody>\n",
              "    <tr>\n",
              "      <th>0</th>\n",
              "      <td>-19</td>\n",
              "      <td>1,346,534.00</td>\n",
              "      <td>151,840.00</td>\n",
              "      <td>169.50</td>\n",
              "      <td>15,042.00</td>\n",
              "      <td>Under 1Y</td>\n",
              "      <td>M</td>\n",
              "      <td>0</td>\n",
              "    </tr>\n",
              "    <tr>\n",
              "      <th>1</th>\n",
              "      <td>20-24</td>\n",
              "      <td>1,584,214.00</td>\n",
              "      <td>115,375.00</td>\n",
              "      <td>180.10</td>\n",
              "      <td>74,251.00</td>\n",
              "      <td>Under 1Y</td>\n",
              "      <td>M</td>\n",
              "      <td>1</td>\n",
              "    </tr>\n",
              "    <tr>\n",
              "      <th>2</th>\n",
              "      <td>25-29</td>\n",
              "      <td>1,922,043.00</td>\n",
              "      <td>268,058.00</td>\n",
              "      <td>178.00</td>\n",
              "      <td>143,338.00</td>\n",
              "      <td>Under 1Y</td>\n",
              "      <td>M</td>\n",
              "      <td>2</td>\n",
              "    </tr>\n",
              "  </tbody>\n",
              "</table>\n",
              "</div>"
            ],
            "text/plain": [
              "     age       salary  specialSalary  workTime  numberOfWorker    career  \\\n",
              "0    -19 1,346,534.00     151,840.00    169.50       15,042.00  Under 1Y   \n",
              "1  20-24 1,584,214.00     115,375.00    180.10       74,251.00  Under 1Y   \n",
              "2  25-29 1,922,043.00     268,058.00    178.00      143,338.00  Under 1Y   \n",
              "\n",
              "  gender  ageL  \n",
              "0      M     0  \n",
              "1      M     1  \n",
              "2      M     2  "
            ]
          },
          "metadata": {
            "tags": []
          },
          "execution_count": 72
        }
      ]
    },
    {
      "cell_type": "code",
      "metadata": {
        "colab": {
          "base_uri": "https://localhost:8080/",
          "height": 143
        },
        "id": "rFllRnFMxlMZ",
        "outputId": "3e3c3bba-c18d-4171-98c4-c1be82f7d7fd"
      },
      "source": [
        "# career을 숫자 데이타로 변경\n",
        "df3['careerL'] = df3.career.astype('category').cat.codes\n",
        "df3.head(3)"
      ],
      "execution_count": null,
      "outputs": [
        {
          "output_type": "execute_result",
          "data": {
            "text/html": [
              "<div>\n",
              "<style scoped>\n",
              "    .dataframe tbody tr th:only-of-type {\n",
              "        vertical-align: middle;\n",
              "    }\n",
              "\n",
              "    .dataframe tbody tr th {\n",
              "        vertical-align: top;\n",
              "    }\n",
              "\n",
              "    .dataframe thead th {\n",
              "        text-align: right;\n",
              "    }\n",
              "</style>\n",
              "<table border=\"1\" class=\"dataframe\">\n",
              "  <thead>\n",
              "    <tr style=\"text-align: right;\">\n",
              "      <th></th>\n",
              "      <th>age</th>\n",
              "      <th>salary</th>\n",
              "      <th>specialSalary</th>\n",
              "      <th>workTime</th>\n",
              "      <th>numberOfWorker</th>\n",
              "      <th>career</th>\n",
              "      <th>gender</th>\n",
              "      <th>ageL</th>\n",
              "      <th>careerL</th>\n",
              "    </tr>\n",
              "  </thead>\n",
              "  <tbody>\n",
              "    <tr>\n",
              "      <th>0</th>\n",
              "      <td>-19</td>\n",
              "      <td>1,346,534.00</td>\n",
              "      <td>151,840.00</td>\n",
              "      <td>169.50</td>\n",
              "      <td>15,042.00</td>\n",
              "      <td>Under 1Y</td>\n",
              "      <td>M</td>\n",
              "      <td>0</td>\n",
              "      <td>1</td>\n",
              "    </tr>\n",
              "    <tr>\n",
              "      <th>1</th>\n",
              "      <td>20-24</td>\n",
              "      <td>1,584,214.00</td>\n",
              "      <td>115,375.00</td>\n",
              "      <td>180.10</td>\n",
              "      <td>74,251.00</td>\n",
              "      <td>Under 1Y</td>\n",
              "      <td>M</td>\n",
              "      <td>1</td>\n",
              "      <td>1</td>\n",
              "    </tr>\n",
              "    <tr>\n",
              "      <th>2</th>\n",
              "      <td>25-29</td>\n",
              "      <td>1,922,043.00</td>\n",
              "      <td>268,058.00</td>\n",
              "      <td>178.00</td>\n",
              "      <td>143,338.00</td>\n",
              "      <td>Under 1Y</td>\n",
              "      <td>M</td>\n",
              "      <td>2</td>\n",
              "      <td>1</td>\n",
              "    </tr>\n",
              "  </tbody>\n",
              "</table>\n",
              "</div>"
            ],
            "text/plain": [
              "     age       salary  specialSalary  workTime  numberOfWorker    career  \\\n",
              "0    -19 1,346,534.00     151,840.00    169.50       15,042.00  Under 1Y   \n",
              "1  20-24 1,584,214.00     115,375.00    180.10       74,251.00  Under 1Y   \n",
              "2  25-29 1,922,043.00     268,058.00    178.00      143,338.00  Under 1Y   \n",
              "\n",
              "  gender  ageL  careerL  \n",
              "0      M     0        1  \n",
              "1      M     1        1  \n",
              "2      M     2        1  "
            ]
          },
          "metadata": {
            "tags": []
          },
          "execution_count": 73
        }
      ]
    },
    {
      "cell_type": "code",
      "metadata": {
        "colab": {
          "base_uri": "https://localhost:8080/",
          "height": 143
        },
        "id": "ddRSpdAnxwEZ",
        "outputId": "3fc0a11e-f2e7-4969-d060-3e5ccf3e3fbf"
      },
      "source": [
        "# gender를 숫자 데이터로 변경\n",
        "df3['genderL'] = df3.gender.astype('category').cat.codes\n",
        "df3.head(3)"
      ],
      "execution_count": null,
      "outputs": [
        {
          "output_type": "execute_result",
          "data": {
            "text/html": [
              "<div>\n",
              "<style scoped>\n",
              "    .dataframe tbody tr th:only-of-type {\n",
              "        vertical-align: middle;\n",
              "    }\n",
              "\n",
              "    .dataframe tbody tr th {\n",
              "        vertical-align: top;\n",
              "    }\n",
              "\n",
              "    .dataframe thead th {\n",
              "        text-align: right;\n",
              "    }\n",
              "</style>\n",
              "<table border=\"1\" class=\"dataframe\">\n",
              "  <thead>\n",
              "    <tr style=\"text-align: right;\">\n",
              "      <th></th>\n",
              "      <th>age</th>\n",
              "      <th>salary</th>\n",
              "      <th>specialSalary</th>\n",
              "      <th>workTime</th>\n",
              "      <th>numberOfWorker</th>\n",
              "      <th>career</th>\n",
              "      <th>gender</th>\n",
              "      <th>ageL</th>\n",
              "      <th>careerL</th>\n",
              "      <th>genderL</th>\n",
              "    </tr>\n",
              "  </thead>\n",
              "  <tbody>\n",
              "    <tr>\n",
              "      <th>0</th>\n",
              "      <td>-19</td>\n",
              "      <td>1,346,534.00</td>\n",
              "      <td>151,840.00</td>\n",
              "      <td>169.50</td>\n",
              "      <td>15,042.00</td>\n",
              "      <td>Under 1Y</td>\n",
              "      <td>M</td>\n",
              "      <td>0</td>\n",
              "      <td>1</td>\n",
              "      <td>1</td>\n",
              "    </tr>\n",
              "    <tr>\n",
              "      <th>1</th>\n",
              "      <td>20-24</td>\n",
              "      <td>1,584,214.00</td>\n",
              "      <td>115,375.00</td>\n",
              "      <td>180.10</td>\n",
              "      <td>74,251.00</td>\n",
              "      <td>Under 1Y</td>\n",
              "      <td>M</td>\n",
              "      <td>1</td>\n",
              "      <td>1</td>\n",
              "      <td>1</td>\n",
              "    </tr>\n",
              "    <tr>\n",
              "      <th>2</th>\n",
              "      <td>25-29</td>\n",
              "      <td>1,922,043.00</td>\n",
              "      <td>268,058.00</td>\n",
              "      <td>178.00</td>\n",
              "      <td>143,338.00</td>\n",
              "      <td>Under 1Y</td>\n",
              "      <td>M</td>\n",
              "      <td>2</td>\n",
              "      <td>1</td>\n",
              "      <td>1</td>\n",
              "    </tr>\n",
              "  </tbody>\n",
              "</table>\n",
              "</div>"
            ],
            "text/plain": [
              "     age       salary  specialSalary  workTime  numberOfWorker    career  \\\n",
              "0    -19 1,346,534.00     151,840.00    169.50       15,042.00  Under 1Y   \n",
              "1  20-24 1,584,214.00     115,375.00    180.10       74,251.00  Under 1Y   \n",
              "2  25-29 1,922,043.00     268,058.00    178.00      143,338.00  Under 1Y   \n",
              "\n",
              "  gender  ageL  careerL  genderL  \n",
              "0      M     0        1        1  \n",
              "1      M     1        1        1  \n",
              "2      M     2        1        1  "
            ]
          },
          "metadata": {
            "tags": []
          },
          "execution_count": 74
        }
      ]
    },
    {
      "cell_type": "code",
      "metadata": {
        "colab": {
          "base_uri": "https://localhost:8080/",
          "height": 143
        },
        "id": "gJJi__QoyCaJ",
        "outputId": "41635015-534d-4d04-938b-ec62515af738"
      },
      "source": [
        "df3 = df3[['salary', 'specialSalary', 'workTime', 'numberOfWorker', 'ageL', 'careerL', 'genderL']]\n",
        "df3.head(3)"
      ],
      "execution_count": null,
      "outputs": [
        {
          "output_type": "execute_result",
          "data": {
            "text/html": [
              "<div>\n",
              "<style scoped>\n",
              "    .dataframe tbody tr th:only-of-type {\n",
              "        vertical-align: middle;\n",
              "    }\n",
              "\n",
              "    .dataframe tbody tr th {\n",
              "        vertical-align: top;\n",
              "    }\n",
              "\n",
              "    .dataframe thead th {\n",
              "        text-align: right;\n",
              "    }\n",
              "</style>\n",
              "<table border=\"1\" class=\"dataframe\">\n",
              "  <thead>\n",
              "    <tr style=\"text-align: right;\">\n",
              "      <th></th>\n",
              "      <th>salary</th>\n",
              "      <th>specialSalary</th>\n",
              "      <th>workTime</th>\n",
              "      <th>numberOfWorker</th>\n",
              "      <th>ageL</th>\n",
              "      <th>careerL</th>\n",
              "      <th>genderL</th>\n",
              "    </tr>\n",
              "  </thead>\n",
              "  <tbody>\n",
              "    <tr>\n",
              "      <th>0</th>\n",
              "      <td>1,346,534.00</td>\n",
              "      <td>151,840.00</td>\n",
              "      <td>169.50</td>\n",
              "      <td>15,042.00</td>\n",
              "      <td>0</td>\n",
              "      <td>1</td>\n",
              "      <td>1</td>\n",
              "    </tr>\n",
              "    <tr>\n",
              "      <th>1</th>\n",
              "      <td>1,584,214.00</td>\n",
              "      <td>115,375.00</td>\n",
              "      <td>180.10</td>\n",
              "      <td>74,251.00</td>\n",
              "      <td>1</td>\n",
              "      <td>1</td>\n",
              "      <td>1</td>\n",
              "    </tr>\n",
              "    <tr>\n",
              "      <th>2</th>\n",
              "      <td>1,922,043.00</td>\n",
              "      <td>268,058.00</td>\n",
              "      <td>178.00</td>\n",
              "      <td>143,338.00</td>\n",
              "      <td>2</td>\n",
              "      <td>1</td>\n",
              "      <td>1</td>\n",
              "    </tr>\n",
              "  </tbody>\n",
              "</table>\n",
              "</div>"
            ],
            "text/plain": [
              "        salary  specialSalary  workTime  numberOfWorker  ageL  careerL  \\\n",
              "0 1,346,534.00     151,840.00    169.50       15,042.00     0        1   \n",
              "1 1,584,214.00     115,375.00    180.10       74,251.00     1        1   \n",
              "2 1,922,043.00     268,058.00    178.00      143,338.00     2        1   \n",
              "\n",
              "   genderL  \n",
              "0        1  \n",
              "1        1  \n",
              "2        1  "
            ]
          },
          "metadata": {
            "tags": []
          },
          "execution_count": 75
        }
      ]
    },
    {
      "cell_type": "markdown",
      "metadata": {
        "id": "R5lhNycZN2Wr"
      },
      "source": [
        "### Machine Learning"
      ]
    },
    {
      "cell_type": "code",
      "metadata": {
        "id": "6Bi7Jn5ueipk"
      },
      "source": [
        "# 회귀 분석에 필요한 라이브러리 import\n",
        "from sklearn.linear_model import LinearRegression, SGDRegressor\n",
        "from sklearn.preprocessing import PolynomialFeatures\n",
        "from sklearn.linear_model import Lasso\n",
        "from sklearn.model_selection import train_test_split\n",
        "from sklearn.preprocessing import StandardScaler\n",
        "from sklearn.metrics import mean_squared_error, r2_score, mean_absolute_error"
      ],
      "execution_count": null,
      "outputs": []
    },
    {
      "cell_type": "code",
      "metadata": {
        "colab": {
          "base_uri": "https://localhost:8080/",
          "height": 204
        },
        "id": "cFNuxnjGLRwO",
        "outputId": "6d8c6e90-c70c-4082-f75c-1c8aa4c7f490"
      },
      "source": [
        "# [25] 데이터셋을 X, y로 분리하고 스케일링을 한다\n",
        "# df2로 실행하여 보고, df3로 수정하여 실행해 보세요.\n",
        "X = # df2의 첫 번째 열을 제외한 모든 열\n",
        "y = # df2의 첫 번째 열\n",
        "X_scaled = # StandardScaler를 사용한 스케일링\n",
        "\n",
        "# 스케일이 되었는지 확인하는 코드\n",
        "X_scaled[:1]"
      ],
      "execution_count": null,
      "outputs": [
        {
          "output_type": "execute_result",
          "data": {
            "text/plain": [
              "array([[-1.29549661, -0.99336865, -0.73189472, -0.74830343,  3.35410197,\n",
              "        -0.33709993, -0.33709993, -0.33709993, -0.33709993, -0.33709993,\n",
              "        -0.33709993, -0.33709993, -0.33709993, -0.33709993, -0.47434165,\n",
              "         1.97484177, -0.50636968, -0.50636968, -0.50636968, -1.        ]])"
            ]
          },
          "metadata": {
            "tags": []
          },
          "execution_count": 35
        }
      ]
    },
    {
      "cell_type": "code",
      "metadata": {
        "id": "G8D5gdtCMbqf"
      },
      "source": [
        "# [26] train_test_split을 사용하여 적절하게 train, test에 대한 작업을 한다\n",
        "# random_state=0을 사용하며 train_size을 0.7~ 0.8 범위로 임의지정함\n",
        "X_train, X_test, y_train, y_test = # train, test 분할 작업\n",
        "[x.shape for x in [X_train, X_test, y_train, y_test]]"
      ],
      "execution_count": null,
      "outputs": []
    },
    {
      "cell_type": "code",
      "metadata": {
        "id": "zwObX8xYVMjT"
      },
      "source": [
        "# [27] LinearRegression 회귀 분석 및 성능평가\n",
        "model_lr = # LinearRegression 모델 정의 및 학습\n",
        "pred = # 모델을 사용하여 X_test에 대한 예측값 구하기\n",
        "mse = mean_squared_error(y_test, pred)\n",
        "rmse = mse ** 2\n",
        "mae = mean_absolute_error(y_test, pred)\n",
        "r2 = r2_score(y_test, pred)\n",
        "print(f'train r2 {model_lr.score(X_test, y_test)}')\n",
        "print(f'test mse:{mse:.3f}, rmse:{rmse:.3f},  mae:{mae:.3f}, r2:{r2:.3f}')"
      ],
      "execution_count": null,
      "outputs": []
    },
    {
      "cell_type": "code",
      "metadata": {
        "id": "7gcVtF3Qeipl"
      },
      "source": [
        "# [28] SGDRegressor 회귀 분석 및 성능평가\n",
        "model_sgd = # SGDRegressor 모델 정의 및 학습\n",
        "pred = # 모델을 사용하여 X_test에 대한 예측값 구하기\n",
        "mse = mean_squared_error(y_test, pred)\n",
        "rmse = mse ** 2\n",
        "mae = mean_absolute_error(y_test, pred)\n",
        "r2 = r2_score(y_test, pred)\n",
        "print(f'train r2 {model_sgd.score(X_test, y_test)}')\n",
        "print(f'test mse:{mse:.3f}, rmse:{rmse:.3f},  mae:{mae:.3f}, r2:{r2:.3f}')"
      ],
      "execution_count": null,
      "outputs": []
    },
    {
      "cell_type": "code",
      "metadata": {
        "id": "_MCR0Wiseipm"
      },
      "source": [
        "# [29] 다항 회귀 분석 및 성능평가 - PolynomialFeatures, Lasso\n",
        "\n",
        "pe = # PolynomialFeatures 객체 생성 degree=2, include_bias=False 사용\n",
        "X_poly = # pe를 사용하여 X_scaled를 변환\n",
        "X_train, X_test, y_train, y_test = train_test_split(X_poly, y, random_state=0)\n",
        "model_lasso = # Lasso 모델 정의 및 학습 (alpha 값은 임의 지정- 좋은 값을 찾을 것)\n",
        "pred = model_lasso.predict(X_test)\n",
        "mse = mean_squared_error(y_test, pred)\n",
        "rmse = mse ** 2\n",
        "mae = mean_absolute_error(y_test, pred)\n",
        "r2 = r2_score(y_test, pred)\n",
        "print(f'train r2 {model_lasso.score(X_test, y_test)}')\n",
        "print(f'test mse:{mse:.3f}, rmse:{rmse:.3f},  mae:{mae:.3f}, r2:{r2:.3f}')"
      ],
      "execution_count": null,
      "outputs": []
    },
    {
      "cell_type": "code",
      "metadata": {
        "id": "HAs6XySDeipm"
      },
      "source": [
        "#[30] shelve 파일에 model을 저장하여 보세요\n",
        "import shelve\n",
        "with shelve.open('./data/DBGroupData') as data:\n",
        "    data['salary_model_lr'] = model_lr\n",
        "    data['salary_model_lasso'] = model_lasso"
      ],
      "execution_count": null,
      "outputs": []
    },
    {
      "cell_type": "code",
      "metadata": {
        "id": "8FoU2UeZe1AS"
      },
      "source": [
        "# 앙상블 모델 (Regressor) - 학습전의 내용이라 넣어 두었습니다.\n",
        "from sklearn.ensemble import RandomForestRegressor\n",
        "\n",
        "rf = RandomForestRegressor(n_estimators=200, max_depth=10, random_state=0)\n",
        "rf.fit(X_train, y_train)\n",
        "pred = rf.predict(X_test)\n",
        "mse = mean_squared_error(y_test, pred)\n",
        "rmse = mse ** 2\n",
        "mae = mean_absolute_error(y_test, pred)\n",
        "r2 = r2_score(y_test, pred)\n",
        "print(f'train r2 {rf.score(X_test, y_test)}')\n",
        "print(f'test mse:{mse:.3f}, rmse:{rmse:.3f},  mae:{mae:.3f}, r2:{r2:.3f}')"
      ],
      "execution_count": null,
      "outputs": []
    }
  ]
}