{
  "nbformat": 4,
  "nbformat_minor": 0,
  "metadata": {
    "colab": {
      "name": "bicycle_LAB.ipynb",
      "provenance": [],
      "collapsed_sections": [],
      "include_colab_link": true
    },
    "kernelspec": {
      "name": "python3",
      "display_name": "Python 3"
    },
    "language_info": {
      "name": "python"
    }
  },
  "cells": [
    {
      "cell_type": "markdown",
      "metadata": {
        "id": "view-in-github",
        "colab_type": "text"
      },
      "source": [
        "<a href=\"https://colab.research.google.com/github/skyworld19/ds-school-advanced/blob/master/bicycle_LAB.ipynb\" target=\"_parent\"><img src=\"https://colab.research.google.com/assets/colab-badge.svg\" alt=\"Open In Colab\"/></a>"
      ]
    },
    {
      "cell_type": "markdown",
      "metadata": {
        "id": "XUPWlWuCVYYE"
      },
      "source": [
        "##데이타 다운"
      ]
    },
    {
      "cell_type": "code",
      "metadata": {
        "id": "MIoEz7R4U_D9",
        "colab": {
          "base_uri": "https://localhost:8080/"
        },
        "outputId": "e525ac44-5795-4da7-a315-ce9289e3dfd3"
      },
      "source": [
        "!wget -N --http-user=mysuni --http-passwd=mysuni1! http://sk.jaen.kr:8080/datasets/seoul_bicycle.csv"
      ],
      "execution_count": null,
      "outputs": [
        {
          "output_type": "stream",
          "text": [
            "--2021-07-26 08:44:38--  http://sk.jaen.kr:8080/datasets/seoul_bicycle.csv\n",
            "Resolving sk.jaen.kr (sk.jaen.kr)... 49.247.134.238\n",
            "Connecting to sk.jaen.kr (sk.jaen.kr)|49.247.134.238|:8080... connected.\n",
            "HTTP request sent, awaiting response... 401 Unauthorized\n",
            "Authentication selected: Basic realm=\"Authentication required.\"\n",
            "Reusing existing connection to sk.jaen.kr:8080.\n",
            "HTTP request sent, awaiting response... 200 OK\n",
            "Length: 31147551 (30M) [text/csv]\n",
            "Saving to: ‘seoul_bicycle.csv’\n",
            "\n",
            "seoul_bicycle.csv   100%[===================>]  29.70M  9.91MB/s    in 3.0s    \n",
            "\n",
            "2021-07-26 08:44:41 (9.91 MB/s) - ‘seoul_bicycle.csv’ saved [31147551/31147551]\n",
            "\n"
          ],
          "name": "stdout"
        }
      ]
    },
    {
      "cell_type": "markdown",
      "metadata": {
        "id": "VG7KimE0VTzs"
      },
      "source": [
        "### 데이타 로드"
      ]
    },
    {
      "cell_type": "code",
      "metadata": {
        "id": "CzNm04uTVTDP",
        "colab": {
          "base_uri": "https://localhost:8080/"
        },
        "outputId": "c5a42f52-81a8-4487-a2ba-6b2595c0efa4"
      },
      "source": [
        "import sklearn.model_selection as model_selection\n",
        "import pandas as pd\n",
        "bicycle = pd.read_csv('seoul_bicycle.csv', na_values='\\\\N')\n",
        "bicycle.info()"
      ],
      "execution_count": null,
      "outputs": [
        {
          "output_type": "stream",
          "text": [
            "<class 'pandas.core.frame.DataFrame'>\n",
            "RangeIndex: 327231 entries, 0 to 327230\n",
            "Data columns (total 11 columns):\n",
            " #   Column  Non-Null Count   Dtype  \n",
            "---  ------  --------------   -----  \n",
            " 0   대여일자    327231 non-null  object \n",
            " 1   대여소번호   327231 non-null  int64  \n",
            " 2   대여소명    327231 non-null  object \n",
            " 3   대여구분코드  327231 non-null  object \n",
            " 4   성별      158123 non-null  object \n",
            " 5   연령대코드   327231 non-null  object \n",
            " 6   이용건수    327231 non-null  int64  \n",
            " 7   운동량     326830 non-null  float64\n",
            " 8   탄소량     326830 non-null  float64\n",
            " 9   이동거리    327231 non-null  float64\n",
            " 10  이용시간    327231 non-null  int64  \n",
            "dtypes: float64(3), int64(3), object(5)\n",
            "memory usage: 27.5+ MB\n"
          ],
          "name": "stdout"
        }
      ]
    },
    {
      "cell_type": "code",
      "metadata": {
        "id": "D1XZCkuxVqI5",
        "colab": {
          "base_uri": "https://localhost:8080/",
          "height": 205
        },
        "outputId": "624faab8-0f23-4631-e7e9-5a146b857247"
      },
      "source": [
        "# 데이터의 내용 확인을 위해 앞의 데이터 5개 출력\n"
      ],
      "execution_count": null,
      "outputs": [
        {
          "output_type": "execute_result",
          "data": {
            "text/html": [
              "<div>\n",
              "<style scoped>\n",
              "    .dataframe tbody tr th:only-of-type {\n",
              "        vertical-align: middle;\n",
              "    }\n",
              "\n",
              "    .dataframe tbody tr th {\n",
              "        vertical-align: top;\n",
              "    }\n",
              "\n",
              "    .dataframe thead th {\n",
              "        text-align: right;\n",
              "    }\n",
              "</style>\n",
              "<table border=\"1\" class=\"dataframe\">\n",
              "  <thead>\n",
              "    <tr style=\"text-align: right;\">\n",
              "      <th></th>\n",
              "      <th>대여일자</th>\n",
              "      <th>대여소번호</th>\n",
              "      <th>대여소명</th>\n",
              "      <th>대여구분코드</th>\n",
              "      <th>성별</th>\n",
              "      <th>연령대코드</th>\n",
              "      <th>이용건수</th>\n",
              "      <th>운동량</th>\n",
              "      <th>탄소량</th>\n",
              "      <th>이동거리</th>\n",
              "      <th>이용시간</th>\n",
              "    </tr>\n",
              "  </thead>\n",
              "  <tbody>\n",
              "    <tr>\n",
              "      <th>0</th>\n",
              "      <td>Jan-20-2020</td>\n",
              "      <td>3</td>\n",
              "      <td>중랑센터</td>\n",
              "      <td>일일(회원)</td>\n",
              "      <td>M</td>\n",
              "      <td>AGE_003</td>\n",
              "      <td>3</td>\n",
              "      <td>61.82</td>\n",
              "      <td>0.52</td>\n",
              "      <td>2230.0</td>\n",
              "      <td>75</td>\n",
              "    </tr>\n",
              "    <tr>\n",
              "      <th>1</th>\n",
              "      <td>Jan-20-2020</td>\n",
              "      <td>3</td>\n",
              "      <td>중랑센터</td>\n",
              "      <td>일일(회원)</td>\n",
              "      <td>M</td>\n",
              "      <td>AGE_004</td>\n",
              "      <td>1</td>\n",
              "      <td>39.62</td>\n",
              "      <td>0.28</td>\n",
              "      <td>1220.0</td>\n",
              "      <td>15</td>\n",
              "    </tr>\n",
              "    <tr>\n",
              "      <th>2</th>\n",
              "      <td>Jan-20-2020</td>\n",
              "      <td>3</td>\n",
              "      <td>중랑센터</td>\n",
              "      <td>정기</td>\n",
              "      <td>M</td>\n",
              "      <td>AGE_005</td>\n",
              "      <td>3</td>\n",
              "      <td>430.85</td>\n",
              "      <td>4.01</td>\n",
              "      <td>17270.0</td>\n",
              "      <td>53</td>\n",
              "    </tr>\n",
              "    <tr>\n",
              "      <th>3</th>\n",
              "      <td>Jan-20-2020</td>\n",
              "      <td>5</td>\n",
              "      <td>상암센터 정비실</td>\n",
              "      <td>일일(회원)</td>\n",
              "      <td>NaN</td>\n",
              "      <td>AGE_005</td>\n",
              "      <td>2</td>\n",
              "      <td>1.79</td>\n",
              "      <td>0.02</td>\n",
              "      <td>90.0</td>\n",
              "      <td>33</td>\n",
              "    </tr>\n",
              "    <tr>\n",
              "      <th>4</th>\n",
              "      <td>Jan-20-2020</td>\n",
              "      <td>5</td>\n",
              "      <td>상암센터 정비실</td>\n",
              "      <td>정기</td>\n",
              "      <td>F</td>\n",
              "      <td>AGE_003</td>\n",
              "      <td>1</td>\n",
              "      <td>4501.96</td>\n",
              "      <td>45.47</td>\n",
              "      <td>196010.0</td>\n",
              "      <td>64</td>\n",
              "    </tr>\n",
              "  </tbody>\n",
              "</table>\n",
              "</div>"
            ],
            "text/plain": [
              "          대여일자  대여소번호      대여소명  대여구분코드  ...      운동량    탄소량      이동거리  이용시간\n",
              "0  Jan-20-2020      3      중랑센터  일일(회원)  ...    61.82   0.52    2230.0    75\n",
              "1  Jan-20-2020      3      중랑센터  일일(회원)  ...    39.62   0.28    1220.0    15\n",
              "2  Jan-20-2020      3      중랑센터      정기  ...   430.85   4.01   17270.0    53\n",
              "3  Jan-20-2020      5  상암센터 정비실  일일(회원)  ...     1.79   0.02      90.0    33\n",
              "4  Jan-20-2020      5  상암센터 정비실      정기  ...  4501.96  45.47  196010.0    64\n",
              "\n",
              "[5 rows x 11 columns]"
            ]
          },
          "metadata": {
            "tags": []
          },
          "execution_count": 4
        }
      ]
    },
    {
      "cell_type": "code",
      "metadata": {
        "colab": {
          "base_uri": "https://localhost:8080/",
          "height": 298
        },
        "id": "DOKuQpQh_y00",
        "outputId": "147fac0a-3943-4f3e-c95b-bb6bb2295e12"
      },
      "source": [
        "# 통계치 확인\n"
      ],
      "execution_count": null,
      "outputs": [
        {
          "output_type": "execute_result",
          "data": {
            "text/html": [
              "<div>\n",
              "<style scoped>\n",
              "    .dataframe tbody tr th:only-of-type {\n",
              "        vertical-align: middle;\n",
              "    }\n",
              "\n",
              "    .dataframe tbody tr th {\n",
              "        vertical-align: top;\n",
              "    }\n",
              "\n",
              "    .dataframe thead th {\n",
              "        text-align: right;\n",
              "    }\n",
              "</style>\n",
              "<table border=\"1\" class=\"dataframe\">\n",
              "  <thead>\n",
              "    <tr style=\"text-align: right;\">\n",
              "      <th></th>\n",
              "      <th>대여소번호</th>\n",
              "      <th>이용건수</th>\n",
              "      <th>운동량</th>\n",
              "      <th>탄소량</th>\n",
              "      <th>이동거리</th>\n",
              "      <th>이용시간</th>\n",
              "    </tr>\n",
              "  </thead>\n",
              "  <tbody>\n",
              "    <tr>\n",
              "      <th>count</th>\n",
              "      <td>327231.000000</td>\n",
              "      <td>327231.000000</td>\n",
              "      <td>3.268300e+05</td>\n",
              "      <td>326830.000000</td>\n",
              "      <td>3.272310e+05</td>\n",
              "      <td>327231.000000</td>\n",
              "    </tr>\n",
              "    <tr>\n",
              "      <th>mean</th>\n",
              "      <td>1288.411064</td>\n",
              "      <td>23.615400</td>\n",
              "      <td>6.921371e+03</td>\n",
              "      <td>24.826820</td>\n",
              "      <td>1.068811e+05</td>\n",
              "      <td>752.814486</td>\n",
              "    </tr>\n",
              "    <tr>\n",
              "      <th>std</th>\n",
              "      <td>1012.645329</td>\n",
              "      <td>59.922618</td>\n",
              "      <td>6.564823e+05</td>\n",
              "      <td>107.593067</td>\n",
              "      <td>4.634955e+05</td>\n",
              "      <td>2647.383179</td>\n",
              "    </tr>\n",
              "    <tr>\n",
              "      <th>min</th>\n",
              "      <td>3.000000</td>\n",
              "      <td>1.000000</td>\n",
              "      <td>0.000000e+00</td>\n",
              "      <td>0.000000</td>\n",
              "      <td>0.000000e+00</td>\n",
              "      <td>0.000000</td>\n",
              "    </tr>\n",
              "    <tr>\n",
              "      <th>25%</th>\n",
              "      <td>562.000000</td>\n",
              "      <td>2.000000</td>\n",
              "      <td>1.380500e+02</td>\n",
              "      <td>1.240000</td>\n",
              "      <td>5.290000e+03</td>\n",
              "      <td>66.000000</td>\n",
              "    </tr>\n",
              "    <tr>\n",
              "      <th>50%</th>\n",
              "      <td>1204.000000</td>\n",
              "      <td>6.000000</td>\n",
              "      <td>6.017050e+02</td>\n",
              "      <td>5.330000</td>\n",
              "      <td>2.290000e+04</td>\n",
              "      <td>207.000000</td>\n",
              "    </tr>\n",
              "    <tr>\n",
              "      <th>75%</th>\n",
              "      <td>1933.000000</td>\n",
              "      <td>22.000000</td>\n",
              "      <td>2.481175e+03</td>\n",
              "      <td>21.720000</td>\n",
              "      <td>9.346000e+04</td>\n",
              "      <td>670.000000</td>\n",
              "    </tr>\n",
              "    <tr>\n",
              "      <th>max</th>\n",
              "      <td>99999.000000</td>\n",
              "      <td>7451.000000</td>\n",
              "      <td>1.639361e+08</td>\n",
              "      <td>13156.090000</td>\n",
              "      <td>5.670905e+07</td>\n",
              "      <td>458960.000000</td>\n",
              "    </tr>\n",
              "  </tbody>\n",
              "</table>\n",
              "</div>"
            ],
            "text/plain": [
              "               대여소번호           이용건수  ...          이동거리           이용시간\n",
              "count  327231.000000  327231.000000  ...  3.272310e+05  327231.000000\n",
              "mean     1288.411064      23.615400  ...  1.068811e+05     752.814486\n",
              "std      1012.645329      59.922618  ...  4.634955e+05    2647.383179\n",
              "min         3.000000       1.000000  ...  0.000000e+00       0.000000\n",
              "25%       562.000000       2.000000  ...  5.290000e+03      66.000000\n",
              "50%      1204.000000       6.000000  ...  2.290000e+04     207.000000\n",
              "75%      1933.000000      22.000000  ...  9.346000e+04     670.000000\n",
              "max     99999.000000    7451.000000  ...  5.670905e+07  458960.000000\n",
              "\n",
              "[8 rows x 6 columns]"
            ]
          },
          "metadata": {
            "tags": []
          },
          "execution_count": 5
        }
      ]
    },
    {
      "cell_type": "code",
      "metadata": {
        "id": "7VPksM5cJG2i"
      },
      "source": [
        "# 대여일자는 복합적인 데이터가 포함되어 있음 : 날짜형\n",
        "# 대여소명, 대여구분코드, 성별, 연령대코드 : 범주형\n",
        "-> dtype을 변경 (날짜형은 datetime, 범주형은 ML 모델링 전에 LabelEncoding 또는 One-hot-encoding)\n",
        "\n",
        "# 성별, 운동량, 탄소량 : NaN값 존재\n",
        "-> 삭제, 다른 값으로 채울지 등의 전략 준비\n",
        "\n",
        "# 이용건수\n",
        "Target 데이터 -> 이용건수 알아내기"
      ],
      "execution_count": null,
      "outputs": []
    },
    {
      "cell_type": "markdown",
      "metadata": {
        "id": "FtC4-9IgVe0z"
      },
      "source": [
        "## 데이타 정제"
      ]
    },
    {
      "cell_type": "markdown",
      "metadata": {
        "id": "tZEKtA5JVigU"
      },
      "source": [
        "### 날짜 데이타 변환"
      ]
    },
    {
      "cell_type": "code",
      "metadata": {
        "id": "_frbEO_dVu3K",
        "colab": {
          "base_uri": "https://localhost:8080/"
        },
        "outputId": "82b306e9-7625-44d3-a44f-03729b4c9c6d"
      },
      "source": [
        "# 'rentDate'에 대해서 datetime 타입으로 변경\n",
        "\n",
        "\n",
        "\n",
        "bicycle.info()"
      ],
      "execution_count": null,
      "outputs": [
        {
          "output_type": "stream",
          "text": [
            "<class 'pandas.core.frame.DataFrame'>\n",
            "RangeIndex: 327231 entries, 0 to 327230\n",
            "Data columns (total 12 columns):\n",
            " #   Column    Non-Null Count   Dtype         \n",
            "---  ------    --------------   -----         \n",
            " 0   대여일자      327231 non-null  object        \n",
            " 1   대여소번호     327231 non-null  int64         \n",
            " 2   대여소명      327231 non-null  object        \n",
            " 3   대여구분코드    327231 non-null  object        \n",
            " 4   성별        158123 non-null  object        \n",
            " 5   연령대코드     327231 non-null  object        \n",
            " 6   이용건수      327231 non-null  int64         \n",
            " 7   운동량       326830 non-null  float64       \n",
            " 8   탄소량       326830 non-null  float64       \n",
            " 9   이동거리      327231 non-null  float64       \n",
            " 10  이용시간      327231 non-null  int64         \n",
            " 11  rentDate  327231 non-null  datetime64[ns]\n",
            "dtypes: datetime64[ns](1), float64(3), int64(3), object(5)\n",
            "memory usage: 30.0+ MB\n"
          ],
          "name": "stdout"
        }
      ]
    },
    {
      "cell_type": "markdown",
      "metadata": {
        "id": "IZ-7RpfAV2Zz"
      },
      "source": [
        "### 날짜 데이타 분리"
      ]
    },
    {
      "cell_type": "code",
      "metadata": {
        "id": "euXSsxA1V6-W",
        "colab": {
          "base_uri": "https://localhost:8080/",
          "height": 230
        },
        "outputId": "368c30cd-e290-4afc-ec0c-3a57e7a03947"
      },
      "source": [
        "# 연도(year), 월(month), 일(day), 요일(dayofweek), 분기(quarter),\n",
        "# 시(hour), 분(minute), 초(second) 컬럼 생성\n",
        "# 생성된 컬럼에 datetime 컬럼으로부터 정보를 추출하여 대입\n",
        "rentDate = bicycle['rentDate'].dt\n",
        "\n",
        "\n",
        "\n",
        "\n",
        "\n",
        "bicycle.head()"
      ],
      "execution_count": null,
      "outputs": [
        {
          "output_type": "execute_result",
          "data": {
            "text/html": [
              "<div>\n",
              "<style scoped>\n",
              "    .dataframe tbody tr th:only-of-type {\n",
              "        vertical-align: middle;\n",
              "    }\n",
              "\n",
              "    .dataframe tbody tr th {\n",
              "        vertical-align: top;\n",
              "    }\n",
              "\n",
              "    .dataframe thead th {\n",
              "        text-align: right;\n",
              "    }\n",
              "</style>\n",
              "<table border=\"1\" class=\"dataframe\">\n",
              "  <thead>\n",
              "    <tr style=\"text-align: right;\">\n",
              "      <th></th>\n",
              "      <th>대여일자</th>\n",
              "      <th>대여소번호</th>\n",
              "      <th>대여소명</th>\n",
              "      <th>대여구분코드</th>\n",
              "      <th>성별</th>\n",
              "      <th>연령대코드</th>\n",
              "      <th>이용건수</th>\n",
              "      <th>운동량</th>\n",
              "      <th>탄소량</th>\n",
              "      <th>이동거리</th>\n",
              "      <th>이용시간</th>\n",
              "      <th>rentDate</th>\n",
              "      <th>year</th>\n",
              "      <th>month</th>\n",
              "      <th>day</th>\n",
              "      <th>dayofweek</th>\n",
              "      <th>quarter</th>\n",
              "      <th>hour</th>\n",
              "      <th>minute</th>\n",
              "      <th>second</th>\n",
              "    </tr>\n",
              "  </thead>\n",
              "  <tbody>\n",
              "    <tr>\n",
              "      <th>0</th>\n",
              "      <td>Jan-20-2020</td>\n",
              "      <td>3</td>\n",
              "      <td>중랑센터</td>\n",
              "      <td>일일(회원)</td>\n",
              "      <td>M</td>\n",
              "      <td>AGE_003</td>\n",
              "      <td>3</td>\n",
              "      <td>61.82</td>\n",
              "      <td>0.52</td>\n",
              "      <td>2230.0</td>\n",
              "      <td>75</td>\n",
              "      <td>2020-01-20</td>\n",
              "      <td>2020</td>\n",
              "      <td>1</td>\n",
              "      <td>20</td>\n",
              "      <td>0</td>\n",
              "      <td>1</td>\n",
              "      <td>0</td>\n",
              "      <td>0</td>\n",
              "      <td>0</td>\n",
              "    </tr>\n",
              "    <tr>\n",
              "      <th>1</th>\n",
              "      <td>Jan-20-2020</td>\n",
              "      <td>3</td>\n",
              "      <td>중랑센터</td>\n",
              "      <td>일일(회원)</td>\n",
              "      <td>M</td>\n",
              "      <td>AGE_004</td>\n",
              "      <td>1</td>\n",
              "      <td>39.62</td>\n",
              "      <td>0.28</td>\n",
              "      <td>1220.0</td>\n",
              "      <td>15</td>\n",
              "      <td>2020-01-20</td>\n",
              "      <td>2020</td>\n",
              "      <td>1</td>\n",
              "      <td>20</td>\n",
              "      <td>0</td>\n",
              "      <td>1</td>\n",
              "      <td>0</td>\n",
              "      <td>0</td>\n",
              "      <td>0</td>\n",
              "    </tr>\n",
              "    <tr>\n",
              "      <th>2</th>\n",
              "      <td>Jan-20-2020</td>\n",
              "      <td>3</td>\n",
              "      <td>중랑센터</td>\n",
              "      <td>정기</td>\n",
              "      <td>M</td>\n",
              "      <td>AGE_005</td>\n",
              "      <td>3</td>\n",
              "      <td>430.85</td>\n",
              "      <td>4.01</td>\n",
              "      <td>17270.0</td>\n",
              "      <td>53</td>\n",
              "      <td>2020-01-20</td>\n",
              "      <td>2020</td>\n",
              "      <td>1</td>\n",
              "      <td>20</td>\n",
              "      <td>0</td>\n",
              "      <td>1</td>\n",
              "      <td>0</td>\n",
              "      <td>0</td>\n",
              "      <td>0</td>\n",
              "    </tr>\n",
              "  </tbody>\n",
              "</table>\n",
              "</div>"
            ],
            "text/plain": [
              "          대여일자  대여소번호  대여소명  대여구분코드  ... quarter hour  minute  second\n",
              "0  Jan-20-2020      3  중랑센터  일일(회원)  ...       1    0       0       0\n",
              "1  Jan-20-2020      3  중랑센터  일일(회원)  ...       1    0       0       0\n",
              "2  Jan-20-2020      3  중랑센터      정기  ...       1    0       0       0\n",
              "\n",
              "[3 rows x 20 columns]"
            ]
          },
          "metadata": {
            "tags": []
          },
          "execution_count": 6
        }
      ]
    },
    {
      "cell_type": "code",
      "metadata": {
        "colab": {
          "base_uri": "https://localhost:8080/"
        },
        "id": "D_5pwJekLScO",
        "outputId": "151635c2-0ea3-4a60-a25b-c970f2a1159f"
      },
      "source": [
        "# dayofweek에 대해서 범주형 데이터 분석 (value_counts 사용)\n"
      ],
      "execution_count": null,
      "outputs": [
        {
          "output_type": "execute_result",
          "data": {
            "text/plain": [
              "0    127049\n",
              "2     77621\n",
              "4     68488\n",
              "3     54073\n",
              "Name: dayofweek, dtype: int64"
            ]
          },
          "metadata": {
            "tags": []
          },
          "execution_count": 7
        }
      ]
    },
    {
      "cell_type": "code",
      "metadata": {
        "id": "V6_8SbWzNESu"
      },
      "source": [
        "# 주말(1), 평일(0)  # dayofweek가 0~4는 평일, 5,6 주말\n",
        "# 주말인지 평일인지 표시하는 column 추가해 보셔도 좋습니다.  (수요일에 이야기 드려볼께요.)"
      ],
      "execution_count": null,
      "outputs": []
    },
    {
      "cell_type": "code",
      "metadata": {
        "colab": {
          "base_uri": "https://localhost:8080/"
        },
        "id": "BghK3GSdLFcV",
        "outputId": "54c7803f-6af7-4d2a-c065-921b4e8fdd21"
      },
      "source": [
        "# year에 대해서 범주형 데이터 분석 (value_counts 사용)\n"
      ],
      "execution_count": null,
      "outputs": [
        {
          "output_type": "execute_result",
          "data": {
            "text/plain": [
              "2020    327231\n",
              "Name: year, dtype: int64"
            ]
          },
          "metadata": {
            "tags": []
          },
          "execution_count": 8
        }
      ]
    },
    {
      "cell_type": "code",
      "metadata": {
        "colab": {
          "base_uri": "https://localhost:8080/"
        },
        "id": "UjfuXXLMMIte",
        "outputId": "3308e37d-88aa-4c26-af1b-74604e2cae4e"
      },
      "source": [
        "# month에 대한 분석 - value_counts\n"
      ],
      "execution_count": null,
      "outputs": [
        {
          "output_type": "execute_result",
          "data": {
            "text/plain": [
              "5    77621\n",
              "4    73604\n",
              "3    68488\n",
              "2    54073\n",
              "1    53445\n",
              "Name: month, dtype: int64"
            ]
          },
          "metadata": {
            "tags": []
          },
          "execution_count": 9
        }
      ]
    },
    {
      "cell_type": "code",
      "metadata": {
        "colab": {
          "base_uri": "https://localhost:8080/"
        },
        "id": "zTAwvF4-MSLB",
        "outputId": "01c86d92-e0d7-4b69-94b1-2b41e775c9c1"
      },
      "source": [
        "# day에 대한 분석 - value_counts\n"
      ],
      "execution_count": null,
      "outputs": [
        {
          "output_type": "execute_result",
          "data": {
            "text/plain": [
              "20    327231\n",
              "Name: day, dtype: int64"
            ]
          },
          "metadata": {
            "tags": []
          },
          "execution_count": 12
        }
      ]
    },
    {
      "cell_type": "code",
      "metadata": {
        "colab": {
          "base_uri": "https://localhost:8080/"
        },
        "id": "EVYIFjV3Mlmu",
        "outputId": "2197afaa-d6e7-4848-a49d-f5e5944896b2"
      },
      "source": [
        "# quarter에 대한 분석 - value_counts\n"
      ],
      "execution_count": null,
      "outputs": [
        {
          "output_type": "execute_result",
          "data": {
            "text/plain": [
              "1    176006\n",
              "2    151225\n",
              "Name: quarter, dtype: int64"
            ]
          },
          "metadata": {
            "tags": []
          },
          "execution_count": 13
        }
      ]
    },
    {
      "cell_type": "code",
      "metadata": {
        "colab": {
          "base_uri": "https://localhost:8080/"
        },
        "id": "lzNUi3i4MvXV",
        "outputId": "20540ec7-7f9e-476d-ba51-c03113d870f0"
      },
      "source": [
        "# second에 대한 분석 - value_counts\n"
      ],
      "execution_count": null,
      "outputs": [
        {
          "output_type": "execute_result",
          "data": {
            "text/plain": [
              "0    327231\n",
              "Name: second, dtype: int64"
            ]
          },
          "metadata": {
            "tags": []
          },
          "execution_count": 16
        }
      ]
    },
    {
      "cell_type": "code",
      "metadata": {
        "id": "nN5tlzApMvRg"
      },
      "source": [
        "# 범주형에대해서 돗수분포 확인 (value_counts)\n",
        "# 대여소, 대여구분코드, 성별, 연령대코드 : 범주형"
      ],
      "execution_count": null,
      "outputs": []
    },
    {
      "cell_type": "code",
      "metadata": {
        "colab": {
          "base_uri": "https://localhost:8080/"
        },
        "id": "227BWmcHN-Vz",
        "outputId": "60bed91e-889d-4e84-8fa5-b2c3107a3c12"
      },
      "source": [
        "bicycle.columns.values"
      ],
      "execution_count": null,
      "outputs": [
        {
          "output_type": "execute_result",
          "data": {
            "text/plain": [
              "array(['대여일자', '대여소번호', '대여소명', '대여구분코드', '성별', '연령대코드', '이용건수', '운동량',\n",
              "       '탄소량', '이동거리', '이용시간', 'rentDate', 'year', 'month', 'day',\n",
              "       'dayofweek', 'quarter', 'hour', 'minute', 'second'], dtype=object)"
            ]
          },
          "metadata": {
            "tags": []
          },
          "execution_count": 18
        }
      ]
    },
    {
      "cell_type": "code",
      "metadata": {
        "colab": {
          "base_uri": "https://localhost:8080/"
        },
        "id": "HoAvxGaMMvMR",
        "outputId": "24102f0e-6694-4dc8-c91d-389643e5fcf0"
      },
      "source": [
        "# 대여소에 대한 value_counts()\n",
        "# \n",
        "\n"
      ],
      "execution_count": null,
      "outputs": [
        {
          "output_type": "execute_result",
          "data": {
            "text/plain": [
              "207. 여의나루역 1번출구 앞      363\n",
              "502. 뚝섬유원지역 1번출구 앞     357\n",
              "152. 마포구민체육센터 앞        351\n",
              "3511. 응봉역 1번출구         339\n",
              "565. 옥수역 3번출구          336\n",
              "                      ... \n",
              "3133.핀란드 타워앞             1\n",
              "1774.반석교회(쌍문동)           1\n",
              "1754. 창동시장입구 사거리         1\n",
              "773.염창역 3, 4번 출구 사이      1\n",
              "2542.신논현타워 앞             1\n",
              "Name: 대여소명, Length: 2015, dtype: int64"
            ]
          },
          "metadata": {
            "tags": []
          },
          "execution_count": 19
        }
      ]
    },
    {
      "cell_type": "code",
      "metadata": {
        "colab": {
          "base_uri": "https://localhost:8080/"
        },
        "id": "paHZoxj-O7sn",
        "outputId": "1b5bb3ab-0483-4991-a621-3d1bb05d656e"
      },
      "source": [
        "# 대여소번호 에 대한 value_counts()\n",
        "#"
      ],
      "execution_count": null,
      "outputs": [
        {
          "output_type": "execute_result",
          "data": {
            "text/plain": [
              "207     363\n",
              "502     357\n",
              "152     351\n",
              "3511    339\n",
              "565     336\n",
              "       ... \n",
              "1743      1\n",
              "3430      1\n",
              "1755      1\n",
              "3004      1\n",
              "3561      1\n",
              "Name: 대여소번호, Length: 2015, dtype: int64"
            ]
          },
          "metadata": {
            "tags": []
          },
          "execution_count": 21
        }
      ]
    },
    {
      "cell_type": "code",
      "metadata": {
        "colab": {
          "base_uri": "https://localhost:8080/"
        },
        "id": "4JtRbG2xOXa5",
        "outputId": "335e5c35-a5b8-4743-912b-264bbd159552"
      },
      "source": [
        "# 연령대코드 에 대한 value_counts()\n"
      ],
      "execution_count": null,
      "outputs": [
        {
          "output_type": "execute_result",
          "data": {
            "text/plain": [
              "AGE_002    69517\n",
              "AGE_003    59917\n",
              "AGE_004    55682\n",
              "AGE_001    44348\n",
              "AGE_005    43013\n",
              "AGE_006    24293\n",
              "AGE_008    20698\n",
              "AGE_007     9763\n",
              "Name: 연령대코드, dtype: int64"
            ]
          },
          "metadata": {
            "tags": []
          },
          "execution_count": 20
        }
      ]
    },
    {
      "cell_type": "code",
      "metadata": {
        "colab": {
          "base_uri": "https://localhost:8080/"
        },
        "id": "nzGMdShATaIF",
        "outputId": "c1fdc527-517f-4176-d2f6-d50db370d7ac"
      },
      "source": [
        "# 대여구분코드 에 대한 value_counts()\n"
      ],
      "execution_count": null,
      "outputs": [
        {
          "output_type": "execute_result",
          "data": {
            "text/plain": [
              "정기         172260\n",
              "일일(회원)     119408\n",
              "단체          25710\n",
              "일일(비회원)      9206\n",
              "BIL_021       246\n",
              "Name: 대여구분코드, dtype: int64"
            ]
          },
          "metadata": {
            "tags": []
          },
          "execution_count": 40
        }
      ]
    },
    {
      "cell_type": "code",
      "metadata": {
        "colab": {
          "base_uri": "https://localhost:8080/"
        },
        "id": "rBLGhRG3Pd8x",
        "outputId": "0a357b59-be02-4837-8d10-9effeb852069"
      },
      "source": [
        "# 성별에 대한 unique()\n"
      ],
      "execution_count": null,
      "outputs": [
        {
          "output_type": "execute_result",
          "data": {
            "text/plain": [
              "array(['M', nan, 'F', 'm', 'f'], dtype=object)"
            ]
          },
          "metadata": {
            "tags": []
          },
          "execution_count": 23
        }
      ]
    },
    {
      "cell_type": "code",
      "metadata": {
        "colab": {
          "base_uri": "https://localhost:8080/"
        },
        "id": "NV2ntTywPOi0",
        "outputId": "1b487f87-f4d7-461c-f0d5-fc5ca1119238"
      },
      "source": [
        "# 성별에 대한 value_counts()\n",
        "  "
      ],
      "execution_count": null,
      "outputs": [
        {
          "output_type": "execute_result",
          "data": {
            "text/plain": [
              "M    84006\n",
              "F    73932\n",
              "m      115\n",
              "f       70\n",
              "Name: 성별, dtype: int64"
            ]
          },
          "metadata": {
            "tags": []
          },
          "execution_count": 22
        }
      ]
    },
    {
      "cell_type": "code",
      "metadata": {
        "id": "8_Pwm0z9PpSs"
      },
      "source": [
        "# 'm' -> 'M', 'f' ->'F'로 대체하기 (indexing 사용)\n"
      ],
      "execution_count": null,
      "outputs": []
    },
    {
      "cell_type": "code",
      "metadata": {
        "id": "oIN3B-2JQOAJ"
      },
      "source": [
        "# 'm' -> 'M', 'f' ->'F'로 대체하기 (replace 사용)\n"
      ],
      "execution_count": null,
      "outputs": []
    },
    {
      "cell_type": "code",
      "metadata": {
        "colab": {
          "base_uri": "https://localhost:8080/"
        },
        "id": "HOTIu5sCQKI9",
        "outputId": "6064743b-4ec3-4428-fa26-60e10be0c746"
      },
      "source": [
        "bicycle['성별'].value_counts()   # 'm' -> 'M', 'f' ->'F'"
      ],
      "execution_count": null,
      "outputs": [
        {
          "output_type": "execute_result",
          "data": {
            "text/plain": [
              "M    84121\n",
              "F    74002\n",
              "Name: 성별, dtype: int64"
            ]
          },
          "metadata": {
            "tags": []
          },
          "execution_count": 28
        }
      ]
    },
    {
      "cell_type": "markdown",
      "metadata": {
        "id": "uovhePiGpZiN"
      },
      "source": [
        "###Nan값 처리"
      ]
    },
    {
      "cell_type": "code",
      "metadata": {
        "colab": {
          "base_uri": "https://localhost:8080/"
        },
        "id": "d7YRFX6MRNyC",
        "outputId": "a20b2d46-37e2-40a3-fee8-847e7322e869"
      },
      "source": [
        "bicycle.isna().sum()"
      ],
      "execution_count": null,
      "outputs": [
        {
          "output_type": "execute_result",
          "data": {
            "text/plain": [
              "대여일자              0\n",
              "대여소번호             0\n",
              "대여소명              0\n",
              "대여구분코드            0\n",
              "성별           169108\n",
              "연령대코드             0\n",
              "이용건수              0\n",
              "운동량             401\n",
              "탄소량             401\n",
              "이동거리              0\n",
              "이용시간              0\n",
              "rentDate          0\n",
              "year              0\n",
              "month             0\n",
              "day               0\n",
              "dayofweek         0\n",
              "quarter           0\n",
              "hour              0\n",
              "minute            0\n",
              "second            0\n",
              "dtype: int64"
            ]
          },
          "metadata": {
            "tags": []
          },
          "execution_count": 29
        }
      ]
    },
    {
      "cell_type": "code",
      "metadata": {
        "id": "L3seYiJypcB9"
      },
      "source": [
        "# 성별 -> 남, 여, 없음 (M, F, N)\n",
        "# NA값을 'N'으로 채우기\n",
        "\n"
      ],
      "execution_count": null,
      "outputs": []
    },
    {
      "cell_type": "code",
      "metadata": {
        "id": "Dykk5o_yRmZT"
      },
      "source": [
        "운동량, 탄소량 => 401   # 같은지 "
      ],
      "execution_count": null,
      "outputs": []
    },
    {
      "cell_type": "code",
      "metadata": {
        "colab": {
          "base_uri": "https://localhost:8080/"
        },
        "id": "yTkIBnDvR4By",
        "outputId": "ead59e1d-7fbb-4bb4-ad14-38800efc60d0"
      },
      "source": [
        "# 운동량이 NA 인 것에 대해서 운동량, 탄소량에 대해 isna 개수를 세어 본다\n",
        "# 두 개가 동일한 행에서 NA인지에 대해 확인해 보는 것\n",
        "\n",
        "bicycle.loc[bicycle['운동량'].isna(), ['운동량', '탄소량']].isna().sum()"
      ],
      "execution_count": null,
      "outputs": [
        {
          "output_type": "execute_result",
          "data": {
            "text/plain": [
              "운동량    401\n",
              "탄소량    401\n",
              "dtype: int64"
            ]
          },
          "metadata": {
            "tags": []
          },
          "execution_count": 33
        }
      ]
    },
    {
      "cell_type": "code",
      "metadata": {
        "colab": {
          "base_uri": "https://localhost:8080/"
        },
        "id": "51HjtpYoRY1g",
        "outputId": "616d0495-31d4-4a88-a993-1f256ec1cef6"
      },
      "source": [
        "400/327000"
      ],
      "execution_count": null,
      "outputs": [
        {
          "output_type": "execute_result",
          "data": {
            "text/plain": [
              "0.0012232415902140672"
            ]
          },
          "metadata": {
            "tags": []
          },
          "execution_count": 31
        }
      ]
    },
    {
      "cell_type": "code",
      "metadata": {
        "colab": {
          "base_uri": "https://localhost:8080/"
        },
        "id": "vwQuN5UbSVaZ",
        "outputId": "356ec465-38d1-436a-87e0-89df9a6ac60f"
      },
      "source": [
        "bicycle.isna().sum()"
      ],
      "execution_count": null,
      "outputs": [
        {
          "output_type": "execute_result",
          "data": {
            "text/plain": [
              "대여일자           0\n",
              "대여소번호          0\n",
              "대여소명           0\n",
              "대여구분코드         0\n",
              "성별             0\n",
              "연령대코드          0\n",
              "이용건수           0\n",
              "운동량          401\n",
              "탄소량          401\n",
              "이동거리           0\n",
              "이용시간           0\n",
              "rentDate       0\n",
              "year           0\n",
              "month          0\n",
              "day            0\n",
              "dayofweek      0\n",
              "quarter        0\n",
              "hour           0\n",
              "minute         0\n",
              "second         0\n",
              "dtype: int64"
            ]
          },
          "metadata": {
            "tags": []
          },
          "execution_count": 36
        }
      ]
    },
    {
      "cell_type": "code",
      "metadata": {
        "colab": {
          "base_uri": "https://localhost:8080/"
        },
        "id": "GzXCPKwNSj15",
        "outputId": "fc4956be-68dc-42e6-a56c-64e786e1f199"
      },
      "source": [
        "# NA에 대해서 삭제\n",
        "\n",
        "\n",
        "# 삭제 된 것 확인\n",
        "bicycle.isna().sum()"
      ],
      "execution_count": null,
      "outputs": [
        {
          "output_type": "execute_result",
          "data": {
            "text/plain": [
              "대여일자         0\n",
              "대여소번호        0\n",
              "대여소명         0\n",
              "대여구분코드       0\n",
              "성별           0\n",
              "연령대코드        0\n",
              "이용건수         0\n",
              "운동량          0\n",
              "탄소량          0\n",
              "이동거리         0\n",
              "이용시간         0\n",
              "rentDate     0\n",
              "year         0\n",
              "month        0\n",
              "day          0\n",
              "dayofweek    0\n",
              "quarter      0\n",
              "hour         0\n",
              "minute       0\n",
              "second       0\n",
              "dtype: int64"
            ]
          },
          "metadata": {
            "tags": []
          },
          "execution_count": 38
        }
      ]
    },
    {
      "cell_type": "markdown",
      "metadata": {
        "id": "3OBUXUMPplEp"
      },
      "source": [
        "\n",
        "### 사용할 column 선택"
      ]
    },
    {
      "cell_type": "code",
      "metadata": {
        "id": "C-S01LKIV9ge",
        "colab": {
          "base_uri": "https://localhost:8080/"
        },
        "outputId": "15ab621f-de6b-4533-b444-6916477d91dc"
      },
      "source": [
        "bicycle.columns"
      ],
      "execution_count": null,
      "outputs": [
        {
          "output_type": "execute_result",
          "data": {
            "text/plain": [
              "Index(['대여일자', '대여소번호', '대여소명', '대여구분코드', '성별', '연령대코드', '이용건수', '운동량', '탄소량',\n",
              "       '이동거리', '이용시간', 'rentDate', 'year', 'month', 'day', 'dayofweek',\n",
              "       'quarter', 'hour', 'minute', 'second'],\n",
              "      dtype='object')"
            ]
          },
          "metadata": {
            "tags": []
          },
          "execution_count": 39
        }
      ]
    },
    {
      "cell_type": "code",
      "metadata": {
        "colab": {
          "base_uri": "https://localhost:8080/",
          "height": 206
        },
        "id": "g3Le7DEFS7BH",
        "outputId": "cdfb6ebe-9fba-4db9-e782-9cb61eb88e1c"
      },
      "source": [
        "data = bicycle[['month', 'dayofweek', 'quarter', '연령대코드','운동량', '탄소량','대여소번호','대여구분코드', '이용건수']]\n",
        "data.head()"
      ],
      "execution_count": null,
      "outputs": [
        {
          "output_type": "execute_result",
          "data": {
            "text/html": [
              "<div>\n",
              "<style scoped>\n",
              "    .dataframe tbody tr th:only-of-type {\n",
              "        vertical-align: middle;\n",
              "    }\n",
              "\n",
              "    .dataframe tbody tr th {\n",
              "        vertical-align: top;\n",
              "    }\n",
              "\n",
              "    .dataframe thead th {\n",
              "        text-align: right;\n",
              "    }\n",
              "</style>\n",
              "<table border=\"1\" class=\"dataframe\">\n",
              "  <thead>\n",
              "    <tr style=\"text-align: right;\">\n",
              "      <th></th>\n",
              "      <th>month</th>\n",
              "      <th>dayofweek</th>\n",
              "      <th>quarter</th>\n",
              "      <th>연령대코드</th>\n",
              "      <th>운동량</th>\n",
              "      <th>탄소량</th>\n",
              "      <th>대여소번호</th>\n",
              "      <th>대여구분코드</th>\n",
              "      <th>이용건수</th>\n",
              "    </tr>\n",
              "  </thead>\n",
              "  <tbody>\n",
              "    <tr>\n",
              "      <th>0</th>\n",
              "      <td>1</td>\n",
              "      <td>0</td>\n",
              "      <td>1</td>\n",
              "      <td>AGE_003</td>\n",
              "      <td>61.82</td>\n",
              "      <td>0.52</td>\n",
              "      <td>3</td>\n",
              "      <td>일일(회원)</td>\n",
              "      <td>3</td>\n",
              "    </tr>\n",
              "    <tr>\n",
              "      <th>1</th>\n",
              "      <td>1</td>\n",
              "      <td>0</td>\n",
              "      <td>1</td>\n",
              "      <td>AGE_004</td>\n",
              "      <td>39.62</td>\n",
              "      <td>0.28</td>\n",
              "      <td>3</td>\n",
              "      <td>일일(회원)</td>\n",
              "      <td>1</td>\n",
              "    </tr>\n",
              "    <tr>\n",
              "      <th>2</th>\n",
              "      <td>1</td>\n",
              "      <td>0</td>\n",
              "      <td>1</td>\n",
              "      <td>AGE_005</td>\n",
              "      <td>430.85</td>\n",
              "      <td>4.01</td>\n",
              "      <td>3</td>\n",
              "      <td>정기</td>\n",
              "      <td>3</td>\n",
              "    </tr>\n",
              "    <tr>\n",
              "      <th>3</th>\n",
              "      <td>1</td>\n",
              "      <td>0</td>\n",
              "      <td>1</td>\n",
              "      <td>AGE_005</td>\n",
              "      <td>1.79</td>\n",
              "      <td>0.02</td>\n",
              "      <td>5</td>\n",
              "      <td>일일(회원)</td>\n",
              "      <td>2</td>\n",
              "    </tr>\n",
              "    <tr>\n",
              "      <th>4</th>\n",
              "      <td>1</td>\n",
              "      <td>0</td>\n",
              "      <td>1</td>\n",
              "      <td>AGE_003</td>\n",
              "      <td>4501.96</td>\n",
              "      <td>45.47</td>\n",
              "      <td>5</td>\n",
              "      <td>정기</td>\n",
              "      <td>1</td>\n",
              "    </tr>\n",
              "  </tbody>\n",
              "</table>\n",
              "</div>"
            ],
            "text/plain": [
              "   month  dayofweek  quarter    연령대코드      운동량    탄소량  대여소번호  대여구분코드  이용건수\n",
              "0      1          0        1  AGE_003    61.82   0.52      3  일일(회원)     3\n",
              "1      1          0        1  AGE_004    39.62   0.28      3  일일(회원)     1\n",
              "2      1          0        1  AGE_005   430.85   4.01      3      정기     3\n",
              "3      1          0        1  AGE_005     1.79   0.02      5  일일(회원)     2\n",
              "4      1          0        1  AGE_003  4501.96  45.47      5      정기     1"
            ]
          },
          "metadata": {
            "tags": []
          },
          "execution_count": 41
        }
      ]
    },
    {
      "cell_type": "markdown",
      "metadata": {
        "id": "m5U_rau8p7MT"
      },
      "source": [
        "##상관계수"
      ]
    },
    {
      "cell_type": "code",
      "metadata": {
        "id": "afZ98xbFp-s0",
        "colab": {
          "base_uri": "https://localhost:8080/",
          "height": 269
        },
        "outputId": "d549f332-1314-4403-863a-f4ce7fa0a501"
      },
      "source": [
        "data.corr()"
      ],
      "execution_count": null,
      "outputs": [
        {
          "output_type": "execute_result",
          "data": {
            "text/html": [
              "<div>\n",
              "<style scoped>\n",
              "    .dataframe tbody tr th:only-of-type {\n",
              "        vertical-align: middle;\n",
              "    }\n",
              "\n",
              "    .dataframe tbody tr th {\n",
              "        vertical-align: top;\n",
              "    }\n",
              "\n",
              "    .dataframe thead th {\n",
              "        text-align: right;\n",
              "    }\n",
              "</style>\n",
              "<table border=\"1\" class=\"dataframe\">\n",
              "  <thead>\n",
              "    <tr style=\"text-align: right;\">\n",
              "      <th></th>\n",
              "      <th>month</th>\n",
              "      <th>dayofweek</th>\n",
              "      <th>quarter</th>\n",
              "      <th>운동량</th>\n",
              "      <th>탄소량</th>\n",
              "      <th>대여소번호</th>\n",
              "      <th>이용건수</th>\n",
              "    </tr>\n",
              "  </thead>\n",
              "  <tbody>\n",
              "    <tr>\n",
              "      <th>month</th>\n",
              "      <td>1.000000</td>\n",
              "      <td>0.035358</td>\n",
              "      <td>0.866974</td>\n",
              "      <td>0.003745</td>\n",
              "      <td>0.053634</td>\n",
              "      <td>0.015485</td>\n",
              "      <td>0.115624</td>\n",
              "    </tr>\n",
              "    <tr>\n",
              "      <th>dayofweek</th>\n",
              "      <td>0.035358</td>\n",
              "      <td>1.000000</td>\n",
              "      <td>-0.455966</td>\n",
              "      <td>0.000727</td>\n",
              "      <td>0.007961</td>\n",
              "      <td>0.002302</td>\n",
              "      <td>-0.018777</td>\n",
              "    </tr>\n",
              "    <tr>\n",
              "      <th>quarter</th>\n",
              "      <td>0.866974</td>\n",
              "      <td>-0.455966</td>\n",
              "      <td>1.000000</td>\n",
              "      <td>0.002674</td>\n",
              "      <td>0.040709</td>\n",
              "      <td>0.012464</td>\n",
              "      <td>0.109122</td>\n",
              "    </tr>\n",
              "    <tr>\n",
              "      <th>운동량</th>\n",
              "      <td>0.003745</td>\n",
              "      <td>0.000727</td>\n",
              "      <td>0.002674</td>\n",
              "      <td>1.000000</td>\n",
              "      <td>0.019162</td>\n",
              "      <td>0.003092</td>\n",
              "      <td>0.013337</td>\n",
              "    </tr>\n",
              "    <tr>\n",
              "      <th>탄소량</th>\n",
              "      <td>0.053634</td>\n",
              "      <td>0.007961</td>\n",
              "      <td>0.040709</td>\n",
              "      <td>0.019162</td>\n",
              "      <td>1.000000</td>\n",
              "      <td>-0.012315</td>\n",
              "      <td>0.634818</td>\n",
              "    </tr>\n",
              "    <tr>\n",
              "      <th>대여소번호</th>\n",
              "      <td>0.015485</td>\n",
              "      <td>0.002302</td>\n",
              "      <td>0.012464</td>\n",
              "      <td>0.003092</td>\n",
              "      <td>-0.012315</td>\n",
              "      <td>1.000000</td>\n",
              "      <td>-0.029476</td>\n",
              "    </tr>\n",
              "    <tr>\n",
              "      <th>이용건수</th>\n",
              "      <td>0.115624</td>\n",
              "      <td>-0.018777</td>\n",
              "      <td>0.109122</td>\n",
              "      <td>0.013337</td>\n",
              "      <td>0.634818</td>\n",
              "      <td>-0.029476</td>\n",
              "      <td>1.000000</td>\n",
              "    </tr>\n",
              "  </tbody>\n",
              "</table>\n",
              "</div>"
            ],
            "text/plain": [
              "              month  dayofweek   quarter  ...       탄소량     대여소번호      이용건수\n",
              "month      1.000000   0.035358  0.866974  ...  0.053634  0.015485  0.115624\n",
              "dayofweek  0.035358   1.000000 -0.455966  ...  0.007961  0.002302 -0.018777\n",
              "quarter    0.866974  -0.455966  1.000000  ...  0.040709  0.012464  0.109122\n",
              "운동량        0.003745   0.000727  0.002674  ...  0.019162  0.003092  0.013337\n",
              "탄소량        0.053634   0.007961  0.040709  ...  1.000000 -0.012315  0.634818\n",
              "대여소번호      0.015485   0.002302  0.012464  ... -0.012315  1.000000 -0.029476\n",
              "이용건수       0.115624  -0.018777  0.109122  ...  0.634818 -0.029476  1.000000\n",
              "\n",
              "[7 rows x 7 columns]"
            ]
          },
          "metadata": {
            "tags": []
          },
          "execution_count": 47
        }
      ]
    },
    {
      "cell_type": "code",
      "metadata": {
        "colab": {
          "base_uri": "https://localhost:8080/",
          "height": 399
        },
        "id": "J5kian93UJQv",
        "outputId": "b03c4d0f-5aa3-47e1-d1f3-d68266dca3a0"
      },
      "source": [
        "data2 = pd.get_dummies(data)\n",
        "data2.head()"
      ],
      "execution_count": null,
      "outputs": [
        {
          "output_type": "execute_result",
          "data": {
            "text/html": [
              "<div>\n",
              "<style scoped>\n",
              "    .dataframe tbody tr th:only-of-type {\n",
              "        vertical-align: middle;\n",
              "    }\n",
              "\n",
              "    .dataframe tbody tr th {\n",
              "        vertical-align: top;\n",
              "    }\n",
              "\n",
              "    .dataframe thead th {\n",
              "        text-align: right;\n",
              "    }\n",
              "</style>\n",
              "<table border=\"1\" class=\"dataframe\">\n",
              "  <thead>\n",
              "    <tr style=\"text-align: right;\">\n",
              "      <th></th>\n",
              "      <th>month</th>\n",
              "      <th>dayofweek</th>\n",
              "      <th>quarter</th>\n",
              "      <th>운동량</th>\n",
              "      <th>탄소량</th>\n",
              "      <th>대여소번호</th>\n",
              "      <th>이용건수</th>\n",
              "      <th>연령대코드_AGE_001</th>\n",
              "      <th>연령대코드_AGE_002</th>\n",
              "      <th>연령대코드_AGE_003</th>\n",
              "      <th>연령대코드_AGE_004</th>\n",
              "      <th>연령대코드_AGE_005</th>\n",
              "      <th>연령대코드_AGE_006</th>\n",
              "      <th>연령대코드_AGE_007</th>\n",
              "      <th>연령대코드_AGE_008</th>\n",
              "      <th>대여구분코드_BIL_021</th>\n",
              "      <th>대여구분코드_단체</th>\n",
              "      <th>대여구분코드_일일(비회원)</th>\n",
              "      <th>대여구분코드_일일(회원)</th>\n",
              "      <th>대여구분코드_정기</th>\n",
              "    </tr>\n",
              "  </thead>\n",
              "  <tbody>\n",
              "    <tr>\n",
              "      <th>0</th>\n",
              "      <td>1</td>\n",
              "      <td>0</td>\n",
              "      <td>1</td>\n",
              "      <td>61.82</td>\n",
              "      <td>0.52</td>\n",
              "      <td>3</td>\n",
              "      <td>3</td>\n",
              "      <td>0</td>\n",
              "      <td>0</td>\n",
              "      <td>1</td>\n",
              "      <td>0</td>\n",
              "      <td>0</td>\n",
              "      <td>0</td>\n",
              "      <td>0</td>\n",
              "      <td>0</td>\n",
              "      <td>0</td>\n",
              "      <td>0</td>\n",
              "      <td>0</td>\n",
              "      <td>1</td>\n",
              "      <td>0</td>\n",
              "    </tr>\n",
              "    <tr>\n",
              "      <th>1</th>\n",
              "      <td>1</td>\n",
              "      <td>0</td>\n",
              "      <td>1</td>\n",
              "      <td>39.62</td>\n",
              "      <td>0.28</td>\n",
              "      <td>3</td>\n",
              "      <td>1</td>\n",
              "      <td>0</td>\n",
              "      <td>0</td>\n",
              "      <td>0</td>\n",
              "      <td>1</td>\n",
              "      <td>0</td>\n",
              "      <td>0</td>\n",
              "      <td>0</td>\n",
              "      <td>0</td>\n",
              "      <td>0</td>\n",
              "      <td>0</td>\n",
              "      <td>0</td>\n",
              "      <td>1</td>\n",
              "      <td>0</td>\n",
              "    </tr>\n",
              "    <tr>\n",
              "      <th>2</th>\n",
              "      <td>1</td>\n",
              "      <td>0</td>\n",
              "      <td>1</td>\n",
              "      <td>430.85</td>\n",
              "      <td>4.01</td>\n",
              "      <td>3</td>\n",
              "      <td>3</td>\n",
              "      <td>0</td>\n",
              "      <td>0</td>\n",
              "      <td>0</td>\n",
              "      <td>0</td>\n",
              "      <td>1</td>\n",
              "      <td>0</td>\n",
              "      <td>0</td>\n",
              "      <td>0</td>\n",
              "      <td>0</td>\n",
              "      <td>0</td>\n",
              "      <td>0</td>\n",
              "      <td>0</td>\n",
              "      <td>1</td>\n",
              "    </tr>\n",
              "    <tr>\n",
              "      <th>3</th>\n",
              "      <td>1</td>\n",
              "      <td>0</td>\n",
              "      <td>1</td>\n",
              "      <td>1.79</td>\n",
              "      <td>0.02</td>\n",
              "      <td>5</td>\n",
              "      <td>2</td>\n",
              "      <td>0</td>\n",
              "      <td>0</td>\n",
              "      <td>0</td>\n",
              "      <td>0</td>\n",
              "      <td>1</td>\n",
              "      <td>0</td>\n",
              "      <td>0</td>\n",
              "      <td>0</td>\n",
              "      <td>0</td>\n",
              "      <td>0</td>\n",
              "      <td>0</td>\n",
              "      <td>1</td>\n",
              "      <td>0</td>\n",
              "    </tr>\n",
              "    <tr>\n",
              "      <th>4</th>\n",
              "      <td>1</td>\n",
              "      <td>0</td>\n",
              "      <td>1</td>\n",
              "      <td>4501.96</td>\n",
              "      <td>45.47</td>\n",
              "      <td>5</td>\n",
              "      <td>1</td>\n",
              "      <td>0</td>\n",
              "      <td>0</td>\n",
              "      <td>1</td>\n",
              "      <td>0</td>\n",
              "      <td>0</td>\n",
              "      <td>0</td>\n",
              "      <td>0</td>\n",
              "      <td>0</td>\n",
              "      <td>0</td>\n",
              "      <td>0</td>\n",
              "      <td>0</td>\n",
              "      <td>0</td>\n",
              "      <td>1</td>\n",
              "    </tr>\n",
              "  </tbody>\n",
              "</table>\n",
              "</div>"
            ],
            "text/plain": [
              "   month  dayofweek  quarter  ...  대여구분코드_일일(비회원)  대여구분코드_일일(회원)  대여구분코드_정기\n",
              "0      1          0        1  ...               0              1          0\n",
              "1      1          0        1  ...               0              1          0\n",
              "2      1          0        1  ...               0              0          1\n",
              "3      1          0        1  ...               0              1          0\n",
              "4      1          0        1  ...               0              0          1\n",
              "\n",
              "[5 rows x 20 columns]"
            ]
          },
          "metadata": {
            "tags": []
          },
          "execution_count": 49
        }
      ]
    },
    {
      "cell_type": "markdown",
      "metadata": {
        "id": "i4YTeOoiqxFu"
      },
      "source": [
        "##Scale"
      ]
    },
    {
      "cell_type": "code",
      "metadata": {
        "id": "57afKni8q0zj"
      },
      "source": [
        "from sklearn.preprocessing import MinMaxScaler\n",
        "from sklearn.preprocessing import StandardScaler\n",
        "\n"
      ],
      "execution_count": null,
      "outputs": []
    },
    {
      "cell_type": "markdown",
      "metadata": {
        "id": "4n9iM57grFFK"
      },
      "source": [
        "##데이타분할"
      ]
    },
    {
      "cell_type": "code",
      "metadata": {
        "id": "UQoanS_hqwEN"
      },
      "source": [
        "from sklearn.model_selection import train_test_split\n"
      ],
      "execution_count": null,
      "outputs": []
    },
    {
      "cell_type": "markdown",
      "metadata": {
        "id": "lnahmyy-mYSE"
      },
      "source": [
        "##선형회귀"
      ]
    },
    {
      "cell_type": "code",
      "metadata": {
        "id": "25b9c9hprZwu"
      },
      "source": [
        "from sklearn.metrics import mean_squared_error, r2_score, mean_absolute_error\n",
        "from sklearn.linear_model import LinearRegression\n",
        "from sklearn.linear_model import SGDRegressor\n",
        "import numpy as np"
      ],
      "execution_count": null,
      "outputs": []
    },
    {
      "cell_type": "markdown",
      "metadata": {
        "id": "EBZFHwzPVtKG"
      },
      "source": [
        "다항회귀"
      ]
    },
    {
      "cell_type": "code",
      "metadata": {
        "colab": {
          "base_uri": "https://localhost:8080/"
        },
        "id": "8g7NS24lAJ4i",
        "outputId": "f3f03967-2107-4f5b-98b1-3453182ba1c5"
      },
      "source": [
        "from sklearn.preprocessing import MinMaxScaler\n",
        "from sklearn.preprocessing import StandardScaler\n",
        "from sklearn.model_selection import train_test_split\n",
        "from sklearn.preprocessing import PolynomialFeatures\n",
        "from sklearn.metrics import mean_squared_error, r2_score, mean_absolute_error\n",
        "from sklearn.linear_model import LinearRegression\n",
        "from sklearn.linear_model import SGDRegressor\n",
        "import numpy as np\n",
        "\n",
        "#표준화\n",
        "# scaled = StandardScaler().fit_transform(df)\n",
        "scaled = MinMaxScaler().fit_transform(df)\n",
        "df_scaled = pd.DataFrame(scaled, columns = df.columns.values)\n",
        "df_scaled.head()\n",
        "\n",
        "X_data = df_scaled.drop('이용건수', axis=1)\n",
        "y_data = df_scaled['이용건수']\n"
      ],
      "execution_count": null,
      "outputs": [
        {
          "output_type": "stream",
          "text": [
            "train score:0.9299441247627936, test score:0.9242976173099504\n",
            "mean squared error :4.70408588379348e-06\n",
            "root mean squared error :0.002168890472982322\n",
            "mean absolute error :0.0009273134469020215\n"
          ],
          "name": "stdout"
        }
      ]
    },
    {
      "cell_type": "markdown",
      "metadata": {
        "id": "IoZlYmw0kxwb"
      },
      "source": [
        "### GridSearchCV를 활용한 과대 적합 확인"
      ]
    },
    {
      "cell_type": "code",
      "metadata": {
        "colab": {
          "base_uri": "https://localhost:8080/"
        },
        "id": "1-hK-Yohri-p",
        "outputId": "923032d1-8f88-49ff-8cfb-1fa976e85e0b"
      },
      "source": [
        "from sklearn.model_selection import GridSearchCV\n",
        "from sklearn.linear_model import Ridge, Lasso"
      ],
      "execution_count": null,
      "outputs": [
        {
          "output_type": "execute_result",
          "data": {
            "text/plain": [
              "229404    0.007651\n",
              "315612    0.000940\n",
              "40568     0.001208\n",
              "285631    0.001611\n",
              "239538    0.006711\n",
              "            ...   \n",
              "135588    0.000940\n",
              "45021     0.000000\n",
              "231165    0.000134\n",
              "275656    0.000268\n",
              "306756    0.006980\n",
              "Name: 이용건수, Length: 98170, dtype: float64"
            ]
          },
          "metadata": {
            "tags": []
          },
          "execution_count": 22
        }
      ]
    },
    {
      "cell_type": "code",
      "metadata": {
        "id": "3tUV_9HQx8oo"
      },
      "source": [
        ""
      ],
      "execution_count": null,
      "outputs": []
    }
  ]
}