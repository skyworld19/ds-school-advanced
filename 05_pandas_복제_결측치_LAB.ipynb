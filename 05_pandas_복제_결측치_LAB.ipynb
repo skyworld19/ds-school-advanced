{
  "nbformat": 4,
  "nbformat_minor": 0,
  "metadata": {
    "colab": {
      "name": "05-pandas-복제-결측치_LAB.ipynb",
      "provenance": [],
      "collapsed_sections": [],
      "include_colab_link": true
    },
    "kernelspec": {
      "display_name": "Python 3",
      "language": "python",
      "name": "python3"
    },
    "language_info": {
      "codemirror_mode": {
        "name": "ipython",
        "version": 3
      },
      "file_extension": ".py",
      "mimetype": "text/x-python",
      "name": "python",
      "nbconvert_exporter": "python",
      "pygments_lexer": "ipython3",
      "version": "3.8.3"
    }
  },
  "cells": [
    {
      "cell_type": "markdown",
      "metadata": {
        "id": "view-in-github",
        "colab_type": "text"
      },
      "source": [
        "<a href=\"https://colab.research.google.com/github/skyworld19/ds-school-advanced/blob/master/05_pandas_%EB%B3%B5%EC%A0%9C_%EA%B2%B0%EC%B8%A1%EC%B9%98_LAB.ipynb\" target=\"_parent\"><img src=\"https://colab.research.google.com/assets/colab-badge.svg\" alt=\"Open In Colab\"/></a>"
      ]
    },
    {
      "cell_type": "markdown",
      "metadata": {
        "id": "gkHiUgHzXxoU"
      },
      "source": [
        "# 패키지 설치"
      ]
    },
    {
      "cell_type": "code",
      "metadata": {
        "id": "225e7J_lXxoW",
        "colab": {
          "base_uri": "https://localhost:8080/"
        },
        "outputId": "75282fd1-c067-4419-a677-9847083441b0"
      },
      "source": [
        "!pip install mySUNI"
      ],
      "execution_count": 2,
      "outputs": [
        {
          "output_type": "stream",
          "text": [
            "Collecting mySUNI\n",
            "  Downloading mySUNI-1.2.2-py3-none-any.whl (21 kB)\n",
            "Requirement already satisfied: tqdm in /usr/local/lib/python3.7/dist-packages (from mySUNI) (4.62.0)\n",
            "Installing collected packages: mySUNI\n",
            "Successfully installed mySUNI-1.2.2\n"
          ],
          "name": "stdout"
        }
      ]
    },
    {
      "cell_type": "markdown",
      "metadata": {
        "id": "C36YlFJrXxoX"
      },
      "source": [
        "## 모듈 import"
      ]
    },
    {
      "cell_type": "code",
      "metadata": {
        "id": "RGhyFtVF0F0m"
      },
      "source": [
        "import numpy as np\n",
        "import pandas as pd\n",
        "import seaborn as sns\n",
        "from mySUNI import cds\n",
        "from IPython.display import Image"
      ],
      "execution_count": 3,
      "outputs": []
    },
    {
      "cell_type": "markdown",
      "metadata": {
        "id": "Fhy9-eOBXxoZ"
      },
      "source": [
        "## 데이터셋 로드"
      ]
    },
    {
      "cell_type": "code",
      "metadata": {
        "id": "GLOhmxdxXxoZ",
        "colab": {
          "base_uri": "https://localhost:8080/",
          "height": 224
        },
        "outputId": "f848ae63-3519-4810-8ba5-e9721b7cf125"
      },
      "source": [
        "df = sns.load_dataset('titanic')\n",
        "df.head()"
      ],
      "execution_count": null,
      "outputs": [
        {
          "output_type": "execute_result",
          "data": {
            "text/html": [
              "<div>\n",
              "<style scoped>\n",
              "    .dataframe tbody tr th:only-of-type {\n",
              "        vertical-align: middle;\n",
              "    }\n",
              "\n",
              "    .dataframe tbody tr th {\n",
              "        vertical-align: top;\n",
              "    }\n",
              "\n",
              "    .dataframe thead th {\n",
              "        text-align: right;\n",
              "    }\n",
              "</style>\n",
              "<table border=\"1\" class=\"dataframe\">\n",
              "  <thead>\n",
              "    <tr style=\"text-align: right;\">\n",
              "      <th></th>\n",
              "      <th>survived</th>\n",
              "      <th>pclass</th>\n",
              "      <th>sex</th>\n",
              "      <th>age</th>\n",
              "      <th>sibsp</th>\n",
              "      <th>parch</th>\n",
              "      <th>fare</th>\n",
              "      <th>embarked</th>\n",
              "      <th>class</th>\n",
              "      <th>who</th>\n",
              "      <th>adult_male</th>\n",
              "      <th>deck</th>\n",
              "      <th>embark_town</th>\n",
              "      <th>alive</th>\n",
              "      <th>alone</th>\n",
              "    </tr>\n",
              "  </thead>\n",
              "  <tbody>\n",
              "    <tr>\n",
              "      <th>0</th>\n",
              "      <td>0</td>\n",
              "      <td>3</td>\n",
              "      <td>male</td>\n",
              "      <td>22.0</td>\n",
              "      <td>1</td>\n",
              "      <td>0</td>\n",
              "      <td>7.2500</td>\n",
              "      <td>S</td>\n",
              "      <td>Third</td>\n",
              "      <td>man</td>\n",
              "      <td>True</td>\n",
              "      <td>NaN</td>\n",
              "      <td>Southampton</td>\n",
              "      <td>no</td>\n",
              "      <td>False</td>\n",
              "    </tr>\n",
              "    <tr>\n",
              "      <th>1</th>\n",
              "      <td>1</td>\n",
              "      <td>1</td>\n",
              "      <td>female</td>\n",
              "      <td>38.0</td>\n",
              "      <td>1</td>\n",
              "      <td>0</td>\n",
              "      <td>71.2833</td>\n",
              "      <td>C</td>\n",
              "      <td>First</td>\n",
              "      <td>woman</td>\n",
              "      <td>False</td>\n",
              "      <td>C</td>\n",
              "      <td>Cherbourg</td>\n",
              "      <td>yes</td>\n",
              "      <td>False</td>\n",
              "    </tr>\n",
              "    <tr>\n",
              "      <th>2</th>\n",
              "      <td>1</td>\n",
              "      <td>3</td>\n",
              "      <td>female</td>\n",
              "      <td>26.0</td>\n",
              "      <td>0</td>\n",
              "      <td>0</td>\n",
              "      <td>7.9250</td>\n",
              "      <td>S</td>\n",
              "      <td>Third</td>\n",
              "      <td>woman</td>\n",
              "      <td>False</td>\n",
              "      <td>NaN</td>\n",
              "      <td>Southampton</td>\n",
              "      <td>yes</td>\n",
              "      <td>True</td>\n",
              "    </tr>\n",
              "    <tr>\n",
              "      <th>3</th>\n",
              "      <td>1</td>\n",
              "      <td>1</td>\n",
              "      <td>female</td>\n",
              "      <td>35.0</td>\n",
              "      <td>1</td>\n",
              "      <td>0</td>\n",
              "      <td>53.1000</td>\n",
              "      <td>S</td>\n",
              "      <td>First</td>\n",
              "      <td>woman</td>\n",
              "      <td>False</td>\n",
              "      <td>C</td>\n",
              "      <td>Southampton</td>\n",
              "      <td>yes</td>\n",
              "      <td>False</td>\n",
              "    </tr>\n",
              "    <tr>\n",
              "      <th>4</th>\n",
              "      <td>0</td>\n",
              "      <td>3</td>\n",
              "      <td>male</td>\n",
              "      <td>35.0</td>\n",
              "      <td>0</td>\n",
              "      <td>0</td>\n",
              "      <td>8.0500</td>\n",
              "      <td>S</td>\n",
              "      <td>Third</td>\n",
              "      <td>man</td>\n",
              "      <td>True</td>\n",
              "      <td>NaN</td>\n",
              "      <td>Southampton</td>\n",
              "      <td>no</td>\n",
              "      <td>True</td>\n",
              "    </tr>\n",
              "  </tbody>\n",
              "</table>\n",
              "</div>"
            ],
            "text/plain": [
              "   survived  pclass     sex   age  ...  deck  embark_town  alive  alone\n",
              "0         0       3    male  22.0  ...   NaN  Southampton     no  False\n",
              "1         1       1  female  38.0  ...     C    Cherbourg    yes  False\n",
              "2         1       3  female  26.0  ...   NaN  Southampton    yes   True\n",
              "3         1       1  female  35.0  ...     C  Southampton    yes  False\n",
              "4         0       3    male  35.0  ...   NaN  Southampton     no   True\n",
              "\n",
              "[5 rows x 15 columns]"
            ]
          },
          "metadata": {},
          "execution_count": 3
        }
      ]
    },
    {
      "cell_type": "markdown",
      "metadata": {
        "id": "BxzchlucXxoZ"
      },
      "source": [
        "**컬럼(columns) 설명**\n",
        "\n",
        "- survivied: 생존여부 (1: 생존, 0: 사망)\n",
        "- pclass: 좌석 등급 (1등급, 2등급, 3등급)\n",
        "- sex: 성별\n",
        "- age: 나이\n",
        "- sibsp: 형제 + 배우자 수\n",
        "- parch: 부모 + 자녀 수\n",
        "- fare: 좌석 요금\n",
        "- embarked: 탑승 항구 (S, C, Q)\n",
        "- class: pclass와 동일\n",
        "- who: 성별과 동일\n",
        "- adult_male: 성인 남자 여부\n",
        "- deck: 데크 번호 (알파벳 + 숫자 혼용)\n",
        "- embark_town: 탑승 항구 이름\n",
        "- alive: 생존여부 (yes, no)\n",
        "- alone: 혼자 탑승 여부"
      ]
    },
    {
      "cell_type": "markdown",
      "metadata": {
        "id": "-fYx_h0zGvxT"
      },
      "source": [
        "## copy"
      ]
    },
    {
      "cell_type": "markdown",
      "metadata": {
        "id": "He84QuyZXxob"
      },
      "source": [
        "DataFrame을 **복제**합니다. 복제한 DataFrame을 수정해도 **원본에는 영향을 미치지 않습니다.**"
      ]
    },
    {
      "cell_type": "code",
      "metadata": {
        "colab": {
          "base_uri": "https://localhost:8080/",
          "height": 224
        },
        "id": "Xuz-49kIGvxT",
        "outputId": "2a7df22d-e1a4-4464-8c82-4055769fd107"
      },
      "source": [
        "df.head()"
      ],
      "execution_count": null,
      "outputs": [
        {
          "output_type": "execute_result",
          "data": {
            "text/html": [
              "<div>\n",
              "<style scoped>\n",
              "    .dataframe tbody tr th:only-of-type {\n",
              "        vertical-align: middle;\n",
              "    }\n",
              "\n",
              "    .dataframe tbody tr th {\n",
              "        vertical-align: top;\n",
              "    }\n",
              "\n",
              "    .dataframe thead th {\n",
              "        text-align: right;\n",
              "    }\n",
              "</style>\n",
              "<table border=\"1\" class=\"dataframe\">\n",
              "  <thead>\n",
              "    <tr style=\"text-align: right;\">\n",
              "      <th></th>\n",
              "      <th>survived</th>\n",
              "      <th>pclass</th>\n",
              "      <th>sex</th>\n",
              "      <th>age</th>\n",
              "      <th>sibsp</th>\n",
              "      <th>parch</th>\n",
              "      <th>fare</th>\n",
              "      <th>embarked</th>\n",
              "      <th>class</th>\n",
              "      <th>who</th>\n",
              "      <th>adult_male</th>\n",
              "      <th>deck</th>\n",
              "      <th>embark_town</th>\n",
              "      <th>alive</th>\n",
              "      <th>alone</th>\n",
              "    </tr>\n",
              "  </thead>\n",
              "  <tbody>\n",
              "    <tr>\n",
              "      <th>0</th>\n",
              "      <td>0</td>\n",
              "      <td>3</td>\n",
              "      <td>male</td>\n",
              "      <td>22.0</td>\n",
              "      <td>1</td>\n",
              "      <td>0</td>\n",
              "      <td>7.2500</td>\n",
              "      <td>S</td>\n",
              "      <td>Third</td>\n",
              "      <td>man</td>\n",
              "      <td>True</td>\n",
              "      <td>NaN</td>\n",
              "      <td>Southampton</td>\n",
              "      <td>no</td>\n",
              "      <td>False</td>\n",
              "    </tr>\n",
              "    <tr>\n",
              "      <th>1</th>\n",
              "      <td>1</td>\n",
              "      <td>1</td>\n",
              "      <td>female</td>\n",
              "      <td>38.0</td>\n",
              "      <td>1</td>\n",
              "      <td>0</td>\n",
              "      <td>71.2833</td>\n",
              "      <td>C</td>\n",
              "      <td>First</td>\n",
              "      <td>woman</td>\n",
              "      <td>False</td>\n",
              "      <td>C</td>\n",
              "      <td>Cherbourg</td>\n",
              "      <td>yes</td>\n",
              "      <td>False</td>\n",
              "    </tr>\n",
              "    <tr>\n",
              "      <th>2</th>\n",
              "      <td>1</td>\n",
              "      <td>3</td>\n",
              "      <td>female</td>\n",
              "      <td>26.0</td>\n",
              "      <td>0</td>\n",
              "      <td>0</td>\n",
              "      <td>7.9250</td>\n",
              "      <td>S</td>\n",
              "      <td>Third</td>\n",
              "      <td>woman</td>\n",
              "      <td>False</td>\n",
              "      <td>NaN</td>\n",
              "      <td>Southampton</td>\n",
              "      <td>yes</td>\n",
              "      <td>True</td>\n",
              "    </tr>\n",
              "    <tr>\n",
              "      <th>3</th>\n",
              "      <td>1</td>\n",
              "      <td>1</td>\n",
              "      <td>female</td>\n",
              "      <td>35.0</td>\n",
              "      <td>1</td>\n",
              "      <td>0</td>\n",
              "      <td>53.1000</td>\n",
              "      <td>S</td>\n",
              "      <td>First</td>\n",
              "      <td>woman</td>\n",
              "      <td>False</td>\n",
              "      <td>C</td>\n",
              "      <td>Southampton</td>\n",
              "      <td>yes</td>\n",
              "      <td>False</td>\n",
              "    </tr>\n",
              "    <tr>\n",
              "      <th>4</th>\n",
              "      <td>0</td>\n",
              "      <td>3</td>\n",
              "      <td>male</td>\n",
              "      <td>35.0</td>\n",
              "      <td>0</td>\n",
              "      <td>0</td>\n",
              "      <td>8.0500</td>\n",
              "      <td>S</td>\n",
              "      <td>Third</td>\n",
              "      <td>man</td>\n",
              "      <td>True</td>\n",
              "      <td>NaN</td>\n",
              "      <td>Southampton</td>\n",
              "      <td>no</td>\n",
              "      <td>True</td>\n",
              "    </tr>\n",
              "  </tbody>\n",
              "</table>\n",
              "</div>"
            ],
            "text/plain": [
              "   survived  pclass     sex   age  ...  deck  embark_town  alive  alone\n",
              "0         0       3    male  22.0  ...   NaN  Southampton     no  False\n",
              "1         1       1  female  38.0  ...     C    Cherbourg    yes  False\n",
              "2         1       3  female  26.0  ...   NaN  Southampton    yes   True\n",
              "3         1       1  female  35.0  ...     C  Southampton    yes  False\n",
              "4         0       3    male  35.0  ...   NaN  Southampton     no   True\n",
              "\n",
              "[5 rows x 15 columns]"
            ]
          },
          "metadata": {},
          "execution_count": 4
        }
      ]
    },
    {
      "cell_type": "markdown",
      "metadata": {
        "id": "ki96gtQwXxob"
      },
      "source": [
        "`copy()`로 DataFrame을 복제합니다."
      ]
    },
    {
      "cell_type": "code",
      "metadata": {
        "id": "h0wq_ltpGvxV"
      },
      "source": [
        "df_copy = df.copy()"
      ],
      "execution_count": null,
      "outputs": []
    },
    {
      "cell_type": "markdown",
      "metadata": {
        "id": "krCmPOkdXxoc"
      },
      "source": [
        "id 값을 확인하면 두 DataFrame의 **메모리 주소가 다름**을 확인할 수 있습니다."
      ]
    },
    {
      "cell_type": "code",
      "metadata": {
        "colab": {
          "base_uri": "https://localhost:8080/"
        },
        "id": "POzIxfmm0F3O",
        "outputId": "3a775a22-fce5-4248-e3ac-64dbe49a1028"
      },
      "source": [
        "id(df), id(df_copy)"
      ],
      "execution_count": null,
      "outputs": [
        {
          "output_type": "execute_result",
          "data": {
            "text/plain": [
              "(139991014992592, 139991010111696)"
            ]
          },
          "metadata": {},
          "execution_count": 6
        }
      ]
    },
    {
      "cell_type": "code",
      "metadata": {
        "colab": {
          "base_uri": "https://localhost:8080/",
          "height": 198
        },
        "id": "TqvKUj2qGvxW",
        "outputId": "a005fe6b-ace7-44ac-8ae5-6175a04dd068"
      },
      "source": [
        "df_copy.head()"
      ],
      "execution_count": null,
      "outputs": [
        {
          "data": {
            "text/html": [
              "<div>\n",
              "<style scoped>\n",
              "    .dataframe tbody tr th:only-of-type {\n",
              "        vertical-align: middle;\n",
              "    }\n",
              "\n",
              "    .dataframe tbody tr th {\n",
              "        vertical-align: top;\n",
              "    }\n",
              "\n",
              "    .dataframe thead th {\n",
              "        text-align: right;\n",
              "    }\n",
              "</style>\n",
              "<table border=\"1\" class=\"dataframe\">\n",
              "  <thead>\n",
              "    <tr style=\"text-align: right;\">\n",
              "      <th></th>\n",
              "      <th>survived</th>\n",
              "      <th>pclass</th>\n",
              "      <th>sex</th>\n",
              "      <th>age</th>\n",
              "      <th>sibsp</th>\n",
              "      <th>parch</th>\n",
              "      <th>fare</th>\n",
              "      <th>embarked</th>\n",
              "      <th>class</th>\n",
              "      <th>who</th>\n",
              "      <th>adult_male</th>\n",
              "      <th>deck</th>\n",
              "      <th>embark_town</th>\n",
              "      <th>alive</th>\n",
              "      <th>alone</th>\n",
              "    </tr>\n",
              "  </thead>\n",
              "  <tbody>\n",
              "    <tr>\n",
              "      <th>0</th>\n",
              "      <td>0</td>\n",
              "      <td>3</td>\n",
              "      <td>male</td>\n",
              "      <td>22.0</td>\n",
              "      <td>1</td>\n",
              "      <td>0</td>\n",
              "      <td>7.2500</td>\n",
              "      <td>S</td>\n",
              "      <td>Third</td>\n",
              "      <td>man</td>\n",
              "      <td>True</td>\n",
              "      <td>NaN</td>\n",
              "      <td>Southampton</td>\n",
              "      <td>no</td>\n",
              "      <td>False</td>\n",
              "    </tr>\n",
              "    <tr>\n",
              "      <th>1</th>\n",
              "      <td>1</td>\n",
              "      <td>1</td>\n",
              "      <td>female</td>\n",
              "      <td>38.0</td>\n",
              "      <td>1</td>\n",
              "      <td>0</td>\n",
              "      <td>71.2833</td>\n",
              "      <td>C</td>\n",
              "      <td>First</td>\n",
              "      <td>woman</td>\n",
              "      <td>False</td>\n",
              "      <td>C</td>\n",
              "      <td>Cherbourg</td>\n",
              "      <td>yes</td>\n",
              "      <td>False</td>\n",
              "    </tr>\n",
              "    <tr>\n",
              "      <th>2</th>\n",
              "      <td>1</td>\n",
              "      <td>3</td>\n",
              "      <td>female</td>\n",
              "      <td>26.0</td>\n",
              "      <td>0</td>\n",
              "      <td>0</td>\n",
              "      <td>7.9250</td>\n",
              "      <td>S</td>\n",
              "      <td>Third</td>\n",
              "      <td>woman</td>\n",
              "      <td>False</td>\n",
              "      <td>NaN</td>\n",
              "      <td>Southampton</td>\n",
              "      <td>yes</td>\n",
              "      <td>True</td>\n",
              "    </tr>\n",
              "    <tr>\n",
              "      <th>3</th>\n",
              "      <td>1</td>\n",
              "      <td>1</td>\n",
              "      <td>female</td>\n",
              "      <td>35.0</td>\n",
              "      <td>1</td>\n",
              "      <td>0</td>\n",
              "      <td>53.1000</td>\n",
              "      <td>S</td>\n",
              "      <td>First</td>\n",
              "      <td>woman</td>\n",
              "      <td>False</td>\n",
              "      <td>C</td>\n",
              "      <td>Southampton</td>\n",
              "      <td>yes</td>\n",
              "      <td>False</td>\n",
              "    </tr>\n",
              "    <tr>\n",
              "      <th>4</th>\n",
              "      <td>0</td>\n",
              "      <td>3</td>\n",
              "      <td>male</td>\n",
              "      <td>35.0</td>\n",
              "      <td>0</td>\n",
              "      <td>0</td>\n",
              "      <td>8.0500</td>\n",
              "      <td>S</td>\n",
              "      <td>Third</td>\n",
              "      <td>man</td>\n",
              "      <td>True</td>\n",
              "      <td>NaN</td>\n",
              "      <td>Southampton</td>\n",
              "      <td>no</td>\n",
              "      <td>True</td>\n",
              "    </tr>\n",
              "  </tbody>\n",
              "</table>\n",
              "</div>"
            ],
            "text/plain": [
              "   survived  pclass     sex   age  sibsp  parch     fare embarked  class  \\\n",
              "0         0       3    male  22.0      1      0   7.2500        S  Third   \n",
              "1         1       1  female  38.0      1      0  71.2833        C  First   \n",
              "2         1       3  female  26.0      0      0   7.9250        S  Third   \n",
              "3         1       1  female  35.0      1      0  53.1000        S  First   \n",
              "4         0       3    male  35.0      0      0   8.0500        S  Third   \n",
              "\n",
              "     who  adult_male deck  embark_town alive  alone  \n",
              "0    man        True  NaN  Southampton    no  False  \n",
              "1  woman       False    C    Cherbourg   yes  False  \n",
              "2  woman       False  NaN  Southampton   yes   True  \n",
              "3  woman       False    C  Southampton   yes  False  \n",
              "4    man        True  NaN  Southampton    no   True  "
            ]
          },
          "execution_count": 11,
          "metadata": {},
          "output_type": "execute_result"
        }
      ]
    },
    {
      "cell_type": "markdown",
      "metadata": {
        "id": "rBGZxRsiXxod"
      },
      "source": [
        "`df_copy`의 `age`를 99999로 임의 수정하도록 하겠습니다."
      ]
    },
    {
      "cell_type": "code",
      "metadata": {
        "id": "DmBm0nSJGvxa"
      },
      "source": [
        "df_copy.loc[0, 'age'] = 99999"
      ],
      "execution_count": null,
      "outputs": []
    },
    {
      "cell_type": "markdown",
      "metadata": {
        "id": "QWuvNPItXxod"
      },
      "source": [
        "수정사항이 반영된 것을 확인할 수 있습니다."
      ]
    },
    {
      "cell_type": "code",
      "metadata": {
        "colab": {
          "base_uri": "https://localhost:8080/",
          "height": 198
        },
        "id": "2Zv6Xb_GGvxc",
        "outputId": "2f22c777-b7b2-4343-aa0b-bac65b993986"
      },
      "source": [
        "df_copy.head()"
      ],
      "execution_count": null,
      "outputs": [
        {
          "data": {
            "text/html": [
              "<div>\n",
              "<style scoped>\n",
              "    .dataframe tbody tr th:only-of-type {\n",
              "        vertical-align: middle;\n",
              "    }\n",
              "\n",
              "    .dataframe tbody tr th {\n",
              "        vertical-align: top;\n",
              "    }\n",
              "\n",
              "    .dataframe thead th {\n",
              "        text-align: right;\n",
              "    }\n",
              "</style>\n",
              "<table border=\"1\" class=\"dataframe\">\n",
              "  <thead>\n",
              "    <tr style=\"text-align: right;\">\n",
              "      <th></th>\n",
              "      <th>survived</th>\n",
              "      <th>pclass</th>\n",
              "      <th>sex</th>\n",
              "      <th>age</th>\n",
              "      <th>sibsp</th>\n",
              "      <th>parch</th>\n",
              "      <th>fare</th>\n",
              "      <th>embarked</th>\n",
              "      <th>class</th>\n",
              "      <th>who</th>\n",
              "      <th>adult_male</th>\n",
              "      <th>deck</th>\n",
              "      <th>embark_town</th>\n",
              "      <th>alive</th>\n",
              "      <th>alone</th>\n",
              "    </tr>\n",
              "  </thead>\n",
              "  <tbody>\n",
              "    <tr>\n",
              "      <th>0</th>\n",
              "      <td>0</td>\n",
              "      <td>3</td>\n",
              "      <td>male</td>\n",
              "      <td>99999.0</td>\n",
              "      <td>1</td>\n",
              "      <td>0</td>\n",
              "      <td>7.2500</td>\n",
              "      <td>S</td>\n",
              "      <td>Third</td>\n",
              "      <td>man</td>\n",
              "      <td>True</td>\n",
              "      <td>NaN</td>\n",
              "      <td>Southampton</td>\n",
              "      <td>no</td>\n",
              "      <td>False</td>\n",
              "    </tr>\n",
              "    <tr>\n",
              "      <th>1</th>\n",
              "      <td>1</td>\n",
              "      <td>1</td>\n",
              "      <td>female</td>\n",
              "      <td>38.0</td>\n",
              "      <td>1</td>\n",
              "      <td>0</td>\n",
              "      <td>71.2833</td>\n",
              "      <td>C</td>\n",
              "      <td>First</td>\n",
              "      <td>woman</td>\n",
              "      <td>False</td>\n",
              "      <td>C</td>\n",
              "      <td>Cherbourg</td>\n",
              "      <td>yes</td>\n",
              "      <td>False</td>\n",
              "    </tr>\n",
              "    <tr>\n",
              "      <th>2</th>\n",
              "      <td>1</td>\n",
              "      <td>3</td>\n",
              "      <td>female</td>\n",
              "      <td>26.0</td>\n",
              "      <td>0</td>\n",
              "      <td>0</td>\n",
              "      <td>7.9250</td>\n",
              "      <td>S</td>\n",
              "      <td>Third</td>\n",
              "      <td>woman</td>\n",
              "      <td>False</td>\n",
              "      <td>NaN</td>\n",
              "      <td>Southampton</td>\n",
              "      <td>yes</td>\n",
              "      <td>True</td>\n",
              "    </tr>\n",
              "    <tr>\n",
              "      <th>3</th>\n",
              "      <td>1</td>\n",
              "      <td>1</td>\n",
              "      <td>female</td>\n",
              "      <td>35.0</td>\n",
              "      <td>1</td>\n",
              "      <td>0</td>\n",
              "      <td>53.1000</td>\n",
              "      <td>S</td>\n",
              "      <td>First</td>\n",
              "      <td>woman</td>\n",
              "      <td>False</td>\n",
              "      <td>C</td>\n",
              "      <td>Southampton</td>\n",
              "      <td>yes</td>\n",
              "      <td>False</td>\n",
              "    </tr>\n",
              "    <tr>\n",
              "      <th>4</th>\n",
              "      <td>0</td>\n",
              "      <td>3</td>\n",
              "      <td>male</td>\n",
              "      <td>35.0</td>\n",
              "      <td>0</td>\n",
              "      <td>0</td>\n",
              "      <td>8.0500</td>\n",
              "      <td>S</td>\n",
              "      <td>Third</td>\n",
              "      <td>man</td>\n",
              "      <td>True</td>\n",
              "      <td>NaN</td>\n",
              "      <td>Southampton</td>\n",
              "      <td>no</td>\n",
              "      <td>True</td>\n",
              "    </tr>\n",
              "  </tbody>\n",
              "</table>\n",
              "</div>"
            ],
            "text/plain": [
              "   survived  pclass     sex      age  sibsp  parch     fare embarked  class  \\\n",
              "0         0       3    male  99999.0      1      0   7.2500        S  Third   \n",
              "1         1       1  female     38.0      1      0  71.2833        C  First   \n",
              "2         1       3  female     26.0      0      0   7.9250        S  Third   \n",
              "3         1       1  female     35.0      1      0  53.1000        S  First   \n",
              "4         0       3    male     35.0      0      0   8.0500        S  Third   \n",
              "\n",
              "     who  adult_male deck  embark_town alive  alone  \n",
              "0    man        True  NaN  Southampton    no  False  \n",
              "1  woman       False    C    Cherbourg   yes  False  \n",
              "2  woman       False  NaN  Southampton   yes   True  \n",
              "3  woman       False    C  Southampton   yes  False  \n",
              "4    man        True  NaN  Southampton    no   True  "
            ]
          },
          "execution_count": 18,
          "metadata": {},
          "output_type": "execute_result"
        }
      ]
    },
    {
      "cell_type": "markdown",
      "metadata": {
        "id": "f5uoA3_WXxod"
      },
      "source": [
        "하지만, 원본 DataFrame의 **데이터는 변경되지 않고 그대로 남아** 있습니다."
      ]
    },
    {
      "cell_type": "code",
      "metadata": {
        "colab": {
          "base_uri": "https://localhost:8080/",
          "height": 198
        },
        "id": "ci3vIO0SGvxf",
        "outputId": "ebe03104-c06a-463e-9799-66c2f0955a70"
      },
      "source": [
        "df.head()"
      ],
      "execution_count": null,
      "outputs": [
        {
          "data": {
            "text/html": [
              "<div>\n",
              "<style scoped>\n",
              "    .dataframe tbody tr th:only-of-type {\n",
              "        vertical-align: middle;\n",
              "    }\n",
              "\n",
              "    .dataframe tbody tr th {\n",
              "        vertical-align: top;\n",
              "    }\n",
              "\n",
              "    .dataframe thead th {\n",
              "        text-align: right;\n",
              "    }\n",
              "</style>\n",
              "<table border=\"1\" class=\"dataframe\">\n",
              "  <thead>\n",
              "    <tr style=\"text-align: right;\">\n",
              "      <th></th>\n",
              "      <th>survived</th>\n",
              "      <th>pclass</th>\n",
              "      <th>sex</th>\n",
              "      <th>age</th>\n",
              "      <th>sibsp</th>\n",
              "      <th>parch</th>\n",
              "      <th>fare</th>\n",
              "      <th>embarked</th>\n",
              "      <th>class</th>\n",
              "      <th>who</th>\n",
              "      <th>adult_male</th>\n",
              "      <th>deck</th>\n",
              "      <th>embark_town</th>\n",
              "      <th>alive</th>\n",
              "      <th>alone</th>\n",
              "    </tr>\n",
              "  </thead>\n",
              "  <tbody>\n",
              "    <tr>\n",
              "      <th>0</th>\n",
              "      <td>0</td>\n",
              "      <td>3</td>\n",
              "      <td>male</td>\n",
              "      <td>22.0</td>\n",
              "      <td>1</td>\n",
              "      <td>0</td>\n",
              "      <td>7.2500</td>\n",
              "      <td>S</td>\n",
              "      <td>Third</td>\n",
              "      <td>man</td>\n",
              "      <td>True</td>\n",
              "      <td>NaN</td>\n",
              "      <td>Southampton</td>\n",
              "      <td>no</td>\n",
              "      <td>False</td>\n",
              "    </tr>\n",
              "    <tr>\n",
              "      <th>1</th>\n",
              "      <td>1</td>\n",
              "      <td>1</td>\n",
              "      <td>female</td>\n",
              "      <td>38.0</td>\n",
              "      <td>1</td>\n",
              "      <td>0</td>\n",
              "      <td>71.2833</td>\n",
              "      <td>C</td>\n",
              "      <td>First</td>\n",
              "      <td>woman</td>\n",
              "      <td>False</td>\n",
              "      <td>C</td>\n",
              "      <td>Cherbourg</td>\n",
              "      <td>yes</td>\n",
              "      <td>False</td>\n",
              "    </tr>\n",
              "    <tr>\n",
              "      <th>2</th>\n",
              "      <td>1</td>\n",
              "      <td>3</td>\n",
              "      <td>female</td>\n",
              "      <td>26.0</td>\n",
              "      <td>0</td>\n",
              "      <td>0</td>\n",
              "      <td>7.9250</td>\n",
              "      <td>S</td>\n",
              "      <td>Third</td>\n",
              "      <td>woman</td>\n",
              "      <td>False</td>\n",
              "      <td>NaN</td>\n",
              "      <td>Southampton</td>\n",
              "      <td>yes</td>\n",
              "      <td>True</td>\n",
              "    </tr>\n",
              "    <tr>\n",
              "      <th>3</th>\n",
              "      <td>1</td>\n",
              "      <td>1</td>\n",
              "      <td>female</td>\n",
              "      <td>35.0</td>\n",
              "      <td>1</td>\n",
              "      <td>0</td>\n",
              "      <td>53.1000</td>\n",
              "      <td>S</td>\n",
              "      <td>First</td>\n",
              "      <td>woman</td>\n",
              "      <td>False</td>\n",
              "      <td>C</td>\n",
              "      <td>Southampton</td>\n",
              "      <td>yes</td>\n",
              "      <td>False</td>\n",
              "    </tr>\n",
              "    <tr>\n",
              "      <th>4</th>\n",
              "      <td>0</td>\n",
              "      <td>3</td>\n",
              "      <td>male</td>\n",
              "      <td>35.0</td>\n",
              "      <td>0</td>\n",
              "      <td>0</td>\n",
              "      <td>8.0500</td>\n",
              "      <td>S</td>\n",
              "      <td>Third</td>\n",
              "      <td>man</td>\n",
              "      <td>True</td>\n",
              "      <td>NaN</td>\n",
              "      <td>Southampton</td>\n",
              "      <td>no</td>\n",
              "      <td>True</td>\n",
              "    </tr>\n",
              "  </tbody>\n",
              "</table>\n",
              "</div>"
            ],
            "text/plain": [
              "   survived  pclass     sex   age  sibsp  parch     fare embarked  class  \\\n",
              "0         0       3    male  22.0      1      0   7.2500        S  Third   \n",
              "1         1       1  female  38.0      1      0  71.2833        C  First   \n",
              "2         1       3  female  26.0      0      0   7.9250        S  Third   \n",
              "3         1       1  female  35.0      1      0  53.1000        S  First   \n",
              "4         0       3    male  35.0      0      0   8.0500        S  Third   \n",
              "\n",
              "     who  adult_male deck  embark_town alive  alone  \n",
              "0    man        True  NaN  Southampton    no  False  \n",
              "1  woman       False    C    Cherbourg   yes  False  \n",
              "2  woman       False  NaN  Southampton   yes   True  \n",
              "3  woman       False    C  Southampton   yes  False  \n",
              "4    man        True  NaN  Southampton    no   True  "
            ]
          },
          "execution_count": 19,
          "metadata": {},
          "output_type": "execute_result"
        }
      ]
    },
    {
      "cell_type": "markdown",
      "metadata": {
        "id": "xcRqsnxBXxod"
      },
      "source": [
        "# 결측치"
      ]
    },
    {
      "cell_type": "markdown",
      "metadata": {
        "id": "_52uqGrzXxoe"
      },
      "source": [
        "결측치는 **비어있는 데이터**를 의미합니다.\n",
        "\n",
        "결측치에 대한 처리는 매우 중요합니다. \n",
        "\n",
        "결측치에 대한 처리를 해주려면 **다음의 내용**을 반드시 알아야 합니다.\n",
        "\n",
        "1. 결측 데이터 확인\n",
        "2. 결측치가 **아닌** 데이터 확인\n",
        "3. 결측 데이터 **채우기**\n",
        "4. 결측 데이터 **제거하기**"
      ]
    },
    {
      "cell_type": "markdown",
      "metadata": {
        "id": "ESi8is8YGvxh"
      },
      "source": [
        "## 결측치 확인 - isnull(), isna()"
      ]
    },
    {
      "cell_type": "markdown",
      "metadata": {
        "id": "TVRCWn2KXxoe"
      },
      "source": [
        "컬럼(column)별 결측치의 갯수를 확인하기 위해서는 `sum()` 함수를 붙혀주면 됩니다.\n",
        "\n",
        "`sum()`은 Pandas의 통계 관련 함수이며, 통계 관련 함수는 추후에 더 자세히 알아볼 예정입니다."
      ]
    },
    {
      "cell_type": "code",
      "metadata": {
        "colab": {
          "base_uri": "https://localhost:8080/"
        },
        "id": "QKSLdMxRdsnH",
        "outputId": "b3daef93-41b7-48d2-abf9-304ffd6ecb51"
      },
      "source": [
        "pd.Series([True, False, True, False, True]).sum() # True를 1로 인식"
      ],
      "execution_count": null,
      "outputs": [
        {
          "output_type": "execute_result",
          "data": {
            "text/plain": [
              "3"
            ]
          },
          "metadata": {},
          "execution_count": 7
        }
      ]
    },
    {
      "cell_type": "markdown",
      "metadata": {
        "id": "RL8vurquXxoe"
      },
      "source": [
        "**isnull()**"
      ]
    },
    {
      "cell_type": "code",
      "metadata": {
        "colab": {
          "base_uri": "https://localhost:8080/"
        },
        "id": "oN7ajRJJd2HH",
        "outputId": "69c624ae-c67e-4868-b30d-de78ec241202"
      },
      "source": [
        "df['age'].isnull()"
      ],
      "execution_count": null,
      "outputs": [
        {
          "output_type": "execute_result",
          "data": {
            "text/plain": [
              "0      False\n",
              "1      False\n",
              "2      False\n",
              "3      False\n",
              "4      False\n",
              "       ...  \n",
              "886    False\n",
              "887    False\n",
              "888     True\n",
              "889    False\n",
              "890    False\n",
              "Name: age, Length: 891, dtype: bool"
            ]
          },
          "metadata": {},
          "execution_count": 8
        }
      ]
    },
    {
      "cell_type": "code",
      "metadata": {
        "colab": {
          "base_uri": "https://localhost:8080/"
        },
        "id": "d3zmrp1jGvxi",
        "outputId": "41480f0d-902d-4b05-9ee7-56861a1d5083"
      },
      "source": [
        "s = df.isnull().sum()\n",
        "s[s>0]"
      ],
      "execution_count": null,
      "outputs": [
        {
          "output_type": "execute_result",
          "data": {
            "text/plain": [
              "age            177\n",
              "embarked         2\n",
              "deck           688\n",
              "embark_town      2\n",
              "dtype: int64"
            ]
          },
          "metadata": {},
          "execution_count": 16
        }
      ]
    },
    {
      "cell_type": "markdown",
      "metadata": {
        "id": "Ew6kOWRRXxoe"
      },
      "source": [
        "**isna()**"
      ]
    },
    {
      "cell_type": "markdown",
      "metadata": {
        "id": "paVPqQACGvxj"
      },
      "source": [
        "isnull() 과 동작이 완전 같습니다. 편한 것으로 써주세요. (심지어 도큐먼트도 같습니다)"
      ]
    },
    {
      "cell_type": "code",
      "metadata": {
        "colab": {
          "base_uri": "https://localhost:8080/"
        },
        "id": "SzayMYwcGvxj",
        "outputId": "458d8a40-f14c-43bb-ea59-93fab94cdadc"
      },
      "source": [
        "df.isna().sum()"
      ],
      "execution_count": null,
      "outputs": [
        {
          "output_type": "execute_result",
          "data": {
            "text/plain": [
              "survived         0\n",
              "pclass           0\n",
              "sex              0\n",
              "age            177\n",
              "sibsp            0\n",
              "parch            0\n",
              "fare             0\n",
              "embarked         2\n",
              "class            0\n",
              "who              0\n",
              "adult_male       0\n",
              "deck           688\n",
              "embark_town      2\n",
              "alive            0\n",
              "alone            0\n",
              "dtype: int64"
            ]
          },
          "metadata": {},
          "execution_count": 19
        }
      ]
    },
    {
      "cell_type": "markdown",
      "metadata": {
        "id": "FaTzggr9Xxof"
      },
      "source": [
        "DataFrame 전체 결측 데이터의 갯수를 합산하기 위해서는 `sum()`을 두 번 사용하면 됩니다."
      ]
    },
    {
      "cell_type": "code",
      "metadata": {
        "colab": {
          "base_uri": "https://localhost:8080/"
        },
        "id": "fRay_bw0Gvxl",
        "outputId": "16b823d3-15a4-42c0-ce4e-f8f0fa5419f0"
      },
      "source": [
        "# 전체 결측 데이터의 개수를 확인합니다.\n",
        "df.isna().sum().sum() # 앞에 sum은 dataframe sum. 뒤의 sum은 Series의 sum"
      ],
      "execution_count": null,
      "outputs": [
        {
          "output_type": "execute_result",
          "data": {
            "text/plain": [
              "869"
            ]
          },
          "metadata": {},
          "execution_count": 17
        }
      ]
    },
    {
      "cell_type": "markdown",
      "metadata": {
        "id": "FxBlqc7GXxof"
      },
      "source": [
        "## 결측치가 아닌 데이터 확인 - notnull()"
      ]
    },
    {
      "cell_type": "markdown",
      "metadata": {
        "id": "drYqzyEJXxog"
      },
      "source": [
        "`notnull()`은 `isnull()`과 정확히 **반대** 개념입니다."
      ]
    },
    {
      "cell_type": "code",
      "metadata": {
        "id": "ptDAt2TqXxog",
        "outputId": "84c12b1d-3d31-434e-e936-3cf6e8989d2d"
      },
      "source": [
        "df.notnull().sum()"
      ],
      "execution_count": null,
      "outputs": [
        {
          "data": {
            "text/plain": [
              "survived       891\n",
              "pclass         891\n",
              "sex            891\n",
              "age            714\n",
              "sibsp          891\n",
              "parch          891\n",
              "fare           891\n",
              "embarked       889\n",
              "class          891\n",
              "who            891\n",
              "adult_male     891\n",
              "deck           203\n",
              "embark_town    889\n",
              "alive          891\n",
              "alone          891\n",
              "dtype: int64"
            ]
          },
          "execution_count": 29,
          "metadata": {},
          "output_type": "execute_result"
        }
      ]
    },
    {
      "cell_type": "markdown",
      "metadata": {
        "id": "jaqXSZKVXxog"
      },
      "source": [
        "## 결측 데이터 필터링"
      ]
    },
    {
      "cell_type": "markdown",
      "metadata": {
        "id": "PhqQeBWWXxog"
      },
      "source": [
        "`isnull()` 함수가 결측 데이터를 찾는 **boolean index** 입니다.\n",
        "\n",
        "즉, `loc`에 적용하여 조건 필터링을 걸 수 있습니다."
      ]
    },
    {
      "cell_type": "code",
      "metadata": {
        "colab": {
          "base_uri": "https://localhost:8080/",
          "height": 439
        },
        "id": "Ja0TVTl4Gvxo",
        "outputId": "2e087867-4ee3-4252-8e73-3446f304fa63"
      },
      "source": [
        "# df의 'age' 컬럼에 대해 결측치인 정보를 가져와 출력해 보세요.  (basic indexing, loc 사용)\n",
        "df.loc[df['age'].isnull(),:]"
      ],
      "execution_count": null,
      "outputs": [
        {
          "output_type": "execute_result",
          "data": {
            "text/html": [
              "<div>\n",
              "<style scoped>\n",
              "    .dataframe tbody tr th:only-of-type {\n",
              "        vertical-align: middle;\n",
              "    }\n",
              "\n",
              "    .dataframe tbody tr th {\n",
              "        vertical-align: top;\n",
              "    }\n",
              "\n",
              "    .dataframe thead th {\n",
              "        text-align: right;\n",
              "    }\n",
              "</style>\n",
              "<table border=\"1\" class=\"dataframe\">\n",
              "  <thead>\n",
              "    <tr style=\"text-align: right;\">\n",
              "      <th></th>\n",
              "      <th>survived</th>\n",
              "      <th>pclass</th>\n",
              "      <th>sex</th>\n",
              "      <th>age</th>\n",
              "      <th>sibsp</th>\n",
              "      <th>parch</th>\n",
              "      <th>fare</th>\n",
              "      <th>embarked</th>\n",
              "      <th>class</th>\n",
              "      <th>who</th>\n",
              "      <th>adult_male</th>\n",
              "      <th>deck</th>\n",
              "      <th>embark_town</th>\n",
              "      <th>alive</th>\n",
              "      <th>alone</th>\n",
              "    </tr>\n",
              "  </thead>\n",
              "  <tbody>\n",
              "    <tr>\n",
              "      <th>5</th>\n",
              "      <td>0</td>\n",
              "      <td>3</td>\n",
              "      <td>male</td>\n",
              "      <td>NaN</td>\n",
              "      <td>0</td>\n",
              "      <td>0</td>\n",
              "      <td>8.4583</td>\n",
              "      <td>Q</td>\n",
              "      <td>Third</td>\n",
              "      <td>man</td>\n",
              "      <td>True</td>\n",
              "      <td>NaN</td>\n",
              "      <td>Queenstown</td>\n",
              "      <td>no</td>\n",
              "      <td>True</td>\n",
              "    </tr>\n",
              "    <tr>\n",
              "      <th>17</th>\n",
              "      <td>1</td>\n",
              "      <td>2</td>\n",
              "      <td>male</td>\n",
              "      <td>NaN</td>\n",
              "      <td>0</td>\n",
              "      <td>0</td>\n",
              "      <td>13.0000</td>\n",
              "      <td>S</td>\n",
              "      <td>Second</td>\n",
              "      <td>man</td>\n",
              "      <td>True</td>\n",
              "      <td>NaN</td>\n",
              "      <td>Southampton</td>\n",
              "      <td>yes</td>\n",
              "      <td>True</td>\n",
              "    </tr>\n",
              "    <tr>\n",
              "      <th>19</th>\n",
              "      <td>1</td>\n",
              "      <td>3</td>\n",
              "      <td>female</td>\n",
              "      <td>NaN</td>\n",
              "      <td>0</td>\n",
              "      <td>0</td>\n",
              "      <td>7.2250</td>\n",
              "      <td>C</td>\n",
              "      <td>Third</td>\n",
              "      <td>woman</td>\n",
              "      <td>False</td>\n",
              "      <td>NaN</td>\n",
              "      <td>Cherbourg</td>\n",
              "      <td>yes</td>\n",
              "      <td>True</td>\n",
              "    </tr>\n",
              "    <tr>\n",
              "      <th>26</th>\n",
              "      <td>0</td>\n",
              "      <td>3</td>\n",
              "      <td>male</td>\n",
              "      <td>NaN</td>\n",
              "      <td>0</td>\n",
              "      <td>0</td>\n",
              "      <td>7.2250</td>\n",
              "      <td>C</td>\n",
              "      <td>Third</td>\n",
              "      <td>man</td>\n",
              "      <td>True</td>\n",
              "      <td>NaN</td>\n",
              "      <td>Cherbourg</td>\n",
              "      <td>no</td>\n",
              "      <td>True</td>\n",
              "    </tr>\n",
              "    <tr>\n",
              "      <th>28</th>\n",
              "      <td>1</td>\n",
              "      <td>3</td>\n",
              "      <td>female</td>\n",
              "      <td>NaN</td>\n",
              "      <td>0</td>\n",
              "      <td>0</td>\n",
              "      <td>7.8792</td>\n",
              "      <td>Q</td>\n",
              "      <td>Third</td>\n",
              "      <td>woman</td>\n",
              "      <td>False</td>\n",
              "      <td>NaN</td>\n",
              "      <td>Queenstown</td>\n",
              "      <td>yes</td>\n",
              "      <td>True</td>\n",
              "    </tr>\n",
              "    <tr>\n",
              "      <th>...</th>\n",
              "      <td>...</td>\n",
              "      <td>...</td>\n",
              "      <td>...</td>\n",
              "      <td>...</td>\n",
              "      <td>...</td>\n",
              "      <td>...</td>\n",
              "      <td>...</td>\n",
              "      <td>...</td>\n",
              "      <td>...</td>\n",
              "      <td>...</td>\n",
              "      <td>...</td>\n",
              "      <td>...</td>\n",
              "      <td>...</td>\n",
              "      <td>...</td>\n",
              "      <td>...</td>\n",
              "    </tr>\n",
              "    <tr>\n",
              "      <th>859</th>\n",
              "      <td>0</td>\n",
              "      <td>3</td>\n",
              "      <td>male</td>\n",
              "      <td>NaN</td>\n",
              "      <td>0</td>\n",
              "      <td>0</td>\n",
              "      <td>7.2292</td>\n",
              "      <td>C</td>\n",
              "      <td>Third</td>\n",
              "      <td>man</td>\n",
              "      <td>True</td>\n",
              "      <td>NaN</td>\n",
              "      <td>Cherbourg</td>\n",
              "      <td>no</td>\n",
              "      <td>True</td>\n",
              "    </tr>\n",
              "    <tr>\n",
              "      <th>863</th>\n",
              "      <td>0</td>\n",
              "      <td>3</td>\n",
              "      <td>female</td>\n",
              "      <td>NaN</td>\n",
              "      <td>8</td>\n",
              "      <td>2</td>\n",
              "      <td>69.5500</td>\n",
              "      <td>S</td>\n",
              "      <td>Third</td>\n",
              "      <td>woman</td>\n",
              "      <td>False</td>\n",
              "      <td>NaN</td>\n",
              "      <td>Southampton</td>\n",
              "      <td>no</td>\n",
              "      <td>False</td>\n",
              "    </tr>\n",
              "    <tr>\n",
              "      <th>868</th>\n",
              "      <td>0</td>\n",
              "      <td>3</td>\n",
              "      <td>male</td>\n",
              "      <td>NaN</td>\n",
              "      <td>0</td>\n",
              "      <td>0</td>\n",
              "      <td>9.5000</td>\n",
              "      <td>S</td>\n",
              "      <td>Third</td>\n",
              "      <td>man</td>\n",
              "      <td>True</td>\n",
              "      <td>NaN</td>\n",
              "      <td>Southampton</td>\n",
              "      <td>no</td>\n",
              "      <td>True</td>\n",
              "    </tr>\n",
              "    <tr>\n",
              "      <th>878</th>\n",
              "      <td>0</td>\n",
              "      <td>3</td>\n",
              "      <td>male</td>\n",
              "      <td>NaN</td>\n",
              "      <td>0</td>\n",
              "      <td>0</td>\n",
              "      <td>7.8958</td>\n",
              "      <td>S</td>\n",
              "      <td>Third</td>\n",
              "      <td>man</td>\n",
              "      <td>True</td>\n",
              "      <td>NaN</td>\n",
              "      <td>Southampton</td>\n",
              "      <td>no</td>\n",
              "      <td>True</td>\n",
              "    </tr>\n",
              "    <tr>\n",
              "      <th>888</th>\n",
              "      <td>0</td>\n",
              "      <td>3</td>\n",
              "      <td>female</td>\n",
              "      <td>NaN</td>\n",
              "      <td>1</td>\n",
              "      <td>2</td>\n",
              "      <td>23.4500</td>\n",
              "      <td>S</td>\n",
              "      <td>Third</td>\n",
              "      <td>woman</td>\n",
              "      <td>False</td>\n",
              "      <td>NaN</td>\n",
              "      <td>Southampton</td>\n",
              "      <td>no</td>\n",
              "      <td>False</td>\n",
              "    </tr>\n",
              "  </tbody>\n",
              "</table>\n",
              "<p>177 rows × 15 columns</p>\n",
              "</div>"
            ],
            "text/plain": [
              "     survived  pclass     sex  age  ...  deck  embark_town  alive  alone\n",
              "5           0       3    male  NaN  ...   NaN   Queenstown     no   True\n",
              "17          1       2    male  NaN  ...   NaN  Southampton    yes   True\n",
              "19          1       3  female  NaN  ...   NaN    Cherbourg    yes   True\n",
              "26          0       3    male  NaN  ...   NaN    Cherbourg     no   True\n",
              "28          1       3  female  NaN  ...   NaN   Queenstown    yes   True\n",
              "..        ...     ...     ...  ...  ...   ...          ...    ...    ...\n",
              "859         0       3    male  NaN  ...   NaN    Cherbourg     no   True\n",
              "863         0       3  female  NaN  ...   NaN  Southampton     no  False\n",
              "868         0       3    male  NaN  ...   NaN  Southampton     no   True\n",
              "878         0       3    male  NaN  ...   NaN  Southampton     no   True\n",
              "888         0       3  female  NaN  ...   NaN  Southampton     no  False\n",
              "\n",
              "[177 rows x 15 columns]"
            ]
          },
          "metadata": {},
          "execution_count": 26
        }
      ]
    },
    {
      "cell_type": "markdown",
      "metadata": {
        "id": "GJBAIy01Gvxq"
      },
      "source": [
        "## 결측치 채우기 - fillna()"
      ]
    },
    {
      "cell_type": "markdown",
      "metadata": {
        "id": "w_Zx-JYOXxoh"
      },
      "source": [
        "`fillna()`를 활용하면 결측치에 대하여 **일괄적으로 값을 채울 수** 있습니다."
      ]
    },
    {
      "cell_type": "code",
      "metadata": {
        "id": "4t4SbU5vGvxq"
      },
      "source": [
        "# 원본을 copy하여 df1 이름 붙이기\n",
        "df1 = df.copy()"
      ],
      "execution_count": null,
      "outputs": []
    },
    {
      "cell_type": "code",
      "metadata": {
        "colab": {
          "base_uri": "https://localhost:8080/"
        },
        "id": "k07FVDQsGvxr",
        "outputId": "0b5e65ba-4ce5-4316-d49b-c935f8427e8a"
      },
      "source": [
        "df1['age'].tail()"
      ],
      "execution_count": null,
      "outputs": [
        {
          "output_type": "execute_result",
          "data": {
            "text/plain": [
              "886    27.0\n",
              "887    19.0\n",
              "888     NaN\n",
              "889    26.0\n",
              "890    32.0\n",
              "Name: age, dtype: float64"
            ]
          },
          "metadata": {},
          "execution_count": 28
        }
      ]
    },
    {
      "cell_type": "markdown",
      "metadata": {
        "id": "WJvK1yLrXxoh"
      },
      "source": [
        "888번 index의 **결측치가 700으로 채워**진 것을 확인할 수 있습니다."
      ]
    },
    {
      "cell_type": "code",
      "metadata": {
        "colab": {
          "base_uri": "https://localhost:8080/"
        },
        "id": "zguu1S_GGvxt",
        "outputId": "e3ed7b19-5632-4619-90d0-51b1f0c8eb7b"
      },
      "source": [
        "# df1의 'age' 컬럼의 결측치를 700으로 채우기하여, 마지막 5개 데이터를 출력해 봅니다.\n",
        "df1['age'].fillna(700).tail()"
      ],
      "execution_count": null,
      "outputs": [
        {
          "output_type": "execute_result",
          "data": {
            "text/plain": [
              "886     27.0\n",
              "887     19.0\n",
              "888    700.0\n",
              "889     26.0\n",
              "890     32.0\n",
              "Name: age, dtype: float64"
            ]
          },
          "metadata": {},
          "execution_count": 30
        }
      ]
    },
    {
      "cell_type": "code",
      "metadata": {
        "id": "fHLa54fkGvxv"
      },
      "source": [
        "# df1의 'age' 컬럼을 결측치가 700으로 채워진 내용으로 갱신합니다.\n",
        "df1 = df1['age'].fillna(700)"
      ],
      "execution_count": null,
      "outputs": []
    },
    {
      "cell_type": "code",
      "metadata": {
        "id": "vllYAtG7Xxoi",
        "colab": {
          "base_uri": "https://localhost:8080/"
        },
        "outputId": "8c60668a-d036-463d-91c2-d8742ae25601"
      },
      "source": [
        "df1.tail()"
      ],
      "execution_count": null,
      "outputs": [
        {
          "output_type": "execute_result",
          "data": {
            "text/plain": [
              "886     27.0\n",
              "887     19.0\n",
              "888    700.0\n",
              "889     26.0\n",
              "890     32.0\n",
              "Name: age, dtype: float64"
            ]
          },
          "metadata": {},
          "execution_count": 32
        }
      ]
    },
    {
      "cell_type": "markdown",
      "metadata": {
        "id": "MP3Ab2SqXxoi"
      },
      "source": [
        "**카테고리 형 데이터**을 채워주기 위해서는 다음과 같은 과정을 거쳐야 합니다."
      ]
    },
    {
      "cell_type": "code",
      "metadata": {
        "colab": {
          "base_uri": "https://localhost:8080/"
        },
        "id": "CJ6o_xyZiRWU",
        "outputId": "f17d195f-1089-4828-c775-1aed54bd9f21"
      },
      "source": [
        "df['deck'].head()"
      ],
      "execution_count": null,
      "outputs": [
        {
          "output_type": "execute_result",
          "data": {
            "text/plain": [
              "0    NaN\n",
              "1      C\n",
              "2    NaN\n",
              "3      C\n",
              "4    NaN\n",
              "Name: deck, dtype: category\n",
              "Categories (7, object): ['A', 'B', 'C', 'D', 'E', 'F', 'G']"
            ]
          },
          "metadata": {},
          "execution_count": 35
        }
      ]
    },
    {
      "cell_type": "markdown",
      "metadata": {
        "id": "uS8fMIQEXxoi"
      },
      "source": [
        "이미 카테고리가 추가된 'A'나 'B'는 바로 fillna() 할 수 있습니다."
      ]
    },
    {
      "cell_type": "code",
      "metadata": {
        "id": "r9mx6vagXxoi",
        "outputId": "287bd42f-c7e3-497e-ca3f-338993f852af"
      },
      "source": [
        "# df1의 'deck' 컬럼의 결측치를 'A'로 채우기합니다.  (갱신은 하지 않음)\n",
        "df1['deck'].fillna('A')"
      ],
      "execution_count": null,
      "outputs": [
        {
          "data": {
            "text/plain": [
              "0      A\n",
              "1      C\n",
              "2      A\n",
              "3      C\n",
              "4      A\n",
              "      ..\n",
              "886    A\n",
              "887    B\n",
              "888    A\n",
              "889    C\n",
              "890    A\n",
              "Name: deck, Length: 891, dtype: category\n",
              "Categories (7, object): ['A', 'B', 'C', 'D', 'E', 'F', 'G']"
            ]
          },
          "execution_count": 9,
          "metadata": {},
          "output_type": "execute_result"
        }
      ]
    },
    {
      "cell_type": "markdown",
      "metadata": {
        "id": "qRBmpn-OXxoi"
      },
      "source": [
        "하지만, 없는 카테고리로 채워주고자 할 때는 먼저 `cat.add_categories`로 카테고리를 추가한 후 채워야 합니다."
      ]
    },
    {
      "cell_type": "code",
      "metadata": {
        "id": "H8qAOKh3Xxoi",
        "colab": {
          "base_uri": "https://localhost:8080/"
        },
        "outputId": "c69df90e-f121-4e78-ff7e-ffdf9853fd79"
      },
      "source": [
        "# cat은 category의 지정자\n",
        "# add_categories (카테고리 추가)\n",
        "# df1의 'deck'의 cat.add_categories()를 사용하여 'No Data'라는 카테고리를 추가하고\n",
        "# 결측치를 'No Data'로 채우기 합니다.\n",
        "df1['deck'].cat.add_categories('No Data').fillna('No Data')"
      ],
      "execution_count": null,
      "outputs": [
        {
          "output_type": "execute_result",
          "data": {
            "text/plain": [
              "0      No Data\n",
              "1            C\n",
              "2      No Data\n",
              "3            C\n",
              "4      No Data\n",
              "        ...   \n",
              "886    No Data\n",
              "887          B\n",
              "888    No Data\n",
              "889          C\n",
              "890    No Data\n",
              "Name: deck, Length: 891, dtype: category\n",
              "Categories (8, object): ['A', 'B', 'C', 'D', 'E', 'F', 'G', 'No Data']"
            ]
          },
          "metadata": {},
          "execution_count": 37
        }
      ]
    },
    {
      "cell_type": "markdown",
      "metadata": {
        "id": "-nRHlVZnGvxy"
      },
      "source": [
        "## 통계값으로 채우기"
      ]
    },
    {
      "cell_type": "code",
      "metadata": {
        "id": "VDCg6PEiGvxy"
      },
      "source": [
        "df1 = df.copy()"
      ],
      "execution_count": null,
      "outputs": []
    },
    {
      "cell_type": "code",
      "metadata": {
        "id": "RO2Wb_GTXxoj",
        "colab": {
          "base_uri": "https://localhost:8080/"
        },
        "outputId": "7a3ad810-8d8d-46b5-de03-4641aa1c31df"
      },
      "source": [
        "df1['age'].tail()"
      ],
      "execution_count": null,
      "outputs": [
        {
          "output_type": "execute_result",
          "data": {
            "text/plain": [
              "886    27.0\n",
              "887    19.0\n",
              "888     NaN\n",
              "889    26.0\n",
              "890    32.0\n",
              "Name: age, dtype: float64"
            ]
          },
          "metadata": {},
          "execution_count": 39
        }
      ]
    },
    {
      "cell_type": "markdown",
      "metadata": {
        "id": "VkgtB1OxXxoj"
      },
      "source": [
        "### 평균으로 채우기"
      ]
    },
    {
      "cell_type": "code",
      "metadata": {
        "colab": {
          "base_uri": "https://localhost:8080/"
        },
        "id": "4qbCsucrGvx1",
        "outputId": "1b5d4f7d-aae0-42de-c062-7b5eb84cf1fb"
      },
      "source": [
        "# df1의 'age'의 결측치를 df1의 'age' 평균값으로 채우기 하고, 마지막 5개의 데이터를 확인합니다.\n",
        "df1['age'].fillna(df1['age'].mean()).tail()"
      ],
      "execution_count": null,
      "outputs": [
        {
          "output_type": "execute_result",
          "data": {
            "text/plain": [
              "886    27.000000\n",
              "887    19.000000\n",
              "888    29.699118\n",
              "889    26.000000\n",
              "890    32.000000\n",
              "Name: age, dtype: float64"
            ]
          },
          "metadata": {},
          "execution_count": 41
        }
      ]
    },
    {
      "cell_type": "code",
      "metadata": {
        "colab": {
          "base_uri": "https://localhost:8080/"
        },
        "id": "PFFl6S5toZk5",
        "outputId": "1b93b9f0-7a3b-4e37-8deb-49e3ff1ae7c7"
      },
      "source": [
        "df1.groupby('who')['age'].mean()"
      ],
      "execution_count": null,
      "outputs": [
        {
          "output_type": "execute_result",
          "data": {
            "text/plain": [
              "who\n",
              "child     6.369518\n",
              "man      33.173123\n",
              "woman    32.000000\n",
              "Name: age, dtype: float64"
            ]
          },
          "metadata": {},
          "execution_count": 44
        }
      ]
    },
    {
      "cell_type": "code",
      "metadata": {
        "colab": {
          "base_uri": "https://localhost:8080/"
        },
        "id": "NfQxUfhNnocy",
        "outputId": "2a7d60d3-501f-4331-bba8-e8f1cddce064"
      },
      "source": [
        "# who 별로 age 평균을 내고 그 평균값을 결측치로 채움\n",
        "df1['age_mean'] = df1.groupby('who')['age'].transform('mean')\n",
        "df1[['age', 'who', 'age_mean']]\n",
        "df1['age'].where(df1['age'].notnull(), df1['age_mean'])"
      ],
      "execution_count": null,
      "outputs": [
        {
          "output_type": "execute_result",
          "data": {
            "text/plain": [
              "0      22.0\n",
              "1      38.0\n",
              "2      26.0\n",
              "3      35.0\n",
              "4      35.0\n",
              "       ... \n",
              "886    27.0\n",
              "887    19.0\n",
              "888    32.0\n",
              "889    26.0\n",
              "890    32.0\n",
              "Name: age, Length: 891, dtype: float64"
            ]
          },
          "metadata": {},
          "execution_count": 43
        }
      ]
    },
    {
      "cell_type": "markdown",
      "metadata": {
        "id": "b-T9lh8NXxoj"
      },
      "source": [
        "### 중앙값으로 채우기"
      ]
    },
    {
      "cell_type": "code",
      "metadata": {
        "id": "B-m2H4yaGvx3",
        "colab": {
          "base_uri": "https://localhost:8080/"
        },
        "outputId": "f57fd4f6-85f3-4330-9ee4-be013042c595"
      },
      "source": [
        "# df1의 'age'의 결측치를 df1의 'age' 중앙값으로 채우기 하고, 마지막 5개의 데이터를 확인합니다.\n",
        "df1['age'].fillna(df1['age'].median()).tail()"
      ],
      "execution_count": null,
      "outputs": [
        {
          "output_type": "execute_result",
          "data": {
            "text/plain": [
              "886    27.0\n",
              "887    19.0\n",
              "888    28.0\n",
              "889    26.0\n",
              "890    32.0\n",
              "Name: age, dtype: float64"
            ]
          },
          "metadata": {},
          "execution_count": 42
        }
      ]
    },
    {
      "cell_type": "markdown",
      "metadata": {
        "id": "6JtUDQ0pXxoj"
      },
      "source": [
        "### 최빈값으로 채우기"
      ]
    },
    {
      "cell_type": "code",
      "metadata": {
        "id": "Epnunh5oXxoj",
        "colab": {
          "base_uri": "https://localhost:8080/"
        },
        "outputId": "ca45ba12-d31f-4637-afb3-025172b582e2"
      },
      "source": [
        "# df1의 'deck'에 대한 최빈값을 구해 봅니다.  (mode() 메서드 사용)\n",
        "df1['deck'].mode()"
      ],
      "execution_count": null,
      "outputs": [
        {
          "output_type": "execute_result",
          "data": {
            "text/plain": [
              "0    C\n",
              "Name: deck, dtype: category\n",
              "Categories (7, object): ['A', 'B', 'C', 'D', 'E', 'F', 'G']"
            ]
          },
          "metadata": {},
          "execution_count": 45
        }
      ]
    },
    {
      "cell_type": "markdown",
      "metadata": {
        "id": "hQV1pQR-Xxoj"
      },
      "source": [
        "**최빈값(mode)**으로 채울 때에는 반드시 **0번째 index 지정**하여 값을 추출한 후 채워야 합니다."
      ]
    },
    {
      "cell_type": "code",
      "metadata": {
        "id": "cxtQ41IZXxok",
        "colab": {
          "base_uri": "https://localhost:8080/",
          "height": 35
        },
        "outputId": "d16ef94d-1f05-4bd5-8b4f-02bdb5dc562a"
      },
      "source": [
        "# 최빈값에서 가장 처음에 있는 값을 출력해 봅니다. (indexing 사용)\n",
        "df1['deck'].mode()[0]"
      ],
      "execution_count": null,
      "outputs": [
        {
          "output_type": "execute_result",
          "data": {
            "application/vnd.google.colaboratory.intrinsic+json": {
              "type": "string"
            },
            "text/plain": [
              "'C'"
            ]
          },
          "metadata": {},
          "execution_count": 46
        }
      ]
    },
    {
      "cell_type": "code",
      "metadata": {
        "colab": {
          "base_uri": "https://localhost:8080/"
        },
        "id": "323op2NZGvx4",
        "outputId": "e5be62e8-29fd-4313-c7fa-f709cbfbdd89"
      },
      "source": [
        "# df1의 'deck'에 대해서 결측치를 최빈값으로 채우기하고, 마지막 5개의 데이터를 출력해 봅니다.\n",
        "df1['deck'].fillna(df1['deck'].mode()[0]).tail()"
      ],
      "execution_count": null,
      "outputs": [
        {
          "output_type": "execute_result",
          "data": {
            "text/plain": [
              "886    C\n",
              "887    B\n",
              "888    C\n",
              "889    C\n",
              "890    C\n",
              "Name: deck, dtype: category\n",
              "Categories (7, object): ['A', 'B', 'C', 'D', 'E', 'F', 'G']"
            ]
          },
          "metadata": {},
          "execution_count": 47
        }
      ]
    },
    {
      "cell_type": "markdown",
      "metadata": {
        "id": "oxJPuzIAGvx6"
      },
      "source": [
        "## NaN 값이 있는 데이터 제거하기 (dropna)"
      ]
    },
    {
      "cell_type": "code",
      "metadata": {
        "id": "JBwCjiIoGvx7"
      },
      "source": [
        "df1 = df.copy()"
      ],
      "execution_count": null,
      "outputs": []
    },
    {
      "cell_type": "code",
      "metadata": {
        "colab": {
          "base_uri": "https://localhost:8080/",
          "height": 224
        },
        "id": "9eZJpkY9Gvx8",
        "outputId": "841a6785-64cf-4569-b1f6-6788420c37e2"
      },
      "source": [
        "df1.tail()"
      ],
      "execution_count": null,
      "outputs": [
        {
          "output_type": "execute_result",
          "data": {
            "text/html": [
              "<div>\n",
              "<style scoped>\n",
              "    .dataframe tbody tr th:only-of-type {\n",
              "        vertical-align: middle;\n",
              "    }\n",
              "\n",
              "    .dataframe tbody tr th {\n",
              "        vertical-align: top;\n",
              "    }\n",
              "\n",
              "    .dataframe thead th {\n",
              "        text-align: right;\n",
              "    }\n",
              "</style>\n",
              "<table border=\"1\" class=\"dataframe\">\n",
              "  <thead>\n",
              "    <tr style=\"text-align: right;\">\n",
              "      <th></th>\n",
              "      <th>survived</th>\n",
              "      <th>pclass</th>\n",
              "      <th>sex</th>\n",
              "      <th>age</th>\n",
              "      <th>sibsp</th>\n",
              "      <th>parch</th>\n",
              "      <th>fare</th>\n",
              "      <th>embarked</th>\n",
              "      <th>class</th>\n",
              "      <th>who</th>\n",
              "      <th>adult_male</th>\n",
              "      <th>deck</th>\n",
              "      <th>embark_town</th>\n",
              "      <th>alive</th>\n",
              "      <th>alone</th>\n",
              "    </tr>\n",
              "  </thead>\n",
              "  <tbody>\n",
              "    <tr>\n",
              "      <th>886</th>\n",
              "      <td>0</td>\n",
              "      <td>2</td>\n",
              "      <td>male</td>\n",
              "      <td>27.0</td>\n",
              "      <td>0</td>\n",
              "      <td>0</td>\n",
              "      <td>13.00</td>\n",
              "      <td>S</td>\n",
              "      <td>Second</td>\n",
              "      <td>man</td>\n",
              "      <td>True</td>\n",
              "      <td>NaN</td>\n",
              "      <td>Southampton</td>\n",
              "      <td>no</td>\n",
              "      <td>True</td>\n",
              "    </tr>\n",
              "    <tr>\n",
              "      <th>887</th>\n",
              "      <td>1</td>\n",
              "      <td>1</td>\n",
              "      <td>female</td>\n",
              "      <td>19.0</td>\n",
              "      <td>0</td>\n",
              "      <td>0</td>\n",
              "      <td>30.00</td>\n",
              "      <td>S</td>\n",
              "      <td>First</td>\n",
              "      <td>woman</td>\n",
              "      <td>False</td>\n",
              "      <td>B</td>\n",
              "      <td>Southampton</td>\n",
              "      <td>yes</td>\n",
              "      <td>True</td>\n",
              "    </tr>\n",
              "    <tr>\n",
              "      <th>888</th>\n",
              "      <td>0</td>\n",
              "      <td>3</td>\n",
              "      <td>female</td>\n",
              "      <td>NaN</td>\n",
              "      <td>1</td>\n",
              "      <td>2</td>\n",
              "      <td>23.45</td>\n",
              "      <td>S</td>\n",
              "      <td>Third</td>\n",
              "      <td>woman</td>\n",
              "      <td>False</td>\n",
              "      <td>NaN</td>\n",
              "      <td>Southampton</td>\n",
              "      <td>no</td>\n",
              "      <td>False</td>\n",
              "    </tr>\n",
              "    <tr>\n",
              "      <th>889</th>\n",
              "      <td>1</td>\n",
              "      <td>1</td>\n",
              "      <td>male</td>\n",
              "      <td>26.0</td>\n",
              "      <td>0</td>\n",
              "      <td>0</td>\n",
              "      <td>30.00</td>\n",
              "      <td>C</td>\n",
              "      <td>First</td>\n",
              "      <td>man</td>\n",
              "      <td>True</td>\n",
              "      <td>C</td>\n",
              "      <td>Cherbourg</td>\n",
              "      <td>yes</td>\n",
              "      <td>True</td>\n",
              "    </tr>\n",
              "    <tr>\n",
              "      <th>890</th>\n",
              "      <td>0</td>\n",
              "      <td>3</td>\n",
              "      <td>male</td>\n",
              "      <td>32.0</td>\n",
              "      <td>0</td>\n",
              "      <td>0</td>\n",
              "      <td>7.75</td>\n",
              "      <td>Q</td>\n",
              "      <td>Third</td>\n",
              "      <td>man</td>\n",
              "      <td>True</td>\n",
              "      <td>NaN</td>\n",
              "      <td>Queenstown</td>\n",
              "      <td>no</td>\n",
              "      <td>True</td>\n",
              "    </tr>\n",
              "  </tbody>\n",
              "</table>\n",
              "</div>"
            ],
            "text/plain": [
              "     survived  pclass     sex   age  ...  deck  embark_town  alive  alone\n",
              "886         0       2    male  27.0  ...   NaN  Southampton     no   True\n",
              "887         1       1  female  19.0  ...     B  Southampton    yes   True\n",
              "888         0       3  female   NaN  ...   NaN  Southampton     no  False\n",
              "889         1       1    male  26.0  ...     C    Cherbourg    yes   True\n",
              "890         0       3    male  32.0  ...   NaN   Queenstown     no   True\n",
              "\n",
              "[5 rows x 15 columns]"
            ]
          },
          "metadata": {},
          "execution_count": 49
        }
      ]
    },
    {
      "cell_type": "markdown",
      "metadata": {
        "id": "nI4NRrm6Xxok"
      },
      "source": [
        "`dropna()`로 **1개 라도 NaN 값이 있는 행**은 제거할 수 있스빈다. (`how='any'`)"
      ]
    },
    {
      "cell_type": "code",
      "metadata": {
        "id": "KwuE5iPIXxok",
        "colab": {
          "base_uri": "https://localhost:8080/",
          "height": 439
        },
        "outputId": "d2bd6328-7659-495d-a536-d1c590eb6253"
      },
      "source": [
        "# df1에서 1개 라도 NaN 값이 있는 행을 제거합니다.\n",
        "df1.dropna(how='any')"
      ],
      "execution_count": null,
      "outputs": [
        {
          "output_type": "execute_result",
          "data": {
            "text/html": [
              "<div>\n",
              "<style scoped>\n",
              "    .dataframe tbody tr th:only-of-type {\n",
              "        vertical-align: middle;\n",
              "    }\n",
              "\n",
              "    .dataframe tbody tr th {\n",
              "        vertical-align: top;\n",
              "    }\n",
              "\n",
              "    .dataframe thead th {\n",
              "        text-align: right;\n",
              "    }\n",
              "</style>\n",
              "<table border=\"1\" class=\"dataframe\">\n",
              "  <thead>\n",
              "    <tr style=\"text-align: right;\">\n",
              "      <th></th>\n",
              "      <th>survived</th>\n",
              "      <th>pclass</th>\n",
              "      <th>sex</th>\n",
              "      <th>age</th>\n",
              "      <th>sibsp</th>\n",
              "      <th>parch</th>\n",
              "      <th>fare</th>\n",
              "      <th>embarked</th>\n",
              "      <th>class</th>\n",
              "      <th>who</th>\n",
              "      <th>adult_male</th>\n",
              "      <th>deck</th>\n",
              "      <th>embark_town</th>\n",
              "      <th>alive</th>\n",
              "      <th>alone</th>\n",
              "    </tr>\n",
              "  </thead>\n",
              "  <tbody>\n",
              "    <tr>\n",
              "      <th>1</th>\n",
              "      <td>1</td>\n",
              "      <td>1</td>\n",
              "      <td>female</td>\n",
              "      <td>38.0</td>\n",
              "      <td>1</td>\n",
              "      <td>0</td>\n",
              "      <td>71.2833</td>\n",
              "      <td>C</td>\n",
              "      <td>First</td>\n",
              "      <td>woman</td>\n",
              "      <td>False</td>\n",
              "      <td>C</td>\n",
              "      <td>Cherbourg</td>\n",
              "      <td>yes</td>\n",
              "      <td>False</td>\n",
              "    </tr>\n",
              "    <tr>\n",
              "      <th>3</th>\n",
              "      <td>1</td>\n",
              "      <td>1</td>\n",
              "      <td>female</td>\n",
              "      <td>35.0</td>\n",
              "      <td>1</td>\n",
              "      <td>0</td>\n",
              "      <td>53.1000</td>\n",
              "      <td>S</td>\n",
              "      <td>First</td>\n",
              "      <td>woman</td>\n",
              "      <td>False</td>\n",
              "      <td>C</td>\n",
              "      <td>Southampton</td>\n",
              "      <td>yes</td>\n",
              "      <td>False</td>\n",
              "    </tr>\n",
              "    <tr>\n",
              "      <th>6</th>\n",
              "      <td>0</td>\n",
              "      <td>1</td>\n",
              "      <td>male</td>\n",
              "      <td>54.0</td>\n",
              "      <td>0</td>\n",
              "      <td>0</td>\n",
              "      <td>51.8625</td>\n",
              "      <td>S</td>\n",
              "      <td>First</td>\n",
              "      <td>man</td>\n",
              "      <td>True</td>\n",
              "      <td>E</td>\n",
              "      <td>Southampton</td>\n",
              "      <td>no</td>\n",
              "      <td>True</td>\n",
              "    </tr>\n",
              "    <tr>\n",
              "      <th>10</th>\n",
              "      <td>1</td>\n",
              "      <td>3</td>\n",
              "      <td>female</td>\n",
              "      <td>4.0</td>\n",
              "      <td>1</td>\n",
              "      <td>1</td>\n",
              "      <td>16.7000</td>\n",
              "      <td>S</td>\n",
              "      <td>Third</td>\n",
              "      <td>child</td>\n",
              "      <td>False</td>\n",
              "      <td>G</td>\n",
              "      <td>Southampton</td>\n",
              "      <td>yes</td>\n",
              "      <td>False</td>\n",
              "    </tr>\n",
              "    <tr>\n",
              "      <th>11</th>\n",
              "      <td>1</td>\n",
              "      <td>1</td>\n",
              "      <td>female</td>\n",
              "      <td>58.0</td>\n",
              "      <td>0</td>\n",
              "      <td>0</td>\n",
              "      <td>26.5500</td>\n",
              "      <td>S</td>\n",
              "      <td>First</td>\n",
              "      <td>woman</td>\n",
              "      <td>False</td>\n",
              "      <td>C</td>\n",
              "      <td>Southampton</td>\n",
              "      <td>yes</td>\n",
              "      <td>True</td>\n",
              "    </tr>\n",
              "    <tr>\n",
              "      <th>...</th>\n",
              "      <td>...</td>\n",
              "      <td>...</td>\n",
              "      <td>...</td>\n",
              "      <td>...</td>\n",
              "      <td>...</td>\n",
              "      <td>...</td>\n",
              "      <td>...</td>\n",
              "      <td>...</td>\n",
              "      <td>...</td>\n",
              "      <td>...</td>\n",
              "      <td>...</td>\n",
              "      <td>...</td>\n",
              "      <td>...</td>\n",
              "      <td>...</td>\n",
              "      <td>...</td>\n",
              "    </tr>\n",
              "    <tr>\n",
              "      <th>871</th>\n",
              "      <td>1</td>\n",
              "      <td>1</td>\n",
              "      <td>female</td>\n",
              "      <td>47.0</td>\n",
              "      <td>1</td>\n",
              "      <td>1</td>\n",
              "      <td>52.5542</td>\n",
              "      <td>S</td>\n",
              "      <td>First</td>\n",
              "      <td>woman</td>\n",
              "      <td>False</td>\n",
              "      <td>D</td>\n",
              "      <td>Southampton</td>\n",
              "      <td>yes</td>\n",
              "      <td>False</td>\n",
              "    </tr>\n",
              "    <tr>\n",
              "      <th>872</th>\n",
              "      <td>0</td>\n",
              "      <td>1</td>\n",
              "      <td>male</td>\n",
              "      <td>33.0</td>\n",
              "      <td>0</td>\n",
              "      <td>0</td>\n",
              "      <td>5.0000</td>\n",
              "      <td>S</td>\n",
              "      <td>First</td>\n",
              "      <td>man</td>\n",
              "      <td>True</td>\n",
              "      <td>B</td>\n",
              "      <td>Southampton</td>\n",
              "      <td>no</td>\n",
              "      <td>True</td>\n",
              "    </tr>\n",
              "    <tr>\n",
              "      <th>879</th>\n",
              "      <td>1</td>\n",
              "      <td>1</td>\n",
              "      <td>female</td>\n",
              "      <td>56.0</td>\n",
              "      <td>0</td>\n",
              "      <td>1</td>\n",
              "      <td>83.1583</td>\n",
              "      <td>C</td>\n",
              "      <td>First</td>\n",
              "      <td>woman</td>\n",
              "      <td>False</td>\n",
              "      <td>C</td>\n",
              "      <td>Cherbourg</td>\n",
              "      <td>yes</td>\n",
              "      <td>False</td>\n",
              "    </tr>\n",
              "    <tr>\n",
              "      <th>887</th>\n",
              "      <td>1</td>\n",
              "      <td>1</td>\n",
              "      <td>female</td>\n",
              "      <td>19.0</td>\n",
              "      <td>0</td>\n",
              "      <td>0</td>\n",
              "      <td>30.0000</td>\n",
              "      <td>S</td>\n",
              "      <td>First</td>\n",
              "      <td>woman</td>\n",
              "      <td>False</td>\n",
              "      <td>B</td>\n",
              "      <td>Southampton</td>\n",
              "      <td>yes</td>\n",
              "      <td>True</td>\n",
              "    </tr>\n",
              "    <tr>\n",
              "      <th>889</th>\n",
              "      <td>1</td>\n",
              "      <td>1</td>\n",
              "      <td>male</td>\n",
              "      <td>26.0</td>\n",
              "      <td>0</td>\n",
              "      <td>0</td>\n",
              "      <td>30.0000</td>\n",
              "      <td>C</td>\n",
              "      <td>First</td>\n",
              "      <td>man</td>\n",
              "      <td>True</td>\n",
              "      <td>C</td>\n",
              "      <td>Cherbourg</td>\n",
              "      <td>yes</td>\n",
              "      <td>True</td>\n",
              "    </tr>\n",
              "  </tbody>\n",
              "</table>\n",
              "<p>182 rows × 15 columns</p>\n",
              "</div>"
            ],
            "text/plain": [
              "     survived  pclass     sex   age  ...  deck  embark_town  alive  alone\n",
              "1           1       1  female  38.0  ...     C    Cherbourg    yes  False\n",
              "3           1       1  female  35.0  ...     C  Southampton    yes  False\n",
              "6           0       1    male  54.0  ...     E  Southampton     no   True\n",
              "10          1       3  female   4.0  ...     G  Southampton    yes  False\n",
              "11          1       1  female  58.0  ...     C  Southampton    yes   True\n",
              "..        ...     ...     ...   ...  ...   ...          ...    ...    ...\n",
              "871         1       1  female  47.0  ...     D  Southampton    yes  False\n",
              "872         0       1    male  33.0  ...     B  Southampton     no   True\n",
              "879         1       1  female  56.0  ...     C    Cherbourg    yes  False\n",
              "887         1       1  female  19.0  ...     B  Southampton    yes   True\n",
              "889         1       1    male  26.0  ...     C    Cherbourg    yes   True\n",
              "\n",
              "[182 rows x 15 columns]"
            ]
          },
          "metadata": {},
          "execution_count": 50
        }
      ]
    },
    {
      "cell_type": "markdown",
      "metadata": {
        "id": "KwhXR1dRGvx-"
      },
      "source": [
        "기본 옵션 값은 `how=any`로 설정되어 있으며, 다음과 같이 변경할 수 있습니다.\n",
        "\n",
        "- **any**: 1개 라도 NaN값이 존재시 drop\n",
        "- **all**: 모두 NaN값이 존재시 drop"
      ]
    },
    {
      "cell_type": "code",
      "metadata": {
        "colab": {
          "base_uri": "https://localhost:8080/",
          "height": 439
        },
        "id": "4LmCs-csGvx_",
        "scrolled": false,
        "outputId": "f121d813-05aa-4f8f-c9c8-05a819c5cf83"
      },
      "source": [
        "# df1에서 모든 값이 결측치인 행을 제거합니다. (how='all' 사용)\n",
        "df1.dropna(how='all')"
      ],
      "execution_count": null,
      "outputs": [
        {
          "output_type": "execute_result",
          "data": {
            "text/html": [
              "<div>\n",
              "<style scoped>\n",
              "    .dataframe tbody tr th:only-of-type {\n",
              "        vertical-align: middle;\n",
              "    }\n",
              "\n",
              "    .dataframe tbody tr th {\n",
              "        vertical-align: top;\n",
              "    }\n",
              "\n",
              "    .dataframe thead th {\n",
              "        text-align: right;\n",
              "    }\n",
              "</style>\n",
              "<table border=\"1\" class=\"dataframe\">\n",
              "  <thead>\n",
              "    <tr style=\"text-align: right;\">\n",
              "      <th></th>\n",
              "      <th>survived</th>\n",
              "      <th>pclass</th>\n",
              "      <th>sex</th>\n",
              "      <th>age</th>\n",
              "      <th>sibsp</th>\n",
              "      <th>parch</th>\n",
              "      <th>fare</th>\n",
              "      <th>embarked</th>\n",
              "      <th>class</th>\n",
              "      <th>who</th>\n",
              "      <th>adult_male</th>\n",
              "      <th>deck</th>\n",
              "      <th>embark_town</th>\n",
              "      <th>alive</th>\n",
              "      <th>alone</th>\n",
              "    </tr>\n",
              "  </thead>\n",
              "  <tbody>\n",
              "    <tr>\n",
              "      <th>0</th>\n",
              "      <td>0</td>\n",
              "      <td>3</td>\n",
              "      <td>male</td>\n",
              "      <td>22.0</td>\n",
              "      <td>1</td>\n",
              "      <td>0</td>\n",
              "      <td>7.2500</td>\n",
              "      <td>S</td>\n",
              "      <td>Third</td>\n",
              "      <td>man</td>\n",
              "      <td>True</td>\n",
              "      <td>NaN</td>\n",
              "      <td>Southampton</td>\n",
              "      <td>no</td>\n",
              "      <td>False</td>\n",
              "    </tr>\n",
              "    <tr>\n",
              "      <th>1</th>\n",
              "      <td>1</td>\n",
              "      <td>1</td>\n",
              "      <td>female</td>\n",
              "      <td>38.0</td>\n",
              "      <td>1</td>\n",
              "      <td>0</td>\n",
              "      <td>71.2833</td>\n",
              "      <td>C</td>\n",
              "      <td>First</td>\n",
              "      <td>woman</td>\n",
              "      <td>False</td>\n",
              "      <td>C</td>\n",
              "      <td>Cherbourg</td>\n",
              "      <td>yes</td>\n",
              "      <td>False</td>\n",
              "    </tr>\n",
              "    <tr>\n",
              "      <th>2</th>\n",
              "      <td>1</td>\n",
              "      <td>3</td>\n",
              "      <td>female</td>\n",
              "      <td>26.0</td>\n",
              "      <td>0</td>\n",
              "      <td>0</td>\n",
              "      <td>7.9250</td>\n",
              "      <td>S</td>\n",
              "      <td>Third</td>\n",
              "      <td>woman</td>\n",
              "      <td>False</td>\n",
              "      <td>NaN</td>\n",
              "      <td>Southampton</td>\n",
              "      <td>yes</td>\n",
              "      <td>True</td>\n",
              "    </tr>\n",
              "    <tr>\n",
              "      <th>3</th>\n",
              "      <td>1</td>\n",
              "      <td>1</td>\n",
              "      <td>female</td>\n",
              "      <td>35.0</td>\n",
              "      <td>1</td>\n",
              "      <td>0</td>\n",
              "      <td>53.1000</td>\n",
              "      <td>S</td>\n",
              "      <td>First</td>\n",
              "      <td>woman</td>\n",
              "      <td>False</td>\n",
              "      <td>C</td>\n",
              "      <td>Southampton</td>\n",
              "      <td>yes</td>\n",
              "      <td>False</td>\n",
              "    </tr>\n",
              "    <tr>\n",
              "      <th>4</th>\n",
              "      <td>0</td>\n",
              "      <td>3</td>\n",
              "      <td>male</td>\n",
              "      <td>35.0</td>\n",
              "      <td>0</td>\n",
              "      <td>0</td>\n",
              "      <td>8.0500</td>\n",
              "      <td>S</td>\n",
              "      <td>Third</td>\n",
              "      <td>man</td>\n",
              "      <td>True</td>\n",
              "      <td>NaN</td>\n",
              "      <td>Southampton</td>\n",
              "      <td>no</td>\n",
              "      <td>True</td>\n",
              "    </tr>\n",
              "    <tr>\n",
              "      <th>...</th>\n",
              "      <td>...</td>\n",
              "      <td>...</td>\n",
              "      <td>...</td>\n",
              "      <td>...</td>\n",
              "      <td>...</td>\n",
              "      <td>...</td>\n",
              "      <td>...</td>\n",
              "      <td>...</td>\n",
              "      <td>...</td>\n",
              "      <td>...</td>\n",
              "      <td>...</td>\n",
              "      <td>...</td>\n",
              "      <td>...</td>\n",
              "      <td>...</td>\n",
              "      <td>...</td>\n",
              "    </tr>\n",
              "    <tr>\n",
              "      <th>886</th>\n",
              "      <td>0</td>\n",
              "      <td>2</td>\n",
              "      <td>male</td>\n",
              "      <td>27.0</td>\n",
              "      <td>0</td>\n",
              "      <td>0</td>\n",
              "      <td>13.0000</td>\n",
              "      <td>S</td>\n",
              "      <td>Second</td>\n",
              "      <td>man</td>\n",
              "      <td>True</td>\n",
              "      <td>NaN</td>\n",
              "      <td>Southampton</td>\n",
              "      <td>no</td>\n",
              "      <td>True</td>\n",
              "    </tr>\n",
              "    <tr>\n",
              "      <th>887</th>\n",
              "      <td>1</td>\n",
              "      <td>1</td>\n",
              "      <td>female</td>\n",
              "      <td>19.0</td>\n",
              "      <td>0</td>\n",
              "      <td>0</td>\n",
              "      <td>30.0000</td>\n",
              "      <td>S</td>\n",
              "      <td>First</td>\n",
              "      <td>woman</td>\n",
              "      <td>False</td>\n",
              "      <td>B</td>\n",
              "      <td>Southampton</td>\n",
              "      <td>yes</td>\n",
              "      <td>True</td>\n",
              "    </tr>\n",
              "    <tr>\n",
              "      <th>888</th>\n",
              "      <td>0</td>\n",
              "      <td>3</td>\n",
              "      <td>female</td>\n",
              "      <td>NaN</td>\n",
              "      <td>1</td>\n",
              "      <td>2</td>\n",
              "      <td>23.4500</td>\n",
              "      <td>S</td>\n",
              "      <td>Third</td>\n",
              "      <td>woman</td>\n",
              "      <td>False</td>\n",
              "      <td>NaN</td>\n",
              "      <td>Southampton</td>\n",
              "      <td>no</td>\n",
              "      <td>False</td>\n",
              "    </tr>\n",
              "    <tr>\n",
              "      <th>889</th>\n",
              "      <td>1</td>\n",
              "      <td>1</td>\n",
              "      <td>male</td>\n",
              "      <td>26.0</td>\n",
              "      <td>0</td>\n",
              "      <td>0</td>\n",
              "      <td>30.0000</td>\n",
              "      <td>C</td>\n",
              "      <td>First</td>\n",
              "      <td>man</td>\n",
              "      <td>True</td>\n",
              "      <td>C</td>\n",
              "      <td>Cherbourg</td>\n",
              "      <td>yes</td>\n",
              "      <td>True</td>\n",
              "    </tr>\n",
              "    <tr>\n",
              "      <th>890</th>\n",
              "      <td>0</td>\n",
              "      <td>3</td>\n",
              "      <td>male</td>\n",
              "      <td>32.0</td>\n",
              "      <td>0</td>\n",
              "      <td>0</td>\n",
              "      <td>7.7500</td>\n",
              "      <td>Q</td>\n",
              "      <td>Third</td>\n",
              "      <td>man</td>\n",
              "      <td>True</td>\n",
              "      <td>NaN</td>\n",
              "      <td>Queenstown</td>\n",
              "      <td>no</td>\n",
              "      <td>True</td>\n",
              "    </tr>\n",
              "  </tbody>\n",
              "</table>\n",
              "<p>891 rows × 15 columns</p>\n",
              "</div>"
            ],
            "text/plain": [
              "     survived  pclass     sex   age  ...  deck  embark_town  alive  alone\n",
              "0           0       3    male  22.0  ...   NaN  Southampton     no  False\n",
              "1           1       1  female  38.0  ...     C    Cherbourg    yes  False\n",
              "2           1       3  female  26.0  ...   NaN  Southampton    yes   True\n",
              "3           1       1  female  35.0  ...     C  Southampton    yes  False\n",
              "4           0       3    male  35.0  ...   NaN  Southampton     no   True\n",
              "..        ...     ...     ...   ...  ...   ...          ...    ...    ...\n",
              "886         0       2    male  27.0  ...   NaN  Southampton     no   True\n",
              "887         1       1  female  19.0  ...     B  Southampton    yes   True\n",
              "888         0       3  female   NaN  ...   NaN  Southampton     no  False\n",
              "889         1       1    male  26.0  ...     C    Cherbourg    yes   True\n",
              "890         0       3    male  32.0  ...   NaN   Queenstown     no   True\n",
              "\n",
              "[891 rows x 15 columns]"
            ]
          },
          "metadata": {},
          "execution_count": 51
        }
      ]
    },
    {
      "cell_type": "markdown",
      "metadata": {
        "id": "scSCYIZvXxok"
      },
      "source": [
        "# 연습문제"
      ]
    },
    {
      "cell_type": "markdown",
      "metadata": {
        "id": "IvxfCf9qXxok"
      },
      "source": [
        "data폴더에 있는 mySUNI_1.csv를 읽어 df에 저장하세요."
      ]
    },
    {
      "cell_type": "code",
      "metadata": {
        "id": "27pqP9tOXxol",
        "colab": {
          "base_uri": "https://localhost:8080/"
        },
        "outputId": "ceb014f6-7617-489a-820c-d575f28df877"
      },
      "source": [
        "# 코드를 입력하세요.\n",
        "cds.download_data(['PandasFileIO'])"
      ],
      "execution_count": 4,
      "outputs": [
        {
          "output_type": "stream",
          "text": [
            "파일 다운로드 완료\n",
            "====================\n",
            "\n",
            "데이터셋: PandasFileIO\n",
            "파일경로: data/mySUNI.xlsx\n",
            "\n",
            "====================\n",
            "파일 다운로드 완료\n",
            "====================\n",
            "\n",
            "데이터셋: PandasFileIO\n",
            "파일경로: data/mySUNI_1.csv\n",
            "\n",
            "====================\n",
            "파일 다운로드 완료\n",
            "====================\n",
            "\n",
            "데이터셋: PandasFileIO\n",
            "파일경로: data/mySUNI_2.csv\n",
            "\n",
            "====================\n",
            "파일 다운로드 완료\n",
            "====================\n",
            "\n",
            "데이터셋: PandasFileIO\n",
            "파일경로: data/mySUNI_3.csv\n",
            "\n",
            "====================\n"
          ],
          "name": "stdout"
        }
      ]
    },
    {
      "cell_type": "code",
      "metadata": {
        "colab": {
          "base_uri": "https://localhost:8080/",
          "height": 615
        },
        "id": "KGprCsPIqyIk",
        "outputId": "df6f89f4-a65c-4948-e9bf-ee4d5dabaaac"
      },
      "source": [
        "df = pd.read_csv('data/mySUNI_1.csv')\n",
        "df.head()"
      ],
      "execution_count": 5,
      "outputs": [
        {
          "output_type": "execute_result",
          "data": {
            "text/html": [
              "<div>\n",
              "<style scoped>\n",
              "    .dataframe tbody tr th:only-of-type {\n",
              "        vertical-align: middle;\n",
              "    }\n",
              "\n",
              "    .dataframe tbody tr th {\n",
              "        vertical-align: top;\n",
              "    }\n",
              "\n",
              "    .dataframe thead th {\n",
              "        text-align: right;\n",
              "    }\n",
              "</style>\n",
              "<table border=\"1\" class=\"dataframe\">\n",
              "  <thead>\n",
              "    <tr style=\"text-align: right;\">\n",
              "      <th></th>\n",
              "      <th>지역</th>\n",
              "      <th>GS칼텍스_셀프</th>\n",
              "      <th>GS칼텍스_일반</th>\n",
              "      <th>S-OIL_셀프</th>\n",
              "      <th>S-OIL_일반</th>\n",
              "      <th>SK에너지_셀프</th>\n",
              "      <th>SK에너지_일반</th>\n",
              "      <th>알뜰(ex)_셀프</th>\n",
              "      <th>알뜰주유소_셀프</th>\n",
              "      <th>알뜰주유소_일반</th>\n",
              "      <th>자가상표_셀프</th>\n",
              "      <th>자가상표_일반</th>\n",
              "      <th>현대오일뱅크_셀프</th>\n",
              "      <th>현대오일뱅크_일반</th>\n",
              "    </tr>\n",
              "  </thead>\n",
              "  <tbody>\n",
              "    <tr>\n",
              "      <th>0</th>\n",
              "      <td>서울 강남구</td>\n",
              "      <td>1479.628286</td>\n",
              "      <td>1647.372500</td>\n",
              "      <td>1459.241304</td>\n",
              "      <td>1641.747917</td>\n",
              "      <td>1452.455417</td>\n",
              "      <td>1790.737444</td>\n",
              "      <td>NaN</td>\n",
              "      <td>NaN</td>\n",
              "      <td>NaN</td>\n",
              "      <td>NaN</td>\n",
              "      <td>NaN</td>\n",
              "      <td>1408.822500</td>\n",
              "      <td>1604.995806</td>\n",
              "    </tr>\n",
              "    <tr>\n",
              "      <th>1</th>\n",
              "      <td>서울 강동구</td>\n",
              "      <td>1451.558750</td>\n",
              "      <td>1472.213056</td>\n",
              "      <td>1456.763333</td>\n",
              "      <td>1528.702500</td>\n",
              "      <td>1457.974359</td>\n",
              "      <td>1666.781667</td>\n",
              "      <td>NaN</td>\n",
              "      <td>NaN</td>\n",
              "      <td>NaN</td>\n",
              "      <td>NaN</td>\n",
              "      <td>NaN</td>\n",
              "      <td>1412.656667</td>\n",
              "      <td>1441.861667</td>\n",
              "    </tr>\n",
              "    <tr>\n",
              "      <th>2</th>\n",
              "      <td>서울 강북구</td>\n",
              "      <td>1342.991667</td>\n",
              "      <td>1373.801667</td>\n",
              "      <td>1325.855000</td>\n",
              "      <td>1370.877500</td>\n",
              "      <td>1375.390244</td>\n",
              "      <td>1347.262500</td>\n",
              "      <td>NaN</td>\n",
              "      <td>NaN</td>\n",
              "      <td>NaN</td>\n",
              "      <td>NaN</td>\n",
              "      <td>NaN</td>\n",
              "      <td>1353.985814</td>\n",
              "      <td>NaN</td>\n",
              "    </tr>\n",
              "    <tr>\n",
              "      <th>3</th>\n",
              "      <td>서울 강서구</td>\n",
              "      <td>1403.752500</td>\n",
              "      <td>1429.829167</td>\n",
              "      <td>1420.370833</td>\n",
              "      <td>NaN</td>\n",
              "      <td>1377.233636</td>\n",
              "      <td>1485.694000</td>\n",
              "      <td>NaN</td>\n",
              "      <td>1326.212083</td>\n",
              "      <td>1313.838333</td>\n",
              "      <td>NaN</td>\n",
              "      <td>NaN</td>\n",
              "      <td>1339.844737</td>\n",
              "      <td>1406.236939</td>\n",
              "    </tr>\n",
              "    <tr>\n",
              "      <th>4</th>\n",
              "      <td>서울 관악구</td>\n",
              "      <td>1425.005238</td>\n",
              "      <td>1472.719583</td>\n",
              "      <td>NaN</td>\n",
              "      <td>1435.575417</td>\n",
              "      <td>1439.986667</td>\n",
              "      <td>1466.670278</td>\n",
              "      <td>NaN</td>\n",
              "      <td>1330.837500</td>\n",
              "      <td>1390.558333</td>\n",
              "      <td>NaN</td>\n",
              "      <td>NaN</td>\n",
              "      <td>1420.116250</td>\n",
              "      <td>1453.778750</td>\n",
              "    </tr>\n",
              "  </tbody>\n",
              "</table>\n",
              "</div>"
            ],
            "text/plain": [
              "       지역     GS칼텍스_셀프     GS칼텍스_일반  ...  자가상표_일반    현대오일뱅크_셀프    현대오일뱅크_일반\n",
              "0  서울 강남구  1479.628286  1647.372500  ...      NaN  1408.822500  1604.995806\n",
              "1  서울 강동구  1451.558750  1472.213056  ...      NaN  1412.656667  1441.861667\n",
              "2  서울 강북구  1342.991667  1373.801667  ...      NaN  1353.985814          NaN\n",
              "3  서울 강서구  1403.752500  1429.829167  ...      NaN  1339.844737  1406.236939\n",
              "4  서울 관악구  1425.005238  1472.719583  ...      NaN  1420.116250  1453.778750\n",
              "\n",
              "[5 rows x 14 columns]"
            ]
          },
          "metadata": {},
          "execution_count": 5
        }
      ]
    },
    {
      "cell_type": "markdown",
      "metadata": {
        "id": "g0ayDcGEXxol"
      },
      "source": [
        "각 열별 결측치의 개수를 조회하세요."
      ]
    },
    {
      "cell_type": "code",
      "metadata": {
        "id": "GajCxfl4Xxol",
        "colab": {
          "base_uri": "https://localhost:8080/"
        },
        "outputId": "e4a99a41-2104-42af-a304-c4d40bdd512a"
      },
      "source": [
        "# 코드를 입력하세요.\n",
        "df.isnull().sum()"
      ],
      "execution_count": null,
      "outputs": [
        {
          "output_type": "execute_result",
          "data": {
            "text/plain": [
              "지역            0\n",
              "GS칼텍스_셀프      5\n",
              "GS칼텍스_일반      1\n",
              "S-OIL_셀프      5\n",
              "S-OIL_일반      5\n",
              "SK에너지_셀프      4\n",
              "SK에너지_일반      1\n",
              "알뜰(ex)_셀프    24\n",
              "알뜰주유소_셀프     20\n",
              "알뜰주유소_일반     18\n",
              "자가상표_셀프      24\n",
              "자가상표_일반      23\n",
              "현대오일뱅크_셀프     4\n",
              "현대오일뱅크_일반     1\n",
              "dtype: int64"
            ]
          },
          "metadata": {},
          "execution_count": 77
        }
      ]
    },
    {
      "cell_type": "markdown",
      "metadata": {
        "id": "_VQcrTC1Xxol"
      },
      "source": [
        "각 행별 결측치의 개수를 조회하세요."
      ]
    },
    {
      "cell_type": "code",
      "metadata": {
        "id": "prjc7nyLXxol",
        "colab": {
          "base_uri": "https://localhost:8080/"
        },
        "outputId": "f745c085-a831-493a-dce4-e62315c27e95"
      },
      "source": [
        "# 코드를 입력하세요.\n",
        "df.isnull().sum(1)"
      ],
      "execution_count": null,
      "outputs": [
        {
          "output_type": "execute_result",
          "data": {
            "text/plain": [
              "0      5\n",
              "1      5\n",
              "2      6\n",
              "3      4\n",
              "4      4\n",
              "5      5\n",
              "6      5\n",
              "7      5\n",
              "8      7\n",
              "9      5\n",
              "10     5\n",
              "11     6\n",
              "12     6\n",
              "13     5\n",
              "14     4\n",
              "15     4\n",
              "16     4\n",
              "17     5\n",
              "18     5\n",
              "19     4\n",
              "20    10\n",
              "21     4\n",
              "22     8\n",
              "23     8\n",
              "24     6\n",
              "dtype: int64"
            ]
          },
          "metadata": {},
          "execution_count": 78
        }
      ]
    },
    {
      "cell_type": "markdown",
      "metadata": {
        "id": "OrEdLfgBXxol"
      },
      "source": [
        "전체 NA 개수를 계산하세요."
      ]
    },
    {
      "cell_type": "code",
      "metadata": {
        "id": "nU6Pt_v5Xxol",
        "colab": {
          "base_uri": "https://localhost:8080/"
        },
        "outputId": "941e97de-e269-4e20-f917-51865ce2805a"
      },
      "source": [
        "# 코드를 입력하세요.\n",
        "df.isnull().sum().sum()\n",
        "#df.T.isnull().sum()"
      ],
      "execution_count": null,
      "outputs": [
        {
          "output_type": "execute_result",
          "data": {
            "text/plain": [
              "135"
            ]
          },
          "metadata": {},
          "execution_count": 61
        }
      ]
    },
    {
      "cell_type": "markdown",
      "metadata": {
        "id": "Olf8yKzeXxol"
      },
      "source": [
        "각 열별 결측치의 평균(비율)을 계산하세요."
      ]
    },
    {
      "cell_type": "code",
      "metadata": {
        "id": "8qIdIVQCXxol",
        "colab": {
          "base_uri": "https://localhost:8080/"
        },
        "outputId": "38a29d37-de8c-4346-a887-789b2b0be3f5"
      },
      "source": [
        "# 코드를 입력하세요.\n",
        "df.isna().mean()\n",
        "#df.isnull().sum() / len(df)\n",
        "#df.isnull().sum() / df.shape[0]"
      ],
      "execution_count": null,
      "outputs": [
        {
          "output_type": "execute_result",
          "data": {
            "text/plain": [
              "지역           0.00\n",
              "GS칼텍스_셀프     0.20\n",
              "GS칼텍스_일반     0.04\n",
              "S-OIL_셀프     0.20\n",
              "S-OIL_일반     0.20\n",
              "SK에너지_셀프     0.16\n",
              "SK에너지_일반     0.04\n",
              "알뜰(ex)_셀프    0.96\n",
              "알뜰주유소_셀프     0.80\n",
              "알뜰주유소_일반     0.72\n",
              "자가상표_셀프      0.96\n",
              "자가상표_일반      0.92\n",
              "현대오일뱅크_셀프    0.16\n",
              "현대오일뱅크_일반    0.04\n",
              "dtype: float64"
            ]
          },
          "metadata": {},
          "execution_count": 63
        }
      ]
    },
    {
      "cell_type": "markdown",
      "metadata": {
        "id": "37RI3dawXxol"
      },
      "source": [
        "데이터의 개수가 15개 미만인 컬럼을 제거 후 다시 df 변수에 저장하세요.\n",
        "- 의미 : 결측치 비율이 0.6 이상인 컬럼 제거"
      ]
    },
    {
      "cell_type": "code",
      "metadata": {
        "colab": {
          "base_uri": "https://localhost:8080/"
        },
        "id": "xdFd15VhsBEn",
        "outputId": "9becd7f4-7481-4586-bb21-c93e6dcd54ee"
      },
      "source": [
        "df.shape, 15/25"
      ],
      "execution_count": 6,
      "outputs": [
        {
          "output_type": "execute_result",
          "data": {
            "text/plain": [
              "((25, 14), 0.6)"
            ]
          },
          "metadata": {},
          "execution_count": 6
        }
      ]
    },
    {
      "cell_type": "code",
      "metadata": {
        "id": "sOkBYrseXxol",
        "colab": {
          "base_uri": "https://localhost:8080/",
          "height": 824
        },
        "outputId": "3a3dc711-cae4-4094-f316-cf9b863a1b1f"
      },
      "source": [
        "# 코드를 입력하세요.\n",
        "df = df.dropna(axis=1, thresh=15)\n",
        "#df = df.drop(df.loc[:, ((df.isna().sum())/len(df)) >= 0.6],axis = 1)\n",
        "df"
      ],
      "execution_count": null,
      "outputs": [
        {
          "output_type": "execute_result",
          "data": {
            "text/html": [
              "<div>\n",
              "<style scoped>\n",
              "    .dataframe tbody tr th:only-of-type {\n",
              "        vertical-align: middle;\n",
              "    }\n",
              "\n",
              "    .dataframe tbody tr th {\n",
              "        vertical-align: top;\n",
              "    }\n",
              "\n",
              "    .dataframe thead th {\n",
              "        text-align: right;\n",
              "    }\n",
              "</style>\n",
              "<table border=\"1\" class=\"dataframe\">\n",
              "  <thead>\n",
              "    <tr style=\"text-align: right;\">\n",
              "      <th></th>\n",
              "      <th>지역</th>\n",
              "      <th>GS칼텍스_셀프</th>\n",
              "      <th>GS칼텍스_일반</th>\n",
              "      <th>S-OIL_셀프</th>\n",
              "      <th>S-OIL_일반</th>\n",
              "      <th>SK에너지_셀프</th>\n",
              "      <th>SK에너지_일반</th>\n",
              "      <th>현대오일뱅크_셀프</th>\n",
              "      <th>현대오일뱅크_일반</th>\n",
              "    </tr>\n",
              "  </thead>\n",
              "  <tbody>\n",
              "    <tr>\n",
              "      <th>0</th>\n",
              "      <td>서울 강남구</td>\n",
              "      <td>1479.628286</td>\n",
              "      <td>1647.372500</td>\n",
              "      <td>1459.241304</td>\n",
              "      <td>1641.747917</td>\n",
              "      <td>1452.455417</td>\n",
              "      <td>1790.737444</td>\n",
              "      <td>1408.822500</td>\n",
              "      <td>1604.995806</td>\n",
              "    </tr>\n",
              "    <tr>\n",
              "      <th>1</th>\n",
              "      <td>서울 강동구</td>\n",
              "      <td>1451.558750</td>\n",
              "      <td>1472.213056</td>\n",
              "      <td>1456.763333</td>\n",
              "      <td>1528.702500</td>\n",
              "      <td>1457.974359</td>\n",
              "      <td>1666.781667</td>\n",
              "      <td>1412.656667</td>\n",
              "      <td>1441.861667</td>\n",
              "    </tr>\n",
              "    <tr>\n",
              "      <th>2</th>\n",
              "      <td>서울 강북구</td>\n",
              "      <td>1342.991667</td>\n",
              "      <td>1373.801667</td>\n",
              "      <td>1325.855000</td>\n",
              "      <td>1370.877500</td>\n",
              "      <td>1375.390244</td>\n",
              "      <td>1347.262500</td>\n",
              "      <td>1353.985814</td>\n",
              "      <td>NaN</td>\n",
              "    </tr>\n",
              "    <tr>\n",
              "      <th>3</th>\n",
              "      <td>서울 강서구</td>\n",
              "      <td>1403.752500</td>\n",
              "      <td>1429.829167</td>\n",
              "      <td>1420.370833</td>\n",
              "      <td>NaN</td>\n",
              "      <td>1377.233636</td>\n",
              "      <td>1485.694000</td>\n",
              "      <td>1339.844737</td>\n",
              "      <td>1406.236939</td>\n",
              "    </tr>\n",
              "    <tr>\n",
              "      <th>4</th>\n",
              "      <td>서울 관악구</td>\n",
              "      <td>1425.005238</td>\n",
              "      <td>1472.719583</td>\n",
              "      <td>NaN</td>\n",
              "      <td>1435.575417</td>\n",
              "      <td>1439.986667</td>\n",
              "      <td>1466.670278</td>\n",
              "      <td>1420.116250</td>\n",
              "      <td>1453.778750</td>\n",
              "    </tr>\n",
              "    <tr>\n",
              "      <th>5</th>\n",
              "      <td>서울 광진구</td>\n",
              "      <td>NaN</td>\n",
              "      <td>1409.874667</td>\n",
              "      <td>1388.133750</td>\n",
              "      <td>1375.815833</td>\n",
              "      <td>1468.312000</td>\n",
              "      <td>1414.259167</td>\n",
              "      <td>1372.834231</td>\n",
              "      <td>1376.601667</td>\n",
              "    </tr>\n",
              "    <tr>\n",
              "      <th>6</th>\n",
              "      <td>서울 구로구</td>\n",
              "      <td>1349.338333</td>\n",
              "      <td>1580.261111</td>\n",
              "      <td>1348.405000</td>\n",
              "      <td>1441.733833</td>\n",
              "      <td>NaN</td>\n",
              "      <td>1417.576415</td>\n",
              "      <td>1365.516522</td>\n",
              "      <td>1422.016774</td>\n",
              "    </tr>\n",
              "    <tr>\n",
              "      <th>7</th>\n",
              "      <td>서울 금천구</td>\n",
              "      <td>1382.317059</td>\n",
              "      <td>NaN</td>\n",
              "      <td>1383.742083</td>\n",
              "      <td>1357.099167</td>\n",
              "      <td>NaN</td>\n",
              "      <td>1427.995122</td>\n",
              "      <td>1382.120417</td>\n",
              "      <td>1386.201429</td>\n",
              "    </tr>\n",
              "    <tr>\n",
              "      <th>8</th>\n",
              "      <td>서울 노원구</td>\n",
              "      <td>1381.040833</td>\n",
              "      <td>1459.922778</td>\n",
              "      <td>1412.337778</td>\n",
              "      <td>NaN</td>\n",
              "      <td>1407.652917</td>\n",
              "      <td>1509.330833</td>\n",
              "      <td>NaN</td>\n",
              "      <td>1467.670000</td>\n",
              "    </tr>\n",
              "    <tr>\n",
              "      <th>9</th>\n",
              "      <td>서울 도봉구</td>\n",
              "      <td>1358.418750</td>\n",
              "      <td>1404.916667</td>\n",
              "      <td>1375.605333</td>\n",
              "      <td>1523.638333</td>\n",
              "      <td>1349.851463</td>\n",
              "      <td>1478.190000</td>\n",
              "      <td>1388.036452</td>\n",
              "      <td>1344.847742</td>\n",
              "    </tr>\n",
              "    <tr>\n",
              "      <th>10</th>\n",
              "      <td>서울 동대문구</td>\n",
              "      <td>1391.806250</td>\n",
              "      <td>1382.023636</td>\n",
              "      <td>1329.071111</td>\n",
              "      <td>1429.638750</td>\n",
              "      <td>1429.797143</td>\n",
              "      <td>1428.111897</td>\n",
              "      <td>1371.264167</td>\n",
              "      <td>1427.322885</td>\n",
              "    </tr>\n",
              "    <tr>\n",
              "      <th>11</th>\n",
              "      <td>서울 동작구</td>\n",
              "      <td>1435.480000</td>\n",
              "      <td>1403.587917</td>\n",
              "      <td>NaN</td>\n",
              "      <td>1413.730000</td>\n",
              "      <td>1466.530000</td>\n",
              "      <td>1529.880833</td>\n",
              "      <td>1407.263846</td>\n",
              "      <td>1421.757083</td>\n",
              "    </tr>\n",
              "    <tr>\n",
              "      <th>12</th>\n",
              "      <td>서울 마포구</td>\n",
              "      <td>NaN</td>\n",
              "      <td>1439.495000</td>\n",
              "      <td>1420.023000</td>\n",
              "      <td>1603.095000</td>\n",
              "      <td>1707.846000</td>\n",
              "      <td>1561.930462</td>\n",
              "      <td>1444.157143</td>\n",
              "      <td>1453.200000</td>\n",
              "    </tr>\n",
              "    <tr>\n",
              "      <th>13</th>\n",
              "      <td>서울 서대문구</td>\n",
              "      <td>1395.398261</td>\n",
              "      <td>1386.623333</td>\n",
              "      <td>1379.786250</td>\n",
              "      <td>1567.006667</td>\n",
              "      <td>1402.860556</td>\n",
              "      <td>1444.818049</td>\n",
              "      <td>1375.766429</td>\n",
              "      <td>1376.517895</td>\n",
              "    </tr>\n",
              "    <tr>\n",
              "      <th>14</th>\n",
              "      <td>서울 서초구</td>\n",
              "      <td>1462.796087</td>\n",
              "      <td>1446.435069</td>\n",
              "      <td>1424.985556</td>\n",
              "      <td>1658.781250</td>\n",
              "      <td>1437.954390</td>\n",
              "      <td>1617.880787</td>\n",
              "      <td>1402.675714</td>\n",
              "      <td>1464.420600</td>\n",
              "    </tr>\n",
              "    <tr>\n",
              "      <th>15</th>\n",
              "      <td>서울 성동구</td>\n",
              "      <td>1396.703333</td>\n",
              "      <td>1708.895833</td>\n",
              "      <td>1355.394167</td>\n",
              "      <td>1411.162500</td>\n",
              "      <td>1456.640833</td>\n",
              "      <td>1505.038429</td>\n",
              "      <td>1387.657083</td>\n",
              "      <td>1582.866667</td>\n",
              "    </tr>\n",
              "    <tr>\n",
              "      <th>16</th>\n",
              "      <td>서울 성북구</td>\n",
              "      <td>1346.266667</td>\n",
              "      <td>1383.025278</td>\n",
              "      <td>1362.213889</td>\n",
              "      <td>1360.839545</td>\n",
              "      <td>1375.587500</td>\n",
              "      <td>1413.591176</td>\n",
              "      <td>1344.361754</td>\n",
              "      <td>1372.565263</td>\n",
              "    </tr>\n",
              "    <tr>\n",
              "      <th>17</th>\n",
              "      <td>서울 송파구</td>\n",
              "      <td>1409.809722</td>\n",
              "      <td>1422.576250</td>\n",
              "      <td>1396.068333</td>\n",
              "      <td>1447.741250</td>\n",
              "      <td>1415.665610</td>\n",
              "      <td>1481.395094</td>\n",
              "      <td>1404.777097</td>\n",
              "      <td>1424.252581</td>\n",
              "    </tr>\n",
              "    <tr>\n",
              "      <th>18</th>\n",
              "      <td>서울 양천구</td>\n",
              "      <td>1359.940833</td>\n",
              "      <td>1374.683750</td>\n",
              "      <td>1317.706667</td>\n",
              "      <td>NaN</td>\n",
              "      <td>1392.041410</td>\n",
              "      <td>1504.570000</td>\n",
              "      <td>1373.028070</td>\n",
              "      <td>1417.873023</td>\n",
              "    </tr>\n",
              "    <tr>\n",
              "      <th>19</th>\n",
              "      <td>서울 영등포구</td>\n",
              "      <td>1408.771875</td>\n",
              "      <td>1626.469577</td>\n",
              "      <td>1401.168947</td>\n",
              "      <td>1401.510000</td>\n",
              "      <td>1395.848254</td>\n",
              "      <td>1666.417143</td>\n",
              "      <td>1368.888000</td>\n",
              "      <td>1473.165806</td>\n",
              "    </tr>\n",
              "    <tr>\n",
              "      <th>20</th>\n",
              "      <td>서울 용산구</td>\n",
              "      <td>NaN</td>\n",
              "      <td>1806.439167</td>\n",
              "      <td>NaN</td>\n",
              "      <td>NaN</td>\n",
              "      <td>NaN</td>\n",
              "      <td>1907.432414</td>\n",
              "      <td>NaN</td>\n",
              "      <td>1807.390303</td>\n",
              "    </tr>\n",
              "    <tr>\n",
              "      <th>21</th>\n",
              "      <td>서울 은평구</td>\n",
              "      <td>1375.465667</td>\n",
              "      <td>1395.541667</td>\n",
              "      <td>1375.332500</td>\n",
              "      <td>NaN</td>\n",
              "      <td>1375.626667</td>\n",
              "      <td>1435.582000</td>\n",
              "      <td>1362.752400</td>\n",
              "      <td>1391.851429</td>\n",
              "    </tr>\n",
              "    <tr>\n",
              "      <th>22</th>\n",
              "      <td>서울 종로구</td>\n",
              "      <td>NaN</td>\n",
              "      <td>2024.467917</td>\n",
              "      <td>NaN</td>\n",
              "      <td>1469.235000</td>\n",
              "      <td>1434.842500</td>\n",
              "      <td>1952.163000</td>\n",
              "      <td>NaN</td>\n",
              "      <td>1615.330000</td>\n",
              "    </tr>\n",
              "    <tr>\n",
              "      <th>23</th>\n",
              "      <td>서울 중구</td>\n",
              "      <td>NaN</td>\n",
              "      <td>2038.513721</td>\n",
              "      <td>NaN</td>\n",
              "      <td>1773.441667</td>\n",
              "      <td>NaN</td>\n",
              "      <td>1975.886500</td>\n",
              "      <td>NaN</td>\n",
              "      <td>1659.430833</td>\n",
              "    </tr>\n",
              "    <tr>\n",
              "      <th>24</th>\n",
              "      <td>서울 중랑구</td>\n",
              "      <td>1363.768958</td>\n",
              "      <td>1350.486667</td>\n",
              "      <td>1356.133056</td>\n",
              "      <td>1394.353750</td>\n",
              "      <td>1389.504151</td>\n",
              "      <td>NaN</td>\n",
              "      <td>1359.062857</td>\n",
              "      <td>1338.245833</td>\n",
              "    </tr>\n",
              "  </tbody>\n",
              "</table>\n",
              "</div>"
            ],
            "text/plain": [
              "         지역     GS칼텍스_셀프     GS칼텍스_일반  ...     SK에너지_일반    현대오일뱅크_셀프    현대오일뱅크_일반\n",
              "0    서울 강남구  1479.628286  1647.372500  ...  1790.737444  1408.822500  1604.995806\n",
              "1    서울 강동구  1451.558750  1472.213056  ...  1666.781667  1412.656667  1441.861667\n",
              "2    서울 강북구  1342.991667  1373.801667  ...  1347.262500  1353.985814          NaN\n",
              "3    서울 강서구  1403.752500  1429.829167  ...  1485.694000  1339.844737  1406.236939\n",
              "4    서울 관악구  1425.005238  1472.719583  ...  1466.670278  1420.116250  1453.778750\n",
              "5    서울 광진구          NaN  1409.874667  ...  1414.259167  1372.834231  1376.601667\n",
              "6    서울 구로구  1349.338333  1580.261111  ...  1417.576415  1365.516522  1422.016774\n",
              "7    서울 금천구  1382.317059          NaN  ...  1427.995122  1382.120417  1386.201429\n",
              "8    서울 노원구  1381.040833  1459.922778  ...  1509.330833          NaN  1467.670000\n",
              "9    서울 도봉구  1358.418750  1404.916667  ...  1478.190000  1388.036452  1344.847742\n",
              "10  서울 동대문구  1391.806250  1382.023636  ...  1428.111897  1371.264167  1427.322885\n",
              "11   서울 동작구  1435.480000  1403.587917  ...  1529.880833  1407.263846  1421.757083\n",
              "12   서울 마포구          NaN  1439.495000  ...  1561.930462  1444.157143  1453.200000\n",
              "13  서울 서대문구  1395.398261  1386.623333  ...  1444.818049  1375.766429  1376.517895\n",
              "14   서울 서초구  1462.796087  1446.435069  ...  1617.880787  1402.675714  1464.420600\n",
              "15   서울 성동구  1396.703333  1708.895833  ...  1505.038429  1387.657083  1582.866667\n",
              "16   서울 성북구  1346.266667  1383.025278  ...  1413.591176  1344.361754  1372.565263\n",
              "17   서울 송파구  1409.809722  1422.576250  ...  1481.395094  1404.777097  1424.252581\n",
              "18   서울 양천구  1359.940833  1374.683750  ...  1504.570000  1373.028070  1417.873023\n",
              "19  서울 영등포구  1408.771875  1626.469577  ...  1666.417143  1368.888000  1473.165806\n",
              "20   서울 용산구          NaN  1806.439167  ...  1907.432414          NaN  1807.390303\n",
              "21   서울 은평구  1375.465667  1395.541667  ...  1435.582000  1362.752400  1391.851429\n",
              "22   서울 종로구          NaN  2024.467917  ...  1952.163000          NaN  1615.330000\n",
              "23    서울 중구          NaN  2038.513721  ...  1975.886500          NaN  1659.430833\n",
              "24   서울 중랑구  1363.768958  1350.486667  ...          NaN  1359.062857  1338.245833\n",
              "\n",
              "[25 rows x 9 columns]"
            ]
          },
          "metadata": {},
          "execution_count": 74
        }
      ]
    },
    {
      "cell_type": "markdown",
      "metadata": {
        "id": "LLaPXrvXXxom"
      },
      "source": [
        "결측치를 0으로 대체하세요."
      ]
    },
    {
      "cell_type": "code",
      "metadata": {
        "id": "IWyZoJRaXxom",
        "colab": {
          "base_uri": "https://localhost:8080/",
          "height": 824
        },
        "outputId": "23c8fabc-cdca-47af-f0f2-58b73b5046a3"
      },
      "source": [
        "# 코드를 입력하세요.\n",
        "df.fillna(0)"
      ],
      "execution_count": null,
      "outputs": [
        {
          "output_type": "execute_result",
          "data": {
            "text/html": [
              "<div>\n",
              "<style scoped>\n",
              "    .dataframe tbody tr th:only-of-type {\n",
              "        vertical-align: middle;\n",
              "    }\n",
              "\n",
              "    .dataframe tbody tr th {\n",
              "        vertical-align: top;\n",
              "    }\n",
              "\n",
              "    .dataframe thead th {\n",
              "        text-align: right;\n",
              "    }\n",
              "</style>\n",
              "<table border=\"1\" class=\"dataframe\">\n",
              "  <thead>\n",
              "    <tr style=\"text-align: right;\">\n",
              "      <th></th>\n",
              "      <th>지역</th>\n",
              "      <th>GS칼텍스_셀프</th>\n",
              "      <th>GS칼텍스_일반</th>\n",
              "      <th>S-OIL_셀프</th>\n",
              "      <th>S-OIL_일반</th>\n",
              "      <th>SK에너지_셀프</th>\n",
              "      <th>SK에너지_일반</th>\n",
              "      <th>현대오일뱅크_셀프</th>\n",
              "      <th>현대오일뱅크_일반</th>\n",
              "    </tr>\n",
              "  </thead>\n",
              "  <tbody>\n",
              "    <tr>\n",
              "      <th>0</th>\n",
              "      <td>서울 강남구</td>\n",
              "      <td>1479.628286</td>\n",
              "      <td>1647.372500</td>\n",
              "      <td>1459.241304</td>\n",
              "      <td>1641.747917</td>\n",
              "      <td>1452.455417</td>\n",
              "      <td>1790.737444</td>\n",
              "      <td>1408.822500</td>\n",
              "      <td>1604.995806</td>\n",
              "    </tr>\n",
              "    <tr>\n",
              "      <th>1</th>\n",
              "      <td>서울 강동구</td>\n",
              "      <td>1451.558750</td>\n",
              "      <td>1472.213056</td>\n",
              "      <td>1456.763333</td>\n",
              "      <td>1528.702500</td>\n",
              "      <td>1457.974359</td>\n",
              "      <td>1666.781667</td>\n",
              "      <td>1412.656667</td>\n",
              "      <td>1441.861667</td>\n",
              "    </tr>\n",
              "    <tr>\n",
              "      <th>2</th>\n",
              "      <td>서울 강북구</td>\n",
              "      <td>1342.991667</td>\n",
              "      <td>1373.801667</td>\n",
              "      <td>1325.855000</td>\n",
              "      <td>1370.877500</td>\n",
              "      <td>1375.390244</td>\n",
              "      <td>1347.262500</td>\n",
              "      <td>1353.985814</td>\n",
              "      <td>0.000000</td>\n",
              "    </tr>\n",
              "    <tr>\n",
              "      <th>3</th>\n",
              "      <td>서울 강서구</td>\n",
              "      <td>1403.752500</td>\n",
              "      <td>1429.829167</td>\n",
              "      <td>1420.370833</td>\n",
              "      <td>0.000000</td>\n",
              "      <td>1377.233636</td>\n",
              "      <td>1485.694000</td>\n",
              "      <td>1339.844737</td>\n",
              "      <td>1406.236939</td>\n",
              "    </tr>\n",
              "    <tr>\n",
              "      <th>4</th>\n",
              "      <td>서울 관악구</td>\n",
              "      <td>1425.005238</td>\n",
              "      <td>1472.719583</td>\n",
              "      <td>0.000000</td>\n",
              "      <td>1435.575417</td>\n",
              "      <td>1439.986667</td>\n",
              "      <td>1466.670278</td>\n",
              "      <td>1420.116250</td>\n",
              "      <td>1453.778750</td>\n",
              "    </tr>\n",
              "    <tr>\n",
              "      <th>5</th>\n",
              "      <td>서울 광진구</td>\n",
              "      <td>0.000000</td>\n",
              "      <td>1409.874667</td>\n",
              "      <td>1388.133750</td>\n",
              "      <td>1375.815833</td>\n",
              "      <td>1468.312000</td>\n",
              "      <td>1414.259167</td>\n",
              "      <td>1372.834231</td>\n",
              "      <td>1376.601667</td>\n",
              "    </tr>\n",
              "    <tr>\n",
              "      <th>6</th>\n",
              "      <td>서울 구로구</td>\n",
              "      <td>1349.338333</td>\n",
              "      <td>1580.261111</td>\n",
              "      <td>1348.405000</td>\n",
              "      <td>1441.733833</td>\n",
              "      <td>0.000000</td>\n",
              "      <td>1417.576415</td>\n",
              "      <td>1365.516522</td>\n",
              "      <td>1422.016774</td>\n",
              "    </tr>\n",
              "    <tr>\n",
              "      <th>7</th>\n",
              "      <td>서울 금천구</td>\n",
              "      <td>1382.317059</td>\n",
              "      <td>0.000000</td>\n",
              "      <td>1383.742083</td>\n",
              "      <td>1357.099167</td>\n",
              "      <td>0.000000</td>\n",
              "      <td>1427.995122</td>\n",
              "      <td>1382.120417</td>\n",
              "      <td>1386.201429</td>\n",
              "    </tr>\n",
              "    <tr>\n",
              "      <th>8</th>\n",
              "      <td>서울 노원구</td>\n",
              "      <td>1381.040833</td>\n",
              "      <td>1459.922778</td>\n",
              "      <td>1412.337778</td>\n",
              "      <td>0.000000</td>\n",
              "      <td>1407.652917</td>\n",
              "      <td>1509.330833</td>\n",
              "      <td>0.000000</td>\n",
              "      <td>1467.670000</td>\n",
              "    </tr>\n",
              "    <tr>\n",
              "      <th>9</th>\n",
              "      <td>서울 도봉구</td>\n",
              "      <td>1358.418750</td>\n",
              "      <td>1404.916667</td>\n",
              "      <td>1375.605333</td>\n",
              "      <td>1523.638333</td>\n",
              "      <td>1349.851463</td>\n",
              "      <td>1478.190000</td>\n",
              "      <td>1388.036452</td>\n",
              "      <td>1344.847742</td>\n",
              "    </tr>\n",
              "    <tr>\n",
              "      <th>10</th>\n",
              "      <td>서울 동대문구</td>\n",
              "      <td>1391.806250</td>\n",
              "      <td>1382.023636</td>\n",
              "      <td>1329.071111</td>\n",
              "      <td>1429.638750</td>\n",
              "      <td>1429.797143</td>\n",
              "      <td>1428.111897</td>\n",
              "      <td>1371.264167</td>\n",
              "      <td>1427.322885</td>\n",
              "    </tr>\n",
              "    <tr>\n",
              "      <th>11</th>\n",
              "      <td>서울 동작구</td>\n",
              "      <td>1435.480000</td>\n",
              "      <td>1403.587917</td>\n",
              "      <td>0.000000</td>\n",
              "      <td>1413.730000</td>\n",
              "      <td>1466.530000</td>\n",
              "      <td>1529.880833</td>\n",
              "      <td>1407.263846</td>\n",
              "      <td>1421.757083</td>\n",
              "    </tr>\n",
              "    <tr>\n",
              "      <th>12</th>\n",
              "      <td>서울 마포구</td>\n",
              "      <td>0.000000</td>\n",
              "      <td>1439.495000</td>\n",
              "      <td>1420.023000</td>\n",
              "      <td>1603.095000</td>\n",
              "      <td>1707.846000</td>\n",
              "      <td>1561.930462</td>\n",
              "      <td>1444.157143</td>\n",
              "      <td>1453.200000</td>\n",
              "    </tr>\n",
              "    <tr>\n",
              "      <th>13</th>\n",
              "      <td>서울 서대문구</td>\n",
              "      <td>1395.398261</td>\n",
              "      <td>1386.623333</td>\n",
              "      <td>1379.786250</td>\n",
              "      <td>1567.006667</td>\n",
              "      <td>1402.860556</td>\n",
              "      <td>1444.818049</td>\n",
              "      <td>1375.766429</td>\n",
              "      <td>1376.517895</td>\n",
              "    </tr>\n",
              "    <tr>\n",
              "      <th>14</th>\n",
              "      <td>서울 서초구</td>\n",
              "      <td>1462.796087</td>\n",
              "      <td>1446.435069</td>\n",
              "      <td>1424.985556</td>\n",
              "      <td>1658.781250</td>\n",
              "      <td>1437.954390</td>\n",
              "      <td>1617.880787</td>\n",
              "      <td>1402.675714</td>\n",
              "      <td>1464.420600</td>\n",
              "    </tr>\n",
              "    <tr>\n",
              "      <th>15</th>\n",
              "      <td>서울 성동구</td>\n",
              "      <td>1396.703333</td>\n",
              "      <td>1708.895833</td>\n",
              "      <td>1355.394167</td>\n",
              "      <td>1411.162500</td>\n",
              "      <td>1456.640833</td>\n",
              "      <td>1505.038429</td>\n",
              "      <td>1387.657083</td>\n",
              "      <td>1582.866667</td>\n",
              "    </tr>\n",
              "    <tr>\n",
              "      <th>16</th>\n",
              "      <td>서울 성북구</td>\n",
              "      <td>1346.266667</td>\n",
              "      <td>1383.025278</td>\n",
              "      <td>1362.213889</td>\n",
              "      <td>1360.839545</td>\n",
              "      <td>1375.587500</td>\n",
              "      <td>1413.591176</td>\n",
              "      <td>1344.361754</td>\n",
              "      <td>1372.565263</td>\n",
              "    </tr>\n",
              "    <tr>\n",
              "      <th>17</th>\n",
              "      <td>서울 송파구</td>\n",
              "      <td>1409.809722</td>\n",
              "      <td>1422.576250</td>\n",
              "      <td>1396.068333</td>\n",
              "      <td>1447.741250</td>\n",
              "      <td>1415.665610</td>\n",
              "      <td>1481.395094</td>\n",
              "      <td>1404.777097</td>\n",
              "      <td>1424.252581</td>\n",
              "    </tr>\n",
              "    <tr>\n",
              "      <th>18</th>\n",
              "      <td>서울 양천구</td>\n",
              "      <td>1359.940833</td>\n",
              "      <td>1374.683750</td>\n",
              "      <td>1317.706667</td>\n",
              "      <td>0.000000</td>\n",
              "      <td>1392.041410</td>\n",
              "      <td>1504.570000</td>\n",
              "      <td>1373.028070</td>\n",
              "      <td>1417.873023</td>\n",
              "    </tr>\n",
              "    <tr>\n",
              "      <th>19</th>\n",
              "      <td>서울 영등포구</td>\n",
              "      <td>1408.771875</td>\n",
              "      <td>1626.469577</td>\n",
              "      <td>1401.168947</td>\n",
              "      <td>1401.510000</td>\n",
              "      <td>1395.848254</td>\n",
              "      <td>1666.417143</td>\n",
              "      <td>1368.888000</td>\n",
              "      <td>1473.165806</td>\n",
              "    </tr>\n",
              "    <tr>\n",
              "      <th>20</th>\n",
              "      <td>서울 용산구</td>\n",
              "      <td>0.000000</td>\n",
              "      <td>1806.439167</td>\n",
              "      <td>0.000000</td>\n",
              "      <td>0.000000</td>\n",
              "      <td>0.000000</td>\n",
              "      <td>1907.432414</td>\n",
              "      <td>0.000000</td>\n",
              "      <td>1807.390303</td>\n",
              "    </tr>\n",
              "    <tr>\n",
              "      <th>21</th>\n",
              "      <td>서울 은평구</td>\n",
              "      <td>1375.465667</td>\n",
              "      <td>1395.541667</td>\n",
              "      <td>1375.332500</td>\n",
              "      <td>0.000000</td>\n",
              "      <td>1375.626667</td>\n",
              "      <td>1435.582000</td>\n",
              "      <td>1362.752400</td>\n",
              "      <td>1391.851429</td>\n",
              "    </tr>\n",
              "    <tr>\n",
              "      <th>22</th>\n",
              "      <td>서울 종로구</td>\n",
              "      <td>0.000000</td>\n",
              "      <td>2024.467917</td>\n",
              "      <td>0.000000</td>\n",
              "      <td>1469.235000</td>\n",
              "      <td>1434.842500</td>\n",
              "      <td>1952.163000</td>\n",
              "      <td>0.000000</td>\n",
              "      <td>1615.330000</td>\n",
              "    </tr>\n",
              "    <tr>\n",
              "      <th>23</th>\n",
              "      <td>서울 중구</td>\n",
              "      <td>0.000000</td>\n",
              "      <td>2038.513721</td>\n",
              "      <td>0.000000</td>\n",
              "      <td>1773.441667</td>\n",
              "      <td>0.000000</td>\n",
              "      <td>1975.886500</td>\n",
              "      <td>0.000000</td>\n",
              "      <td>1659.430833</td>\n",
              "    </tr>\n",
              "    <tr>\n",
              "      <th>24</th>\n",
              "      <td>서울 중랑구</td>\n",
              "      <td>1363.768958</td>\n",
              "      <td>1350.486667</td>\n",
              "      <td>1356.133056</td>\n",
              "      <td>1394.353750</td>\n",
              "      <td>1389.504151</td>\n",
              "      <td>0.000000</td>\n",
              "      <td>1359.062857</td>\n",
              "      <td>1338.245833</td>\n",
              "    </tr>\n",
              "  </tbody>\n",
              "</table>\n",
              "</div>"
            ],
            "text/plain": [
              "         지역     GS칼텍스_셀프     GS칼텍스_일반  ...     SK에너지_일반    현대오일뱅크_셀프    현대오일뱅크_일반\n",
              "0    서울 강남구  1479.628286  1647.372500  ...  1790.737444  1408.822500  1604.995806\n",
              "1    서울 강동구  1451.558750  1472.213056  ...  1666.781667  1412.656667  1441.861667\n",
              "2    서울 강북구  1342.991667  1373.801667  ...  1347.262500  1353.985814     0.000000\n",
              "3    서울 강서구  1403.752500  1429.829167  ...  1485.694000  1339.844737  1406.236939\n",
              "4    서울 관악구  1425.005238  1472.719583  ...  1466.670278  1420.116250  1453.778750\n",
              "5    서울 광진구     0.000000  1409.874667  ...  1414.259167  1372.834231  1376.601667\n",
              "6    서울 구로구  1349.338333  1580.261111  ...  1417.576415  1365.516522  1422.016774\n",
              "7    서울 금천구  1382.317059     0.000000  ...  1427.995122  1382.120417  1386.201429\n",
              "8    서울 노원구  1381.040833  1459.922778  ...  1509.330833     0.000000  1467.670000\n",
              "9    서울 도봉구  1358.418750  1404.916667  ...  1478.190000  1388.036452  1344.847742\n",
              "10  서울 동대문구  1391.806250  1382.023636  ...  1428.111897  1371.264167  1427.322885\n",
              "11   서울 동작구  1435.480000  1403.587917  ...  1529.880833  1407.263846  1421.757083\n",
              "12   서울 마포구     0.000000  1439.495000  ...  1561.930462  1444.157143  1453.200000\n",
              "13  서울 서대문구  1395.398261  1386.623333  ...  1444.818049  1375.766429  1376.517895\n",
              "14   서울 서초구  1462.796087  1446.435069  ...  1617.880787  1402.675714  1464.420600\n",
              "15   서울 성동구  1396.703333  1708.895833  ...  1505.038429  1387.657083  1582.866667\n",
              "16   서울 성북구  1346.266667  1383.025278  ...  1413.591176  1344.361754  1372.565263\n",
              "17   서울 송파구  1409.809722  1422.576250  ...  1481.395094  1404.777097  1424.252581\n",
              "18   서울 양천구  1359.940833  1374.683750  ...  1504.570000  1373.028070  1417.873023\n",
              "19  서울 영등포구  1408.771875  1626.469577  ...  1666.417143  1368.888000  1473.165806\n",
              "20   서울 용산구     0.000000  1806.439167  ...  1907.432414     0.000000  1807.390303\n",
              "21   서울 은평구  1375.465667  1395.541667  ...  1435.582000  1362.752400  1391.851429\n",
              "22   서울 종로구     0.000000  2024.467917  ...  1952.163000     0.000000  1615.330000\n",
              "23    서울 중구     0.000000  2038.513721  ...  1975.886500     0.000000  1659.430833\n",
              "24   서울 중랑구  1363.768958  1350.486667  ...     0.000000  1359.062857  1338.245833\n",
              "\n",
              "[25 rows x 9 columns]"
            ]
          },
          "metadata": {},
          "execution_count": 75
        }
      ]
    }
  ]
}