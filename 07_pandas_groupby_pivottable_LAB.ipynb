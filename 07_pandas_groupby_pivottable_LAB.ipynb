{
  "nbformat": 4,
  "nbformat_minor": 0,
  "metadata": {
    "colab": {
      "name": "07-pandas-groupby-pivottable_LAB.ipynb",
      "provenance": [],
      "collapsed_sections": [],
      "include_colab_link": true
    },
    "kernelspec": {
      "display_name": "Python 3",
      "language": "python",
      "name": "python3"
    },
    "language_info": {
      "codemirror_mode": {
        "name": "ipython",
        "version": 3
      },
      "file_extension": ".py",
      "mimetype": "text/x-python",
      "name": "python",
      "nbconvert_exporter": "python",
      "pygments_lexer": "ipython3",
      "version": "3.8.3"
    }
  },
  "cells": [
    {
      "cell_type": "markdown",
      "metadata": {
        "id": "view-in-github",
        "colab_type": "text"
      },
      "source": [
        "<a href=\"https://colab.research.google.com/github/skyworld19/ds-school-advanced/blob/master/07_pandas_groupby_pivottable_LAB.ipynb\" target=\"_parent\"><img src=\"https://colab.research.google.com/assets/colab-badge.svg\" alt=\"Open In Colab\"/></a>"
      ]
    },
    {
      "cell_type": "markdown",
      "metadata": {
        "id": "JCrzppJghSYJ"
      },
      "source": [
        "# 패키지 설치"
      ]
    },
    {
      "cell_type": "code",
      "metadata": {
        "collapsed": true,
        "id": "E7LU5MKOhSYL",
        "colab": {
          "base_uri": "https://localhost:8080/"
        },
        "outputId": "20cab9ca-84ed-4e78-b117-0244e0622ec9"
      },
      "source": [
        "!pip install mySUNI"
      ],
      "execution_count": 1,
      "outputs": [
        {
          "output_type": "stream",
          "text": [
            "Collecting mySUNI\n",
            "  Downloading mySUNI-1.2.2-py3-none-any.whl (21 kB)\n",
            "Requirement already satisfied: tqdm in /usr/local/lib/python3.7/dist-packages (from mySUNI) (4.62.0)\n",
            "Installing collected packages: mySUNI\n",
            "Successfully installed mySUNI-1.2.2\n"
          ],
          "name": "stdout"
        }
      ]
    },
    {
      "cell_type": "markdown",
      "metadata": {
        "id": "A_ywsHHthSYM"
      },
      "source": [
        "## 모듈 import"
      ]
    },
    {
      "cell_type": "code",
      "metadata": {
        "id": "RGhyFtVF0F0m"
      },
      "source": [
        "import numpy as np\n",
        "import pandas as pd\n",
        "import seaborn as sns\n",
        "from mySUNI import cds\n",
        "from IPython.display import Image"
      ],
      "execution_count": 2,
      "outputs": []
    },
    {
      "cell_type": "markdown",
      "metadata": {
        "id": "ibGHEBWthSYN"
      },
      "source": [
        "## 데이터셋 로드"
      ]
    },
    {
      "cell_type": "code",
      "metadata": {
        "id": "LN_aFYz3hSYN",
        "colab": {
          "base_uri": "https://localhost:8080/",
          "height": 224
        },
        "outputId": "57639d45-a173-40ed-da74-0720ddb85c9f"
      },
      "source": [
        "df = sns.load_dataset('titanic')\n",
        "df.head()"
      ],
      "execution_count": 3,
      "outputs": [
        {
          "output_type": "execute_result",
          "data": {
            "text/html": [
              "<div>\n",
              "<style scoped>\n",
              "    .dataframe tbody tr th:only-of-type {\n",
              "        vertical-align: middle;\n",
              "    }\n",
              "\n",
              "    .dataframe tbody tr th {\n",
              "        vertical-align: top;\n",
              "    }\n",
              "\n",
              "    .dataframe thead th {\n",
              "        text-align: right;\n",
              "    }\n",
              "</style>\n",
              "<table border=\"1\" class=\"dataframe\">\n",
              "  <thead>\n",
              "    <tr style=\"text-align: right;\">\n",
              "      <th></th>\n",
              "      <th>survived</th>\n",
              "      <th>pclass</th>\n",
              "      <th>sex</th>\n",
              "      <th>age</th>\n",
              "      <th>sibsp</th>\n",
              "      <th>parch</th>\n",
              "      <th>fare</th>\n",
              "      <th>embarked</th>\n",
              "      <th>class</th>\n",
              "      <th>who</th>\n",
              "      <th>adult_male</th>\n",
              "      <th>deck</th>\n",
              "      <th>embark_town</th>\n",
              "      <th>alive</th>\n",
              "      <th>alone</th>\n",
              "    </tr>\n",
              "  </thead>\n",
              "  <tbody>\n",
              "    <tr>\n",
              "      <th>0</th>\n",
              "      <td>0</td>\n",
              "      <td>3</td>\n",
              "      <td>male</td>\n",
              "      <td>22.0</td>\n",
              "      <td>1</td>\n",
              "      <td>0</td>\n",
              "      <td>7.2500</td>\n",
              "      <td>S</td>\n",
              "      <td>Third</td>\n",
              "      <td>man</td>\n",
              "      <td>True</td>\n",
              "      <td>NaN</td>\n",
              "      <td>Southampton</td>\n",
              "      <td>no</td>\n",
              "      <td>False</td>\n",
              "    </tr>\n",
              "    <tr>\n",
              "      <th>1</th>\n",
              "      <td>1</td>\n",
              "      <td>1</td>\n",
              "      <td>female</td>\n",
              "      <td>38.0</td>\n",
              "      <td>1</td>\n",
              "      <td>0</td>\n",
              "      <td>71.2833</td>\n",
              "      <td>C</td>\n",
              "      <td>First</td>\n",
              "      <td>woman</td>\n",
              "      <td>False</td>\n",
              "      <td>C</td>\n",
              "      <td>Cherbourg</td>\n",
              "      <td>yes</td>\n",
              "      <td>False</td>\n",
              "    </tr>\n",
              "    <tr>\n",
              "      <th>2</th>\n",
              "      <td>1</td>\n",
              "      <td>3</td>\n",
              "      <td>female</td>\n",
              "      <td>26.0</td>\n",
              "      <td>0</td>\n",
              "      <td>0</td>\n",
              "      <td>7.9250</td>\n",
              "      <td>S</td>\n",
              "      <td>Third</td>\n",
              "      <td>woman</td>\n",
              "      <td>False</td>\n",
              "      <td>NaN</td>\n",
              "      <td>Southampton</td>\n",
              "      <td>yes</td>\n",
              "      <td>True</td>\n",
              "    </tr>\n",
              "    <tr>\n",
              "      <th>3</th>\n",
              "      <td>1</td>\n",
              "      <td>1</td>\n",
              "      <td>female</td>\n",
              "      <td>35.0</td>\n",
              "      <td>1</td>\n",
              "      <td>0</td>\n",
              "      <td>53.1000</td>\n",
              "      <td>S</td>\n",
              "      <td>First</td>\n",
              "      <td>woman</td>\n",
              "      <td>False</td>\n",
              "      <td>C</td>\n",
              "      <td>Southampton</td>\n",
              "      <td>yes</td>\n",
              "      <td>False</td>\n",
              "    </tr>\n",
              "    <tr>\n",
              "      <th>4</th>\n",
              "      <td>0</td>\n",
              "      <td>3</td>\n",
              "      <td>male</td>\n",
              "      <td>35.0</td>\n",
              "      <td>0</td>\n",
              "      <td>0</td>\n",
              "      <td>8.0500</td>\n",
              "      <td>S</td>\n",
              "      <td>Third</td>\n",
              "      <td>man</td>\n",
              "      <td>True</td>\n",
              "      <td>NaN</td>\n",
              "      <td>Southampton</td>\n",
              "      <td>no</td>\n",
              "      <td>True</td>\n",
              "    </tr>\n",
              "  </tbody>\n",
              "</table>\n",
              "</div>"
            ],
            "text/plain": [
              "   survived  pclass     sex   age  ...  deck  embark_town  alive  alone\n",
              "0         0       3    male  22.0  ...   NaN  Southampton     no  False\n",
              "1         1       1  female  38.0  ...     C    Cherbourg    yes  False\n",
              "2         1       3  female  26.0  ...   NaN  Southampton    yes   True\n",
              "3         1       1  female  35.0  ...     C  Southampton    yes  False\n",
              "4         0       3    male  35.0  ...   NaN  Southampton     no   True\n",
              "\n",
              "[5 rows x 15 columns]"
            ]
          },
          "metadata": {},
          "execution_count": 3
        }
      ]
    },
    {
      "cell_type": "markdown",
      "metadata": {
        "id": "Fk0obLyLhSYO"
      },
      "source": [
        "**컬럼(columns) 설명**\n",
        "\n",
        "- survivied: 생존여부 (1: 생존, 0: 사망)\n",
        "- pclass: 좌석 등급 (1등급, 2등급, 3등급)\n",
        "- sex: 성별\n",
        "- age: 나이\n",
        "- sibsp: 형제 + 배우자 수\n",
        "- parch: 부모 + 자녀 수\n",
        "- fare: 좌석 요금\n",
        "- embarked: 탑승 항구 (S, C, Q)\n",
        "- class: pclass와 동일\n",
        "- who: 성별과 동일\n",
        "- adult_male: 성인 남자 여부\n",
        "- deck: 데크 번호 (알파벳 + 숫자 혼용)\n",
        "- embark_town: 탑승 항구 이름\n",
        "- alive: 생존여부 (yes, no)\n",
        "- alone: 혼자 탑승 여부"
      ]
    },
    {
      "cell_type": "markdown",
      "metadata": {
        "id": "owipH5wThSYO"
      },
      "source": [
        "## apply() - 함수를 적용\n",
        "\n",
        "`apply()`는 데이터 전처리시 굉장히 많이 활용하는 기능입니다.\n",
        "\n",
        "좀 더 복잡한 **logic을 컬럼 혹은 DataFrame에 적용**하고자 할 때 사용합니다."
      ]
    },
    {
      "cell_type": "code",
      "metadata": {
        "id": "HGsqTmFOhSYP",
        "colab": {
          "base_uri": "https://localhost:8080/",
          "height": 224
        },
        "outputId": "c39a0534-e164-4d2f-8053-f957ab910616"
      },
      "source": [
        "df.head()"
      ],
      "execution_count": 4,
      "outputs": [
        {
          "output_type": "execute_result",
          "data": {
            "text/html": [
              "<div>\n",
              "<style scoped>\n",
              "    .dataframe tbody tr th:only-of-type {\n",
              "        vertical-align: middle;\n",
              "    }\n",
              "\n",
              "    .dataframe tbody tr th {\n",
              "        vertical-align: top;\n",
              "    }\n",
              "\n",
              "    .dataframe thead th {\n",
              "        text-align: right;\n",
              "    }\n",
              "</style>\n",
              "<table border=\"1\" class=\"dataframe\">\n",
              "  <thead>\n",
              "    <tr style=\"text-align: right;\">\n",
              "      <th></th>\n",
              "      <th>survived</th>\n",
              "      <th>pclass</th>\n",
              "      <th>sex</th>\n",
              "      <th>age</th>\n",
              "      <th>sibsp</th>\n",
              "      <th>parch</th>\n",
              "      <th>fare</th>\n",
              "      <th>embarked</th>\n",
              "      <th>class</th>\n",
              "      <th>who</th>\n",
              "      <th>adult_male</th>\n",
              "      <th>deck</th>\n",
              "      <th>embark_town</th>\n",
              "      <th>alive</th>\n",
              "      <th>alone</th>\n",
              "    </tr>\n",
              "  </thead>\n",
              "  <tbody>\n",
              "    <tr>\n",
              "      <th>0</th>\n",
              "      <td>0</td>\n",
              "      <td>3</td>\n",
              "      <td>male</td>\n",
              "      <td>22.0</td>\n",
              "      <td>1</td>\n",
              "      <td>0</td>\n",
              "      <td>7.2500</td>\n",
              "      <td>S</td>\n",
              "      <td>Third</td>\n",
              "      <td>man</td>\n",
              "      <td>True</td>\n",
              "      <td>NaN</td>\n",
              "      <td>Southampton</td>\n",
              "      <td>no</td>\n",
              "      <td>False</td>\n",
              "    </tr>\n",
              "    <tr>\n",
              "      <th>1</th>\n",
              "      <td>1</td>\n",
              "      <td>1</td>\n",
              "      <td>female</td>\n",
              "      <td>38.0</td>\n",
              "      <td>1</td>\n",
              "      <td>0</td>\n",
              "      <td>71.2833</td>\n",
              "      <td>C</td>\n",
              "      <td>First</td>\n",
              "      <td>woman</td>\n",
              "      <td>False</td>\n",
              "      <td>C</td>\n",
              "      <td>Cherbourg</td>\n",
              "      <td>yes</td>\n",
              "      <td>False</td>\n",
              "    </tr>\n",
              "    <tr>\n",
              "      <th>2</th>\n",
              "      <td>1</td>\n",
              "      <td>3</td>\n",
              "      <td>female</td>\n",
              "      <td>26.0</td>\n",
              "      <td>0</td>\n",
              "      <td>0</td>\n",
              "      <td>7.9250</td>\n",
              "      <td>S</td>\n",
              "      <td>Third</td>\n",
              "      <td>woman</td>\n",
              "      <td>False</td>\n",
              "      <td>NaN</td>\n",
              "      <td>Southampton</td>\n",
              "      <td>yes</td>\n",
              "      <td>True</td>\n",
              "    </tr>\n",
              "    <tr>\n",
              "      <th>3</th>\n",
              "      <td>1</td>\n",
              "      <td>1</td>\n",
              "      <td>female</td>\n",
              "      <td>35.0</td>\n",
              "      <td>1</td>\n",
              "      <td>0</td>\n",
              "      <td>53.1000</td>\n",
              "      <td>S</td>\n",
              "      <td>First</td>\n",
              "      <td>woman</td>\n",
              "      <td>False</td>\n",
              "      <td>C</td>\n",
              "      <td>Southampton</td>\n",
              "      <td>yes</td>\n",
              "      <td>False</td>\n",
              "    </tr>\n",
              "    <tr>\n",
              "      <th>4</th>\n",
              "      <td>0</td>\n",
              "      <td>3</td>\n",
              "      <td>male</td>\n",
              "      <td>35.0</td>\n",
              "      <td>0</td>\n",
              "      <td>0</td>\n",
              "      <td>8.0500</td>\n",
              "      <td>S</td>\n",
              "      <td>Third</td>\n",
              "      <td>man</td>\n",
              "      <td>True</td>\n",
              "      <td>NaN</td>\n",
              "      <td>Southampton</td>\n",
              "      <td>no</td>\n",
              "      <td>True</td>\n",
              "    </tr>\n",
              "  </tbody>\n",
              "</table>\n",
              "</div>"
            ],
            "text/plain": [
              "   survived  pclass     sex   age  ...  deck  embark_town  alive  alone\n",
              "0         0       3    male  22.0  ...   NaN  Southampton     no  False\n",
              "1         1       1  female  38.0  ...     C    Cherbourg    yes  False\n",
              "2         1       3  female  26.0  ...   NaN  Southampton    yes   True\n",
              "3         1       1  female  35.0  ...     C  Southampton    yes  False\n",
              "4         0       3    male  35.0  ...   NaN  Southampton     no   True\n",
              "\n",
              "[5 rows x 15 columns]"
            ]
          },
          "metadata": {},
          "execution_count": 4
        }
      ]
    },
    {
      "cell_type": "markdown",
      "metadata": {
        "id": "iKyYQksVhSYQ"
      },
      "source": [
        "**who** 컬럼에 대하여 man은 남자, woman은 여자, child는 아이로 변경하고자 한다면 apply를 활용하여 해결할 수 있습니다."
      ]
    },
    {
      "cell_type": "code",
      "metadata": {
        "id": "-b8YkFKWhSYQ",
        "colab": {
          "base_uri": "https://localhost:8080/"
        },
        "outputId": "5c16e6f8-1165-454a-9f6d-309fcc4f4b1b"
      },
      "source": [
        "# df의 'who' 컬럼에 대해 값 별 개수를 표시합니다 \n",
        "df['who'].value_counts()"
      ],
      "execution_count": 5,
      "outputs": [
        {
          "output_type": "execute_result",
          "data": {
            "text/plain": [
              "man      537\n",
              "woman    271\n",
              "child     83\n",
              "Name: who, dtype: int64"
            ]
          },
          "metadata": {},
          "execution_count": 5
        }
      ]
    },
    {
      "cell_type": "markdown",
      "metadata": {
        "id": "QBEE3J1mhSYQ"
      },
      "source": [
        "**함수(function) 정의**"
      ]
    },
    {
      "cell_type": "code",
      "metadata": {
        "id": "vtbEjaWxhSYQ"
      },
      "source": [
        "# x가 'man'인 경우 '남자', 'woman'인 경우 '여자', \n",
        "# 그 외의 경우는 '아이'를 반환하는 함수를 작성합니다.\n",
        "def transform_who(x):\n",
        "    data = {'man':'남자', 'woman':'여자', 'child':'아이'}\n",
        "    return data.get(x, np.nan) "
      ],
      "execution_count": 6,
      "outputs": []
    },
    {
      "cell_type": "code",
      "metadata": {
        "id": "dKfx-9mZhSYQ",
        "colab": {
          "base_uri": "https://localhost:8080/"
        },
        "outputId": "8de4f6bc-2469-4df5-a2db-2175183fa280"
      },
      "source": [
        "# df의 'who' 컬럼에 transform_who 함수를 적용합니다\n",
        "df['who'].apply(transform_who)"
      ],
      "execution_count": 7,
      "outputs": [
        {
          "output_type": "execute_result",
          "data": {
            "text/plain": [
              "0      남자\n",
              "1      여자\n",
              "2      여자\n",
              "3      여자\n",
              "4      남자\n",
              "       ..\n",
              "886    남자\n",
              "887    여자\n",
              "888    여자\n",
              "889    남자\n",
              "890    남자\n",
              "Name: who, Length: 891, dtype: object"
            ]
          },
          "metadata": {},
          "execution_count": 7
        }
      ]
    },
    {
      "cell_type": "markdown",
      "metadata": {
        "id": "tw1AhouVhSYR"
      },
      "source": [
        "분포를 확인하면 다음과 같습니다."
      ]
    },
    {
      "cell_type": "code",
      "metadata": {
        "id": "58TwqtdAhSYR",
        "colab": {
          "base_uri": "https://localhost:8080/"
        },
        "outputId": "e5c5178a-7a13-4f14-f732-58702c6bf83d"
      },
      "source": [
        "df['who'].apply(transform_who).value_counts()"
      ],
      "execution_count": 8,
      "outputs": [
        {
          "output_type": "execute_result",
          "data": {
            "text/plain": [
              "남자    537\n",
              "여자    271\n",
              "아이     83\n",
              "Name: who, dtype: int64"
            ]
          },
          "metadata": {},
          "execution_count": 8
        }
      ]
    },
    {
      "cell_type": "code",
      "metadata": {
        "id": "-RanicmOl_jC"
      },
      "source": [
        "df['who'].replace(['man', 'woman', 'child'], ['남자','여자','아이'])"
      ],
      "execution_count": null,
      "outputs": []
    },
    {
      "cell_type": "code",
      "metadata": {
        "id": "Q7z4VXR7l_pc"
      },
      "source": [
        "df['who'].replace({'man':'남자', 'woman':'여자', 'child':'아이'})"
      ],
      "execution_count": null,
      "outputs": []
    },
    {
      "cell_type": "markdown",
      "metadata": {
        "id": "8zi_jVJrhSYR"
      },
      "source": [
        "## apply() - lambda 함수"
      ]
    },
    {
      "cell_type": "markdown",
      "metadata": {
        "id": "bzqSnuD1hSYR"
      },
      "source": [
        "간단한 logic은 함수를 굳이 정의하지 않고, lambda 함수로 쉽게 해결할 수 있습니다."
      ]
    },
    {
      "cell_type": "code",
      "metadata": {
        "id": "vb7ahQbmhSYR",
        "colab": {
          "base_uri": "https://localhost:8080/"
        },
        "outputId": "915d2fc6-1b1d-4189-c92a-d838001dcb91"
      },
      "source": [
        "df['survived'].value_counts()"
      ],
      "execution_count": 9,
      "outputs": [
        {
          "output_type": "execute_result",
          "data": {
            "text/plain": [
              "0    549\n",
              "1    342\n",
              "Name: survived, dtype: int64"
            ]
          },
          "metadata": {},
          "execution_count": 9
        }
      ]
    },
    {
      "cell_type": "markdown",
      "metadata": {
        "id": "I6SXChAUhSYS"
      },
      "source": [
        "**0: 사망, 1: 생존** 으로 변경하도록 하겠습니다."
      ]
    },
    {
      "cell_type": "code",
      "metadata": {
        "id": "i0zb7NmJhSYS",
        "colab": {
          "base_uri": "https://localhost:8080/",
          "height": 224
        },
        "outputId": "ee025966-e039-4449-f5e2-03bcbe75dbc0"
      },
      "source": [
        "df.head()"
      ],
      "execution_count": 10,
      "outputs": [
        {
          "output_type": "execute_result",
          "data": {
            "text/html": [
              "<div>\n",
              "<style scoped>\n",
              "    .dataframe tbody tr th:only-of-type {\n",
              "        vertical-align: middle;\n",
              "    }\n",
              "\n",
              "    .dataframe tbody tr th {\n",
              "        vertical-align: top;\n",
              "    }\n",
              "\n",
              "    .dataframe thead th {\n",
              "        text-align: right;\n",
              "    }\n",
              "</style>\n",
              "<table border=\"1\" class=\"dataframe\">\n",
              "  <thead>\n",
              "    <tr style=\"text-align: right;\">\n",
              "      <th></th>\n",
              "      <th>survived</th>\n",
              "      <th>pclass</th>\n",
              "      <th>sex</th>\n",
              "      <th>age</th>\n",
              "      <th>sibsp</th>\n",
              "      <th>parch</th>\n",
              "      <th>fare</th>\n",
              "      <th>embarked</th>\n",
              "      <th>class</th>\n",
              "      <th>who</th>\n",
              "      <th>adult_male</th>\n",
              "      <th>deck</th>\n",
              "      <th>embark_town</th>\n",
              "      <th>alive</th>\n",
              "      <th>alone</th>\n",
              "    </tr>\n",
              "  </thead>\n",
              "  <tbody>\n",
              "    <tr>\n",
              "      <th>0</th>\n",
              "      <td>0</td>\n",
              "      <td>3</td>\n",
              "      <td>male</td>\n",
              "      <td>22.0</td>\n",
              "      <td>1</td>\n",
              "      <td>0</td>\n",
              "      <td>7.2500</td>\n",
              "      <td>S</td>\n",
              "      <td>Third</td>\n",
              "      <td>man</td>\n",
              "      <td>True</td>\n",
              "      <td>NaN</td>\n",
              "      <td>Southampton</td>\n",
              "      <td>no</td>\n",
              "      <td>False</td>\n",
              "    </tr>\n",
              "    <tr>\n",
              "      <th>1</th>\n",
              "      <td>1</td>\n",
              "      <td>1</td>\n",
              "      <td>female</td>\n",
              "      <td>38.0</td>\n",
              "      <td>1</td>\n",
              "      <td>0</td>\n",
              "      <td>71.2833</td>\n",
              "      <td>C</td>\n",
              "      <td>First</td>\n",
              "      <td>woman</td>\n",
              "      <td>False</td>\n",
              "      <td>C</td>\n",
              "      <td>Cherbourg</td>\n",
              "      <td>yes</td>\n",
              "      <td>False</td>\n",
              "    </tr>\n",
              "    <tr>\n",
              "      <th>2</th>\n",
              "      <td>1</td>\n",
              "      <td>3</td>\n",
              "      <td>female</td>\n",
              "      <td>26.0</td>\n",
              "      <td>0</td>\n",
              "      <td>0</td>\n",
              "      <td>7.9250</td>\n",
              "      <td>S</td>\n",
              "      <td>Third</td>\n",
              "      <td>woman</td>\n",
              "      <td>False</td>\n",
              "      <td>NaN</td>\n",
              "      <td>Southampton</td>\n",
              "      <td>yes</td>\n",
              "      <td>True</td>\n",
              "    </tr>\n",
              "    <tr>\n",
              "      <th>3</th>\n",
              "      <td>1</td>\n",
              "      <td>1</td>\n",
              "      <td>female</td>\n",
              "      <td>35.0</td>\n",
              "      <td>1</td>\n",
              "      <td>0</td>\n",
              "      <td>53.1000</td>\n",
              "      <td>S</td>\n",
              "      <td>First</td>\n",
              "      <td>woman</td>\n",
              "      <td>False</td>\n",
              "      <td>C</td>\n",
              "      <td>Southampton</td>\n",
              "      <td>yes</td>\n",
              "      <td>False</td>\n",
              "    </tr>\n",
              "    <tr>\n",
              "      <th>4</th>\n",
              "      <td>0</td>\n",
              "      <td>3</td>\n",
              "      <td>male</td>\n",
              "      <td>35.0</td>\n",
              "      <td>0</td>\n",
              "      <td>0</td>\n",
              "      <td>8.0500</td>\n",
              "      <td>S</td>\n",
              "      <td>Third</td>\n",
              "      <td>man</td>\n",
              "      <td>True</td>\n",
              "      <td>NaN</td>\n",
              "      <td>Southampton</td>\n",
              "      <td>no</td>\n",
              "      <td>True</td>\n",
              "    </tr>\n",
              "  </tbody>\n",
              "</table>\n",
              "</div>"
            ],
            "text/plain": [
              "   survived  pclass     sex   age  ...  deck  embark_town  alive  alone\n",
              "0         0       3    male  22.0  ...   NaN  Southampton     no  False\n",
              "1         1       1  female  38.0  ...     C    Cherbourg    yes  False\n",
              "2         1       3  female  26.0  ...   NaN  Southampton    yes   True\n",
              "3         1       1  female  35.0  ...     C  Southampton    yes  False\n",
              "4         0       3    male  35.0  ...   NaN  Southampton     no   True\n",
              "\n",
              "[5 rows x 15 columns]"
            ]
          },
          "metadata": {},
          "execution_count": 10
        }
      ]
    },
    {
      "cell_type": "code",
      "metadata": {
        "id": "FX0ZeHAXhSYS",
        "colab": {
          "base_uri": "https://localhost:8080/"
        },
        "outputId": "7450c2bf-af4b-4c22-a781-bf7e074fcb65"
      },
      "source": [
        "# lambda 함수를 사용하여 df의 'survived' 컬럼에 대해 \n",
        "# x가 1 이면 '생존' 0이면 '사망' 으로 변경해 봅니다.\n",
        "df['survived'].apply(lambda x: '생존' if x == 1 else  '사망' )"
      ],
      "execution_count": 11,
      "outputs": [
        {
          "output_type": "execute_result",
          "data": {
            "text/plain": [
              "0      사망\n",
              "1      생존\n",
              "2      생존\n",
              "3      생존\n",
              "4      사망\n",
              "       ..\n",
              "886    사망\n",
              "887    생존\n",
              "888    사망\n",
              "889    생존\n",
              "890    사망\n",
              "Name: survived, Length: 891, dtype: object"
            ]
          },
          "metadata": {},
          "execution_count": 11
        }
      ]
    },
    {
      "cell_type": "code",
      "metadata": {
        "id": "41aXNFdVhSYS",
        "colab": {
          "base_uri": "https://localhost:8080/"
        },
        "outputId": "f5315ded-a7e8-44c7-ffe8-9e94af89272b"
      },
      "source": [
        "# lambda 함수를 사용하여 df의 'survived' 컬럼에 대해 \n",
        "# x가 1 이면 '생존' 0이면 '사망' 으로 변경한 것에 대해 분포를 확인합니다.\n",
        "df['survived'].apply(lambda x: '생존' if x == 1 else  '사망' ).value_counts()"
      ],
      "execution_count": 12,
      "outputs": [
        {
          "output_type": "execute_result",
          "data": {
            "text/plain": [
              "사망    549\n",
              "생존    342\n",
              "Name: survived, dtype: int64"
            ]
          },
          "metadata": {},
          "execution_count": 12
        }
      ]
    },
    {
      "cell_type": "markdown",
      "metadata": {
        "id": "CjqeMKA0Gvzq"
      },
      "source": [
        "## groupby() - 그룹\n",
        "\n",
        "데이터를 특정 기준으로 그룹핑할 때 활용합니다. 엑셀의 피봇테이블과 유사합니다."
      ]
    },
    {
      "cell_type": "code",
      "metadata": {
        "id": "McDsx9P1hSYT",
        "colab": {
          "base_uri": "https://localhost:8080/",
          "height": 224
        },
        "outputId": "27d17746-e243-4ae5-bca7-d1e1ed9628f2"
      },
      "source": [
        "df.head()"
      ],
      "execution_count": 13,
      "outputs": [
        {
          "output_type": "execute_result",
          "data": {
            "text/html": [
              "<div>\n",
              "<style scoped>\n",
              "    .dataframe tbody tr th:only-of-type {\n",
              "        vertical-align: middle;\n",
              "    }\n",
              "\n",
              "    .dataframe tbody tr th {\n",
              "        vertical-align: top;\n",
              "    }\n",
              "\n",
              "    .dataframe thead th {\n",
              "        text-align: right;\n",
              "    }\n",
              "</style>\n",
              "<table border=\"1\" class=\"dataframe\">\n",
              "  <thead>\n",
              "    <tr style=\"text-align: right;\">\n",
              "      <th></th>\n",
              "      <th>survived</th>\n",
              "      <th>pclass</th>\n",
              "      <th>sex</th>\n",
              "      <th>age</th>\n",
              "      <th>sibsp</th>\n",
              "      <th>parch</th>\n",
              "      <th>fare</th>\n",
              "      <th>embarked</th>\n",
              "      <th>class</th>\n",
              "      <th>who</th>\n",
              "      <th>adult_male</th>\n",
              "      <th>deck</th>\n",
              "      <th>embark_town</th>\n",
              "      <th>alive</th>\n",
              "      <th>alone</th>\n",
              "    </tr>\n",
              "  </thead>\n",
              "  <tbody>\n",
              "    <tr>\n",
              "      <th>0</th>\n",
              "      <td>0</td>\n",
              "      <td>3</td>\n",
              "      <td>male</td>\n",
              "      <td>22.0</td>\n",
              "      <td>1</td>\n",
              "      <td>0</td>\n",
              "      <td>7.2500</td>\n",
              "      <td>S</td>\n",
              "      <td>Third</td>\n",
              "      <td>man</td>\n",
              "      <td>True</td>\n",
              "      <td>NaN</td>\n",
              "      <td>Southampton</td>\n",
              "      <td>no</td>\n",
              "      <td>False</td>\n",
              "    </tr>\n",
              "    <tr>\n",
              "      <th>1</th>\n",
              "      <td>1</td>\n",
              "      <td>1</td>\n",
              "      <td>female</td>\n",
              "      <td>38.0</td>\n",
              "      <td>1</td>\n",
              "      <td>0</td>\n",
              "      <td>71.2833</td>\n",
              "      <td>C</td>\n",
              "      <td>First</td>\n",
              "      <td>woman</td>\n",
              "      <td>False</td>\n",
              "      <td>C</td>\n",
              "      <td>Cherbourg</td>\n",
              "      <td>yes</td>\n",
              "      <td>False</td>\n",
              "    </tr>\n",
              "    <tr>\n",
              "      <th>2</th>\n",
              "      <td>1</td>\n",
              "      <td>3</td>\n",
              "      <td>female</td>\n",
              "      <td>26.0</td>\n",
              "      <td>0</td>\n",
              "      <td>0</td>\n",
              "      <td>7.9250</td>\n",
              "      <td>S</td>\n",
              "      <td>Third</td>\n",
              "      <td>woman</td>\n",
              "      <td>False</td>\n",
              "      <td>NaN</td>\n",
              "      <td>Southampton</td>\n",
              "      <td>yes</td>\n",
              "      <td>True</td>\n",
              "    </tr>\n",
              "    <tr>\n",
              "      <th>3</th>\n",
              "      <td>1</td>\n",
              "      <td>1</td>\n",
              "      <td>female</td>\n",
              "      <td>35.0</td>\n",
              "      <td>1</td>\n",
              "      <td>0</td>\n",
              "      <td>53.1000</td>\n",
              "      <td>S</td>\n",
              "      <td>First</td>\n",
              "      <td>woman</td>\n",
              "      <td>False</td>\n",
              "      <td>C</td>\n",
              "      <td>Southampton</td>\n",
              "      <td>yes</td>\n",
              "      <td>False</td>\n",
              "    </tr>\n",
              "    <tr>\n",
              "      <th>4</th>\n",
              "      <td>0</td>\n",
              "      <td>3</td>\n",
              "      <td>male</td>\n",
              "      <td>35.0</td>\n",
              "      <td>0</td>\n",
              "      <td>0</td>\n",
              "      <td>8.0500</td>\n",
              "      <td>S</td>\n",
              "      <td>Third</td>\n",
              "      <td>man</td>\n",
              "      <td>True</td>\n",
              "      <td>NaN</td>\n",
              "      <td>Southampton</td>\n",
              "      <td>no</td>\n",
              "      <td>True</td>\n",
              "    </tr>\n",
              "  </tbody>\n",
              "</table>\n",
              "</div>"
            ],
            "text/plain": [
              "   survived  pclass     sex   age  ...  deck  embark_town  alive  alone\n",
              "0         0       3    male  22.0  ...   NaN  Southampton     no  False\n",
              "1         1       1  female  38.0  ...     C    Cherbourg    yes  False\n",
              "2         1       3  female  26.0  ...   NaN  Southampton    yes   True\n",
              "3         1       1  female  35.0  ...     C  Southampton    yes  False\n",
              "4         0       3    male  35.0  ...   NaN  Southampton     no   True\n",
              "\n",
              "[5 rows x 15 columns]"
            ]
          },
          "metadata": {},
          "execution_count": 13
        }
      ]
    },
    {
      "cell_type": "markdown",
      "metadata": {
        "id": "hJnNDHV6oFHz"
      },
      "source": [
        "![image.png](data:image/png;base64,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)"
      ]
    },
    {
      "cell_type": "markdown",
      "metadata": {
        "id": "6_isAbHUhSYT"
      },
      "source": [
        "타이타닉 호의 생존자와 사망자를 **성별** 기준으로 그룹핑하여 **평균**을 살펴보겠습니다."
      ]
    },
    {
      "cell_type": "code",
      "metadata": {
        "id": "xNYXOkSGhSYT",
        "colab": {
          "base_uri": "https://localhost:8080/",
          "height": 142
        },
        "outputId": "4626f26b-1a3f-47c6-fd7e-382989c0cb81"
      },
      "source": [
        "# df의 'sex' 그룹별로 평균을 구합니다\n",
        "df.groupby(by='sex').mean()"
      ],
      "execution_count": 15,
      "outputs": [
        {
          "output_type": "execute_result",
          "data": {
            "text/html": [
              "<div>\n",
              "<style scoped>\n",
              "    .dataframe tbody tr th:only-of-type {\n",
              "        vertical-align: middle;\n",
              "    }\n",
              "\n",
              "    .dataframe tbody tr th {\n",
              "        vertical-align: top;\n",
              "    }\n",
              "\n",
              "    .dataframe thead th {\n",
              "        text-align: right;\n",
              "    }\n",
              "</style>\n",
              "<table border=\"1\" class=\"dataframe\">\n",
              "  <thead>\n",
              "    <tr style=\"text-align: right;\">\n",
              "      <th></th>\n",
              "      <th>survived</th>\n",
              "      <th>pclass</th>\n",
              "      <th>age</th>\n",
              "      <th>sibsp</th>\n",
              "      <th>parch</th>\n",
              "      <th>fare</th>\n",
              "      <th>adult_male</th>\n",
              "      <th>alone</th>\n",
              "    </tr>\n",
              "    <tr>\n",
              "      <th>sex</th>\n",
              "      <th></th>\n",
              "      <th></th>\n",
              "      <th></th>\n",
              "      <th></th>\n",
              "      <th></th>\n",
              "      <th></th>\n",
              "      <th></th>\n",
              "      <th></th>\n",
              "    </tr>\n",
              "  </thead>\n",
              "  <tbody>\n",
              "    <tr>\n",
              "      <th>female</th>\n",
              "      <td>0.742038</td>\n",
              "      <td>2.159236</td>\n",
              "      <td>27.915709</td>\n",
              "      <td>0.694268</td>\n",
              "      <td>0.649682</td>\n",
              "      <td>44.479818</td>\n",
              "      <td>0.000000</td>\n",
              "      <td>0.401274</td>\n",
              "    </tr>\n",
              "    <tr>\n",
              "      <th>male</th>\n",
              "      <td>0.188908</td>\n",
              "      <td>2.389948</td>\n",
              "      <td>30.726645</td>\n",
              "      <td>0.429809</td>\n",
              "      <td>0.235702</td>\n",
              "      <td>25.523893</td>\n",
              "      <td>0.930676</td>\n",
              "      <td>0.712305</td>\n",
              "    </tr>\n",
              "  </tbody>\n",
              "</table>\n",
              "</div>"
            ],
            "text/plain": [
              "        survived    pclass        age  ...       fare  adult_male     alone\n",
              "sex                                    ...                                 \n",
              "female  0.742038  2.159236  27.915709  ...  44.479818    0.000000  0.401274\n",
              "male    0.188908  2.389948  30.726645  ...  25.523893    0.930676  0.712305\n",
              "\n",
              "[2 rows x 8 columns]"
            ]
          },
          "metadata": {},
          "execution_count": 15
        }
      ]
    },
    {
      "cell_type": "code",
      "metadata": {
        "colab": {
          "base_uri": "https://localhost:8080/"
        },
        "id": "DUqbukxxoidd",
        "outputId": "da057b62-4208-45a8-cbb0-11728150b895"
      },
      "source": [
        "a = df.groupby(by='sex')\n",
        "for x in a:\n",
        "    print(x)"
      ],
      "execution_count": 16,
      "outputs": [
        {
          "output_type": "stream",
          "text": [
            "('female',      survived  pclass     sex   age  ...  deck  embark_town  alive  alone\n",
            "1           1       1  female  38.0  ...     C    Cherbourg    yes  False\n",
            "2           1       3  female  26.0  ...   NaN  Southampton    yes   True\n",
            "3           1       1  female  35.0  ...     C  Southampton    yes  False\n",
            "8           1       3  female  27.0  ...   NaN  Southampton    yes  False\n",
            "9           1       2  female  14.0  ...   NaN    Cherbourg    yes  False\n",
            "..        ...     ...     ...   ...  ...   ...          ...    ...    ...\n",
            "880         1       2  female  25.0  ...   NaN  Southampton    yes  False\n",
            "882         0       3  female  22.0  ...   NaN  Southampton     no   True\n",
            "885         0       3  female  39.0  ...   NaN   Queenstown     no  False\n",
            "887         1       1  female  19.0  ...     B  Southampton    yes   True\n",
            "888         0       3  female   NaN  ...   NaN  Southampton     no  False\n",
            "\n",
            "[314 rows x 15 columns])\n",
            "('male',      survived  pclass   sex   age  ...  deck  embark_town  alive  alone\n",
            "0           0       3  male  22.0  ...   NaN  Southampton     no  False\n",
            "4           0       3  male  35.0  ...   NaN  Southampton     no   True\n",
            "5           0       3  male   NaN  ...   NaN   Queenstown     no   True\n",
            "6           0       1  male  54.0  ...     E  Southampton     no   True\n",
            "7           0       3  male   2.0  ...   NaN  Southampton     no  False\n",
            "..        ...     ...   ...   ...  ...   ...          ...    ...    ...\n",
            "883         0       2  male  28.0  ...   NaN  Southampton     no   True\n",
            "884         0       3  male  25.0  ...   NaN  Southampton     no   True\n",
            "886         0       2  male  27.0  ...   NaN  Southampton     no   True\n",
            "889         1       1  male  26.0  ...     C    Cherbourg    yes   True\n",
            "890         0       3  male  32.0  ...   NaN   Queenstown     no   True\n",
            "\n",
            "[577 rows x 15 columns])\n"
          ],
          "name": "stdout"
        }
      ]
    },
    {
      "cell_type": "markdown",
      "metadata": {
        "id": "T7e9RQslhSYT"
      },
      "source": [
        "`groupby()`를 사용할 때는 반드시 aggregate 하는 **통계함수와 일반적으로 같이 적용**합니다."
      ]
    },
    {
      "cell_type": "markdown",
      "metadata": {
        "id": "BFJlVLIjGvzs",
        "outputId": "1bc10bc9-a961-4d5d-e0b2-51d0e1581693"
      },
      "source": [
        "### 2개 이상의 컬럼으로 그룹\n",
        "\n",
        "2개 이상의 컬럼으로 그룹핑할 때도 list로 묶어서 지정하면 됩니다."
      ]
    },
    {
      "cell_type": "code",
      "metadata": {
        "id": "C2tlP9ClhSYT",
        "outputId": "8efed91f-1203-4dd2-c44a-0edca33ebd7c"
      },
      "source": [
        "# df의 'sex', 'pclass' (성별, 좌석등급) 별 평균을 구합니다\n",
        "df.groupby(['sex', 'pclass']).mean()"
      ],
      "execution_count": null,
      "outputs": [
        {
          "data": {
            "text/html": [
              "<div>\n",
              "<style scoped>\n",
              "    .dataframe tbody tr th:only-of-type {\n",
              "        vertical-align: middle;\n",
              "    }\n",
              "\n",
              "    .dataframe tbody tr th {\n",
              "        vertical-align: top;\n",
              "    }\n",
              "\n",
              "    .dataframe thead th {\n",
              "        text-align: right;\n",
              "    }\n",
              "</style>\n",
              "<table border=\"1\" class=\"dataframe\">\n",
              "  <thead>\n",
              "    <tr style=\"text-align: right;\">\n",
              "      <th></th>\n",
              "      <th></th>\n",
              "      <th>survived</th>\n",
              "      <th>age</th>\n",
              "      <th>sibsp</th>\n",
              "      <th>parch</th>\n",
              "      <th>fare</th>\n",
              "      <th>adult_male</th>\n",
              "      <th>alone</th>\n",
              "    </tr>\n",
              "    <tr>\n",
              "      <th>sex</th>\n",
              "      <th>pclass</th>\n",
              "      <th></th>\n",
              "      <th></th>\n",
              "      <th></th>\n",
              "      <th></th>\n",
              "      <th></th>\n",
              "      <th></th>\n",
              "      <th></th>\n",
              "    </tr>\n",
              "  </thead>\n",
              "  <tbody>\n",
              "    <tr>\n",
              "      <th rowspan=\"3\" valign=\"top\">female</th>\n",
              "      <th>1</th>\n",
              "      <td>0.968085</td>\n",
              "      <td>34.611765</td>\n",
              "      <td>0.553191</td>\n",
              "      <td>0.457447</td>\n",
              "      <td>106.125798</td>\n",
              "      <td>0.000000</td>\n",
              "      <td>0.361702</td>\n",
              "    </tr>\n",
              "    <tr>\n",
              "      <th>2</th>\n",
              "      <td>0.921053</td>\n",
              "      <td>28.722973</td>\n",
              "      <td>0.486842</td>\n",
              "      <td>0.605263</td>\n",
              "      <td>21.970121</td>\n",
              "      <td>0.000000</td>\n",
              "      <td>0.421053</td>\n",
              "    </tr>\n",
              "    <tr>\n",
              "      <th>3</th>\n",
              "      <td>0.500000</td>\n",
              "      <td>21.750000</td>\n",
              "      <td>0.895833</td>\n",
              "      <td>0.798611</td>\n",
              "      <td>16.118810</td>\n",
              "      <td>0.000000</td>\n",
              "      <td>0.416667</td>\n",
              "    </tr>\n",
              "    <tr>\n",
              "      <th rowspan=\"3\" valign=\"top\">male</th>\n",
              "      <th>1</th>\n",
              "      <td>0.368852</td>\n",
              "      <td>41.281386</td>\n",
              "      <td>0.311475</td>\n",
              "      <td>0.278689</td>\n",
              "      <td>67.226127</td>\n",
              "      <td>0.975410</td>\n",
              "      <td>0.614754</td>\n",
              "    </tr>\n",
              "    <tr>\n",
              "      <th>2</th>\n",
              "      <td>0.157407</td>\n",
              "      <td>30.740707</td>\n",
              "      <td>0.342593</td>\n",
              "      <td>0.222222</td>\n",
              "      <td>19.741782</td>\n",
              "      <td>0.916667</td>\n",
              "      <td>0.666667</td>\n",
              "    </tr>\n",
              "    <tr>\n",
              "      <th>3</th>\n",
              "      <td>0.135447</td>\n",
              "      <td>26.507589</td>\n",
              "      <td>0.498559</td>\n",
              "      <td>0.224784</td>\n",
              "      <td>12.661633</td>\n",
              "      <td>0.919308</td>\n",
              "      <td>0.760807</td>\n",
              "    </tr>\n",
              "  </tbody>\n",
              "</table>\n",
              "</div>"
            ],
            "text/plain": [
              "               survived        age     sibsp     parch        fare  \\\n",
              "sex    pclass                                                        \n",
              "female 1       0.968085  34.611765  0.553191  0.457447  106.125798   \n",
              "       2       0.921053  28.722973  0.486842  0.605263   21.970121   \n",
              "       3       0.500000  21.750000  0.895833  0.798611   16.118810   \n",
              "male   1       0.368852  41.281386  0.311475  0.278689   67.226127   \n",
              "       2       0.157407  30.740707  0.342593  0.222222   19.741782   \n",
              "       3       0.135447  26.507589  0.498559  0.224784   12.661633   \n",
              "\n",
              "               adult_male     alone  \n",
              "sex    pclass                        \n",
              "female 1         0.000000  0.361702  \n",
              "       2         0.000000  0.421053  \n",
              "       3         0.000000  0.416667  \n",
              "male   1         0.975410  0.614754  \n",
              "       2         0.916667  0.666667  \n",
              "       3         0.919308  0.760807  "
            ]
          },
          "execution_count": 14,
          "metadata": {},
          "output_type": "execute_result"
        }
      ]
    },
    {
      "cell_type": "markdown",
      "metadata": {
        "id": "z09kRwJMhSYT"
      },
      "source": [
        "### 1개의 특정 컬럼에 대한 결과 도출"
      ]
    },
    {
      "cell_type": "markdown",
      "metadata": {
        "id": "Ay77NvtkhSYT"
      },
      "source": [
        "우리의 주요 관심사는 `survived` 컬럼입니다. 만약 `survived`컬럼에 대한 결과만 도출하고 싶다면 컬럼을 맨 끝에 지정합니다."
      ]
    },
    {
      "cell_type": "code",
      "metadata": {
        "id": "DTETIZ3chSYU",
        "colab": {
          "base_uri": "https://localhost:8080/"
        },
        "outputId": "21c086d8-2176-4571-ed6a-214354563609"
      },
      "source": [
        "# df의 'sex', 'pclass' (성별, 좌석등급) 별 'survived' 컬럼에 대한 평균 구하기 - 결과 Series\n",
        "df.groupby(['sex', 'pclass'])['survived'].mean() "
      ],
      "execution_count": 18,
      "outputs": [
        {
          "output_type": "execute_result",
          "data": {
            "text/plain": [
              "sex     pclass\n",
              "female  1         0.968085\n",
              "        2         0.921053\n",
              "        3         0.500000\n",
              "male    1         0.368852\n",
              "        2         0.157407\n",
              "        3         0.135447\n",
              "Name: survived, dtype: float64"
            ]
          },
          "metadata": {},
          "execution_count": 18
        }
      ]
    },
    {
      "cell_type": "markdown",
      "metadata": {
        "id": "vLt-ElGOhSYU"
      },
      "source": [
        "예쁘게 출력하려면 `pd.DataFrame()`으로 감싸주면 됩니다."
      ]
    },
    {
      "cell_type": "code",
      "metadata": {
        "id": "xzmVnuz-hSYU",
        "colab": {
          "base_uri": "https://localhost:8080/",
          "height": 266
        },
        "outputId": "cfe48f81-d720-46c1-c90a-09790497c485"
      },
      "source": [
        "# df의 'sex', 'pclass' (성별, 좌석등급) 별 'survived' 컬럼에 대한 평균 구하기 - 결과 DataFrame\n",
        "pd.DataFrame(df.groupby(['sex', 'pclass'])['survived'].mean())"
      ],
      "execution_count": 20,
      "outputs": [
        {
          "output_type": "execute_result",
          "data": {
            "text/html": [
              "<div>\n",
              "<style scoped>\n",
              "    .dataframe tbody tr th:only-of-type {\n",
              "        vertical-align: middle;\n",
              "    }\n",
              "\n",
              "    .dataframe tbody tr th {\n",
              "        vertical-align: top;\n",
              "    }\n",
              "\n",
              "    .dataframe thead th {\n",
              "        text-align: right;\n",
              "    }\n",
              "</style>\n",
              "<table border=\"1\" class=\"dataframe\">\n",
              "  <thead>\n",
              "    <tr style=\"text-align: right;\">\n",
              "      <th></th>\n",
              "      <th></th>\n",
              "      <th>survived</th>\n",
              "    </tr>\n",
              "    <tr>\n",
              "      <th>sex</th>\n",
              "      <th>pclass</th>\n",
              "      <th></th>\n",
              "    </tr>\n",
              "  </thead>\n",
              "  <tbody>\n",
              "    <tr>\n",
              "      <th rowspan=\"3\" valign=\"top\">female</th>\n",
              "      <th>1</th>\n",
              "      <td>0.968085</td>\n",
              "    </tr>\n",
              "    <tr>\n",
              "      <th>2</th>\n",
              "      <td>0.921053</td>\n",
              "    </tr>\n",
              "    <tr>\n",
              "      <th>3</th>\n",
              "      <td>0.500000</td>\n",
              "    </tr>\n",
              "    <tr>\n",
              "      <th rowspan=\"3\" valign=\"top\">male</th>\n",
              "      <th>1</th>\n",
              "      <td>0.368852</td>\n",
              "    </tr>\n",
              "    <tr>\n",
              "      <th>2</th>\n",
              "      <td>0.157407</td>\n",
              "    </tr>\n",
              "    <tr>\n",
              "      <th>3</th>\n",
              "      <td>0.135447</td>\n",
              "    </tr>\n",
              "  </tbody>\n",
              "</table>\n",
              "</div>"
            ],
            "text/plain": [
              "               survived\n",
              "sex    pclass          \n",
              "female 1       0.968085\n",
              "       2       0.921053\n",
              "       3       0.500000\n",
              "male   1       0.368852\n",
              "       2       0.157407\n",
              "       3       0.135447"
            ]
          },
          "metadata": {},
          "execution_count": 20
        }
      ]
    },
    {
      "cell_type": "code",
      "metadata": {
        "colab": {
          "base_uri": "https://localhost:8080/",
          "height": 266
        },
        "id": "1VW-GGLQpGFp",
        "outputId": "2fbbd725-6c1a-48f0-8d61-e2fc74f0c782"
      },
      "source": [
        "df.groupby(['sex', 'pclass'])[['survived']].mean() # 괄호 [] 한번 더묶어도 가능"
      ],
      "execution_count": 21,
      "outputs": [
        {
          "output_type": "execute_result",
          "data": {
            "text/html": [
              "<div>\n",
              "<style scoped>\n",
              "    .dataframe tbody tr th:only-of-type {\n",
              "        vertical-align: middle;\n",
              "    }\n",
              "\n",
              "    .dataframe tbody tr th {\n",
              "        vertical-align: top;\n",
              "    }\n",
              "\n",
              "    .dataframe thead th {\n",
              "        text-align: right;\n",
              "    }\n",
              "</style>\n",
              "<table border=\"1\" class=\"dataframe\">\n",
              "  <thead>\n",
              "    <tr style=\"text-align: right;\">\n",
              "      <th></th>\n",
              "      <th></th>\n",
              "      <th>survived</th>\n",
              "    </tr>\n",
              "    <tr>\n",
              "      <th>sex</th>\n",
              "      <th>pclass</th>\n",
              "      <th></th>\n",
              "    </tr>\n",
              "  </thead>\n",
              "  <tbody>\n",
              "    <tr>\n",
              "      <th rowspan=\"3\" valign=\"top\">female</th>\n",
              "      <th>1</th>\n",
              "      <td>0.968085</td>\n",
              "    </tr>\n",
              "    <tr>\n",
              "      <th>2</th>\n",
              "      <td>0.921053</td>\n",
              "    </tr>\n",
              "    <tr>\n",
              "      <th>3</th>\n",
              "      <td>0.500000</td>\n",
              "    </tr>\n",
              "    <tr>\n",
              "      <th rowspan=\"3\" valign=\"top\">male</th>\n",
              "      <th>1</th>\n",
              "      <td>0.368852</td>\n",
              "    </tr>\n",
              "    <tr>\n",
              "      <th>2</th>\n",
              "      <td>0.157407</td>\n",
              "    </tr>\n",
              "    <tr>\n",
              "      <th>3</th>\n",
              "      <td>0.135447</td>\n",
              "    </tr>\n",
              "  </tbody>\n",
              "</table>\n",
              "</div>"
            ],
            "text/plain": [
              "               survived\n",
              "sex    pclass          \n",
              "female 1       0.968085\n",
              "       2       0.921053\n",
              "       3       0.500000\n",
              "male   1       0.368852\n",
              "       2       0.157407\n",
              "       3       0.135447"
            ]
          },
          "metadata": {},
          "execution_count": 21
        }
      ]
    },
    {
      "cell_type": "markdown",
      "metadata": {
        "id": "IrTzKdo2hSYU"
      },
      "source": [
        "인덱스 초기화 `reset_index()`: 그룹핑된 데이터프레임의 **index를 초기화**하여 새로운 데이터프레임을 생성합니다."
      ]
    },
    {
      "cell_type": "code",
      "metadata": {
        "id": "2s07BVkVhSYU",
        "colab": {
          "base_uri": "https://localhost:8080/",
          "height": 266
        },
        "outputId": "a7837082-d9b0-4602-dc61-dcb265d5af9f"
      },
      "source": [
        "# df의 'sex', 'pclass' (성별, 좌석등급) 별 'survived' 컬럼에 대한 평균을 구한 뒤,\n",
        "# index 초기화 (index를 column으로 사용되도록 함)\n",
        "temp = df.groupby(by=['sex', 'pclass'])[['survived']].mean().reset_index()\n",
        "temp.set_index(['sex', 'pclass'])"
      ],
      "execution_count": 25,
      "outputs": [
        {
          "output_type": "execute_result",
          "data": {
            "text/html": [
              "<div>\n",
              "<style scoped>\n",
              "    .dataframe tbody tr th:only-of-type {\n",
              "        vertical-align: middle;\n",
              "    }\n",
              "\n",
              "    .dataframe tbody tr th {\n",
              "        vertical-align: top;\n",
              "    }\n",
              "\n",
              "    .dataframe thead th {\n",
              "        text-align: right;\n",
              "    }\n",
              "</style>\n",
              "<table border=\"1\" class=\"dataframe\">\n",
              "  <thead>\n",
              "    <tr style=\"text-align: right;\">\n",
              "      <th></th>\n",
              "      <th></th>\n",
              "      <th>survived</th>\n",
              "    </tr>\n",
              "    <tr>\n",
              "      <th>sex</th>\n",
              "      <th>pclass</th>\n",
              "      <th></th>\n",
              "    </tr>\n",
              "  </thead>\n",
              "  <tbody>\n",
              "    <tr>\n",
              "      <th rowspan=\"3\" valign=\"top\">female</th>\n",
              "      <th>1</th>\n",
              "      <td>0.968085</td>\n",
              "    </tr>\n",
              "    <tr>\n",
              "      <th>2</th>\n",
              "      <td>0.921053</td>\n",
              "    </tr>\n",
              "    <tr>\n",
              "      <th>3</th>\n",
              "      <td>0.500000</td>\n",
              "    </tr>\n",
              "    <tr>\n",
              "      <th rowspan=\"3\" valign=\"top\">male</th>\n",
              "      <th>1</th>\n",
              "      <td>0.368852</td>\n",
              "    </tr>\n",
              "    <tr>\n",
              "      <th>2</th>\n",
              "      <td>0.157407</td>\n",
              "    </tr>\n",
              "    <tr>\n",
              "      <th>3</th>\n",
              "      <td>0.135447</td>\n",
              "    </tr>\n",
              "  </tbody>\n",
              "</table>\n",
              "</div>"
            ],
            "text/plain": [
              "               survived\n",
              "sex    pclass          \n",
              "female 1       0.968085\n",
              "       2       0.921053\n",
              "       3       0.500000\n",
              "male   1       0.368852\n",
              "       2       0.157407\n",
              "       3       0.135447"
            ]
          },
          "metadata": {},
          "execution_count": 25
        }
      ]
    },
    {
      "cell_type": "markdown",
      "metadata": {
        "id": "7-j6i7PVhSYU"
      },
      "source": [
        "### 다중 컬럼에 대한 결과 도출\n",
        "\n",
        "끝에 단일 컬럼이 아닌 여러 개의 컬럼을 지정합니다."
      ]
    },
    {
      "cell_type": "code",
      "metadata": {
        "id": "SuTo-gRahSYU",
        "colab": {
          "base_uri": "https://localhost:8080/",
          "height": 266
        },
        "outputId": "8c342e95-3b66-4e93-9efb-959e9516f069"
      },
      "source": [
        "# df의 'sex', 'pclass' (성별, 좌석등급) 별 'survived', 'age' 컬럼에 대한 평균\n",
        "df.groupby(by=['sex', 'pclass'])[['survived', 'age']].mean()"
      ],
      "execution_count": 27,
      "outputs": [
        {
          "output_type": "execute_result",
          "data": {
            "text/html": [
              "<div>\n",
              "<style scoped>\n",
              "    .dataframe tbody tr th:only-of-type {\n",
              "        vertical-align: middle;\n",
              "    }\n",
              "\n",
              "    .dataframe tbody tr th {\n",
              "        vertical-align: top;\n",
              "    }\n",
              "\n",
              "    .dataframe thead th {\n",
              "        text-align: right;\n",
              "    }\n",
              "</style>\n",
              "<table border=\"1\" class=\"dataframe\">\n",
              "  <thead>\n",
              "    <tr style=\"text-align: right;\">\n",
              "      <th></th>\n",
              "      <th></th>\n",
              "      <th>survived</th>\n",
              "      <th>age</th>\n",
              "    </tr>\n",
              "    <tr>\n",
              "      <th>sex</th>\n",
              "      <th>pclass</th>\n",
              "      <th></th>\n",
              "      <th></th>\n",
              "    </tr>\n",
              "  </thead>\n",
              "  <tbody>\n",
              "    <tr>\n",
              "      <th rowspan=\"3\" valign=\"top\">female</th>\n",
              "      <th>1</th>\n",
              "      <td>0.968085</td>\n",
              "      <td>34.611765</td>\n",
              "    </tr>\n",
              "    <tr>\n",
              "      <th>2</th>\n",
              "      <td>0.921053</td>\n",
              "      <td>28.722973</td>\n",
              "    </tr>\n",
              "    <tr>\n",
              "      <th>3</th>\n",
              "      <td>0.500000</td>\n",
              "      <td>21.750000</td>\n",
              "    </tr>\n",
              "    <tr>\n",
              "      <th rowspan=\"3\" valign=\"top\">male</th>\n",
              "      <th>1</th>\n",
              "      <td>0.368852</td>\n",
              "      <td>41.281386</td>\n",
              "    </tr>\n",
              "    <tr>\n",
              "      <th>2</th>\n",
              "      <td>0.157407</td>\n",
              "      <td>30.740707</td>\n",
              "    </tr>\n",
              "    <tr>\n",
              "      <th>3</th>\n",
              "      <td>0.135447</td>\n",
              "      <td>26.507589</td>\n",
              "    </tr>\n",
              "  </tbody>\n",
              "</table>\n",
              "</div>"
            ],
            "text/plain": [
              "               survived        age\n",
              "sex    pclass                     \n",
              "female 1       0.968085  34.611765\n",
              "       2       0.921053  28.722973\n",
              "       3       0.500000  21.750000\n",
              "male   1       0.368852  41.281386\n",
              "       2       0.157407  30.740707\n",
              "       3       0.135447  26.507589"
            ]
          },
          "metadata": {},
          "execution_count": 27
        }
      ]
    },
    {
      "cell_type": "markdown",
      "metadata": {
        "id": "i4Y7KPVlhSYU"
      },
      "source": [
        "### 다중 통계 함수 적용\n",
        "\n",
        "여러 가지의 통계 값을 적용할 때는 `agg()`를 사용합니다."
      ]
    },
    {
      "cell_type": "code",
      "metadata": {
        "id": "PupOC7v5hSYU",
        "colab": {
          "base_uri": "https://localhost:8080/",
          "height": 297
        },
        "outputId": "050c58e2-ccfd-40a5-bf39-2e0da7b3f966"
      },
      "source": [
        "# df의 'sex', 'pclass' (성별, 좌석등급) 별 'survived', 'age' 컬럼에 대한 평균과 합계 \n",
        "# ('mean', 'sum') 사용\n",
        "df.groupby(by=['sex', 'pclass'])[['survived', 'age']].agg(['mean', 'sum'])"
      ],
      "execution_count": 28,
      "outputs": [
        {
          "output_type": "execute_result",
          "data": {
            "text/html": [
              "<div>\n",
              "<style scoped>\n",
              "    .dataframe tbody tr th:only-of-type {\n",
              "        vertical-align: middle;\n",
              "    }\n",
              "\n",
              "    .dataframe tbody tr th {\n",
              "        vertical-align: top;\n",
              "    }\n",
              "\n",
              "    .dataframe thead tr th {\n",
              "        text-align: left;\n",
              "    }\n",
              "\n",
              "    .dataframe thead tr:last-of-type th {\n",
              "        text-align: right;\n",
              "    }\n",
              "</style>\n",
              "<table border=\"1\" class=\"dataframe\">\n",
              "  <thead>\n",
              "    <tr>\n",
              "      <th></th>\n",
              "      <th></th>\n",
              "      <th colspan=\"2\" halign=\"left\">survived</th>\n",
              "      <th colspan=\"2\" halign=\"left\">age</th>\n",
              "    </tr>\n",
              "    <tr>\n",
              "      <th></th>\n",
              "      <th></th>\n",
              "      <th>mean</th>\n",
              "      <th>sum</th>\n",
              "      <th>mean</th>\n",
              "      <th>sum</th>\n",
              "    </tr>\n",
              "    <tr>\n",
              "      <th>sex</th>\n",
              "      <th>pclass</th>\n",
              "      <th></th>\n",
              "      <th></th>\n",
              "      <th></th>\n",
              "      <th></th>\n",
              "    </tr>\n",
              "  </thead>\n",
              "  <tbody>\n",
              "    <tr>\n",
              "      <th rowspan=\"3\" valign=\"top\">female</th>\n",
              "      <th>1</th>\n",
              "      <td>0.968085</td>\n",
              "      <td>91</td>\n",
              "      <td>34.611765</td>\n",
              "      <td>2942.00</td>\n",
              "    </tr>\n",
              "    <tr>\n",
              "      <th>2</th>\n",
              "      <td>0.921053</td>\n",
              "      <td>70</td>\n",
              "      <td>28.722973</td>\n",
              "      <td>2125.50</td>\n",
              "    </tr>\n",
              "    <tr>\n",
              "      <th>3</th>\n",
              "      <td>0.500000</td>\n",
              "      <td>72</td>\n",
              "      <td>21.750000</td>\n",
              "      <td>2218.50</td>\n",
              "    </tr>\n",
              "    <tr>\n",
              "      <th rowspan=\"3\" valign=\"top\">male</th>\n",
              "      <th>1</th>\n",
              "      <td>0.368852</td>\n",
              "      <td>45</td>\n",
              "      <td>41.281386</td>\n",
              "      <td>4169.42</td>\n",
              "    </tr>\n",
              "    <tr>\n",
              "      <th>2</th>\n",
              "      <td>0.157407</td>\n",
              "      <td>17</td>\n",
              "      <td>30.740707</td>\n",
              "      <td>3043.33</td>\n",
              "    </tr>\n",
              "    <tr>\n",
              "      <th>3</th>\n",
              "      <td>0.135447</td>\n",
              "      <td>47</td>\n",
              "      <td>26.507589</td>\n",
              "      <td>6706.42</td>\n",
              "    </tr>\n",
              "  </tbody>\n",
              "</table>\n",
              "</div>"
            ],
            "text/plain": [
              "               survived            age         \n",
              "                   mean sum       mean      sum\n",
              "sex    pclass                                  \n",
              "female 1       0.968085  91  34.611765  2942.00\n",
              "       2       0.921053  70  28.722973  2125.50\n",
              "       3       0.500000  72  21.750000  2218.50\n",
              "male   1       0.368852  45  41.281386  4169.42\n",
              "       2       0.157407  17  30.740707  3043.33\n",
              "       3       0.135447  47  26.507589  6706.42"
            ]
          },
          "metadata": {},
          "execution_count": 28
        }
      ]
    },
    {
      "cell_type": "markdown",
      "metadata": {
        "id": "vhZFCZ8rhSYV"
      },
      "source": [
        "**numpy 의 통계 함수도 적용 가능**합니다. (결과는 동일합니다)"
      ]
    },
    {
      "cell_type": "code",
      "metadata": {
        "colab": {
          "base_uri": "https://localhost:8080/"
        },
        "id": "74dxH1xDuHM_",
        "outputId": "37753900-68f5-445e-f815-b9a56d740c5c"
      },
      "source": [
        "import numpy as np\n",
        "a = np.array([1,3,5,7,9])\n",
        "func = np.sum\n",
        "func(a)"
      ],
      "execution_count": 29,
      "outputs": [
        {
          "output_type": "execute_result",
          "data": {
            "text/plain": [
              "25"
            ]
          },
          "metadata": {},
          "execution_count": 29
        }
      ]
    },
    {
      "cell_type": "code",
      "metadata": {
        "id": "5Jlqsf8ghSYV",
        "colab": {
          "base_uri": "https://localhost:8080/",
          "height": 297
        },
        "outputId": "afcd0fcb-c239-40d2-d589-fb5dcb5865a0"
      },
      "source": [
        "# df의 'sex', 'pclass' (성별, 좌석등급) 별 'survived', 'age' 컬럼에 대한 평균과 합계 \n",
        "# np.mean, np.sum 사용\n",
        "df.groupby(by=['sex', 'pclass'])[['survived', 'age']].agg([np.mean, np.sum])"
      ],
      "execution_count": 30,
      "outputs": [
        {
          "output_type": "execute_result",
          "data": {
            "text/html": [
              "<div>\n",
              "<style scoped>\n",
              "    .dataframe tbody tr th:only-of-type {\n",
              "        vertical-align: middle;\n",
              "    }\n",
              "\n",
              "    .dataframe tbody tr th {\n",
              "        vertical-align: top;\n",
              "    }\n",
              "\n",
              "    .dataframe thead tr th {\n",
              "        text-align: left;\n",
              "    }\n",
              "\n",
              "    .dataframe thead tr:last-of-type th {\n",
              "        text-align: right;\n",
              "    }\n",
              "</style>\n",
              "<table border=\"1\" class=\"dataframe\">\n",
              "  <thead>\n",
              "    <tr>\n",
              "      <th></th>\n",
              "      <th></th>\n",
              "      <th colspan=\"2\" halign=\"left\">survived</th>\n",
              "      <th colspan=\"2\" halign=\"left\">age</th>\n",
              "    </tr>\n",
              "    <tr>\n",
              "      <th></th>\n",
              "      <th></th>\n",
              "      <th>mean</th>\n",
              "      <th>sum</th>\n",
              "      <th>mean</th>\n",
              "      <th>sum</th>\n",
              "    </tr>\n",
              "    <tr>\n",
              "      <th>sex</th>\n",
              "      <th>pclass</th>\n",
              "      <th></th>\n",
              "      <th></th>\n",
              "      <th></th>\n",
              "      <th></th>\n",
              "    </tr>\n",
              "  </thead>\n",
              "  <tbody>\n",
              "    <tr>\n",
              "      <th rowspan=\"3\" valign=\"top\">female</th>\n",
              "      <th>1</th>\n",
              "      <td>0.968085</td>\n",
              "      <td>91</td>\n",
              "      <td>34.611765</td>\n",
              "      <td>2942.00</td>\n",
              "    </tr>\n",
              "    <tr>\n",
              "      <th>2</th>\n",
              "      <td>0.921053</td>\n",
              "      <td>70</td>\n",
              "      <td>28.722973</td>\n",
              "      <td>2125.50</td>\n",
              "    </tr>\n",
              "    <tr>\n",
              "      <th>3</th>\n",
              "      <td>0.500000</td>\n",
              "      <td>72</td>\n",
              "      <td>21.750000</td>\n",
              "      <td>2218.50</td>\n",
              "    </tr>\n",
              "    <tr>\n",
              "      <th rowspan=\"3\" valign=\"top\">male</th>\n",
              "      <th>1</th>\n",
              "      <td>0.368852</td>\n",
              "      <td>45</td>\n",
              "      <td>41.281386</td>\n",
              "      <td>4169.42</td>\n",
              "    </tr>\n",
              "    <tr>\n",
              "      <th>2</th>\n",
              "      <td>0.157407</td>\n",
              "      <td>17</td>\n",
              "      <td>30.740707</td>\n",
              "      <td>3043.33</td>\n",
              "    </tr>\n",
              "    <tr>\n",
              "      <th>3</th>\n",
              "      <td>0.135447</td>\n",
              "      <td>47</td>\n",
              "      <td>26.507589</td>\n",
              "      <td>6706.42</td>\n",
              "    </tr>\n",
              "  </tbody>\n",
              "</table>\n",
              "</div>"
            ],
            "text/plain": [
              "               survived            age         \n",
              "                   mean sum       mean      sum\n",
              "sex    pclass                                  \n",
              "female 1       0.968085  91  34.611765  2942.00\n",
              "       2       0.921053  70  28.722973  2125.50\n",
              "       3       0.500000  72  21.750000  2218.50\n",
              "male   1       0.368852  45  41.281386  4169.42\n",
              "       2       0.157407  17  30.740707  3043.33\n",
              "       3       0.135447  47  26.507589  6706.42"
            ]
          },
          "metadata": {},
          "execution_count": 30
        }
      ]
    },
    {
      "cell_type": "markdown",
      "metadata": {
        "id": "YjhmdzgZGvz0"
      },
      "source": [
        "## pivot_table()\n",
        "\n",
        "피벗테이블은 엑셀의 피벗과 동작이 유사하며, `groupby()`와도 동작이 유사합니다."
      ]
    },
    {
      "cell_type": "markdown",
      "metadata": {
        "id": "nnd4ePHKhSYV"
      },
      "source": [
        "기본 동작 원리는 `index`, `columns`, `values`를 지정하여 피벗합니다."
      ]
    },
    {
      "cell_type": "markdown",
      "metadata": {
        "id": "IpzyKfywhSYV"
      },
      "source": [
        "### 1개 그룹에 대한 단일 컬럼 결과"
      ]
    },
    {
      "cell_type": "code",
      "metadata": {
        "id": "EOJpXHzHhSYV",
        "colab": {
          "base_uri": "https://localhost:8080/",
          "height": 173
        },
        "outputId": "9d81346b-4228-4b35-a1b9-2094a48035bd"
      },
      "source": [
        "# index로 'who', values로 'survived' 사용한 피벗테이블 생성\n",
        "df.pivot_table(values='survived', index='who')"
      ],
      "execution_count": 31,
      "outputs": [
        {
          "output_type": "execute_result",
          "data": {
            "text/html": [
              "<div>\n",
              "<style scoped>\n",
              "    .dataframe tbody tr th:only-of-type {\n",
              "        vertical-align: middle;\n",
              "    }\n",
              "\n",
              "    .dataframe tbody tr th {\n",
              "        vertical-align: top;\n",
              "    }\n",
              "\n",
              "    .dataframe thead th {\n",
              "        text-align: right;\n",
              "    }\n",
              "</style>\n",
              "<table border=\"1\" class=\"dataframe\">\n",
              "  <thead>\n",
              "    <tr style=\"text-align: right;\">\n",
              "      <th></th>\n",
              "      <th>survived</th>\n",
              "    </tr>\n",
              "    <tr>\n",
              "      <th>who</th>\n",
              "      <th></th>\n",
              "    </tr>\n",
              "  </thead>\n",
              "  <tbody>\n",
              "    <tr>\n",
              "      <th>child</th>\n",
              "      <td>0.590361</td>\n",
              "    </tr>\n",
              "    <tr>\n",
              "      <th>man</th>\n",
              "      <td>0.163873</td>\n",
              "    </tr>\n",
              "    <tr>\n",
              "      <th>woman</th>\n",
              "      <td>0.756458</td>\n",
              "    </tr>\n",
              "  </tbody>\n",
              "</table>\n",
              "</div>"
            ],
            "text/plain": [
              "       survived\n",
              "who            \n",
              "child  0.590361\n",
              "man    0.163873\n",
              "woman  0.756458"
            ]
          },
          "metadata": {},
          "execution_count": 31
        }
      ]
    },
    {
      "cell_type": "code",
      "metadata": {
        "id": "-MWuHJkIhSYV",
        "colab": {
          "base_uri": "https://localhost:8080/",
          "height": 80
        },
        "outputId": "1e05f706-510f-4aaa-ef64-716b74fa937f"
      },
      "source": [
        "# columns에 'who', values로 'survived' 사용한 피벗테이블 생성\n",
        "df.pivot_table(values='survived', columns='who', aggfunc='mean')"
      ],
      "execution_count": 32,
      "outputs": [
        {
          "output_type": "execute_result",
          "data": {
            "text/html": [
              "<div>\n",
              "<style scoped>\n",
              "    .dataframe tbody tr th:only-of-type {\n",
              "        vertical-align: middle;\n",
              "    }\n",
              "\n",
              "    .dataframe tbody tr th {\n",
              "        vertical-align: top;\n",
              "    }\n",
              "\n",
              "    .dataframe thead th {\n",
              "        text-align: right;\n",
              "    }\n",
              "</style>\n",
              "<table border=\"1\" class=\"dataframe\">\n",
              "  <thead>\n",
              "    <tr style=\"text-align: right;\">\n",
              "      <th>who</th>\n",
              "      <th>child</th>\n",
              "      <th>man</th>\n",
              "      <th>woman</th>\n",
              "    </tr>\n",
              "  </thead>\n",
              "  <tbody>\n",
              "    <tr>\n",
              "      <th>survived</th>\n",
              "      <td>0.590361</td>\n",
              "      <td>0.163873</td>\n",
              "      <td>0.756458</td>\n",
              "    </tr>\n",
              "  </tbody>\n",
              "</table>\n",
              "</div>"
            ],
            "text/plain": [
              "who          child       man     woman\n",
              "survived  0.590361  0.163873  0.756458"
            ]
          },
          "metadata": {},
          "execution_count": 32
        }
      ]
    },
    {
      "cell_type": "markdown",
      "metadata": {
        "id": "uN82VR-HhSYV"
      },
      "source": [
        "### 다중 그룹에 대한 단일 컬럼 결과"
      ]
    },
    {
      "cell_type": "code",
      "metadata": {
        "id": "JzYbNyR4hSYV",
        "colab": {
          "base_uri": "https://localhost:8080/",
          "height": 359
        },
        "outputId": "81f1470c-5524-4328-cf1a-eed3b6982545"
      },
      "source": [
        "# index로 'who', 'pclass', values로 'survived' 사용한 피벗테이블 생성\n",
        "# 다중 그룹 지정 시에는 리스트를 사용합니다\n",
        "df.pivot_table(values='survived', index=['who', 'pclass'])\n",
        "#temp = df.pivot_table(index=['who','pclass'], values='survived',aggfunc=lambda x: round(np.mean(x), 2))\n",
        "#temp = round(df.pivot_table(index=['who','pclass'], values='survived',aggfunc='mean'), 2)"
      ],
      "execution_count": 34,
      "outputs": [
        {
          "output_type": "execute_result",
          "data": {
            "text/html": [
              "<div>\n",
              "<style scoped>\n",
              "    .dataframe tbody tr th:only-of-type {\n",
              "        vertical-align: middle;\n",
              "    }\n",
              "\n",
              "    .dataframe tbody tr th {\n",
              "        vertical-align: top;\n",
              "    }\n",
              "\n",
              "    .dataframe thead th {\n",
              "        text-align: right;\n",
              "    }\n",
              "</style>\n",
              "<table border=\"1\" class=\"dataframe\">\n",
              "  <thead>\n",
              "    <tr style=\"text-align: right;\">\n",
              "      <th></th>\n",
              "      <th></th>\n",
              "      <th>survived</th>\n",
              "    </tr>\n",
              "    <tr>\n",
              "      <th>who</th>\n",
              "      <th>pclass</th>\n",
              "      <th></th>\n",
              "    </tr>\n",
              "  </thead>\n",
              "  <tbody>\n",
              "    <tr>\n",
              "      <th rowspan=\"3\" valign=\"top\">child</th>\n",
              "      <th>1</th>\n",
              "      <td>0.833333</td>\n",
              "    </tr>\n",
              "    <tr>\n",
              "      <th>2</th>\n",
              "      <td>1.000000</td>\n",
              "    </tr>\n",
              "    <tr>\n",
              "      <th>3</th>\n",
              "      <td>0.431034</td>\n",
              "    </tr>\n",
              "    <tr>\n",
              "      <th rowspan=\"3\" valign=\"top\">man</th>\n",
              "      <th>1</th>\n",
              "      <td>0.352941</td>\n",
              "    </tr>\n",
              "    <tr>\n",
              "      <th>2</th>\n",
              "      <td>0.080808</td>\n",
              "    </tr>\n",
              "    <tr>\n",
              "      <th>3</th>\n",
              "      <td>0.119122</td>\n",
              "    </tr>\n",
              "    <tr>\n",
              "      <th rowspan=\"3\" valign=\"top\">woman</th>\n",
              "      <th>1</th>\n",
              "      <td>0.978022</td>\n",
              "    </tr>\n",
              "    <tr>\n",
              "      <th>2</th>\n",
              "      <td>0.909091</td>\n",
              "    </tr>\n",
              "    <tr>\n",
              "      <th>3</th>\n",
              "      <td>0.491228</td>\n",
              "    </tr>\n",
              "  </tbody>\n",
              "</table>\n",
              "</div>"
            ],
            "text/plain": [
              "              survived\n",
              "who   pclass          \n",
              "child 1       0.833333\n",
              "      2       1.000000\n",
              "      3       0.431034\n",
              "man   1       0.352941\n",
              "      2       0.080808\n",
              "      3       0.119122\n",
              "woman 1       0.978022\n",
              "      2       0.909091\n",
              "      3       0.491228"
            ]
          },
          "metadata": {},
          "execution_count": 34
        }
      ]
    },
    {
      "cell_type": "markdown",
      "metadata": {
        "id": "UHjJz3lNhSYW"
      },
      "source": [
        "### index에 컬럼을 중첩하지 않고 행과 열로 펼친 결과"
      ]
    },
    {
      "cell_type": "code",
      "metadata": {
        "id": "G5fxJcyahSYW",
        "colab": {
          "base_uri": "https://localhost:8080/",
          "height": 173
        },
        "outputId": "8a1ada10-0e37-4dcb-ecd7-b3c6447c39f7"
      },
      "source": [
        "# index, columns, values를 모두 지정한 피벗 테이블 지정\n",
        "# index로 'who', columns로 'pclass', values로 'survived' 사용\n",
        "df.pivot_table(values='survived', index=['who'], columns=['pclass'])"
      ],
      "execution_count": 35,
      "outputs": [
        {
          "output_type": "execute_result",
          "data": {
            "text/html": [
              "<div>\n",
              "<style scoped>\n",
              "    .dataframe tbody tr th:only-of-type {\n",
              "        vertical-align: middle;\n",
              "    }\n",
              "\n",
              "    .dataframe tbody tr th {\n",
              "        vertical-align: top;\n",
              "    }\n",
              "\n",
              "    .dataframe thead th {\n",
              "        text-align: right;\n",
              "    }\n",
              "</style>\n",
              "<table border=\"1\" class=\"dataframe\">\n",
              "  <thead>\n",
              "    <tr style=\"text-align: right;\">\n",
              "      <th>pclass</th>\n",
              "      <th>1</th>\n",
              "      <th>2</th>\n",
              "      <th>3</th>\n",
              "    </tr>\n",
              "    <tr>\n",
              "      <th>who</th>\n",
              "      <th></th>\n",
              "      <th></th>\n",
              "      <th></th>\n",
              "    </tr>\n",
              "  </thead>\n",
              "  <tbody>\n",
              "    <tr>\n",
              "      <th>child</th>\n",
              "      <td>0.833333</td>\n",
              "      <td>1.000000</td>\n",
              "      <td>0.431034</td>\n",
              "    </tr>\n",
              "    <tr>\n",
              "      <th>man</th>\n",
              "      <td>0.352941</td>\n",
              "      <td>0.080808</td>\n",
              "      <td>0.119122</td>\n",
              "    </tr>\n",
              "    <tr>\n",
              "      <th>woman</th>\n",
              "      <td>0.978022</td>\n",
              "      <td>0.909091</td>\n",
              "      <td>0.491228</td>\n",
              "    </tr>\n",
              "  </tbody>\n",
              "</table>\n",
              "</div>"
            ],
            "text/plain": [
              "pclass         1         2         3\n",
              "who                                 \n",
              "child   0.833333  1.000000  0.431034\n",
              "man     0.352941  0.080808  0.119122\n",
              "woman   0.978022  0.909091  0.491228"
            ]
          },
          "metadata": {},
          "execution_count": 35
        }
      ]
    },
    {
      "cell_type": "markdown",
      "metadata": {
        "id": "eEsBWeYZhSYW"
      },
      "source": [
        "### 다중 통계함수 적용"
      ]
    },
    {
      "cell_type": "code",
      "metadata": {
        "id": "sXjh77UHhSYW",
        "colab": {
          "base_uri": "https://localhost:8080/",
          "height": 204
        },
        "outputId": "f6c94017-6780-45ae-d5ad-e6a2a157ebe3"
      },
      "source": [
        "# index, columns, values를 모두 지정한 피벗 테이블 지정\n",
        "# index로 'who', columns로 'pclass', values로 'survived' 사용\n",
        "# 적용함수로 합계와 평균('sum', 'mean') 을 지정합니다.  (목록은 리스트 사용)\n",
        "df.pivot_table(index='who', columns='pclass', values='survived', aggfunc=['sum','mean'])"
      ],
      "execution_count": 36,
      "outputs": [
        {
          "output_type": "execute_result",
          "data": {
            "text/html": [
              "<div>\n",
              "<style scoped>\n",
              "    .dataframe tbody tr th:only-of-type {\n",
              "        vertical-align: middle;\n",
              "    }\n",
              "\n",
              "    .dataframe tbody tr th {\n",
              "        vertical-align: top;\n",
              "    }\n",
              "\n",
              "    .dataframe thead tr th {\n",
              "        text-align: left;\n",
              "    }\n",
              "\n",
              "    .dataframe thead tr:last-of-type th {\n",
              "        text-align: right;\n",
              "    }\n",
              "</style>\n",
              "<table border=\"1\" class=\"dataframe\">\n",
              "  <thead>\n",
              "    <tr>\n",
              "      <th></th>\n",
              "      <th colspan=\"3\" halign=\"left\">sum</th>\n",
              "      <th colspan=\"3\" halign=\"left\">mean</th>\n",
              "    </tr>\n",
              "    <tr>\n",
              "      <th>pclass</th>\n",
              "      <th>1</th>\n",
              "      <th>2</th>\n",
              "      <th>3</th>\n",
              "      <th>1</th>\n",
              "      <th>2</th>\n",
              "      <th>3</th>\n",
              "    </tr>\n",
              "    <tr>\n",
              "      <th>who</th>\n",
              "      <th></th>\n",
              "      <th></th>\n",
              "      <th></th>\n",
              "      <th></th>\n",
              "      <th></th>\n",
              "      <th></th>\n",
              "    </tr>\n",
              "  </thead>\n",
              "  <tbody>\n",
              "    <tr>\n",
              "      <th>child</th>\n",
              "      <td>5</td>\n",
              "      <td>19</td>\n",
              "      <td>25</td>\n",
              "      <td>0.833333</td>\n",
              "      <td>1.000000</td>\n",
              "      <td>0.431034</td>\n",
              "    </tr>\n",
              "    <tr>\n",
              "      <th>man</th>\n",
              "      <td>42</td>\n",
              "      <td>8</td>\n",
              "      <td>38</td>\n",
              "      <td>0.352941</td>\n",
              "      <td>0.080808</td>\n",
              "      <td>0.119122</td>\n",
              "    </tr>\n",
              "    <tr>\n",
              "      <th>woman</th>\n",
              "      <td>89</td>\n",
              "      <td>60</td>\n",
              "      <td>56</td>\n",
              "      <td>0.978022</td>\n",
              "      <td>0.909091</td>\n",
              "      <td>0.491228</td>\n",
              "    </tr>\n",
              "  </tbody>\n",
              "</table>\n",
              "</div>"
            ],
            "text/plain": [
              "       sum              mean                    \n",
              "pclass   1   2   3         1         2         3\n",
              "who                                             \n",
              "child    5  19  25  0.833333  1.000000  0.431034\n",
              "man     42   8  38  0.352941  0.080808  0.119122\n",
              "woman   89  60  56  0.978022  0.909091  0.491228"
            ]
          },
          "metadata": {},
          "execution_count": 36
        }
      ]
    }
  ]
}